{
 "cells": [
  {
   "cell_type": "code",
   "execution_count": 1,
   "metadata": {},
   "outputs": [],
   "source": [
    "%matplotlib inline\n",
    "%load_ext autoreload\n",
    "%autoreload 2\n",
    "\n",
    "import warnings\n",
    "warnings.filterwarnings(\"ignore\")"
   ]
  },
  {
   "cell_type": "markdown",
   "metadata": {
    "collapsed": true,
    "pycharm": {
     "name": "#%% md\n"
    }
   },
   "source": [
    "class: center, middle\n",
    "\n",
    "# DEMOPS: Roll decay\n",
    "## Status 2020-02-27\n",
    "---\n",
    "\n",
    "### The work has been focused on:\n",
    "--\n",
    "\n",
    "### Building a roll decay DB\n",
    "* SQL database with MDL model tests 2007-2020</li>\n",
    "\n",
    "--\n",
    "\n",
    "### Measure Rolldamping\n",
    "* System identification of roll decay test\n",
    "* Four methods have been tested\n",
    "\n",
    "--\n",
    "\n",
    "### Building roll damping DB\n",
    "* System identification of roll decay DB\n"
   ]
  },
  {
   "cell_type": "markdown",
   "metadata": {},
   "source": [
    "---\n",
    "name: DB\n",
    "## Building a roll decay DB\n",
    "---\n",
    "template: DB\n",
    "<img src=\"mdl_db.png\" alt=\"drawing\" height=\"550\"/>\n"
   ]
  },
  {
   "cell_type": "code",
   "execution_count": 2,
   "metadata": {},
   "outputs": [],
   "source": [
    "from sqlalchemy import create_engine\n",
    "import data\n",
    "from mdldb.mdl_db import MDLDataBase\n",
    "from mdldb.tables import Base, Model, LoadingCondition, Run, RolldecayLinear, RolldecayDirect, RolldecayNorwegian\n",
    "import pandas as pd\n",
    "from sympy.physics.vector.printing import vpprint, vlatex\n",
    "from IPython.display import display, Math, Latex, Markdown\n",
    "\n",
    "engine = create_engine('sqlite:///' + data.mdl_db_path)\n",
    "db = MDLDataBase(engine=engine)\n",
    "\n",
    "df = pd.read_sql_table(table_name='run', con=engine, index_col='id')"
   ]
  },
  {
   "cell_type": "markdown",
   "metadata": {},
   "source": [
    "---\n",
    "template: DB\n",
    "\n",
    "### MDL DB"
   ]
  },
  {
   "cell_type": "code",
   "execution_count": 3,
   "metadata": {},
   "outputs": [
    {
     "data": {
      "text/markdown": [
       "The database from MDL currently contains *21243* tests conducted between **2005** and **2017**.\n"
      ],
      "text/plain": [
       "<IPython.core.display.Markdown object>"
      ]
     },
     "execution_count": 3,
     "metadata": {},
     "output_type": "execute_result"
    }
   ],
   "source": [
    "s = \"\"\"The database from MDL currently contains *%i* tests conducted between **%i** and **%i**.\n",
    "\"\"\"  % (len(df),\n",
    "df['date'].min().year,\n",
    "df['date'].max().year,)\n",
    "Markdown(s)"
   ]
  },
  {
   "cell_type": "markdown",
   "metadata": {},
   "source": [
    "--"
   ]
  },
  {
   "cell_type": "code",
   "execution_count": 4,
   "metadata": {},
   "outputs": [
    {
     "data": {
      "text/markdown": [
       "<u>Test types:</u> seakeeping, GM, reference speed, **roll decay**, zigzag, turning circle, u turn, spiral, bollard pull, captive, crash stop, wave calibration, pitch decay, surge decay, sway decay, softmooring, williamson turn, heave decay, yaw decay,\n"
      ],
      "text/plain": [
       "<IPython.core.display.Markdown object>"
      ]
     },
     "execution_count": 4,
     "metadata": {},
     "output_type": "execute_result"
    }
   ],
   "source": [
    "exclude = ['smeg','prepare','rodergrundvinkel','rerun','unknown','none standard','teckenkoll']\n",
    "emphase = ['roll decay']\n",
    "\n",
    "test_type_s=''\n",
    "for test_type in df['test_type'].unique():\n",
    "    if test_type in exclude:\n",
    "        continue\n",
    "    \n",
    "    if test_type in emphase:\n",
    "        output = '**%s**' % test_type\n",
    "    else:\n",
    "        output = test_type\n",
    "    \n",
    "    test_type_s+=' %s,' % output\n",
    "\n",
    "s = \"\"\"<u>Test types:</u>%s\n",
    "\"\"\"  % (test_type_s)\n",
    "Markdown(s)"
   ]
  },
  {
   "cell_type": "markdown",
   "metadata": {},
   "source": [
    "--"
   ]
  },
  {
   "cell_type": "code",
   "execution_count": 5,
   "metadata": {},
   "outputs": [
    {
     "data": {
      "text/markdown": [
       "**407** of the tests are roll decay tests "
      ],
      "text/plain": [
       "<IPython.core.display.Markdown object>"
      ]
     },
     "execution_count": 5,
     "metadata": {},
     "output_type": "execute_result"
    }
   ],
   "source": [
    "number_of_rolldecay = (df['test_type']=='roll decay').sum()\n",
    "s = \"\"\"**%i** of the tests are roll decay tests \"\"\" % number_of_rolldecay\n",
    "Markdown(s)"
   ]
  },
  {
   "cell_type": "code",
   "execution_count": 6,
   "metadata": {
    "pycharm": {
     "is_executing": false,
     "name": "#%%\n"
    }
   },
   "outputs": [],
   "source": [
    "import sympy as sp\n",
    "from rolldecayestimators.symbols import *\n",
    "import rolldecayestimators.equations as equations\n",
    "import rolldecayestimators.direct_estimator as direct_estimator\n",
    "import rolldecayestimators.direct_linear_estimator as direct_linear_estimator\n",
    "import rolldecayestimators.direct_estimator_improved as direct_estimator_improved\n",
    "\n",
    "\n",
    "from latex_helpers import pylatex_extenders\n",
    "import latex_helpers\n",
    "import os.path\n",
    "from rigidbodysimulator.substitute_dynamic_symbols import substitute_dynamic_symbols, find_name, find_derivative_name, lambdify, find_derivatives\n",
    "import dill"
   ]
  },
  {
   "cell_type": "markdown",
   "metadata": {},
   "source": [
    "---\n",
    "name: equations\n",
    "## Measure Rolldamping\n",
    "---\n",
    "template: equations\n",
    "\n",
    "### General equation for roll decay motion:"
   ]
  },
  {
   "cell_type": "code",
   "execution_count": 7,
   "metadata": {},
   "outputs": [
    {
     "data": {
      "text/latex": [
       "$\\displaystyle B \\dot{\\phi} + I \\ddot{\\phi} + g m \\operatorname{GZ}\\left(\\phi\\right) = M_{x}$"
      ],
      "text/plain": [
       "<IPython.core.display.Math object>"
      ]
     },
     "execution_count": 7,
     "metadata": {},
     "output_type": "execute_result"
    }
   ],
   "source": [
    "Math(vlatex(equations.roll_equation_general))"
   ]
  },
  {
   "cell_type": "markdown",
   "metadata": {},
   "source": [
    "--\n",
    "\n",
    "During a roll decay test external moment is zero:\n",
    "\n",
    "--"
   ]
  },
  {
   "cell_type": "code",
   "execution_count": 8,
   "metadata": {},
   "outputs": [
    {
     "data": {
      "text/latex": [
       "$\\displaystyle B \\dot{\\phi} + I \\ddot{\\phi} + g m \\operatorname{GZ}\\left(\\phi\\right) = 0$"
      ],
      "text/plain": [
       "<IPython.core.display.Math object>"
      ]
     },
     "execution_count": 8,
     "metadata": {},
     "output_type": "execute_result"
    }
   ],
   "source": [
    "Math(vlatex(equations.roll_decay_equation_general))"
   ]
  },
  {
   "cell_type": "markdown",
   "metadata": {},
   "source": [
    "--\n",
    "\n",
    "### Linear model\n",
    "\n",
    "Linearizing the stiffness (ship static stability)\n",
    "\n",
    "--\n"
   ]
  },
  {
   "cell_type": "code",
   "execution_count": 9,
   "metadata": {},
   "outputs": [
    {
     "data": {
      "text/latex": [
       "$\\displaystyle \\operatorname{GZ}\\left(\\phi\\right) = GM \\phi$"
      ],
      "text/plain": [
       "<IPython.core.display.Math object>"
      ]
     },
     "execution_count": 9,
     "metadata": {},
     "output_type": "execute_result"
    }
   ],
   "source": [
    "latex = vlatex(equations.linear_stiffness_equation)\n",
    "Math(latex)"
   ]
  },
  {
   "cell_type": "markdown",
   "metadata": {},
   "source": [
    "--\n",
    "\n",
    "Linear roll decay equation:"
   ]
  },
  {
   "cell_type": "code",
   "execution_count": 10,
   "metadata": {},
   "outputs": [
    {
     "data": {
      "text/latex": [
       "$\\displaystyle B \\dot{\\phi} + GM g m \\phi + I \\ddot{\\phi} = 0$"
      ],
      "text/plain": [
       "<IPython.core.display.Math object>"
      ]
     },
     "execution_count": 10,
     "metadata": {},
     "output_type": "execute_result"
    }
   ],
   "source": [
    "Math(vlatex(equations.roll_decay_linear_equation))"
   ]
  },
  {
   "cell_type": "markdown",
   "metadata": {},
   "source": [
    "---\n",
    "template: equations\n",
    "\n",
    "Damping term $ B $ can be linear:"
   ]
  },
  {
   "cell_type": "code",
   "execution_count": 11,
   "metadata": {},
   "outputs": [
    {
     "data": {
      "text/latex": [
       "$\\displaystyle B = \\zeta$"
      ],
      "text/plain": [
       "<IPython.core.display.Math object>"
      ]
     },
     "execution_count": 11,
     "metadata": {},
     "output_type": "execute_result"
    }
   ],
   "source": [
    "Math(vlatex(sp.Eq(B,zeta)))"
   ]
  },
  {
   "cell_type": "markdown",
   "metadata": {},
   "source": [
    "--\n",
    "\n",
    "or quadratic:"
   ]
  },
  {
   "cell_type": "code",
   "execution_count": 12,
   "metadata": {},
   "outputs": [
    {
     "data": {
      "text/latex": [
       "$\\displaystyle B = d \\left|{\\dot{\\phi}}\\right| + \\zeta$"
      ],
      "text/plain": [
       "<IPython.core.display.Math object>"
      ]
     },
     "execution_count": 12,
     "metadata": {},
     "output_type": "execute_result"
    }
   ],
   "source": [
    "Math(vlatex(sp.Eq(B,zeta+d*sp.Abs(phi_dot))))"
   ]
  },
  {
   "cell_type": "markdown",
   "metadata": {},
   "source": [
    "---\n",
    "name: nonlinearity\n",
    "## Damping nonlinearity\n",
    "---\n",
    "template: nonlinearity\n",
    "The linear model is sometimes too simple:\n",
    "<img src=\"nonlinearity.png\" alt=\"drawing\" width=800/>\n",
    "\n",
    "---\n",
    "template: nonlinearity"
   ]
  },
  {
   "cell_type": "code",
   "execution_count": 13,
   "metadata": {},
   "outputs": [
    {
     "data": {
      "text/markdown": [
       "Adding quadratic damping: $B = d \\left|{\\dot{\\phi}}\\right| + \\zeta$"
      ],
      "text/plain": [
       "<IPython.core.display.Markdown object>"
      ]
     },
     "execution_count": 13,
     "metadata": {},
     "output_type": "execute_result"
    }
   ],
   "source": [
    "s=\"\"\"Adding quadratic damping: $%s$\"\"\" % vlatex(sp.Eq(B,zeta+d*sp.Abs(phi_dot)))\n",
    "Markdown(s)"
   ]
  },
  {
   "cell_type": "markdown",
   "metadata": {},
   "source": [
    "<img src=\"nonlinearity_quadratic.png\" alt=\"drawing\" width=800/>\n",
    "\n",
    "---\n",
    "template: nonlinearity\n",
    "<img src=\"nonlinearity_sweep.png\" alt=\"drawing\" height=450 width=800/>\n",
    "\n",
    "--\n",
    "\n",
    "* linear model has low score when including large angles\n",
    "\n",
    "--\n",
    "* linear model damping $\\zeta$ increase for large angles\n",
    "\n",
    "--\n",
    "* for quadratic model $d$ increase instead\n",
    "\n"
   ]
  },
  {
   "cell_type": "markdown",
   "metadata": {},
   "source": [
    "---\n",
    "name: varying-stiffness\n",
    "## Varying stiffness\n",
    "\n",
    "---\n",
    "template: varying-stiffness\n",
    "The linear stiffness assumption is not valid for all ships at large roll angles:\n",
    "\n",
    "---\n",
    "template: varying-stiffness"
   ]
  },
  {
   "cell_type": "code",
   "execution_count": 14,
   "metadata": {},
   "outputs": [
    {
     "data": {
      "text/latex": [
       "$\\displaystyle \\operatorname{GZ}\\left(\\phi\\right) = GM \\phi$"
      ],
      "text/plain": [
       "<IPython.core.display.Math object>"
      ]
     },
     "execution_count": 14,
     "metadata": {},
     "output_type": "execute_result"
    }
   ],
   "source": [
    "Math(vlatex(equations.linear_stiffness_equation))"
   ]
  },
  {
   "cell_type": "markdown",
   "metadata": {},
   "source": [
    "<img src=\"varying_stiffness.png\" alt=\"drawing\" width=800/>\n",
    "---\n",
    "template: varying-stiffness\n",
    "\n",
    "### Natural frequency $ \\omega_0 $ for each oscillation\n",
    "<img src=\"varying_stiffness2.png\" alt=\"drawing\" width=800/>\n",
    "\n",
    "---\n",
    "template: varying-stiffness\n",
    "\n",
    "### Adding a quadratic term to the stiffness:"
   ]
  },
  {
   "cell_type": "code",
   "execution_count": 15,
   "metadata": {},
   "outputs": [
    {
     "data": {
      "text/latex": [
       "$\\displaystyle \\operatorname{GZ}\\left(\\phi\\right) = GM \\phi + dGM \\phi \\left|{\\phi}\\right|$"
      ],
      "text/plain": [
       "<IPython.core.display.Math object>"
      ]
     },
     "execution_count": 15,
     "metadata": {},
     "output_type": "execute_result"
    }
   ],
   "source": [
    "Math(vlatex(equations.quadratic_stiffness_equation))"
   ]
  },
  {
   "cell_type": "markdown",
   "metadata": {},
   "source": [
    "<img src=\"varying_stiffness3.png\" alt=\"drawing\" width=800/>"
   ]
  },
  {
   "cell_type": "markdown",
   "metadata": {},
   "source": [
    "---\n",
    "name: building-roll-damping-DB\n",
    "## Building roll damping DB\n",
    "---"
   ]
  },
  {
   "cell_type": "code",
   "execution_count": 16,
   "metadata": {},
   "outputs": [
    {
     "data": {
      "text/markdown": [
       "\n",
       "template: building-roll-damping-DB\n",
       ".right[![Right-aligned image](histogram_zeta.png)]\n",
       "---\n",
       "\n",
       "template: building-roll-damping-DB\n",
       ".right[![Right-aligned image](histogram_d.png)]\n",
       "---\n",
       "\n",
       "template: building-roll-damping-DB\n",
       ".right[![Right-aligned image](histogram_mean_damping.png)]\n",
       "---\n",
       "\n",
       "template: building-roll-damping-DB\n",
       ".right[![Right-aligned image](histogram_omega0.png)]\n",
       "---\n",
       "\n",
       "template: building-roll-damping-DB\n",
       ".right[![Right-aligned image](histogram_score.png)]\n",
       "---\n"
      ],
      "text/plain": [
       "<IPython.core.display.Markdown object>"
      ]
     },
     "execution_count": 16,
     "metadata": {},
     "output_type": "execute_result"
    }
   ],
   "source": [
    "plots = ['zeta','d','mean_damping','omega0','score']\n",
    "s = ''\n",
    "for plot in plots:\n",
    "    code = \"\"\"\n",
    "template: building-roll-damping-DB\n",
    ".right[![Right-aligned image](histogram_%s.png)]\n",
    "---\n",
    "\"\"\" % plot\n",
    "    s+=code\n",
    "    \n",
    "Markdown(s)\n",
    "\n"
   ]
  },
  {
   "cell_type": "markdown",
   "metadata": {},
   "source": [
    "## Next steps\n",
    "\n",
    "--\n",
    "\n",
    "### Regression on roll damping DB\n",
    "--\n",
    "\n",
    "### Ikeda method to predict roll damping\n",
    "--\n",
    "\n",
    "### Gather more meta data\n",
    "* Bilge keels\n",
    "* Inertia\n",
    "* Hull form (probably takes too much time)\n",
    "\n",
    "--\n",
    "\n",
    "### Start writing paper\n",
    "\n",
    "\n"
   ]
  },
  {
   "cell_type": "markdown",
   "metadata": {},
   "source": [
    "---\n",
    "class: center, middle\n",
    "## End"
   ]
  }
 ],
 "metadata": {
  "kernelspec": {
   "display_name": "Python 3",
   "language": "python",
   "name": "python3"
  },
  "language_info": {
   "codemirror_mode": {
    "name": "ipython",
    "version": 3
   },
   "file_extension": ".py",
   "mimetype": "text/x-python",
   "name": "python",
   "nbconvert_exporter": "python",
   "pygments_lexer": "ipython3",
   "version": "3.5.3"
  },
  "pycharm": {
   "stem_cell": {
    "cell_type": "raw",
    "metadata": {
     "collapsed": false
    },
    "source": []
   }
  }
 },
 "nbformat": 4,
 "nbformat_minor": 1
}
