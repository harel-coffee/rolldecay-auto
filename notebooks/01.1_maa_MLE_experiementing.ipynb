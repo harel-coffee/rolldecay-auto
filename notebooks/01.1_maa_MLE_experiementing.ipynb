{
 "cells": [
  {
   "cell_type": "markdown",
   "metadata": {},
   "source": [
    "# Experiementing with Maximum Likelihood Parameter Estimation (MLE)"
   ]
  },
  {
   "cell_type": "code",
   "execution_count": 1,
   "metadata": {},
   "outputs": [],
   "source": [
    "import numpy as np, pandas as pd\n",
    "from matplotlib import pyplot as plt\n",
    "import seaborn as sns\n",
    "from scipy.optimize import minimize\n",
    "import scipy.stats as stats\n",
    "import statsmodels.api as sm\n",
    "from statsmodels.base.model import GenericLikelihoodModel"
   ]
  },
  {
   "cell_type": "markdown",
   "metadata": {},
   "source": [
    "## Generate data"
   ]
  },
  {
   "cell_type": "code",
   "execution_count": 2,
   "metadata": {},
   "outputs": [],
   "source": [
    "N = 100\n",
    "x = np.linspace(0,20,N)\n",
    "ϵ = np.random.normal(loc = 0.0, scale = 5.0, size = N)\n",
    "y = 3*x + ϵ\n",
    "df = pd.DataFrame({'y':y, 'x':x})\n",
    "df['constant'] = 1"
   ]
  },
  {
   "cell_type": "code",
   "execution_count": 3,
   "metadata": {},
   "outputs": [
    {
     "data": {
      "image/png": "[encoded data removed]",
      "text/plain": [
       "<Figure size 432x288 with 1 Axes>"
      ]
     },
     "metadata": {
      "needs_background": "light"
     },
     "output_type": "display_data"
    }
   ],
   "source": [
    "sns.regplot(df.x, df.y);"
   ]
  },
  {
   "cell_type": "code",
   "execution_count": 16,
   "metadata": {},
   "outputs": [],
   "source": [
    "X = np.array(df[['constant', 'x']])"
   ]
  },
  {
   "cell_type": "markdown",
   "metadata": {},
   "source": [
    "## fit model and summarize"
   ]
  },
  {
   "cell_type": "code",
   "execution_count": 17,
   "metadata": {},
   "outputs": [
    {
     "data": {
      "text/html": [
       "<table class=\"simpletable\">\n",
       "<caption>OLS Regression Results</caption>\n",
       "<tr>\n",
       "  <th>Dep. Variable:</th>            <td>y</td>        <th>  R-squared:         </th> <td>   0.920</td>\n",
       "</tr>\n",
       "<tr>\n",
       "  <th>Model:</th>                   <td>OLS</td>       <th>  Adj. R-squared:    </th> <td>   0.919</td>\n",
       "</tr>\n",
       "<tr>\n",
       "  <th>Method:</th>             <td>Least Squares</td>  <th>  F-statistic:       </th> <td>   1127.</td>\n",
       "</tr>\n",
       "<tr>\n",
       "  <th>Date:</th>             <td>Wed, 22 Jan 2020</td> <th>  Prob (F-statistic):</th> <td>1.47e-55</td>\n",
       "</tr>\n",
       "<tr>\n",
       "  <th>Time:</th>                 <td>16:28:34</td>     <th>  Log-Likelihood:    </th> <td> -301.73</td>\n",
       "</tr>\n",
       "<tr>\n",
       "  <th>No. Observations:</th>      <td>   100</td>      <th>  AIC:               </th> <td>   607.5</td>\n",
       "</tr>\n",
       "<tr>\n",
       "  <th>Df Residuals:</th>          <td>    98</td>      <th>  BIC:               </th> <td>   612.7</td>\n",
       "</tr>\n",
       "<tr>\n",
       "  <th>Df Model:</th>              <td>     1</td>      <th>                     </th>     <td> </td>   \n",
       "</tr>\n",
       "<tr>\n",
       "  <th>Covariance Type:</th>      <td>nonrobust</td>    <th>                     </th>     <td> </td>   \n",
       "</tr>\n",
       "</table>\n",
       "<table class=\"simpletable\">\n",
       "<tr>\n",
       "    <td></td>       <th>coef</th>     <th>std err</th>      <th>t</th>      <th>P>|t|</th>  <th>[0.025</th>    <th>0.975]</th>  \n",
       "</tr>\n",
       "<tr>\n",
       "  <th>const</th> <td>    0.5279</td> <td>    0.992</td> <td>    0.532</td> <td> 0.596</td> <td>   -1.440</td> <td>    2.496</td>\n",
       "</tr>\n",
       "<tr>\n",
       "  <th>x1</th>    <td>    2.8759</td> <td>    0.086</td> <td>   33.576</td> <td> 0.000</td> <td>    2.706</td> <td>    3.046</td>\n",
       "</tr>\n",
       "</table>\n",
       "<table class=\"simpletable\">\n",
       "<tr>\n",
       "  <th>Omnibus:</th>       <td> 0.243</td> <th>  Durbin-Watson:     </th> <td>   2.065</td>\n",
       "</tr>\n",
       "<tr>\n",
       "  <th>Prob(Omnibus):</th> <td> 0.885</td> <th>  Jarque-Bera (JB):  </th> <td>   0.423</td>\n",
       "</tr>\n",
       "<tr>\n",
       "  <th>Skew:</th>          <td> 0.041</td> <th>  Prob(JB):          </th> <td>   0.809</td>\n",
       "</tr>\n",
       "<tr>\n",
       "  <th>Kurtosis:</th>      <td> 2.692</td> <th>  Cond. No.          </th> <td>    23.1</td>\n",
       "</tr>\n",
       "</table><br/><br/>Warnings:<br/>[1] Standard Errors assume that the covariance matrix of the errors is correctly specified."
      ],
      "text/plain": [
       "<class 'statsmodels.iolib.summary.Summary'>\n",
       "\"\"\"\n",
       "                            OLS Regression Results                            \n",
       "==============================================================================\n",
       "Dep. Variable:                      y   R-squared:                       0.920\n",
       "Model:                            OLS   Adj. R-squared:                  0.919\n",
       "Method:                 Least Squares   F-statistic:                     1127.\n",
       "Date:                Wed, 22 Jan 2020   Prob (F-statistic):           1.47e-55\n",
       "Time:                        16:28:34   Log-Likelihood:                -301.73\n",
       "No. Observations:                 100   AIC:                             607.5\n",
       "Df Residuals:                      98   BIC:                             612.7\n",
       "Df Model:                           1                                         \n",
       "Covariance Type:            nonrobust                                         \n",
       "==============================================================================\n",
       "                 coef    std err          t      P>|t|      [0.025      0.975]\n",
       "------------------------------------------------------------------------------\n",
       "const          0.5279      0.992      0.532      0.596      -1.440       2.496\n",
       "x1             2.8759      0.086     33.576      0.000       2.706       3.046\n",
       "==============================================================================\n",
       "Omnibus:                        0.243   Durbin-Watson:                   2.065\n",
       "Prob(Omnibus):                  0.885   Jarque-Bera (JB):                0.423\n",
       "Skew:                           0.041   Prob(JB):                        0.809\n",
       "Kurtosis:                       2.692   Cond. No.                         23.1\n",
       "==============================================================================\n",
       "\n",
       "Warnings:\n",
       "[1] Standard Errors assume that the covariance matrix of the errors is correctly specified.\n",
       "\"\"\""
      ]
     },
     "execution_count": 17,
     "metadata": {},
     "output_type": "execute_result"
    }
   ],
   "source": [
    "sm.OLS(y,X).fit().summary()"
   ]
  },
  {
   "cell_type": "markdown",
   "metadata": {},
   "source": [
    "## Maximum Likelihood "
   ]
  },
  {
   "cell_type": "markdown",
   "metadata": {},
   "source": [
    "### define likelihood function\n"
   ]
  },
  {
   "cell_type": "code",
   "execution_count": 18,
   "metadata": {},
   "outputs": [],
   "source": [
    "def MLERegression(params):\n",
    "    intercept, beta, std = params[0], params[1], params[2] # inputs are guesses at our parameters\n",
    "    yhat = intercept + beta*x # predictions\n",
    "    \n",
    "    # next, we flip the Bayesian question\n",
    "    # compute PDF of observed values normally distributed around mean (yhat)\n",
    "    # with a standard deviation of sd\n",
    "    negLL = -np.sum( stats.norm.logpdf(y, loc=yhat, scale=std) )\n",
    "    # return negative LL\n",
    "    return(negLL)"
   ]
  },
  {
   "cell_type": "code",
   "execution_count": 19,
   "metadata": {},
   "outputs": [
    {
     "name": "stdout",
     "output_type": "stream",
     "text": [
      "Optimization terminated successfully.\n",
      "         Current function value: 301.726672\n",
      "         Iterations: 98\n",
      "         Function evaluations: 173\n"
     ]
    }
   ],
   "source": [
    "# let’s start with some random coefficient guesses and optimize\n",
    "guess = np.array([5,5,2])\n",
    "results = minimize(MLERegression, guess, method = 'Nelder-Mead', \n",
    "          options={'disp': True})"
   ]
  },
  {
   "cell_type": "code",
   "execution_count": 20,
   "metadata": {},
   "outputs": [
    {
     "data": {
      "text/plain": [
       " final_simplex: (array([[0.52789908, 2.87590985, 4.94476159],\n",
       "       [0.52798887, 2.87590151, 4.94477837],\n",
       "       [0.52792967, 2.87590022, 4.94475339],\n",
       "       [0.52789534, 2.87590965, 4.94479709]]), array([301.72667248, 301.72667249, 301.72667249, 301.72667249]))\n",
       "           fun: 301.7266724843189\n",
       "       message: 'Optimization terminated successfully.'\n",
       "          nfev: 173\n",
       "           nit: 98\n",
       "        status: 0\n",
       "       success: True\n",
       "             x: array([0.52789908, 2.87590985, 4.94476159])"
      ]
     },
     "execution_count": 20,
     "metadata": {},
     "output_type": "execute_result"
    }
   ],
   "source": [
    "results"
   ]
  },
  {
   "cell_type": "code",
   "execution_count": 21,
   "metadata": {},
   "outputs": [],
   "source": [
    "coefficients = results['x'][0:-1] "
   ]
  },
  {
   "cell_type": "code",
   "execution_count": 25,
   "metadata": {},
   "outputs": [],
   "source": [
    "y_pred = X.dot(coefficients)"
   ]
  },
  {
   "cell_type": "code",
   "execution_count": 29,
   "metadata": {},
   "outputs": [
    {
     "data": {
      "text/plain": [
       "[<matplotlib.lines.Line2D at 0x13d912d0>]"
      ]
     },
     "execution_count": 29,
     "metadata": {},
     "output_type": "execute_result"
    },
    {
     "data": {
      "image/png": "[encoded data removed]",
      "text/plain": [
       "<Figure size 432x288 with 1 Axes>"
      ]
     },
     "metadata": {
      "needs_background": "light"
     },
     "output_type": "display_data"
    }
   ],
   "source": [
    "fig,ax = plt.subplots()\n",
    "df.plot(x='x', y='y', ax=ax, style = '.')\n",
    "ax.plot(x, y_pred,'r-')"
   ]
  },
  {
   "cell_type": "code",
   "execution_count": null,
   "metadata": {},
   "outputs": [],
   "source": []
  }
 ],
 "metadata": {
  "kernelspec": {
   "display_name": "Python 3",
   "language": "python",
   "name": "python3"
  },
  "language_info": {
   "codemirror_mode": {
    "name": "ipython",
    "version": 3
   },
   "file_extension": ".py",
   "mimetype": "text/x-python",
   "name": "python",
   "nbconvert_exporter": "python",
   "pygments_lexer": "ipython3",
   "version": "3.5.4"
  }
 },
 "nbformat": 4,
 "nbformat_minor": 4
}
