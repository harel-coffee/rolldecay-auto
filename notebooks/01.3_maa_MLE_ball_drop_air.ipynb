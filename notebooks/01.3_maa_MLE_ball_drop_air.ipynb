{
 "cells": [
  {
   "cell_type": "markdown",
   "metadata": {},
   "source": [
    "# Experimenting with Maximum Likelihood Parameter Estimation (MLE)\n",
    "Ball drop air"
   ]
  },
  {
   "cell_type": "code",
   "execution_count": null,
   "metadata": {
    "pycharm": {
     "is_executing": false
    }
   },
   "outputs": [],
   "source": [
    "import numpy as np, pandas as pd\n",
    "from matplotlib import pyplot as plt\n",
    "import seaborn as sns\n",
    "from scipy.optimize import minimize\n",
    "import scipy.stats as stats\n",
    "import statsmodels.api as sm\n",
    "from statsmodels.base.model import GenericLikelihoodModel\n",
    "from scipy.integrate import odeint"
   ]
  },
  {
   "cell_type": "markdown",
   "metadata": {},
   "source": [
    "## Generate data for a ball drop"
   ]
  },
  {
   "cell_type": "code",
   "execution_count": null,
   "metadata": {
    "pycharm": {
     "is_executing": false
    }
   },
   "outputs": [],
   "source": [
    "def calculate_force(g, m, cd, u):\n",
    "    return g*m - cd*u**2\n",
    "    \n",
    "def calculate_acceleration(g, cd, m, u):\n",
    "    return calculate_force(g=g, m=m, cd=cd, u=u)/m\n",
    "\n",
    "def ball_drop_air(states, t, g, m, cd):\n",
    "    \n",
    "    # states:\n",
    "    # [x,u]\n",
    "        \n",
    "    x = states[0]\n",
    "    u = states[1]\n",
    "    dxdt = u\n",
    "    \n",
    "    dudt = calculate_acceleration(g=g, cd=cd, m=m, u=u)\n",
    "    \n",
    "    d_states_dt = np.array([dxdt,dudt])\n",
    "    \n",
    "    return d_states_dt"
   ]
  },
  {
   "cell_type": "code",
   "execution_count": null,
   "metadata": {
    "pycharm": {
     "is_executing": false
    }
   },
   "outputs": [],
   "source": [
    "def simulate(x0,v0, t, g, m, cd):\n",
    "    states_0 = [x0,v0]\n",
    "    states = odeint(func = ball_drop_air,y0 = states_0,t = t,args=(g,m,cd))\n",
    "    return states"
   ]
  },
  {
   "cell_type": "code",
   "execution_count": null,
   "metadata": {
    "pycharm": {
     "is_executing": false
    }
   },
   "outputs": [],
   "source": [
    "df_parameters = pd.DataFrame()\n",
    "parameters_correct = {\n",
    "    'g':9.81,\n",
    "    'm':2,\n",
    "    'cd':0.05,  \n",
    "    'x0':0,\n",
    "    'v0':0,\n",
    "}\n",
    "parameters_correct = pd.Series(data=parameters_correct, name='correct')\n",
    "df_parameters = df_parameters.append(parameters_correct)"
   ]
  },
  {
   "cell_type": "code",
   "execution_count": null,
   "metadata": {
    "pycharm": {
     "is_executing": false
    }
   },
   "outputs": [],
   "source": [
    "t = np.linspace(0,5,1000)\n",
    "states = simulate(t = t, **parameters_correct)"
   ]
  },
  {
   "cell_type": "code",
   "execution_count": null,
   "metadata": {
    "pycharm": {
     "is_executing": false
    }
   },
   "outputs": [],
   "source": [
    "x = states[:,0]\n",
    "xdot = states[:,1]\n",
    "\n",
    "df = pd.DataFrame({'x':x, 'xdot':xdot}, index=t)\n",
    "                   "
   ]
  },
  {
   "cell_type": "code",
   "execution_count": null,
   "metadata": {
    "pycharm": {
     "is_executing": false
    }
   },
   "outputs": [],
   "source": [
    "df['xdotdot']=calculate_acceleration(**parameters_correct[['g','m','cd']],u=xdot)"
   ]
  },
  {
   "cell_type": "code",
   "execution_count": null,
   "metadata": {
    "pycharm": {
     "is_executing": false
    }
   },
   "outputs": [],
   "source": [
    "fig,axes = plt.subplots(ncols = 3)\n",
    "fig.set_size_inches(11,5)\n",
    "ax = axes[0]\n",
    "df.plot(y='x',label = 'Ball position', ax=ax)\n",
    "ax.set_title('Ball drop')\n",
    "ax.set_xlabel('time [s]')\n",
    "ax.set_ylabel('x [m]')\n",
    "\n",
    "\n",
    "ax = axes[1]\n",
    "df.plot(y='xdot',label = 'Ball speed', ax=ax)\n",
    "ax.set_title('Ball drop')\n",
    "ax.set_xlabel('time [s]')\n",
    "ax.set_ylabel('dx/dt [m/s]')\n",
    "\n",
    "ax = axes[2]\n",
    "df.plot(y='xdotdot',label = 'Ball acceleration', ax=ax)\n",
    "ax.set_title('Ball drop')\n",
    "ax.set_xlabel('time [s]')\n",
    "ax.set_ylabel('dx2/dt [m/s]')"
   ]
  },
  {
   "cell_type": "markdown",
   "metadata": {},
   "source": [
    "## Ordinary Least Square fit (OLS)"
   ]
  },
  {
   "cell_type": "markdown",
   "metadata": {},
   "source": [
    "## Add measurement noice"
   ]
  },
  {
   "cell_type": "code",
   "execution_count": null,
   "metadata": {
    "pycharm": {
     "is_executing": false
    }
   },
   "outputs": [],
   "source": [
    "ϵ = np.random.normal(loc = 0.0, scale = 4.0, size = len(x))\n",
    "df['x_measure'] = x + ϵ"
   ]
  },
  {
   "cell_type": "code",
   "execution_count": null,
   "metadata": {
    "pycharm": {
     "is_executing": false
    }
   },
   "outputs": [],
   "source": [
    "df['xdot_measure'] = np.gradient(df['x_measure'],t)\n",
    "df['xdotdot_measure']= np.gradient(df['xdot_measure'],t)"
   ]
  },
  {
   "cell_type": "code",
   "execution_count": null,
   "metadata": {
    "pycharm": {
     "is_executing": false
    }
   },
   "outputs": [],
   "source": [
    "fig,ax = plt.subplots()\n",
    "fig.set_size_inches(11,5)\n",
    "\n",
    "df.plot(y='x', label = 'Actual ball position', ax=ax)\n",
    "df.plot(y='x_measure', label = 'Measured ball position', ax=ax)\n",
    "\n",
    "ax.set_title('Ball drop')\n",
    "ax.set_xlabel('time [s]')\n",
    "ax.set_ylabel('x [m]')\n",
    "ax.legend()"
   ]
  },
  {
   "cell_type": "code",
   "execution_count": null,
   "metadata": {
    "pycharm": {
     "is_executing": false
    }
   },
   "outputs": [],
   "source": [
    "from scipy.optimize import curve_fit\n",
    "import inspect"
   ]
  },
  {
   "cell_type": "code",
   "execution_count": null,
   "metadata": {
    "pycharm": {
     "is_executing": false
    }
   },
   "outputs": [],
   "source": [
    "def f(df,cd,g,m,x0,v0):\n",
    "      \n",
    "        \n",
    "    states = simulate(x0, v0, t, g, m, cd)\n",
    "    x = states[:,0]\n",
    "    xdot = states[:,1]\n",
    "    \n",
    "    return x\n",
    "\n"
   ]
  },
  {
   "cell_type": "code",
   "execution_count": null,
   "metadata": {
    "pycharm": {
     "is_executing": false
    }
   },
   "outputs": [],
   "source": [
    "def fit(f,df,ydata,p0=None):\n",
    "    \n",
    "    popt,pcov = curve_fit(f=f,xdata=df,ydata=ydata,p0=p0)\n",
    "    \n",
    "    signature = inspect.signature(f)\n",
    "    parameter_names = list(signature.parameters.keys())[1:]\n",
    "    \n",
    "    parameter_values = list(popt)\n",
    "    parameters = dict(zip(parameter_names, parameter_values))\n",
    "    \n",
    "    return parameters, pcov\n",
    "    "
   ]
  },
  {
   "cell_type": "code",
   "execution_count": null,
   "metadata": {
    "pycharm": {
     "is_executing": false
    }
   },
   "outputs": [],
   "source": [
    "signature = inspect.signature(f)\n",
    "parameter_names = list(signature.parameters.keys())[1:]\n",
    "    \n",
    "\n",
    "guesses = {parameter_name:1 for parameter_name in parameter_names}\n",
    "#guesses['g'] = 9.8\n",
    "guesses['m'] = 2\n",
    "p0 = []\n",
    "for parameter_name in parameter_names:\n",
    "    p0.append(guesses[parameter_name])"
   ]
  },
  {
   "cell_type": "code",
   "execution_count": null,
   "metadata": {
    "pycharm": {
     "is_executing": false
    }
   },
   "outputs": [],
   "source": [
    "df.head()"
   ]
  },
  {
   "cell_type": "code",
   "execution_count": null,
   "metadata": {
    "pycharm": {
     "is_executing": false
    }
   },
   "outputs": [],
   "source": [
    "parameters, pcov = fit(f=f, df=df, ydata=df['x'], p0=p0)\n",
    "parameters = pd.Series(data=parameters,name='exact')\n",
    "df_parameters.loc[parameters.name] = parameters"
   ]
  },
  {
   "cell_type": "code",
   "execution_count": null,
   "metadata": {
    "pycharm": {
     "is_executing": false
    }
   },
   "outputs": [],
   "source": [
    "parameters_measure, pcov = fit(f=f, df=df, ydata=df['x_measure'], p0=p0)\n",
    "parameters_measure = pd.Series(data=parameters_measure,name='measure')\n",
    "df_parameters.loc[parameters_measure.name] = parameters_measure"
   ]
  },
  {
   "cell_type": "markdown",
   "metadata": {},
   "source": [
    "## No sim solution"
   ]
  },
  {
   "cell_type": "code",
   "execution_count": null,
   "metadata": {
    "pycharm": {
     "is_executing": false
    }
   },
   "outputs": [],
   "source": [
    "def f2(df,g,m,cd):\n",
    "    xdot = df['xdot']\n",
    "    return calculate_acceleration(g=g,cd=cd,m=m,u=xdot)\n",
    "     "
   ]
  },
  {
   "cell_type": "code",
   "execution_count": null,
   "metadata": {
    "pycharm": {
     "is_executing": false
    }
   },
   "outputs": [],
   "source": [
    "parameters_nosim, pcov = fit(f=f2, df=df, ydata=df['xdotdot'])\n",
    "parameters_nosim = pd.Series(data=parameters_nosim,name='nosim')\n",
    "df_parameters.loc[parameters_nosim.name] = parameters_nosim"
   ]
  },
  {
   "cell_type": "markdown",
   "metadata": {},
   "source": [
    "## Minimize both position and velocity error"
   ]
  },
  {
   "cell_type": "code",
   "execution_count": null,
   "metadata": {
    "pycharm": {
     "is_executing": false
    }
   },
   "outputs": [],
   "source": [
    "def f3(coeffs,df):\n",
    "    \n",
    "    cd,g,m,x0,v0 = coeffs[0], coeffs[1], coeffs[2], coeffs[3], coeffs[4]\n",
    "        \n",
    "    states = simulate(x0, v0, t, g, m, cd)\n",
    "    \n",
    "    x = states[:,0]\n",
    "    xdot = states[:,1]\n",
    "    x_error = (x - df['x']) / (df['x'].max() - df['x'].min())\n",
    "    xdot_error = (xdot - df['xdot']) / (df['xdot'].max() - df['xdot'].min())\n",
    "                \n",
    "    return np.sum(x_error**2 + xdot_error**2)"
   ]
  },
  {
   "cell_type": "code",
   "execution_count": null,
   "metadata": {
    "pycharm": {
     "is_executing": false
    }
   },
   "outputs": [],
   "source": [
    "from scipy.optimize import minimize\n",
    "\n",
    "x0 = np.array([1,1,1,1,1])\n",
    "result = minimize(fun=f3, x0=x0, args=(df,))\n"
   ]
  },
  {
   "cell_type": "code",
   "execution_count": null,
   "metadata": {
    "pycharm": {
     "is_executing": false
    }
   },
   "outputs": [],
   "source": [
    "result['x']"
   ]
  },
  {
   "cell_type": "code",
   "execution_count": null,
   "metadata": {
    "pycharm": {
     "is_executing": false
    }
   },
   "outputs": [],
   "source": [
    "parameters_pos_vel = {\n",
    "    'cd' : result['x'][0],\n",
    "    'g' : result['x'][1],\n",
    "    'm' : result['x'][2],\n",
    "    'x0' : result['x'][3],\n",
    "    'v0' : result['x'][4],\n",
    "}"
   ]
  },
  {
   "cell_type": "code",
   "execution_count": null,
   "metadata": {
    "pycharm": {
     "is_executing": false
    }
   },
   "outputs": [],
   "source": [
    "parameters_pos_vel = pd.Series(data=parameters_pos_vel,name='pos_vel')\n",
    "df_parameters.loc[parameters_pos_vel.name] = parameters_pos_vel"
   ]
  },
  {
   "cell_type": "markdown",
   "metadata": {},
   "source": [
    "## Resimulat with models"
   ]
  },
  {
   "cell_type": "code",
   "execution_count": null,
   "metadata": {
    "pycharm": {
     "is_executing": false
    }
   },
   "outputs": [],
   "source": [
    "results = df.copy()\n",
    "results.drop(columns = ['x','x_measure'], inplace=True)\n",
    "states = simulate(t=t,**parameters)\n",
    "results['x'] = states[:,0]\n",
    "results['xdot'] = states[:,1]\n",
    "\n",
    "results_measure = df.copy()\n",
    "results_measure.drop(columns = ['x','x_measure'], inplace=True)\n",
    "states = simulate(t=t,**parameters_measure)\n",
    "results_measure['x'] = states[:,0]\n",
    "results_measure['xdot'] = states[:,1]\n",
    "\n",
    "results_nosim = df.copy()\n",
    "results_nosim.drop(columns = ['x','x_measure'], inplace=True)\n",
    "states = simulate(t=t,**parameters_nosim,x0=0,v0=0)\n",
    "results_nosim['x'] = states[:,0]\n",
    "results_nosim['xdot'] = states[:,1]\n",
    "\n"
   ]
  },
  {
   "cell_type": "code",
   "execution_count": null,
   "metadata": {
    "pycharm": {
     "is_executing": false
    }
   },
   "outputs": [],
   "source": [
    "fig,ax = plt.subplots()\n",
    "fig.set_size_inches(11,5)\n",
    "\n",
    "df.plot(y='x', label = 'Actual ball position', ax=ax)\n",
    "results.plot(y='x', label = 'Predicted based on exact ball position', style=':', ax=ax)\n",
    "results_measure.plot(y='x', label = 'Predicted based on measured ball position', style=':', ax=ax)\n",
    "results_nosim.plot(y='x', label = 'NoSim Predicted based on exact ball', style=':', ax=ax)\n",
    "\n",
    "ax.set_title('Ball drop')\n",
    "ax.set_xlabel('time [s]')\n",
    "ax.set_ylabel('x [m]')\n",
    "ax.legend()\n",
    "\n",
    "\n",
    "fig,ax = plt.subplots()\n",
    "fig.set_size_inches(11,5)\n",
    "\n",
    "df.plot(y='xdot', label = 'Actual ball speed', ax=ax)\n",
    "results.plot(y='xdot', label = 'Predicted based on exact ball position', style=':', ax=ax)\n",
    "results_measure.plot(y='xdot', label = 'Predicted based on measured ball position', style=':', ax=ax)\n",
    "results_nosim.plot(y='xdot', label = 'NoSim Predicted based on exact ball', style=':', ax=ax)\n",
    "\n",
    "ax.set_title('Ball drop')\n",
    "ax.set_xlabel('time [s]')\n",
    "ax.set_ylabel('xdot [m/s]')\n",
    "ax.legend()"
   ]
  },
  {
   "cell_type": "code",
   "execution_count": null,
   "metadata": {
    "pycharm": {
     "is_executing": false
    }
   },
   "outputs": [],
   "source": [
    "results['x_error'] = df['x'] - results['x']\n",
    "results['xdot_error'] = df['xdot'] - results['xdot']\n",
    "\n",
    "results_measure['x_error'] = df['x'] - results_measure['x']\n",
    "results_measure['xdot_error'] = df['xdot'] - results_measure['xdot']\n",
    "\n"
   ]
  },
  {
   "cell_type": "code",
   "execution_count": null,
   "metadata": {
    "pycharm": {
     "is_executing": false
    }
   },
   "outputs": [],
   "source": [
    "fig,ax = plt.subplots()\n",
    "fig.set_size_inches(11,5)\n",
    "\n",
    "results.plot(y='x_error', label = 'Ball position error based on exact ball position', ax=ax)\n",
    "results_measure.plot(y='x_error', label = 'Ball position error based on measured ball position', ax=ax)\n",
    "\n",
    "ax.set_title('Ball drop')\n",
    "ax.set_xlabel('time [s]')\n",
    "ax.set_ylabel('error [m]')\n",
    "ax.legend()\n",
    "\n",
    "\n",
    "fig,ax = plt.subplots()\n",
    "fig.set_size_inches(11,5)\n",
    "\n",
    "results.plot(y='xdot_error', label = 'Ball speed error based on exact ball position', ax=ax)\n",
    "results_measure.plot(y='xdot_error', label = 'Ball speed error based on measured ball position', ax=ax)\n",
    "\n",
    "ax.set_title('Ball drop')\n",
    "ax.set_xlabel('time [s]')\n",
    "ax.set_ylabel('error [m/s]')\n",
    "ax.legend()"
   ]
  },
  {
   "cell_type": "markdown",
   "metadata": {},
   "source": [
    "## Parameters"
   ]
  },
  {
   "cell_type": "code",
   "execution_count": null,
   "metadata": {
    "pycharm": {
     "is_executing": false
    }
   },
   "outputs": [],
   "source": [
    "df_parameters.fillna(0, inplace=True)\n",
    "df_parameters"
   ]
  },
  {
   "cell_type": "code",
   "execution_count": null,
   "metadata": {
    "pycharm": {
     "is_executing": false
    }
   },
   "outputs": [],
   "source": [
    "df_parameters.transpose().plot(kind='bar')"
   ]
  },
  {
   "cell_type": "code",
   "execution_count": null,
   "metadata": {
    "pycharm": {
     "is_executing": false
    }
   },
   "outputs": [],
   "source": [
    "df_paramters_compare = df_parameters/df_parameters.loc['correct']"
   ]
  },
  {
   "cell_type": "code",
   "execution_count": null,
   "metadata": {
    "pycharm": {
     "is_executing": false
    }
   },
   "outputs": [],
   "source": [
    "df_paramters_compare.transpose().plot(kind='bar')"
   ]
  },
  {
   "cell_type": "code",
   "execution_count": null,
   "metadata": {
    "pycharm": {
     "name": "#%%\n"
    }
   },
   "outputs": [],
   "source": [
    "\n"
   ]
  }
 ],
 "metadata": {
  "kernelspec": {
   "display_name": "Python 3",
   "language": "python",
   "name": "python3"
  },
  "language_info": {
   "codemirror_mode": {
    "name": "ipython",
    "version": 3
   },
   "file_extension": ".py",
   "mimetype": "text/x-python",
   "name": "python",
   "nbconvert_exporter": "python",
   "pygments_lexer": "ipython3",
   "version": "3.5.4"
  },
  "pycharm": {
   "stem_cell": {
    "cell_type": "raw",
    "metadata": {
     "collapsed": false
    },
    "source": []
   }
  }
 },
 "nbformat": 4,
 "nbformat_minor": 4
}
