{
 "cells": [
  {
   "cell_type": "markdown",
   "metadata": {
    "collapsed": true,
    "pycharm": {
     "is_executing": false,
     "name": "#%% md\n"
    }
   },
   "source": [
    "# Roll decay equation"
   ]
  },
  {
   "cell_type": "code",
   "execution_count": 1,
   "metadata": {
    "pycharm": {
     "is_executing": false
    }
   },
   "outputs": [],
   "source": [
    "%matplotlib inline\n",
    "%load_ext autoreload\n",
    "%autoreload 2"
   ]
  },
  {
   "cell_type": "code",
   "execution_count": 2,
   "metadata": {
    "pycharm": {
     "name": "#%% md\n"
    }
   },
   "outputs": [],
   "source": [
    "import sympy as sp\n",
    "from rolldecay.symbols import *\n",
    "import rolldecayestimators.equations as equations\n",
    "from latex_helpers import pylatex_extenders\n",
    "import latex_helpers\n",
    "import os.path\n",
    "from rigidbodysimulator.substitute_dynamic_symbols import substitute_dynamic_symbols, find_name, find_derivative_name, lambdify, find_derivatives\n",
    "import dill"
   ]
  },
  {
   "cell_type": "markdown",
   "metadata": {},
   "source": [
    "## Linear model"
   ]
  },
  {
   "cell_type": "code",
   "execution_count": 3,
   "metadata": {},
   "outputs": [
    {
     "data": {
      "text/latex": [
       "$\\displaystyle \\omega_{0}^{2} \\phi{\\left(t \\right)} + 2 \\omega_{0} \\zeta \\frac{d}{d t} \\phi{\\left(t \\right)} + \\frac{d^{2}}{d t^{2}} \\phi{\\left(t \\right)} = 0$"
      ],
      "text/plain": [
       "Eq(omega0**2*phi(t) + 2*omega0*zeta*Derivative(phi(t), t) + Derivative(phi(t), (t, 2)), 0)"
      ]
     },
     "execution_count": 3,
     "metadata": {},
     "output_type": "execute_result"
    }
   ],
   "source": [
    "equations.roll_diff_equation_linear"
   ]
  },
  {
   "cell_type": "code",
   "execution_count": 5,
   "metadata": {},
   "outputs": [
    {
     "name": "stdout",
     "output_type": "stream",
     "text": [
      "\\omega_{0}^{2} \\phi{\\left(t \\right)} + 2 \\omega_{0} \\zeta \\frac{d}{d t} \\phi{\\left(t \\right)} + \\frac{d^{2}}{d t^{2}} \\phi{\\left(t \\right)} = 0\n"
     ]
    }
   ],
   "source": [
    "print(sp.latex(equations.roll_diff_equation_linear))"
   ]
  },
  {
   "cell_type": "code",
   "execution_count": 4,
   "metadata": {},
   "outputs": [],
   "source": [
    "## Save to tex\n",
    "conatiner = pylatex_extenders.GeneralContainer()\n",
    "math = pylatex_extenders.Equation(equations.roll_diff_equation_linear,label='eq:rollDiffEquationLinear')\n",
    "conatiner.append(math)\n",
    "file_path = os.path.join(latex_helpers.general_content_path,'roll_diff_equation_linear')\n",
    "conatiner.generate_tex(file_path)"
   ]
  },
  {
   "cell_type": "markdown",
   "metadata": {},
   "source": [
    "## Quadratic model"
   ]
  },
  {
   "cell_type": "code",
   "execution_count": 5,
   "metadata": {},
   "outputs": [
    {
     "data": {
      "text/latex": [
       "$\\displaystyle d \\left|{\\frac{d}{d t} \\phi{\\left(t \\right)}}\\right| \\frac{d}{d t} \\phi{\\left(t \\right)} + \\omega_{0}^{2} \\phi{\\left(t \\right)} + 2 \\omega_{0} \\zeta \\frac{d}{d t} \\phi{\\left(t \\right)} + \\frac{d^{2}}{d t^{2}} \\phi{\\left(t \\right)} = 0$"
      ],
      "text/plain": [
       "Eq(d*Abs(Derivative(phi(t), t))*Derivative(phi(t), t) + omega0**2*phi(t) + 2*omega0*zeta*Derivative(phi(t), t) + Derivative(phi(t), (t, 2)), 0)"
      ]
     },
     "execution_count": 5,
     "metadata": {},
     "output_type": "execute_result"
    }
   ],
   "source": [
    "equations.roll_diff_equation"
   ]
  },
  {
   "cell_type": "code",
   "execution_count": 6,
   "metadata": {},
   "outputs": [
    {
     "data": {
      "text/latex": [
       "$\\displaystyle \\frac{d}{d t} \\phi{\\left(t \\right)} = \\operatorname{p_{old}}{\\left(t \\right)}$"
      ],
      "text/plain": [
       "Eq(Derivative(phi(t), t), p_old(t))"
      ]
     },
     "execution_count": 6,
     "metadata": {},
     "output_type": "execute_result"
    }
   ],
   "source": [
    "equations.velocity_equation_linear"
   ]
  },
  {
   "cell_type": "code",
   "execution_count": 7,
   "metadata": {},
   "outputs": [
    {
     "data": {
      "text/latex": [
       "$\\displaystyle \\frac{d^{2}}{d t^{2}} \\phi{\\left(t \\right)} = - \\omega_{0} \\left(\\omega_{0} \\phi_{old}{\\left(t \\right)} + 2 \\zeta \\operatorname{p_{old}}{\\left(t \\right)}\\right)$"
      ],
      "text/plain": [
       "Eq(Derivative(phi(t), (t, 2)), -omega0*(omega0*phi_old(t) + 2*zeta*p_old(t)))"
      ]
     },
     "execution_count": 7,
     "metadata": {},
     "output_type": "execute_result"
    }
   ],
   "source": [
    "equations.acceleration_equation_linear"
   ]
  },
  {
   "cell_type": "code",
   "execution_count": 8,
   "metadata": {},
   "outputs": [],
   "source": [
    "## Save to tex\n",
    "conatiner = pylatex_extenders.GeneralContainer()\n",
    "math = pylatex_extenders.Equation(equations.roll_diff_equation,label='eq:rollDiffEquationQuadratic')\n",
    "conatiner.append(math)\n",
    "file_path = os.path.join(latex_helpers.general_content_path,'roll_diff_equation_quadratic')\n",
    "conatiner.generate_tex(file_path)"
   ]
  },
  {
   "cell_type": "code",
   "execution_count": 9,
   "metadata": {},
   "outputs": [
    {
     "data": {
      "text/plain": [
       "[-d*Abs(Derivative(phi(t), t))*Derivative(phi(t), t) - omega0**2*phi(t) - 2*omega0*zeta*Derivative(phi(t), t)]"
      ]
     },
     "execution_count": 9,
     "metadata": {},
     "output_type": "execute_result"
    }
   ],
   "source": [
    "sp.solve(equations.roll_diff_equation,phi_dot_dot)"
   ]
  },
  {
   "cell_type": "code",
   "execution_count": 10,
   "metadata": {},
   "outputs": [
    {
     "data": {
      "text/latex": [
       "$\\displaystyle \\frac{d}{d t} \\phi{\\left(t \\right)} = \\operatorname{p_{old}}{\\left(t \\right)}$"
      ],
      "text/plain": [
       "Eq(Derivative(phi(t), t), p_old(t))"
      ]
     },
     "execution_count": 10,
     "metadata": {},
     "output_type": "execute_result"
    }
   ],
   "source": [
    "equations.velocity_equation"
   ]
  },
  {
   "cell_type": "code",
   "execution_count": 11,
   "metadata": {},
   "outputs": [
    {
     "data": {
      "text/latex": [
       "$\\displaystyle \\frac{d^{2}}{d t^{2}} \\phi{\\left(t \\right)} = - d \\operatorname{p_{old}}{\\left(t \\right)} \\left|{\\operatorname{p_{old}}{\\left(t \\right)}}\\right| - \\omega_{0}^{2} \\phi_{old}{\\left(t \\right)} - 2 \\omega_{0} \\zeta \\operatorname{p_{old}}{\\left(t \\right)}$"
      ],
      "text/plain": [
       "Eq(Derivative(phi(t), (t, 2)), -d*p_old(t)*Abs(p_old(t)) - omega0**2*phi_old(t) - 2*omega0*zeta*p_old(t))"
      ]
     },
     "execution_count": 11,
     "metadata": {},
     "output_type": "execute_result"
    }
   ],
   "source": [
    "equations.acceleration_equation"
   ]
  },
  {
   "cell_type": "markdown",
   "metadata": {},
   "source": [
    "## Example: Analytically solve simpler equation"
   ]
  },
  {
   "cell_type": "code",
   "execution_count": 12,
   "metadata": {},
   "outputs": [
    {
     "data": {
      "text/latex": [
       "$\\displaystyle y{\\left(t \\right)}$"
      ],
      "text/plain": [
       "y(t)"
      ]
     },
     "execution_count": 12,
     "metadata": {},
     "output_type": "execute_result"
    }
   ],
   "source": [
    "t = sp.Symbol('t')\n",
    "y = me.dynamicsymbols('y')\n",
    "y\n"
   ]
  },
  {
   "cell_type": "code",
   "execution_count": 13,
   "metadata": {},
   "outputs": [
    {
     "data": {
      "text/latex": [
       "$\\displaystyle \\frac{d^{2}}{d t^{2}} y{\\left(t \\right)} = -9.81$"
      ],
      "text/plain": [
       "Eq(Derivative(y(t), (t, 2)), -9.81)"
      ]
     },
     "execution_count": 13,
     "metadata": {},
     "output_type": "execute_result"
    }
   ],
   "source": [
    "eq = sp.Eq(lhs=y.diff().diff(), rhs=-9.81)\n",
    "eq"
   ]
  },
  {
   "cell_type": "code",
   "execution_count": 14,
   "metadata": {},
   "outputs": [
    {
     "data": {
      "text/latex": [
       "$\\displaystyle y{\\left(t \\right)} = C_{1} + C_{2} t - \\frac{981 t^{2}}{200}$"
      ],
      "text/plain": [
       "Eq(y(t), C1 + C2*t - 981*t**2/200)"
      ]
     },
     "execution_count": 14,
     "metadata": {},
     "output_type": "execute_result"
    }
   ],
   "source": [
    "sp.dsolve(eq)"
   ]
  },
  {
   "cell_type": "code",
   "execution_count": 15,
   "metadata": {},
   "outputs": [
    {
     "data": {
      "text/latex": [
       "$\\displaystyle y{\\left(t \\right)} = C_{1} + C_{2} e^{0.1 t} + 98.1 t$"
      ],
      "text/plain": [
       "Eq(y(t), C1 + C2*exp(0.1*t) + 98.1*t)"
      ]
     },
     "execution_count": 15,
     "metadata": {},
     "output_type": "execute_result"
    }
   ],
   "source": [
    "eq2 = sp.Eq(lhs=y.diff().diff(), rhs=-9.81 + 0.1*y.diff())\n",
    "sp.dsolve(eq2)"
   ]
  }
 ],
 "metadata": {
  "kernelspec": {
   "display_name": "Python 3",
   "language": "python",
   "name": "python3"
  },
  "language_info": {
   "codemirror_mode": {
    "name": "ipython",
    "version": 3
   },
   "file_extension": ".py",
   "mimetype": "text/x-python",
   "name": "python",
   "nbconvert_exporter": "python",
   "pygments_lexer": "ipython3",
   "version": "3.5.4"
  },
  "pycharm": {
   "stem_cell": {
    "cell_type": "raw",
    "metadata": {
     "collapsed": false
    },
    "source": []
   }
  }
 },
 "nbformat": 4,
 "nbformat_minor": 1
}
