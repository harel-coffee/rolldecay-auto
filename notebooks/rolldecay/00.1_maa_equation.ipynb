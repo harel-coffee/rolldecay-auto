{
 "cells": [
  {
   "cell_type": "markdown",
   "metadata": {
    "collapsed": true,
    "pycharm": {
     "is_executing": false,
     "name": "#%% md\n"
    }
   },
   "source": [
    "# Roll decay equation"
   ]
  },
  {
   "cell_type": "code",
   "execution_count": 1,
   "metadata": {
    "pycharm": {
     "is_executing": false
    }
   },
   "outputs": [],
   "source": [
    "%matplotlib inline\n",
    "%load_ext autoreload\n",
    "%autoreload 2"
   ]
  },
  {
   "cell_type": "code",
   "execution_count": 2,
   "metadata": {
    "pycharm": {
     "name": "#%% md\n"
    }
   },
   "outputs": [],
   "source": [
    "import sympy as sp\n",
    "from rolldecayestimators.symbols import *\n",
    "import rolldecayestimators.equations as equations\n",
    "import rolldecayestimators.direct_estimator as direct_estimator\n",
    "import rolldecayestimators.direct_linear_estimator as direct_linear_estimator\n",
    "import rolldecayestimators.direct_estimator_improved as direct_estimator_improved\n",
    "\n",
    "\n",
    "from latex_helpers import pylatex_extenders\n",
    "import latex_helpers\n",
    "import os.path\n",
    "from rigidbodysimulator.substitute_dynamic_symbols import substitute_dynamic_symbols, find_name, find_derivative_name, lambdify, find_derivatives\n",
    "import dill\n",
    "\n",
    "from sympy.physics.vector.printing import vpprint, vlatex\n",
    "from IPython.display import display, Math, Latex"
   ]
  },
  {
   "cell_type": "code",
   "execution_count": 3,
   "metadata": {},
   "outputs": [
    {
     "data": {
      "text/latex": [
       "$\\displaystyle B \\dot{\\phi} + I \\ddot{\\phi} + g m \\operatorname{GZ}\\left(\\phi\\right) = M_{x}$"
      ],
      "text/plain": [
       "<IPython.core.display.Math object>"
      ]
     },
     "metadata": {},
     "output_type": "display_data"
    }
   ],
   "source": [
    "latex = vlatex(equations.roll_equation_general)\n",
    "display(Math(latex))"
   ]
  },
  {
   "cell_type": "markdown",
   "metadata": {},
   "source": [
    "No external forces:"
   ]
  },
  {
   "cell_type": "code",
   "execution_count": 4,
   "metadata": {},
   "outputs": [
    {
     "data": {
      "text/latex": [
       "$\\displaystyle B \\dot{\\phi} + I \\ddot{\\phi} + g m \\operatorname{GZ}\\left(\\phi\\right) = 0$"
      ],
      "text/plain": [
       "<IPython.core.display.Math object>"
      ]
     },
     "metadata": {},
     "output_type": "display_data"
    }
   ],
   "source": [
    "latex = vlatex(equations.roll_decay_equation_general)\n",
    "display(Math(latex))"
   ]
  },
  {
   "cell_type": "markdown",
   "metadata": {},
   "source": [
    "## Linear model"
   ]
  },
  {
   "cell_type": "code",
   "execution_count": 31,
   "metadata": {},
   "outputs": [
    {
     "data": {
      "text/latex": [
       "$\\displaystyle \\operatorname{GZ}\\left(\\phi\\right) = GM \\phi$"
      ],
      "text/plain": [
       "<IPython.core.display.Math object>"
      ]
     },
     "metadata": {},
     "output_type": "display_data"
    }
   ],
   "source": [
    "latex = vlatex(equations.linear_stiffness_equation)\n",
    "display(Math(latex))"
   ]
  },
  {
   "cell_type": "code",
   "execution_count": 32,
   "metadata": {},
   "outputs": [
    {
     "data": {
      "text/latex": [
       "$\\displaystyle B \\dot{\\phi} + GM g m \\phi + I \\ddot{\\phi} = 0$"
      ],
      "text/plain": [
       "<IPython.core.display.Math object>"
      ]
     },
     "metadata": {},
     "output_type": "display_data"
    }
   ],
   "source": [
    "latex = vlatex(equations.roll_decay_linear_equation)\n",
    "display(Math(latex))"
   ]
  },
  {
   "cell_type": "code",
   "execution_count": 33,
   "metadata": {},
   "outputs": [
    {
     "data": {
      "text/latex": [
       "$\\displaystyle B \\frac{d}{d t} \\phi{\\left(t \\right)} + GM g m \\phi{\\left(t \\right)} + I \\frac{d^{2}}{d t^{2}} \\phi{\\left(t \\right)} = 0$"
      ],
      "text/plain": [
       "Eq(B*Derivative(phi(t), t) + GM*g*m*phi(t) + I*Derivative(phi(t), (t, 2)), 0)"
      ]
     },
     "execution_count": 33,
     "metadata": {},
     "output_type": "execute_result"
    }
   ],
   "source": [
    "equations.roll_decay_linear_equation"
   ]
  },
  {
   "cell_type": "code",
   "execution_count": 34,
   "metadata": {},
   "outputs": [
    {
     "data": {
      "text/latex": [
       "$\\displaystyle \\omega_{0}^{2} = \\frac{GM g m}{I}$"
      ],
      "text/plain": [
       "Eq(omega0**2, GM*g*m/I)"
      ]
     },
     "execution_count": 34,
     "metadata": {},
     "output_type": "execute_result"
    }
   ],
   "source": [
    "omega_equation = sp.Eq(omega0**2,\n",
    "     GM*g*m/I)\n",
    "omega_equation"
   ]
  },
  {
   "cell_type": "code",
   "execution_count": 35,
   "metadata": {},
   "outputs": [
    {
     "data": {
      "text/latex": [
       "$\\displaystyle \\frac{GM g m}{I}$"
      ],
      "text/plain": [
       "GM*g*m/I"
      ]
     },
     "execution_count": 35,
     "metadata": {},
     "output_type": "execute_result"
    }
   ],
   "source": [
    "sp.solve(omega_equation,omega0**2)[0]"
   ]
  },
  {
   "cell_type": "code",
   "execution_count": 39,
   "metadata": {},
   "outputs": [
    {
     "data": {
      "text/latex": [
       "$\\displaystyle \\frac{B \\frac{d}{d t} \\phi{\\left(t \\right)}}{I} + \\frac{GM g m \\phi{\\left(t \\right)}}{I} + \\frac{d^{2}}{d t^{2}} \\phi{\\left(t \\right)}$"
      ],
      "text/plain": [
       "B*Derivative(phi(t), t)/I + GM*g*m*phi(t)/I + Derivative(phi(t), (t, 2))"
      ]
     },
     "execution_count": 39,
     "metadata": {},
     "output_type": "execute_result"
    }
   ],
   "source": [
    "(equations.roll_decay_linear_equation.lhs/I).expand()"
   ]
  },
  {
   "cell_type": "code",
   "execution_count": 40,
   "metadata": {},
   "outputs": [
    {
     "data": {
      "text/latex": [
       "$\\displaystyle \\frac{B \\frac{d}{d t} \\phi{\\left(t \\right)}}{I} + \\omega_{0}^{2} \\phi{\\left(t \\right)} + \\frac{d^{2}}{d t^{2}} \\phi{\\left(t \\right)}$"
      ],
      "text/plain": [
       "B*Derivative(phi(t), t)/I + omega0**2*phi(t) + Derivative(phi(t), (t, 2))"
      ]
     },
     "execution_count": 40,
     "metadata": {},
     "output_type": "execute_result"
    }
   ],
   "source": [
    "(equations.roll_decay_linear_equation.lhs/I).expand().subs(\n",
    "    sp.solve(omega_equation,omega0**2)[0],\n",
    "    omega0**2)"
   ]
  },
  {
   "cell_type": "code",
   "execution_count": 41,
   "metadata": {},
   "outputs": [
    {
     "data": {
      "text/latex": [
       "$\\displaystyle \\frac{B}{I} = \\zeta$"
      ],
      "text/plain": [
       "Eq(B/I, zeta)"
      ]
     },
     "execution_count": 41,
     "metadata": {},
     "output_type": "execute_result"
    }
   ],
   "source": [
    "equations.linear_damping_equation"
   ]
  },
  {
   "cell_type": "code",
   "execution_count": 5,
   "metadata": {},
   "outputs": [
    {
     "data": {
      "text/latex": [
       "$\\displaystyle \\omega_{0}^{2} \\phi + 2 \\omega_{0} \\zeta \\dot{\\phi} + \\ddot{\\phi} = 0$"
      ],
      "text/plain": [
       "<IPython.core.display.Math object>"
      ]
     },
     "metadata": {},
     "output_type": "display_data"
    }
   ],
   "source": [
    "latex = vlatex(direct_linear_estimator.roll_diff_equation)\n",
    "display(Math(latex))"
   ]
  },
  {
   "cell_type": "code",
   "execution_count": 7,
   "metadata": {},
   "outputs": [],
   "source": [
    "## Save to tex\n",
    "conatiner = pylatex_extenders.GeneralContainer()\n",
    "math = pylatex_extenders.Equation(direct_linear_estimator.roll_diff_equation,label='eq:rollDiffEquationLinear')\n",
    "conatiner.append(math)\n",
    "file_path = os.path.join(latex_helpers.general_content_path,'roll_diff_equation_linear')\n",
    "conatiner.generate_tex(file_path)"
   ]
  },
  {
   "cell_type": "code",
   "execution_count": 9,
   "metadata": {},
   "outputs": [],
   "source": [
    "result = sp.solve(direct_linear_estimator.roll_diff_equation, phi, 2)[0][phi]"
   ]
  },
  {
   "cell_type": "code",
   "execution_count": 10,
   "metadata": {},
   "outputs": [
    {
     "data": {
      "text/latex": [
       "$\\displaystyle \\phi = - \\frac{2 \\zeta \\dot{\\phi}}{\\omega_{0}} - \\frac{\\ddot{\\phi}}{\\omega_{0}^{2}}$"
      ],
      "text/plain": [
       "<IPython.core.display.Math object>"
      ]
     },
     "metadata": {},
     "output_type": "display_data"
    }
   ],
   "source": [
    "equation2 = sp.Eq(lhs=phi, rhs=result)\n",
    "latex = vlatex(equation2.expand())\n",
    "display(Math(latex))"
   ]
  },
  {
   "cell_type": "code",
   "execution_count": 11,
   "metadata": {},
   "outputs": [
    {
     "data": {
      "text/latex": [
       "$\\displaystyle A = - \\frac{2 \\zeta}{\\omega_{0}}$"
      ],
      "text/plain": [
       "Eq(A, -2*zeta/omega0)"
      ]
     },
     "execution_count": 11,
     "metadata": {},
     "output_type": "execute_result"
    }
   ],
   "source": [
    "equations.A_equation"
   ]
  },
  {
   "cell_type": "code",
   "execution_count": 12,
   "metadata": {},
   "outputs": [
    {
     "data": {
      "text/latex": [
       "$\\displaystyle B = - \\frac{1}{\\omega_{0}^{2}}$"
      ],
      "text/plain": [
       "Eq(B, -1/omega0**2)"
      ]
     },
     "execution_count": 12,
     "metadata": {},
     "output_type": "execute_result"
    }
   ],
   "source": [
    "equations.B_equation"
   ]
  },
  {
   "cell_type": "code",
   "execution_count": 13,
   "metadata": {},
   "outputs": [
    {
     "data": {
      "text/latex": [
       "$\\displaystyle \\phi = A \\dot{\\phi} + B \\ddot{\\phi}$"
      ],
      "text/plain": [
       "<IPython.core.display.Math object>"
      ]
     },
     "metadata": {},
     "output_type": "display_data"
    }
   ],
   "source": [
    "subs= {equations.A_equation.rhs:equations.A_equation.lhs,\n",
    "       equations.B_equation.rhs:equations.B_equation.lhs,\n",
    "    }\n",
    "latex = vlatex(equation2.expand().subs(subs))\n",
    "display(Math(latex))"
   ]
  },
  {
   "cell_type": "code",
   "execution_count": 14,
   "metadata": {},
   "outputs": [
    {
     "data": {
      "text/latex": [
       "$\\displaystyle \\zeta = - \\frac{A \\omega_{0}}{2}$"
      ],
      "text/plain": [
       "Eq(zeta, -A*omega0/2)"
      ]
     },
     "execution_count": 14,
     "metadata": {},
     "output_type": "execute_result"
    }
   ],
   "source": [
    "equations.zeta_equation"
   ]
  },
  {
   "cell_type": "code",
   "execution_count": 15,
   "metadata": {},
   "outputs": [
    {
     "data": {
      "text/latex": [
       "$\\displaystyle \\omega_{0} = - \\sqrt{- \\frac{1}{B}}$"
      ],
      "text/plain": [
       "Eq(omega0, -sqrt(-1/B))"
      ]
     },
     "execution_count": 15,
     "metadata": {},
     "output_type": "execute_result"
    }
   ],
   "source": [
    "equations.omega_equation"
   ]
  },
  {
   "cell_type": "markdown",
   "metadata": {},
   "source": [
    "## Quadratic model"
   ]
  },
  {
   "cell_type": "code",
   "execution_count": 16,
   "metadata": {},
   "outputs": [
    {
     "data": {
      "text/latex": [
       "$\\displaystyle \\phi = - \\frac{d \\left|{\\dot{\\phi}}\\right| \\dot{\\phi}}{\\omega_{0}^{2}} - \\frac{2 \\zeta \\dot{\\phi}}{\\omega_{0}} - \\frac{\\ddot{\\phi}}{\\omega_{0}^{2}}$"
      ],
      "text/plain": [
       "<IPython.core.display.Math object>"
      ]
     },
     "metadata": {},
     "output_type": "display_data"
    }
   ],
   "source": [
    "latex = vlatex(direct_estimator.roll_diff_equation)\n",
    "display(Math(latex))"
   ]
  },
  {
   "cell_type": "code",
   "execution_count": 17,
   "metadata": {},
   "outputs": [
    {
     "data": {
      "text/latex": [
       "$\\displaystyle C = B d$"
      ],
      "text/plain": [
       "Eq(C, B*d)"
      ]
     },
     "execution_count": 17,
     "metadata": {},
     "output_type": "execute_result"
    }
   ],
   "source": [
    "equations.C_equation"
   ]
  },
  {
   "cell_type": "code",
   "execution_count": 19,
   "metadata": {},
   "outputs": [
    {
     "data": {
      "text/latex": [
       "$\\displaystyle \\phi = A \\dot{\\phi} + B \\ddot{\\phi} + C \\left|{\\dot{\\phi}}\\right| \\dot{\\phi}$"
      ],
      "text/plain": [
       "<IPython.core.display.Math object>"
      ]
     },
     "metadata": {},
     "output_type": "display_data"
    }
   ],
   "source": [
    "subs= [(equations.A_equation.rhs,equations.A_equation.lhs),\n",
    "       (equations.B_equation.rhs,equations.B_equation.lhs),\n",
    "       (equations.C_equation.rhs,equations.C_equation.lhs),\n",
    "      ]\n",
    "latex = vlatex(direct_estimator.roll_diff_equation.expand().subs(subs))\n",
    "display(Math(latex))"
   ]
  },
  {
   "cell_type": "code",
   "execution_count": 20,
   "metadata": {},
   "outputs": [
    {
     "data": {
      "text/latex": [
       "$\\displaystyle d = \\frac{C}{B}$"
      ],
      "text/plain": [
       "Eq(d, C/B)"
      ]
     },
     "execution_count": 20,
     "metadata": {},
     "output_type": "execute_result"
    }
   ],
   "source": [
    "d_equation = sp.Eq(lhs=d, rhs=sp.solve(equations.C_equation,d)[0])\n",
    "d_equation"
   ]
  },
  {
   "cell_type": "code",
   "execution_count": 21,
   "metadata": {},
   "outputs": [
    {
     "data": {
      "text/latex": [
       "$\\displaystyle \\frac{d}{d t} \\phi{\\left(t \\right)} = \\operatorname{p_{old}}{\\left(t \\right)}$"
      ],
      "text/plain": [
       "Eq(Derivative(phi(t), t), p_old(t))"
      ]
     },
     "execution_count": 21,
     "metadata": {},
     "output_type": "execute_result"
    }
   ],
   "source": [
    "equations.velocity_equation_linear"
   ]
  },
  {
   "cell_type": "code",
   "execution_count": 22,
   "metadata": {},
   "outputs": [
    {
     "data": {
      "text/latex": [
       "$\\displaystyle \\frac{d^{2}}{d t^{2}} \\phi{\\left(t \\right)} = - \\omega_{0} \\left(\\omega_{0} \\phi_{old}{\\left(t \\right)} + 2 \\zeta \\operatorname{p_{old}}{\\left(t \\right)}\\right)$"
      ],
      "text/plain": [
       "Eq(Derivative(phi(t), (t, 2)), -omega0*(omega0*phi_old(t) + 2*zeta*p_old(t)))"
      ]
     },
     "execution_count": 22,
     "metadata": {},
     "output_type": "execute_result"
    }
   ],
   "source": [
    "equations.acceleration_equation_linear"
   ]
  },
  {
   "cell_type": "code",
   "execution_count": 23,
   "metadata": {},
   "outputs": [],
   "source": [
    "## Save to tex\n",
    "conatiner = pylatex_extenders.GeneralContainer()\n",
    "math = pylatex_extenders.Equation(direct_estimator.roll_diff_equation,label='eq:rollDiffEquationQuadratic')\n",
    "conatiner.append(math)\n",
    "file_path = os.path.join(latex_helpers.general_content_path,'roll_diff_equation_quadratic')\n",
    "conatiner.generate_tex(file_path)"
   ]
  },
  {
   "cell_type": "markdown",
   "metadata": {},
   "source": [
    "## Example: Analytically solve simpler equation"
   ]
  },
  {
   "cell_type": "code",
   "execution_count": 27,
   "metadata": {},
   "outputs": [
    {
     "data": {
      "text/latex": [
       "$\\displaystyle y{\\left(t \\right)}$"
      ],
      "text/plain": [
       "y(t)"
      ]
     },
     "execution_count": 27,
     "metadata": {},
     "output_type": "execute_result"
    }
   ],
   "source": [
    "t = sp.Symbol('t')\n",
    "y = me.dynamicsymbols('y')\n",
    "y\n"
   ]
  },
  {
   "cell_type": "code",
   "execution_count": 28,
   "metadata": {},
   "outputs": [
    {
     "data": {
      "text/latex": [
       "$\\displaystyle \\frac{d^{2}}{d t^{2}} y{\\left(t \\right)} = -9.81$"
      ],
      "text/plain": [
       "Eq(Derivative(y(t), (t, 2)), -9.81)"
      ]
     },
     "execution_count": 28,
     "metadata": {},
     "output_type": "execute_result"
    }
   ],
   "source": [
    "eq = sp.Eq(lhs=y.diff().diff(), rhs=-9.81)\n",
    "eq"
   ]
  },
  {
   "cell_type": "code",
   "execution_count": 29,
   "metadata": {},
   "outputs": [
    {
     "data": {
      "text/latex": [
       "$\\displaystyle y{\\left(t \\right)} = C_{1} + C_{2} t - \\frac{981 t^{2}}{200}$"
      ],
      "text/plain": [
       "Eq(y(t), C1 + C2*t - 981*t**2/200)"
      ]
     },
     "execution_count": 29,
     "metadata": {},
     "output_type": "execute_result"
    }
   ],
   "source": [
    "sp.dsolve(eq)"
   ]
  },
  {
   "cell_type": "code",
   "execution_count": 30,
   "metadata": {},
   "outputs": [
    {
     "data": {
      "text/latex": [
       "$\\displaystyle y{\\left(t \\right)} = C_{1} + C_{2} e^{0.1 t} + 98.1 t$"
      ],
      "text/plain": [
       "Eq(y(t), C1 + C2*exp(0.1*t) + 98.1*t)"
      ]
     },
     "execution_count": 30,
     "metadata": {},
     "output_type": "execute_result"
    }
   ],
   "source": [
    "eq2 = sp.Eq(lhs=y.diff().diff(), rhs=-9.81 + 0.1*y.diff())\n",
    "sp.dsolve(eq2)"
   ]
  },
  {
   "cell_type": "code",
   "execution_count": null,
   "metadata": {},
   "outputs": [],
   "source": []
  },
  {
   "cell_type": "code",
   "execution_count": null,
   "metadata": {},
   "outputs": [],
   "source": []
  }
 ],
 "metadata": {
  "kernelspec": {
   "display_name": "Python 3",
   "language": "python",
   "name": "python3"
  },
  "language_info": {
   "codemirror_mode": {
    "name": "ipython",
    "version": 3
   },
   "file_extension": ".py",
   "mimetype": "text/x-python",
   "name": "python",
   "nbconvert_exporter": "python",
   "pygments_lexer": "ipython3",
   "version": "3.5.4"
  },
  "pycharm": {
   "stem_cell": {
    "cell_type": "raw",
    "metadata": {
     "collapsed": false
    },
    "source": []
   }
  }
 },
 "nbformat": 4,
 "nbformat_minor": 1
}