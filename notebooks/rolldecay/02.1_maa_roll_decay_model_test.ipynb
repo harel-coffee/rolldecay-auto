{
 "cells": [
  {
   "cell_type": "markdown",
   "metadata": {},
   "source": [
    "# Roll decay model test"
   ]
  },
  {
   "cell_type": "code",
   "execution_count": 1,
   "metadata": {},
   "outputs": [],
   "source": [
    "%matplotlib inline\n",
    "%load_ext autoreload\n",
    "%autoreload 2"
   ]
  },
  {
   "cell_type": "code",
   "execution_count": 2,
   "metadata": {},
   "outputs": [],
   "source": [
    "import numpy as np\n",
    "import pandas as pd\n",
    "import matplotlib.pyplot as plt\n",
    "from rolldecayestimators.equations_lambdify import calculate_acceleration, calculate_velocity\n",
    "from rolldecayestimators.simulation import roll_decay_time_step,simulate\n",
    "import rolldecay\n",
    "import inspect\n",
    "import os\n",
    "import rolldecay.read_funky_ascii\n"
   ]
  },
  {
   "cell_type": "code",
   "execution_count": 3,
   "metadata": {},
   "outputs": [],
   "source": [
    "ascii_path = os.path.join(rolldecay.data_path,'project1','Ascii files','20084871056k.12.asc')\n",
    "\n",
    "df = rolldecay.read_funky_ascii.read(ascii_path=ascii_path)"
   ]
  },
  {
   "cell_type": "code",
   "execution_count": 4,
   "metadata": {},
   "outputs": [
    {
     "data": {
      "text/html": [
       "<div>\n",
       "<style scoped>\n",
       "    .dataframe tbody tr th:only-of-type {\n",
       "        vertical-align: middle;\n",
       "    }\n",
       "\n",
       "    .dataframe tbody tr th {\n",
       "        vertical-align: top;\n",
       "    }\n",
       "\n",
       "    .dataframe thead th {\n",
       "        text-align: right;\n",
       "    }\n",
       "</style>\n",
       "<table border=\"1\" class=\"dataframe\">\n",
       "  <thead>\n",
       "    <tr style=\"text-align: right;\">\n",
       "      <th></th>\n",
       "      <th>0</th>\n",
       "      <th>phi</th>\n",
       "      <th>2</th>\n",
       "      <th>3</th>\n",
       "      <th>4</th>\n",
       "      <th>5</th>\n",
       "      <th>6</th>\n",
       "      <th>7</th>\n",
       "      <th>8</th>\n",
       "    </tr>\n",
       "  </thead>\n",
       "  <tbody>\n",
       "    <tr>\n",
       "      <th>0.00</th>\n",
       "      <td>44.626707</td>\n",
       "      <td>-0.001366</td>\n",
       "      <td>-0.046600</td>\n",
       "      <td>-0.509470</td>\n",
       "      <td>-3.876114</td>\n",
       "      <td>0.0</td>\n",
       "      <td>0.0</td>\n",
       "      <td>0.000189</td>\n",
       "      <td>NaN</td>\n",
       "    </tr>\n",
       "    <tr>\n",
       "      <th>0.01</th>\n",
       "      <td>44.030731</td>\n",
       "      <td>-0.001366</td>\n",
       "      <td>-0.044304</td>\n",
       "      <td>-0.467782</td>\n",
       "      <td>-3.889998</td>\n",
       "      <td>0.0</td>\n",
       "      <td>0.0</td>\n",
       "      <td>0.000189</td>\n",
       "      <td>NaN</td>\n",
       "    </tr>\n",
       "    <tr>\n",
       "      <th>0.02</th>\n",
       "      <td>43.375157</td>\n",
       "      <td>-0.001366</td>\n",
       "      <td>-0.042009</td>\n",
       "      <td>-0.398302</td>\n",
       "      <td>-3.889998</td>\n",
       "      <td>0.0</td>\n",
       "      <td>0.0</td>\n",
       "      <td>0.000189</td>\n",
       "      <td>NaN</td>\n",
       "    </tr>\n",
       "    <tr>\n",
       "      <th>0.03</th>\n",
       "      <td>42.659986</td>\n",
       "      <td>-0.001406</td>\n",
       "      <td>-0.037418</td>\n",
       "      <td>-0.301030</td>\n",
       "      <td>-3.876114</td>\n",
       "      <td>0.0</td>\n",
       "      <td>0.0</td>\n",
       "      <td>0.000189</td>\n",
       "      <td>NaN</td>\n",
       "    </tr>\n",
       "    <tr>\n",
       "      <th>0.04</th>\n",
       "      <td>41.825620</td>\n",
       "      <td>-0.001406</td>\n",
       "      <td>-0.037418</td>\n",
       "      <td>-0.203758</td>\n",
       "      <td>-3.806694</td>\n",
       "      <td>0.0</td>\n",
       "      <td>0.0</td>\n",
       "      <td>0.000189</td>\n",
       "      <td>NaN</td>\n",
       "    </tr>\n",
       "  </tbody>\n",
       "</table>\n",
       "</div>"
      ],
      "text/plain": [
       "              0       phi         2         3         4    5    6         7  \\\n",
       "0.00  44.626707 -0.001366 -0.046600 -0.509470 -3.876114  0.0  0.0  0.000189   \n",
       "0.01  44.030731 -0.001366 -0.044304 -0.467782 -3.889998  0.0  0.0  0.000189   \n",
       "0.02  43.375157 -0.001366 -0.042009 -0.398302 -3.889998  0.0  0.0  0.000189   \n",
       "0.03  42.659986 -0.001406 -0.037418 -0.301030 -3.876114  0.0  0.0  0.000189   \n",
       "0.04  41.825620 -0.001406 -0.037418 -0.203758 -3.806694  0.0  0.0  0.000189   \n",
       "\n",
       "       8  \n",
       "0.00 NaN  \n",
       "0.01 NaN  \n",
       "0.02 NaN  \n",
       "0.03 NaN  \n",
       "0.04 NaN  "
      ]
     },
     "execution_count": 4,
     "metadata": {},
     "output_type": "execute_result"
    }
   ],
   "source": [
    "df.head()"
   ]
  },
  {
   "cell_type": "code",
   "execution_count": 5,
   "metadata": {
    "pycharm": {
     "name": "#%%\n"
    }
   },
   "outputs": [
    {
     "data": {
      "text/plain": [
       "<matplotlib.axes._subplots.AxesSubplot at 0x118a8e90>"
      ]
     },
     "execution_count": 5,
     "metadata": {},
     "output_type": "execute_result"
    },
    {
     "data": {
      "image/png": "[encoded data removed]",
      "text/plain": [
       "<Figure size 432x288 with 1 Axes>"
      ]
     },
     "metadata": {
      "needs_background": "light"
     },
     "output_type": "display_data"
    }
   ],
   "source": [
    "df.plot(y='phi')"
   ]
  },
  {
   "cell_type": "code",
   "execution_count": null,
   "metadata": {},
   "outputs": [],
   "source": []
  }
 ],
 "metadata": {
  "kernelspec": {
   "display_name": "Python 3",
   "language": "python",
   "name": "python3"
  },
  "language_info": {
   "codemirror_mode": {
    "name": "ipython",
    "version": 3
   },
   "file_extension": ".py",
   "mimetype": "text/x-python",
   "name": "python",
   "nbconvert_exporter": "python",
   "pygments_lexer": "ipython3",
   "version": "3.5.4"
  },
  "pycharm": {
   "stem_cell": {
    "cell_type": "raw",
    "metadata": {
     "collapsed": false
    },
    "source": []
   }
  }
 },
 "nbformat": 4,
 "nbformat_minor": 1
}
