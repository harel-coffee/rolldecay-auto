{
 "cells": [
  {
   "cell_type": "markdown",
   "metadata": {
    "pycharm": {
     "is_executing": false,
     "name": "#%% md\n"
    }
   },
   "source": [
    "# Roll decay equation"
   ]
  },
  {
   "cell_type": "code",
   "execution_count": null,
   "metadata": {
    "pycharm": {
     "is_executing": false
    }
   },
   "outputs": [],
   "source": [
    "%matplotlib inline\n",
    "%load_ext autoreload\n",
    "%autoreload 2"
   ]
  },
  {
   "cell_type": "code",
   "execution_count": null,
   "metadata": {
    "pycharm": {
     "name": "#%% md\n"
    }
   },
   "outputs": [],
   "source": [
    "import sympy as sp\n",
    "#from rolldecayestimators.symbols import *\n",
    "#import rolldecayestimators.equations as equations\n",
    "from rolldecay.symbols import *\n",
    "import rolldecay.equations as equations\n",
    "\n",
    "import rolldecayestimators.direct_estimator as direct_estimator\n",
    "import rolldecayestimators.direct_linear_estimator as direct_linear_estimator\n",
    "import rolldecayestimators.direct_estimator_improved as direct_estimator_improved\n",
    "\n",
    "from latex_helpers import pylatex_extenders\n",
    "import latex_helpers\n",
    "import os.path\n",
    "from rigidbodysimulator.substitute_dynamic_symbols import substitute_dynamic_symbols, find_name, find_derivative_name, lambdify, find_derivatives\n",
    "import dill\n",
    "\n",
    "from sympy.physics.vector.printing import vpprint, vlatex\n",
    "from IPython.display import display, Math, Latex"
   ]
  },
  {
   "cell_type": "markdown",
   "metadata": {},
   "source": [
    "The roll motion can be written as [Himeno]:"
   ]
  },
  {
   "cell_type": "code",
   "execution_count": null,
   "metadata": {},
   "outputs": [],
   "source": [
    "Math(vlatex(equations.roll_equation_himeno))"
   ]
  },
  {
   "cell_type": "markdown",
   "metadata": {},
   "source": [
    "The equation express the roll moment (Nm) along a longitudinal axis though the centre of gravity.\n",
    "Where $A_{44}$ is the virtual mass moment of intertia, $B_{44}$ is the roll damping moment and $C_{44}$ is the restoring moment. $M_{44}$ represents the external moment (usually moment from external waves).\n",
    "\n",
    "The roll damping moment $B_{44}$ is the primary interest in this paper. The $B_{44}$ is determined using model scale roll decay tests. $B_{44}$ is determined using system identification, by finding the best fit to the following equation:    "
   ]
  },
  {
   "cell_type": "code",
   "execution_count": null,
   "metadata": {},
   "outputs": [],
   "source": [
    "Math(vlatex(equations.roll_decay_equation_general_himeno))"
   ]
  },
  {
   "cell_type": "markdown",
   "metadata": {},
   "source": [
    "The external moment is zero during a roll decay test, since there are no external forces present."
   ]
  },
  {
   "cell_type": "markdown",
   "metadata": {},
   "source": [
    "The $B_{44}$ can be expressed as a series expansion:  \n",
    "$ B_{44} = B_1\\cdot\\dot{\\phi} + B_2\\cdot\\dot{\\phi}\\left|\\dot{\\phi}\\right| + B_3\\cdot\\dot{\\phi}^3 + ...$"
   ]
  },
  {
   "cell_type": "markdown",
   "metadata": {},
   "source": [
    "Truncating this series at the quadratic term gives a \"quadratic damping model\":"
   ]
  },
  {
   "cell_type": "code",
   "execution_count": null,
   "metadata": {},
   "outputs": [],
   "source": [
    "B_1,B_2 = sp.symbols('B_1 B_2')\n",
    "\n",
    "b44_quadratic_equation = sp.Eq(B_44,B_1*phi_dot + B_2*phi_dot*sp.Abs(phi_dot) )\n",
    "Math(vlatex(b44_quadratic_equation))"
   ]
  },
  {
   "cell_type": "markdown",
   "metadata": {},
   "source": [
    "Truncating this series at the linear term gives a \"linear damping model\":"
   ]
  },
  {
   "cell_type": "code",
   "execution_count": null,
   "metadata": {},
   "outputs": [],
   "source": [
    "b44_quadratic_linear = sp.Eq(B_44,B_1*phi_dot)\n",
    "Math(vlatex(b44_quadratic_linear))"
   ]
  },
  {
   "cell_type": "markdown",
   "metadata": {},
   "source": [
    "Assuming quadratic damping the roll decay equation is written:"
   ]
  },
  {
   "cell_type": "code",
   "execution_count": null,
   "metadata": {},
   "outputs": [],
   "source": [
    "eqs = [equations.roll_decay_equation_general_himeno,\n",
    "            b44_quadratic_equation,\n",
    "            ]\n",
    "\n",
    "roll_decay_equation_himeno_quadratic =  equations.roll_decay_equation_general_himeno.subs(B_44,\n",
    "                                                        sp.solve(b44_quadratic_equation,B_44)[0])"
   ]
  },
  {
   "cell_type": "code",
   "execution_count": null,
   "metadata": {},
   "outputs": [],
   "source": [
    "Math(vlatex(roll_decay_equation_himeno_quadratic))"
   ]
  },
  {
   "cell_type": "markdown",
   "metadata": {},
   "source": [
    "The restoring moment can be expressed using the $GZ$ curve:"
   ]
  },
  {
   "cell_type": "code",
   "execution_count": null,
   "metadata": {},
   "outputs": [],
   "source": [
    "restoring_equation = sp.Eq(C_44,m*g*GZ)\n",
    "Math(vlatex(restoring_equation))"
   ]
  },
  {
   "cell_type": "markdown",
   "metadata": {},
   "source": [
    "where $m$ is the mass of the ship"
   ]
  },
  {
   "cell_type": "markdown",
   "metadata": {},
   "source": [
    "It is common that the restoring moment is linearized using the meta centric height $GM$:"
   ]
  },
  {
   "cell_type": "code",
   "execution_count": null,
   "metadata": {},
   "outputs": [],
   "source": [
    "restoring_equation_linear = sp.Eq(C_44,m*GM*phi)\n",
    "Math(vlatex(restoring_equation_linear))"
   ]
  },
  {
   "cell_type": "markdown",
   "metadata": {},
   "source": [
    "Introducing a helper coefficient $C$: "
   ]
  },
  {
   "cell_type": "code",
   "execution_count": null,
   "metadata": {},
   "outputs": [],
   "source": [
    "C = sp.Symbol('C')\n",
    "C_equation = sp.Eq(C,C_44/phi)\n",
    "Math(vlatex(C_equation))"
   ]
  },
  {
   "cell_type": "markdown",
   "metadata": {},
   "source": [
    "In the case of linearized restoring moment $C$ can be written as:"
   ]
  },
  {
   "cell_type": "code",
   "execution_count": null,
   "metadata": {},
   "outputs": [],
   "source": [
    "C_equation.subs(C_44,sp.solve(restoring_equation_linear,C_44)[0])"
   ]
  },
  {
   "cell_type": "code",
   "execution_count": null,
   "metadata": {},
   "outputs": [],
   "source": [
    "roll_decay_equation_himeno_quadratic_c = roll_decay_equation_himeno_quadratic.subs(C_44,sp.solve(C_equation, C_44)[0])\n",
    "Math(vlatex(roll_decay_equation_himeno_quadratic_c))"
   ]
  },
  {
   "cell_type": "markdown",
   "metadata": {},
   "source": [
    "It is common to rewrite the roll decay equation by dividing with $A_{44}$ and conducting the following substitutions:"
   ]
  },
  {
   "cell_type": "code",
   "execution_count": null,
   "metadata": {},
   "outputs": [],
   "source": [
    "zeta_equation = sp.Eq(2*zeta,B_1/A_44)\n",
    "zeta_equation"
   ]
  },
  {
   "cell_type": "code",
   "execution_count": null,
   "metadata": {},
   "outputs": [],
   "source": [
    "d_equation = sp.Eq(d,B_2/A_44)\n",
    "d_equation"
   ]
  },
  {
   "cell_type": "code",
   "execution_count": null,
   "metadata": {},
   "outputs": [],
   "source": [
    "omega0_equation = sp.Eq(omega0,sp.sqrt(C/A_44))\n",
    "Math(vlatex(omega0_equation))"
   ]
  },
  {
   "cell_type": "code",
   "execution_count": null,
   "metadata": {},
   "outputs": [],
   "source": [
    "eq = sp.Eq(roll_decay_equation_himeno_quadratic_c.lhs/A_44,0)"
   ]
  },
  {
   "cell_type": "markdown",
   "metadata": {},
   "source": [
    "Commonly used quadratic roll decay equation:"
   ]
  },
  {
   "cell_type": "code",
   "execution_count": null,
   "metadata": {},
   "outputs": [],
   "source": [
    "subs = [\n",
    "    (B_1,sp.solve(zeta_equation,B_1)[0]),\n",
    "    (B_2,sp.solve(d_equation,B_2)[0]),\n",
    "    (C/A_44, sp.solve(omega0_equation,C/A_44)[0])\n",
    "    \n",
    "]\n",
    "\n",
    "roll_decay_equation_quadratic = sp.Eq(sp.expand(eq.lhs).subs(subs),0)\n",
    "roll_decay_equation_quadratic = sp.factor(roll_decay_equation_quadratic,phi_dot)\n",
    "\n",
    "Math(vlatex(roll_decay_equation_quadratic))"
   ]
  },
  {
   "cell_type": "markdown",
   "metadata": {},
   "source": [
    "And linear roll decay equation is obtained when $d=0$"
   ]
  },
  {
   "cell_type": "code",
   "execution_count": null,
   "metadata": {},
   "outputs": [],
   "source": [
    "roll_decay_equation_linear = roll_decay_equation_quadratic.subs(d,0)\n",
    "\n",
    "Math(vlatex(roll_decay_equation_linear))"
   ]
  }
 ],
 "metadata": {
  "kernelspec": {
   "display_name": "Python 3",
   "language": "python",
   "name": "python3"
  },
  "language_info": {
   "codemirror_mode": {
    "name": "ipython",
    "version": 3
   },
   "file_extension": ".py",
   "mimetype": "text/x-python",
   "name": "python",
   "nbconvert_exporter": "python",
   "pygments_lexer": "ipython3",
   "version": "3.5.4"
  },
  "pycharm": {
   "stem_cell": {
    "cell_type": "raw",
    "metadata": {
     "collapsed": false
    },
    "source": []
   }
  }
 },
 "nbformat": 4,
 "nbformat_minor": 1
}
