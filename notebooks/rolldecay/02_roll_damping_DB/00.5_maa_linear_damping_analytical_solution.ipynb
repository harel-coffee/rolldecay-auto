{
 "cells": [
  {
   "cell_type": "markdown",
   "metadata": {},
   "source": [
    "# Linear roll motion analytical solution\n",
    "As decribed by Journee, Peter Piel etc."
   ]
  },
  {
   "cell_type": "code",
   "execution_count": null,
   "metadata": {},
   "outputs": [],
   "source": [
    "%matplotlib inline\n",
    "%load_ext autoreload\n",
    "%autoreload 2"
   ]
  },
  {
   "cell_type": "code",
   "execution_count": null,
   "metadata": {},
   "outputs": [],
   "source": [
    "#from jupyterthemes import jtplot\n",
    "#jtplot.style(theme='chesterish', context='notebook', ticks=True, grid=False)"
   ]
  },
  {
   "cell_type": "code",
   "execution_count": null,
   "metadata": {},
   "outputs": [],
   "source": [
    "import sympy as sp\n",
    "import matplotlib.pyplot as plt\n",
    "import pandas as pd\n",
    "import numpy as np\n",
    "\n",
    "from sympy.physics.mechanics import dynamicsymbols\n",
    "\n",
    "from rolldecay.symbols import *\n",
    "from rolldecay import equations\n",
    "\n",
    "from rolldecayestimators.substitute_dynamic_symbols import lambdify\n",
    "from rolldecayestimators import direct_linear_estimator\n",
    "\n",
    "from sympy.physics.vector.printing import vpprint, vlatex\n",
    "from IPython.display import display, Math, Latex\n",
    "from rolldecay import paper_writing"
   ]
  },
  {
   "cell_type": "markdown",
   "metadata": {},
   "source": [
    "## General Linear ordinary differential equation:"
   ]
  },
  {
   "cell_type": "code",
   "execution_count": null,
   "metadata": {},
   "outputs": [],
   "source": [
    "Math(vlatex(equations.diff_eq))"
   ]
  },
  {
   "cell_type": "code",
   "execution_count": null,
   "metadata": {},
   "outputs": [],
   "source": [
    "equations.equation_D"
   ]
  },
  {
   "cell_type": "code",
   "execution_count": null,
   "metadata": {},
   "outputs": [],
   "source": [
    "Math(vlatex(equations.analytical_solution_general))"
   ]
  },
  {
   "cell_type": "code",
   "execution_count": null,
   "metadata": {},
   "outputs": [],
   "source": [
    "Math(vlatex(equations.analytical_solution))"
   ]
  },
  {
   "cell_type": "code",
   "execution_count": null,
   "metadata": {},
   "outputs": [],
   "source": [
    "Math(vlatex(equations.analytical_phi1d))"
   ]
  },
  {
   "cell_type": "code",
   "execution_count": null,
   "metadata": {},
   "outputs": [],
   "source": [
    "Math(vlatex(equations.analytical_phi2d))"
   ]
  },
  {
   "cell_type": "code",
   "execution_count": null,
   "metadata": {},
   "outputs": [],
   "source": [
    "analytical_solution_lambda = lambdify(sp.solve(equations.analytical_solution,phi)[0])\n",
    "analytical_solution_phi1d_lambda = lambdify(sp.solve(equations.analytical_phi1d,phi_dot)[0])\n",
    "analytical_solution_phi2s_lambda = lambdify(sp.solve(equations.analytical_phi2d,phi_dot_dot)[0])\n"
   ]
  },
  {
   "cell_type": "code",
   "execution_count": null,
   "metadata": {},
   "outputs": [],
   "source": [
    "time = np.linspace(0,100,1000)\n",
    "df = pd.DataFrame(index=time)\n",
    "df['t']=time\n",
    "df['zeta'] = 0.1\n",
    "df['omega0'] = 0.5\n",
    "df['phi_0'] = np.deg2rad(10)\n",
    "df['phi_01d'] = 0.0\n",
    "\n",
    "result = df.copy()\n",
    "result['phi'] = analytical_solution_lambda(**df,)\n",
    "result['phi1d'] = analytical_solution_phi1d_lambda(**df,)\n",
    "result['phi2d'] = analytical_solution_phi2s_lambda(**df,)"
   ]
  },
  {
   "cell_type": "code",
   "execution_count": null,
   "metadata": {},
   "outputs": [],
   "source": [
    "analytical_solution_lambda"
   ]
  },
  {
   "cell_type": "markdown",
   "metadata": {},
   "source": [
    "### Numerical solution"
   ]
  },
  {
   "cell_type": "code",
   "execution_count": null,
   "metadata": {},
   "outputs": [],
   "source": [
    "linear_estimator = direct_linear_estimator.DirectLinearEstimator()\n",
    "\n",
    "s0 = df.iloc[0]\n",
    "time=np.array(df['t'])\n",
    "result_sim = linear_estimator.simulate(t=time,phi0=s0['phi_0'],\n",
    "                                       phi1d0=s0['phi_01d'], \n",
    "                                       omega0=s0['omega0'], \n",
    "                                       zeta=s0['zeta'])\n",
    "result_sim = result_sim.combine_first(df)"
   ]
  },
  {
   "cell_type": "code",
   "execution_count": null,
   "metadata": {},
   "outputs": [],
   "source": [
    "fig,axes = plt.subplots(nrows = 3)\n",
    "fig.set_size_inches(15,10)\n",
    "keys = ['phi','phi1d','phi2d']\n",
    "labels = ['$\\Phi$ [rad]','$\\dot{\\Phi}$ [rad/s]','$\\ddot{\\Phi}$ $[rad/s^2]$']\n",
    "for ax, key, label in zip(axes,keys, labels):\n",
    "    result.plot(y=key, ax=ax, label='analytical')\n",
    "    result_sim.plot(y=key, ax=ax, label='numerical',style='--')\n",
    "    \n",
    "    \n",
    "    ax.set_ylabel(label)\n",
    "    \n",
    "ax.set_xlabel('Time [s]');\n",
    "axes[0].set_title('Solutions to linear roll motion ($\\omega_0$:%0.1f [rad/s], $\\zeta$:%0.1f [-])' % \n",
    "             (df.iloc[0]['omega0'], df.iloc[0]['zeta']));\n",
    "\n",
    "paper_writing.save_fig(fig=fig, name='analytical')"
   ]
  },
  {
   "cell_type": "code",
   "execution_count": null,
   "metadata": {},
   "outputs": [],
   "source": [
    "from ipywidgets import interactive"
   ]
  },
  {
   "cell_type": "code",
   "execution_count": null,
   "metadata": {},
   "outputs": [],
   "source": [
    "time = np.linspace(0,100,300)\n",
    "df = pd.DataFrame(index=time)\n",
    "df['t']=time"
   ]
  },
  {
   "cell_type": "code",
   "execution_count": null,
   "metadata": {},
   "outputs": [],
   "source": [
    "def f(zeta=0.1,omega0=0.5,phi_0=10):\n",
    "    fig,ax = plt.subplots()\n",
    "    ax.set_xlim(0,time[-1])\n",
    "    ax.set_ylim(-10,10)\n",
    "    fig.set_size_inches(15,5)\n",
    "    \n",
    "    df['zeta'] = zeta\n",
    "    df['omega0'] = omega0\n",
    "    df['phi_0'] = np.deg2rad(phi_0)\n",
    "    df['phi_01d'] = 0\n",
    "\n",
    "    result = df.copy()\n",
    "    result['phi'] = analytical_solution_lambda(**df,)\n",
    "    result['phi']=np.rad2deg(result['phi'])\n",
    "    ax.set_ylabel('Roll angle $\\Phi$ [deg]')\n",
    "    ax.set_xlabel('Time [s]')\n",
    "    result.plot(y='phi', ax=ax)\n",
    "    \n",
    "    plt.show()\n",
    "\n",
    "interactive_plot = interactive(f, zeta=(0.05,0.30, 0.01), omega0=(0.1,1,0.05), phi_0=(1.0,10.0,0.5))\n",
    "output = interactive_plot.children[-1]\n",
    "output.layout.height = '350px'\n",
    "interactive_plot"
   ]
  },
  {
   "cell_type": "code",
   "execution_count": null,
   "metadata": {},
   "outputs": [],
   "source": []
  }
 ],
 "metadata": {
  "kernelspec": {
   "display_name": "Python 3",
   "language": "python",
   "name": "python3"
  },
  "language_info": {
   "codemirror_mode": {
    "name": "ipython",
    "version": 3
   },
   "file_extension": ".py",
   "mimetype": "text/x-python",
   "name": "python",
   "nbconvert_exporter": "python",
   "pygments_lexer": "ipython3",
   "version": "3.5.4"
  }
 },
 "nbformat": 4,
 "nbformat_minor": 4
}
