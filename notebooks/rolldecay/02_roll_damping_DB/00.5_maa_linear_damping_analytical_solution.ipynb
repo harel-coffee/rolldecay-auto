{
 "cells": [
  {
   "cell_type": "markdown",
   "metadata": {},
   "source": [
    "# Linear roll motion analytical solution\n",
    "As decribed by Journee, Peter Piel etc."
   ]
  },
  {
   "cell_type": "code",
   "execution_count": null,
   "metadata": {},
   "outputs": [],
   "source": [
    "import sympy as sp\n",
    "import matplotlib.pyplot as plt\n",
    "import pandas as pd\n",
    "import numpy as np\n",
    "\n",
    "from sympy.physics.mechanics import dynamicsymbols\n",
    "\n",
    "from rolldecay.symbols import *\n",
    "\n",
    "from rolldecayestimators.substitute_dynamic_symbols import lambdify\n",
    "from rolldecayestimators import direct_linear_estimator\n",
    "\n",
    "from sympy.physics.vector.printing import vpprint, vlatex\n",
    "from IPython.display import display, Math, Latex"
   ]
  },
  {
   "cell_type": "code",
   "execution_count": null,
   "metadata": {},
   "outputs": [],
   "source": [
    "delta = sp.symbols('delta')\n",
    "y = dynamicsymbols('y')\n",
    "y0 = dynamicsymbols('y0')\n",
    "y0_dot = y0.diff()\n",
    "y0_dotdot = y0_dot.diff()\n",
    "\n",
    "D = sp.symbols('D')\n",
    "\n"
   ]
  },
  {
   "cell_type": "markdown",
   "metadata": {},
   "source": [
    "## General Linear ordinary differential equation:"
   ]
  },
  {
   "cell_type": "code",
   "execution_count": null,
   "metadata": {},
   "outputs": [],
   "source": [
    "diff_eq = sp.Eq(y.diff().diff() + 2*delta*omega0*y.diff() + omega0**2*y,0)\n",
    "Math(vlatex(diff_eq))"
   ]
  },
  {
   "cell_type": "code",
   "execution_count": null,
   "metadata": {},
   "outputs": [],
   "source": [
    "equation_D = sp.Eq(D,sp.sqrt(1-delta**2))\n",
    "equation_D"
   ]
  },
  {
   "cell_type": "code",
   "execution_count": null,
   "metadata": {},
   "outputs": [],
   "source": [
    "lhs = y\n",
    "rhs = sp.exp(-delta*omega0*t)*(y0*sp.cos(omega0*D*t) + (y0_dot/(omega0*D) + delta*y0/D)*sp.sin(omega0*D*t))\n",
    "\n",
    "analytical_solution_general = sp.Eq(lhs,rhs)\n",
    "Math(vlatex(analytical_solution_general))"
   ]
  },
  {
   "cell_type": "code",
   "execution_count": null,
   "metadata": {},
   "outputs": [],
   "source": [
    "phi_0 = dynamicsymbols('phi_0')\n",
    "phi_0_dot = phi_0.diff()\n",
    "phi_0_dotdot = phi_0_dot.diff()\n",
    "\n",
    "\n",
    "subs = [\n",
    "    (y,phi),\n",
    "    (y0, phi_0),\n",
    "    (y0_dot, phi_0_dot),\n",
    "    (y0_dotdot, phi_0_dotdot),\n",
    "    (D,sp.solve(equation_D,D)[0]),\n",
    "    (delta, zeta),\n",
    "]\n",
    "\n",
    "analytical_solution = analytical_solution_general.subs(subs)\n",
    "Math(vlatex(analytical_solution))"
   ]
  },
  {
   "cell_type": "code",
   "execution_count": null,
   "metadata": {},
   "outputs": [],
   "source": [
    "analytical_phi1d = sp.Eq(phi_dot,sp.simplify(analytical_solution.rhs.diff(t)))\n",
    "Math(vlatex(analytical_phi1d))"
   ]
  },
  {
   "cell_type": "code",
   "execution_count": null,
   "metadata": {},
   "outputs": [],
   "source": [
    "analytical_phi2d = sp.Eq(phi_dot_dot,sp.simplify(analytical_phi1d.rhs.diff(t)))\n",
    "Math(vlatex(analytical_phi2d))"
   ]
  },
  {
   "cell_type": "code",
   "execution_count": null,
   "metadata": {},
   "outputs": [],
   "source": [
    "analytical_solution_lambda = lambdify(sp.solve(analytical_solution,phi)[0])\n",
    "analytical_solution_phi1d_lambda = lambdify(sp.solve(analytical_phi1d,phi_dot)[0])\n",
    "analytical_solution_phi2s_lambda = lambdify(sp.solve(analytical_phi2d,phi_dot_dot)[0])\n"
   ]
  },
  {
   "cell_type": "code",
   "execution_count": null,
   "metadata": {},
   "outputs": [],
   "source": [
    "time = np.linspace(0,100,1000)\n",
    "df = pd.DataFrame(index=time)\n",
    "df['t']=time\n",
    "df['zeta'] = 0.1\n",
    "df['omega0'] = 0.5\n",
    "df['phi_0'] = np.deg2rad(10)\n",
    "df['phi_01d'] = 0.0\n",
    "\n",
    "result = df.copy()\n",
    "result['phi'] = analytical_solution_lambda(**df,)\n",
    "result['phi1d'] = analytical_solution_phi1d_lambda(**df,)\n",
    "result['phi2d'] = analytical_solution_phi2s_lambda(**df,)"
   ]
  },
  {
   "cell_type": "markdown",
   "metadata": {},
   "source": [
    "### Numerical solution"
   ]
  },
  {
   "cell_type": "code",
   "execution_count": null,
   "metadata": {},
   "outputs": [],
   "source": [
    "linear_estimator = direct_linear_estimator.DirectLinearEstimator()\n",
    "\n",
    "s0 = df.iloc[0]\n",
    "time=df['t']\n",
    "result_sim = linear_estimator.simulate(t=time,phi0=s0['phi_0'],phi1d0=s0['phi_01d'], omega0=s0['omega0'], zeta=s0['zeta'])\n",
    "result_sim = result_sim.combine_first(df)"
   ]
  },
  {
   "cell_type": "code",
   "execution_count": null,
   "metadata": {},
   "outputs": [],
   "source": [
    "fig,axes = plt.subplots(nrows = 3)\n",
    "fig.set_size_inches(15,10)\n",
    "keys = ['phi','phi1d','phi2d']\n",
    "labels = ['$\\Phi$ [rad]','$\\dot{\\Phi}$ [rad/s]','$\\ddot{\\Phi}$ $[rad/s^2]$']\n",
    "for ax, key, label in zip(axes,keys, labels):\n",
    "    result.plot(y=key, ax=ax, label='analytical')\n",
    "    result_sim.plot(y=key, ax=ax, label='numerical',style='--')\n",
    "    \n",
    "    \n",
    "    ax.set_ylabel(label)\n",
    "    \n",
    "ax.set_xlabel('Time [s]');\n",
    "axes[0].set_title('Solutions to linear roll motion ($\\omega_0$:%0.1f [rad/s], $\\zeta$:%0.1f [-])' % \n",
    "             (df.iloc[0]['omega0'], df.iloc[0]['zeta']));\n",
    "\n"
   ]
  },
  {
   "cell_type": "code",
   "execution_count": null,
   "metadata": {},
   "outputs": [],
   "source": [
    "from ipywidgets import interactive"
   ]
  },
  {
   "cell_type": "code",
   "execution_count": null,
   "metadata": {},
   "outputs": [],
   "source": [
    "time = np.linspace(0,100,300)\n",
    "df = pd.DataFrame(index=time)\n",
    "df['t']=time"
   ]
  },
  {
   "cell_type": "code",
   "execution_count": null,
   "metadata": {},
   "outputs": [],
   "source": [
    "def f(zeta=0.1,omega0=0.5,phi_0=10):\n",
    "    fig,ax = plt.subplots()\n",
    "    ax.set_xlim(0,time[-1])\n",
    "    ax.set_ylim(-10,10)\n",
    "    fig.set_size_inches(15,5)\n",
    "    \n",
    "    df['zeta'] = zeta\n",
    "    df['omega0'] = omega0\n",
    "    df['phi_0'] = np.deg2rad(phi_0)\n",
    "    df['phi_01d'] = 0\n",
    "\n",
    "    result = df.copy()\n",
    "    result['phi'] = analytical_solution_lambda(**df,)\n",
    "    result['phi']=np.rad2deg(result['phi'])\n",
    "    ax.set_ylabel('Roll angle $\\Phi$ [deg]')\n",
    "    ax.set_xlabel('Time [s]')\n",
    "    result.plot(y='phi', ax=ax)\n",
    "    \n",
    "    plt.show()\n",
    "\n",
    "interactive_plot = interactive(f, zeta=(0.05,0.30, 0.01), omega0=(0.1,1,0.05), phi_0=(1.0,10.0,0.5))\n",
    "output = interactive_plot.children[-1]\n",
    "output.layout.height = '350px'\n",
    "interactive_plot"
   ]
  },
  {
   "cell_type": "code",
   "execution_count": null,
   "metadata": {},
   "outputs": [],
   "source": []
  }
 ],
 "metadata": {
  "kernelspec": {
   "display_name": "Python 3",
   "language": "python",
   "name": "python3"
  },
  "language_info": {
   "codemirror_mode": {
    "name": "ipython",
    "version": 3
   },
   "file_extension": ".py",
   "mimetype": "text/x-python",
   "name": "python",
   "nbconvert_exporter": "python",
   "pygments_lexer": "ipython3",
   "version": "3.5.4"
  }
 },
 "nbformat": 4,
 "nbformat_minor": 4
}
