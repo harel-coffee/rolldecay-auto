{
 "cells": [
  {
   "cell_type": "markdown",
   "metadata": {},
   "source": [
    "# MDL DB read"
   ]
  },
  {
   "cell_type": "code",
   "execution_count": null,
   "metadata": {
    "pycharm": {
     "is_executing": false
    }
   },
   "outputs": [],
   "source": [
    "%matplotlib inline\n",
    "%load_ext autoreload\n",
    "%autoreload 2"
   ]
  },
  {
   "cell_type": "code",
   "execution_count": null,
   "metadata": {
    "pycharm": {
     "is_executing": false
    }
   },
   "outputs": [],
   "source": [
    "import pandas as pd\n",
    "pd.set_option(\"display.max_columns\", None)\n",
    "import numpy as np\n",
    "import matplotlib.pyplot as plt\n",
    "from pylab import rcParams\n",
    "rcParams['lines.linewidth'] = 1.5\n",
    "\n",
    "import os\n",
    "import copy\n",
    "\n",
    "import data\n",
    "from mdldb.mdl_db import MDLDataBase\n",
    "from mdldb.tables import Run\n",
    "from rolldecayestimators.transformers import CutTransformer, LowpassFilterDerivatorTransformer, ScaleFactorTransformer, OffsetTransformer\n",
    "from rolldecayestimators.analytical_linear_estimator import AnalyticalLinearEstimator\n",
    "from rolldecayestimators.direct_linear_estimator import DirectLinearEstimator\n",
    "\n",
    "from mdldb import mdl_to_evaluation\n",
    "from evaluation.run_dynamic import RunDynamic\n",
    "from evaluation.run_manoeuvring import RunZigZag\n",
    "from sklearn.pipeline import Pipeline\n",
    "import signal_lab"
   ]
  },
  {
   "cell_type": "code",
   "execution_count": null,
   "metadata": {
    "pycharm": {
     "is_executing": false
    }
   },
   "outputs": [],
   "source": [
    "from sqlalchemy import create_engine\n",
    "engine = create_engine('sqlite:///' + data.mdl_db_path)\n",
    "db = MDLDataBase(engine=engine)"
   ]
  },
  {
   "cell_type": "code",
   "execution_count": null,
   "metadata": {
    "pycharm": {
     "is_executing": false
    }
   },
   "outputs": [],
   "source": [
    "db.session.query(Run.test_type).distinct().all()"
   ]
  },
  {
   "cell_type": "code",
   "execution_count": null,
   "metadata": {
    "pycharm": {
     "is_executing": false
    }
   },
   "outputs": [],
   "source": [
    "len(db.session.query(Run).filter(Run.test_type=='roll decay').all())"
   ]
  },
  {
   "cell_type": "code",
   "execution_count": null,
   "metadata": {
    "pycharm": {
     "is_executing": false
    }
   },
   "outputs": [],
   "source": [
    "roll_decay_tests = db.session.query(Run).filter(Run.test_type=='roll decay')"
   ]
  },
  {
   "cell_type": "code",
   "execution_count": null,
   "metadata": {
    "pycharm": {
     "is_executing": false
    }
   },
   "outputs": [],
   "source": [
    "db_run = roll_decay_tests[10]"
   ]
  },
  {
   "cell_type": "code",
   "execution_count": null,
   "metadata": {
    "pycharm": {
     "is_executing": false
    }
   },
   "outputs": [],
   "source": [
    "db_run.ship_speed"
   ]
  },
  {
   "cell_type": "code",
   "execution_count": null,
   "metadata": {
    "pycharm": {
     "is_executing": false
    }
   },
   "outputs": [],
   "source": [
    "db_run.loading_condition.name"
   ]
  },
  {
   "cell_type": "code",
   "execution_count": null,
   "metadata": {
    "pycharm": {
     "is_executing": false
    }
   },
   "outputs": [],
   "source": [
    "ascii_file = db_run.load()"
   ]
  },
  {
   "cell_type": "code",
   "execution_count": null,
   "metadata": {
    "pycharm": {
     "is_executing": false
    }
   },
   "outputs": [],
   "source": [
    "run = mdl_to_evaluation.db_run_to_evaluation_run(run=db_run)"
   ]
  },
  {
   "cell_type": "code",
   "execution_count": null,
   "metadata": {
    "pycharm": {
     "is_executing": false
    }
   },
   "outputs": [],
   "source": [
    "run.track_plot()"
   ]
  },
  {
   "cell_type": "code",
   "execution_count": null,
   "metadata": {
    "pycharm": {
     "is_executing": false
    }
   },
   "outputs": [],
   "source": [
    "run.plot('roll')"
   ]
  },
  {
   "cell_type": "code",
   "execution_count": null,
   "metadata": {
    "pycharm": {
     "is_executing": false
    }
   },
   "outputs": [],
   "source": [
    "ascii_file = db_run.load()\n",
    "df_raw = ascii_file.channels\n",
    "df = signal_lab.mdl_to_evaluation.do_transforms(df=df_raw)\n",
    "df.rename(columns={'MA/Roll':'phi'}, inplace=True)\n",
    "df.plot(y='phi')"
   ]
  },
  {
   "cell_type": "code",
   "execution_count": null,
   "metadata": {
    "pycharm": {
     "is_executing": false
    }
   },
   "outputs": [],
   "source": [
    "lowpass_filter = LowpassFilterDerivatorTransformer(cutoff=1, minimum_score=0.99)\n",
    "scaler = ScaleFactorTransformer(scale_factor=db_run.model.scale_factor)  # dummy value None for now\n",
    "cutter = CutTransformer(phi_max=np.deg2rad(9), phi_min=np.deg2rad(1))\n",
    "offset_transformer = OffsetTransformer()\n"
   ]
  },
  {
   "cell_type": "code",
   "execution_count": null,
   "metadata": {
    "pycharm": {
     "is_executing": false
    }
   },
   "outputs": [],
   "source": [
    "df_cut = cutter.fit_transform(df)\n",
    "df_cut.plot(y='phi')"
   ]
  },
  {
   "cell_type": "code",
   "execution_count": null,
   "metadata": {
    "pycharm": {
     "is_executing": false
    }
   },
   "outputs": [],
   "source": [
    "analytical_estimator = AnalyticalLinearEstimator()\n",
    "\n",
    "steps = [\n",
    "    ('filter',lowpass_filter),\n",
    "    ('scaler',scaler),\n",
    "    ('cutter', cutter), \n",
    "    #('offset_transformer',offset_transformer),\n",
    "    ('analytical_linear_estimator', analytical_estimator)]\n",
    "        \n",
    "pipeline_analytical_linear = Pipeline(steps) # define the pipeline object."
   ]
  },
  {
   "cell_type": "code",
   "execution_count": null,
   "metadata": {},
   "outputs": [],
   "source": [
    "def fit_predict(db_run, pipeline):\n",
    "    \n",
    "    ascii_file = db_run.load()\n",
    "    df_raw = ascii_file.channels\n",
    "    \n",
    "    df = signal_lab.mdl_to_evaluation.do_transforms(df=df_raw)\n",
    "        \n",
    "    _pipline = copy.deepcopy(pipeline)\n",
    "    \n",
    "    scaler = _pipline['scaler']\n",
    "    scaler.scale_factor = db_run.model.scale_factor\n",
    "    \n",
    "    df.rename(columns={'MA/Roll':'phi'}, inplace=True)\n",
    "    \n",
    "    # Fit:\n",
    "    _pipline.fit(X=df)\n",
    "    \n",
    "    # Predict:\n",
    "    estimator = _pipline[-1]\n",
    "    s = {} \n",
    "    s.update(estimator.parameters)\n",
    "    s['score'] = estimator.score(X=estimator.X)\n",
    "    s['mean_damping'] = estimator.calculate_average_linear_damping()\n",
    "    X = estimator.X\n",
    "    s['phi_start'] = X.iloc[0]['phi']\n",
    "    s['phi_stop'] = X.iloc[-1]['phi']\n",
    "    \n",
    "    \n",
    "    if not 'd' in s:\n",
    "        s['d'] = 0\n",
    "    \n",
    "    return s,_pipline, df"
   ]
  },
  {
   "cell_type": "code",
   "execution_count": null,
   "metadata": {},
   "outputs": [],
   "source": [
    "s,_pipline, df = fit_predict(db_run=db_run, pipeline=pipeline_analytical_linear)"
   ]
  },
  {
   "cell_type": "code",
   "execution_count": null,
   "metadata": {},
   "outputs": [],
   "source": [
    "s"
   ]
  },
  {
   "cell_type": "code",
   "execution_count": null,
   "metadata": {},
   "outputs": [],
   "source": [
    "estimator = _pipline[-1]\n",
    "estimator.plot_fit()"
   ]
  },
  {
   "cell_type": "code",
   "execution_count": null,
   "metadata": {},
   "outputs": [],
   "source": [
    "ascii_file = db_run.load()\n",
    "df_raw = ascii_file.channels\n",
    "\n",
    "df = signal_lab.mdl_to_evaluation.do_transforms(df=df_raw)\n",
    "df.rename(columns={'MA/Roll':'phi'}, inplace=True)"
   ]
  },
  {
   "cell_type": "code",
   "execution_count": null,
   "metadata": {},
   "outputs": [],
   "source": [
    "np.rad2deg(df['phi'].max())"
   ]
  },
  {
   "cell_type": "code",
   "execution_count": null,
   "metadata": {},
   "outputs": [],
   "source": [
    "ftol = 10**-15\n",
    "\n",
    "phi_maxs = np.linspace(9,2,10)\n",
    "df_result = pd.DataFrame()\n",
    "\n",
    "for phi_max in phi_maxs:\n",
    "    \n",
    "    lowpass_filter = LowpassFilterDerivatorTransformer(cutoff=1, minimum_score=0.99)\n",
    "    cutter = CutTransformer(phi_max=np.deg2rad(phi_max), phi_min=np.deg2rad(0.25))\n",
    "    \n",
    "    steps = [('filter',lowpass_filter),\n",
    "             ('scaler',scaler),\n",
    "             ('cutter', cutter),\n",
    "            ]\n",
    "    \n",
    "    preprocess = Pipeline(steps)\n",
    "    X = preprocess.fit_transform(df)\n",
    "    \n",
    "    analytical_estimator = AnalyticalLinearEstimator(ftol=ftol, omega_regression=True)\n",
    "    \n",
    "    analytical_estimator.fit(X=X)\n",
    "    \n",
    "    fig,axes=plt.subplots(ncols=2)\n",
    "    fig.set_size_inches(14,6)\n",
    "    analytical_estimator.plot_fit(ax=axes[0])\n",
    "    analytical_estimator.plot_fft(ax=axes[1])\n",
    "    axes[1].set_xlim(0,0.7)\n",
    "    \n",
    "    \n",
    "    # Predict:\n",
    "    estimator = analytical_estimator\n",
    "    s={}\n",
    "    s.update(estimator.parameters)\n",
    "    s['score'] = estimator.score(X=estimator.X)\n",
    "    s['mean_damping'] = estimator.calculate_average_linear_damping()\n",
    "    X = estimator.X\n",
    "    s['phi_start'] = X.iloc[0]['phi']\n",
    "    s['phi_stop'] = X.iloc[-1]['phi']\n",
    "    \n",
    "    s = pd.Series(s, name=phi_max)\n",
    "    df_result=df_result.append(s)\n"
   ]
  },
  {
   "cell_type": "code",
   "execution_count": null,
   "metadata": {},
   "outputs": [],
   "source": [
    "fig,ax = plt.subplots()\n",
    "df_result.plot(y='score', ax=ax, label='score')\n",
    "ax.legend(loc='upper left')\n",
    "ax.set_ylabel('score')\n",
    "ax.set_xlabel('$max(\\phi)$ [deg]')\n",
    "\n",
    "ax2 = ax.twinx()\n",
    "ax2.set_ylabel('omega0', color='red')\n",
    "df_result.plot(y='omega0', ax=ax2, style='r-')\n",
    "\n",
    "fig,ax = plt.subplots()\n",
    "df_result.plot(y='zeta', ax=ax)\n",
    "\n"
   ]
  },
  {
   "cell_type": "code",
   "execution_count": null,
   "metadata": {},
   "outputs": [],
   "source": [
    "analytical_estimator.X_amplitudes.plot(x='phi',y = 'omega0', style='o')"
   ]
  },
  {
   "cell_type": "code",
   "execution_count": null,
   "metadata": {},
   "outputs": [],
   "source": [
    "omega0_max = analytical_estimator.X_amplitudes['omega0'].max()\n",
    "omega0_min = analytical_estimator.X_amplitudes['omega0'].min()\n",
    "\n",
    "df = X.copy()\n",
    "df['phi_omega_max'] = analytical_estimator._equation_omega(df=X,omega0=omega0_max,zeta = analytical_estimator.parameters['zeta'])\n",
    "df['phi_omega_min'] = analytical_estimator._equation_omega(df=X,omega0=omega0_min,zeta = analytical_estimator.parameters['zeta'])\n",
    "\n",
    "fig,ax=plt.subplots()\n",
    "fig.set_size_inches(14,7)\n",
    "fig.set_dpi(200)\n",
    "df.plot(y='phi', label='model test', ax=ax)\n",
    "df.plot(y='phi_omega_max', ax=ax)\n",
    "df.plot(y='phi_omega_min', ax=ax)\n",
    "ax.legend()\n",
    "\n",
    "\n"
   ]
  },
  {
   "cell_type": "code",
   "execution_count": null,
   "metadata": {},
   "outputs": [],
   "source": [
    "ftol = 10**-15\n",
    "\n",
    "phi_maxs = np.linspace(4,2,10)\n",
    "df_result = pd.DataFrame()\n",
    "\n",
    "for phi_max in phi_maxs:\n",
    "    \n",
    "    lowpass_filter = LowpassFilterDerivatorTransformer(cutoff=1, minimum_score=0.99)\n",
    "    cutter = CutTransformer(phi_max=np.deg2rad(phi_max), phi_min=np.deg2rad(0.25))\n",
    "    \n",
    "    steps = [('filter',lowpass_filter),\n",
    "             ('scaler',scaler),\n",
    "             ('cutter', cutter),\n",
    "            ]\n",
    "    \n",
    "    preprocess = Pipeline(steps)\n",
    "    X = preprocess.fit_transform(df)\n",
    "    \n",
    "    analytical_estimator = DirectLinearEstimator(ftol=ftol, omega_regression=False)\n",
    "    \n",
    "    analytical_estimator.fit(X=X)\n",
    "    \n",
    "    fig,axes=plt.subplots(ncols=2)\n",
    "    fig.set_size_inches(14,6)\n",
    "    analytical_estimator.plot_fit(ax=axes[0])\n",
    "    analytical_estimator.plot_fft(ax=axes[1])\n",
    "    axes[1].set_xlim(0,0.7)\n",
    "\n",
    "    \n",
    "    \n",
    "    # Predict:\n",
    "    estimator = analytical_estimator\n",
    "    s={}\n",
    "    s.update(estimator.parameters)\n",
    "    s['score'] = estimator.score(X=estimator.X)\n",
    "    s['mean_damping'] = estimator.calculate_average_linear_damping()\n",
    "    X = estimator.X\n",
    "    s['phi_start'] = X.iloc[0]['phi']\n",
    "    s['phi_stop'] = X.iloc[-1]['phi']\n",
    "    \n",
    "    s = pd.Series(s, name=phi_max)\n",
    "    df_result=df_result.append(s)"
   ]
  },
  {
   "cell_type": "code",
   "execution_count": null,
   "metadata": {},
   "outputs": [],
   "source": [
    "analytical_estimator.X_amplitudes.plot(x='phi',y = 'omega0', style='o')"
   ]
  },
  {
   "cell_type": "code",
   "execution_count": null,
   "metadata": {},
   "outputs": [],
   "source": []
  },
  {
   "cell_type": "code",
   "execution_count": null,
   "metadata": {},
   "outputs": [],
   "source": []
  },
  {
   "cell_type": "code",
   "execution_count": null,
   "metadata": {},
   "outputs": [],
   "source": [
    "fig,ax = plt.subplots()\n",
    "df_result.plot(y='score', ax=ax, label='score')\n",
    "ax.legend(loc='upper left')\n",
    "ax.set_ylabel('score')\n",
    "ax.set_xlabel('$max(\\phi)$ [deg]')\n",
    "\n",
    "ax2 = ax.twinx()\n",
    "ax2.set_ylabel('omega0', color='red')\n",
    "df_result.plot(y='omega0', ax=ax2, style='r-')\n",
    "\n",
    "fig,ax = plt.subplots()\n",
    "df_result.plot(y='zeta', ax=ax)"
   ]
  },
  {
   "cell_type": "code",
   "execution_count": null,
   "metadata": {},
   "outputs": [],
   "source": [
    "X.plot(y='phi')"
   ]
  },
  {
   "cell_type": "code",
   "execution_count": null,
   "metadata": {},
   "outputs": [],
   "source": [
    "steps = [('filter',lowpass_filter),\n",
    "         ('scaler',scaler),\n",
    "         ('cutter', cutter),\n",
    "        ]\n",
    "\n",
    "preprocess = Pipeline(steps)\n",
    "X = preprocess.fit_transform(df)\n",
    "\n",
    "linear_estimator = DirectLinearEstimator(ftol = ftol)\n",
    "linear_estimator.fit(X=X)\n",
    "linear_estimator.plot_fit()"
   ]
  },
  {
   "cell_type": "code",
   "execution_count": null,
   "metadata": {},
   "outputs": [],
   "source": [
    "linear_estimator"
   ]
  },
  {
   "cell_type": "code",
   "execution_count": null,
   "metadata": {},
   "outputs": [],
   "source": [
    "linear_estimator.omega0"
   ]
  },
  {
   "cell_type": "code",
   "execution_count": null,
   "metadata": {},
   "outputs": [],
   "source": [
    "linear_estimator.score()"
   ]
  },
  {
   "cell_type": "code",
   "execution_count": null,
   "metadata": {},
   "outputs": [],
   "source": [
    "fig,ax=plt.subplots()\n",
    "fig.set_size_inches(10,5)\n",
    "fig.set_dpi(200)\n",
    "X.plot(y='phi', ax=ax, label='model test', alpha=0.5)\n",
    "linear_estimator.predict(X).plot(y='phi', ax=ax, label='numerical', style='-')\n",
    "analytical_estimator.predict(X).plot(y='phi', ax=ax, style='--', label='analytical')\n",
    "\n",
    "fig,ax=plt.subplots()\n",
    "fig.set_size_inches(10,5)\n",
    "fig.set_dpi(200)\n",
    "X.plot(y='phi1d', ax=ax, label='model test', alpha=0.5)\n",
    "linear_estimator.predict(X).plot(y='phi1d', ax=ax, label='numerical', style='-', )\n",
    "analytical_estimator.predict(X).plot(y='phi1d', ax=ax, style='--', label='analytical')\n",
    "\n",
    "fig,ax=plt.subplots()\n",
    "fig.set_size_inches(10,5)\n",
    "fig.set_dpi(200)\n",
    "X.plot(y='phi2d', ax=ax, label='model test', alpha=0.5)\n",
    "linear_estimator.predict(X).plot(y='phi2d', ax=ax, label='numerical', style='-')\n",
    "analytical_estimator.predict(X).plot(y='phi2d', ax=ax, style='--', label='analytical')\n"
   ]
  },
  {
   "cell_type": "code",
   "execution_count": null,
   "metadata": {},
   "outputs": [],
   "source": [
    "from rolldecay import database\n",
    "df_rolldecay_analytical = database.load(rolldecay_table_name='rolldecay_linear_analytical', limit_score=0.6)\n",
    "df_rolldecay_linear = database.load(rolldecay_table_name='rolldecay_linear', limit_score=0.5)\n",
    "index = list(set(df_rolldecay_analytical.index) & set(df_rolldecay_linear.index))\n",
    "df_rolldecay_analytical = df_rolldecay_analytical.loc[index]\n",
    "df_rolldecay_linear = df_rolldecay_linear.loc[index]\n"
   ]
  },
  {
   "cell_type": "code",
   "execution_count": null,
   "metadata": {},
   "outputs": [],
   "source": [
    "fig,ax = plt.subplots()\n",
    "x = df_rolldecay_linear['omega0']\n",
    "y = df_rolldecay_analytical['omega0']\n",
    "ax.plot(x,y,'o', alpha=0.5)\n"
   ]
  },
  {
   "cell_type": "code",
   "execution_count": null,
   "metadata": {},
   "outputs": [],
   "source": [
    "fig,ax = plt.subplots()\n",
    "x = df_rolldecay_linear['zeta']\n",
    "y = df_rolldecay_analytical['zeta']\n",
    "ax.plot(x,y,'o', alpha=0.5)"
   ]
  },
  {
   "cell_type": "code",
   "execution_count": null,
   "metadata": {},
   "outputs": [],
   "source": [
    "fig,ax = plt.subplots()\n",
    "x = df_rolldecay_linear['score']\n",
    "y = df_rolldecay_analytical['score']\n",
    "ax.plot(x,y,'o', alpha=0.5)"
   ]
  },
  {
   "cell_type": "code",
   "execution_count": null,
   "metadata": {},
   "outputs": [],
   "source": [
    "df_worst = df_rolldecay_linear.sort_values(by= ['score']).iloc[0:10].copy()"
   ]
  },
  {
   "cell_type": "code",
   "execution_count": null,
   "metadata": {},
   "outputs": [],
   "source": []
  },
  {
   "cell_type": "code",
   "execution_count": null,
   "metadata": {},
   "outputs": [],
   "source": []
  },
  {
   "cell_type": "code",
   "execution_count": null,
   "metadata": {},
   "outputs": [],
   "source": []
  },
  {
   "cell_type": "code",
   "execution_count": null,
   "metadata": {},
   "outputs": [],
   "source": []
  },
  {
   "cell_type": "code",
   "execution_count": null,
   "metadata": {},
   "outputs": [],
   "source": [
    "#for run_id,row in df_worst.iterrows():\n",
    "    \n",
    "    \n",
    "    "
   ]
  },
  {
   "cell_type": "code",
   "execution_count": null,
   "metadata": {},
   "outputs": [],
   "source": []
  },
  {
   "cell_type": "code",
   "execution_count": null,
   "metadata": {},
   "outputs": [],
   "source": []
  }
 ],
 "metadata": {
  "kernelspec": {
   "display_name": "Python 3",
   "language": "python",
   "name": "python3"
  },
  "language_info": {
   "codemirror_mode": {
    "name": "ipython",
    "version": 3
   },
   "file_extension": ".py",
   "mimetype": "text/x-python",
   "name": "python",
   "nbconvert_exporter": "python",
   "pygments_lexer": "ipython3",
   "version": "3.5.4"
  },
  "pycharm": {
   "stem_cell": {
    "cell_type": "raw",
    "metadata": {
     "collapsed": false
    },
    "source": []
   }
  }
 },
 "nbformat": 4,
 "nbformat_minor": 1
}
