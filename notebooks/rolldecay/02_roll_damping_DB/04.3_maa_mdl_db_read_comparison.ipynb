{
 "cells": [
  {
   "cell_type": "markdown",
   "metadata": {},
   "source": [
    "# MDL DB read"
   ]
  },
  {
   "cell_type": "code",
   "execution_count": null,
   "metadata": {
    "pycharm": {
     "is_executing": false
    }
   },
   "outputs": [],
   "source": [
    "%matplotlib inline\n",
    "%load_ext autoreload\n",
    "%autoreload 2"
   ]
  },
  {
   "cell_type": "code",
   "execution_count": null,
   "metadata": {
    "pycharm": {
     "is_executing": false
    }
   },
   "outputs": [],
   "source": [
    "import pandas as pd\n",
    "pd.set_option(\"display.max_columns\", None)\n",
    "import numpy as np\n",
    "import matplotlib.pyplot as plt\n",
    "from pylab import rcParams\n",
    "rcParams['lines.linewidth'] = 1.5\n",
    "\n",
    "import os\n",
    "import copy\n",
    "\n",
    "import data\n",
    "from mdldb.mdl_db import MDLDataBase\n",
    "from mdldb.tables import Run\n",
    "from rolldecayestimators.transformers import CutTransformer, LowpassFilterDerivatorTransformer, ScaleFactorTransformer, OffsetTransformer\n",
    "from rolldecayestimators.analytical_linear_estimator import AnalyticalLinearEstimator\n",
    "from rolldecayestimators.direct_linear_estimator import DirectLinearEstimator\n",
    "from rolldecayestimators.direct_estimator_cubic import DirectEstimatorCubic\n",
    "from rolldecayestimators.direct_estimator import DirectEstimator\n",
    "from rolldecayestimators.norwegian_estimator import NorwegianEstimator\n",
    "\n",
    "\n",
    "\n",
    "from mdldb import mdl_to_evaluation\n",
    "from evaluation.run_dynamic import RunDynamic\n",
    "from evaluation.run_manoeuvring import RunZigZag\n",
    "from sklearn.pipeline import Pipeline\n",
    "import signal_lab"
   ]
  },
  {
   "cell_type": "code",
   "execution_count": null,
   "metadata": {
    "pycharm": {
     "is_executing": false
    }
   },
   "outputs": [],
   "source": [
    "from sqlalchemy import create_engine\n",
    "engine = create_engine('sqlite:///' + data.mdl_db_path)\n",
    "db = MDLDataBase(engine=engine)"
   ]
  },
  {
   "cell_type": "code",
   "execution_count": null,
   "metadata": {
    "pycharm": {
     "is_executing": false
    }
   },
   "outputs": [],
   "source": [
    "db.session.query(Run.test_type).distinct().all()"
   ]
  },
  {
   "cell_type": "code",
   "execution_count": null,
   "metadata": {
    "pycharm": {
     "is_executing": false
    }
   },
   "outputs": [],
   "source": [
    "len(db.session.query(Run).filter(Run.test_type=='roll decay').all())"
   ]
  },
  {
   "cell_type": "code",
   "execution_count": null,
   "metadata": {
    "pycharm": {
     "is_executing": false
    }
   },
   "outputs": [],
   "source": [
    "roll_decay_tests = db.session.query(Run).filter(Run.test_type=='roll decay')"
   ]
  },
  {
   "cell_type": "code",
   "execution_count": null,
   "metadata": {
    "pycharm": {
     "is_executing": false
    }
   },
   "outputs": [],
   "source": [
    "db_run = roll_decay_tests[100]\n",
    "#db_run = roll_decay_tests[150]"
   ]
  },
  {
   "cell_type": "code",
   "execution_count": null,
   "metadata": {
    "pycharm": {
     "is_executing": false
    }
   },
   "outputs": [],
   "source": []
  },
  {
   "cell_type": "code",
   "execution_count": null,
   "metadata": {},
   "outputs": [],
   "source": [
    "ascii_file = db_run.load()\n",
    "df_raw = ascii_file.channels\n",
    "\n",
    "df = signal_lab.mdl_to_evaluation.do_transforms(df=df_raw)\n",
    "df.rename(columns={'MA/Roll':'phi'}, inplace=True)"
   ]
  },
  {
   "cell_type": "code",
   "execution_count": null,
   "metadata": {},
   "outputs": [],
   "source": [
    "lowpass_filter = LowpassFilterDerivatorTransformer(cutoff=2, minimum_score=0.99)\n",
    "scaler = ScaleFactorTransformer(scale_factor=db_run.model.scale_factor)  # dummy value None for now\n",
    "cutter = CutTransformer(phi_max=np.deg2rad(7), phi_min=np.deg2rad(1))\n",
    "\n",
    "steps = [('filter',lowpass_filter),\n",
    "         ('scaler',scaler),\n",
    "         ('cutter', cutter),\n",
    "        ]\n",
    "\n",
    "preprocess = Pipeline(steps)\n",
    "X = preprocess.fit_transform(df)"
   ]
  },
  {
   "cell_type": "code",
   "execution_count": null,
   "metadata": {},
   "outputs": [],
   "source": [
    "X.plot(y='phi')"
   ]
  },
  {
   "cell_type": "code",
   "execution_count": null,
   "metadata": {},
   "outputs": [],
   "source": [
    "estimators = []\n",
    "estimators.append(DirectLinearEstimator(omega_regression=True))\n",
    "estimators.append(AnalyticalLinearEstimator(omega_regression=True))\n",
    "estimators.append(DirectEstimator(omega_regression=True))\n",
    "estimators.append(NorwegianEstimator())\n",
    "estimators.append(DirectEstimatorCubic(omega_regression=True))\n",
    "\n",
    "\n",
    "for estimator in estimators:\n",
    "\n",
    "    estimator.fit(X)\n",
    "    \n",
    "    fig,ax=plt.subplots()\n",
    "    fig.set_size_inches(14,10)\n",
    "    estimator.plot_fit(ax=ax)\n",
    "    score = estimator.score()\n",
    "    \n",
    "    title = ''\n",
    "    if estimator.omega_regression:\n",
    "        title+='Omega regression '\n",
    "    title+='Score:%0.2f' % score \n",
    "    ax.set_title(title)"
   ]
  }
 ],
 "metadata": {
  "kernelspec": {
   "display_name": "Python 3",
   "language": "python",
   "name": "python3"
  },
  "language_info": {
   "codemirror_mode": {
    "name": "ipython",
    "version": 3
   },
   "file_extension": ".py",
   "mimetype": "text/x-python",
   "name": "python",
   "nbconvert_exporter": "python",
   "pygments_lexer": "ipython3",
   "version": "3.5.4"
  },
  "pycharm": {
   "stem_cell": {
    "cell_type": "raw",
    "metadata": {
     "collapsed": false
    },
    "source": []
   }
  }
 },
 "nbformat": 4,
 "nbformat_minor": 1
}
