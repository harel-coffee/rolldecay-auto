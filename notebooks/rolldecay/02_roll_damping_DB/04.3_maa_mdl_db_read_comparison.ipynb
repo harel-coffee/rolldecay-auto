{
 "cells": [
  {
   "cell_type": "markdown",
   "metadata": {},
   "source": [
    "# MDL DB read"
   ]
  },
  {
   "cell_type": "code",
   "execution_count": null,
   "metadata": {
    "pycharm": {
     "is_executing": false
    }
   },
   "outputs": [],
   "source": [
    "%matplotlib inline\n",
    "%load_ext autoreload\n",
    "%autoreload 2"
   ]
  },
  {
   "cell_type": "code",
   "execution_count": null,
   "metadata": {
    "pycharm": {
     "is_executing": false
    }
   },
   "outputs": [],
   "source": [
    "import pandas as pd\n",
    "pd.set_option(\"display.max_columns\", None)\n",
    "import numpy as np\n",
    "import matplotlib.pyplot as plt\n",
    "from pylab import rcParams\n",
    "rcParams['lines.linewidth'] = 1.5\n",
    "\n",
    "import os\n",
    "import copy\n",
    "\n",
    "import data\n",
    "from mdldb.mdl_db import MDLDataBase\n",
    "from mdldb.tables import Run\n",
    "from rolldecayestimators.transformers import CutTransformer, LowpassFilterDerivatorTransformer, ScaleFactorTransformer, OffsetTransformer\n",
    "from rolldecayestimators.analytical_linear_estimator import AnalyticalLinearEstimator\n",
    "from rolldecayestimators.direct_linear_estimator import DirectLinearEstimator\n",
    "from rolldecayestimators.direct_estimator_cubic import DirectEstimatorCubic\n",
    "from rolldecayestimators.direct_estimator import DirectEstimator\n",
    "from rolldecayestimators.norwegian_estimator import NorwegianEstimator\n",
    "\n",
    "\n",
    "\n",
    "from mdldb import mdl_to_evaluation\n",
    "from evaluation.run_dynamic import RunDynamic\n",
    "from evaluation.run_manoeuvring import RunZigZag\n",
    "from sklearn.pipeline import Pipeline\n",
    "import signal_lab"
   ]
  },
  {
   "cell_type": "code",
   "execution_count": null,
   "metadata": {
    "pycharm": {
     "is_executing": false
    }
   },
   "outputs": [],
   "source": [
    "from sqlalchemy import create_engine\n",
    "engine = create_engine('sqlite:///' + data.mdl_db_path)\n",
    "db = MDLDataBase(engine=engine)"
   ]
  },
  {
   "cell_type": "code",
   "execution_count": null,
   "metadata": {
    "pycharm": {
     "is_executing": false
    }
   },
   "outputs": [],
   "source": [
    "db.session.query(Run.test_type).distinct().all()"
   ]
  },
  {
   "cell_type": "code",
   "execution_count": null,
   "metadata": {
    "pycharm": {
     "is_executing": false
    }
   },
   "outputs": [],
   "source": [
    "len(db.session.query(Run).filter(Run.test_type=='roll decay').all())"
   ]
  },
  {
   "cell_type": "code",
   "execution_count": null,
   "metadata": {
    "pycharm": {
     "is_executing": false
    }
   },
   "outputs": [],
   "source": [
    "roll_decay_tests = db.session.query(Run).filter(Run.test_type=='roll decay')"
   ]
  },
  {
   "cell_type": "code",
   "execution_count": null,
   "metadata": {
    "pycharm": {
     "is_executing": false
    }
   },
   "outputs": [],
   "source": [
    "db_run = roll_decay_tests[100]\n",
    "#db_run = roll_decay_tests[150]"
   ]
  },
  {
   "cell_type": "code",
   "execution_count": null,
   "metadata": {
    "pycharm": {
     "is_executing": false
    }
   },
   "outputs": [],
   "source": []
  },
  {
   "cell_type": "code",
   "execution_count": null,
   "metadata": {},
   "outputs": [],
   "source": [
    "ascii_file = db_run.load()\n",
    "df_raw = ascii_file.channels\n",
    "\n",
    "df = signal_lab.mdl_to_evaluation.do_transforms(df=df_raw)\n",
    "df.rename(columns={'MA/Roll':'phi'}, inplace=True)"
   ]
  },
  {
   "cell_type": "code",
   "execution_count": null,
   "metadata": {},
   "outputs": [],
   "source": [
    "lowpass_filter = LowpassFilterDerivatorTransformer(cutoff=2, minimum_score=0.99)\n",
    "scaler = ScaleFactorTransformer(scale_factor=db_run.model.scale_factor)  # dummy value None for now\n",
    "cutter = CutTransformer(phi_max=np.deg2rad(7), phi_min=np.deg2rad(1))\n",
    "\n",
    "steps = [('filter',lowpass_filter),\n",
    "         ('scaler',scaler),\n",
    "         ('cutter', cutter),\n",
    "        ]\n",
    "\n",
    "preprocess = Pipeline(steps)\n",
    "X = preprocess.fit_transform(df)"
   ]
  },
  {
   "cell_type": "code",
   "execution_count": null,
   "metadata": {},
   "outputs": [],
   "source": [
    "X.plot(y='phi')"
   ]
  },
  {
   "cell_type": "code",
   "execution_count": null,
   "metadata": {},
   "outputs": [],
   "source": [
    "fig,ax=plt.subplots()\n",
    "df.plot(y='Carriage/Psip',ax=ax)"
   ]
  },
  {
   "cell_type": "code",
   "execution_count": null,
   "metadata": {},
   "outputs": [],
   "source": [
    "X.head()"
   ]
  },
  {
   "cell_type": "code",
   "execution_count": null,
   "metadata": {},
   "outputs": [],
   "source": [
    "t=X.index\n",
    "phi=X['phi']\n",
    "N=5\n",
    "t2=np.linspace(t[0],t[-1],N*len(t))\n",
    "\n",
    "X2 = pd.DataFrame(index=t2)\n",
    "keys=['phi','phi1d','phi2d','phi_filtered']\n",
    "for key in keys:\n",
    "    X2[key]=np.interp(t2,t,X[key])"
   ]
  },
  {
   "cell_type": "code",
   "execution_count": null,
   "metadata": {},
   "outputs": [],
   "source": [
    "fig,ax=plt.subplots()\n",
    "X2.plot(y='phi', ax=ax)"
   ]
  },
  {
   "cell_type": "code",
   "execution_count": null,
   "metadata": {},
   "outputs": [],
   "source": [
    "estimator=DirectEstimator(omega_regression=True, fit_method='integration')\n",
    "df_temp = estimator.simulate(t=X.index,phi0=X.iloc[0]['phi'],phi1d0=X.iloc[0]['phi1d'],omega0=0.43,zeta=0.1,d=0.1)\n",
    "df_temp.plot(y='phi')"
   ]
  },
  {
   "cell_type": "code",
   "execution_count": null,
   "metadata": {},
   "outputs": [],
   "source": [
    "estimators = []\n",
    "#estimators.append(DirectLinearEstimator(omega_regression=True))\n",
    "#estimators.append(AnalyticalLinearEstimator(omega_regression=True))\n",
    "estimators.append(DirectEstimator(omega_regression=True, fit_method='derivation'))\n",
    "#estimators.append(NorwegianEstimator())\n",
    "#estimators.append(DirectEstimatorCubic(omega_regression=True))\n",
    "\n",
    "#estimators.append(DirectLinearEstimator(omega_regression=False))\n",
    "#estimators.append(AnalyticalLinearEstimator(omega_regression=False))\n",
    "estimators.append(DirectEstimator(omega_regression=False, fit_method='derivation'))\n",
    "#estimators.append(NorwegianEstimator())\n",
    "#estimators.append(DirectEstimatorCubic(omega_regression=False))\n",
    "\n",
    "#estimators.append(DirectLinearEstimator(omega_regression=False))\n",
    "#estimators.append(AnalyticalLinearEstimator(omega_regression=False))\n",
    "estimators.append(DirectEstimator(omega_regression=True, fit_method='integration'))\n",
    "#estimators.append(NorwegianEstimator())\n",
    "#estimators.append(DirectEstimatorCubic(omega_regression=False))\n",
    "\n",
    "#estimators.append(DirectLinearEstimator(omega_regression=False))\n",
    "#estimators.append(AnalyticalLinearEstimator(omega_regression=False))\n",
    "estimators.append(DirectEstimator(omega_regression=False, fit_method='integration'))\n",
    "#estimators.append(NorwegianEstimator())\n",
    "#estimators.append(DirectEstimatorCubic(omega_regression=False))\n",
    "\n",
    "\n",
    "for estimator in estimators:\n",
    "\n",
    "    estimator.fit(X)\n",
    "    \n",
    "    fig,ax=plt.subplots()\n",
    "    fig.set_size_inches(14,10)\n",
    "    estimator.plot_fit(ax=ax)\n",
    "    score = estimator.score()\n",
    "    \n",
    "    title = ''\n",
    "    if estimator.omega_regression:\n",
    "        title+='Omega regression '\n",
    "    else:\n",
    "        title+='Omega fft '\n",
    "    \n",
    "    title+='%s ' % estimator.fit_method\n",
    "    \n",
    "    \n",
    "    title+='Score:%0.2f' % score \n",
    "    ax.set_title(title)"
   ]
  },
  {
   "cell_type": "code",
   "execution_count": null,
   "metadata": {},
   "outputs": [],
   "source": [
    "from scipy.optimize import curve_fit\n",
    "import numpy as np"
   ]
  },
  {
   "cell_type": "code",
   "execution_count": null,
   "metadata": {},
   "outputs": [],
   "source": [
    "class A():\n",
    "    \n",
    "    @staticmethod\n",
    "    def f(x,f2,xs,ys):\n",
    "        return ys-f2(x,xs)\n",
    "    \n",
    "    @staticmethod\n",
    "    def f2(x,xs):\n",
    "        return x[0] + x[1]*xs + x[1]*xs"
   ]
  },
  {
   "cell_type": "code",
   "execution_count": null,
   "metadata": {},
   "outputs": [],
   "source": [
    "xs = np.linspace(0,10,100)\n",
    "k = 1\n",
    "m = 0\n",
    "ys = k*xs+m"
   ]
  },
  {
   "cell_type": "code",
   "execution_count": null,
   "metadata": {},
   "outputs": [],
   "source": [
    "a = A()\n",
    "a.f(x=[m,k],f2=a.f2, xs=xs,ys=ys)"
   ]
  },
  {
   "cell_type": "code",
   "execution_count": null,
   "metadata": {},
   "outputs": [],
   "source": [
    "from scipy.optimize import least_squares\n",
    "import inspect"
   ]
  },
  {
   "cell_type": "code",
   "execution_count": null,
   "metadata": {},
   "outputs": [],
   "source": [
    "result = least_squares(fun=a.f,x0=[1,1],kwargs={'f2':a.f2,'xs':xs,'ys':ys})"
   ]
  },
  {
   "cell_type": "code",
   "execution_count": null,
   "metadata": {},
   "outputs": [],
   "source": [
    "result.x"
   ]
  },
  {
   "cell_type": "code",
   "execution_count": null,
   "metadata": {
    "pycharm": {
     "name": "#%%\n"
    }
   },
   "outputs": [],
   "source": [
    "for i in range(1000):\n",
    "    result2 = least_squares(fun=a.f,x0=[1,1],kwargs={'f2':a.f2,'xs':xs,'ys':ys})\n",
    "    assert(result.x[1]==result2.x[1])"
   ]
  },
  {
   "cell_type": "code",
   "execution_count": null,
   "metadata": {},
   "outputs": [],
   "source": [
    "df.plot(y='phi')"
   ]
  },
  {
   "cell_type": "code",
   "execution_count": null,
   "metadata": {},
   "outputs": [],
   "source": [
    "df.plot(y='phi')"
   ]
  },
  {
   "cell_type": "code",
   "execution_count": null,
   "metadata": {},
   "outputs": [],
   "source": [
    "DirectEstimator.calculate_acceleration"
   ]
  },
  {
   "cell_type": "code",
   "execution_count": null,
   "metadata": {},
   "outputs": [],
   "source": [
    "class RollDecay():\n",
    "    \n",
    "    functions = (DirectEstimator.acceleration_lambda,)\n",
    "    \n",
    "    @property\n",
    "    def calculate_acceleration(self):\n",
    "        return self.functions[0]\n",
    "    \n",
    "    @property\n",
    "    def parameter_names(self):\n",
    "        signature = inspect.signature(self.calculate_acceleration)\n",
    "        return list(set(signature.parameters.keys()) - set(['phi','phi1d']))\n",
    "    \n",
    "    @staticmethod\n",
    "    def error(x,self,xs,ys):\n",
    "        return ys-self.equation(x,xs)\n",
    "    \n",
    "    def equation(self,x,xs):\n",
    "        \n",
    "        parameters={key:x for key,x in zip(self.parameter_names,x)}\n",
    "        \n",
    "        phi=xs['phi']\n",
    "        phi1d=xs['phi1d']\n",
    "        \n",
    "        acceleration = self.calculate_acceleration(phi=phi,phi1d=phi1d,**parameters)\n",
    "        return acceleration\n",
    "    \n",
    "    def fit(self,X):\n",
    "        \n",
    "        kwargs={'self':self,\n",
    "        'xs':X,\n",
    "        'ys':X['phi2d']}\n",
    "\n",
    "        self.result = least_squares(fun=self.error,x0=[0.5,0.5,0.5],kwargs=kwargs)\n",
    "        self.parameters={key:x for key,x in zip(self.parameter_names,self.result.x)}\n",
    "    \n",
    "    "
   ]
  },
  {
   "cell_type": "code",
   "execution_count": null,
   "metadata": {},
   "outputs": [],
   "source": [
    "import numpy as np\n",
    "import matplotlib.pyplot as plt\n",
    "\n",
    "from numpy import sqrt, pi, sin, cos\n",
    "from scipy.integrate import ode\n",
    "\n",
    "# use z = [z1, z2] = [u, u']\n",
    "# and then f = z' = [u', u''] = [z2, -z1+sqrt(z1)]\n",
    "\n",
    "class A:\n",
    "    \n",
    "    def f(self,phi, z):\n",
    "        return [z[1], -z[0]+sqrt(z[0])]\n",
    "\n",
    "a = A()\n",
    "# initialize the 4th order Runge-Kutta solver\n",
    "solver = ode(a.f).set_integrator('dopri5')\n",
    "\n",
    "# initial value\n",
    "z0 = [1.49907, 0.]\n",
    "solver.set_initial_value(z0)\n",
    "\n",
    "values = 10000\n",
    "phi = np.linspace(0.0001, 7.*pi, values)\n",
    "u = np.zeros(values)\n",
    "#\n",
    "for ii in range(values):\n",
    "    u[ii] = solver.integrate(phi[ii])[0] #z[0]=u\n",
    "\n",
    "x = 1. / u * cos(phi)\n",
    "y = 1. / u * sin(phi)\n",
    "\n",
    "plt.figure()\n",
    "plt.plot(x,y)\n",
    "plt.grid()\n",
    "plt.show()"
   ]
  },
  {
   "cell_type": "code",
   "execution_count": null,
   "metadata": {},
   "outputs": [],
   "source": [
    "import numpy as np\n",
    "import matplotlib.pyplot as plt\n",
    "\n",
    "from numpy import sqrt, pi, sin, cos\n",
    "from scipy.integrate import solve_ivp\n",
    "\n",
    "# use z = [z1, z2] = [u, u']\n",
    "# and then f = z' = [u', u''] = [z2, -z1+sqrt(z1)]\n",
    "\n",
    "class A:\n",
    "    \n",
    "    def f(self,phi, z):\n",
    "        return [z[1], -z[0]+sqrt(z[0])]\n",
    "\n",
    "a = A()\n",
    "# initialize the 4th order Runge-Kutta solver\n",
    "t = phi\n",
    "t_span = [np.min(t),np.max(t)]\n",
    "result = solve_ivp(fun=a.f, t_span=t_span, y0=z0, t_eval=phi)\n",
    "u = result.y[0,:]\n",
    "\n",
    "#solver = ode(a.f).set_integrator('dopri5')\n",
    "#\n",
    "## initial value\n",
    "#z0 = [1.49907, 0.]\n",
    "#solver.set_initial_value(z0)\n",
    "#\n",
    "#values = 10000\n",
    "#phi = np.linspace(0.0001, 7.*pi, values)\n",
    "#u = np.zeros(values)\n",
    "##\n",
    "#for ii in range(values):\n",
    "#    u[ii] = solver.integrate(phi[ii])[0] #z[0]=u\n",
    "#\n",
    "x = 1. / u * cos(phi)\n",
    "y = 1. / u * sin(phi)\n",
    "\n",
    "plt.figure()\n",
    "plt.plot(x,y)\n",
    "plt.grid()\n",
    "plt.show()"
   ]
  },
  {
   "cell_type": "code",
   "execution_count": null,
   "metadata": {},
   "outputs": [],
   "source": [
    "result"
   ]
  },
  {
   "cell_type": "code",
   "execution_count": null,
   "metadata": {},
   "outputs": [],
   "source": []
  },
  {
   "cell_type": "code",
   "execution_count": null,
   "metadata": {},
   "outputs": [],
   "source": []
  },
  {
   "cell_type": "code",
   "execution_count": null,
   "metadata": {},
   "outputs": [],
   "source": []
  }
 ],
 "metadata": {
  "kernelspec": {
   "display_name": "Python 3",
   "language": "python",
   "name": "python3"
  },
  "pycharm": {
   "stem_cell": {
    "cell_type": "raw",
    "metadata": {
     "collapsed": false
    },
    "source": []
   }
  }
 },
 "nbformat": 4,
 "nbformat_minor": 1
}
