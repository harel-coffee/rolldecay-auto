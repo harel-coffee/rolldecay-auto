{
 "cells": [
  {
   "cell_type": "markdown",
   "metadata": {},
   "source": [
    "# MDL DB outliers\n",
    "Check runs wit low score..."
   ]
  },
  {
   "cell_type": "code",
   "execution_count": null,
   "metadata": {
    "pycharm": {
     "is_executing": true
    }
   },
   "outputs": [],
   "source": [
    "%matplotlib inline\n",
    "%load_ext autoreload\n",
    "%autoreload 2"
   ]
  },
  {
   "cell_type": "code",
   "execution_count": null,
   "metadata": {
    "pycharm": {
     "is_executing": false
    }
   },
   "outputs": [],
   "source": [
    "import pandas as pd\n",
    "pd.set_option(\"display.max_columns\", None)\n",
    "import numpy as np\n",
    "import matplotlib.pyplot as plt\n",
    "from pylab import rcParams\n",
    "rcParams['lines.linewidth'] = 1.5\n",
    "\n",
    "import os\n",
    "import copy\n",
    "\n",
    "import data\n",
    "from mdldb.mdl_db import MDLDataBase\n",
    "from rolldecay import database\n",
    "from mdldb.tables import Run\n",
    "from rolldecayestimators.transformers import CutTransformer, LowpassFilterDerivatorTransformer, ScaleFactorTransformer, OffsetTransformer\n",
    "from rolldecayestimators.analytical_linear_estimator import AnalyticalLinearEstimator\n",
    "from rolldecayestimators.direct_linear_estimator import DirectLinearEstimator\n",
    "from rolldecayestimators.direct_estimator_cubic import DirectEstimatorCubic\n",
    "from rolldecayestimators.direct_estimator import DirectEstimator\n",
    "from rolldecayestimators.norwegian_estimator import NorwegianEstimator\n",
    "\n",
    "\n",
    "\n",
    "from mdldb import mdl_to_evaluation\n",
    "from evaluation.run_dynamic import RunDynamic\n",
    "from evaluation.run_manoeuvring import RunZigZag\n",
    "from sklearn.pipeline import Pipeline\n",
    "import signal_lab"
   ]
  },
  {
   "cell_type": "code",
   "execution_count": null,
   "metadata": {},
   "outputs": [],
   "source": [
    "df_rolldecay = database.load(rolldecay_table_name='rolldecay_direct',only_latest_runs=True, limit_score=0.0)\n",
    "db = database.get_db()"
   ]
  },
  {
   "cell_type": "code",
   "execution_count": null,
   "metadata": {},
   "outputs": [],
   "source": [
    "df_rolldecay.head()"
   ]
  },
  {
   "cell_type": "code",
   "execution_count": null,
   "metadata": {},
   "outputs": [],
   "source": [
    "df_rolldecay['score'].hist(bins=30)"
   ]
  },
  {
   "cell_type": "code",
   "execution_count": null,
   "metadata": {},
   "outputs": [],
   "source": [
    "sql = \"\"\"\n",
    "SELECT * from\n",
    "std\n",
    "INNER JOIN run\n",
    "ON std.run_id == run.id\n",
    "    INNER JOIN projects\n",
    "    ON run.project_number==projects.project_number\n",
    "        INNER JOIN loading_conditions\n",
    "        ON (run.loading_condition_id == loading_conditions.id)\n",
    "            INNER JOIN models\n",
    "            ON run.model_number == models.model_number\n",
    "                INNER JOIN ships\n",
    "                ON models.ship_name == ships.name\n",
    "        \n",
    "\"\"\"\n",
    "df_std = pd.read_sql_query(sql=sql, con=db.engine,index_col='run_id')\n",
    "df_std=pd.merge(left=df_rolldecay, right=df_std, how='left', left_index=True, right_index=True, suffixes=('','_std') )\n"
   ]
  },
  {
   "cell_type": "code",
   "execution_count": null,
   "metadata": {},
   "outputs": [],
   "source": [
    "df_std.plot(x='score',y='psi', style='.', alpha=0.5)"
   ]
  },
  {
   "cell_type": "code",
   "execution_count": null,
   "metadata": {},
   "outputs": [],
   "source": [
    "mask = df_rolldecay['score'] < 0.90"
   ]
  },
  {
   "cell_type": "code",
   "execution_count": null,
   "metadata": {},
   "outputs": [],
   "source": [
    "df_rolldecay=df_rolldecay.loc[mask].copy()"
   ]
  },
  {
   "cell_type": "code",
   "execution_count": null,
   "metadata": {},
   "outputs": [],
   "source": [
    "df_rolldecay.sort_values(by='score', inplace=True)"
   ]
  },
  {
   "cell_type": "code",
   "execution_count": null,
   "metadata": {},
   "outputs": [],
   "source": [
    "df_rolldecay.describe()"
   ]
  },
  {
   "cell_type": "code",
   "execution_count": null,
   "metadata": {},
   "outputs": [],
   "source": [
    "df_rolldecay.head()"
   ]
  },
  {
   "cell_type": "code",
   "execution_count": null,
   "metadata": {
    "pycharm": {
     "is_executing": false
    }
   },
   "outputs": [],
   "source": [
    "row = df_rolldecay.iloc[2]\n",
    "run_id = int(row.name)\n",
    "db_run = db.session.query(Run).get(run_id)\n",
    "assert not (db_run is None)"
   ]
  },
  {
   "cell_type": "code",
   "execution_count": null,
   "metadata": {},
   "outputs": [],
   "source": [
    "run_id"
   ]
  },
  {
   "cell_type": "code",
   "execution_count": null,
   "metadata": {},
   "outputs": [],
   "source": [
    "ascii_file = db_run.load()\n",
    "df_raw = ascii_file.channels\n",
    "\n",
    "df = signal_lab.mdl_to_evaluation.do_transforms(df=df_raw)\n",
    "df.rename(columns={'MA/Roll':'phi'}, inplace=True)"
   ]
  },
  {
   "cell_type": "code",
   "execution_count": null,
   "metadata": {},
   "outputs": [],
   "source": [
    "row['score']"
   ]
  },
  {
   "cell_type": "code",
   "execution_count": null,
   "metadata": {},
   "outputs": [],
   "source": [
    "fig,ax=plt.subplots()\n",
    "df.plot(y='phi',ax=ax)\n",
    "ax.grid(True)"
   ]
  },
  {
   "cell_type": "code",
   "execution_count": null,
   "metadata": {},
   "outputs": [],
   "source": [
    "df.plot(y='Carriage/Psip')"
   ]
  },
  {
   "cell_type": "code",
   "execution_count": null,
   "metadata": {},
   "outputs": [],
   "source": [
    "lowpass_filter = LowpassFilterDerivatorTransformer(cutoff=1, minimum_score=0)\n",
    "scaler = ScaleFactorTransformer(scale_factor=db_run.model.scale_factor)  # dummy value None for now\n",
    "cutter = CutTransformer(phi_max=np.deg2rad(9), phi_min=np.deg2rad(1))\n",
    "offset_transformer = OffsetTransformer()\n",
    "\n",
    "steps = [('filter',lowpass_filter),\n",
    "         ('offset',offset_transformer),\n",
    "         ('scaler',scaler),\n",
    "         ('cutter', cutter),\n",
    "        ]\n",
    "\n",
    "preprocess = Pipeline(steps)\n",
    "X = preprocess.fit_transform(df)"
   ]
  },
  {
   "cell_type": "code",
   "execution_count": null,
   "metadata": {},
   "outputs": [],
   "source": [
    "fig,ax=plt.subplots()\n",
    "X.plot(y='phi', ax=ax)\n",
    "ax.grid(True)"
   ]
  },
  {
   "cell_type": "code",
   "execution_count": null,
   "metadata": {},
   "outputs": [],
   "source": [
    "fig,ax=plt.subplots()\n",
    "X.plot(y='phi', ax=ax)\n",
    "ax.grid(True)\n",
    "ax.set_xlim(0,200)"
   ]
  },
  {
   "cell_type": "code",
   "execution_count": null,
   "metadata": {},
   "outputs": [],
   "source": [
    "X.plot(y='phi1d')"
   ]
  },
  {
   "cell_type": "code",
   "execution_count": null,
   "metadata": {},
   "outputs": [],
   "source": [
    "estimators = []\n",
    "#estimators.append(DirectLinearEstimator(omega_regression=True))\n",
    "#estimators.append(AnalyticalLinearEstimator(omega_regression=True))\n",
    "estimators.append(DirectEstimator(omega_regression=True, fit_method='derivation'))\n",
    "#estimators.append(NorwegianEstimator())\n",
    "#estimators.append(DirectEstimatorCubic(omega_regression=True))\n",
    "\n",
    "#estimators.append(DirectLinearEstimator(omega_regression=False))\n",
    "#estimators.append(AnalyticalLinearEstimator(omega_regression=False))\n",
    "estimators.append(DirectEstimator(omega_regression=False, fit_method='derivation'))\n",
    "#estimators.append(NorwegianEstimator())\n",
    "#estimators.append(DirectEstimatorCubic(omega_regression=False))\n",
    "\n",
    "#estimators.append(DirectLinearEstimator(omega_regression=False))\n",
    "#estimators.append(AnalyticalLinearEstimator(omega_regression=False))\n",
    "estimators.append(DirectEstimator(omega_regression=True, fit_method='integration'))\n",
    "#estimators.append(NorwegianEstimator())\n",
    "#estimators.append(DirectEstimatorCubic(omega_regression=False))\n",
    "\n",
    "#estimators.append(DirectLinearEstimator(omega_regression=False))\n",
    "#estimators.append(AnalyticalLinearEstimator(omega_regression=False))\n",
    "estimators.append(DirectEstimator(omega_regression=False, fit_method='integration'))\n",
    "#estimators.append(NorwegianEstimator())\n",
    "#estimators.append(DirectEstimatorCubic(omega_regression=False))\n",
    "\n",
    "\n",
    "for estimator in estimators:\n",
    "\n",
    "    estimator.fit(X)\n",
    "    \n",
    "    fig,ax=plt.subplots()\n",
    "    fig.set_size_inches(14,10)\n",
    "    estimator.plot_fit(ax=ax)\n",
    "    ax.grid(True)\n",
    "    score = estimator.score()\n",
    "    \n",
    "    title = ''\n",
    "    if estimator.omega_regression:\n",
    "        title+='Omega regression '\n",
    "    else:\n",
    "        title+='Omega fft '\n",
    "    \n",
    "    title+='%s ' % estimator.fit_method\n",
    "    \n",
    "    \n",
    "    title+='Score:%0.2f' % score \n",
    "    ax.set_title(title)"
   ]
  },
  {
   "cell_type": "code",
   "execution_count": null,
   "metadata": {},
   "outputs": [],
   "source": []
  },
  {
   "cell_type": "code",
   "execution_count": null,
   "metadata": {},
   "outputs": [],
   "source": []
  },
  {
   "cell_type": "code",
   "execution_count": null,
   "metadata": {},
   "outputs": [],
   "source": []
  },
  {
   "cell_type": "code",
   "execution_count": null,
   "metadata": {},
   "outputs": [],
   "source": []
  },
  {
   "cell_type": "code",
   "execution_count": null,
   "metadata": {},
   "outputs": [],
   "source": []
  }
 ],
 "metadata": {
  "kernelspec": {
   "display_name": "Python 3",
   "language": "python",
   "name": "python3"
  },
  "pycharm": {
   "stem_cell": {
    "cell_type": "raw",
    "metadata": {
     "collapsed": false
    },
    "source": []
   }
  }
 },
 "nbformat": 4,
 "nbformat_minor": 1
}
