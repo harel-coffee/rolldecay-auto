{
 "cells": [
  {
   "cell_type": "code",
   "execution_count": null,
   "metadata": {},
   "outputs": [],
   "source": [
    "%matplotlib inline\n",
    "%load_ext autoreload\n",
    "%autoreload 2"
   ]
  },
  {
   "cell_type": "code",
   "execution_count": null,
   "metadata": {},
   "outputs": [],
   "source": [
    "import warnings\n",
    "warnings.filterwarnings(\"ignore\")"
   ]
  },
  {
   "cell_type": "markdown",
   "metadata": {},
   "source": [
    "## Model test repeatability?"
   ]
  },
  {
   "cell_type": "code",
   "execution_count": null,
   "metadata": {},
   "outputs": [],
   "source": [
    "import pandas as pd\n",
    "pd.options.display.max_rows = 999\n",
    "pd.options.display.max_columns = 999\n",
    "pd.set_option(\"display.max_columns\", None)\n",
    "import numpy as np\n",
    "import os\n",
    "import matplotlib.pyplot as plt\n",
    "from pylab import rcParams\n",
    "rcParams['figure.figsize'] = 15, 5\n",
    "from sklearn.metrics import r2_score\n",
    "\n",
    "from rolldecay import database\n",
    "from mdldb.tables import Run\n",
    "from rolldecayestimators.transformers import CutTransformer, LowpassFilterDerivatorTransformer, OffsetTransformer"
   ]
  },
  {
   "cell_type": "code",
   "execution_count": null,
   "metadata": {},
   "outputs": [],
   "source": [
    "df_rolldecay = database.load(rolldecay_table_name='rolldecay_cubic_b', limit_score=0.9, \n",
    "                             only_latest_runs=False)"
   ]
  },
  {
   "cell_type": "code",
   "execution_count": null,
   "metadata": {},
   "outputs": [],
   "source": [
    "df_rolldecay_only_latest = database.load(rolldecay_table_name='rolldecay_cubic_b', limit_score=0.9, \n",
    "                             only_latest_runs=True)"
   ]
  },
  {
   "cell_type": "code",
   "execution_count": null,
   "metadata": {},
   "outputs": [],
   "source": [
    "df_rolldecay.head()"
   ]
  },
  {
   "cell_type": "code",
   "execution_count": null,
   "metadata": {},
   "outputs": [],
   "source": [
    "mask=df_rolldecay['phi_start'].abs() > np.deg2rad(5)\n",
    "df_rolldecay=df_rolldecay.loc[mask].copy()"
   ]
  },
  {
   "cell_type": "code",
   "execution_count": null,
   "metadata": {},
   "outputs": [],
   "source": [
    "duplicates =df_rolldecay.groupby(by=['loading_condition_id','ship_speed'])"
   ]
  },
  {
   "cell_type": "code",
   "execution_count": null,
   "metadata": {},
   "outputs": [],
   "source": [
    "df_duplicates = duplicates.filter(lambda x:len(x)>1)"
   ]
  },
  {
   "cell_type": "code",
   "execution_count": null,
   "metadata": {},
   "outputs": [],
   "source": [
    "df_duplicates.describe()"
   ]
  },
  {
   "cell_type": "code",
   "execution_count": null,
   "metadata": {},
   "outputs": [],
   "source": [
    "interesting=['omega0','omega0_fft']\n",
    "duplicates=df_duplicates.groupby(by=['loading_condition_id','ship_speed'])\n",
    "mean_values = duplicates.mean().reset_index()[interesting]\n",
    "std_values = duplicates.std().reset_index()[interesting]\n"
   ]
  },
  {
   "cell_type": "code",
   "execution_count": null,
   "metadata": {},
   "outputs": [],
   "source": [
    "std_values.describe()"
   ]
  },
  {
   "cell_type": "code",
   "execution_count": null,
   "metadata": {},
   "outputs": [],
   "source": [
    "index = std_values['omega0'].idxmin()"
   ]
  },
  {
   "cell_type": "code",
   "execution_count": null,
   "metadata": {},
   "outputs": [],
   "source": [
    "for _,group in duplicates:\n",
    "    pass"
   ]
  },
  {
   "cell_type": "code",
   "execution_count": null,
   "metadata": {},
   "outputs": [],
   "source": [
    "group"
   ]
  },
  {
   "cell_type": "code",
   "execution_count": null,
   "metadata": {},
   "outputs": [],
   "source": [
    "db = database.get_db()"
   ]
  },
  {
   "cell_type": "code",
   "execution_count": null,
   "metadata": {},
   "outputs": [],
   "source": [
    "lowpass_filter_transformer = LowpassFilterDerivatorTransformer(cutoff=2, minimum_score=0.99)\n",
    "cut_transformer = CutTransformer(phi_max=np.deg2rad(5),phi_min=np.deg2rad(0.5))\n",
    "offset_transformer = OffsetTransformer()"
   ]
  },
  {
   "cell_type": "code",
   "execution_count": null,
   "metadata": {},
   "outputs": [],
   "source": [
    "def load_run(run_id:int):\n",
    "    db_run = db.session.query(Run).get(int(run_id))\n",
    "    df_run = database.load_run(db_run=db_run)\n",
    "        \n",
    "    lowpass_filter_transformer.fit(X=df_run)\n",
    "    X=lowpass_filter_transformer.transform(X=df_run)\n",
    "    cut_transformer.fit(X=X)\n",
    "    X = cut_transformer.transform(X=X)\n",
    "    offset_transformer.fit(X=X)\n",
    "    X = offset_transformer.transform(X=X)\n",
    "    \n",
    "    X.index-=X.index[0]\n",
    "\n",
    "    if X.iloc[0]['phi']<0:\n",
    "        X['phi']*=-1\n",
    "    \n",
    "    return X\n",
    "\n",
    "def plot_group(group):\n",
    "    fig,ax = plt.subplots()\n",
    "    \n",
    "    for run_id, row in group.iterrows():\n",
    "        X=load_run(run_id=run_id)\n",
    "        \n",
    "\n",
    "        \n",
    "        if run_id in df_rolldecay_only_latest.index:\n",
    "            plot_style='-'\n",
    "        else:\n",
    "            plot_style='--'\n",
    "        \n",
    "        X.plot(y='phi', label='run:%i' % run_id, ax=ax, style=plot_style)\n",
    "    \n",
    "    ax.grid()"
   ]
  },
  {
   "cell_type": "code",
   "execution_count": null,
   "metadata": {},
   "outputs": [],
   "source": [
    "counter = 0\n",
    "for _,group in duplicates:\n",
    "    counter+=1\n",
    "    if counter>20:\n",
    "        break \n",
    "        \n",
    "    plot_group(group)"
   ]
  },
  {
   "cell_type": "code",
   "execution_count": null,
   "metadata": {},
   "outputs": [],
   "source": [
    "df_good = duplicates.filter(lambda x:x['omega0'].std()<0.0004)\n",
    "df_good.describe()"
   ]
  },
  {
   "cell_type": "code",
   "execution_count": null,
   "metadata": {},
   "outputs": [],
   "source": [
    "good_groups = df_good.groupby(by=['loading_condition_id','ship_speed'])"
   ]
  },
  {
   "cell_type": "code",
   "execution_count": null,
   "metadata": {},
   "outputs": [],
   "source": [
    "counter = 0\n",
    "for _,group in good_groups:\n",
    "    counter+=1\n",
    "    if counter>20:\n",
    "        break \n",
    "        \n",
    "    plot_group(group)"
   ]
  },
  {
   "cell_type": "code",
   "execution_count": null,
   "metadata": {},
   "outputs": [],
   "source": [
    "def r2_group(group, plot=False):\n",
    "    \n",
    "    X1=load_run(run_id=group.index[0])\n",
    "    X2=load_run(run_id=group.index[1])\n",
    "    \n",
    "    resample_time='0.05S'\n",
    "    X1.index = pd.TimedeltaIndex(X1.index, unit='s')\n",
    "    X1=X1.resample(resample_time).mean()\n",
    "    \n",
    "    X2.index = pd.TimedeltaIndex(X2.index, unit='s')\n",
    "    X2=X2.resample(resample_time).mean()\n",
    "    \n",
    "    df_compare = pd.merge(left=X1, right=X2, how='inner', left_index=True, right_index=True,\n",
    "                         suffixes=('_1','_2'))\n",
    "    \n",
    "    if plot:\n",
    "        df_compare.plot(y=['phi_1','phi_2'])\n",
    "        \n",
    "    return r2_score(y_true=df_compare['phi_1'], y_pred=df_compare['phi_2'])    \n",
    "    \n",
    "                \n"
   ]
  },
  {
   "cell_type": "code",
   "execution_count": null,
   "metadata": {},
   "outputs": [],
   "source": [
    "r2s = good_groups.apply(func=r2_group, plot=False)"
   ]
  },
  {
   "cell_type": "code",
   "execution_count": null,
   "metadata": {},
   "outputs": [],
   "source": [
    "r2s"
   ]
  },
  {
   "cell_type": "code",
   "execution_count": null,
   "metadata": {},
   "outputs": [],
   "source": [
    "r2s.mean()"
   ]
  },
  {
   "cell_type": "code",
   "execution_count": null,
   "metadata": {},
   "outputs": [],
   "source": [
    "r2s.std()"
   ]
  },
  {
   "cell_type": "code",
   "execution_count": null,
   "metadata": {},
   "outputs": [],
   "source": []
  }
 ],
 "metadata": {
  "kernelspec": {
   "display_name": "Python 3",
   "language": "python",
   "name": "python3"
  },
  "language_info": {
   "codemirror_mode": {
    "name": "ipython",
    "version": 3
   },
   "file_extension": ".py",
   "mimetype": "text/x-python",
   "name": "python",
   "nbconvert_exporter": "python",
   "pygments_lexer": "ipython3",
   "version": "3.5.4"
  }
 },
 "nbformat": 4,
 "nbformat_minor": 4
}
