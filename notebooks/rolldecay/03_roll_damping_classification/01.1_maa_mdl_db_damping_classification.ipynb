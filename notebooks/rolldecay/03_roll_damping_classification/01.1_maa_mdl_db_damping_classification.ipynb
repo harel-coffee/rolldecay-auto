{
 "cells": [
  {
   "cell_type": "markdown",
   "metadata": {},
   "source": [
    "# MDL DB roll damping classification\n",
    "This notebook is comparing a cubic, a quadratic and a linear rolldecay model on the whole database."
   ]
  },
  {
   "cell_type": "code",
   "execution_count": null,
   "metadata": {
    "pycharm": {
     "is_executing": true
    }
   },
   "outputs": [],
   "source": [
    "%matplotlib inline\n",
    "%load_ext autoreload\n",
    "%autoreload 2"
   ]
  },
  {
   "cell_type": "code",
   "execution_count": null,
   "metadata": {},
   "outputs": [],
   "source": [
    "from jupyterthemes import jtplot\n",
    "jtplot.style(theme='onedork', context='notebook', ticks=True, grid=False)"
   ]
  },
  {
   "cell_type": "code",
   "execution_count": null,
   "metadata": {
    "pycharm": {
     "is_executing": false
    }
   },
   "outputs": [],
   "source": [
    "import pandas as pd\n",
    "pd.options.display.max_rows = 999\n",
    "pd.options.display.max_columns = 999\n",
    "pd.set_option(\"display.max_columns\", None)\n",
    "import numpy as np\n",
    "import os\n",
    "import matplotlib.pyplot as plt\n",
    "from pylab import rcParams\n",
    "rcParams['figure.figsize'] = 15, 5\n",
    "\n",
    "import rolldecay.database as database\n",
    "from mdldb.tables import Run\n",
    "from rolldecayestimators.transformers import CutTransformer, LowpassFilterDerivatorTransformer, ScaleFactorTransformer, OffsetTransformer\n",
    "from rolldecayestimators.direct_estimator_cubic import EstimatorCubic, EstimatorQuadraticB, EstimatorLinear\n",
    "\n",
    "import data\n",
    "import copy\n",
    "\n",
    "\n",
    "from sklearn.pipeline import Pipeline\n",
    "import seaborn as sns\n",
    "\n",
    "from sympy.physics.vector.printing import vpprint, vlatex\n",
    "from IPython.display import display, Math, Latex"
   ]
  },
  {
   "cell_type": "markdown",
   "metadata": {},
   "source": [
    "## Cubic model\n",
    "Has cubic damping and stiffness:"
   ]
  },
  {
   "cell_type": "code",
   "execution_count": null,
   "metadata": {},
   "outputs": [],
   "source": [
    "Math(vlatex(EstimatorCubic.roll_decay_equation))"
   ]
  },
  {
   "cell_type": "markdown",
   "metadata": {},
   "source": [
    "## Quadratic model\n",
    "Has quadratic damping and stiffness:"
   ]
  },
  {
   "cell_type": "code",
   "execution_count": null,
   "metadata": {},
   "outputs": [],
   "source": [
    "Math(vlatex(EstimatorQuadraticB.roll_decay_equation))"
   ]
  },
  {
   "cell_type": "markdown",
   "metadata": {},
   "source": [
    "## Linear model\n",
    "Has linear damping and stiffness:"
   ]
  },
  {
   "cell_type": "code",
   "execution_count": null,
   "metadata": {},
   "outputs": [],
   "source": [
    "Math(vlatex(EstimatorLinear.roll_decay_equation))"
   ]
  },
  {
   "cell_type": "code",
   "execution_count": null,
   "metadata": {},
   "outputs": [],
   "source": [
    "limit_score = 0.8\n",
    "df_cubic = database.load(rolldecay_table_name='rolldecay_cubic_b', limit_score=limit_score,\n",
    "                         exclude_table_name='rolldecay_exclude')\n",
    "df_quadratic = database.load(rolldecay_table_name='rolldecay_quadratic_b', limit_score=limit_score,\n",
    "                         exclude_table_name='rolldecay_exclude')\n",
    "df_linear = database.load(rolldecay_table_name='rolldecay_linear_b', limit_score=limit_score,\n",
    "                         exclude_table_name='rolldecay_exclude')"
   ]
  },
  {
   "cell_type": "code",
   "execution_count": null,
   "metadata": {},
   "outputs": [],
   "source": [
    "df_cubic.describe()"
   ]
  },
  {
   "cell_type": "code",
   "execution_count": null,
   "metadata": {},
   "outputs": [],
   "source": [
    "df_quadratic.describe()"
   ]
  },
  {
   "cell_type": "code",
   "execution_count": null,
   "metadata": {},
   "outputs": [],
   "source": [
    "df_linear.describe()"
   ]
  },
  {
   "cell_type": "markdown",
   "metadata": {},
   "source": [
    "## Comparison of the r2 score with the three models"
   ]
  },
  {
   "cell_type": "code",
   "execution_count": null,
   "metadata": {},
   "outputs": [],
   "source": [
    "N=60\n",
    "\n",
    "df_cubic['estimator'] = 'cubic'\n",
    "df_quadratic['estimator'] = 'quadratic'\n",
    "df_linear['estimator'] = 'linear'\n",
    "\n",
    "df_comparison = df_cubic.copy()\n",
    "df_comparison = df_comparison.append(df_quadratic, ignore_index=True, sort=False)\n",
    "df_comparison = df_comparison.append(df_linear, ignore_index=True, sort=False)\n",
    "\n",
    "bins = np.linspace(df_comparison['score'].min(), df_comparison['score'].max(),N)\n",
    "\n",
    "groups=df_comparison.groupby(by='estimator', sort=False)\n",
    "fig,axes=plt.subplots(nrows=len(groups))\n",
    "for ax,(estimator, group) in zip(axes,groups):\n",
    "    label = '%s' % estimator\n",
    "    group['score'].hist(bins=bins, ax=ax, label = label)\n",
    "    ax.set_title(label)\n",
    "ax.set_xlabel('score')\n",
    "    \n",
    "ymaxs = []\n",
    "for ax in axes:\n",
    "    ylims = ax.get_ylim()\n",
    "    ymaxs.append(ylims[1])\n",
    "for ax in axes:\n",
    "    ax.set_ylim(0,np.max(ymaxs))\n",
    "    \n",
    "fig.tight_layout()\n",
    "    "
   ]
  },
  {
   "cell_type": "code",
   "execution_count": null,
   "metadata": {},
   "outputs": [],
   "source": [
    "fig,ax=plt.subplots()\n",
    "df_comparison2 = pd.merge(left=df_cubic, right=df_quadratic, how='inner', left_index=True, \n",
    "                          right_index=True, suffixes=('','_quadratic'))\n",
    "df_comparison2 = pd.merge(left=df_comparison2, right=df_linear, how='inner', left_index=True, \n",
    "                          right_index=True, suffixes=('','_linear'))\n",
    "\n",
    "df_comparison2['score_cubic-score_quadratic']=df_comparison2['score']-df_comparison2['score_quadratic']\n",
    "df_comparison2['score_cubic-score_linear']=df_comparison2['score']-df_comparison2['score_linear']\n",
    "df_comparison2['score_quadratic-score_linear']=df_comparison2['score_quadratic']-df_comparison2['score_linear']\n",
    "\n",
    "df_comparison2.plot(y='score_cubic-score_quadratic', style='o', ax=ax, alpha=0.50)\n",
    "df_comparison2.plot(y='score_cubic-score_linear', style='*', ax=ax, alpha=0.50)\n",
    "\n",
    "ax.set_title('Score comparison')\n",
    "ax.grid(True)\n",
    "ax.legend()"
   ]
  },
  {
   "cell_type": "markdown",
   "metadata": {},
   "source": [
    "... it looks like cubic model will not so much more accurate than the quadratic "
   ]
  },
  {
   "cell_type": "markdown",
   "metadata": {},
   "source": [
    "## Closer look on the cubic coefficients"
   ]
  },
  {
   "cell_type": "code",
   "execution_count": null,
   "metadata": {},
   "outputs": [],
   "source": [
    "fig,axes=plt.subplots(ncols=3)\n",
    "for i in range(0,3):\n",
    "    key = 'B_%iA' % (i+1)\n",
    "    ax=axes[i]\n",
    "    df_cubic[key].hist(bins=40, ax=ax)\n",
    "    ax.set_title(key)\n",
    "    \n",
    "fig,axes=plt.subplots(ncols=3)\n",
    "for i in range(0,3):\n",
    "    key = 'C_%iA' % (1+(i*2))\n",
    "    ax=axes[i]\n",
    "    df_cubic[key].hist(bins=40, ax=ax)\n",
    "    ax.set_title(key)\n",
    "    "
   ]
  },
  {
   "cell_type": "markdown",
   "metadata": {},
   "source": [
    "## Compare signals\n",
    "select the run where cubic and quadratic model differ the most"
   ]
  },
  {
   "cell_type": "code",
   "execution_count": null,
   "metadata": {},
   "outputs": [],
   "source": [
    "run_id = df_comparison2['score_cubic-score_quadratic'].abs().idxmax()"
   ]
  },
  {
   "cell_type": "code",
   "execution_count": null,
   "metadata": {},
   "outputs": [],
   "source": [
    "df_comparison2.loc[run_id]['score_cubic-score_quadratic']"
   ]
  },
  {
   "cell_type": "code",
   "execution_count": null,
   "metadata": {},
   "outputs": [],
   "source": [
    "db = database.get_db()"
   ]
  },
  {
   "cell_type": "code",
   "execution_count": null,
   "metadata": {},
   "outputs": [],
   "source": [
    "db_run = db.session.query(Run).get(int(run_id))\n",
    "df = database.load_run(db_run, save_as_example=True)"
   ]
  },
  {
   "cell_type": "code",
   "execution_count": null,
   "metadata": {},
   "outputs": [],
   "source": [
    "df.plot(y='phi')"
   ]
  },
  {
   "cell_type": "code",
   "execution_count": null,
   "metadata": {},
   "outputs": [],
   "source": [
    "lowpass_filter = LowpassFilterDerivatorTransformer(cutoff=2, minimum_score=0.99)\n",
    "#scaler = ScaleFactorTransformer(scale_factor=db_run.model.scale_factor)  # dummy value None for now\n",
    "cutter = CutTransformer(phi_max=np.deg2rad(9), phi_min=np.deg2rad(0.25))\n",
    "offset_transformer = OffsetTransformer()\n",
    "\n",
    "steps = [\n",
    "    ('filter',lowpass_filter),\n",
    "#    ('scaler',scaler),  # Is froude scaling a good idea??\n",
    "    ('cutter', cutter), \n",
    "    ('offset_transformer',offset_transformer)\n",
    "]\n",
    "        \n",
    "preprocessor = Pipeline(steps) # define the pipeline object.\n",
    "preprocessor.fit(df)\n",
    "X = preprocessor.transform(df)"
   ]
  },
  {
   "cell_type": "code",
   "execution_count": null,
   "metadata": {},
   "outputs": [],
   "source": [
    "X.plot(y='phi')"
   ]
  },
  {
   "cell_type": "code",
   "execution_count": null,
   "metadata": {},
   "outputs": [],
   "source": [
    "meta_data = df_cubic.loc[run_id]\n",
    "cubic_estimator = EstimatorCubic.load(data=meta_data, X=X)\n",
    "cubic_estimator.plot_fit()"
   ]
  },
  {
   "cell_type": "code",
   "execution_count": null,
   "metadata": {},
   "outputs": [],
   "source": [
    "meta_data = df_quadratic.loc[run_id]\n",
    "quadratic_estimator = EstimatorQuadratic.load(data=meta_data, X=X)\n",
    "quadratic_estimator.plot_fit()\n"
   ]
  },
  {
   "cell_type": "code",
   "execution_count": null,
   "metadata": {},
   "outputs": [],
   "source": [
    "meta_data = df_linear.loc[run_id]\n",
    "linear_estimator = EstimatorLinear.load(data=meta_data, X=X)\n",
    "linear_estimator.plot_fit()"
   ]
  },
  {
   "cell_type": "code",
   "execution_count": null,
   "metadata": {},
   "outputs": [],
   "source": [
    "cubic_estimator.plot_fft()"
   ]
  },
  {
   "cell_type": "code",
   "execution_count": null,
   "metadata": {},
   "outputs": [],
   "source": [
    "cubic_estimator.omega0"
   ]
  },
  {
   "cell_type": "code",
   "execution_count": null,
   "metadata": {},
   "outputs": [],
   "source": [
    "cubic_estimator.calculate_amplitudes_and_damping()\n",
    "cubic_estimator.X_amplitudes.plot(x='phi',y='omega0')"
   ]
  },
  {
   "cell_type": "code",
   "execution_count": null,
   "metadata": {},
   "outputs": [],
   "source": [
    "cubic_estimator.plot_peaks()"
   ]
  },
  {
   "cell_type": "markdown",
   "metadata": {},
   "source": [
    "select the run where quadartic and linear model differ the most"
   ]
  },
  {
   "cell_type": "code",
   "execution_count": null,
   "metadata": {},
   "outputs": [],
   "source": [
    "run_id = df_comparison2['score_quadratic-score_linear'].abs().idxmax()\n",
    "db_run = db.session.query(Run).get(int(run_id))\n",
    "df = database.load_run(db_run, save_as_example=True)\n",
    "\n",
    "#preprocessor['scaler'].scale_factor=db_run.model.scale_factor\n",
    "X = preprocessor.transform(df)\n",
    "\n",
    "meta_data = df_cubic.loc[run_id]\n",
    "cubic_estimator = EstimatorCubic.load(data=meta_data, X=X)\n",
    "cubic_estimator.plot_fit()\n",
    "\n",
    "meta_data = df_quadratic.loc[run_id]\n",
    "quadratic_estimator = EstimatorQuadraticB.load(data=meta_data, X=X)\n",
    "quadratic_estimator.plot_fit()\n",
    "\n",
    "meta_data = df_linear.loc[run_id]\n",
    "linear_estimator = EstimatorLinear.load(data=meta_data, X=X)\n",
    "linear_estimator.plot_fit()"
   ]
  },
  {
   "cell_type": "code",
   "execution_count": null,
   "metadata": {},
   "outputs": [],
   "source": [
    "meta_data = df_linear.loc[run_id]\n",
    "meta_data['score']"
   ]
  },
  {
   "cell_type": "code",
   "execution_count": null,
   "metadata": {},
   "outputs": [],
   "source": [
    "linear_estimator.calculate_amplitudes_and_damping()\n",
    "linear_estimator.X_amplitudes.plot(x='phi',y='omega0')"
   ]
  },
  {
   "cell_type": "code",
   "execution_count": null,
   "metadata": {},
   "outputs": [],
   "source": []
  },
  {
   "cell_type": "code",
   "execution_count": null,
   "metadata": {},
   "outputs": [],
   "source": []
  },
  {
   "cell_type": "code",
   "execution_count": null,
   "metadata": {},
   "outputs": [],
   "source": []
  }
 ],
 "metadata": {
  "kernelspec": {
   "display_name": "Python 3",
   "language": "python",
   "name": "python3"
  },
  "pycharm": {
   "stem_cell": {
    "cell_type": "raw",
    "metadata": {
     "collapsed": false
    },
    "source": []
   }
  }
 },
 "nbformat": 4,
 "nbformat_minor": 4
}
