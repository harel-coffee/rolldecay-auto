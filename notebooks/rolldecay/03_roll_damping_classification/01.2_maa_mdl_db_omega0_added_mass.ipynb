{
 "cells": [
  {
   "cell_type": "markdown",
   "metadata": {},
   "source": [
    "# Get $\\omega_0$ and added mass from \"B\" models"
   ]
  },
  {
   "cell_type": "code",
   "execution_count": null,
   "metadata": {
    "pycharm": {
     "is_executing": true
    }
   },
   "outputs": [],
   "source": [
    "%matplotlib inline\n",
    "%load_ext autoreload\n",
    "%autoreload 2"
   ]
  },
  {
   "cell_type": "code",
   "execution_count": null,
   "metadata": {},
   "outputs": [],
   "source": [
    "from jupyterthemes import jtplot\n",
    "jtplot.style(theme='onedork', context='notebook', ticks=True, grid=False)"
   ]
  },
  {
   "cell_type": "code",
   "execution_count": null,
   "metadata": {
    "pycharm": {
     "is_executing": false
    }
   },
   "outputs": [],
   "source": [
    "import pandas as pd\n",
    "pd.options.display.max_rows = 999\n",
    "pd.options.display.max_columns = 999\n",
    "pd.set_option(\"display.max_columns\", None)\n",
    "import numpy as np\n",
    "import os\n",
    "import matplotlib.pyplot as plt\n",
    "from pylab import rcParams\n",
    "rcParams['figure.figsize'] = 15, 5\n",
    "\n",
    "import rolldecay.database as database\n",
    "from mdldb.tables import Run\n",
    "from rolldecayestimators.transformers import CutTransformer, LowpassFilterDerivatorTransformer, ScaleFactorTransformer, OffsetTransformer\n",
    "from rolldecayestimators.direct_estimator_cubic import EstimatorCubic, EstimatorQuadratic, EstimatorLinear\n",
    "\n",
    "from rolldecayestimators import equations\n",
    "from rolldecayestimators import symbols\n",
    "from rolldecayestimators.substitute_dynamic_symbols import lambdify,run\n",
    "import sympy as sp\n",
    "\n",
    "\n",
    "import data\n",
    "import copy\n",
    "from sklearn.pipeline import Pipeline\n",
    "import seaborn as sns\n",
    "\n",
    "from sympy.physics.vector.printing import vpprint, vlatex\n",
    "from IPython.display import display, Math, Latex"
   ]
  },
  {
   "cell_type": "markdown",
   "metadata": {},
   "source": [
    "## Quadratic model\n",
    "Has quadratic damping and stiffness:"
   ]
  },
  {
   "cell_type": "code",
   "execution_count": null,
   "metadata": {},
   "outputs": [],
   "source": [
    "Math(vlatex(EstimatorQuadratic.roll_decay_equation))"
   ]
  },
  {
   "cell_type": "code",
   "execution_count": null,
   "metadata": {},
   "outputs": [],
   "source": [
    "df_quadratic = database.load(rolldecay_table_name='rolldecay_quadratic_b', limit_score=0.95)\n",
    "\n",
    "mask = ((df_quadratic['gm'] > 0) & (df_quadratic['Volume'] > 0))\n",
    "df_quadratic=df_quadratic.loc[mask].copy()\n",
    "\n",
    "rho=1000\n",
    "g=9.81\n",
    "scale_factor=df_quadratic['scale_factor']\n",
    "\n",
    "df_quadratic.rename(columns = {'KXX':'kxx', 'gm':'GM'}, inplace=True)\n",
    "\n",
    "df_quadratic['kxx']/=scale_factor\n",
    "df_quadratic['beam']/=scale_factor\n",
    "df_quadratic['GM']/=scale_factor\n",
    "df_quadratic['g'] = g\n",
    "df_quadratic['rho'] = rho\n",
    "df_quadratic['Volume']/=scale_factor**3\n",
    "df_quadratic['m'] = df_quadratic['Volume']*rho\n",
    "df_quadratic['Ixx'] = df_quadratic['kxx']**2*df_quadratic['m']"
   ]
  },
  {
   "cell_type": "code",
   "execution_count": null,
   "metadata": {},
   "outputs": [],
   "source": [
    "meta_data = df_quadratic.iloc[0]\n",
    "run_id = int(meta_data['id'])\n",
    "db = database.get_db()\n",
    "db_run = db.session.query(Run).get(run_id)\n",
    "df = database.load_run(db_run, save_as_example=True)"
   ]
  },
  {
   "cell_type": "code",
   "execution_count": null,
   "metadata": {},
   "outputs": [],
   "source": [
    "df.plot(y='phi')"
   ]
  },
  {
   "cell_type": "code",
   "execution_count": null,
   "metadata": {},
   "outputs": [],
   "source": [
    "lowpass_filter = LowpassFilterDerivatorTransformer(cutoff=2, minimum_score=0.99)\n",
    "#scaler = ScaleFactorTransformer(scale_factor=db_run.model.scale_factor)  # dummy value None for now\n",
    "cutter = CutTransformer(phi_max=np.deg2rad(9), phi_min=np.deg2rad(0.25))\n",
    "offset_transformer = OffsetTransformer()\n",
    "\n",
    "steps = [\n",
    "    ('filter',lowpass_filter),\n",
    "#    ('scaler',scaler),  # Is froude scaling a good idea??\n",
    "    ('cutter', cutter), \n",
    "    ('offset_transformer',offset_transformer)\n",
    "]\n",
    "        \n",
    "preprocessor = Pipeline(steps) # define the pipeline object.\n",
    "preprocessor.fit(df)\n",
    "X = preprocessor.transform(df)"
   ]
  },
  {
   "cell_type": "code",
   "execution_count": null,
   "metadata": {},
   "outputs": [],
   "source": [
    "X.plot(y='phi')"
   ]
  },
  {
   "cell_type": "code",
   "execution_count": null,
   "metadata": {},
   "outputs": [],
   "source": [
    "meta_data = df_quadratic.loc[run_id]\n",
    "quadratic_estimator = EstimatorQuadratic.load(data=meta_data, X=X)\n",
    "quadratic_estimator.plot_fit()"
   ]
  },
  {
   "cell_type": "code",
   "execution_count": null,
   "metadata": {},
   "outputs": [],
   "source": [
    "equations.C_equation_quadratic"
   ]
  },
  {
   "cell_type": "code",
   "execution_count": null,
   "metadata": {},
   "outputs": [],
   "source": [
    "stiffness_lambda = lambdify(-sp.solve(equations.C_equation_quadratic,symbols.C)[0]*symbols.phi)"
   ]
  },
  {
   "cell_type": "code",
   "execution_count": null,
   "metadata": {},
   "outputs": [],
   "source": [
    "X['restoring moment'] = stiffness_lambda(C_1=quadratic_estimator.parameters['C_1A'], \n",
    "                 C_3=quadratic_estimator.parameters['C_3A'], phi=X['phi'])\n",
    "\n",
    "X['restoring moment linear'] = stiffness_lambda(C_1=quadratic_estimator.parameters['C_1A'], \n",
    "                 C_3=0, phi=X['phi'])"
   ]
  },
  {
   "cell_type": "code",
   "execution_count": null,
   "metadata": {},
   "outputs": [],
   "source": [
    "X.plot(y=['restoring moment','restoring moment linear'])"
   ]
  },
  {
   "cell_type": "code",
   "execution_count": null,
   "metadata": {},
   "outputs": [],
   "source": [
    "X.plot(x='phi',y=['restoring moment','restoring moment linear'])"
   ]
  },
  {
   "cell_type": "code",
   "execution_count": null,
   "metadata": {},
   "outputs": [],
   "source": [
    "Math(vlatex(equations.restoring_equation_linear))"
   ]
  },
  {
   "cell_type": "code",
   "execution_count": null,
   "metadata": {},
   "outputs": [],
   "source": [
    "equations.normalize_equations[symbols.C_1]"
   ]
  },
  {
   "cell_type": "code",
   "execution_count": null,
   "metadata": {},
   "outputs": [],
   "source": [
    "equations.C_equation_linear"
   ]
  },
  {
   "cell_type": "code",
   "execution_count": null,
   "metadata": {},
   "outputs": [],
   "source": [
    "C_1_equation = equations.C_equation_linear.subs(symbols.C,symbols.C_1)\n",
    "C_1_equation"
   ]
  },
  {
   "cell_type": "code",
   "execution_count": null,
   "metadata": {},
   "outputs": [],
   "source": [
    "eqs = [\n",
    "    C_1_equation,\n",
    "    equations.normalize_equations[symbols.C_1]\n",
    "]\n",
    "\n",
    "C_1A = equations.new_symbols[symbols.C_1]\n",
    "\n",
    "A44_equation = sp.Eq(symbols.A_44,sp.solve(eqs,symbols.C_1,symbols.A_44)[symbols.A_44])\n",
    "A44_equation"
   ]
  },
  {
   "cell_type": "code",
   "execution_count": null,
   "metadata": {},
   "outputs": [],
   "source": [
    "A44_lambda = lambdify(sp.solve(A44_equation,symbols.A_44)[0])"
   ]
  },
  {
   "cell_type": "code",
   "execution_count": null,
   "metadata": {},
   "outputs": [],
   "source": [
    "def calculate_A44(meta_data):\n",
    "    return run(function = A44_lambda, inputs=meta_data)\n",
    "    return added_mass\n",
    "\n",
    "def calculate_kxx_ratio(meta_data):\n",
    "    A44 = calculate_A44(meta_data)\n",
    "    kxx_tot = np.sqrt(A44/meta_data['m'])\n",
    "    return (kxx_tot-meta_data['kxx'])/meta_data['kxx']\n",
    "    "
   ]
  },
  {
   "cell_type": "code",
   "execution_count": null,
   "metadata": {},
   "outputs": [],
   "source": [
    "meta_data = meta_data.copy()\n",
    "calculate_kxx_ratio(meta_data)"
   ]
  },
  {
   "cell_type": "code",
   "execution_count": null,
   "metadata": {},
   "outputs": [],
   "source": [
    "df_quadratic['kxx_ratio'] = df_quadratic.apply(func=calculate_kxx_ratio, axis=1)\n",
    "mask = pd.notnull(df_quadratic['kxx_ratio'])\n",
    "results = df_quadratic.loc[mask].copy()"
   ]
  },
  {
   "cell_type": "code",
   "execution_count": null,
   "metadata": {},
   "outputs": [],
   "source": [
    "fig,ax=plt.subplots()\n",
    "results['kxx_ratio'].hist(bins=60, ax=ax)\n",
    "ax.set_xlabel(r'$\\frac{k_{xxtot}-k_{xx}}{k_{xx}}$')\n",
    "ax.set_title('Histogram of added roll inertia');"
   ]
  },
  {
   "cell_type": "markdown",
   "metadata": {},
   "source": [
    "I have looked at the meta data from the reports for the outliers to the right and cannot find anything wrong. Strange..."
   ]
  },
  {
   "cell_type": "code",
   "execution_count": null,
   "metadata": {},
   "outputs": [],
   "source": [
    "eqs = [equations.C_equation_linear,\n",
    "       equations.omega0_equation,\n",
    "      ]\n",
    "omgea0_equation = sp.Eq(symbols.omega0,sp.solve(eqs,symbols.C,symbols.omega0)[0][1])\n",
    "omgea0_equation"
   ]
  },
  {
   "cell_type": "code",
   "execution_count": null,
   "metadata": {},
   "outputs": [],
   "source": [
    "omega0_lambda = lambdify(sp.solve(omgea0_equation,symbols.omega0)[0])"
   ]
  },
  {
   "cell_type": "code",
   "execution_count": null,
   "metadata": {},
   "outputs": [],
   "source": [
    "def calculate_omega0(meta_data):\n",
    "    A44 = calculate_A44(meta_data)\n",
    "    return omega0_lambda(A_44=A44, GM=meta_data['GM'], g=g, m=meta_data['m'])"
   ]
  },
  {
   "cell_type": "code",
   "execution_count": null,
   "metadata": {},
   "outputs": [],
   "source": [
    "meta_data['omega0'] = calculate_omega0(meta_data)\n",
    "meta_data['omega0']"
   ]
  },
  {
   "cell_type": "code",
   "execution_count": null,
   "metadata": {},
   "outputs": [],
   "source": [
    "quadratic_estimator.omega0"
   ]
  },
  {
   "cell_type": "code",
   "execution_count": null,
   "metadata": {},
   "outputs": [],
   "source": [
    "quadratic_estimator.calculate_amplitudes_and_damping()\n",
    "quadratic_estimator.X_amplitudes.plot(x='phi',y='omega0')"
   ]
  },
  {
   "cell_type": "code",
   "execution_count": null,
   "metadata": {},
   "outputs": [],
   "source": [
    "results['omega0'] = results.apply(func=calculate_omega0, axis=1)"
   ]
  },
  {
   "cell_type": "code",
   "execution_count": null,
   "metadata": {},
   "outputs": [],
   "source": [
    "fig,ax=plt.subplots()\n",
    "results['omega0'].hist(bins=60, ax=ax)\n",
    "ax.set_title(r'Histogram of $\\omega_0$');\n",
    "ax.set_xlabel('$\\omega_0$');"
   ]
  },
  {
   "cell_type": "code",
   "execution_count": null,
   "metadata": {},
   "outputs": [],
   "source": [
    "equations.omega_hat_equation"
   ]
  },
  {
   "cell_type": "code",
   "execution_count": null,
   "metadata": {},
   "outputs": [],
   "source": [
    "omega_hat_equation = equations.omega_hat_equation.subs(symbols.omega,symbols.omega0)\n",
    "omega_hat_equation"
   ]
  },
  {
   "cell_type": "code",
   "execution_count": null,
   "metadata": {},
   "outputs": [],
   "source": [
    "omega_hat_lambda = lambdify(sp.solve(omega_hat_equation,symbols.omega_hat)[0])"
   ]
  },
  {
   "cell_type": "code",
   "execution_count": null,
   "metadata": {},
   "outputs": [],
   "source": [
    "results['omega0_hat'] = run(omega_hat_lambda,results)"
   ]
  },
  {
   "cell_type": "code",
   "execution_count": null,
   "metadata": {},
   "outputs": [],
   "source": [
    "fig,ax=plt.subplots()\n",
    "results['omega0_hat'].hist(bins=60, ax=ax)\n",
    "ax.set_title(r'Histogram of $\\hat{\\omega_0}$');\n",
    "ax.set_xlabel('$\\hat{\\omega_0}$')"
   ]
  },
  {
   "cell_type": "code",
   "execution_count": null,
   "metadata": {},
   "outputs": [],
   "source": [
    "mask = ((results['kxx_ratio'] < results['kxx_ratio'].quantile(0.005)) |  \n",
    " (results['kxx_ratio'] > results['kxx_ratio'].quantile(0.99)))\n",
    "outliers = results.loc[mask].copy()\n",
    "outliers['A44']=run(function=A44_lambda,inputs=outliers)\n",
    "outliers[['kxx_ratio','GM','m','omega0','omega0_hat','kxx','Ixx','A44','score','model_number','project_number']]"
   ]
  },
  {
   "cell_type": "code",
   "execution_count": null,
   "metadata": {},
   "outputs": [],
   "source": [
    "meta_data = outliers.iloc[1]\n",
    "run_id = int(meta_data['id'])\n",
    "db = database.get_db()\n",
    "db_run = db.session.query(Run).get(run_id)\n",
    "df = database.load_run(db_run, save_as_example=True)\n",
    "X = preprocessor.transform(df)\n",
    "quadratic_estimator = EstimatorQuadratic.load(data=meta_data, X=X)\n",
    "quadratic_estimator.plot_fit()"
   ]
  },
  {
   "cell_type": "code",
   "execution_count": null,
   "metadata": {},
   "outputs": [],
   "source": [
    "X['restoring moment'] = stiffness_lambda(C_1=quadratic_estimator.parameters['C_1A'], \n",
    "                 C_3=quadratic_estimator.parameters['C_3A'], phi=X['phi'])\n",
    "\n",
    "X['restoring moment linear'] = stiffness_lambda(C_1=quadratic_estimator.parameters['C_1A'], \n",
    "                 C_3=0, phi=X['phi'])"
   ]
  },
  {
   "cell_type": "code",
   "execution_count": null,
   "metadata": {},
   "outputs": [],
   "source": [
    "X.plot(x='phi',y=['restoring moment','restoring moment linear'])"
   ]
  },
  {
   "cell_type": "code",
   "execution_count": null,
   "metadata": {},
   "outputs": [],
   "source": [
    "print(meta_data.project_path)"
   ]
  },
  {
   "cell_type": "code",
   "execution_count": null,
   "metadata": {},
   "outputs": [],
   "source": [
    "meta_data.name"
   ]
  },
  {
   "cell_type": "code",
   "execution_count": null,
   "metadata": {},
   "outputs": [],
   "source": [
    "temp = database.load(rolldecay_table_name='rolldecay_quadratic_b', limit_score=0.95)\n",
    "temp.loc[meta_data.name]"
   ]
  },
  {
   "cell_type": "markdown",
   "metadata": {},
   "source": [
    "## Correct wrong meta data"
   ]
  },
  {
   "cell_type": "code",
   "execution_count": null,
   "metadata": {},
   "outputs": [],
   "source": [
    "\n",
    "db_run = db.session.query(Run).get(int(16501))\n",
    "loading_condition = db_run.loading_condition\n",
    "print(loading_condition.TA)\n",
    "print(loading_condition.TF)\n",
    "\n",
    "loading_condition.gm = 25.12-22.6\n",
    "#loading_condition.lcg = \n",
    "#loading_condition.kg = \n",
    "loading_condition.KXX = 17.3\n",
    "#loading_condition.KYY = \n",
    "#loading_condition.KZZ = \n",
    "\n",
    "db.session.merge(loading_condition)\n",
    "db.session.commit()"
   ]
  },
  {
   "cell_type": "code",
   "execution_count": null,
   "metadata": {},
   "outputs": [],
   "source": [
    "\n",
    "db_run = db.session.query(Run).get(int(18463))\n",
    "loading_condition = db_run.loading_condition\n",
    "print(loading_condition.TA)\n",
    "print(loading_condition.TF)\n",
    "\n",
    "#loading_condition.gm = 2.20\n",
    "#loading_condition.lcg = \n",
    "#loading_condition.kg = \n",
    "loading_condition.KXX = 15.77\n",
    "#loading_condition.KYY = \n",
    "#loading_condition.KZZ = \n",
    "\n",
    "db.session.merge(loading_condition)\n",
    "db.session.commit()"
   ]
  },
  {
   "cell_type": "code",
   "execution_count": null,
   "metadata": {},
   "outputs": [],
   "source": [
    "db_run = db.session.query(Run).get(int(16501))\n",
    "loading_condition = db_run.loading_condition\n",
    "print(loading_condition.TA)\n",
    "print(loading_condition.TF)\n",
    "\n",
    "#loading_condition.gm = 2.20\n",
    "#loading_condition.lcg = \n",
    "#loading_condition.kg = \n",
    "loading_condition.KXX = 0.36*48\n",
    "#loading_condition.KYY = \n",
    "#loading_condition.KZZ = \n",
    "\n",
    "db.session.merge(loading_condition)\n",
    "db.session.commit()"
   ]
  },
  {
   "cell_type": "code",
   "execution_count": null,
   "metadata": {},
   "outputs": [],
   "source": [
    "db_run = db.session.query(Run).get(int(5511))\n",
    "loading_condition = db_run.loading_condition\n",
    "print(loading_condition.TA)\n",
    "print(loading_condition.TF)\n",
    "\n",
    "loading_condition.gm = 2.20\n",
    "#loading_condition.lcg = \n",
    "#loading_condition.kg = \n",
    "#loading_condition.KXX = 15.19 \n",
    "#loading_condition.KYY = \n",
    "#loading_condition.KZZ = \n",
    "\n",
    "db.session.merge(loading_condition)\n",
    "db.session.commit()"
   ]
  },
  {
   "cell_type": "code",
   "execution_count": null,
   "metadata": {},
   "outputs": [],
   "source": [
    "db_run = db.session.query(Run).get(int(18405))\n",
    "loading_condition = db_run.loading_condition\n",
    "print(loading_condition.TA)\n",
    "print(loading_condition.TF)\n",
    "\n",
    "loading_condition.gm = 8.02\n",
    "#loading_condition.lcg = \n",
    "#loading_condition.kg = \n",
    "loading_condition.KXX = 15.19 \n",
    "#loading_condition.KYY = \n",
    "#loading_condition.KZZ = \n",
    "\n",
    "db.session.merge(loading_condition)\n",
    "db.session.commit()"
   ]
  },
  {
   "cell_type": "code",
   "execution_count": null,
   "metadata": {},
   "outputs": [],
   "source": []
  },
  {
   "cell_type": "markdown",
   "metadata": {},
   "source": [
    "## Correct wrong meta data"
   ]
  },
  {
   "cell_type": "code",
   "execution_count": null,
   "metadata": {},
   "outputs": [],
   "source": [
    "db_run = db.session.query(Run).get(int(16490))\n",
    "loading_condition = db_run.loading_condition\n",
    "print(loading_condition.TA)\n",
    "print(loading_condition.TF)\n",
    "\n",
    "loading_condition.KXX = 0.36*48\n",
    "db.session.merge(loading_condition)\n",
    "db.session.commit()"
   ]
  },
  {
   "cell_type": "markdown",
   "metadata": {},
   "source": [
    "## Correct wrong meta data"
   ]
  },
  {
   "cell_type": "code",
   "execution_count": null,
   "metadata": {},
   "outputs": [],
   "source": [
    "db_run = db.session.query(Run).get(int(9453))\n",
    "loading_condition = db_run.loading_condition\n",
    "print(loading_condition.TA)\n",
    "print(loading_condition.TF)\n",
    "\n",
    "loading_condition.gm = 7.44\n",
    "loading_condition.lcg = 3.80\n",
    "loading_condition.kg = 8.55\n",
    "loading_condition.KXX = 11.9\n",
    "loading_condition.KYY = 46.6\n",
    "loading_condition.KZZ = 46.7\n",
    "db.session.merge(loading_condition)\n",
    "db.session.commit()\n"
   ]
  },
  {
   "cell_type": "code",
   "execution_count": null,
   "metadata": {},
   "outputs": [],
   "source": []
  },
  {
   "cell_type": "code",
   "execution_count": null,
   "metadata": {},
   "outputs": [],
   "source": []
  },
  {
   "cell_type": "code",
   "execution_count": null,
   "metadata": {},
   "outputs": [],
   "source": []
  },
  {
   "cell_type": "code",
   "execution_count": null,
   "metadata": {},
   "outputs": [],
   "source": []
  },
  {
   "cell_type": "code",
   "execution_count": null,
   "metadata": {},
   "outputs": [],
   "source": []
  },
  {
   "cell_type": "code",
   "execution_count": null,
   "metadata": {},
   "outputs": [],
   "source": []
  }
 ],
 "metadata": {
  "kernelspec": {
   "display_name": "Python 3",
   "language": "python",
   "name": "python3"
  },
  "language_info": {
   "codemirror_mode": {
    "name": "ipython",
    "version": 3
   },
   "file_extension": ".py",
   "mimetype": "text/x-python",
   "name": "python",
   "nbconvert_exporter": "python",
   "pygments_lexer": "ipython3",
   "version": "3.5.4"
  },
  "pycharm": {
   "stem_cell": {
    "cell_type": "raw",
    "metadata": {
     "collapsed": false
    },
    "source": []
   }
  }
 },
 "nbformat": 4,
 "nbformat_minor": 4
}
