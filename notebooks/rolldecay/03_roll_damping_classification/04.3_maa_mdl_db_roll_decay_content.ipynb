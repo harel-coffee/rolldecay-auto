{
 "cells": [
  {
   "cell_type": "markdown",
   "metadata": {},
   "source": [
    "# MDL DB roll decay content\n",
    "What is the data in the roll decay database and roll damping database?"
   ]
  },
  {
   "cell_type": "code",
   "execution_count": null,
   "metadata": {},
   "outputs": [],
   "source": [
    "%matplotlib inline\n",
    "%load_ext autoreload\n",
    "%autoreload 2"
   ]
  },
  {
   "cell_type": "code",
   "execution_count": null,
   "metadata": {
    "pycharm": {
     "is_executing": false
    }
   },
   "outputs": [],
   "source": [
    "import pandas as pd\n",
    "pd.options.display.max_rows = 999\n",
    "pd.options.display.max_columns = 999\n",
    "pd.set_option(\"display.max_columns\", None)\n",
    "import numpy as np\n",
    "import os\n",
    "import matplotlib.pyplot as plt\n",
    "from pylab import rcParams\n",
    "rcParams['figure.figsize'] = 15, 5\n",
    "\n",
    "import data\n",
    "import copy\n",
    "from mdldb.mdl_db import MDLDataBase\n",
    "from mdldb.tables import Base, Model, LoadingCondition, Run, RolldecayLinear, RolldecayDirect, RolldecayNorwegian\n",
    "from mdldb.tables import Min, Mean, Max, Std, Ship\n",
    "from mdldb import mdl_to_evaluation\n",
    "from evaluation.run_dynamic import RunDynamic\n",
    "from evaluation.run_manoeuvring import RunZigZag\n",
    "\n",
    "from rolldecayestimators.direct_estimator import DirectEstimator\n",
    "from rolldecayestimators.direct_linear_estimator import DirectLinearEstimator\n",
    "from rolldecayestimators.norwegian_estimator import NorwegianEstimator\n",
    "from rolldecayestimators.transformers import CutTransformer, LowpassFilterDerivatorTransformer, ScaleFactorTransformer, OffsetTransformer\n",
    "#from rolldecay.equations_lambdify import calculate_acceleration, calculate_velocity\n",
    "from sklearn.pipeline import Pipeline\n",
    "\n",
    "import signal_lab\n",
    "from sqlalchemy.inspection import inspect\n",
    "import seaborn as sns\n",
    "import docs"
   ]
  },
  {
   "cell_type": "code",
   "execution_count": null,
   "metadata": {
    "pycharm": {
     "is_executing": false
    }
   },
   "outputs": [],
   "source": [
    "from sqlalchemy import create_engine\n",
    "engine = create_engine('sqlite:///' + data.mdl_db_path)\n",
    "db = MDLDataBase(engine=engine)"
   ]
  },
  {
   "cell_type": "code",
   "execution_count": null,
   "metadata": {},
   "outputs": [],
   "source": [
    "roll_decay_tests = db.session.query(Run).filter((Run.id==Min.run_id) & \n",
    "                                                (Run.test_type=='roll decay'))"
   ]
  },
  {
   "cell_type": "code",
   "execution_count": null,
   "metadata": {},
   "outputs": [],
   "source": [
    "len(roll_decay_tests.all())"
   ]
  },
  {
   "cell_type": "code",
   "execution_count": null,
   "metadata": {},
   "outputs": [],
   "source": [
    "ships = db.session.query(Ship).filter((Run.id==Min.run_id) & \n",
    "                                                (Run.test_type=='roll decay'))"
   ]
  },
  {
   "cell_type": "code",
   "execution_count": null,
   "metadata": {},
   "outputs": [],
   "source": [
    "df_ships = pd.DataFrame()\n",
    "\n",
    "for ship in ships:\n",
    "    instance = inspect(ship)\n",
    "    \n",
    "    s = pd.Series()\n",
    "                \n",
    "    for key,item in instance.attrs.items():\n",
    "        if not isinstance(item.value, list):\n",
    "            if pd.notnull(item.value):\n",
    "                s[key]=item.value\n",
    "    \n",
    "    df_ships = df_ships.append(s, ignore_index=True)"
   ]
  },
  {
   "cell_type": "code",
   "execution_count": null,
   "metadata": {},
   "outputs": [],
   "source": [
    "mask = df_ships[['lpp','beam','BKL','BKB']].notnull().all(axis=1)\n",
    "df_ships = df_ships.loc[mask].copy()"
   ]
  },
  {
   "cell_type": "code",
   "execution_count": null,
   "metadata": {},
   "outputs": [],
   "source": [
    "df_ships.hist(column = ['lpp','beam','BKL','BKB'],bins=20)"
   ]
  },
  {
   "cell_type": "code",
   "execution_count": null,
   "metadata": {},
   "outputs": [],
   "source": [
    "roll_decay_test = roll_decay_tests[0]"
   ]
  },
  {
   "cell_type": "code",
   "execution_count": null,
   "metadata": {},
   "outputs": [],
   "source": [
    "tables = ['min','mean','max','std']\n",
    "statistics = {}\n",
    "for table in tables:\n",
    "    statistics[table] = pd.read_sql_table(table_name=table, con=engine)"
   ]
  },
  {
   "cell_type": "code",
   "execution_count": null,
   "metadata": {},
   "outputs": [],
   "source": [
    "plots = [['x0','y0','z0'],\n",
    "         ['u','v','delta'],\n",
    "         ['roll','pitch','psi'],\n",
    "         ['p','q','r']]\n",
    "nrows = len(plots)\n",
    "ncols = 0\n",
    "for subplots in plots:\n",
    "    if len(subplots) > ncols:\n",
    "        ncols = len(subplots)\n",
    "\n",
    "fig,axes = plt.subplots(nrows=nrows, ncols=ncols)\n",
    "fig.set_size_inches(15,15)\n",
    "\n",
    "for row, subplots in enumerate(plots):\n",
    "    for col, plot in enumerate(subplots):\n",
    "        \n",
    "        ax = axes[row,col]\n",
    "        min = statistics['min']\n",
    "        max = statistics['max']\n",
    "        std = statistics['std']\n",
    "        \n",
    "        bins = 30\n",
    "        min[plot].hist(label='min', bins=bins, ax=ax)\n",
    "        max[plot].hist(label='max', bins=bins, ax=ax, alpha=0.5)\n",
    "        std[plot].hist(label='std', bins=bins, ax=ax, alpha=0.25)\n",
    "        \n",
    "        \n",
    "        ax.set_title(plot)\n",
    "\n",
    "    ax.legend()\n",
    "plt.tight_layout()"
   ]
  },
  {
   "cell_type": "markdown",
   "metadata": {},
   "source": [
    "### Comments\n",
    "* All values above are in model scale. \n",
    "* Speed up to 2 m/s in model scale\n",
    "* Rudder angle ($\\delta$) is not used during test, but can have fixed initial angle to keep the model on a straight course.\n",
    "* Max roll can be up to 25 degrees!\n",
    "* The pitch is static (no standard deviation) so it is basically trim due to speed\n",
    "* p, q and r are rotational velocities for roll, pitch and yaw.\n"
   ]
  },
  {
   "cell_type": "code",
   "execution_count": null,
   "metadata": {},
   "outputs": [],
   "source": [
    "cols = ['roll','psi','u','r']\n",
    "min[cols].describe()"
   ]
  },
  {
   "cell_type": "code",
   "execution_count": null,
   "metadata": {},
   "outputs": [],
   "source": [
    "max[cols].describe()"
   ]
  },
  {
   "cell_type": "code",
   "execution_count": null,
   "metadata": {},
   "outputs": [],
   "source": [
    "std[cols].describe()"
   ]
  },
  {
   "cell_type": "code",
   "execution_count": null,
   "metadata": {},
   "outputs": [],
   "source": [
    "rolldecay_linear = pd.read_sql_table(table_name='rolldecay_linear', con=engine, index_col='run_id')\n",
    "rolldecay_direct = pd.read_sql_table(table_name='rolldecay_direct', con=engine, index_col='run_id')\n",
    "rolldecay_norwegian = pd.read_sql_table(table_name='rolldecay_norwegian', con=engine, index_col='run_id')\n",
    "rolldecay_direct_improved = pd.read_sql_table(table_name='rolldecay_direct_improved', con=engine, index_col='run_id')\n",
    "\n",
    "\n",
    "def remove_outliers(df, abs_percentile=0.01, min_score=0.97):\n",
    "    mask1 = ((df.quantile(abs_percentile) < df) &\n",
    "            (df < df.quantile(1-abs_percentile)) \n",
    "           )\n",
    "    \n",
    "    mask2 = df['score'] >= min_score\n",
    "    return df[mask1].loc[mask2].copy()\n",
    "\n",
    "rolldecay_linear = remove_outliers(rolldecay_linear)\n",
    "rolldecay_direct = remove_outliers(rolldecay_direct)\n",
    "rolldecay_norwegian = remove_outliers(rolldecay_norwegian)\n",
    "rolldecay_direct_improved = remove_outliers(rolldecay_direct_improved)\n"
   ]
  },
  {
   "cell_type": "code",
   "execution_count": null,
   "metadata": {},
   "outputs": [],
   "source": [
    "plots = [['zeta','d'],\n",
    "         ['mean_damping','omega0'],\n",
    "         ['score'],\n",
    "        ]\n",
    "nrows = len(plots)\n",
    "ncols = 0\n",
    "for subplots in plots:\n",
    "    if len(subplots) > ncols:\n",
    "        ncols = len(subplots)\n",
    "\n",
    "fig,axes = plt.subplots(nrows=nrows, ncols=ncols)\n",
    "fig.set_size_inches(15,15)\n",
    "\n",
    "for row, subplots in enumerate(plots):\n",
    "    for col, plot in enumerate(subplots):\n",
    "        \n",
    "        ax = axes[row,col]\n",
    "        \n",
    "        bins = 30\n",
    "        rolldecay_linear[plot].hist(label='linear', bins=bins, ax=ax)\n",
    "        rolldecay_direct[plot].hist(label='direct', bins=bins, ax=ax, alpha=0.25)\n",
    "        rolldecay_norwegian[plot].hist(label='norwegian', bins=bins, ax=ax, alpha=0.25)\n",
    "        rolldecay_direct_improved[plot].hist(label='dircet improved', bins=bins, ax=ax, alpha=0.25)\n",
    "        \n",
    "        \n",
    "        ax.set_title(plot)\n",
    "\n",
    "    ax.legend()\n",
    "plt.tight_layout()"
   ]
  },
  {
   "cell_type": "code",
   "execution_count": null,
   "metadata": {},
   "outputs": [],
   "source": [
    "plots= ['zeta','d','mean_damping','omega0','score']\n",
    "\n",
    "labels = {\n",
    "    'zeta':'$\\zeta$',\n",
    "    'd':'$d$',\n",
    "    'omega0':'$\\omega_0$',\n",
    "}\n",
    "\n",
    "plt.tight_layout()\n",
    "\n",
    "for plot in plots:\n",
    "    \n",
    "    fig,ax = plt.subplots()\n",
    "    fig.set_size_inches(1.6*np.array([5.7, 4.0]))\n",
    "       \n",
    "    bins = 50\n",
    "    rolldecay_linear[plot].hist(label='linear', bins=bins, ax=ax)\n",
    "    rolldecay_direct_improved[plot].hist(label='direct improved', bins=bins, ax=ax, alpha=0.5)    \n",
    "    label = labels.get(plot,plot)\n",
    "    ax.set_title('Histogram %s' % label)\n",
    "    ax.set_xlabel(label)\n",
    "    ax.set_ylabel('Number of tests')\n",
    "    ax.legend();\n",
    "    \n",
    "    file_name = 'histogram_%s.png' % plot\n",
    "    save_path = os.path.join(docs.path_presentation1,file_name)\n",
    "    fig.savefig(save_path,transparent=True, dpi=100, bbox_inches='tight')\n"
   ]
  },
  {
   "cell_type": "markdown",
   "metadata": {},
   "source": [
    "### Comments\n",
    "\n",
    "So we now know that mean_damping is in the range 0-0.15..."
   ]
  },
  {
   "cell_type": "code",
   "execution_count": null,
   "metadata": {},
   "outputs": [],
   "source": [
    "rolldecay_linear.describe()"
   ]
  },
  {
   "cell_type": "code",
   "execution_count": null,
   "metadata": {},
   "outputs": [],
   "source": [
    "rolldecay_direct.describe()"
   ]
  },
  {
   "cell_type": "code",
   "execution_count": null,
   "metadata": {},
   "outputs": [],
   "source": [
    "rolldecay_norwegian.describe()"
   ]
  },
  {
   "cell_type": "code",
   "execution_count": null,
   "metadata": {},
   "outputs": [],
   "source": [
    "rolldecay_direct_improved.describe()"
   ]
  },
  {
   "cell_type": "code",
   "execution_count": null,
   "metadata": {},
   "outputs": [],
   "source": [
    "for key in ['mean_damping','zeta','d']:\n",
    "    \n",
    "    fig,ax = plt.subplots()\n",
    "    x = rolldecay_norwegian[key]\n",
    "    y = rolldecay_direct.loc[rolldecay_norwegian.index][key]\n",
    "    y2 = rolldecay_linear.loc[rolldecay_norwegian.index][key]    \n",
    "    y3 = rolldecay_direct_improved.loc[rolldecay_norwegian.index][key]\n",
    "    \n",
    "    ax.plot(x,y,'.', label='direct')\n",
    "    ax.plot(x,y2,'o', label='linear', alpha=0.5)\n",
    "    ax.plot(x,y3,'o', label='direct improved', alpha=0.5)\n",
    "    \n",
    "    ax.set_xlabel('Norwegian: %s' % key)\n",
    "    ax.legend();\n",
    "    ax.plot(x,x,'r-')\n",
    "    \n"
   ]
  },
  {
   "cell_type": "markdown",
   "metadata": {},
   "source": [
    "### Comments\n",
    "* Norwegian method and direct method give differnet results which is not very satisfying.\n",
    "* Linear method gives higher mean damping, which is a bit strange."
   ]
  },
  {
   "cell_type": "code",
   "execution_count": null,
   "metadata": {},
   "outputs": [],
   "source": [
    "sql=\"\"\"\n",
    "SELECT * from\n",
    "rolldecay_norwegian\n",
    "INNER JOIN run\n",
    "ON rolldecay_norwegian.run_id == run.id\n",
    "    INNER JOIN loading_conditions\n",
    "    ON (run.loading_condition_id == loading_conditions.id)\n",
    "        INNER JOIN models\n",
    "        ON run.model_number == models.model_number\n",
    "            INNER JOIN ships\n",
    "            ON models.ship_name == ships.name\n",
    "\n",
    "\"\"\"\n",
    "df_rolldecay = pd.read_sql(sql, con=engine, index_col='run_id',)\n",
    "df_rolldecay = df_rolldecay.loc[:,~df_rolldecay.columns.duplicated()]\n",
    "df_rolldecay = remove_outliers(df_rolldecay)\n",
    "df_rolldecay.describe()"
   ]
  },
  {
   "cell_type": "code",
   "execution_count": null,
   "metadata": {},
   "outputs": [],
   "source": [
    "df_rolldecay.columns"
   ]
  },
  {
   "cell_type": "code",
   "execution_count": null,
   "metadata": {},
   "outputs": [],
   "source": [
    "df_rolldecay.describe()"
   ]
  },
  {
   "cell_type": "code",
   "execution_count": null,
   "metadata": {},
   "outputs": [],
   "source": [
    "x_vars = ['lpp','beam','omega0','ship_speed','kg','gm']\n",
    "sns.pairplot(df_rolldecay, x_vars=x_vars, y_vars=['mean_damping','omega0'],\n",
    "             height=5, aspect=.8, kind=\"reg\");"
   ]
  },
  {
   "cell_type": "code",
   "execution_count": null,
   "metadata": {},
   "outputs": [],
   "source": [
    "df_rolldecay.columns"
   ]
  },
  {
   "cell_type": "code",
   "execution_count": null,
   "metadata": {},
   "outputs": [],
   "source": [
    "df_rolldecay.isnull().sum().sort_values(ascending=False)"
   ]
  },
  {
   "cell_type": "code",
   "execution_count": null,
   "metadata": {},
   "outputs": [],
   "source": [
    "important = ['KXX',                        \n",
    "'BKL',                        \n",
    "'BKX',                        \n",
    "'RH',                         \n",
    "'CW',                         \n",
    "'CP',                         \n",
    "'A0',                         \n",
    "'LOA',                        \n",
    "'AR',                         \n",
    "'D',                          \n",
    "'lpp',                        \n",
    "'ship_speed',                 \n",
    "'Volume',                     \n",
    "'gm',                         \n",
    "'TA',                         \n",
    "'TF',                         \n",
    "'beam',                       \n",
    "'kg',                         \n",
    "'lcg']                        \n",
    "mask = df_rolldecay[important].notnull().all(axis=1)\n",
    "df = df_rolldecay.loc[mask].copy()"
   ]
  },
  {
   "cell_type": "code",
   "execution_count": null,
   "metadata": {},
   "outputs": [],
   "source": [
    "data = df[important].copy()"
   ]
  },
  {
   "cell_type": "code",
   "execution_count": null,
   "metadata": {},
   "outputs": [],
   "source": [
    "df = df.dropna(subset=['omega0'])"
   ]
  },
  {
   "cell_type": "code",
   "execution_count": null,
   "metadata": {},
   "outputs": [],
   "source": [
    "from sklearn.linear_model import LinearRegression\n",
    "from sklearn.model_selection import cross_validate\n",
    "from sklearn.preprocessing import PolynomialFeatures\n",
    "from sklearn.pipeline import Pipeline\n",
    "from sklearn.pipeline import make_pipeline\n",
    "\n",
    "polynomial_features = PolynomialFeatures(degree=3)\n",
    "linear_regression = LinearRegression()\n",
    "model = make_pipeline(polynomial_features, linear_regression)\n",
    "\n",
    "X=data\n",
    "y=df['omega0']\n",
    "\n",
    "model.fit(X=X, y=y)\n",
    "model.score(X=X, y=y)"
   ]
  },
  {
   "cell_type": "code",
   "execution_count": null,
   "metadata": {},
   "outputs": [],
   "source": [
    "fig,ax = plt.subplots()\n",
    "ax.plot(y,model.predict(X),'.', alpha=0.5)"
   ]
  },
  {
   "cell_type": "code",
   "execution_count": null,
   "metadata": {},
   "outputs": [],
   "source": [
    "fig,ax=plt.subplots()\n",
    "(data['KXX']/data['beam']).hist(bins=50, ax=ax)\n",
    "ax.set_title('Histogram of $K_{xx}$')\n",
    "ax.set_xlabel('$K_{xx}$ [-]');\n",
    "ax.set_ylabel('Occurences [1]')"
   ]
  },
  {
   "cell_type": "code",
   "execution_count": null,
   "metadata": {},
   "outputs": [],
   "source": [
    "GM = df['gm']\n",
    "beam = df['beam']\n",
    "rxx = df['KXX']\n",
    "kxx = rxx/beam\n",
    "rho = 1000\n",
    "m = rho*df['Volume']\n",
    "Ixx = m*rxx**2\n",
    "g = 9.81\n",
    "omega0 = df['omega0']\n",
    "Ixx_tot = GM*g*m/(omega0**2)\n",
    "r_xx_tot = np.sqrt(Ixx_tot/m)\n",
    "kxx_tot = r_xx_tot/beam\n",
    "\n",
    "Ixx_added = Ixx_tot - Ixx\n",
    "Ixx_added_ratio = Ixx_added/Ixx\n",
    "\n",
    "rxx_added = r_xx_tot - rxx\n",
    "rxx_added_ratio = rxx_added/rxx\n",
    "\n",
    "fig,ax = plt.subplots()\n",
    "Ixx_tot.hist(ax=ax, bins=50, label='$I_{xxtot}$')\n",
    "Ixx.hist(ax=ax, bins=50, label='$I_{xx}$')\n",
    "ax.legend()\n",
    "\n",
    "fig,ax = plt.subplots()\n",
    "kxx_tot.hist(ax=ax, bins=50, label='$k_{xxtot}$')\n",
    "kxx.hist(ax=ax, bins=50, label='$k_{xx}$')\n",
    "ax.legend()\n",
    "\n",
    "fig,ax = plt.subplots()\n",
    "Ixx_added_ratio.hist(ax=ax, bins=50)\n",
    "ax.set_title('Added roll inertia ratio')\n",
    "\n",
    "fig,ax = plt.subplots()\n",
    "rxx_added_ratio.hist(ax=ax, bins=50)\n",
    "ax.set_title('Added $r_{xx}$ ratio')\n"
   ]
  },
  {
   "cell_type": "code",
   "execution_count": null,
   "metadata": {},
   "outputs": [],
   "source": [
    "data.head()"
   ]
  },
  {
   "cell_type": "code",
   "execution_count": null,
   "metadata": {},
   "outputs": [],
   "source": [
    "from sklearn.linear_model import LinearRegression\n",
    "from sklearn.model_selection import cross_validate\n",
    "from sklearn.preprocessing import PolynomialFeatures\n",
    "from sklearn.pipeline import Pipeline\n",
    "from sklearn.pipeline import make_pipeline\n",
    "\n",
    "polynomial_features = PolynomialFeatures(degree=3)\n",
    "linear_regression = LinearRegression()\n",
    "model = make_pipeline(polynomial_features, linear_regression)\n",
    "\n",
    "X=data\n",
    "y=df['mean_damping']\n",
    "\n",
    "model.fit(X=X, y=y)\n",
    "model.score(X=X, y=y)"
   ]
  },
  {
   "cell_type": "code",
   "execution_count": null,
   "metadata": {},
   "outputs": [],
   "source": [
    "data.columns"
   ]
  },
  {
   "cell_type": "code",
   "execution_count": null,
   "metadata": {},
   "outputs": [],
   "source": []
  }
 ],
 "metadata": {
  "kernelspec": {
   "display_name": "Python 3",
   "language": "python",
   "name": "python3"
  },
  "language_info": {
   "codemirror_mode": {
    "name": "ipython",
    "version": 3
   },
   "file_extension": ".py",
   "mimetype": "text/x-python",
   "name": "python",
   "nbconvert_exporter": "python",
   "pygments_lexer": "ipython3",
   "version": "3.5.4"
  },
  "pycharm": {
   "stem_cell": {
    "cell_type": "raw",
    "metadata": {
     "collapsed": false
    },
    "source": []
   }
  }
 },
 "nbformat": 4,
 "nbformat_minor": 4
}
