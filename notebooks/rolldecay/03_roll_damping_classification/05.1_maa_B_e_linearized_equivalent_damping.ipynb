{
 "cells": [
  {
   "cell_type": "markdown",
   "metadata": {},
   "source": [
    "# $B_e$ equivalent linearized damping"
   ]
  },
  {
   "cell_type": "code",
   "execution_count": null,
   "metadata": {},
   "outputs": [],
   "source": [
    "%matplotlib notebook\n",
    "%load_ext autoreload\n",
    "%autoreload 2"
   ]
  },
  {
   "cell_type": "code",
   "execution_count": null,
   "metadata": {},
   "outputs": [],
   "source": [
    "import numpy as np\n",
    "import pandas as pd\n",
    "import os\n",
    "import matplotlib.pyplot as plt\n",
    "#plt.style.use('paper')\n",
    "\n",
    "from sklearn.metrics import r2_score\n",
    "\n",
    "import copy\n",
    "from rolldecay import database\n",
    "\n",
    "from rolldecay.paper_writing import save_fig\n",
    "from rolldecay.froude_scaling import froude_scale\n",
    "\n",
    "import rolldecayestimators.lambdas as lambdas\n",
    "from rolldecayestimators.substitute_dynamic_symbols import run, lambdify, significant_numbers"
   ]
  },
  {
   "cell_type": "code",
   "execution_count": null,
   "metadata": {},
   "outputs": [],
   "source": [
    "db = database.get_db()"
   ]
  },
  {
   "cell_type": "code",
   "execution_count": null,
   "metadata": {},
   "outputs": [],
   "source": [
    "limit_score = 0.99\n",
    "\n",
    "df_linear = database.load(rolldecay_table_name='rolldecay_linear_b', limit_score=limit_score, \n",
    "                             exclude_table_name='rolldecay_exclude')\n",
    "df_linear['B_2']=0\n",
    "\n",
    "df_quadratic = database.load(rolldecay_table_name='rolldecay_quadratic_b', limit_score=limit_score, \n",
    "                             exclude_table_name='rolldecay_exclude')\n",
    "\n",
    "df_cubic = database.load(rolldecay_table_name='rolldecay_cubic_b', limit_score=limit_score, \n",
    "                             exclude_table_name='rolldecay_exclude')\n",
    "\n",
    "df_linear['ship_speed']*=1.852/3.6\n",
    "df_quadratic['ship_speed']*=1.852/3.6\n",
    "\n",
    "description = pd.read_sql_table('description', con=db.engine, index_col='id')\n",
    "description.loc['ship_speed','unit']='m/s'\n",
    "description.loc['VDES','unit']='m/s'\n",
    "description.loc['Disp'] = {'description':'Ship discplacement','unit':'m3'}\n",
    "\n",
    "df_linear['Disp']=df_linear['Volume']\n",
    "df_quadratic['Disp']=df_quadratic['Volume']\n",
    "df_cubic['Disp']=df_cubic['Volume']\n",
    "\n",
    "skip=['omega0']  # This one is already model scale...\n",
    "df_linear = froude_scale(data=df_linear, description=description, skip=skip)\n",
    "df_quadratic = froude_scale(data=df_quadratic, description=description, skip=skip)\n",
    "df_cubic = froude_scale(data=df_cubic, description=description, skip=skip)\n",
    "\n",
    "g = 9.81\n",
    "rho=1000\n",
    "phi_a = df_linear['phi_start'].abs()\n",
    "df_linear['B_e'] = run(function=lambdas.B_e_lambda, inputs=df_linear, phi_a=phi_a)\n",
    "df_linear['B_e_hat'] = run(function=lambdas.B_e_hat_lambda, inputs=df_linear, g=g, rho=rho)\n",
    "df_linear['B_1_hat'] = run(function=lambdas.B_1_hat_lambda, inputs=df_linear, g=g, rho=rho)\n",
    "df_linear['B_2_hat'] = run(function=lambdas.B_2_hat_lambda, inputs=df_linear, g=g, rho=rho)\n",
    "\n",
    "phi_a = df_quadratic['phi_start'].abs()\n",
    "df_quadratic['B_e'] = run(function=lambdas.B_e_lambda, inputs=df_quadratic, phi_a=phi_a)\n",
    "df_quadratic['B_e_hat'] = run(function=lambdas.B_e_hat_lambda, inputs=df_quadratic, g=g, rho=rho)\n",
    "df_quadratic['B_1_hat'] = run(function=lambdas.B_1_hat_lambda, inputs=df_quadratic, g=g, rho=rho)\n",
    "df_quadratic['B_2_hat'] = run(function=lambdas.B_2_hat_lambda, inputs=df_quadratic, g=g, rho=rho)"
   ]
  },
  {
   "cell_type": "code",
   "execution_count": null,
   "metadata": {},
   "outputs": [],
   "source": [
    "df_compare = pd.merge(left=df_linear, right=df_quadratic, how='inner', \n",
    "                      left_index=True, right_index=True, suffixes=('','_quadratic'))\n",
    "\n",
    "df_compare = pd.merge(left=df_compare, right=df_cubic, how='inner', \n",
    "                      left_index=True, right_index=True, suffixes=('','_cubic'))\n"
   ]
  },
  {
   "cell_type": "code",
   "execution_count": null,
   "metadata": {},
   "outputs": [],
   "source": [
    "fig,ax = plt.subplots()\n",
    "df_compare.plot(x='B_1', y='B_1_quadratic', style='.', ax=ax)\n",
    "\n",
    "xlim = ax.get_xlim()\n",
    "ylim = ax.get_ylim()\n",
    "lim = np.max([xlim[1],ylim[1]])\n",
    "ax.set_xlim(0,lim)\n",
    "ax.set_ylim(0,lim)\n",
    "ax.plot([0,lim],[0,lim],'r-')\n",
    "ax.set_aspect('equal', 'box')\n",
    "ax.grid(True)\n",
    "ax.set_xlabel('$B_1$ (linear)')\n",
    "ax.set_ylabel('$B_1$ (quadratic)')"
   ]
  },
  {
   "cell_type": "code",
   "execution_count": null,
   "metadata": {},
   "outputs": [],
   "source": [
    "fig,ax = plt.subplots()\n",
    "df_compare.plot(x='B_1_quadratic', y='B_2_quadratic', style='.', ax=ax)\n",
    "\n",
    "ax.grid(True)\n",
    "ax.set_xlabel('$B_1$ (quadratic)')\n",
    "ax.set_ylabel('$B_2$ (quadratic)')"
   ]
  },
  {
   "cell_type": "code",
   "execution_count": null,
   "metadata": {},
   "outputs": [],
   "source": [
    "fig,ax = plt.subplots()\n",
    "df_compare.plot(x='B_e', y='B_e_quadratic', style='.', ax=ax)\n",
    "\n",
    "xlim = ax.get_xlim()\n",
    "ylim = ax.get_ylim()\n",
    "lim = np.max([xlim[1],ylim[1]])\n",
    "ax.set_xlim(0,lim)\n",
    "ax.set_ylim(0,lim)\n",
    "ax.plot([0,lim],[0,lim],'r-')\n",
    "ax.set_aspect('equal', 'box')\n",
    "ax.grid(True)\n",
    "ax.set_xlabel('$B_e$ (linear)')\n",
    "ax.set_ylabel('$B_e$ (quadratic)')"
   ]
  },
  {
   "cell_type": "code",
   "execution_count": null,
   "metadata": {},
   "outputs": [],
   "source": [
    "lambdas.B_e_lambda_cubic"
   ]
  },
  {
   "cell_type": "code",
   "execution_count": null,
   "metadata": {},
   "outputs": [],
   "source": [
    "def linearize(phi_a, df_linear, df_quadratic, df_cubic):\n",
    "    df_linear=df_linear.copy()\n",
    "    df_quadratic=df_quadratic.copy()\n",
    "    df_cubic=df_cubic.copy()\n",
    "    \n",
    "    df_linear['B_e'] = run(function=lambdas.B_e_lambda, inputs=df_linear, phi_a=phi_a)\n",
    "    df_quadratic['B_e'] = run(function=lambdas.B_e_lambda, inputs=df_quadratic, phi_a=phi_a)\n",
    "    df_cubic['B_e'] = run(function=lambdas.B_e_lambda_cubic, inputs=df_cubic, phi_a=phi_a)\n",
    "    \n",
    "    df_linear['B_e_hat'] = run(function=lambdas.B_e_hat_lambda, inputs=df_linear, g=g, rho=rho)\n",
    "    df_quadratic['B_e_hat'] = run(function=lambdas.B_e_hat_lambda, inputs=df_quadratic, g=g, rho=rho)\n",
    "    df_cubic['B_e_hat'] = run(function=lambdas.B_e_hat_lambda, inputs=df_cubic, g=g, rho=rho)\n",
    "    \n",
    "    df3 = df_compare = pd.merge(left=df_linear, right=df_quadratic, how='inner', \n",
    "                      left_index=True, right_index=True, suffixes=('','_quadratic'))\n",
    "    \n",
    "    df3 = pd.merge(left=df3, right=df_cubic, how='inner', \n",
    "                      left_index=True, right_index=True, suffixes=('','_cubic'))\n",
    "    \n",
    "    return df3\n",
    "    "
   ]
  },
  {
   "cell_type": "code",
   "execution_count": null,
   "metadata": {},
   "outputs": [],
   "source": [
    "g = 9.81\n",
    "rho=1000\n",
    "phi_as = np.deg2rad(np.linspace(0,6,30))\n",
    "\n",
    "df1=df_linear.copy()\n",
    "df2=df_quadratic.copy()\n",
    "\n",
    "rms=[]\n",
    "rms_cubic=[]\n",
    "for phi_a in phi_as:\n",
    "\n",
    "    df3 = linearize(phi_a=phi_a, df_linear=df_linear, df_quadratic=df_quadratic, df_cubic=df_cubic)\n",
    "    \n",
    "    df3['error']=df3['B_e_hat']-df3['B_e_hat_quadratic']\n",
    "    df3['error_cubic']=df3['B_e_hat']-df3['B_e_hat_cubic']\n",
    "    \n",
    "    rms.append(np.sqrt(np.mean(df3['error']**2)))\n",
    "    rms_cubic.append(np.sqrt(np.mean(df3['error_cubic']**2)))\n"
   ]
  },
  {
   "cell_type": "code",
   "execution_count": null,
   "metadata": {},
   "outputs": [],
   "source": [
    "fig,ax=plt.subplots()\n",
    "ax.plot(np.rad2deg(phi_as), rms, label='quadratic')\n",
    "ax.plot(np.rad2deg(phi_as), rms_cubic, label='cubic')\n",
    "ax.grid()\n",
    "ax.legend()\n",
    "ax.set_xlabel('$\\phi_a$ [deg]')\n",
    "ax.set_ylabel(r'$RMS\\left(B_e(linear)-B_e(quadratic)\\right)$');\n"
   ]
  },
  {
   "cell_type": "code",
   "execution_count": null,
   "metadata": {},
   "outputs": [],
   "source": [
    "df_compare = linearize(phi_a=np.deg2rad(4.30), df_linear=df_linear, df_quadratic=df_quadratic,\n",
    "                      df_cubic=df_cubic)"
   ]
  },
  {
   "cell_type": "code",
   "execution_count": null,
   "metadata": {},
   "outputs": [],
   "source": [
    "fig,ax = plt.subplots()\n",
    "x=df_compare['B_1_hat']\n",
    "y=df_compare['B_e_hat_quadratic']\n",
    "ax.plot(x, y,'.',label='quadratic')\n",
    "\n",
    "x=df_compare['B_1_hat']\n",
    "y=df_compare['B_e_hat_cubic']\n",
    "ax.plot(x, y,'.',label='cubic')\n",
    "\n",
    "xlim = ax.get_xlim()\n",
    "ylim = ax.get_ylim()\n",
    "lim = np.max([xlim[1],ylim[1]])\n",
    "ax.set_xlim(0,lim)\n",
    "ax.set_ylim(0,lim)\n",
    "ax.plot([0,lim],[0,lim],'r-')\n",
    "ax.set_aspect('equal', 'box')\n",
    "ax.grid(True)\n",
    "ax.set_xlabel('$\\hat{B_1}$ (linear)')\n",
    "ax.set_ylabel('$\\hat{B_e}$')\n",
    "ax.legend()"
   ]
  },
  {
   "cell_type": "code",
   "execution_count": null,
   "metadata": {},
   "outputs": [],
   "source": [
    "r2_score(y_true=df_compare['B_e'], y_pred=df_compare['B_e_quadratic'])"
   ]
  },
  {
   "cell_type": "code",
   "execution_count": null,
   "metadata": {},
   "outputs": [],
   "source": [
    "r2_score(y_true=df_compare['B_e'], y_pred=df_compare['B_e_cubic'])"
   ]
  },
  {
   "cell_type": "code",
   "execution_count": null,
   "metadata": {},
   "outputs": [],
   "source": [
    "fig,ax=plt.subplots()\n",
    "np.rad2deg(df_compare['phi_start_quadratic']).abs().hist(bins=30,ax=ax)"
   ]
  },
  {
   "cell_type": "code",
   "execution_count": null,
   "metadata": {},
   "outputs": [],
   "source": [
    "fig,ax=plt.subplots()\n",
    "np.rad2deg(df_compare['phi_stop_quadratic']).abs().hist(bins=30,ax=ax)"
   ]
  },
  {
   "cell_type": "code",
   "execution_count": null,
   "metadata": {},
   "outputs": [],
   "source": [
    "np.rad2deg(df_compare['phi_start_quadratic'].abs() - df_compare['phi_stop_quadratic'].abs()).mean()"
   ]
  },
  {
   "cell_type": "code",
   "execution_count": null,
   "metadata": {},
   "outputs": [],
   "source": [
    "df_linear['B_1'].isnull().any()"
   ]
  },
  {
   "cell_type": "code",
   "execution_count": null,
   "metadata": {},
   "outputs": [],
   "source": [
    "df_cubic['B_1'].isnull().any()"
   ]
  },
  {
   "cell_type": "code",
   "execution_count": null,
   "metadata": {},
   "outputs": [],
   "source": [
    "df_cubic['B_1'].isnull().sum()"
   ]
  },
  {
   "cell_type": "code",
   "execution_count": null,
   "metadata": {},
   "outputs": [],
   "source": [
    "len(df_cubic)"
   ]
  },
  {
   "cell_type": "code",
   "execution_count": null,
   "metadata": {},
   "outputs": [],
   "source": [
    "len(df_quadratic)"
   ]
  },
  {
   "cell_type": "code",
   "execution_count": null,
   "metadata": {},
   "outputs": [],
   "source": [
    "len(df_linear)"
   ]
  },
  {
   "cell_type": "code",
   "execution_count": null,
   "metadata": {},
   "outputs": [],
   "source": [
    "len(df_compare)"
   ]
  },
  {
   "cell_type": "code",
   "execution_count": null,
   "metadata": {},
   "outputs": [],
   "source": []
  }
 ],
 "metadata": {
  "kernelspec": {
   "display_name": "Python 3",
   "language": "python",
   "name": "python3"
  },
  "language_info": {
   "codemirror_mode": {
    "name": "ipython",
    "version": 3
   },
   "file_extension": ".py",
   "mimetype": "text/x-python",
   "name": "python",
   "nbconvert_exporter": "python",
   "pygments_lexer": "ipython3",
   "version": "3.5.4"
  }
 },
 "nbformat": 4,
 "nbformat_minor": 4
}
