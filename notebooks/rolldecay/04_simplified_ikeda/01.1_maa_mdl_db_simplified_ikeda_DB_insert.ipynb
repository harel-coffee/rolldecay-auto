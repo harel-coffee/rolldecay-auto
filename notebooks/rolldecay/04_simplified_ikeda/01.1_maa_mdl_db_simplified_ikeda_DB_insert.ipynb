{
 "cells": [
  {
   "cell_type": "markdown",
   "metadata": {
    "pycharm": {
     "name": "#%% md\n"
    }
   },
   "source": [
    "# Calculate Simplified Ikeda and insert into DB"
   ]
  },
  {
   "cell_type": "code",
   "execution_count": null,
   "metadata": {
    "pycharm": {
     "is_executing": false,
     "name": "#%%\n"
    }
   },
   "outputs": [],
   "source": [
    "import pandas as pd\n",
    "pd.options.display.max_rows = 999\n",
    "pd.options.display.max_columns = 999\n",
    "import numpy as np\n",
    "import matplotlib.pyplot as plt\n",
    "from pylab import rcParams\n",
    "rcParams['figure.figsize'] = 15, 5\n",
    "\n",
    "from rolldecay.simplified_ikeda import calculate_roll_damping\n",
    "from rolldecay import equations\n",
    "import sympy as sp\n",
    "from rolldecay import symbols\n",
    "from rolldecayestimators.substitute_dynamic_symbols import lambdify\n",
    "\n",
    "import data\n",
    "import copy\n",
    "from rolldecay import database\n",
    "from mdldb.tables import RolldecaySimplifiedIkeda"
   ]
  },
  {
   "cell_type": "code",
   "execution_count": null,
   "metadata": {},
   "outputs": [],
   "source": [
    "df_rolldecay = database.load(rolldecay_table_name='rolldecay_linear')"
   ]
  },
  {
   "cell_type": "code",
   "execution_count": null,
   "metadata": {
    "pycharm": {
     "name": "#%%\n"
    }
   },
   "outputs": [],
   "source": [
    "def calculate(row):\n",
    "    \n",
    "    LPP = row.lpp\n",
    "    Beam = row.beam\n",
    "    DRAFT = (row.TA + row.TF)/2\n",
    "    \n",
    "    PHI = row.phi_max\n",
    "    lBK = row.BKL\n",
    "    bBK = row.BKB\n",
    "    OMEGA = row.omega0\n",
    "    OG = (-row.kg+DRAFT)\n",
    "    CB = row.Volume/(row.lpp*row.beam*DRAFT)\n",
    "    CMID = row.A0\n",
    "    \n",
    "    B44HAT, BFHAT, BWHAT, BEHAT, BBKHAT = calculate_roll_damping(LPP,Beam,CB,CMID,OG,PHI,lBK,bBK,OMEGA,DRAFT)\n",
    "    s = pd.Series()\n",
    "    s['B44HAT'] = B44HAT\n",
    "    s['BFHAT'] = BFHAT\n",
    "    s['BWHAT'] = BWHAT\n",
    "    s['BEHAT'] = BEHAT\n",
    "    s['BBKHAT'] = BBKHAT\n",
    "    s['DRAFT'] = DRAFT\n",
    "    s['PHI'] = PHI\n",
    "    s['bBK'] = bBK\n",
    "    s['lBK'] = lBK\n",
    "    s['OMEGA'] = OMEGA\n",
    "    s['OG'] = OG\n",
    "    s['CB'] = CB\n",
    "    s['CMID'] = CMID\n",
    "    \n",
    "    return s\n",
    "    "
   ]
  },
  {
   "cell_type": "code",
   "execution_count": null,
   "metadata": {},
   "outputs": [],
   "source": [
    "required = ['lpp','beam','TA','TF','BKL','BKB','omega0','kg','Volume','A0']"
   ]
  },
  {
   "cell_type": "code",
   "execution_count": null,
   "metadata": {},
   "outputs": [],
   "source": [
    "df_rolldecay.dropna(subset=required, inplace=True)"
   ]
  },
  {
   "cell_type": "code",
   "execution_count": null,
   "metadata": {},
   "outputs": [],
   "source": [
    "mask = ((df_rolldecay['ship_speed']==0) &  ## Zero speed!\n",
    "        (df_rolldecay[required] > 0).all(axis=1)\n",
    "       )\n",
    "df = df_rolldecay.loc[mask].copy()\n",
    "df['phi_max'] = np.rad2deg(df['phi_start'].abs())"
   ]
  },
  {
   "cell_type": "code",
   "execution_count": null,
   "metadata": {},
   "outputs": [],
   "source": [
    "result = df.apply(func=calculate, axis=1)\n",
    "df = pd.merge(left=df,right=result,left_index=True, right_index=True)"
   ]
  },
  {
   "cell_type": "code",
   "execution_count": null,
   "metadata": {},
   "outputs": [],
   "source": [
    "result.head()"
   ]
  },
  {
   "cell_type": "code",
   "execution_count": null,
   "metadata": {},
   "outputs": [],
   "source": [
    "db = database.get_db()"
   ]
  },
  {
   "cell_type": "code",
   "execution_count": null,
   "metadata": {},
   "outputs": [],
   "source": [
    "for run_id, row in result.iterrows():\n",
    "    \n",
    "    run = RolldecaySimplifiedIkeda(run_id=run_id,**row)\n",
    "    db.session.merge(run)\n",
    "db.session.commit()"
   ]
  },
  {
   "cell_type": "code",
   "execution_count": null,
   "metadata": {},
   "outputs": [],
   "source": []
  }
 ],
 "metadata": {
  "kernelspec": {
   "display_name": "Python 3",
   "language": "python",
   "name": "python3"
  },
  "language_info": {
   "codemirror_mode": {
    "name": "ipython",
    "version": 3
   },
   "file_extension": ".py",
   "mimetype": "text/x-python",
   "name": "python",
   "nbconvert_exporter": "python",
   "pygments_lexer": "ipython3",
   "version": "3.5.4"
  },
  "pycharm": {
   "stem_cell": {
    "cell_type": "raw",
    "metadata": {
     "collapsed": false
    },
    "source": []
   }
  }
 },
 "nbformat": 4,
 "nbformat_minor": 4
}
