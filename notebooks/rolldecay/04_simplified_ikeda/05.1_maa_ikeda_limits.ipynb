{
 "cells": [
  {
   "cell_type": "markdown",
   "metadata": {},
   "source": [
    "# Limits of Simplified Ikeda vs. DB"
   ]
  },
  {
   "cell_type": "code",
   "execution_count": null,
   "metadata": {},
   "outputs": [],
   "source": [
    "%matplotlib inline\n",
    "%load_ext autoreload\n",
    "%autoreload 2"
   ]
  },
  {
   "cell_type": "code",
   "execution_count": null,
   "metadata": {},
   "outputs": [],
   "source": [
    "import warnings\n",
    "warnings.filterwarnings(\"ignore\")"
   ]
  },
  {
   "cell_type": "code",
   "execution_count": null,
   "metadata": {},
   "outputs": [],
   "source": [
    "#from jupyterthemes import jtplot\n",
    "#jtplot.style(theme='onedork', context='notebook', ticks=True, grid=False)\n",
    "\n",
    "import pandas as pd\n",
    "pd.options.display.max_rows = 999\n",
    "pd.options.display.max_columns = 999\n",
    "pd.set_option(\"display.max_columns\", None)\n",
    "import numpy as np\n",
    "import os\n",
    "import matplotlib.pyplot as plt\n",
    "#from pylab import rcParams\n",
    "#rcParams['figure.figsize'] = 15, 5\n",
    "\n",
    "from rolldecay import database\n",
    "from rolldecay.paper_writing import save_fig\n",
    "import rolldecayestimators.simplified_ikeda as si"
   ]
  },
  {
   "cell_type": "code",
   "execution_count": null,
   "metadata": {},
   "outputs": [],
   "source": [
    "df_rolldecay = database.load(rolldecay_table_name='rolldecay_quadratic_b', limit_score=0.1, \n",
    "                             exclude_table_name='rolldecay_exclude')\n",
    "db = database.get_db()"
   ]
  },
  {
   "cell_type": "code",
   "execution_count": null,
   "metadata": {},
   "outputs": [],
   "source": [
    "df_rolldecay.describe()"
   ]
  },
  {
   "cell_type": "code",
   "execution_count": null,
   "metadata": {},
   "outputs": [],
   "source": [
    "si.limits_kawahara"
   ]
  },
  {
   "cell_type": "code",
   "execution_count": null,
   "metadata": {},
   "outputs": [],
   "source": [
    "df_rolldecay.columns"
   ]
  },
  {
   "cell_type": "code",
   "execution_count": null,
   "metadata": {},
   "outputs": [],
   "source": [
    "df_limits = pd.DataFrame()\n",
    "scale_factor=df_rolldecay['scale_factor']\n",
    "d = (df_rolldecay['TF']+df_rolldecay['TA'])/2/scale_factor\n",
    "B = df_rolldecay['beam']/scale_factor\n",
    "LPP = df_rolldecay['lpp']/scale_factor\n",
    "kg = df_rolldecay['kg']/scale_factor\n",
    "OG = -kg + d\n",
    "omega0 = df_rolldecay['omega0']\n",
    "bBk=df_rolldecay['BKB']/scale_factor\n",
    "lBk=df_rolldecay['BKL']/scale_factor\n",
    "\n",
    "Volume=df_rolldecay['Volume']/(scale_factor**3)\n",
    "df_limits['CB'] = Volume/(B*d*LPP)\n",
    "df_limits['B/d'] = B/d\n",
    "df_limits['CMID'] = df_rolldecay['A0']\n",
    "df_limits['OG/d']=OG/d\n",
    "df_limits['OMEGA_hat']=omega0*np.sqrt(B/2/9.81)\n",
    "df_limits['bBk/B']=bBk/B\n",
    "df_limits['lBk/LPP']=lBk/LPP"
   ]
  },
  {
   "cell_type": "code",
   "execution_count": null,
   "metadata": {},
   "outputs": [],
   "source": [
    "row = df_limits.iloc[0]\n",
    "row.index"
   ]
  },
  {
   "cell_type": "code",
   "execution_count": null,
   "metadata": {},
   "outputs": [],
   "source": [
    "def check_limit(row):\n",
    "    \n",
    "    limits = si.limits_kawahara.copy()\n",
    "    limits_valid = pd.Series()\n",
    "    limits_valid.name = row.name\n",
    "    \n",
    "    if pd.isnull(row['lBk/LPP']):\n",
    "        # No bilge keel:\n",
    "        limits.pop('lBk/LPP')\n",
    "        limits.pop('bBk/B')\n",
    "        limits_valid['lBk/LPP']=True\n",
    "        limits_valid['bBk/B']=True\n",
    "       \n",
    "    for key,values in limits.items():\n",
    "        limits_valid[key]=(row[key]>=values[0]) and (row[key]<=values[1])\n",
    "\n",
    "    return limits_valid\n",
    "    "
   ]
  },
  {
   "cell_type": "code",
   "execution_count": null,
   "metadata": {},
   "outputs": [],
   "source": [
    "df_limits_valid=df_limits.apply(func=check_limit, axis=1)"
   ]
  },
  {
   "cell_type": "code",
   "execution_count": null,
   "metadata": {},
   "outputs": [],
   "source": [
    "def plot_limits(limits):\n",
    "\n",
    "    fig,axes=plt.subplots(nrows=len(limits))\n",
    "    \n",
    "    for (key,values),ax in zip(sorted(limits.items()),axes):\n",
    "        \n",
    "        mask = df_limits_valid[key]\n",
    "        number_of_lost = len(df_limits) - np.sum(mask)\n",
    "        df_ok = df_limits.loc[mask].copy()\n",
    "        df_not_ok = df_limits.loc[~mask].copy()\n",
    "            \n",
    "        # Plotting:\n",
    "        N= 20\n",
    "        #bins = np.linspace(df_limits[key].min(), df_limits[key].max(), N)\n",
    "        bins = np.linspace(df_limits[key].quantile(0.02), df_limits[key].quantile(0.99), N)\n",
    "        \n",
    "        \n",
    "        df_not_ok.hist(column=key, bins=bins, ax=ax, label='exceedance', color='r')\n",
    "        df_ok.hist(column=key, bins=bins, ax=ax, label='ok', alpha = 1, color='g')\n",
    "        \n",
    "        ylim= ax.get_ylim()\n",
    "        \n",
    "        ax.plot([values[0],values[0]],[np.min(ylim),np.max(ylim)],'b--', label='min')\n",
    "        ax.plot([values[1],values[1]],[np.min(ylim),np.max(ylim)],'m--', label='max')\n",
    "        \n",
    "        ax.set_title('Exceeding:%i' % (number_of_lost))\n",
    "        ax.set_xlabel(key)\n",
    "        ax.set_ylabel('Number of tests')\n",
    "    \n",
    "    axes[0].legend();\n",
    "    return fig"
   ]
  },
  {
   "cell_type": "code",
   "execution_count": null,
   "metadata": {},
   "outputs": [],
   "source": [
    "fig = plot_limits(limits=si.limits_kawahara)"
   ]
  },
  {
   "cell_type": "code",
   "execution_count": null,
   "metadata": {},
   "outputs": [],
   "source": [
    "limits_kawahara_critical = dict()\n",
    "limits_kawahara_critical['B/d'] = si.limits_kawahara['B/d']\n",
    "limits_kawahara_critical['CMID'] = si.limits_kawahara['CMID']\n",
    "\n",
    "fig = plot_limits(limits=limits_kawahara_critical)"
   ]
  },
  {
   "cell_type": "code",
   "execution_count": null,
   "metadata": {},
   "outputs": [],
   "source": [
    "save_fig(fig=fig, name='si_limits')"
   ]
  },
  {
   "cell_type": "code",
   "execution_count": null,
   "metadata": {},
   "outputs": [],
   "source": []
  }
 ],
 "metadata": {
  "kernelspec": {
   "display_name": "Python 3",
   "language": "python",
   "name": "python3"
  },
  "language_info": {
   "codemirror_mode": {
    "name": "ipython",
    "version": 3
   },
   "file_extension": ".py",
   "mimetype": "text/x-python",
   "name": "python",
   "nbconvert_exporter": "python",
   "pygments_lexer": "ipython3",
   "version": "3.5.4"
  }
 },
 "nbformat": 4,
 "nbformat_minor": 4
}
