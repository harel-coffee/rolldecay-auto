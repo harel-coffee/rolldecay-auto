{
 "cells": [
  {
   "cell_type": "markdown",
   "metadata": {
    "pycharm": {
     "name": "#%% md\n"
    }
   },
   "source": [
    "# Calculate Simplified Ikeda and insert into DB"
   ]
  },
  {
   "cell_type": "code",
   "execution_count": null,
   "metadata": {
    "pycharm": {
     "is_executing": false,
     "name": "#%%\n"
    }
   },
   "outputs": [],
   "source": [
    "import pandas as pd\n",
    "pd.options.display.max_rows = 999\n",
    "pd.options.display.max_columns = 999\n",
    "import numpy as np\n",
    "import matplotlib.pyplot as plt\n",
    "from pylab import rcParams\n",
    "rcParams['figure.figsize'] = 15, 5\n",
    "\n",
    "from rolldecay.simplified_ikeda import calculate_roll_damping\n",
    "\n",
    "import data\n",
    "import copy\n",
    "from mdldb.mdl_db import MDLDataBase\n",
    "from mdldb.tables import Base, Model, LoadingCondition, Run, RolldecayLinear, RolldecayDirect, RolldecayNorwegian"
   ]
  },
  {
   "cell_type": "code",
   "execution_count": null,
   "metadata": {
    "pycharm": {
     "is_executing": false,
     "name": "#%%\n"
    }
   },
   "outputs": [],
   "source": [
    "from sqlalchemy import create_engine\n",
    "engine = create_engine('sqlite:///' + data.mdl_db_path)\n",
    "db = MDLDataBase(engine=engine)"
   ]
  },
  {
   "cell_type": "code",
   "execution_count": null,
   "metadata": {
    "pycharm": {
     "is_executing": false,
     "name": "#%%\n"
    }
   },
   "outputs": [],
   "source": [
    "sql=\"\"\"\n",
    "SELECT * from\n",
    "rolldecay_direct_improved\n",
    "INNER JOIN run\n",
    "ON rolldecay_direct_improved.run_id == run.id\n",
    "    INNER JOIN loading_conditions\n",
    "    ON (run.loading_condition_id == loading_conditions.id)\n",
    "        INNER JOIN models\n",
    "        ON run.model_number == models.model_number\n",
    "            INNER JOIN ships\n",
    "            ON models.ship_name == ships.name\n",
    "\n",
    "\"\"\"\n",
    "df_rolldecay = pd.read_sql(sql, con=engine, index_col='run_id',)"
   ]
  },
  {
   "cell_type": "code",
   "execution_count": null,
   "metadata": {
    "pycharm": {
     "name": "#%%\n"
    }
   },
   "outputs": [],
   "source": [
    "def calculate(row, PHI):\n",
    "    \n",
    "    LPP = row.lpp\n",
    "    Beam = row.beam\n",
    "    DRAFT = (row.TA + row.TF)/2\n",
    "    \n",
    "    lBK = row.BKL\n",
    "    bBK = row.BKB\n",
    "    OMEGA = row.omega0\n",
    "    OG = row.kg\n",
    "    CB = row.Volume/(row.lpp*row.beam*DRAFT)\n",
    "    CMID = row.A0\n",
    "    \n",
    "    B44HAT, BFHAT, BWHAT, BEHAT, BBKHAT = calculate_roll_damping(LPP,Beam,CB,CMID,OG,PHI,lBK,bBK,OMEGA,DRAFT)\n",
    "    s = pd.Series()\n",
    "    s['B44HAT'] = B44HAT\n",
    "    s['BFHAT'] = BFHAT\n",
    "    s['BWHAT'] = BWHAT\n",
    "    s['BEHAT'] = BEHAT\n",
    "    s['BBKHAT'] = BBKHAT\n",
    "    return s\n",
    "    "
   ]
  },
  {
   "cell_type": "code",
   "execution_count": null,
   "metadata": {},
   "outputs": [],
   "source": [
    "mask = ((df_rolldecay['lpp'] > 0) &\n",
    "        (df_rolldecay['beam'] > 0) &\n",
    "        (df_rolldecay['TA'] > 0) &\n",
    "        (df_rolldecay['Volume'] > 0)\n",
    "       )\n",
    "df = df_rolldecay.loc[mask].copy()"
   ]
  },
  {
   "cell_type": "code",
   "execution_count": null,
   "metadata": {},
   "outputs": [],
   "source": [
    "result = df.apply(func=calculate, PHI=10, axis=1)"
   ]
  },
  {
   "cell_type": "code",
   "execution_count": null,
   "metadata": {},
   "outputs": [],
   "source": [
    "mask = result['B44HAT'] > 0\n",
    "df = result.loc[mask]\n",
    "df.hist('B44HAT', bins=50)"
   ]
  },
  {
   "cell_type": "code",
   "execution_count": null,
   "metadata": {},
   "outputs": [],
   "source": [
    "mask = ((df['B44HAT'] > df['B44HAT'].quantile(0.00)) &\n",
    "        (df['B44HAT'] < df['B44HAT'].quantile(0.98)) \n",
    "       )\n",
    "df2 = df.loc[mask].copy()"
   ]
  },
  {
   "cell_type": "code",
   "execution_count": null,
   "metadata": {},
   "outputs": [],
   "source": [
    "df2.hist('B44HAT', bins=20)"
   ]
  },
  {
   "cell_type": "code",
   "execution_count": null,
   "metadata": {},
   "outputs": [],
   "source": [
    "sql=\"\"\"\n",
    "SELECT * from\n",
    "rolldecay_linear\n",
    "INNER JOIN run\n",
    "ON rolldecay_linear.run_id == run.id\n",
    "    INNER JOIN loading_conditions\n",
    "    ON (run.loading_condition_id == loading_conditions.id)\n",
    "        INNER JOIN models\n",
    "        ON run.model_number == models.model_number\n",
    "            INNER JOIN ships\n",
    "            ON models.ship_name == ships.name\n",
    "\n",
    "\"\"\"\n",
    "df_rolldecay = pd.read_sql(sql, con=engine, index_col='run_id',)\n",
    "df_rolldecay = df_rolldecay.loc[:,~df_rolldecay.columns.duplicated()]\n",
    "#df_rolldecay = remove_outliers(df_rolldecay)\n",
    "df_rolldecay.describe()"
   ]
  },
  {
   "cell_type": "code",
   "execution_count": null,
   "metadata": {},
   "outputs": [],
   "source": [
    "df = df_rolldecay.dropna(subset=['Volume','beam'])"
   ]
  },
  {
   "cell_type": "code",
   "execution_count": null,
   "metadata": {},
   "outputs": [],
   "source": [
    "mask = ((df_rolldecay['ship_speed']==0) & \n",
    "        (df_rolldecay[['Volume','beam']] > 0).all(axis=1)\n",
    "       )\n",
    "df = df.loc[mask].copy()"
   ]
  },
  {
   "cell_type": "code",
   "execution_count": null,
   "metadata": {},
   "outputs": [],
   "source": [
    "df.describe()"
   ]
  },
  {
   "cell_type": "code",
   "execution_count": null,
   "metadata": {},
   "outputs": [],
   "source": [
    "B44=df['zeta']*df['omega0']\n",
    "\n",
    "B44.hist(bins=30)"
   ]
  },
  {
   "cell_type": "code",
   "execution_count": null,
   "metadata": {},
   "outputs": [],
   "source": [
    "rho = 1000\n",
    "g=9.81\n",
    "Volume = df['Volume']\n",
    "beam = df['beam']\n",
    "B44_hat = B44/(rho*Volume*beam**2)*np.sqrt(beam/(2*g))\n",
    "\n",
    "B44_hat.hist(bins=30)"
   ]
  },
  {
   "cell_type": "code",
   "execution_count": null,
   "metadata": {},
   "outputs": [],
   "source": [
    "mask = ((B44_hat > B44_hat.quantile(0.00)) &\n",
    "        (B44_hat < B44_hat.quantile(0.90)) \n",
    "       )\n",
    "B44_hat2 = B44_hat[mask].copy()\n",
    "\n",
    "B44_hat2.hist(bins=30)"
   ]
  },
  {
   "cell_type": "code",
   "execution_count": null,
   "metadata": {},
   "outputs": [],
   "source": []
  }
 ],
 "metadata": {
  "kernelspec": {
   "display_name": "Python 3",
   "language": "python",
   "name": "python3"
  },
  "language_info": {
   "codemirror_mode": {
    "name": "ipython",
    "version": 3
   },
   "file_extension": ".py",
   "mimetype": "text/x-python",
   "name": "python",
   "nbconvert_exporter": "python",
   "pygments_lexer": "ipython3",
   "version": "3.5.4"
  },
  "pycharm": {
   "stem_cell": {
    "cell_type": "raw",
    "metadata": {
     "collapsed": false
    },
    "source": []
   }
  }
 },
 "nbformat": 4,
 "nbformat_minor": 4
}
