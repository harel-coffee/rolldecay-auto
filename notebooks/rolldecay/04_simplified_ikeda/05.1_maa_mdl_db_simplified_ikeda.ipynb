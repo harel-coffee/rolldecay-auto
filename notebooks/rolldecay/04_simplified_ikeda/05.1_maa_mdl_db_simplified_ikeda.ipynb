{
 "cells": [
  {
   "cell_type": "markdown",
   "metadata": {
    "pycharm": {
     "name": "#%% md\n"
    }
   },
   "source": [
    "# Calculate Simplified Ikeda and insert into DB"
   ]
  },
  {
   "cell_type": "code",
   "execution_count": null,
   "metadata": {
    "pycharm": {
     "is_executing": false,
     "name": "#%%\n"
    }
   },
   "outputs": [],
   "source": [
    "import pandas as pd\n",
    "pd.options.display.max_rows = 999\n",
    "pd.options.display.max_columns = 999\n",
    "import numpy as np\n",
    "import matplotlib.pyplot as plt\n",
    "from pylab import rcParams\n",
    "rcParams['figure.figsize'] = 15, 5\n",
    "\n",
    "from rolldecay.simplified_ikeda import calculate_roll_damping\n",
    "from rolldecay import equations\n",
    "import sympy as sp\n",
    "from rolldecay import symbols\n",
    "from rolldecayestimators.substitute_dynamic_symbols import lambdify\n",
    "\n",
    "import data\n",
    "import copy\n",
    "from rolldecay import database"
   ]
  },
  {
   "cell_type": "code",
   "execution_count": null,
   "metadata": {},
   "outputs": [],
   "source": [
    "df_rolldecay = database.load()\n",
    "df_rolldecay.fillna(0, inplace=True)"
   ]
  },
  {
   "cell_type": "code",
   "execution_count": null,
   "metadata": {
    "pycharm": {
     "name": "#%%\n"
    }
   },
   "outputs": [],
   "source": [
    "def calculate(row, PHI):\n",
    "    \n",
    "    LPP = row.lpp\n",
    "    Beam = row.beam\n",
    "    DRAFT = (row.TA + row.TF)/2\n",
    "    \n",
    "    lBK = row.BKL\n",
    "    bBK = row.BKB\n",
    "    OMEGA = row.omega0\n",
    "    OG = (-row.kg+DRAFT)\n",
    "    CB = row.Volume/(row.lpp*row.beam*DRAFT)\n",
    "    CMID = row.A0\n",
    "    \n",
    "    B44HAT, BFHAT, BWHAT, BEHAT, BBKHAT = calculate_roll_damping(LPP,Beam,CB,CMID,OG,PHI,lBK,bBK,OMEGA,DRAFT)\n",
    "    s = pd.Series()\n",
    "    s['B44HAT'] = B44HAT\n",
    "    s['BFHAT'] = BFHAT\n",
    "    s['BWHAT'] = BWHAT\n",
    "    s['BEHAT'] = BEHAT\n",
    "    s['BBKHAT'] = BBKHAT\n",
    "    return s\n",
    "    "
   ]
  },
  {
   "cell_type": "code",
   "execution_count": null,
   "metadata": {},
   "outputs": [],
   "source": [
    "required = ['lpp','beam','TA','TF','BKL','BKB','omega0','kg','Volume','A0']"
   ]
  },
  {
   "cell_type": "code",
   "execution_count": null,
   "metadata": {},
   "outputs": [],
   "source": [
    "df_rolldecay.dropna(subset=required, inplace=True)"
   ]
  },
  {
   "cell_type": "code",
   "execution_count": null,
   "metadata": {},
   "outputs": [],
   "source": [
    "mask = ((df_rolldecay['ship_speed']==0) &  ## Zero speed!\n",
    "        (df_rolldecay[required] > 0).all(axis=1)\n",
    "       )\n",
    "df = df_rolldecay.loc[mask].copy()"
   ]
  },
  {
   "cell_type": "code",
   "execution_count": null,
   "metadata": {},
   "outputs": [],
   "source": [
    "fig,axess = plt.subplots(nrows=4,ncols=3)\n",
    "fig.set_size_inches(15,15)\n",
    "for r,ax in zip(required, axess.flatten()):\n",
    "    df[r].hist(bins=20, ax=ax)\n",
    "    ax.set_title(r)"
   ]
  },
  {
   "cell_type": "code",
   "execution_count": null,
   "metadata": {},
   "outputs": [],
   "source": [
    "result = df.apply(func=calculate, PHI=1, axis=1)\n",
    "df = pd.merge(left=df,right=result,left_index=True, right_index=True)"
   ]
  },
  {
   "cell_type": "code",
   "execution_count": null,
   "metadata": {},
   "outputs": [],
   "source": [
    "df.hist('B44HAT', bins=50)"
   ]
  },
  {
   "cell_type": "code",
   "execution_count": null,
   "metadata": {},
   "outputs": [],
   "source": [
    "mask = ((df['B44HAT'] > df['B44HAT'].quantile(0)) &\n",
    "        (df['B44HAT'] < df['B44HAT'].quantile(0.90)) \n",
    "       )\n",
    "df2 = df.loc[mask].copy()"
   ]
  },
  {
   "cell_type": "code",
   "execution_count": null,
   "metadata": {},
   "outputs": [],
   "source": [
    "df2.hist('B44HAT', bins=20)"
   ]
  },
  {
   "cell_type": "code",
   "execution_count": null,
   "metadata": {},
   "outputs": [],
   "source": [
    "equations.zeta_equation"
   ]
  },
  {
   "cell_type": "code",
   "execution_count": null,
   "metadata": {},
   "outputs": [],
   "source": [
    "sp.solve(equations.zeta_equation, symbols.B_1)[0]"
   ]
  },
  {
   "cell_type": "code",
   "execution_count": null,
   "metadata": {},
   "outputs": [],
   "source": [
    "omega0_equation_linear = equations.omega0_equation.subs(symbols.C,sp.solve(equations.C_equation_linear,symbols.C)[0])\n",
    "omega0_equation_linear"
   ]
  },
  {
   "cell_type": "code",
   "execution_count": null,
   "metadata": {},
   "outputs": [],
   "source": [
    "A44 = sp.solve(omega0_equation_linear, symbols.A_44)[0]\n",
    "eq = equations.zeta_equation.subs(symbols.A_44,A44)\n",
    "eq"
   ]
  },
  {
   "cell_type": "code",
   "execution_count": null,
   "metadata": {},
   "outputs": [],
   "source": [
    "B_1_expression = B44_expression = sp.solve(eq,symbols.B_1)[0]  # I guess that B_1 and B44 is the same thing for linear..."
   ]
  },
  {
   "cell_type": "code",
   "execution_count": null,
   "metadata": {},
   "outputs": [],
   "source": [
    "B44_expression"
   ]
  },
  {
   "cell_type": "code",
   "execution_count": null,
   "metadata": {},
   "outputs": [],
   "source": [
    "B44_lambda = lambdify(B44_expression)"
   ]
  },
  {
   "cell_type": "code",
   "execution_count": null,
   "metadata": {},
   "outputs": [],
   "source": [
    "rho = 1000\n",
    "g=9.81\n",
    "Volume = df2['Volume']\n",
    "beam = df2['beam']\n",
    "m = rho*Volume\n",
    "GM = df2['gm'].values\n",
    "zeta = df2['zeta']\n",
    "omega0 = df2['omega0']"
   ]
  },
  {
   "cell_type": "code",
   "execution_count": null,
   "metadata": {},
   "outputs": [],
   "source": [
    "df2['B44_db'] = B44 = B44_lambda(GM=GM, m=m, omega0=omega0, zeta=zeta, g=g)"
   ]
  },
  {
   "cell_type": "code",
   "execution_count": null,
   "metadata": {},
   "outputs": [],
   "source": [
    "df2['B44_hat_db'] = B44/(rho*Volume*beam**2)*np.sqrt(beam/(2*g))"
   ]
  },
  {
   "cell_type": "code",
   "execution_count": null,
   "metadata": {},
   "outputs": [],
   "source": [
    "mask = ((df2['B44_hat_db'] > df2['B44_hat_db'].quantile(0)) &\n",
    "        (df2['B44_hat_db'] < df2['B44_hat_db'].quantile(0.95)) \n",
    "       )\n",
    "df2 = df2.loc[mask].copy()"
   ]
  },
  {
   "cell_type": "code",
   "execution_count": null,
   "metadata": {},
   "outputs": [],
   "source": [
    "fig,ax = plt.subplots()\n",
    "bins = np.linspace(0,df2[['B44HAT','B44_hat_db']].max().max(),50)\n",
    "df2.hist('B44HAT', label='Ikeda', bins=bins, ax=ax)\n",
    "df2.hist('B44_hat_db',label='Roll damping DB', bins=bins, ax=ax, alpha=0.75)\n",
    "\n",
    "ax.legend()"
   ]
  },
  {
   "cell_type": "code",
   "execution_count": null,
   "metadata": {},
   "outputs": [],
   "source": [
    "fig,ax=plt.subplots()\n",
    "df2.plot(x='B44_hat_db', y='B44HAT', style='o', alpha=0.3, ax=ax)\n",
    "ax.axis('equal');"
   ]
  },
  {
   "cell_type": "code",
   "execution_count": null,
   "metadata": {},
   "outputs": [],
   "source": [
    "import seaborn as sns\n",
    "\n",
    "sns.regplot(x='B44_hat_db', y='B44HAT', data=df2);"
   ]
  },
  {
   "cell_type": "code",
   "execution_count": null,
   "metadata": {},
   "outputs": [],
   "source": []
  },
  {
   "cell_type": "code",
   "execution_count": null,
   "metadata": {},
   "outputs": [],
   "source": []
  }
 ],
 "metadata": {
  "kernelspec": {
   "display_name": "Python 3",
   "language": "python",
   "name": "python3"
  },
  "language_info": {
   "codemirror_mode": {
    "name": "ipython",
    "version": 3
   },
   "file_extension": ".py",
   "mimetype": "text/x-python",
   "name": "python",
   "nbconvert_exporter": "python",
   "pygments_lexer": "ipython3",
   "version": "3.5.4"
  },
  "pycharm": {
   "stem_cell": {
    "cell_type": "raw",
    "metadata": {
     "collapsed": false
    },
    "source": []
   }
  }
 },
 "nbformat": 4,
 "nbformat_minor": 4
}
