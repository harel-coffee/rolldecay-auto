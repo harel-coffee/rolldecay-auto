{
 "cells": [
  {
   "cell_type": "markdown",
   "metadata": {
    "pycharm": {
     "name": "#%% md\n"
    }
   },
   "source": [
    "# Calculate Simplified Ikeda simulation"
   ]
  },
  {
   "cell_type": "code",
   "execution_count": null,
   "metadata": {},
   "outputs": [],
   "source": [
    "from jupyterthemes import jtplot\n",
    "jtplot.style(theme='onedork', context='notebook', ticks=True, grid=False)"
   ]
  },
  {
   "cell_type": "code",
   "execution_count": null,
   "metadata": {},
   "outputs": [],
   "source": [
    "%matplotlib inline\n",
    "%load_ext autoreload\n",
    "%autoreload 2"
   ]
  },
  {
   "cell_type": "code",
   "execution_count": null,
   "metadata": {
    "pycharm": {
     "is_executing": false,
     "name": "#%%\n"
    }
   },
   "outputs": [],
   "source": [
    "import pandas as pd\n",
    "pd.options.display.max_rows = 999\n",
    "pd.options.display.max_columns = 999\n",
    "import numpy as np\n",
    "import matplotlib.pyplot as plt\n",
    "from pylab import rcParams\n",
    "rcParams['figure.figsize'] = 15, 7\n",
    "\n",
    "from rolldecayestimators.simplified_ikeda import calculate_roll_damping\n",
    "from rolldecayestimators import equations\n",
    "import sympy as sp\n",
    "from rolldecayestimators import symbols\n",
    "from rolldecayestimators.substitute_dynamic_symbols import lambdify\n",
    "from mdldb.tables import Run\n",
    "from rolldecayestimators.direct_linear_estimator import DirectLinearEstimator\n",
    "from rolldecayestimators.transformers import CutTransformer, LowpassFilterDerivatorTransformer, ScaleFactorTransformer, OffsetTransformer\n",
    "from sklearn.pipeline import Pipeline\n",
    "\n",
    "import data\n",
    "import copy\n",
    "from rolldecay import database\n",
    "from sympy.physics.vector.printing import vpprint, vlatex\n",
    "from IPython.display import display, Math, Latex"
   ]
  },
  {
   "cell_type": "code",
   "execution_count": null,
   "metadata": {},
   "outputs": [],
   "source": [
    "db = database.get_db()"
   ]
  },
  {
   "cell_type": "code",
   "execution_count": null,
   "metadata": {},
   "outputs": [],
   "source": [
    "required = ['lpp','beam','TA','TF','BKL','BKB','omega0','kg','Volume','A0']"
   ]
  },
  {
   "cell_type": "code",
   "execution_count": null,
   "metadata": {},
   "outputs": [],
   "source": [
    "df_rolldecay = database.load(rolldecay_table_name='rolldecay_linear')\n",
    "\n",
    "df_rolldecay.fillna(0, inplace=True)\n",
    "mask = ((df_rolldecay['ship_speed']==0) &  ## Zero speed!\n",
    "        (df_rolldecay[required] > 0).all(axis=1)\n",
    "       )\n",
    "\n",
    "df = df_rolldecay.loc[mask].copy()\n",
    "df['phi_max'] = np.rad2deg(df['phi_start'].abs())"
   ]
  },
  {
   "cell_type": "code",
   "execution_count": null,
   "metadata": {},
   "outputs": [],
   "source": [
    "row = df.iloc[0]"
   ]
  },
  {
   "cell_type": "code",
   "execution_count": null,
   "metadata": {},
   "outputs": [],
   "source": [
    "db_run = db.session.query(Run).get(int(row.id))"
   ]
  },
  {
   "cell_type": "code",
   "execution_count": null,
   "metadata": {},
   "outputs": [],
   "source": [
    "df = database.load_run(db_run=db_run)"
   ]
  },
  {
   "cell_type": "code",
   "execution_count": null,
   "metadata": {},
   "outputs": [],
   "source": [
    "df.plot(y='phi')"
   ]
  },
  {
   "cell_type": "code",
   "execution_count": null,
   "metadata": {
    "pycharm": {
     "name": "#%%\n"
    }
   },
   "outputs": [],
   "source": [
    "def calculate(row):\n",
    "    \n",
    "    LPP = row.lpp\n",
    "    Beam = row.beam\n",
    "    DRAFT = (row.TA + row.TF)/2\n",
    "    \n",
    "    PHI = row.phi_max\n",
    "    lBK = row.BKL\n",
    "    bBK = row.BKB\n",
    "    OMEGA = row.omega0\n",
    "    OG = (-row.kg+DRAFT)\n",
    "    CB = row.Volume/(row.lpp*row.beam*DRAFT)\n",
    "    CMID = row.A0\n",
    "    \n",
    "    B44HAT, BFHAT, BWHAT, BEHAT, BBKHAT = calculate_roll_damping(LPP,Beam,CB,CMID,OG,PHI,lBK,bBK,OMEGA,DRAFT)\n",
    "    s = pd.Series()\n",
    "    s['B44HAT'] = B44HAT\n",
    "    s['BFHAT'] = BFHAT\n",
    "    s['BWHAT'] = BWHAT\n",
    "    s['BEHAT'] = BEHAT\n",
    "    s['BBKHAT'] = BBKHAT\n",
    "    return s\n",
    "    "
   ]
  },
  {
   "cell_type": "code",
   "execution_count": null,
   "metadata": {},
   "outputs": [],
   "source": [
    "result = calculate(row)\n",
    "result"
   ]
  },
  {
   "cell_type": "code",
   "execution_count": null,
   "metadata": {},
   "outputs": [],
   "source": [
    "Math(vlatex(equations.B44_equation))"
   ]
  },
  {
   "cell_type": "code",
   "execution_count": null,
   "metadata": {},
   "outputs": [],
   "source": [
    "sp.Eq(symbols.B_44, sp.solve(equations.B44_equation, symbols.B_44)[0])"
   ]
  },
  {
   "cell_type": "code",
   "execution_count": null,
   "metadata": {},
   "outputs": [],
   "source": [
    "B44_lambda = lambdify(sp.solve(equations.B44_equation, symbols.B_44)[0])"
   ]
  },
  {
   "cell_type": "code",
   "execution_count": null,
   "metadata": {},
   "outputs": [],
   "source": [
    "g=9.81\n",
    "rho=1000\n",
    "B_44 = B44_lambda(B_44_hat=result.B44HAT, Disp=row.Volume, beam=row.beam, g=g, rho=rho)"
   ]
  },
  {
   "cell_type": "markdown",
   "metadata": {},
   "source": [
    "Equivalent linearized damping according to [Himeno]:"
   ]
  },
  {
   "cell_type": "code",
   "execution_count": null,
   "metadata": {},
   "outputs": [],
   "source": [
    "equations.B_e_equation"
   ]
  },
  {
   "cell_type": "code",
   "execution_count": null,
   "metadata": {},
   "outputs": [],
   "source": [
    "equations.zeta_equation"
   ]
  },
  {
   "cell_type": "code",
   "execution_count": null,
   "metadata": {},
   "outputs": [],
   "source": [
    "equations.omega0_equation_linear"
   ]
  },
  {
   "cell_type": "code",
   "execution_count": null,
   "metadata": {},
   "outputs": [],
   "source": [
    "eqs = [equations.zeta_equation,\n",
    "      equations.omega0_equation_linear]"
   ]
  },
  {
   "cell_type": "code",
   "execution_count": null,
   "metadata": {},
   "outputs": [],
   "source": [
    "zeta_lambda = lambdify(sp.solve(eqs,symbols.A_44,symbols.zeta)[0][1])"
   ]
  },
  {
   "cell_type": "code",
   "execution_count": null,
   "metadata": {},
   "outputs": [],
   "source": [
    "m = row.Volume*rho\n",
    "zeta=zeta_lambda(B_1=B_44, GM=row.gm, g=g, m=m,  omega0=row.omega0)\n",
    "zeta"
   ]
  },
  {
   "cell_type": "code",
   "execution_count": null,
   "metadata": {},
   "outputs": [],
   "source": [
    "row.zeta"
   ]
  },
  {
   "cell_type": "code",
   "execution_count": null,
   "metadata": {},
   "outputs": [],
   "source": [
    "lowpass_filter = LowpassFilterDerivatorTransformer(cutoff=2, minimum_score=0.99)\n",
    "scaler = ScaleFactorTransformer(scale_factor=None)  # dummy value None for now\n",
    "cutter = CutTransformer(phi_max=np.deg2rad(9), phi_min=np.deg2rad(0.25))\n",
    "offset_transformer = OffsetTransformer()"
   ]
  },
  {
   "cell_type": "code",
   "execution_count": null,
   "metadata": {},
   "outputs": [],
   "source": [
    "scaler.scale_factor=row.scale_factor"
   ]
  },
  {
   "cell_type": "code",
   "execution_count": null,
   "metadata": {},
   "outputs": [],
   "source": [
    "direct_linear_estimator = DirectLinearEstimator()\n",
    "\n",
    "steps = [\n",
    "    ('filter',lowpass_filter),\n",
    "    ('scaler',scaler),\n",
    "    ('cutter', cutter), \n",
    "    ('offset_transformer',offset_transformer),]\n",
    "    #('linear_estimator', direct_linear_estimator)]\n",
    "       \n",
    "preprocessor = Pipeline(steps) # define the pipeline object."
   ]
  },
  {
   "cell_type": "code",
   "execution_count": null,
   "metadata": {},
   "outputs": [],
   "source": [
    "preprocessor.fit(df)\n",
    "X=preprocessor.transform(df)"
   ]
  },
  {
   "cell_type": "code",
   "execution_count": null,
   "metadata": {},
   "outputs": [],
   "source": [
    "X.plot(y='phi')"
   ]
  },
  {
   "cell_type": "code",
   "execution_count": null,
   "metadata": {},
   "outputs": [],
   "source": [
    "estimator = DirectLinearEstimator()\n",
    "t=X.index\n",
    "phi0=X.iloc[0]['phi']\n",
    "phi1d0=X.iloc[0]['phi1d']\n",
    "\n",
    "df_sim_ikeda = estimator.simulate(t=t, phi0=phi0, phi1d0=phi1d0, omega0=row.omega0, zeta=zeta)\n",
    "df_sim = estimator.simulate(t=t, phi0=phi0, phi1d0=phi1d0, omega0=row.omega0, zeta=row.zeta)\n"
   ]
  },
  {
   "cell_type": "code",
   "execution_count": null,
   "metadata": {},
   "outputs": [],
   "source": [
    "df_result = X.copy()\n",
    "df_result = pd.merge(left=df_result, right=df_sim_ikeda, how='left', left_index=True, right_index=True, \n",
    "                     suffixes =('','_ikeda'))\n",
    "\n",
    "df_result = pd.merge(left=df_result, right=df_sim, how='left', left_index=True, right_index=True, \n",
    "                     suffixes =('','_model'))\n",
    "\n",
    "fig,ax=plt.subplots()\n",
    "df_result.plot(y='phi',label='model test', style=':', ax=ax)\n",
    "df_result.plot(y='phi_model',label='model', style='-',ax=ax)\n",
    "df_result.plot(y='phi_ikeda',label='ikeda', style='--',ax=ax)"
   ]
  },
  {
   "cell_type": "code",
   "execution_count": null,
   "metadata": {},
   "outputs": [],
   "source": []
  },
  {
   "cell_type": "code",
   "execution_count": null,
   "metadata": {},
   "outputs": [],
   "source": []
  },
  {
   "cell_type": "code",
   "execution_count": null,
   "metadata": {},
   "outputs": [],
   "source": []
  },
  {
   "cell_type": "code",
   "execution_count": null,
   "metadata": {},
   "outputs": [],
   "source": []
  },
  {
   "cell_type": "code",
   "execution_count": null,
   "metadata": {},
   "outputs": [],
   "source": []
  }
 ],
 "metadata": {
  "kernelspec": {
   "display_name": "Python 3",
   "language": "python",
   "name": "python3"
  },
  "language_info": {
   "codemirror_mode": {
    "name": "ipython",
    "version": 3
   },
   "file_extension": ".py",
   "mimetype": "text/x-python",
   "name": "python",
   "nbconvert_exporter": "python",
   "pygments_lexer": "ipython3",
   "version": "3.5.4"
  },
  "pycharm": {
   "stem_cell": {
    "cell_type": "raw",
    "metadata": {
     "collapsed": false
    },
    "source": []
   }
  }
 },
 "nbformat": 4,
 "nbformat_minor": 4
}
