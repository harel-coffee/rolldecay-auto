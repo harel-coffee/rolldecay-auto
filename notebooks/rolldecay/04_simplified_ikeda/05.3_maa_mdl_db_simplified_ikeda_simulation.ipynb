{
 "cells": [
  {
   "cell_type": "markdown",
   "metadata": {
    "pycharm": {
     "name": "#%% md\n"
    }
   },
   "source": [
    "# Calculate Simplified Ikeda simulation"
   ]
  },
  {
   "cell_type": "code",
   "execution_count": null,
   "metadata": {},
   "outputs": [],
   "source": [
    "from jupyterthemes import jtplot\n",
    "jtplot.style(theme='onedork', context='notebook', ticks=True, grid=False)"
   ]
  },
  {
   "cell_type": "code",
   "execution_count": null,
   "metadata": {},
   "outputs": [],
   "source": [
    "%matplotlib inline\n",
    "%load_ext autoreload\n",
    "%autoreload 2"
   ]
  },
  {
   "cell_type": "code",
   "execution_count": null,
   "metadata": {
    "pycharm": {
     "is_executing": false,
     "name": "#%%\n"
    }
   },
   "outputs": [],
   "source": [
    "import pandas as pd\n",
    "pd.options.display.max_rows = 999\n",
    "pd.options.display.max_columns = 999\n",
    "import numpy as np\n",
    "import matplotlib.pyplot as plt\n",
    "from pylab import rcParams\n",
    "rcParams['figure.figsize'] = 15, 7\n",
    "\n",
    "from rolldecayestimators.simplified_ikeda import calculate_roll_damping\n",
    "from rolldecayestimators import equations\n",
    "import sympy as sp\n",
    "from rolldecayestimators import symbols\n",
    "from rolldecayestimators.substitute_dynamic_symbols import lambdify\n",
    "from mdldb.tables import Run\n",
    "from rolldecayestimators.direct_linear_estimator import DirectLinearEstimator\n",
    "from rolldecayestimators.direct_estimator import DirectEstimator\n",
    "from rolldecayestimators.ikeda_estimator import IkedaEstimator\n",
    "from rolldecayestimators.transformers import CutTransformer, LowpassFilterDerivatorTransformer, ScaleFactorTransformer, OffsetTransformer\n",
    "from sklearn.pipeline import Pipeline\n",
    "from rolldecayestimators.sensitivity import variate_ship, plot_variation, calculate, calculate_variation, _plot_result\n",
    "\n",
    "import data\n",
    "import copy\n",
    "from rolldecay import database\n",
    "from sympy.physics.vector.printing import vpprint, vlatex\n",
    "from IPython.display import display, Math, Latex"
   ]
  },
  {
   "cell_type": "code",
   "execution_count": null,
   "metadata": {},
   "outputs": [],
   "source": [
    "db = database.get_db()"
   ]
  },
  {
   "cell_type": "code",
   "execution_count": null,
   "metadata": {},
   "outputs": [],
   "source": [
    "required = ['lpp','beam','TA','TF','BKL','BKB','omega0','kg','Volume','A0']"
   ]
  },
  {
   "cell_type": "code",
   "execution_count": null,
   "metadata": {},
   "outputs": [],
   "source": [
    "df_rolldecay = database.load(rolldecay_table_name='rolldecay_linear')\n",
    "\n",
    "df_rolldecay.fillna(0, inplace=True)\n",
    "mask = ((df_rolldecay['ship_speed']==0) &  ## Zero speed!\n",
    "        (df_rolldecay[required] > 0).all(axis=1)\n",
    "       )\n",
    "\n",
    "df = df_rolldecay.loc[mask].copy()\n",
    "df['phi_max'] = np.rad2deg(df['phi_start'].abs())\n",
    "df['DRAFT'] = (df.TA + df.TF)/2\n",
    "df['CB'] = df.Volume/(df.lpp*df.beam*df.DRAFT)"
   ]
  },
  {
   "cell_type": "code",
   "execution_count": null,
   "metadata": {},
   "outputs": [],
   "source": [
    "row = df.iloc[0]"
   ]
  },
  {
   "cell_type": "code",
   "execution_count": null,
   "metadata": {},
   "outputs": [],
   "source": [
    "db_run = db.session.query(Run).get(int(row.id))"
   ]
  },
  {
   "cell_type": "code",
   "execution_count": null,
   "metadata": {},
   "outputs": [],
   "source": [
    "df = database.load_run(db_run=db_run)"
   ]
  },
  {
   "cell_type": "code",
   "execution_count": null,
   "metadata": {},
   "outputs": [],
   "source": [
    "df.plot(y='phi')"
   ]
  },
  {
   "cell_type": "code",
   "execution_count": null,
   "metadata": {},
   "outputs": [],
   "source": [
    "result = calculate(row)\n",
    "result"
   ]
  },
  {
   "cell_type": "code",
   "execution_count": null,
   "metadata": {},
   "outputs": [],
   "source": [
    "Math(vlatex(equations.B44_equation))"
   ]
  },
  {
   "cell_type": "code",
   "execution_count": null,
   "metadata": {},
   "outputs": [],
   "source": [
    "sp.Eq(symbols.B_44, sp.solve(equations.B44_equation, symbols.B_44)[0])"
   ]
  },
  {
   "cell_type": "code",
   "execution_count": null,
   "metadata": {},
   "outputs": [],
   "source": [
    "B44_lambda = lambdify(sp.solve(equations.B44_equation, symbols.B_44)[0])"
   ]
  },
  {
   "cell_type": "code",
   "execution_count": null,
   "metadata": {},
   "outputs": [],
   "source": [
    "g=9.81\n",
    "rho=1000\n",
    "B_44 = B44_lambda(B_44_hat=result.B44HAT, Disp=row.Volume, beam=row.beam, g=g, rho=rho)"
   ]
  },
  {
   "cell_type": "markdown",
   "metadata": {},
   "source": [
    "Equivalent linearized damping according to [Himeno]:"
   ]
  },
  {
   "cell_type": "code",
   "execution_count": null,
   "metadata": {},
   "outputs": [],
   "source": [
    "equations.B_e_equation"
   ]
  },
  {
   "cell_type": "code",
   "execution_count": null,
   "metadata": {},
   "outputs": [],
   "source": [
    "equations.zeta_equation"
   ]
  },
  {
   "cell_type": "code",
   "execution_count": null,
   "metadata": {},
   "outputs": [],
   "source": [
    "equations.omega0_equation_linear"
   ]
  },
  {
   "cell_type": "code",
   "execution_count": null,
   "metadata": {},
   "outputs": [],
   "source": [
    "eqs = [equations.zeta_equation,\n",
    "      equations.omega0_equation_linear]"
   ]
  },
  {
   "cell_type": "code",
   "execution_count": null,
   "metadata": {},
   "outputs": [],
   "source": [
    "zeta_lambda = lambdify(sp.solve(eqs,symbols.A_44,symbols.zeta)[0][1])"
   ]
  },
  {
   "cell_type": "code",
   "execution_count": null,
   "metadata": {},
   "outputs": [],
   "source": [
    "m = row.Volume*rho\n",
    "zeta=zeta_lambda(B_1=B_44, GM=row.gm, g=g, m=m,  omega0=row.omega0)\n",
    "zeta"
   ]
  },
  {
   "cell_type": "code",
   "execution_count": null,
   "metadata": {},
   "outputs": [],
   "source": [
    "row.zeta"
   ]
  },
  {
   "cell_type": "code",
   "execution_count": null,
   "metadata": {},
   "outputs": [],
   "source": [
    "lowpass_filter = LowpassFilterDerivatorTransformer(cutoff=2, minimum_score=0.99)\n",
    "scaler = ScaleFactorTransformer(scale_factor=None)  # dummy value None for now\n",
    "cutter = CutTransformer(phi_max=np.deg2rad(9), phi_min=np.deg2rad(0.25))\n",
    "offset_transformer = OffsetTransformer()"
   ]
  },
  {
   "cell_type": "code",
   "execution_count": null,
   "metadata": {},
   "outputs": [],
   "source": [
    "scaler.scale_factor=row.scale_factor"
   ]
  },
  {
   "cell_type": "code",
   "execution_count": null,
   "metadata": {},
   "outputs": [],
   "source": [
    "direct_linear_estimator = DirectLinearEstimator()\n",
    "\n",
    "steps = [\n",
    "    ('filter',lowpass_filter),\n",
    "    ('scaler',scaler),\n",
    "    ('cutter', cutter), \n",
    "    ('offset_transformer',offset_transformer),]\n",
    "    #('linear_estimator', direct_linear_estimator)]\n",
    "       \n",
    "preprocessor = Pipeline(steps) # define the pipeline object."
   ]
  },
  {
   "cell_type": "code",
   "execution_count": null,
   "metadata": {},
   "outputs": [],
   "source": [
    "preprocessor.fit(df)\n",
    "X=preprocessor.transform(df)"
   ]
  },
  {
   "cell_type": "code",
   "execution_count": null,
   "metadata": {},
   "outputs": [],
   "source": [
    "X.plot(y='phi')"
   ]
  },
  {
   "cell_type": "code",
   "execution_count": null,
   "metadata": {},
   "outputs": [],
   "source": [
    "estimator = DirectLinearEstimator()\n",
    "t=X.index\n",
    "phi0=X.iloc[0]['phi']\n",
    "phi1d0=X.iloc[0]['phi1d']\n",
    "\n",
    "df_sim_ikeda = estimator.simulate(t=t, phi0=phi0, phi1d0=phi1d0, omega0=row.omega0, zeta=zeta)\n",
    "df_sim = estimator.simulate(t=t, phi0=phi0, phi1d0=phi1d0, omega0=row.omega0, zeta=row.zeta)\n"
   ]
  },
  {
   "cell_type": "code",
   "execution_count": null,
   "metadata": {},
   "outputs": [],
   "source": [
    "df_result = X.copy()\n",
    "df_result = pd.merge(left=df_result, right=df_sim_ikeda, how='left', left_index=True, right_index=True, \n",
    "                     suffixes =('','_ikeda'))\n",
    "\n",
    "df_result = pd.merge(left=df_result, right=df_sim, how='left', left_index=True, right_index=True, \n",
    "                     suffixes =('','_model'))\n",
    "\n",
    "fig,ax=plt.subplots()\n",
    "df_result.plot(y='phi',label='model test', style=':', ax=ax)\n",
    "df_result.plot(y='phi_model',label='model', style='-',ax=ax)\n",
    "df_result.plot(y='phi_ikeda',label='ikeda', style='--',ax=ax)"
   ]
  },
  {
   "cell_type": "markdown",
   "metadata": {},
   "source": [
    "## Model scale..."
   ]
  },
  {
   "cell_type": "code",
   "execution_count": null,
   "metadata": {},
   "outputs": [],
   "source": [
    "df = database.load_run(db_run=db_run)\n",
    "\n",
    "direct_linear_estimator = DirectLinearEstimator()\n",
    "cutter = CutTransformer(phi_max=np.deg2rad(9), phi_min=np.deg2rad(0.25), phi1d_start_tolerance=10)\n",
    "steps = [\n",
    "    ('filter',lowpass_filter),\n",
    "    #('scaler',scaler),\n",
    "    ('cutter', cutter), \n",
    "    ('offset_transformer',offset_transformer),]\n",
    "    #('linear_estimator', direct_linear_estimator)]\n",
    "       \n",
    "preprocessor = Pipeline(steps) # define the pipeline object."
   ]
  },
  {
   "cell_type": "code",
   "execution_count": null,
   "metadata": {},
   "outputs": [],
   "source": [
    "preprocessor.fit(df)\n",
    "X_model=preprocessor.transform(df)\n",
    "X_model.plot(y='phi')"
   ]
  },
  {
   "cell_type": "code",
   "execution_count": null,
   "metadata": {},
   "outputs": [],
   "source": [
    "row2 = row.copy()\n",
    "scale=db_run.model.scale_factor\n",
    "\n",
    "row2['lpp']/=scale\n",
    "row2['beam']/=scale\n",
    "row2['TA']/=scale\n",
    "row2['TF']/=scale\n",
    "\n",
    "row2['BKL']/=scale\n",
    "row2['BKB']/=scale\n",
    "row2['omega0']/=1/np.sqrt(scale)\n",
    "#row2['OG']/=scale\n",
    "row2['kg']/=scale\n",
    "row2['gm']/=scale\n",
    "row2['Volume']/=(scale**3)"
   ]
  },
  {
   "cell_type": "code",
   "execution_count": null,
   "metadata": {},
   "outputs": [],
   "source": [
    "ikeda_estimator_ship = IkedaEstimator(lpp=row.lpp, \n",
    "                                 TA=row.TA, \n",
    "                                 TF = row.TF,\n",
    "                                 beam = row.beam,\n",
    "                                 BKL = row.BKL,\n",
    "                                 BKB = row.BKB,\n",
    "                                 A0 = row.A0,\n",
    "                                 kg = row.kg,\n",
    "                                 Volume = row.Volume,\n",
    "                                 gm = row.gm)\n",
    "\n",
    "ikeda_estimator_model = IkedaEstimator(lpp=row2.lpp, \n",
    "                                 TA=row2.TA, \n",
    "                                 TF = row2.TF,\n",
    "                                 beam = row2.beam,\n",
    "                                 BKL = row2.BKL,\n",
    "                                 BKB = row2.BKB,\n",
    "                                 A0 = row2.A0,\n",
    "                                 kg = row2.kg,\n",
    "                                 Volume = row2.Volume,\n",
    "                                 gm = row2.gm)"
   ]
  },
  {
   "cell_type": "code",
   "execution_count": null,
   "metadata": {},
   "outputs": [],
   "source": [
    "ikeda_estimator_ship.fit(X=X)\n",
    "df_ikeda_ship = ikeda_estimator_ship.predict(X)\n",
    "df_ikeda_ship.index/=np.sqrt(row.scale_factor)  # Scale to model scale time\n",
    "\n",
    "ikeda_estimator_model.fit(X=X_model)\n",
    "df_ikeda_model = ikeda_estimator_model.predict(X_model)\n",
    "\n",
    "fig,ax=plt.subplots()\n",
    "df_ikeda_ship.plot(y='phi', ax=ax, label='ship')\n",
    "df_ikeda_model.plot(y='phi', ax=ax, label='model')\n",
    "\n"
   ]
  },
  {
   "cell_type": "markdown",
   "metadata": {},
   "source": [
    "...the friction in model scale seem to have a small impact"
   ]
  },
  {
   "cell_type": "code",
   "execution_count": null,
   "metadata": {},
   "outputs": [],
   "source": [
    "ikeda_estimator_ship.fit(X=X)\n",
    "df_ikeda_ship = ikeda_estimator_ship.predict(X)\n",
    "df_ikeda_ship.index/=np.sqrt(row.scale_factor)  # Scale to model scale time"
   ]
  },
  {
   "cell_type": "markdown",
   "metadata": {},
   "source": [
    "## Looking at the quadratic part of Ikeda"
   ]
  },
  {
   "cell_type": "code",
   "execution_count": null,
   "metadata": {},
   "outputs": [],
   "source": [
    "df = database.load_run(db_run=db_run)\n",
    "lowpass_filter = LowpassFilterDerivatorTransformer(cutoff=2, minimum_score=0.99)\n",
    "scaler = ScaleFactorTransformer(scale_factor=row.scale_factor)  # dummy value None for now\n",
    "cutter = CutTransformer(phi_max=np.deg2rad(2), phi_min=np.deg2rad(0.25))\n",
    "offset_transformer = OffsetTransformer()\n",
    "\n",
    "steps = [\n",
    "    ('filter',lowpass_filter),\n",
    "    ('scaler',scaler),\n",
    "    ('cutter', cutter), \n",
    "    ('offset_transformer',offset_transformer),]\n",
    "    #('linear_estimator', direct_linear_estimator)]\n",
    "       \n",
    "preprocessor = Pipeline(steps) # define the pipeline object.\n",
    "\n",
    "preprocessor.fit(df)\n",
    "X2=preprocessor.transform(df)"
   ]
  },
  {
   "cell_type": "code",
   "execution_count": null,
   "metadata": {},
   "outputs": [],
   "source": [
    "ikeda_estimator_ship.fit(X2)\n",
    "df_sim_ikeda = ikeda_estimator_ship.predict(X2)\n",
    "direct_estimator = DirectLinearEstimator()\n",
    "direct_estimator.fit(X2)\n",
    "df_sim_model = direct_estimator.predict(X2)\n",
    "\n",
    "df_result = X2.copy()\n",
    "df_result = pd.merge(left=df_result, right=df_sim_ikeda, how='left', left_index=True, right_index=True, \n",
    "                     suffixes =('','_ikeda'))\n",
    "\n",
    "df_result = pd.merge(left=df_result, right=df_sim_model, how='left', left_index=True, right_index=True, \n",
    "                     suffixes =('','_model'))\n",
    "\n",
    "fig,ax=plt.subplots()\n",
    "df_result.plot(y='phi',label='model test', style=':', ax=ax)\n",
    "df_result.plot(y='phi_model',label='model', style='-',ax=ax)\n",
    "df_result.plot(y='phi_ikeda',label='ikeda', style='--',ax=ax)"
   ]
  },
  {
   "cell_type": "code",
   "execution_count": null,
   "metadata": {},
   "outputs": [],
   "source": [
    "N=40\n",
    "changes = np.linspace(1,0.0,N)\n",
    "df_variation = variate_ship(ship=row, key='phi_max', changes=changes)\n",
    "result = calculate_variation(df=df_variation)\n",
    "df_variation['g']=9.81\n",
    "df_variation['rho']=1000\n",
    "result = pd.concat((result,df_variation), axis=1)"
   ]
  },
  {
   "cell_type": "code",
   "execution_count": null,
   "metadata": {},
   "outputs": [],
   "source": [
    "plot_variation(ship=row, key='phi_max', changes=changes)"
   ]
  },
  {
   "cell_type": "code",
   "execution_count": null,
   "metadata": {},
   "outputs": [],
   "source": [
    "result['B_44'] = B44_lambda(B_44_hat=result.B44HAT, Disp=row.Volume, beam=row.beam, g=g, rho=rho)\n",
    "result['zeta'] = zeta_lambda(B_1=result['B_44'], GM=row.gm, g=g, m=m,  omega0=row.omega0)\n",
    "result.dropna(inplace=True)"
   ]
  },
  {
   "cell_type": "code",
   "execution_count": null,
   "metadata": {},
   "outputs": [],
   "source": [
    "fig,ax=plt.subplots()\n",
    "result.plot(y='zeta', ax=ax)\n",
    "ylim=ax.get_ylim()\n",
    "ax.set_ylim(0,ylim[1])"
   ]
  },
  {
   "cell_type": "code",
   "execution_count": null,
   "metadata": {},
   "outputs": [],
   "source": [
    "B_e_lambda = lambdify(sp.solve(equations.B_e_equation_cubic,symbols.B_e)[0])"
   ]
  },
  {
   "cell_type": "code",
   "execution_count": null,
   "metadata": {},
   "outputs": [],
   "source": [
    "def fit(df,B_1,B_2,B_3):\n",
    "    omega0=df['omega0']\n",
    "    phi_a=df['phi_max']\n",
    "    return B_e_lambda(B_1, B_2, B_3, omega0, phi_a)"
   ]
  },
  {
   "cell_type": "code",
   "execution_count": null,
   "metadata": {},
   "outputs": [],
   "source": [
    "from scipy.optimize import curve_fit"
   ]
  },
  {
   "cell_type": "code",
   "execution_count": null,
   "metadata": {},
   "outputs": [],
   "source": [
    "coeffs,_=curve_fit(f=fit,xdata=result,ydata=result['B_44'])"
   ]
  },
  {
   "cell_type": "code",
   "execution_count": null,
   "metadata": {},
   "outputs": [],
   "source": [
    "B_1=coeffs[0]\n",
    "B_2=coeffs[1]\n",
    "B_3=coeffs[2]\n",
    "result['B_44_fit'] = fit(result,*coeffs)"
   ]
  },
  {
   "cell_type": "code",
   "execution_count": null,
   "metadata": {},
   "outputs": [],
   "source": [
    "fig,ax=plt.subplots()\n",
    "result.plot(y='B_44', ax=ax)\n",
    "result.plot(y='B_44_fit', ax=ax, style='--')\n"
   ]
  },
  {
   "cell_type": "code",
   "execution_count": null,
   "metadata": {},
   "outputs": [],
   "source": [
    "B_e_lambda = lambdify(sp.solve(equations.B_e_equation,symbols.B_e)[0])"
   ]
  },
  {
   "cell_type": "code",
   "execution_count": null,
   "metadata": {},
   "outputs": [],
   "source": [
    "def fit2(df,B_1,B_2):\n",
    "    omega0=df['omega0']\n",
    "    phi_a=np.deg2rad(df['phi_max'])\n",
    "    return B_e_lambda(B_1, B_2, omega0, phi_a)"
   ]
  },
  {
   "cell_type": "code",
   "execution_count": null,
   "metadata": {},
   "outputs": [],
   "source": [
    "coeffs,_=curve_fit(f=fit2,xdata=result,ydata=result['B_44'])\n",
    "B_1=coeffs[0]\n",
    "B_2=coeffs[1]\n",
    "result['B_44_fit'] = fit2(result,*coeffs)"
   ]
  },
  {
   "cell_type": "code",
   "execution_count": null,
   "metadata": {},
   "outputs": [],
   "source": [
    "fig,ax=plt.subplots()\n",
    "result.plot(y='B_44', ax=ax)\n",
    "result.plot(y='B_44_fit', ax=ax, style='--')"
   ]
  },
  {
   "cell_type": "code",
   "execution_count": null,
   "metadata": {},
   "outputs": [],
   "source": [
    "equations.zeta_B1_equation"
   ]
  },
  {
   "cell_type": "code",
   "execution_count": null,
   "metadata": {},
   "outputs": [],
   "source": [
    "equations.d_B2_equation"
   ]
  },
  {
   "cell_type": "code",
   "execution_count": null,
   "metadata": {},
   "outputs": [],
   "source": [
    "zeta_B1_lambda = lambdify(sp.solve(equations.zeta_B1_equation, symbols.zeta)[0])\n",
    "d_B2_lambda = lambdify(sp.solve(equations.d_B2_equation, symbols.d)[0])"
   ]
  },
  {
   "cell_type": "code",
   "execution_count": null,
   "metadata": {},
   "outputs": [],
   "source": [
    "m=result.Volume*result.rho\n",
    "result['zeta'] = zeta_B1_lambda(B_1=B_1,GM=result.gm,g=result.g, m=m, omega0=result.omega0)\n",
    "result['d'] = d_B2_lambda(B_2=B_2,GM=result.gm,g=result.g, m=m, omega0=result.omega0)"
   ]
  },
  {
   "cell_type": "code",
   "execution_count": null,
   "metadata": {},
   "outputs": [],
   "source": [
    "result.plot(y=['zeta','d'])"
   ]
  },
  {
   "cell_type": "code",
   "execution_count": null,
   "metadata": {},
   "outputs": [],
   "source": [
    "direct_estimator = DirectEstimator()\n",
    "t = np.array(X.index,)\n",
    "phi0=X.iloc[0]['phi']\n",
    "phi1d0=X.iloc[0]['phi1d']\n",
    "omega0=row.omega0\n",
    "zeta=result.iloc[0]['zeta']\n",
    "d=result.iloc[0]['d']\n",
    "df_ikeda_quadratic_sim=direct_estimator.simulate(t=t, phi0=phi0, phi1d0=phi1d0, omega0=omega0, \n",
    "                                                 zeta=zeta, d=d)"
   ]
  },
  {
   "cell_type": "code",
   "execution_count": null,
   "metadata": {},
   "outputs": [],
   "source": [
    "df_result = X.copy()\n",
    "df_result = pd.merge(left=df_result, right=df_ikeda_quadratic_sim, how='left', left_index=True, right_index=True, \n",
    "                     suffixes =('','_ikeda_quadratic'))\n",
    "\n",
    "fig,ax=plt.subplots()\n",
    "df_result.plot(y='phi',label='model test', style='r-', ax=ax)\n",
    "df_result.plot(y='phi_ikeda_quadratic',label='ikeda_quadratic', style='--',ax=ax)"
   ]
  },
  {
   "cell_type": "code",
   "execution_count": null,
   "metadata": {},
   "outputs": [],
   "source": []
  },
  {
   "cell_type": "code",
   "execution_count": null,
   "metadata": {},
   "outputs": [],
   "source": []
  }
 ],
 "metadata": {
  "kernelspec": {
   "display_name": "Python 3",
   "language": "python",
   "name": "python3"
  },
  "language_info": {
   "codemirror_mode": {
    "name": "ipython",
    "version": 3
   },
   "file_extension": ".py",
   "mimetype": "text/x-python",
   "name": "python",
   "nbconvert_exporter": "python",
   "pygments_lexer": "ipython3",
   "version": "3.5.4"
  },
  "pycharm": {
   "stem_cell": {
    "cell_type": "raw",
    "metadata": {
     "collapsed": false
    },
    "source": []
   }
  }
 },
 "nbformat": 4,
 "nbformat_minor": 4
}
