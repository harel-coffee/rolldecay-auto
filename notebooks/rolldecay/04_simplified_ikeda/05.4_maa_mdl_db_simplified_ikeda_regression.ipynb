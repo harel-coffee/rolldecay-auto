{
 "cells": [
  {
   "cell_type": "markdown",
   "metadata": {
    "pycharm": {
     "name": "#%% md\n"
    }
   },
   "source": [
    "# Simplified Ikeda regression"
   ]
  },
  {
   "cell_type": "code",
   "execution_count": null,
   "metadata": {},
   "outputs": [],
   "source": [
    "from jupyterthemes import jtplot\n",
    "jtplot.style(theme='onedork', context='notebook', ticks=True, grid=False)"
   ]
  },
  {
   "cell_type": "code",
   "execution_count": null,
   "metadata": {},
   "outputs": [],
   "source": [
    "%matplotlib inline\n",
    "%load_ext autoreload\n",
    "%autoreload 2"
   ]
  },
  {
   "cell_type": "code",
   "execution_count": null,
   "metadata": {
    "pycharm": {
     "is_executing": false,
     "name": "#%%\n"
    }
   },
   "outputs": [],
   "source": [
    "import pandas as pd\n",
    "pd.options.display.max_rows = 999\n",
    "pd.options.display.max_columns = 999\n",
    "import numpy as np\n",
    "import matplotlib.pyplot as plt\n",
    "from pylab import rcParams\n",
    "rcParams['figure.figsize'] = 15, 5\n",
    "\n",
    "from rolldecayestimators.simplified_ikeda import calculate_roll_damping\n",
    "from rolldecayestimators import equations\n",
    "import sympy as sp\n",
    "from rolldecayestimators import symbols\n",
    "from rolldecayestimators.substitute_dynamic_symbols import lambdify\n",
    "from mdldb.tables import Run\n",
    "from rolldecayestimators.ikeda_estimator import IkedaQuadraticEstimator\n",
    "from rolldecayestimators.transformers import CutTransformer, LowpassFilterDerivatorTransformer, ScaleFactorTransformer, OffsetTransformer\n",
    "from sklearn.pipeline import Pipeline\n",
    "\n",
    "from rolldecay import database\n",
    "\n",
    "import data\n",
    "import copy\n",
    "from rolldecay import database\n",
    "from sympy.physics.vector.printing import vpprint, vlatex\n",
    "from IPython.display import display, Math, Latex"
   ]
  },
  {
   "cell_type": "code",
   "execution_count": null,
   "metadata": {},
   "outputs": [],
   "source": [
    "df_ikeda = database.load('rolldecay_simplified_ikeda',limit_score=0.5,\n",
    "                         exclude_table_name='rolldecay_exclude')\n",
    "#mask = (df_ikeda['ship_speed']==0)   ## Zero speed!\n",
    "#df_ikeda = df_ikeda.loc[mask].copy()"
   ]
  },
  {
   "cell_type": "code",
   "execution_count": null,
   "metadata": {},
   "outputs": [],
   "source": [
    "df_ikeda.describe()"
   ]
  },
  {
   "cell_type": "code",
   "execution_count": null,
   "metadata": {},
   "outputs": [],
   "source": [
    "df_ikeda['score'].mean()"
   ]
  },
  {
   "cell_type": "code",
   "execution_count": null,
   "metadata": {},
   "outputs": [],
   "source": [
    "B1_zeta_lambda = lambdify(sp.solve(equations.zeta_B1_equation, symbols.B_1)[0])\n",
    "B2_d_lambda = lambdify(sp.solve(equations.d_B2_equation, symbols.B_2)[0])\n",
    "\n",
    "def linearize(result):\n",
    "\n",
    "    g=9.81\n",
    "    rho=1000\n",
    "    m = result.Volume*rho/(result.scale_factor**3)\n",
    "    #result['B_1'] = B1_zeta_lambda(GM=result.gm, g=g, m=m, omega0=result.omega0, \n",
    "    #                                 zeta=result.zeta)\n",
    "    #result['B_2'] = B2_d_lambda(GM=result.gm, g=g, m=m, omega0=result.omega0, d=result.d)\n",
    "    \n",
    "    factor=1.0  # Factor \n",
    "    phi_a = result.phi_start.abs()/factor  # Radians\n",
    "    B_e_lambda=lambdify(sp.solve(equations.B_e_equation, symbols.B_e)[0])\n",
    "    result['B_e'] = B_e_lambda(B_1=result['B_1'], B_2=result['B_2'], omega0=result.omega0, \n",
    "                                 phi_a=phi_a)\n",
    "    \n",
    "    return result"
   ]
  },
  {
   "cell_type": "code",
   "execution_count": null,
   "metadata": {},
   "outputs": [],
   "source": [
    "#df_ikeda = linearize(df_ikeda)"
   ]
  },
  {
   "cell_type": "code",
   "execution_count": null,
   "metadata": {},
   "outputs": [],
   "source": [
    "df_ikeda.describe()"
   ]
  },
  {
   "cell_type": "code",
   "execution_count": null,
   "metadata": {},
   "outputs": [],
   "source": [
    "df_ikeda['score'].hist(bins=30)"
   ]
  },
  {
   "cell_type": "code",
   "execution_count": null,
   "metadata": {},
   "outputs": [],
   "source": [
    "df_direct = database.load('rolldecay_quadratic_b',limit_score=0.7)\n",
    "mask = (df_direct['ship_speed']==0)   ## Zero speed!\n",
    "df_direct = df_direct.loc[mask].copy()\n",
    "df_direct = linearize(df_direct)\n",
    "mask = (df_direct['B_e'] < df_direct['B_e'].quantile(q=0.98))\n",
    "df_direct=df_direct.loc[mask]"
   ]
  },
  {
   "cell_type": "code",
   "execution_count": null,
   "metadata": {},
   "outputs": [],
   "source": [
    "df_direct['score'].hist(bins=30)"
   ]
  },
  {
   "cell_type": "code",
   "execution_count": null,
   "metadata": {},
   "outputs": [],
   "source": [
    "df_direct['B_e'].hist(bins=30)"
   ]
  },
  {
   "cell_type": "code",
   "execution_count": null,
   "metadata": {},
   "outputs": [],
   "source": [
    "df_ikeda['B_e'].hist(bins=30)"
   ]
  },
  {
   "cell_type": "code",
   "execution_count": null,
   "metadata": {},
   "outputs": [],
   "source": [
    "df_compare = pd.merge(left=df_ikeda, right=df_direct, how='left', left_index=True, right_index=True,\n",
    "                     suffixes=('_ikeda',''))\n",
    "#df_compare.dropna(inplace=True,subset=['B_e','B_e_ikeda'])"
   ]
  },
  {
   "cell_type": "code",
   "execution_count": null,
   "metadata": {},
   "outputs": [],
   "source": [
    "fig,ax=plt.subplots()\n",
    "df_compare.plot(x='B_e', y='B_e_ikeda', style='o', alpha=0.5, ax=ax)\n",
    "xlim=ax.get_xlim()\n",
    "ylim=ax.get_ylim()\n",
    "ax.plot([0,xlim[1]],[0,xlim[1]],'r-')\n",
    "ax.set_xlim(xlim)\n",
    "ax.set_ylim(ylim)\n",
    "ax.set_aspect('equal', 'box')\n",
    "ax.set_xlabel('$B_e$ (Model test)')\n",
    "ax.set_ylabel('$B_e$ Ikeda')"
   ]
  },
  {
   "cell_type": "code",
   "execution_count": null,
   "metadata": {},
   "outputs": [],
   "source": [
    "fig,ax=plt.subplots()\n",
    "N=20\n",
    "bins = np.linspace(df_compare['B_e_ikeda'].min(),df_compare['B_e_ikeda'].max(),N)\n",
    "df_compare['B_e'].hist(bins=bins, ax=ax, label='linear')\n",
    "df_compare['B_e_ikeda'].hist(bins=bins, ax=ax, label='linear', alpha=0.5)\n"
   ]
  },
  {
   "cell_type": "code",
   "execution_count": null,
   "metadata": {},
   "outputs": [],
   "source": []
  },
  {
   "cell_type": "code",
   "execution_count": null,
   "metadata": {},
   "outputs": [],
   "source": []
  }
 ],
 "metadata": {
  "kernelspec": {
   "display_name": "Python 3",
   "language": "python",
   "name": "python3"
  },
  "language_info": {
   "codemirror_mode": {
    "name": "ipython",
    "version": 3
   },
   "file_extension": ".py",
   "mimetype": "text/x-python",
   "name": "python",
   "nbconvert_exporter": "python",
   "pygments_lexer": "ipython3",
   "version": "3.5.4"
  },
  "pycharm": {
   "stem_cell": {
    "cell_type": "raw",
    "metadata": {
     "collapsed": false
    },
    "source": []
   }
  }
 },
 "nbformat": 4,
 "nbformat_minor": 4
}
