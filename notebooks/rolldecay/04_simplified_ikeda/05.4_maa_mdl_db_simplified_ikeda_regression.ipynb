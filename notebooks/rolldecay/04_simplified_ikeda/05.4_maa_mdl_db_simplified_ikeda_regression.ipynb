{
 "cells": [
  {
   "cell_type": "markdown",
   "metadata": {
    "pycharm": {
     "name": "#%% md\n"
    }
   },
   "source": [
    "# Simplified Ikeda regression"
   ]
  },
  {
   "cell_type": "code",
   "execution_count": null,
   "metadata": {},
   "outputs": [],
   "source": [
    "from jupyterthemes import jtplot\n",
    "jtplot.style(theme='onedork', context='notebook', ticks=True, grid=False)"
   ]
  },
  {
   "cell_type": "code",
   "execution_count": null,
   "metadata": {},
   "outputs": [],
   "source": [
    "%matplotlib inline\n",
    "%load_ext autoreload\n",
    "%autoreload 2"
   ]
  },
  {
   "cell_type": "code",
   "execution_count": null,
   "metadata": {
    "pycharm": {
     "is_executing": false,
     "name": "#%%\n"
    }
   },
   "outputs": [],
   "source": [
    "import pandas as pd\n",
    "pd.options.display.max_rows = 999\n",
    "pd.options.display.max_columns = 999\n",
    "import numpy as np\n",
    "import matplotlib.pyplot as plt\n",
    "from pylab import rcParams\n",
    "rcParams['figure.figsize'] = 15, 5\n",
    "\n",
    "from rolldecayestimators.simplified_ikeda import calculate_roll_damping\n",
    "from rolldecayestimators import equations\n",
    "import sympy as sp\n",
    "from rolldecayestimators import symbols\n",
    "from rolldecayestimators.substitute_dynamic_symbols import lambdify\n",
    "from mdldb.tables import Run\n",
    "from rolldecayestimators.ikeda_estimator import IkedaEstimator\n",
    "from rolldecayestimators.transformers import CutTransformer, LowpassFilterDerivatorTransformer, ScaleFactorTransformer, OffsetTransformer\n",
    "from sklearn.pipeline import Pipeline\n",
    "\n",
    "from rolldecay import database\n",
    "\n",
    "import data\n",
    "import copy\n",
    "from rolldecay import database\n",
    "from sympy.physics.vector.printing import vpprint, vlatex\n",
    "from IPython.display import display, Math, Latex"
   ]
  },
  {
   "cell_type": "code",
   "execution_count": null,
   "metadata": {},
   "outputs": [],
   "source": [
    "df_ikeda = database.load('rolldecay_simplified_ikeda',limit_score=0.5)\n",
    "mask = (df_ikeda['ship_speed']==0)   ## Zero speed!\n",
    "df_ikeda = df_ikeda.loc[mask].copy()"
   ]
  },
  {
   "cell_type": "code",
   "execution_count": null,
   "metadata": {},
   "outputs": [],
   "source": [
    "df_ikeda.describe()"
   ]
  },
  {
   "cell_type": "code",
   "execution_count": null,
   "metadata": {},
   "outputs": [],
   "source": [
    "df_ikeda['score'].hist(bins=30)"
   ]
  },
  {
   "cell_type": "code",
   "execution_count": null,
   "metadata": {},
   "outputs": [],
   "source": [
    "df_linear = database.load('rolldecay_linear',limit_score=0.8)\n",
    "mask = (df_linear['ship_speed']==0)   ## Zero speed!\n",
    "df_linear = df_linear.loc[mask].copy()"
   ]
  },
  {
   "cell_type": "code",
   "execution_count": null,
   "metadata": {},
   "outputs": [],
   "source": [
    "df_linear['score'].hist(bins=30)"
   ]
  },
  {
   "cell_type": "code",
   "execution_count": null,
   "metadata": {},
   "outputs": [],
   "source": [
    "df_compare = pd.merge(left=df_ikeda, right=df_linear, how='left', left_index=True, right_index=True,\n",
    "                     suffixes=('_ikeda',''))"
   ]
  },
  {
   "cell_type": "code",
   "execution_count": null,
   "metadata": {},
   "outputs": [],
   "source": [
    "df_compare.plot(x='zeta', y='zeta_ikeda', style='.', alpha=0.5)"
   ]
  },
  {
   "cell_type": "code",
   "execution_count": null,
   "metadata": {},
   "outputs": [],
   "source": [
    "fig,ax=plt.subplots()\n",
    "N=20\n",
    "bins = np.linspace(df_compare['zeta_ikeda'].min(),df_compare['zeta_ikeda'].max(),N)\n",
    "df_compare['zeta'].hist(bins=bins, ax=ax, label='linear')\n",
    "df_compare['zeta_ikeda'].hist(bins=bins, ax=ax, label='linear', alpha=0.5)\n"
   ]
  }
 ],
 "metadata": {
  "kernelspec": {
   "display_name": "Python 3",
   "language": "python",
   "name": "python3"
  },
  "language_info": {
   "codemirror_mode": {
    "name": "ipython",
    "version": 3
   },
   "file_extension": ".py",
   "mimetype": "text/x-python",
   "name": "python",
   "nbconvert_exporter": "python",
   "pygments_lexer": "ipython3",
   "version": "3.5.4"
  },
  "pycharm": {
   "stem_cell": {
    "cell_type": "raw",
    "metadata": {
     "collapsed": false
    },
    "source": []
   }
  }
 },
 "nbformat": 4,
 "nbformat_minor": 4
}
