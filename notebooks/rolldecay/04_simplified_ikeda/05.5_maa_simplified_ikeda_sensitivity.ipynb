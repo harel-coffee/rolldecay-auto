{
 "cells": [
  {
   "cell_type": "markdown",
   "metadata": {
    "pycharm": {
     "name": "#%% md\n"
    }
   },
   "source": [
    "# Simplified Ikeda sensitivity"
   ]
  },
  {
   "cell_type": "code",
   "execution_count": null,
   "metadata": {},
   "outputs": [],
   "source": [
    "#from jupyterthemes import jtplot\n",
    "#jtplot.style(theme='onedork', context='notebook', ticks=True, grid=False)"
   ]
  },
  {
   "cell_type": "code",
   "execution_count": null,
   "metadata": {},
   "outputs": [],
   "source": [
    "%matplotlib inline\n",
    "%load_ext autoreload\n",
    "%autoreload 2"
   ]
  },
  {
   "cell_type": "code",
   "execution_count": null,
   "metadata": {
    "pycharm": {
     "is_executing": false,
     "name": "#%%\n"
    }
   },
   "outputs": [],
   "source": [
    "import pandas as pd\n",
    "pd.options.display.max_rows = 999\n",
    "pd.options.display.max_columns = 999\n",
    "import numpy as np\n",
    "import matplotlib.pyplot as plt\n",
    "from pylab import rcParams\n",
    "rcParams['figure.figsize'] = 15, 5\n",
    "\n",
    "from rolldecayestimators.simplified_ikeda import calculate_roll_damping, SimplifiedIkedaInputError\n",
    "from rolldecayestimators import equations\n",
    "import sympy as sp\n",
    "from rolldecayestimators import symbols\n",
    "from rolldecayestimators.substitute_dynamic_symbols import lambdify\n",
    "from mdldb.tables import Run\n",
    "from rolldecayestimators.ikeda_estimator import IkedaEstimator\n",
    "from rolldecayestimators.transformers import CutTransformer, LowpassFilterDerivatorTransformer, ScaleFactorTransformer, OffsetTransformer\n",
    "from sklearn.pipeline import Pipeline\n",
    "\n",
    "from rolldecay import database\n",
    "\n",
    "import data\n",
    "import copy\n",
    "from rolldecay import database\n",
    "from sympy.physics.vector.printing import vpprint, vlatex\n",
    "from IPython.display import display, Math, Latex\n",
    "from rolldecay.paper_writing import save_fig"
   ]
  },
  {
   "cell_type": "code",
   "execution_count": null,
   "metadata": {},
   "outputs": [],
   "source": [
    "from rolldecay.sensitivity import calculate"
   ]
  },
  {
   "cell_type": "code",
   "execution_count": null,
   "metadata": {},
   "outputs": [],
   "source": [
    "db = database.get_db()"
   ]
  },
  {
   "cell_type": "code",
   "execution_count": null,
   "metadata": {},
   "outputs": [],
   "source": [
    "sql =  \"\"\"\n",
    "SELECT * from\n",
    "loading_conditions\n",
    "INNER JOIN models\n",
    "    ON loading_conditions.model_number==models.model_number\n",
    "    INNER JOIN ships\n",
    "        ON ships.name == models.ship_name\n",
    "\"\"\"\n",
    "\n",
    "df = pd.read_sql_query(sql=sql, con=db.engine)"
   ]
  },
  {
   "cell_type": "code",
   "execution_count": null,
   "metadata": {},
   "outputs": [],
   "source": [
    "mask = df['Volume']>0\n",
    "df=df.loc[mask].copy()"
   ]
  },
  {
   "cell_type": "code",
   "execution_count": null,
   "metadata": {},
   "outputs": [],
   "source": [
    "df.describe()"
   ]
  },
  {
   "cell_type": "code",
   "execution_count": null,
   "metadata": {},
   "outputs": [],
   "source": [
    "df['DRAFT']=(df.TA + df.TF)/2\n",
    "df['CB'] = df.Volume/(df.lpp*df.beam*df.DRAFT)\n",
    "mask = df['CB'].abs()!=np.inf\n",
    "df=df.loc[mask]"
   ]
  },
  {
   "cell_type": "code",
   "execution_count": null,
   "metadata": {},
   "outputs": [],
   "source": [
    "df['CB'].hist(bins=30)"
   ]
  },
  {
   "cell_type": "code",
   "execution_count": null,
   "metadata": {},
   "outputs": [],
   "source": [
    "mask = ((0 < df['CB']) & (df['CB'] <=1))\n",
    "df = df.loc[mask]"
   ]
  },
  {
   "cell_type": "code",
   "execution_count": null,
   "metadata": {},
   "outputs": [],
   "source": [
    "mask = df['Volume'] == df['Volume'].median()\n",
    "ship = df.loc[mask].iloc[0]\n",
    "ship['phi_max'] = 5\n",
    "ship['omega0'] = 0.5"
   ]
  },
  {
   "cell_type": "code",
   "execution_count": null,
   "metadata": {},
   "outputs": [],
   "source": [
    "ship.Volume/(ship.lpp*ship.beam*(ship.TA+ship.TF)/2)"
   ]
  },
  {
   "cell_type": "code",
   "execution_count": null,
   "metadata": {},
   "outputs": [],
   "source": [
    "from rolldecay.sensitivity import variate_ship"
   ]
  },
  {
   "cell_type": "code",
   "execution_count": null,
   "metadata": {},
   "outputs": [],
   "source": [
    "N=30\n",
    "changes = np.linspace(0.5,1.5,N)\n",
    "df = variate_ship(ship=ship, key='lpp', changes=changes)"
   ]
  },
  {
   "cell_type": "code",
   "execution_count": null,
   "metadata": {},
   "outputs": [],
   "source": [
    "result = df.apply(func=calculate, axis=1)"
   ]
  },
  {
   "cell_type": "code",
   "execution_count": null,
   "metadata": {},
   "outputs": [],
   "source": [
    "result.plot()"
   ]
  },
  {
   "cell_type": "code",
   "execution_count": null,
   "metadata": {},
   "outputs": [],
   "source": [
    "from rolldecay.sensitivity import plot_variation, calculate_variation"
   ]
  },
  {
   "cell_type": "code",
   "execution_count": null,
   "metadata": {},
   "outputs": [],
   "source": [
    "plot_variation(ship=ship, key='lpp')"
   ]
  },
  {
   "cell_type": "code",
   "execution_count": null,
   "metadata": {},
   "outputs": [],
   "source": [
    "variations = ['lpp','beam','DRAFT','phi_max','BKL','BKB','omega0','kg','CB','A0']\n",
    "N=30\n",
    "changes = np.linspace(0.85,1.32,N)\n",
    "\n",
    "ylims=[]\n",
    "axes=[]\n",
    "for variation in variations:\n",
    "    \n",
    "    fig,ax=plt.subplots()\n",
    "    plot_variation(ship=ship, key=variation, ax=ax, changes=changes, catch_error=True)\n",
    "    ax.set_title('Variation of %s: %0.2f' % (variation, ship[variation]))\n",
    "    \n",
    "    ylims.append(list(ax.get_ylim()))\n",
    "    axes.append(ax)\n",
    "    \n",
    "for ax in axes:\n",
    "    ax.set_ylim(np.min(ylims),np.max(ylims))\n",
    "    "
   ]
  },
  {
   "cell_type": "code",
   "execution_count": null,
   "metadata": {},
   "outputs": [],
   "source": []
  },
  {
   "cell_type": "code",
   "execution_count": null,
   "metadata": {},
   "outputs": [],
   "source": [
    "plot_variation(ship=ship, key='lpp')"
   ]
  },
  {
   "cell_type": "code",
   "execution_count": null,
   "metadata": {},
   "outputs": [],
   "source": [
    "ikeda_parameters = ['lpp','beam','DRAFT','phi_max','BKL','BKB','omega0','kg','CB','A0']\n",
    "ship_=ship[ikeda_parameters]\n",
    "ship_['phi_max']=8"
   ]
  },
  {
   "cell_type": "code",
   "execution_count": null,
   "metadata": {},
   "outputs": [],
   "source": [
    "ship_"
   ]
  },
  {
   "cell_type": "code",
   "execution_count": null,
   "metadata": {},
   "outputs": [],
   "source": [
    "calculate(ship_)"
   ]
  },
  {
   "cell_type": "code",
   "execution_count": null,
   "metadata": {},
   "outputs": [],
   "source": [
    "ship2 = ship_.copy()\n",
    "scale = 0.01\n",
    "ship2['lpp']/=scale\n",
    "ship2['beam']/=scale\n",
    "ship2['DRAFT']/=scale\n",
    "ship2['BKL']/=scale\n",
    "ship2['BKB']/=scale\n",
    "ship2['kg']/=scale\n",
    "ship2['omega0']*=np.sqrt(scale)\n",
    "calculate(ship2)"
   ]
  },
  {
   "cell_type": "code",
   "execution_count": null,
   "metadata": {},
   "outputs": [],
   "source": [
    "ship2 = ship_.copy()\n",
    "scale = ship_['lpp']\n",
    "ship2['lpp']/=scale\n",
    "ship2['beam']/=scale\n",
    "ship2['DRAFT']/=scale\n",
    "ship2['BKL']/=scale\n",
    "ship2['BKB']/=scale\n",
    "ship2['kg']/=scale\n",
    "ship2['omega0']*=np.sqrt(scale)\n",
    "\n",
    "#ship2['BKB']*=10\n",
    "calculate(ship2)"
   ]
  },
  {
   "cell_type": "code",
   "execution_count": null,
   "metadata": {},
   "outputs": [],
   "source": [
    "variations = list(set(ikeda_parameters) - set(['lpp']))\n",
    "\n",
    "N=100\n",
    "changes = np.linspace(0.85,1.43,N)\n",
    "\n",
    "ylims=[]\n",
    "axes=[]\n",
    "for variation in variations:\n",
    "    \n",
    "    fig,ax=plt.subplots()\n",
    "    plot_variation(ship=ship2, key=variation, ax=ax, changes=changes, catch_error=True, \n",
    "                   plot_change_factor=False)\n",
    "     \n",
    "    ylims.append(list(ax.get_ylim()))\n",
    "    axes.append(ax)\n",
    "    ax.grid(True)\n",
    "    \n",
    "for ax in axes:\n",
    "    ax.set_ylim(np.min(ylims),np.max(ylims))"
   ]
  },
  {
   "cell_type": "code",
   "execution_count": null,
   "metadata": {},
   "outputs": [],
   "source": [
    "\n",
    "df = variate_ship(ship=ship2, key='beam', changes=changes)\n",
    "result = calculate_variation(df=df, catch_error=True)\n",
    "result = pd.concat([result,df], axis=1)"
   ]
  },
  {
   "cell_type": "code",
   "execution_count": null,
   "metadata": {},
   "outputs": [],
   "source": [
    "result['Disp'] = result['CB']*result['lpp']*result['beam']*result['DRAFT']"
   ]
  },
  {
   "cell_type": "code",
   "execution_count": null,
   "metadata": {},
   "outputs": [],
   "source": [
    "equations.B44_hat_equation"
   ]
  },
  {
   "cell_type": "code",
   "execution_count": null,
   "metadata": {},
   "outputs": [],
   "source": [
    "B44_equation = sp.Eq(symbols.B_44,sp.solve(equations.B44_hat_equation,symbols.B_44)[0])\n",
    "B44_equation"
   ]
  },
  {
   "cell_type": "code",
   "execution_count": null,
   "metadata": {},
   "outputs": [],
   "source": [
    "B44_lambda = lambdify(sp.solve(B44_equation,symbols.B_44)[0])"
   ]
  },
  {
   "cell_type": "code",
   "execution_count": null,
   "metadata": {},
   "outputs": [],
   "source": [
    "result['B44'] = B44_lambda(result['B44HAT'], result['Disp'], beam=result['beam'], g=9.81, rho=1000)"
   ]
  },
  {
   "cell_type": "code",
   "execution_count": null,
   "metadata": {},
   "outputs": [],
   "source": [
    "result.plot(x='beam', y = 'B44')"
   ]
  },
  {
   "cell_type": "code",
   "execution_count": null,
   "metadata": {},
   "outputs": [],
   "source": [
    "variations = list(set(ikeda_parameters) - set(['lpp']))\n",
    "\n",
    "N=100\n",
    "changes = np.linspace(0.7,1.32,N)\n",
    "\n",
    "ylims=[]\n",
    "axes=[]\n",
    "for variation in variations:\n",
    "    \n",
    "    fig,ax=plt.subplots()\n",
    "    df = variate_ship(ship=ship2, key=variation, changes=changes)\n",
    "    result = calculate_variation(df=df, catch_error=True)\n",
    "    #result.fillna(0,inplace=True)\n",
    "        \n",
    "    df['Disp'] = df['CB']*df['lpp']*df['beam']*df['DRAFT']\n",
    "    \n",
    "    dampings = ['B44','BW','BE','BBK']\n",
    "    for key in dampings:\n",
    "        result[key] = B44_lambda(np.array(result[key+'HAT']), np.array(df['Disp']), beam=df['beam'].astype(float),\n",
    "                                 g=9.81, rho=1000)\n",
    "    \n",
    "    result[variation]=df[variation]\n",
    "    result.plot(x=variation, y=dampings, ax=ax)\n",
    "    ax.plot(ship2[variation],0,'ro', label='reference')\n",
    "    \n",
    "    ylims.append(list(ax.get_ylim()))\n",
    "    axes.append(ax)\n",
    "    \n",
    "for ax in axes:\n",
    "    ax.set_ylim(np.min(ylims),np.max(ylims))"
   ]
  },
  {
   "cell_type": "code",
   "execution_count": null,
   "metadata": {},
   "outputs": [],
   "source": [
    "from rolldecayestimators.ikeda_speed import bilge_keel\n",
    "variation='BKB'\n",
    "N=100\n",
    "changes = np.linspace(0.5,3,N)\n",
    "df = variate_ship(ship=ship2, key=variation, changes=changes)\n",
    "result = calculate_variation(df=df, catch_error=True)"
   ]
  },
  {
   "cell_type": "code",
   "execution_count": null,
   "metadata": {},
   "outputs": [],
   "source": [
    "dddf = variate_ship(ship=ship2, key=variation, changes=changes)\n",
    "ddresult = calculate_variation(df=df, catch_error=True)"
   ]
  },
  {
   "cell_type": "code",
   "execution_count": null,
   "metadata": {},
   "outputs": [],
   "source": [
    "R=0.3/175\n",
    "df=df.astype(float)\n",
    "\n",
    "def calculate_bilge_keel(row,R):\n",
    "    OG=-row.kg + row.DRAFT\n",
    "    Ho=(row['beam']/(2*row['DRAFT'])  )\n",
    "    A=(row['A0']*row['beam']*row['DRAFT'])\n",
    "    \n",
    "    Bp44BK_N0, Bp44BK_H0, B44BK_L, B44BKW0 = bilge_keel(w=row['omega0'], \n",
    "               fi_a=np.deg2rad(row['phi_max']), V=0, B=row['beam'], \n",
    "               d=row['DRAFT'], \n",
    "               A=A, bBK=row['BKB'], R=R, g=9.81, OG=OG, Ho=Ho, ra=1000)\n",
    "    \n",
    "    s = pd.Series(name=row.name)\n",
    "    s['Bp44BK_N0'] = Bp44BK_N0\n",
    "    s['Bp44BK_H0'] = Bp44BK_H0\n",
    "    s['B44BK_L'] = B44BK_L\n",
    "    s['B44BKW0'] = B44BKW0\n",
    "    \n",
    "    LBK = row.BKL\n",
    "    B44BK_N0 = Bp44BK_N0*LBK\n",
    "    B44BK_H0 = Bp44BK_H0*LBK\n",
    "    B44BK_L = B44BK_L\n",
    "    # B44BKW0 = B44BKW0 * dim...\n",
    "    B44_BK = B44BK_N0 + B44BK_H0 + B44BK_L\n",
    "    s['B44_BK'] = B44_BK\n",
    "    \n",
    "    return s"
   ]
  },
  {
   "cell_type": "code",
   "execution_count": null,
   "metadata": {},
   "outputs": [],
   "source": [
    "result2 = df.apply(func=calculate_bilge_keel, R=R, axis=1)"
   ]
  },
  {
   "cell_type": "code",
   "execution_count": null,
   "metadata": {},
   "outputs": [],
   "source": [
    "key='BBK'\n",
    "df['Disp'] = df['CB']*df['lpp']*df['beam']*df['DRAFT']\n",
    "result[key] = B44_lambda(np.array(result[key+'HAT']), np.array(df['Disp']), beam=df['beam'].astype(float),\n",
    "                                 g=9.81, rho=1000)"
   ]
  },
  {
   "cell_type": "code",
   "execution_count": null,
   "metadata": {},
   "outputs": [],
   "source": [
    "fig,ax=plt.subplots()\n",
    "result.plot(y='BBK', ax=ax)\n",
    "result2.plot(y='B44_BK', ax=ax)"
   ]
  },
  {
   "cell_type": "code",
   "execution_count": null,
   "metadata": {},
   "outputs": [],
   "source": [
    "df_rolldecay = database.load(rolldecay_table_name='rolldecay_quadratic_b', limit_score=0.90,\n",
    "                             exclude_table_name='rolldecay_exclude')\n",
    "db = database.get_db()"
   ]
  },
  {
   "cell_type": "code",
   "execution_count": null,
   "metadata": {},
   "outputs": [],
   "source": [
    "loading_conditions=df_rolldecay.copy()\n",
    "scale = np.array(loading_conditions['lpp'])\n",
    "loading_conditions['lpp']/=scale\n",
    "loading_conditions['beam']/=scale\n",
    "loading_conditions['DRAFT']=(loading_conditions['TA']+loading_conditions['TF'])/2/scale\n",
    "loading_conditions['BKL']/=scale\n",
    "loading_conditions['BKB']/=scale\n",
    "loading_conditions['kg']/=scale\n",
    "volume = loading_conditions['Volume']/scale**3\n",
    "lpp=loading_conditions['lpp']\n",
    "T=loading_conditions['DRAFT']\n",
    "beam=loading_conditions['beam']\n",
    "loading_conditions['phi_max']=np.rad2deg(loading_conditions['phi_start'].abs())\n",
    "\n",
    "loading_conditions['CB']=volume/(lpp*beam*T)"
   ]
  },
  {
   "cell_type": "code",
   "execution_count": null,
   "metadata": {},
   "outputs": [],
   "source": [
    "variations = list(set(ikeda_parameters) - set(['lpp']))\n",
    "\n",
    "N=100\n",
    "ship2.omega0 = loading_conditions['omega0'].median()\n",
    "ylimss=[]\n",
    "axes=[]\n",
    "fig,axes=plt.subplots(nrows=len(variations))\n",
    "\n",
    "for variation,ax in zip(variations,axes):\n",
    "    \n",
    "    s = loading_conditions[variation]\n",
    "    changes = np.linspace(s.min(),s.max(),N)/ship2[variation]\n",
    "    \n",
    "    \n",
    "    df = variate_ship(ship=ship2, key=variation, changes=changes)\n",
    "    result = calculate_variation(df=df, catch_error=True)\n",
    "    #result.fillna(0,inplace=True)\n",
    "        \n",
    "    df['Disp'] = df['CB']*df['lpp']*df['beam']*df['DRAFT']\n",
    "    \n",
    "    dampings = ['B44','BW','BE','BBK']\n",
    "    for key in dampings:\n",
    "        result[key] = B44_lambda(np.array(result[key+'HAT']), np.array(df['Disp']), beam=df['beam'].astype(float),\n",
    "                                 g=9.81, rho=1000)\n",
    "    \n",
    "    result[variation]=df[variation]\n",
    "    result.plot(x=variation, y=dampings, ax=ax)\n",
    "    ylims = ax.get_ylim()\n",
    "    ax.plot([ship2[variation],ship2[variation]],ylims,'r--', label='median ship')\n",
    "    ax.get_legend().remove()\n",
    "    \n",
    "axes[0].legend()\n",
    "plt.tight_layout()\n",
    "\n",
    "save_fig(fig=fig, name='ikeda_variation', full_page=True)"
   ]
  },
  {
   "cell_type": "code",
   "execution_count": null,
   "metadata": {},
   "outputs": [],
   "source": []
  }
 ],
 "metadata": {
  "kernelspec": {
   "display_name": "Python 3",
   "language": "python",
   "name": "python3"
  },
  "language_info": {
   "codemirror_mode": {
    "name": "ipython",
    "version": 3
   },
   "file_extension": ".py",
   "mimetype": "text/x-python",
   "name": "python",
   "nbconvert_exporter": "python",
   "pygments_lexer": "ipython3",
   "version": "3.5.4"
  },
  "pycharm": {
   "stem_cell": {
    "cell_type": "raw",
    "metadata": {
     "collapsed": false
    },
    "source": []
   }
  }
 },
 "nbformat": 4,
 "nbformat_minor": 4
}
