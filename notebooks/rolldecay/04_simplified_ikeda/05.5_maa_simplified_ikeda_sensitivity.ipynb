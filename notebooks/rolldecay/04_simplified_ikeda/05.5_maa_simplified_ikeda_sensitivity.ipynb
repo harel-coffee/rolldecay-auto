{
 "cells": [
  {
   "cell_type": "markdown",
   "metadata": {
    "pycharm": {
     "name": "#%% md\n"
    }
   },
   "source": [
    "# Simplified Ikeda sensitivity"
   ]
  },
  {
   "cell_type": "code",
   "execution_count": null,
   "metadata": {},
   "outputs": [],
   "source": [
    "from jupyterthemes import jtplot\n",
    "jtplot.style(theme='onedork', context='notebook', ticks=True, grid=False)"
   ]
  },
  {
   "cell_type": "code",
   "execution_count": null,
   "metadata": {},
   "outputs": [],
   "source": [
    "%matplotlib inline\n",
    "%load_ext autoreload\n",
    "%autoreload 2"
   ]
  },
  {
   "cell_type": "code",
   "execution_count": null,
   "metadata": {
    "pycharm": {
     "is_executing": false,
     "name": "#%%\n"
    }
   },
   "outputs": [],
   "source": [
    "import pandas as pd\n",
    "pd.options.display.max_rows = 999\n",
    "pd.options.display.max_columns = 999\n",
    "import numpy as np\n",
    "import matplotlib.pyplot as plt\n",
    "from pylab import rcParams\n",
    "rcParams['figure.figsize'] = 15, 5\n",
    "\n",
    "from rolldecayestimators.simplified_ikeda import calculate_roll_damping, SimplifiedIkedaInputError\n",
    "from rolldecayestimators import equations\n",
    "import sympy as sp\n",
    "from rolldecayestimators import symbols\n",
    "from rolldecayestimators.substitute_dynamic_symbols import lambdify\n",
    "from mdldb.tables import Run\n",
    "from rolldecayestimators.ikeda_estimator import IkedaEstimator\n",
    "from rolldecayestimators.transformers import CutTransformer, LowpassFilterDerivatorTransformer, ScaleFactorTransformer, OffsetTransformer\n",
    "from sklearn.pipeline import Pipeline\n",
    "\n",
    "from rolldecay import database\n",
    "\n",
    "import data\n",
    "import copy\n",
    "from rolldecay import database\n",
    "from sympy.physics.vector.printing import vpprint, vlatex\n",
    "from IPython.display import display, Math, Latex"
   ]
  },
  {
   "cell_type": "code",
   "execution_count": null,
   "metadata": {},
   "outputs": [],
   "source": [
    "def calculate(row):\n",
    "    \n",
    "    LPP = row.lpp\n",
    "    Beam = row.beam\n",
    "    DRAFT = row.DRAFT\n",
    "    \n",
    "    PHI = row.phi_max\n",
    "    lBK = row.BKL\n",
    "    bBK = row.BKB\n",
    "    OMEGA = row.omega0\n",
    "    OG = (-row.kg+DRAFT)\n",
    "    CB = row.CB\n",
    "    CMID = row.A0\n",
    "    \n",
    "    s = pd.Series()\n",
    "    try:\n",
    "        B44HAT, BFHAT, BWHAT, BEHAT, BBKHAT = calculate_roll_damping(LPP,Beam,CB,CMID,OG,PHI,lBK,bBK,OMEGA,DRAFT)\n",
    "    except SimplifiedIkedaInputError:\n",
    "        return s\n",
    "        \n",
    "    s['B44HAT'] = B44HAT\n",
    "    s['BFHAT'] = BFHAT\n",
    "    s['BWHAT'] = BWHAT\n",
    "    s['BEHAT'] = BEHAT\n",
    "    s['BBKHAT'] = BBKHAT\n",
    "    return s"
   ]
  },
  {
   "cell_type": "code",
   "execution_count": null,
   "metadata": {},
   "outputs": [],
   "source": [
    "db = database.get_db()"
   ]
  },
  {
   "cell_type": "code",
   "execution_count": null,
   "metadata": {},
   "outputs": [],
   "source": [
    "sql =  \"\"\"\n",
    "SELECT * from\n",
    "loading_conditions\n",
    "INNER JOIN models\n",
    "    ON loading_conditions.model_number==models.model_number\n",
    "    INNER JOIN ships\n",
    "        ON ships.name == models.ship_name\n",
    "\"\"\"\n",
    "\n",
    "df = pd.read_sql_query(sql=sql, con=db.engine)"
   ]
  },
  {
   "cell_type": "code",
   "execution_count": null,
   "metadata": {},
   "outputs": [],
   "source": [
    "mask = df['Volume']>0\n",
    "df=df.loc[mask].copy()"
   ]
  },
  {
   "cell_type": "code",
   "execution_count": null,
   "metadata": {},
   "outputs": [],
   "source": [
    "df.describe()"
   ]
  },
  {
   "cell_type": "code",
   "execution_count": null,
   "metadata": {},
   "outputs": [],
   "source": [
    "df['DRAFT']=(df.TA + df.TF)/2\n",
    "df['CB'] = df.Volume/(df.lpp*df.beam*df.DRAFT)\n",
    "mask = df['CB'].abs()!=np.inf\n",
    "df=df.loc[mask]"
   ]
  },
  {
   "cell_type": "code",
   "execution_count": null,
   "metadata": {},
   "outputs": [],
   "source": [
    "df['CB'].hist(bins=30)"
   ]
  },
  {
   "cell_type": "code",
   "execution_count": null,
   "metadata": {},
   "outputs": [],
   "source": [
    "mask = ((0 < df['CB']) & (df['CB'] <=1))\n",
    "df = df.loc[mask]"
   ]
  },
  {
   "cell_type": "code",
   "execution_count": null,
   "metadata": {},
   "outputs": [],
   "source": [
    "mask = df['Volume'] == df['Volume'].median()\n",
    "ship = df.loc[mask].iloc[0]\n",
    "ship['phi_max'] = 5\n",
    "ship['omega0'] = 0.5"
   ]
  },
  {
   "cell_type": "code",
   "execution_count": null,
   "metadata": {},
   "outputs": [],
   "source": [
    "ship.Volume/(ship.lpp*ship.beam*(ship.TA+ship.TF)/2)"
   ]
  },
  {
   "cell_type": "code",
   "execution_count": null,
   "metadata": {},
   "outputs": [],
   "source": [
    "def variate_ship(ship,key,changes):\n",
    "    N = len(changes)\n",
    "    data = np.tile(ship.values,(N,1))\n",
    "    \n",
    "    df = pd.DataFrame(data=data, columns=ship.index)\n",
    "    variations = changes*ship[key]\n",
    "    df[key]=variations\n",
    "    df.index = df[key].copy()\n",
    "    \n",
    "    return df\n",
    "    "
   ]
  },
  {
   "cell_type": "code",
   "execution_count": null,
   "metadata": {},
   "outputs": [],
   "source": [
    "N=30\n",
    "changes = np.linspace(0.5,1.5,N)\n",
    "df = variate_ship(ship=ship, key='lpp', changes=changes)"
   ]
  },
  {
   "cell_type": "code",
   "execution_count": null,
   "metadata": {},
   "outputs": [],
   "source": [
    "result = df.apply(func=calculate, axis=1)"
   ]
  },
  {
   "cell_type": "code",
   "execution_count": null,
   "metadata": {},
   "outputs": [],
   "source": [
    "result.plot()"
   ]
  },
  {
   "cell_type": "code",
   "execution_count": null,
   "metadata": {},
   "outputs": [],
   "source": [
    "def plot_variation(ship=ship, key='lpp', changes=None, ax=None):\n",
    "\n",
    "    if changes is None:\n",
    "        N=30\n",
    "        changes = np.linspace(0.5,1.5,N)\n",
    "    \n",
    "    if ax is None:\n",
    "        fig,ax=plt.subplots()\n",
    "    \n",
    "    df = variate_ship(ship=ship, key=key, changes=changes)\n",
    "    result = df.apply(func=calculate, axis=1)\n",
    "    result['change factor']=changes\n",
    "    result.plot(x='change factor',ax=ax)\n",
    "    \n",
    "    return ax\n",
    "    "
   ]
  },
  {
   "cell_type": "code",
   "execution_count": null,
   "metadata": {},
   "outputs": [],
   "source": [
    "plot_variation(ship=ship, key='lpp')"
   ]
  },
  {
   "cell_type": "code",
   "execution_count": null,
   "metadata": {},
   "outputs": [],
   "source": [
    "variations = ['lpp','beam','DRAFT','phi_max','BKL','BKB','omega0','kg','CB','A0']\n",
    "N=30\n",
    "changes = np.linspace(0.7,1.32,N)\n",
    "\n",
    "ylims=[]\n",
    "axes=[]\n",
    "for variation in variations:\n",
    "    \n",
    "    fig,ax=plt.subplots()\n",
    "    plot_variation(ship=ship, key=variation, ax=ax, changes=changes)\n",
    "    ax.set_title('Variation of %s: %0.2f' % (variation, ship[variation]))\n",
    "    \n",
    "    ylims.append(list(ax.get_ylim()))\n",
    "    axes.append(ax)\n",
    "    \n",
    "for ax in axes:\n",
    "    ax.set_ylim(np.min(ylims),np.max(ylims))\n",
    "    "
   ]
  }
 ],
 "metadata": {
  "kernelspec": {
   "display_name": "Python 3",
   "language": "python",
   "name": "python3"
  },
  "language_info": {
   "codemirror_mode": {
    "name": "ipython",
    "version": 3
   },
   "file_extension": ".py",
   "mimetype": "text/x-python",
   "name": "python",
   "nbconvert_exporter": "python",
   "pygments_lexer": "ipython3",
   "version": "3.5.4"
  },
  "pycharm": {
   "stem_cell": {
    "cell_type": "raw",
    "metadata": {
     "collapsed": false
    },
    "source": []
   }
  }
 },
 "nbformat": 4,
 "nbformat_minor": 4
}
