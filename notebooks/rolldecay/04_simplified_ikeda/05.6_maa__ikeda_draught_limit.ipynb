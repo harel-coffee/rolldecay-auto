{
 "cells": [
  {
   "cell_type": "markdown",
   "metadata": {},
   "source": [
    "# $\\hat{B_1}$ damping regression with a little help from Ikeda"
   ]
  },
  {
   "cell_type": "code",
   "execution_count": null,
   "metadata": {},
   "outputs": [],
   "source": [
    "%matplotlib inline\n",
    "%load_ext autoreload\n",
    "%autoreload 2"
   ]
  },
  {
   "cell_type": "code",
   "execution_count": null,
   "metadata": {},
   "outputs": [],
   "source": [
    "#from jupyterthemes import jtplot\n",
    "#jtplot.style(theme='onedork', context='notebook', ticks=True, grid=False)"
   ]
  },
  {
   "cell_type": "code",
   "execution_count": null,
   "metadata": {
    "pycharm": {
     "is_executing": false
    }
   },
   "outputs": [],
   "source": [
    "import pandas as pd\n",
    "pd.options.display.max_rows = 999\n",
    "pd.options.display.max_columns = 999\n",
    "pd.set_option(\"display.max_columns\", None)\n",
    "import numpy as np\n",
    "import os\n",
    "import matplotlib.pyplot as plt\n",
    "from pylab import rcParams\n",
    "rcParams['figure.figsize'] = 15, 5\n",
    "\n",
    "#import data\n",
    "import copy\n",
    "from rolldecay.bis_system import BisSystem\n",
    "from rolldecay import database\n",
    "\n",
    "from sklearn.pipeline import Pipeline\n",
    "from sklearn.model_selection import cross_val_score\n",
    "from sklearn.model_selection import train_test_split\n",
    "from sklearn.preprocessing import StandardScaler\n",
    "from sklearn.feature_selection import VarianceThreshold\n",
    "from sklearn.ensemble import ExtraTreesClassifier\n",
    "from sklearn.feature_selection import SelectKBest\n",
    "from sklearn.feature_selection import chi2\n",
    "from sklearn.feature_selection import f_regression\n",
    "\n",
    "from sklearn.linear_model import LinearRegression\n",
    "from sklearn.model_selection import cross_validate\n",
    "from sklearn.preprocessing import PolynomialFeatures\n",
    "from sklearn.pipeline import Pipeline\n",
    "from sklearn.pipeline import make_pipeline\n",
    "\n",
    "import signal_lab\n",
    "from sqlalchemy.inspection import inspect\n",
    "import seaborn as sns\n",
    "import docs\n",
    "import pickle\n",
    "from rolldecayestimators.polynom_estimator import Polynom\n",
    "from rolldecayestimators import symbols\n",
    "from rolldecay import database\n",
    "import rolldecayestimators.simplified_ikeda as simplified_ikeda\n",
    "from rolldecayestimators.ikeda_estimator import IkedaQuadraticEstimator\n",
    "import rolldecayestimators.lambdas as lambdas\n",
    "from rolldecayestimators.substitute_dynamic_symbols import run, lambdify\n",
    "import rolldecayestimators.equations as equations\n",
    "import rolldecayestimators.symbols as symbols\n",
    "import sympy as sp\n",
    "from rolldecay.paper_writing import save_fig"
   ]
  },
  {
   "cell_type": "code",
   "execution_count": null,
   "metadata": {},
   "outputs": [],
   "source": [
    "data = pd.read_pickle('../05_new_method/data.sav')\n",
    "y_s = pd.read_pickle('../05_new_method/y.sav')"
   ]
  },
  {
   "cell_type": "code",
   "execution_count": null,
   "metadata": {},
   "outputs": [],
   "source": [
    "#df_rolldecay = database.load(rolldecay_table_name='rolldecay_cubic_b', limit_score=0.90, \n",
    "#                             exclude_table_name='rolldecay_exclude')\n",
    "\n",
    "df_rolldecay = database.load(rolldecay_table_name='rolldecay_simplified_ikeda', limit_score=-np.inf, \n",
    "                             exclude_table_name='rolldecay_exclude')"
   ]
  },
  {
   "cell_type": "code",
   "execution_count": null,
   "metadata": {},
   "outputs": [],
   "source": [
    "T_f=df_rolldecay['TF']\n",
    "T_a=df_rolldecay['TA']\n",
    "L_pp=df_rolldecay['lpp']\n",
    "mask=T_f!=T_a\n",
    "\n",
    "df_rolldecay['trim']=np.arctan((T_a-T_f)/L_pp)\n",
    "df_rolldecay.loc[mask][['TF','TA','trim']]"
   ]
  },
  {
   "cell_type": "code",
   "execution_count": null,
   "metadata": {},
   "outputs": [],
   "source": [
    "mask = df_rolldecay['trim'].abs() < np.deg2rad(0.3)\n",
    "df_rolldecay=df_rolldecay.loc[mask].copy()"
   ]
  },
  {
   "cell_type": "code",
   "execution_count": null,
   "metadata": {},
   "outputs": [],
   "source": [
    "T_f=df_rolldecay['TF']\n",
    "T_a=df_rolldecay['TA']\n",
    "L_pp=df_rolldecay['lpp']\n",
    "mask=T_f!=T_a\n",
    "\n",
    "df_rolldecay['trim']=np.arctan((T_a-T_f)/L_pp)\n",
    "df_rolldecay.loc[mask][['TF','TA','trim']]"
   ]
  },
  {
   "cell_type": "code",
   "execution_count": null,
   "metadata": {},
   "outputs": [],
   "source": [
    "index = list(set(df_rolldecay.index) & set(data.index))\n",
    "df_rolldecay=df_rolldecay.loc[index].copy()\n",
    "\n",
    "data=data.loc[index].copy()\n",
    "\n",
    "data['omega0']=df_rolldecay['omega0']\n",
    "data['TA']=data['T']\n",
    "data['TF']=data['T']"
   ]
  },
  {
   "cell_type": "code",
   "execution_count": null,
   "metadata": {},
   "outputs": [],
   "source": []
  },
  {
   "cell_type": "code",
   "execution_count": null,
   "metadata": {},
   "outputs": [],
   "source": [
    "y_s.columns"
   ]
  },
  {
   "cell_type": "code",
   "execution_count": null,
   "metadata": {},
   "outputs": [],
   "source": [
    "data.columns"
   ]
  },
  {
   "cell_type": "code",
   "execution_count": null,
   "metadata": {},
   "outputs": [],
   "source": [
    "phi_max = 8"
   ]
  },
  {
   "cell_type": "code",
   "execution_count": null,
   "metadata": {},
   "outputs": [],
   "source": [
    "def calculate_ikeda(row, phi_max):\n",
    "    \n",
    "    ikeda_parameters = {\n",
    "\n",
    "            'LPP' : row.L_pp,\n",
    "            'Beam' : row.beam,\n",
    "            'DRAFT' : row['T'],\n",
    "\n",
    "            'PHI' : phi_max,\n",
    "            'lBK' : row.BK_L,\n",
    "            'bBK' : row.BK_B,\n",
    "            'OMEGA' : row.omega0,\n",
    "            'OG' : (-row.kg + row['T']),\n",
    "            'CB' : row.C_b,\n",
    "            'CMID' : row.A_0,\n",
    "            'V':row.V,\n",
    "\n",
    "        } \n",
    "        \n",
    "    estimator = IkedaQuadraticEstimator(lpp=row.L_pp, \n",
    "                            TA=row.TA, \n",
    "                            TF=row.TF,\n",
    "                            beam=row.beam, \n",
    "                            BKL=row.BK_L, \n",
    "                            BKB=row.BK_B, \n",
    "                            A0=row.A_0, \n",
    "                            kg=row.kg, \n",
    "                            Volume=row.Disp, \n",
    "                            gm=row.GM, \n",
    "                            V=row.V, \n",
    "                            rho=1000, \n",
    "                            g=9.81, \n",
    "                            phi_max=phi_max,\n",
    "                            omega0=row.omega0)\n",
    "    estimator.fit()\n",
    "    s = estimator.result_for_database(score=False)\n",
    "    \n",
    "    return pd.Series(s,name=row.name)"
   ]
  },
  {
   "cell_type": "code",
   "execution_count": null,
   "metadata": {},
   "outputs": [],
   "source": [
    "result = data.apply(func=calculate_ikeda, phi_max=phi_max, axis=1)"
   ]
  },
  {
   "cell_type": "code",
   "execution_count": null,
   "metadata": {},
   "outputs": [],
   "source": [
    "result.head()"
   ]
  },
  {
   "cell_type": "code",
   "execution_count": null,
   "metadata": {},
   "outputs": [],
   "source": [
    "df_ikeda = pd.concat([data,result], sort=False, axis=1)"
   ]
  },
  {
   "cell_type": "code",
   "execution_count": null,
   "metadata": {},
   "outputs": [],
   "source": [
    "df_ikeda.head()"
   ]
  },
  {
   "cell_type": "code",
   "execution_count": null,
   "metadata": {},
   "outputs": [],
   "source": [
    "df_ikeda['g']=9.81\n",
    "df_ikeda['rho']=1000\n",
    "df_ikeda['B_1_hat'] = run(function=lambdas.B_1_hat_lambda, inputs=df_ikeda)\n",
    "df_ikeda['B_2_hat'] = run(function=lambdas.B_2_hat_lambda, inputs=df_ikeda)"
   ]
  },
  {
   "cell_type": "code",
   "execution_count": null,
   "metadata": {},
   "outputs": [],
   "source": [
    "equations.B_e_equation"
   ]
  },
  {
   "cell_type": "code",
   "execution_count": null,
   "metadata": {},
   "outputs": [],
   "source": [
    "B_e_hat_equation = equations.B44_hat_equation.subs([(symbols.B_44_hat, symbols.B_e_hat),\n",
    "                                 (symbols.B_44, symbols.B_e),\n",
    "                                ])\n",
    "B_e_hat_equation"
   ]
  },
  {
   "cell_type": "code",
   "execution_count": null,
   "metadata": {},
   "outputs": [],
   "source": [
    "eqs=[equations.B_1_hat_equation,\n",
    "equations.B_2_hat_equation,\n",
    "equations.B_e_equation,\n",
    "B_e_hat_equation]\n",
    "B_e_equation = sp.Eq(symbols.B_e_hat,sp.solve(eqs,symbols.B_1,symbols.B_2,symbols.B_e,\n",
    "                                          symbols.B_e_hat)[symbols.B_e_hat])\n",
    "B_e_equation"
   ]
  },
  {
   "cell_type": "code",
   "execution_count": null,
   "metadata": {},
   "outputs": [],
   "source": [
    "B_e_lambda = lambdify(sp.solve(B_e_equation,symbols.B_e_hat)[0])"
   ]
  },
  {
   "cell_type": "code",
   "execution_count": null,
   "metadata": {},
   "outputs": [],
   "source": [
    "inputs = y_s.copy()\n",
    "inputs['phi_a'] = np.deg2rad(phi_max)\n",
    "inputs['g']=9.81\n",
    "inputs['omega0']=data['omega0']\n",
    "inputs['beam']=data['beam']\n",
    "\n",
    "y_s['B_e_hat'] = run(function=B_e_lambda, inputs=inputs)"
   ]
  },
  {
   "cell_type": "code",
   "execution_count": null,
   "metadata": {},
   "outputs": [],
   "source": [
    "y_s['B_e_hat'].hist()"
   ]
  },
  {
   "cell_type": "code",
   "execution_count": null,
   "metadata": {},
   "outputs": [],
   "source": [
    "df_ikeda.head()"
   ]
  },
  {
   "cell_type": "code",
   "execution_count": null,
   "metadata": {},
   "outputs": [],
   "source": [
    " df_ikeda = df_ikeda.loc[:, ~df_ikeda.columns.duplicated()]"
   ]
  },
  {
   "cell_type": "code",
   "execution_count": null,
   "metadata": {},
   "outputs": [],
   "source": [
    "df_ikeda['phi_a'] = np.deg2rad(phi_max)\n",
    "df_ikeda['B_e_hat'] = run(function=B_e_lambda, inputs=df_ikeda)"
   ]
  },
  {
   "cell_type": "code",
   "execution_count": null,
   "metadata": {},
   "outputs": [],
   "source": [
    "df_compare = pd.merge(left=y_s, right=df_ikeda, how = 'inner',left_index=True, right_index=True,\n",
    "                      suffixes=('','_ikeda'))"
   ]
  },
  {
   "cell_type": "code",
   "execution_count": null,
   "metadata": {},
   "outputs": [],
   "source": [
    "fig,ax=plt.subplots()\n",
    "df_compare.plot(x='B_e_hat', y='B_e_hat_ikeda', style='o', alpha=0.5, ax=ax)\n",
    "#save_fig(fig=fig, name='B_e_hat_ikeda')"
   ]
  },
  {
   "cell_type": "code",
   "execution_count": null,
   "metadata": {},
   "outputs": [],
   "source": [
    "from sklearn.metrics import r2_score\n",
    "r2_score(y_true=df_compare['B_e_hat'], y_pred=df_compare['B_e_hat_ikeda'])"
   ]
  },
  {
   "cell_type": "code",
   "execution_count": null,
   "metadata": {},
   "outputs": [],
   "source": [
    "df_compare['error'] = (df_compare['B_e_hat']-df_compare['B_e_hat_ikeda']).abs()"
   ]
  },
  {
   "cell_type": "code",
   "execution_count": null,
   "metadata": {},
   "outputs": [],
   "source": [
    "df_compare2 = df_compare.copy()\n",
    "lpp = df_compare2['L_pp']\n",
    "df_compare2['BK_B']/=lpp\n",
    "df_compare2['BK_L']/=lpp\n",
    "df_compare2['T']/=lpp\n",
    "df_compare2['V']/=np.sqrt(lpp)\n",
    "df_compare2['omega0']*=np.sqrt(lpp)\n",
    "df_compare2['kg']/=lpp\n",
    "df_compare2['GM']/=lpp\n",
    "df_compare2['beam']/=lpp\n",
    "#df_compare2['Cb']=df_compare2['Disp']\n",
    "\n",
    "df_compare2.plot(x='kg', y='error', style='o', alpha=0.5)\n",
    "\n",
    "fig,ax=plt.subplots()\n",
    "df_compare2.plot(x='T', y='error', style='o', alpha=0.5,ax=ax)\n",
    "#save_fig(fig=fig, name='B_e_hat_error')\n",
    "\n",
    "df_compare2.plot(x='GM', y='error', style='o', alpha=0.5)\n",
    "df_compare2.plot(x='V', y='error', style='o', alpha=0.5)\n",
    "df_compare2.plot(x='C_b', y='error', style='o', alpha=0.5)\n"
   ]
  },
  {
   "cell_type": "code",
   "execution_count": null,
   "metadata": {},
   "outputs": [],
   "source": [
    "fig,ax=plt.subplots()\n",
    "mask = ((df_compare2['T']>0.035) & (df_compare2['beam']<0.23))\n",
    "df_compare_good = df_compare.loc[mask]\n",
    "df_compare_good.plot(x='B_e_hat', y='B_e_hat_ikeda', style='o', alpha=0.5, ax=ax)\n",
    "#save_fig(fig=fig, name='B_e_hat_good')\n"
   ]
  },
  {
   "cell_type": "code",
   "execution_count": null,
   "metadata": {},
   "outputs": [],
   "source": [
    "df_compare_good.plot(x='V', y='error', style='o', alpha=0.5)"
   ]
  },
  {
   "cell_type": "code",
   "execution_count": null,
   "metadata": {},
   "outputs": [],
   "source": [
    "name = df_compare_good.sort_values(by='error', ascending=False).iloc[0].name\n",
    "meta_data = df_rolldecay.loc[name]"
   ]
  },
  {
   "cell_type": "code",
   "execution_count": null,
   "metadata": {},
   "outputs": [],
   "source": [
    "print(meta_data.project_path)"
   ]
  },
  {
   "cell_type": "code",
   "execution_count": null,
   "metadata": {},
   "outputs": [],
   "source": [
    "meta_data"
   ]
  },
  {
   "cell_type": "code",
   "execution_count": null,
   "metadata": {},
   "outputs": [],
   "source": [
    "r2_score(y_true=df_compare_good['B_e_hat'], y_pred=df_compare_good.loc[mask]['B_e_hat_ikeda'])"
   ]
  },
  {
   "cell_type": "code",
   "execution_count": null,
   "metadata": {},
   "outputs": [],
   "source": [
    "df_compare_good.plot(x='B_1_hat', y='B_1_hat_ikeda', style='o', alpha=0.5)"
   ]
  },
  {
   "cell_type": "code",
   "execution_count": null,
   "metadata": {},
   "outputs": [],
   "source": [
    "r2_score(y_true=df_compare_good['B_1_hat'], y_pred=df_compare_good['B_1_hat_ikeda'])"
   ]
  },
  {
   "cell_type": "code",
   "execution_count": null,
   "metadata": {},
   "outputs": [],
   "source": [
    "df_compare_good.plot(x='B_2_hat', y='B_2_hat_ikeda', style='o', alpha=0.5)"
   ]
  },
  {
   "cell_type": "code",
   "execution_count": null,
   "metadata": {},
   "outputs": [],
   "source": [
    "r2_score(y_true=df_compare_good['B_2_hat'], y_pred=df_compare_good['B_2_hat_ikeda'])"
   ]
  },
  {
   "cell_type": "code",
   "execution_count": null,
   "metadata": {},
   "outputs": [],
   "source": []
  },
  {
   "cell_type": "code",
   "execution_count": null,
   "metadata": {},
   "outputs": [],
   "source": [
    "df_ikeda.head()"
   ]
  },
  {
   "cell_type": "code",
   "execution_count": null,
   "metadata": {},
   "outputs": [],
   "source": [
    "df_ikeda['phi_max']=phi_max\n",
    "ikeda_parameters = ['L_pp','beam','T','phi_max','BK_L','BK_B','omega0','kg','C_b','A_0','V']\n",
    "df_ikeda[ikeda_parameters].head()"
   ]
  },
  {
   "cell_type": "code",
   "execution_count": null,
   "metadata": {},
   "outputs": [],
   "source": [
    "data['phi_max']=phi_max\n",
    "data[ikeda_parameters].head()"
   ]
  },
  {
   "cell_type": "code",
   "execution_count": null,
   "metadata": {},
   "outputs": [],
   "source": [
    "from rolldecay.froude_scaling import froude_scale\n",
    "db = database.get_db()\n",
    "description = pd.read_sql_table('description', con=db.engine, index_col='id')\n",
    "description.loc['ship_speed','unit']='m/s'\n",
    "description.loc['VDES','unit']='m/s'\n",
    "\n",
    "description.loc['phi_start'] = {'description':'roll at start of test','unit':'rad'}\n",
    "description.loc['phi_stop'] = {'description':'roll at end of test','unit':'rad'}\n",
    "description.loc['Disp'] = {'description':'Ship discplacement','unit':'m3'}\n",
    "description.loc['L_pp'] = {'description':'Perpendicular length','unit':'m'}\n",
    "description.loc['A_R'] = {'description':'Rudder area','unit':'m2'}\n",
    "\n",
    "skip = [\n",
    "    'model_number',\n",
    "    'loading_condition_id',\n",
    "    'B_1A',\n",
    "    'B_2A',\n",
    "    'B_3A',\n",
    "    'C_1A',\n",
    "    'C_3A',\n",
    "    'C_5A',\n",
    "    'B_1A',\n",
    "    'B_1',\n",
    "    'B_2',\n",
    "    'B_3',\n",
    "    'C_1',\n",
    "    'C_3',\n",
    "    'C_5',\n",
    "    'A_44',\n",
    "    'omega0_fft',\n",
    "    'omega0',\n",
    "    'score',\n",
    "    'id',\n",
    "    'project_number',\n",
    "    'series_number',\n",
    "    'run_number',\n",
    "    'test_number',\n",
    "    'scale_factor',\n",
    "    'g',\n",
    "    'rho',\n",
    "    'B_1_hat',\n",
    "    'B_2_hat',\n",
    "    'CB',\n",
    "    'I_RUD',\n",
    "    'C_W',\n",
    "    'K_xx',\n",
    "    'C_p',\n",
    "    'A_0',\n",
    "]\n",
    "data['scale_factor']=data['L_pp']\n",
    "df_model = froude_scale(data=data, description=description, skip=skip)"
   ]
  },
  {
   "cell_type": "code",
   "execution_count": null,
   "metadata": {},
   "outputs": [],
   "source": [
    "parameters = list(set(ikeda_parameters) - set(['L_pp']))\n",
    "X=data[parameters].copy()\n",
    "lpp = data['L_pp']\n",
    "X['BK_B']/=lpp\n",
    "X['BK_L']/=lpp\n",
    "X['T']/=lpp\n",
    "X['V']/=np.sqrt(lpp)\n",
    "X['omega0']*=np.sqrt(lpp)\n",
    "X['kg']/=lpp\n",
    "X['beam']/=lpp\n",
    "X.head()"
   ]
  },
  {
   "cell_type": "code",
   "execution_count": null,
   "metadata": {},
   "outputs": [],
   "source": [
    "variance_treshold = VarianceThreshold(0.001)\n",
    "standard_scaler = StandardScaler()\n",
    "\n",
    "\n",
    "y = y_s['B_e_hat']\n",
    "#X = data[important]\n",
    "#X=data[ikeda_parameters]\n",
    "       \n",
    "polynomial_features = PolynomialFeatures(degree=2)\n",
    "linear_regression = LinearRegression()\n",
    "\n",
    "ks = np.arange(1,30)\n",
    "scores = []\n",
    "for k in ks:\n",
    "    select_k_best = SelectKBest(k=k, score_func=f_regression)\n",
    "\n",
    "    steps=[\n",
    "        ('polynomial_feature', polynomial_features),\n",
    "        #('standard_scaler', standard_scaler),\n",
    "        ('variance_treshold',variance_treshold),\n",
    "        ('select_k_best',select_k_best),\n",
    "        ('linear_regression', linear_regression)\n",
    "    ]\n",
    "    \n",
    "    model = Pipeline(steps=steps)\n",
    "    model.fit(X=X, y=y)\n",
    "    scores.append(cross_val_score(estimator=model,X=X,y=y,cv=5).mean())"
   ]
  },
  {
   "cell_type": "code",
   "execution_count": null,
   "metadata": {},
   "outputs": [],
   "source": [
    "fig,ax=plt.subplots()\n",
    "ax.plot(ks,scores)"
   ]
  },
  {
   "cell_type": "code",
   "execution_count": null,
   "metadata": {},
   "outputs": [],
   "source": [
    "polynomial_features = PolynomialFeatures(degree=2)\n",
    "linear_regression = LinearRegression()\n",
    "\n",
    "\n",
    "scores = []\n",
    "select_k_best = SelectKBest(k=10, score_func=f_regression)\n",
    "\n",
    "steps=[\n",
    "    ('polynomial_feature', polynomial_features),\n",
    "    #('standard_scaler', standard_scaler),\n",
    "    ('variance_treshold',variance_treshold),\n",
    "    ('select_k_best',select_k_best),\n",
    "    ('linear_regression', linear_regression)\n",
    "]\n",
    "\n",
    "model = Pipeline(steps=steps)\n",
    "model.fit(X=X, y=y)\n",
    "cross_val_score(estimator=model,X=X,y=y,cv=5).mean()"
   ]
  },
  {
   "cell_type": "code",
   "execution_count": null,
   "metadata": {},
   "outputs": [],
   "source": [
    "df_ikeda.head()"
   ]
  },
  {
   "cell_type": "code",
   "execution_count": null,
   "metadata": {},
   "outputs": [],
   "source": [
    "X2 = X.copy()\n",
    "X2['B_1_hat'] = df_ikeda['B_1_hat']\n",
    "X2['B_2_hat'] = df_ikeda['B_2_hat']\n",
    "\n",
    "polynomial_features = PolynomialFeatures(degree=2)\n",
    "linear_regression = LinearRegression()\n",
    "\n",
    "\n",
    "scores = []\n",
    "select_k_best = SelectKBest(k=10, score_func=f_regression)\n",
    "\n",
    "steps=[\n",
    "    ('polynomial_feature', polynomial_features),\n",
    "    #('standard_scaler', standard_scaler),\n",
    "    ('variance_treshold',variance_treshold),\n",
    "    ('select_k_best',select_k_best),\n",
    "    ('linear_regression', linear_regression)\n",
    "]\n",
    "\n",
    "model = Pipeline(steps=steps)\n",
    "model.fit(X=X2, y=y)\n",
    "cross_val_score(estimator=model,X=X2,y=y,cv=5).mean()"
   ]
  },
  {
   "cell_type": "code",
   "execution_count": null,
   "metadata": {},
   "outputs": [],
   "source": []
  },
  {
   "cell_type": "code",
   "execution_count": null,
   "metadata": {},
   "outputs": [],
   "source": [
    "r2_score(y_true=df_compare['B_e_hat'], y_pred=df_compare['B_e_hat_ikeda'])"
   ]
  },
  {
   "cell_type": "code",
   "execution_count": null,
   "metadata": {},
   "outputs": [],
   "source": [
    "y_key = 'B_1_hat'\n",
    "\n",
    "fig,ax=plt.subplots()\n",
    "y_s[y_key].hist(bins=50, ax=ax)\n",
    "ax.set_title('Historgram: %s' % y_key)"
   ]
  },
  {
   "cell_type": "code",
   "execution_count": null,
   "metadata": {},
   "outputs": [],
   "source": [
    "df_ikeda = database.load(rolldecay_table_name='rolldecay_simplified_ikeda', limit_score=0.90, \n",
    "                             exclude_table_name='rolldecay_exclude')"
   ]
  },
  {
   "cell_type": "code",
   "execution_count": null,
   "metadata": {},
   "outputs": [],
   "source": [
    "data.head()"
   ]
  },
  {
   "cell_type": "code",
   "execution_count": null,
   "metadata": {},
   "outputs": [],
   "source": [
    "variance_treshold = VarianceThreshold(0.000)\n",
    "standard_scaler = StandardScaler()\n",
    "\n",
    "\n",
    "y = y_s[y_key]\n",
    "#X = data[important]\n",
    "X=data.drop(columns=['I_RUD','TWIN']).copy()  # Handle categorical data later\n",
    "       \n",
    "polynomial_features = PolynomialFeatures(degree=2)\n",
    "linear_regression = LinearRegression()\n",
    "\n",
    "ks = np.arange(1,30)\n",
    "scores = []\n",
    "for k in ks:\n",
    "    select_k_best = SelectKBest(k=k, score_func=f_regression)\n",
    "\n",
    "    steps=[\n",
    "        ('polynomial_feature', polynomial_features),\n",
    "        ('standard_scaler', standard_scaler),\n",
    "        ('variance_treshold',variance_treshold),\n",
    "        ('select_k_best',select_k_best),\n",
    "        ('linear_regression', linear_regression)\n",
    "    ]\n",
    "    \n",
    "    model = Pipeline(steps=steps)\n",
    "    model.fit(X=X, y=y)\n",
    "    scores.append(model.score(X=X, y=y))\n",
    "    #scores.append(cross_val_score(estimator=model,X=X,y=y,cv=4).mean())\n",
    "    \n",
    "    "
   ]
  },
  {
   "cell_type": "code",
   "execution_count": null,
   "metadata": {},
   "outputs": [],
   "source": [
    "fig,ax=plt.subplots()\n",
    "ax.plot(ks,scores)"
   ]
  },
  {
   "cell_type": "code",
   "execution_count": null,
   "metadata": {},
   "outputs": [],
   "source": [
    "variance_treshold = VarianceThreshold(0.000)\n",
    "standard_scaler = StandardScaler()\n",
    "select_k_best = SelectKBest(k=20, score_func=f_regression)\n",
    "\n",
    "y = y_s[y_key]\n",
    "#X = data[important]\n",
    "X=data.drop(columns=['I_RUD','TWIN']).copy()  # Handle categorical data later\n",
    "       \n",
    "polynomial_features = PolynomialFeatures(degree=2)\n",
    "linear_regression = LinearRegression()\n",
    "\n",
    "steps=[\n",
    "    ('polynomial_feature', polynomial_features),\n",
    "    ('standard_scaler', standard_scaler),\n",
    "    ('variance_treshold',variance_treshold),\n",
    "    ('select_k_best',select_k_best),\n",
    "    ('linear_regression', linear_regression)\n",
    "]\n",
    "\n",
    "model = Pipeline(steps=steps)\n",
    "#cross_val_score(estimator=model,X=X,y=y,cv=5).mean()\n",
    "model.fit(X=X, y=y)\n",
    "model.score(X=X, y=y)"
   ]
  },
  {
   "cell_type": "code",
   "execution_count": null,
   "metadata": {},
   "outputs": [],
   "source": [
    "fig,ax = plt.subplots()\n",
    "ax.plot(y,model.predict(X),'o', alpha=0.5)\n",
    "ax.set_title('Prediction of %s' % y_key)\n",
    "ax.set_xlabel('test: %s' % y_key)\n",
    "ax.set_ylabel('predicted: %s' % y_key)"
   ]
  },
  {
   "cell_type": "code",
   "execution_count": null,
   "metadata": {},
   "outputs": [],
   "source": [
    "polynom = Polynom(model=model, columns=X.columns, y_symbol=symbols.B_1_hat)\n",
    "polynom.fit(X=X, y=y)\n",
    "polynom.equation"
   ]
  },
  {
   "cell_type": "code",
   "execution_count": null,
   "metadata": {},
   "outputs": [],
   "source": []
  },
  {
   "cell_type": "code",
   "execution_count": null,
   "metadata": {},
   "outputs": [],
   "source": [
    "ks = np.arange(1,10)\n",
    "degrees = np.arange(1,3)\n",
    "results = pd.DataFrame()\n",
    "\n",
    "variance_treshold = VarianceThreshold(0.0001)\n",
    "standard_scaler = StandardScaler()\n",
    "\n",
    "y = y_s[y_key]\n",
    "#X = data[important]\n",
    "X=data.drop(columns=['I_RUD','TWIN']).copy()  # Handle categorical data later\n",
    "\n",
    "\n",
    "for k in ks:\n",
    "    for degree in degrees:\n",
    "        select_k_best = SelectKBest(k=k, score_func=f_regression)\n",
    "        \n",
    "       \n",
    "        polynomial_features = PolynomialFeatures(degree=degree)\n",
    "        linear_regression = LinearRegression()\n",
    "        \n",
    "        steps=[\n",
    "            ('polynomial_feature', polynomial_features),\n",
    "            ('standard_scaler', standard_scaler),\n",
    "            ('variance_treshold',variance_treshold),\n",
    "            ('select_k_best',select_k_best),\n",
    "            ('linear_regression', linear_regression)\n",
    "        ]\n",
    "        \n",
    "        model = Pipeline(steps=steps)\n",
    "        score = cross_val_score(estimator=model,X=X,y=y,cv=5).mean()\n",
    "        s = pd.Series()\n",
    "        s['k'] = k\n",
    "        s['degree'] = degree\n",
    "        s['score'] = score\n",
    "        results = results.append(s, ignore_index=True)\n",
    "        \n",
    "        "
   ]
  },
  {
   "cell_type": "code",
   "execution_count": null,
   "metadata": {},
   "outputs": [],
   "source": [
    "results.sort_values(by='score', ascending=False, inplace=True)"
   ]
  },
  {
   "cell_type": "code",
   "execution_count": null,
   "metadata": {},
   "outputs": [],
   "source": [
    "results.head()"
   ]
  },
  {
   "cell_type": "code",
   "execution_count": null,
   "metadata": {},
   "outputs": [],
   "source": [
    "k = int(results.iloc[0]['k'])\n",
    "degree = int(results.iloc[0]['degree'])"
   ]
  },
  {
   "cell_type": "code",
   "execution_count": null,
   "metadata": {},
   "outputs": [],
   "source": [
    "select_k_best = SelectKBest(k=k, score_func=f_regression)\n",
    "\n",
    "standard_scaler = StandardScaler()\n",
    "polynomial_features = PolynomialFeatures(degree=degree)\n",
    "linear_regression = LinearRegression()\n",
    "\n",
    "steps=[\n",
    "    ('polynomial_feature', polynomial_features),\n",
    "    ('standard_scaler', standard_scaler),\n",
    "    ('variance_treshold',variance_treshold),\n",
    "    ('select_k_best',select_k_best),\n",
    "    ('linear_regression', linear_regression)\n",
    "]\n",
    "\n",
    "model = Pipeline(steps=steps)"
   ]
  },
  {
   "cell_type": "code",
   "execution_count": null,
   "metadata": {},
   "outputs": [],
   "source": [
    "X_train, X_test, y_train, y_test = train_test_split(X, y, test_size=0.20)\n",
    "model.fit(X=X_train, y=y_train)\n",
    "score = model.score(X=X_test, y=y_test)\n",
    "score"
   ]
  },
  {
   "cell_type": "code",
   "execution_count": null,
   "metadata": {},
   "outputs": [],
   "source": [
    "fig,ax = plt.subplots()\n",
    "ax.plot(y_test,model.predict(X_test),'.', alpha=0.5)\n",
    "ax.set_title('Prediction of %s' % y_key)\n",
    "ax.set_xlabel('test: %s' % y_key)\n",
    "ax.set_ylabel('predicted: %s' % y_key)\n"
   ]
  },
  {
   "cell_type": "code",
   "execution_count": null,
   "metadata": {},
   "outputs": [],
   "source": [
    "fig,ax = plt.subplots()\n",
    "ax.plot(y,model.predict(X),'o', alpha=0.6)\n",
    "ax.set_title('Prediction of %s' % y_key)\n",
    "ax.set_xlabel('test: %s' % y_key)\n",
    "ax.set_ylabel('predicted: %s' % y_key)"
   ]
  },
  {
   "cell_type": "code",
   "execution_count": null,
   "metadata": {},
   "outputs": [],
   "source": [
    "import pickle\n",
    "filename = 'B_1_hat_model.sav'\n",
    "model.fit(X=X, y=y)\n",
    "model.keys=list(X.columns)\n",
    "pickle.dump(model, open(filename, 'wb'))"
   ]
  },
  {
   "cell_type": "code",
   "execution_count": null,
   "metadata": {},
   "outputs": [],
   "source": [
    "model.score(X=X,y=y)"
   ]
  },
  {
   "cell_type": "code",
   "execution_count": null,
   "metadata": {},
   "outputs": [],
   "source": [
    "polynom = Polynom(model=model, columns=X.columns, y_symbol=symbols.B_1_hat)\n",
    "polynom.fit(X=X, y=y)\n",
    "\n",
    "score = polynom.score(X=X, y=y)\n",
    "score"
   ]
  },
  {
   "cell_type": "code",
   "execution_count": null,
   "metadata": {},
   "outputs": [],
   "source": [
    "polynom.equation"
   ]
  },
  {
   "cell_type": "code",
   "execution_count": null,
   "metadata": {},
   "outputs": [],
   "source": [
    "polynom.save('B_1_hat_polynom.sym')"
   ]
  },
  {
   "cell_type": "code",
   "execution_count": null,
   "metadata": {},
   "outputs": [],
   "source": [
    "X.describe()"
   ]
  },
  {
   "cell_type": "code",
   "execution_count": null,
   "metadata": {},
   "outputs": [],
   "source": []
  },
  {
   "cell_type": "code",
   "execution_count": null,
   "metadata": {},
   "outputs": [],
   "source": []
  },
  {
   "cell_type": "code",
   "execution_count": null,
   "metadata": {},
   "outputs": [],
   "source": []
  },
  {
   "cell_type": "code",
   "execution_count": null,
   "metadata": {},
   "outputs": [],
   "source": []
  },
  {
   "cell_type": "code",
   "execution_count": null,
   "metadata": {},
   "outputs": [],
   "source": [
    "select_k_best = SelectKBest(k=9, score_func=f_regression)\n",
    "polynomial_features = PolynomialFeatures(degree=2)\n",
    "linear_regression = LinearRegression()\n",
    "variance_treshold = VarianceThreshold(0.000001)\n",
    "\n",
    "steps=[\n",
    "    ('polynomial_feature', polynomial_features),\n",
    "    ('standard_scaler', standard_scaler),\n",
    "    ('variance_treshold',variance_treshold),\n",
    "    ('select_k_best',select_k_best),\n",
    "    ('linear_regression', linear_regression)\n",
    "]\n",
    "\n",
    "model = Pipeline(steps=steps)\n",
    "score = cross_val_score(estimator=model,X=X,y=y,cv=5).mean()\n",
    "score"
   ]
  },
  {
   "cell_type": "code",
   "execution_count": null,
   "metadata": {},
   "outputs": [],
   "source": [
    "model.fit(X=X,y=y)"
   ]
  },
  {
   "cell_type": "code",
   "execution_count": null,
   "metadata": {},
   "outputs": [],
   "source": [
    "model.score(X=X,y=y)"
   ]
  },
  {
   "cell_type": "code",
   "execution_count": null,
   "metadata": {},
   "outputs": [],
   "source": [
    "polynom = Polynom(model=model, columns=X.columns, y_symbol=symbols.B_1_hat)\n",
    "polynom.fit(X=X, y=y)"
   ]
  },
  {
   "cell_type": "code",
   "execution_count": null,
   "metadata": {},
   "outputs": [],
   "source": [
    "polynom.equation"
   ]
  },
  {
   "cell_type": "code",
   "execution_count": null,
   "metadata": {},
   "outputs": [],
   "source": [
    "X.head()"
   ]
  },
  {
   "cell_type": "code",
   "execution_count": null,
   "metadata": {},
   "outputs": [],
   "source": [
    "mask = X['V']==0\n",
    "X_0=X.loc[mask]\n",
    "y_0=y.loc[mask]"
   ]
  },
  {
   "cell_type": "code",
   "execution_count": null,
   "metadata": {},
   "outputs": [],
   "source": [
    "y_0.hist()"
   ]
  },
  {
   "cell_type": "code",
   "execution_count": null,
   "metadata": {},
   "outputs": [],
   "source": [
    "model.fit(X=X_0,y=y_0)"
   ]
  },
  {
   "cell_type": "code",
   "execution_count": null,
   "metadata": {},
   "outputs": [],
   "source": [
    "polynom = Polynom(model=model, columns=X.columns, y_symbol=symbols.B_1_hat)\n",
    "polynom.fit(X=X_0, y=y_0)"
   ]
  },
  {
   "cell_type": "code",
   "execution_count": null,
   "metadata": {},
   "outputs": [],
   "source": [
    "polynom.equation"
   ]
  },
  {
   "cell_type": "code",
   "execution_count": null,
   "metadata": {},
   "outputs": [],
   "source": [
    "fig,ax = plt.subplots()\n",
    "ax.plot(y_0,model.predict(X_0),'o', alpha=0.6)\n",
    "ax.set_title('Prediction of %s' % y_key)\n",
    "ax.set_xlabel('test: %s' % y_key)\n",
    "ax.set_ylabel('predicted: %s' % y_key)"
   ]
  },
  {
   "cell_type": "code",
   "execution_count": null,
   "metadata": {},
   "outputs": [],
   "source": [
    "X['B_1_hat0']=model.predict(X=X)"
   ]
  },
  {
   "cell_type": "code",
   "execution_count": null,
   "metadata": {},
   "outputs": [],
   "source": [
    "select_k_best = SelectKBest(k=9, score_func=f_regression)\n",
    "polynomial_features = PolynomialFeatures(degree=2)\n",
    "linear_regression = LinearRegression()\n",
    "\n",
    "steps=[\n",
    "    ('polynomial_feature', polynomial_features),\n",
    "    ('standard_scaler', standard_scaler),\n",
    "    ('variance_treshold',variance_treshold),\n",
    "    ('select_k_best',select_k_best),\n",
    "    ('linear_regression', linear_regression)\n",
    "]\n",
    "\n",
    "model = Pipeline(steps=steps)\n",
    "score = cross_val_score(estimator=model,X=X,y=y,cv=5).mean()\n",
    "score"
   ]
  },
  {
   "cell_type": "code",
   "execution_count": null,
   "metadata": {},
   "outputs": [],
   "source": [
    "model.fit(X=X,y=y)"
   ]
  },
  {
   "cell_type": "code",
   "execution_count": null,
   "metadata": {},
   "outputs": [],
   "source": [
    "polynom = Polynom(model=model, columns=X.columns, y_symbol=symbols.B_1_hat)\n",
    "polynom.fit(X=X, y=y)"
   ]
  },
  {
   "cell_type": "code",
   "execution_count": null,
   "metadata": {},
   "outputs": [],
   "source": [
    "polynom.equation"
   ]
  },
  {
   "cell_type": "code",
   "execution_count": null,
   "metadata": {},
   "outputs": [],
   "source": [
    "model.score(X=X,y=y)"
   ]
  },
  {
   "cell_type": "code",
   "execution_count": null,
   "metadata": {},
   "outputs": [],
   "source": []
  },
  {
   "cell_type": "code",
   "execution_count": null,
   "metadata": {},
   "outputs": [],
   "source": []
  },
  {
   "cell_type": "code",
   "execution_count": null,
   "metadata": {},
   "outputs": [],
   "source": []
  },
  {
   "cell_type": "code",
   "execution_count": null,
   "metadata": {},
   "outputs": [],
   "source": []
  }
 ],
 "metadata": {
  "kernelspec": {
   "display_name": "Python 3",
   "language": "python",
   "name": "python3"
  },
  "language_info": {
   "codemirror_mode": {
    "name": "ipython",
    "version": 3
   },
   "file_extension": ".py",
   "mimetype": "text/x-python",
   "name": "python",
   "nbconvert_exporter": "python",
   "pygments_lexer": "ipython3",
   "version": "3.5.4"
  },
  "pycharm": {
   "stem_cell": {
    "cell_type": "raw",
    "metadata": {
     "collapsed": false
    },
    "source": []
   }
  }
 },
 "nbformat": 4,
 "nbformat_minor": 4
}
