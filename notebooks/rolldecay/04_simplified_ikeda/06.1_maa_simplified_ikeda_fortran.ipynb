{
 "cells": [
  {
   "cell_type": "markdown",
   "metadata": {
    "pycharm": {
     "name": "#%% md\n"
    }
   },
   "source": [
    "# Simplified ikeda Fortran code to Python"
   ]
  },
  {
   "cell_type": "code",
   "execution_count": null,
   "metadata": {},
   "outputs": [],
   "source": [
    "from jupyterthemes import jtplot\n",
    "jtplot.style(theme='chesterish', context='notebook', ticks=True, grid=False)"
   ]
  },
  {
   "cell_type": "code",
   "execution_count": null,
   "metadata": {
    "pycharm": {
     "is_executing": false,
     "name": "#%%\n"
    }
   },
   "outputs": [],
   "source": [
    "import pandas as pd\n",
    "import numpy as np\n",
    "import matplotlib.pyplot as plt\n",
    "\n",
    "from rolldecayestimators.simplified_ikeda import calculate_roll_damping"
   ]
  },
  {
   "cell_type": "code",
   "execution_count": null,
   "metadata": {
    "pycharm": {
     "is_executing": false,
     "name": "#%%\n"
    }
   },
   "outputs": [],
   "source": [
    "def plot(OG_div_d = -0.2):\n",
    "    L_div_B = 6.0\n",
    "    B_div_d = 4.0\n",
    "    CB = 0.65\n",
    "    CMID = 0.98\n",
    "    PHI = 10\n",
    "    bBK_div_B = 0.025\n",
    "    lBK_div_Lpp = 0.2\n",
    "    \n",
    "    \n",
    "    LPP = 300\n",
    "    Beam = LPP/L_div_B\n",
    "    DRAFT = Beam/B_div_d\n",
    "    \n",
    "    lBK = LPP*lBK_div_Lpp\n",
    "    bBK =Beam*bBK_div_B\n",
    "    omega_hat = np.linspace(0.25,1,10)\n",
    "    OMEGA = omega_hat/(np.sqrt(Beam / (2 * 9.81)))\n",
    "    \n",
    "    OG = DRAFT*OG_div_d\n",
    "    \n",
    "    B44HAT, BFHAT, BWHAT, BEHAT, BBKHAT = calculate_roll_damping(LPP,Beam,CB,CMID,OG,PHI,lBK,bBK,OMEGA,DRAFT)\n",
    "    \n",
    "    fig,ax = plt.subplots()\n",
    "    fig.set_size_inches(8,5)\n",
    "    label = \"\"\"\n",
    "    Lpp:%0.1f\n",
    "    Beam:%0.1f\n",
    "    Draught:%0.1f\n",
    "    lBK:%0.1f\n",
    "    bBK:%0.1f\n",
    "    OG:%0.1f\n",
    "    \"\"\" % (LPP,Beam,DRAFT,lBK,bBK,OG)\n",
    "    ax.plot(omega_hat,B44HAT, label=label)\n",
    "    ax.set_title('OG/d:%0.1f' % OG_div_d)\n",
    "    ax.set_xlabel('$\\hat{\\omega}$')\n",
    "    ax.set_ylabel('$\\hat{B_{44}}$')\n",
    "    ylim = ax.get_ylim()\n",
    "    ax.set_ylim(0,ylim[1])\n",
    "    ax.set_xlim(0.2,1)\n",
    "    ax.legend()\n",
    "    ax.grid(True)"
   ]
  },
  {
   "cell_type": "markdown",
   "metadata": {},
   "source": [
    "<img class=\"one\" src=\"b44hat1.png\" width=\"600\">"
   ]
  },
  {
   "cell_type": "code",
   "execution_count": null,
   "metadata": {},
   "outputs": [],
   "source": [
    "plot(OG_div_d=-0.2)"
   ]
  },
  {
   "cell_type": "markdown",
   "metadata": {},
   "source": [
    "<img class=\"one\" src=\"b44hat2.png\" width=\"600\">"
   ]
  },
  {
   "cell_type": "code",
   "execution_count": null,
   "metadata": {},
   "outputs": [],
   "source": [
    "plot(OG_div_d=-1.5)"
   ]
  },
  {
   "cell_type": "code",
   "execution_count": null,
   "metadata": {},
   "outputs": [],
   "source": []
  },
  {
   "cell_type": "code",
   "execution_count": null,
   "metadata": {},
   "outputs": [],
   "source": []
  },
  {
   "cell_type": "code",
   "execution_count": null,
   "metadata": {},
   "outputs": [],
   "source": []
  }
 ],
 "metadata": {
  "kernelspec": {
   "display_name": "Python 3",
   "language": "python",
   "name": "python3"
  },
  "pycharm": {
   "stem_cell": {
    "cell_type": "raw",
    "metadata": {
     "collapsed": false
    },
    "source": []
   }
  }
 },
 "nbformat": 4,
 "nbformat_minor": 1
}
