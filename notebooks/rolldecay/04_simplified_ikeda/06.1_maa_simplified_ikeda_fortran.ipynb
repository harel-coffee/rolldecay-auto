{
 "cells": [
  {
   "cell_type": "markdown",
   "metadata": {
    "pycharm": {
     "name": "#%% md\n"
    }
   },
   "source": [
    "# Simplified ikeda Fortran code to Python"
   ]
  },
  {
   "cell_type": "code",
   "execution_count": null,
   "metadata": {},
   "outputs": [],
   "source": [
    "%matplotlib inline\n",
    "%load_ext autoreload\n",
    "%autoreload 2"
   ]
  },
  {
   "cell_type": "code",
   "execution_count": null,
   "metadata": {},
   "outputs": [],
   "source": [
    "from jupyterthemes import jtplot\n",
    "jtplot.style(theme='chesterish', context='notebook', ticks=True, grid=False)"
   ]
  },
  {
   "cell_type": "code",
   "execution_count": null,
   "metadata": {
    "pycharm": {
     "is_executing": false,
     "name": "#%%\n"
    }
   },
   "outputs": [],
   "source": [
    "import pandas as pd\n",
    "import numpy as np\n",
    "import matplotlib.pyplot as plt\n",
    "\n",
    "from rolldecayestimators.simplified_ikeda import calculate_roll_damping\n",
    "from rolldecay.sensitivity import variate_ship, plot_variation, calculate, calculate_variation, _plot_result\n",
    "import sympy as sp\n",
    "from rolldecayestimators import symbols, equations\n",
    "from rolldecayestimators.substitute_dynamic_symbols import lambdify\n",
    "import rolldecayestimators.ikeda_simple  ## Peter Piehl implementation"
   ]
  },
  {
   "cell_type": "code",
   "execution_count": null,
   "metadata": {
    "pycharm": {
     "is_executing": false,
     "name": "#%%\n"
    }
   },
   "outputs": [],
   "source": [
    "def plot(OG_div_d = -0.2):\n",
    "    L_div_B = 6.0\n",
    "    B_div_d = 4.0\n",
    "    CB = 0.65\n",
    "    CMID = 0.98\n",
    "    PHI = 10\n",
    "    bBK_div_B = 0.025\n",
    "    lBK_div_Lpp = 0.2\n",
    "    \n",
    "    \n",
    "    LPP = 300\n",
    "    Beam = LPP/L_div_B\n",
    "    DRAFT = Beam/B_div_d\n",
    "    \n",
    "    lBK = LPP*lBK_div_Lpp\n",
    "    bBK =Beam*bBK_div_B\n",
    "    omega_hat = np.linspace(0.25,1,10)\n",
    "    OMEGA = omega_hat/(np.sqrt(Beam / (2 * 9.81)))\n",
    "    \n",
    "    OG = DRAFT*OG_div_d\n",
    "    \n",
    "    B44HAT, BFHAT, BWHAT, BEHAT, BBKHAT, BLHAT = calculate_roll_damping(LPP,Beam,CB,CMID,OG,PHI,lBK,bBK,OMEGA,DRAFT)\n",
    "    \n",
    "    fig,ax = plt.subplots()\n",
    "    fig.set_size_inches(8,5)\n",
    "    label = \"\"\"\n",
    "    Lpp:%0.1f\n",
    "    Beam:%0.1f\n",
    "    Draught:%0.1f\n",
    "    lBK:%0.1f\n",
    "    bBK:%0.1f\n",
    "    OG:%0.1f\n",
    "    \"\"\" % (LPP,Beam,DRAFT,lBK,bBK,OG)\n",
    "    ax.plot(omega_hat,B44HAT, label=label)\n",
    "    ax.set_title('OG/d:%0.1f' % OG_div_d)\n",
    "    ax.set_xlabel('$\\hat{\\omega}$')\n",
    "    ax.set_ylabel('$\\hat{B_{44}}$')\n",
    "    ylim = ax.get_ylim()\n",
    "    ax.set_ylim(0,ylim[1])\n",
    "    ax.set_xlim(0.2,1)\n",
    "    ax.legend()\n",
    "    ax.grid(True)"
   ]
  },
  {
   "cell_type": "markdown",
   "metadata": {},
   "source": [
    "<img class=\"one\" src=\"b44hat1.png\" width=\"600\">"
   ]
  },
  {
   "cell_type": "code",
   "execution_count": null,
   "metadata": {},
   "outputs": [],
   "source": [
    "plot(OG_div_d=-0.2)"
   ]
  },
  {
   "cell_type": "markdown",
   "metadata": {},
   "source": [
    "<img class=\"one\" src=\"b44hat3.png\" width=\"600\">"
   ]
  },
  {
   "cell_type": "code",
   "execution_count": null,
   "metadata": {},
   "outputs": [],
   "source": [
    "plot(OG_div_d=-1.5)"
   ]
  },
  {
   "cell_type": "markdown",
   "metadata": {},
   "source": [
    "### Compare with validation"
   ]
  },
  {
   "cell_type": "code",
   "execution_count": null,
   "metadata": {},
   "outputs": [],
   "source": [
    "df_verification_raw = pd.read_csv('ikeda_verification.csv', sep=';', index_col=0)\n",
    "df_verification_raw.fillna(0,inplace=True)\n",
    "df_verification_raw"
   ]
  },
  {
   "cell_type": "code",
   "execution_count": null,
   "metadata": {},
   "outputs": [],
   "source": [
    "df_verification = df_verification_raw.drop(columns='unit')\n",
    "df_verification = df_verification.transpose()\n",
    "df_verification"
   ]
  },
  {
   "cell_type": "code",
   "execution_count": null,
   "metadata": {},
   "outputs": [],
   "source": [
    "LPP = df_verification['LPP']\n",
    "Breadth = df_verification['Breadth']\n",
    "Draft = df_verification['Draft']\n",
    "LBKL = df_verification['LBK/LPP']\n",
    "BBKB = df_verification['BBK/Breadth']\n",
    "Tw = df_verification['Tw']\n",
    "OGd = df_verification['OG/d']\n",
    "Displacement = df_verification['Displacement']\n",
    "GM = df_verification['GM']\n"
   ]
  },
  {
   "cell_type": "code",
   "execution_count": null,
   "metadata": {},
   "outputs": [],
   "source": [
    "df = pd.DataFrame(index= df_verification.index)\n",
    "df['lpp'] = LPP\n",
    "df['beam'] = Breadth\n",
    "df['DRAFT'] = Draft\n",
    "df['phi_max'] = 1.0  #[deg]\n",
    "df['BKL'] = LBKL*LPP\n",
    "df['BKB'] = BBKB*Breadth\n",
    "df['omega0'] =  2*np.pi/Tw\n",
    "df['OG'] = OGd*Draft\n",
    "rho=1000\n",
    "df['CB'] = Displacement/rho/(LPP*Breadth*Draft)\n",
    "df['A0'] = 0.95  # Assumption!\n",
    "df['kg'] = -df['OG'] + Draft\n",
    "df['GM'] = GM\n",
    "df['g'] = 9.81"
   ]
  },
  {
   "cell_type": "code",
   "execution_count": null,
   "metadata": {},
   "outputs": [],
   "source": [
    "ship=df.iloc[0]"
   ]
  },
  {
   "cell_type": "code",
   "execution_count": null,
   "metadata": {},
   "outputs": [],
   "source": [
    "ship"
   ]
  },
  {
   "cell_type": "code",
   "execution_count": null,
   "metadata": {},
   "outputs": [],
   "source": [
    "N=40\n",
    "changes = np.linspace(1,20,N)\n",
    "plot_variation(ship=ship, key='phi_max', changes=changes)"
   ]
  },
  {
   "cell_type": "markdown",
   "metadata": {},
   "source": [
    "The relationship between B44 and N coefficient (Bertin) is as follows"
   ]
  },
  {
   "cell_type": "code",
   "execution_count": null,
   "metadata": {},
   "outputs": [],
   "source": [
    "N = sp.symbols('N')\n",
    "omega_hat = sp.symbols('omega_hat')\n",
    "N_equation = sp.Eq(N, symbols.B_44_hat*sp.pi*symbols.beam*omega_hat/(symbols.GM*symbols.phi_a))\n",
    "N_equation"
   ]
  },
  {
   "cell_type": "code",
   "execution_count": null,
   "metadata": {},
   "outputs": [],
   "source": [
    "omega_hat_equation = sp.Eq(omega_hat, symbols.omega*sp.sqrt(symbols.beam/(2*symbols.g)))\n",
    "omega_hat_equation"
   ]
  },
  {
   "cell_type": "code",
   "execution_count": null,
   "metadata": {},
   "outputs": [],
   "source": [
    "eqs = [omega_hat_equation,\n",
    "       N_equation,\n",
    "      ]\n",
    "N_equation_omega = sp.Eq(N,sp.solve(eqs, omega_hat, N)[N])\n",
    "N_equation_omega"
   ]
  },
  {
   "cell_type": "code",
   "execution_count": null,
   "metadata": {},
   "outputs": [],
   "source": [
    "N_lambda = lambdify(sp.solve(N_equation_omega,N)[0])"
   ]
  },
  {
   "cell_type": "code",
   "execution_count": null,
   "metadata": {},
   "outputs": [],
   "source": [
    "key='phi_max'\n",
    "df_variation = variate_ship(ship=ship, key=key, changes=changes)"
   ]
  },
  {
   "cell_type": "code",
   "execution_count": null,
   "metadata": {},
   "outputs": [],
   "source": [
    "result = calculate_variation(df=df_variation)\n",
    "result = pd.concat([result, df_variation], axis=1)"
   ]
  },
  {
   "cell_type": "code",
   "execution_count": null,
   "metadata": {},
   "outputs": [],
   "source": [
    "result.head()"
   ]
  },
  {
   "cell_type": "code",
   "execution_count": null,
   "metadata": {},
   "outputs": [],
   "source": [
    "result['N'] = N_lambda(B_44_hat=result['B44HAT'], GM=result['GM'], beam=result['beam'], g=result['g'],\n",
    "                     omega=result['omega0'], phi_a=result['phi_max'])"
   ]
  },
  {
   "cell_type": "code",
   "execution_count": null,
   "metadata": {},
   "outputs": [],
   "source": [
    "result.plot(y=['N'])"
   ]
  },
  {
   "cell_type": "markdown",
   "metadata": {},
   "source": [
    "<img class=\"one\" src=\"validation.png\" width=\"600\">"
   ]
  },
  {
   "cell_type": "code",
   "execution_count": null,
   "metadata": {},
   "outputs": [],
   "source": [
    "for ship_name, ship in df.iterrows():\n",
    "    df_variation = variate_ship(ship=ship, key=key, changes=changes)\n",
    "    result = calculate_variation(df=df_variation)\n",
    "    result = pd.concat([result, df_variation], axis=1)\n",
    "    \n",
    "    result['N'] = N_lambda(B_44_hat=result['B44HAT'], GM=result['GM'], beam=result['beam'], g=result['g'],\n",
    "                     omega=result['omega0'], phi_a=result['phi_max'])\n",
    "    \n",
    "    fig,ax=plt.subplots()\n",
    "    result.plot(y=['N'], ax=ax)\n",
    "    ax.set_title(ship_name)\n",
    "    \n",
    "    \n",
    "    "
   ]
  },
  {
   "cell_type": "markdown",
   "metadata": {},
   "source": [
    "## Froude scaling ok?"
   ]
  },
  {
   "cell_type": "code",
   "execution_count": null,
   "metadata": {},
   "outputs": [],
   "source": [
    "df2 = df.copy()\n",
    "scale=50.0\n",
    "\n",
    "df2['lpp']*=scale\n",
    "df2['beam']*=scale\n",
    "df2['DRAFT']*=scale\n",
    "#df2['phi_max'] = 1.0  #[deg]\n",
    "df2['BKL']*=scale\n",
    "df2['BKB']*=scale\n",
    "df2['omega0']*=1/np.sqrt(scale)\n",
    "df2['OG']*=scale\n",
    "#df2['CB'] = Displacement/rho/(LPP*Breadth*Draft)\n",
    "#df2['A0'] = 0.95  # Assumption!\n",
    "df2['kg']*=scale\n",
    "df2['GM']*=scale"
   ]
  },
  {
   "cell_type": "code",
   "execution_count": null,
   "metadata": {},
   "outputs": [],
   "source": [
    "for ship_name, ship in df2.iterrows():\n",
    "    df_variation = variate_ship(ship=ship, key=key, changes=changes)\n",
    "    result = calculate_variation(df=df_variation)\n",
    "    result = pd.concat([result, df_variation], axis=1)\n",
    "    \n",
    "    result['N'] = N_lambda(B_44_hat=result['B44HAT'], GM=result['GM'], beam=result['beam'], g=result['g'],\n",
    "                     omega=result['omega0'], phi_a=result['phi_max'])\n",
    "    \n",
    "    fig,ax=plt.subplots()\n",
    "    result.plot(y=['N'], ax=ax)\n",
    "    ax.set_title(ship_name)"
   ]
  },
  {
   "cell_type": "code",
   "execution_count": null,
   "metadata": {},
   "outputs": [],
   "source": [
    "model = df.iloc[0]\n",
    "model"
   ]
  },
  {
   "cell_type": "code",
   "execution_count": null,
   "metadata": {},
   "outputs": [],
   "source": [
    "ship = df2.iloc[0]\n",
    "ship"
   ]
  },
  {
   "cell_type": "code",
   "execution_count": null,
   "metadata": {},
   "outputs": [],
   "source": [
    "N=40\n",
    "changes = np.linspace(1,20,N)\n",
    "\n",
    "df_variation = variate_ship(ship=model, key=key, changes=changes)\n",
    "result_model = calculate_variation(df=df_variation)\n",
    "\n",
    "df_variation = variate_ship(ship=ship, key=key, changes=changes)\n",
    "result_ship = calculate_variation(df=df_variation)\n",
    "\n",
    "result = pd.merge(left=result_model, right=result_ship, how='left', left_index=True, right_index=True, \n",
    "                 suffixes=('_m','_s'))\n",
    "\n",
    "fig,ax=plt.subplots()\n",
    "result.iloc[:,0:5].plot(ax=ax)\n",
    "result.iloc[:,5:].plot(ax=ax, style='--')\n",
    "ax.set_title('Model scale and full scale')\n"
   ]
  },
  {
   "cell_type": "markdown",
   "metadata": {},
   "source": [
    "...it seems that the friction cannot be neglected in model scale"
   ]
  },
  {
   "cell_type": "markdown",
   "metadata": {},
   "source": [
    "## Compare with Peter Piehl"
   ]
  },
  {
   "cell_type": "code",
   "execution_count": null,
   "metadata": {},
   "outputs": [],
   "source": [
    "OG_div_d = 0\n",
    "L_div_B = 6.0\n",
    "B_div_d = 4.0\n",
    "CB = 0.65\n",
    "CMID = 0.98\n",
    "PHI = 10\n",
    "bBK_div_B = 0.025\n",
    "lBK_div_Lpp = 0.2\n",
    "\n",
    "\n",
    "LPP = 300\n",
    "Beam = LPP/L_div_B\n",
    "DRAFT = Beam/B_div_d\n",
    "\n",
    "lBK = LPP*lBK_div_Lpp\n",
    "bBK =Beam*bBK_div_B\n",
    "omega_hat = np.linspace(0.25,1,10)\n",
    "OMEGA = omega_hat/(np.sqrt(Beam / (2 * 9.81)))\n",
    "\n",
    "OG = DRAFT*OG_div_d\n",
    "\n",
    "B44HAT, BFHAT, BWHAT, BEHAT, BBKHAT, BLHAT = calculate_roll_damping(LPP,Beam,CB,CMID,OG,PHI,lBK,bBK,OMEGA,DRAFT)"
   ]
  },
  {
   "cell_type": "code",
   "execution_count": null,
   "metadata": {},
   "outputs": [],
   "source": []
  },
  {
   "cell_type": "code",
   "execution_count": null,
   "metadata": {},
   "outputs": [],
   "source": [
    "volume = 164000  # [m3]\n",
    "#DRAFT = 14.0,  # [m]\n",
    "\n",
    "data = {\n",
    "    'lpp'  : 350.0,  # [m]\n",
    "    #'beam' : 51.0,  # [m]\n",
    "    'CB'   : 0.655,  # [1]\n",
    "    'A0' : 0.987,  # [1]\n",
    "    'CoG'  : 0,  #[m]\n",
    "    'PHI'  : 20.0,  # [deg]\n",
    "    'Tw'   : 19.0, # [s]\n",
    "    'BKL'  : 5*14.85,  # [m]\n",
    "    'BKB'  : 0.6,  # [m]\n",
    "}\n",
    "data['omega0']=2*np.pi/data['Tw']\n",
    "BdivT=np.linspace(2.55,4.48,20)\n",
    "df_input = pd.DataFrame(data=data,index=BdivT)\n",
    "df_input.index.name=r'B/T'\n",
    "#df_input['DRAFT']=df_input['beam']/df_input.index\n",
    "df_input['DRAFT']=np.sqrt(volume/(df_input['lpp']*df_input.index*df_input['CB']))\n",
    "df_input['beam']=volume/(df_input['lpp']*df_input['DRAFT']*df_input['CB'])\n",
    "\n",
    "df_input['kg']=df_input['DRAFT']+df_input['CoG']\n",
    "df_input['phi_max']=df_input['PHI']  # Deg!\n",
    "df_input"
   ]
  },
  {
   "cell_type": "code",
   "execution_count": null,
   "metadata": {},
   "outputs": [],
   "source": [
    "df_result = calculate_variation(df_input)\n",
    "df_result"
   ]
  },
  {
   "cell_type": "code",
   "execution_count": null,
   "metadata": {},
   "outputs": [],
   "source": [
    "fig,ax=plt.subplots()\n",
    "df_result.plot(ax=ax)\n",
    "ax.grid(True)\n",
    "ax.set_xlim(2.5,4.5)\n",
    "ax.set_ylim(0,0.018)"
   ]
  },
  {
   "cell_type": "markdown",
   "metadata": {},
   "source": [
    "<img class=\"one\" src=\"peter_piehl.png\" width=\"500\" align=left>"
   ]
  },
  {
   "cell_type": "code",
   "execution_count": null,
   "metadata": {},
   "outputs": [],
   "source": [
    "ikeda = rolldecayestimators.ikeda_simple.Ikeda()"
   ]
  },
  {
   "cell_type": "code",
   "execution_count": null,
   "metadata": {},
   "outputs": [],
   "source": [
    "para = {\\\n",
    "        'LPP':370.0,\\\n",
    "        'BRTH':51.0,\\\n",
    "        'DRAFT':14.0,\\\n",
    "        'CB':0.655,\\\n",
    "        'CMID':0.987,\\\n",
    "        'OG':0,\\\n",
    "        'PHI':20.0,\\\n",
    "        'TW':19.0,\\\n",
    "        'BKCOMP':True,\\\n",
    "        'lBK':5*14.85,\\\n",
    "        'bBK':0.6,\\\n",
    "        }"
   ]
  },
  {
   "cell_type": "code",
   "execution_count": null,
   "metadata": {},
   "outputs": [],
   "source": [
    "ikeda.setPara(para)\n",
    "ikeda.ikedaMethod()\n",
    "BHAT = ikeda.getBHAT()"
   ]
  },
  {
   "cell_type": "code",
   "execution_count": null,
   "metadata": {},
   "outputs": [],
   "source": [
    "renames = {\n",
    "    'lpp':'LPP',\n",
    "    'beam':'BRTH',\n",
    "    'A0':'CMID',\n",
    "    'CoG':'OG',\n",
    "    'TW':'Tw',\n",
    "    'BKL':'lBK',\n",
    "    'BKB':'bBK',\n",
    "}\n",
    "for old_key,new_key in renames.items():\n",
    "    df_input[new_key]=df_input[old_key]\n",
    "\n",
    "data = df_input.iloc[0]\n"
   ]
  },
  {
   "cell_type": "code",
   "execution_count": null,
   "metadata": {},
   "outputs": [],
   "source": [
    "ikeda.setPara(data)\n",
    "ikeda.ikedaMethod()\n",
    "BHAT = ikeda.getBHAT()"
   ]
  },
  {
   "cell_type": "code",
   "execution_count": null,
   "metadata": {},
   "outputs": [],
   "source": [
    "def calculate_variation_piehl(row):\n",
    "    \n",
    "    row=row.copy()\n",
    "    row['BKCOMP'] = (row['BKL']>0)\n",
    "    \n",
    "    ikeda=rolldecayestimators.ikeda_simple.Ikeda()\n",
    "    ikeda.setPara(row)\n",
    "    ikeda.ikedaMethod()\n",
    "    BHAT = ikeda.getBHAT()\n",
    "    result = pd.Series(name=row.name)\n",
    "    result['B44HAT'] = ikeda.B44HAT\n",
    "    result['BFHAT'] = ikeda.BFHAT\n",
    "    result['BWHAT'] = ikeda.BWHAT\n",
    "    result['BEHAT'] = ikeda.BEHAT\n",
    "    result['BBKHAT'] = ikeda.BBKHAT\n",
    "    return result"
   ]
  },
  {
   "cell_type": "code",
   "execution_count": null,
   "metadata": {},
   "outputs": [],
   "source": [
    "df_result2 = df_input.apply(func=calculate_variation_piehl, axis=1)"
   ]
  },
  {
   "cell_type": "code",
   "execution_count": null,
   "metadata": {},
   "outputs": [],
   "source": [
    "fig,ax=plt.subplots()\n",
    "df_result.plot(ax=ax, alpha=0.6)\n",
    "df_result2.plot(ax=ax, style='--')\n",
    "ax.grid(True)\n",
    "ax.set_xlim(2.5,4.5)\n",
    "ax.set_ylim(0,0.018)"
   ]
  },
  {
   "cell_type": "code",
   "execution_count": null,
   "metadata": {},
   "outputs": [],
   "source": []
  }
 ],
 "metadata": {
  "kernelspec": {
   "display_name": "Python 3",
   "language": "python",
   "name": "python3"
  },
  "language_info": {
   "codemirror_mode": {
    "name": "ipython",
    "version": 3
   },
   "file_extension": ".py",
   "mimetype": "text/x-python",
   "name": "python",
   "nbconvert_exporter": "python",
   "pygments_lexer": "ipython3",
   "version": "3.5.4"
  },
  "pycharm": {
   "stem_cell": {
    "cell_type": "raw",
    "metadata": {
     "collapsed": false
    },
    "source": []
   }
  }
 },
 "nbformat": 4,
 "nbformat_minor": 1
}
