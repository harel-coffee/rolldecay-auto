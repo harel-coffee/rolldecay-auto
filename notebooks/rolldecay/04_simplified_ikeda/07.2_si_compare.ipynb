{
 "cells": [
  {
   "cell_type": "markdown",
   "metadata": {},
   "source": [
    "## Compare Simplified Ikeda with database"
   ]
  },
  {
   "cell_type": "code",
   "execution_count": null,
   "metadata": {},
   "outputs": [],
   "source": [
    "# %load ../../imports.py\n",
    "\"\"\"\n",
    "These is the standard setup for the notebooks.\n",
    "\"\"\"\n",
    "\n",
    "%matplotlib inline\n",
    "%load_ext autoreload\n",
    "%autoreload 2\n",
    "\n",
    "from jupyterthemes import jtplot\n",
    "jtplot.style(theme='onedork', context='notebook', ticks=True, grid=False)\n",
    "\n",
    "import pandas as pd\n",
    "pd.options.display.max_rows = 999\n",
    "pd.options.display.max_columns = 999\n",
    "pd.set_option(\"display.max_columns\", None)\n",
    "import numpy as np\n",
    "import os\n",
    "import matplotlib.pyplot as plt\n",
    "#plt.style.use('paper')\n",
    "\n",
    "#import data\n",
    "import copy\n",
    "from rolldecay.bis_system import BisSystem\n",
    "from rolldecay import database\n",
    "from mdldb.tables import Run\n",
    "\n",
    "from sklearn.pipeline import Pipeline\n",
    "from rolldecayestimators.transformers import CutTransformer, LowpassFilterDerivatorTransformer, ScaleFactorTransformer, OffsetTransformer\n",
    "from rolldecayestimators.direct_estimator_cubic import EstimatorQuadraticB, EstimatorCubic\n",
    "from rolldecayestimators.ikeda_estimator import IkedaQuadraticEstimator\n",
    "import rolldecayestimators.equations as equations\n",
    "import rolldecayestimators.lambdas as lambdas\n",
    "from rolldecayestimators.substitute_dynamic_symbols import lambdify\n",
    "import rolldecayestimators.symbols as symbols\n",
    "import sympy as sp\n",
    "\n",
    "from sklearn.metrics import r2_score\n",
    "\n"
   ]
  },
  {
   "cell_type": "code",
   "execution_count": null,
   "metadata": {},
   "outputs": [],
   "source": [
    "import rolldecayestimators.simplified_ikeda as si"
   ]
  },
  {
   "cell_type": "code",
   "execution_count": null,
   "metadata": {},
   "outputs": [],
   "source": [
    "from dask.distributed import Client, progress\n",
    "client = Client(n_workers=7, threads_per_worker=2, memory_limit='5GB')\n",
    "client\n",
    "\n",
    "import dask.dataframe as dd"
   ]
  },
  {
   "cell_type": "code",
   "execution_count": null,
   "metadata": {},
   "outputs": [],
   "source": [
    "df_rolldecay = database.load(rolldecay_table_name='rolldecay_quadratic_b', limit_score=0.99, \n",
    "                             exclude_table_name='rolldecay_exclude')\n",
    "\n",
    "df_rolldecay_raw = df_rolldecay.copy()\n",
    "\n",
    "scale_factor=df_rolldecay['scale_factor']\n",
    "df_rolldecay['lpp']/=scale_factor\n",
    "df_rolldecay['TA']/=scale_factor \n",
    "df_rolldecay['TF']/=scale_factor\n",
    "df_rolldecay['beam']/=scale_factor\n",
    "df_rolldecay['BKL']/=scale_factor\n",
    "df_rolldecay['BKB']/=scale_factor\n",
    "#df_rolldecay['A0']=db_run.loading_condition.A0\n",
    "df_rolldecay['kg']/=scale_factor\n",
    "df_rolldecay['Volume']/=(scale_factor**3)\n",
    "df_rolldecay['gm']/=scale_factor\n",
    "df_rolldecay['V']=df_rolldecay['ship_speed']*1.852/3.6/np.sqrt(scale_factor)  #[m/s]\n",
    "df_rolldecay['rho']=1000\n",
    "df_rolldecay['g']=9.81"
   ]
  },
  {
   "cell_type": "code",
   "execution_count": null,
   "metadata": {},
   "outputs": [],
   "source": [
    "df = dd.from_pandas(df_rolldecay, npartitions=10)"
   ]
  },
  {
   "cell_type": "code",
   "execution_count": null,
   "metadata": {},
   "outputs": [],
   "source": [
    "def run_ikeda(df_rolldecay, verify_input=True, limit_inputs=True, **kwargs):\n",
    "    df=pd.DataFrame()\n",
    "    for run_id, data in df_rolldecay.iterrows():\n",
    "        ikeda_estimator = IkedaQuadraticEstimator(**data, verify_input=verify_input, \n",
    "                                                  limit_inputs=limit_inputs)\n",
    "        try:\n",
    "            ikeda_estimator.fit(**kwargs)\n",
    "        except si.SimplifiedIkedaInputError:\n",
    "            continue\n",
    "        \n",
    "        result = ikeda_estimator.result_for_database(score=False)\n",
    "        result = pd.Series(result, name=run_id)\n",
    "        df=df.append(result)\n",
    "    \n",
    "    return df\n",
    "    \n"
   ]
  },
  {
   "cell_type": "code",
   "execution_count": null,
   "metadata": {},
   "outputs": [],
   "source": [
    "df_si = run_ikeda(df_rolldecay=df, verify_input=False, limit_inputs=True, )"
   ]
  },
  {
   "cell_type": "code",
   "execution_count": null,
   "metadata": {},
   "outputs": [],
   "source": [
    "dataframes = {\n",
    "                'model test': df_rolldecay,\n",
    "                'si': df_si, \n",
    "             }\n",
    "\n",
    "suffixes={\n",
    "    'model test': '',\n",
    "    'si': '_si', \n",
    "}"
   ]
  },
  {
   "cell_type": "code",
   "execution_count": null,
   "metadata": {},
   "outputs": [],
   "source": [
    "Rs = np.linspace(0.01,0.08,3)\n",
    "for R in Rs:\n",
    "    \n",
    "    df_si_bk = run_ikeda(df_rolldecay=df, verify_input=False, limit_inputs=True, \n",
    "                     alternative_bilge_keel=True, RdivB=R)\n",
    "    \n",
    "    name = 'si alt. BK RdivB=%0.2f'%R\n",
    "    dataframes[name] = df_si_bk\n",
    "    suffixes[name] = '_si_bk_%0.2f' % R"
   ]
  },
  {
   "cell_type": "code",
   "execution_count": null,
   "metadata": {},
   "outputs": [],
   "source": [
    "df = df.persist()"
   ]
  },
  {
   "cell_type": "code",
   "execution_count": null,
   "metadata": {},
   "outputs": [],
   "source": [
    "Disp=df_rolldecay['Volume']\n",
    "beam=df_rolldecay['beam']\n",
    "\n",
    "g=9.81\n",
    "rho=1000\n",
    "phi_a=np.deg2rad(4)\n",
    "\n",
    "\n",
    "\n",
    "for name, dataframe in dataframes.items():\n",
    "    dataframe['B_e'] = lambdas.B_e_lambda(B_1=dataframe['B_1'], B_2=dataframe['B_2'], \n",
    "                                         omega0=dataframe['omega0'], phi_a=phi_a)\n",
    "\n",
    "    dataframe['B_e_hat'] = lambdas.B_hat_lambda(B=dataframe['B_e'], Disp=Disp, beam=beam, \n",
    "                                                   g=g, rho=rho)\n",
    "    \n",
    "    dataframe.dropna(subset=['B_e_hat'], inplace=True)\n"
   ]
  },
  {
   "cell_type": "code",
   "execution_count": null,
   "metadata": {},
   "outputs": [],
   "source": [
    "\n",
    "\n",
    "df_compare=df_rolldecay.copy()\n",
    "for name, dataframe in dataframes.items():\n",
    "    if name=='model test':\n",
    "        continue\n",
    "    \n",
    "    df_compare=pd.merge(left=df_compare, right=dataframe, left_index=True, right_index=True, \n",
    "                    suffixes=('',suffixes[name]))"
   ]
  },
  {
   "cell_type": "code",
   "execution_count": null,
   "metadata": {},
   "outputs": [],
   "source": [
    "fig,ax=plt.subplots()\n",
    "key='B_e_hat'\n",
    "keys = ['%s%s'% (key,suffix) for suffix in suffixes.values() if not suffix=='']\n",
    "\n",
    "df_compare.plot(x='B_e_hat', y=keys, style='.', ax=ax)\n",
    "\n",
    "xlim = ax.get_xlim()\n",
    "ylim = ax.get_ylim()\n",
    "lim = np.max([xlim[1],ylim[1]])\n",
    "ax.set_xlim(0,lim)\n",
    "ax.set_ylim(0,lim)\n",
    "ax.plot([0,lim],[0,lim],'r-')\n",
    "\n",
    "ax.grid(True)\n",
    "ax.set_aspect('equal', 'box')"
   ]
  },
  {
   "cell_type": "code",
   "execution_count": null,
   "metadata": {},
   "outputs": [],
   "source": [
    "scores=pd.DataFrame()\n",
    "for name, suffix in suffixes.items():\n",
    "    if name=='model test':\n",
    "        continue\n",
    "    score = pd.Series(name=name)\n",
    "    score['r2'] = r2_score(y_true=df_compare['B_e_hat'], y_pred=df_compare['B_e_hat%s'%suffix])\n",
    "    scores=scores.append(score)"
   ]
  },
  {
   "cell_type": "markdown",
   "metadata": {},
   "source": [
    "<a id='scores'></a>"
   ]
  },
  {
   "cell_type": "code",
   "execution_count": null,
   "metadata": {},
   "outputs": [],
   "source": [
    "scores"
   ]
  },
  {
   "cell_type": "code",
   "execution_count": null,
   "metadata": {},
   "outputs": [],
   "source": [
    "df_compare['residual'] = df_compare['B_e_hat_si'] - df_compare['B_e_hat']\n",
    "df_compare['residual_abs']=df_compare['residual'].abs()"
   ]
  },
  {
   "cell_type": "code",
   "execution_count": null,
   "metadata": {},
   "outputs": [],
   "source": [
    "alpha=0.10\n",
    "mask=((df_compare['residual_abs']>=df_compare['residual_abs'].quantile(alpha)) &\n",
    "      (df_compare['residual_abs']<=df_compare['residual_abs'].quantile(1-alpha)))\n",
    "\n",
    "df_compare_good = df_compare.loc[mask].copy()"
   ]
  },
  {
   "cell_type": "code",
   "execution_count": null,
   "metadata": {},
   "outputs": [],
   "source": [
    "fig,ax=plt.subplots()\n",
    "df_compare_good.plot(x='B_e_hat', y='B_e_hat_si', style='.', ax=ax)\n",
    "\n",
    "xlim = ax.get_xlim()\n",
    "ylim = ax.get_ylim()\n",
    "lim = np.max([xlim[1],ylim[1]])\n",
    "ax.set_xlim(0,lim)\n",
    "ax.set_ylim(0,lim)\n",
    "ax.plot([0,lim],[0,lim],'r-')\n",
    "\n",
    "ax.grid(True)\n",
    "ax.set_aspect('equal', 'box')"
   ]
  },
  {
   "cell_type": "code",
   "execution_count": null,
   "metadata": {},
   "outputs": [],
   "source": [
    "df_compare['residual']=df_compare['B_e_hat_si']-df_compare['B_e_hat']\n",
    "df_compare['residual_abs']=df_compare['residual'].abs()"
   ]
  },
  {
   "cell_type": "code",
   "execution_count": null,
   "metadata": {},
   "outputs": [],
   "source": [
    "fig,ax=plt.subplots()\n",
    "df_compare.plot(x='B_e_hat', y='residual', style='.', ax=ax)\n",
    "ax.grid(True)"
   ]
  },
  {
   "cell_type": "code",
   "execution_count": null,
   "metadata": {},
   "outputs": [],
   "source": [
    "df_compare['trim'] = np.rad2deg(np.arctan2(df_compare['TA']-df_compare['TF'], df_compare['lpp']))\n",
    "df_compare.plot(x='trim', y='residual_abs', style='.')\n",
    "df_compare.plot(x='trim', y='B_e_hat', style='.')\n",
    "\n",
    "df_compare['T/B'] = (df_compare['TA']+df_compare['TF'])/2/df_compare['beam']\n",
    "df_compare.plot(x='T/B', y='residual_abs', style='.')\n"
   ]
  },
  {
   "cell_type": "code",
   "execution_count": null,
   "metadata": {},
   "outputs": [],
   "source": [
    "df_worst=df_compare.sort_values(by='residual_abs', ascending=False).iloc[0:10].copy()"
   ]
  },
  {
   "cell_type": "code",
   "execution_count": null,
   "metadata": {},
   "outputs": [],
   "source": [
    "df_worst[['residual_abs','B_e_hat','project_path']]"
   ]
  },
  {
   "cell_type": "code",
   "execution_count": null,
   "metadata": {},
   "outputs": [],
   "source": [
    "meta_data = df_worst.iloc[0]"
   ]
  },
  {
   "cell_type": "code",
   "execution_count": null,
   "metadata": {},
   "outputs": [],
   "source": [
    "db = database.get_db()\n",
    "db_run = db.session.query(Run).get(int(meta_data.name))\n",
    "df = database.load_run(db_run)"
   ]
  },
  {
   "cell_type": "code",
   "execution_count": null,
   "metadata": {},
   "outputs": [],
   "source": [
    "lowpass_filter = LowpassFilterDerivatorTransformer(cutoff=2, minimum_score=0.99)\n",
    "cutter = CutTransformer(phi_max=np.deg2rad(9), phi_min=np.deg2rad(0.25), phi1d_start_tolerance=0.015)\n",
    "offset_transformer = OffsetTransformer()\n",
    "\n",
    "steps = [\n",
    "    ('filter',lowpass_filter),\n",
    "#    ('scaler',scaler),  # Is froude scaling a good idea??\n",
    "    ('cutter', cutter), \n",
    "#    ('offset_transformer',offset_transformer)\n",
    "]\n",
    "        \n",
    "preprocessor = Pipeline(steps) # define the pipeline object.\n",
    "preprocessor.fit(df)\n",
    "X = preprocessor.transform(df)"
   ]
  },
  {
   "cell_type": "code",
   "execution_count": null,
   "metadata": {},
   "outputs": [],
   "source": [
    "direct_estimator = EstimatorQuadraticB.load(data=meta_data, X=X)\n",
    "\n",
    "fig,ax=plt.subplots()\n",
    "direct_estimator.plot_fit(ax=ax)"
   ]
  },
  {
   "cell_type": "code",
   "execution_count": null,
   "metadata": {},
   "outputs": [],
   "source": [
    "df_rolldecay_raw.loc[meta_data.name]"
   ]
  },
  {
   "cell_type": "code",
   "execution_count": null,
   "metadata": {},
   "outputs": [],
   "source": [
    "df_si['B_E_HAT'].hist()"
   ]
  },
  {
   "cell_type": "code",
   "execution_count": null,
   "metadata": {},
   "outputs": [],
   "source": [
    "fig,ax=plt.subplots()\n",
    "df_compare.plot(x='residual', y = 'B_E_HAT', style='.', ax=ax)\n",
    "ax.grid(True)\n"
   ]
  },
  {
   "cell_type": "code",
   "execution_count": null,
   "metadata": {},
   "outputs": [],
   "source": []
  }
 ],
 "metadata": {
  "kernelspec": {
   "display_name": "Python 3",
   "language": "python",
   "name": "python3"
  },
  "language_info": {
   "codemirror_mode": {
    "name": "ipython",
    "version": 3
   },
   "file_extension": ".py",
   "mimetype": "text/x-python",
   "name": "python",
   "nbconvert_exporter": "python",
   "pygments_lexer": "ipython3",
   "version": "3.6.8"
  }
 },
 "nbformat": 4,
 "nbformat_minor": 4
}
