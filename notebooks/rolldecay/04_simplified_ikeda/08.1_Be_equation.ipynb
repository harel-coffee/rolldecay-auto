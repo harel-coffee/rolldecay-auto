{
 "cells": [
  {
   "cell_type": "markdown",
   "metadata": {},
   "source": [
    "# Expolinrg the equivalent damping equation $B_e$"
   ]
  },
  {
   "cell_type": "code",
   "execution_count": null,
   "metadata": {},
   "outputs": [],
   "source": [
    "# %load ../../imports.py\n",
    "\"\"\"\n",
    "These is the standard setup for the notebooks.\n",
    "\"\"\"\n",
    "\n",
    "%matplotlib inline\n",
    "%load_ext autoreload\n",
    "%autoreload 2\n",
    "\n",
    "from jupyterthemes import jtplot\n",
    "jtplot.style(theme='onedork', context='notebook', ticks=True, grid=False)\n",
    "\n",
    "import pandas as pd\n",
    "pd.options.display.max_rows = 999\n",
    "pd.options.display.max_columns = 999\n",
    "pd.set_option(\"display.max_columns\", None)\n",
    "import numpy as np\n",
    "import os\n",
    "import matplotlib.pyplot as plt\n",
    "#plt.style.use('paper')\n",
    "\n",
    "#import data\n",
    "import copy\n",
    "from rolldecay.bis_system import BisSystem\n",
    "from rolldecay import database\n",
    "from mdldb.tables import Run\n",
    "\n",
    "from sklearn.pipeline import Pipeline\n",
    "from rolldecayestimators.transformers import CutTransformer, LowpassFilterDerivatorTransformer, ScaleFactorTransformer, OffsetTransformer\n",
    "from rolldecayestimators.direct_estimator_cubic import EstimatorQuadraticB, EstimatorCubic\n",
    "from rolldecayestimators.ikeda_estimator import IkedaQuadraticEstimator\n",
    "import rolldecayestimators.equations as equations\n",
    "import rolldecayestimators.lambdas as lambdas\n",
    "from rolldecayestimators.substitute_dynamic_symbols import lambdify\n",
    "import rolldecayestimators.symbols as symbols\n",
    "import sympy as sp\n",
    "\n",
    "from sklearn.metrics import r2_score\n",
    "import rolldecay.paper_writing as paper_writing\n",
    "\n"
   ]
  },
  {
   "cell_type": "code",
   "execution_count": null,
   "metadata": {},
   "outputs": [],
   "source": [
    "from rolldecayestimators import measure as measure"
   ]
  },
  {
   "cell_type": "markdown",
   "metadata": {},
   "source": [
    "## Is this a good linearization?"
   ]
  },
  {
   "cell_type": "code",
   "execution_count": null,
   "metadata": {},
   "outputs": [],
   "source": [
    "equations.B_e_equation"
   ]
  },
  {
   "cell_type": "code",
   "execution_count": null,
   "metadata": {},
   "outputs": [],
   "source": [
    "A_44 = 1.0\n",
    "B_1=0.10\n",
    "B_2=0.8\n",
    "C_1=2.0\n",
    "\n",
    "B_1A=B_1/A_44\n",
    "B_2A=B_2/A_44\n",
    "C_1A=C_1/A_44\n",
    "\n",
    "estimator = EstimatorQuadraticB.load(B_1A=B_1A, B_2A=B_2A, C_1A=C_1A)"
   ]
  },
  {
   "cell_type": "code",
   "execution_count": null,
   "metadata": {},
   "outputs": [],
   "source": [
    "N=100000\n",
    "t=np.linspace(0,100.0,N)\n",
    "phi0=np.deg2rad(10)\n",
    "phi1d0=0.0\n",
    "\n",
    "result = estimator.simulate(t=t, phi0=phi0, phi1d0=phi1d0)"
   ]
  },
  {
   "cell_type": "code",
   "execution_count": null,
   "metadata": {},
   "outputs": [],
   "source": [
    "fig,ax=plt.subplots()\n",
    "result.plot(y='phi', ax=ax)\n",
    "ax.grid(True)"
   ]
  },
  {
   "cell_type": "code",
   "execution_count": null,
   "metadata": {},
   "outputs": [],
   "source": [
    "amplitudes = measure.calculate_amplitudes_and_damping(X=result)\n",
    "amplitudes['phi_a']=amplitudes['phi']/2\n",
    "amplitudes['-phi_a']=-amplitudes['phi_a']\n",
    "amplitudes.head()"
   ]
  },
  {
   "cell_type": "code",
   "execution_count": null,
   "metadata": {},
   "outputs": [],
   "source": [
    "equations.omega0_equation"
   ]
  },
  {
   "cell_type": "code",
   "execution_count": null,
   "metadata": {},
   "outputs": [],
   "source": [
    "omega0_lambda = lambdify(sp.solve(equations.omega0_equation,symbols.omega0)[0])"
   ]
  },
  {
   "cell_type": "code",
   "execution_count": null,
   "metadata": {},
   "outputs": [],
   "source": [
    "omega0=omega0_lambda(A_44=A_44, C=C_1)\n",
    "omega0"
   ]
  },
  {
   "cell_type": "code",
   "execution_count": null,
   "metadata": {},
   "outputs": [],
   "source": [
    "2*np.pi/omega0"
   ]
  },
  {
   "cell_type": "code",
   "execution_count": null,
   "metadata": {},
   "outputs": [],
   "source": [
    "equations.extinction_equation"
   ]
  },
  {
   "cell_type": "code",
   "execution_count": null,
   "metadata": {},
   "outputs": [],
   "source": [
    "equations.xeta_equation"
   ]
  },
  {
   "cell_type": "code",
   "execution_count": null,
   "metadata": {},
   "outputs": [],
   "source": [
    "zeta_lambda = lambdify(sp.solve(equations.xeta_equation,symbols.zeta)[0])\n",
    "\n",
    "phi0=amplitudes.iloc[0]['phi_a']\n",
    "t_=amplitudes.index-amplitudes.index[0]\n",
    "amplitudes['zeta']=zeta_lambda(omega0=omega0, phi_0=phi0, phi_a=amplitudes['phi_a'], \n",
    "                               t=t_)"
   ]
  },
  {
   "cell_type": "code",
   "execution_count": null,
   "metadata": {},
   "outputs": [],
   "source": [
    "amplitudes"
   ]
  },
  {
   "cell_type": "code",
   "execution_count": null,
   "metadata": {},
   "outputs": [],
   "source": [
    "fig,ax=plt.subplots()\n",
    "result.plot(y='phi', ax=ax)\n",
    "\n",
    "\n",
    "amplitudes.plot( y='phi_a', ax=ax)\n",
    "amplitudes.plot(y='-phi_a', ax=ax);\n"
   ]
  },
  {
   "cell_type": "code",
   "execution_count": null,
   "metadata": {},
   "outputs": [],
   "source": [
    "zeta_lambda"
   ]
  },
  {
   "cell_type": "code",
   "execution_count": null,
   "metadata": {},
   "outputs": [],
   "source": [
    "fig,ax=plt.subplots()\n",
    "amplitudes.plot(x='phi_a', y=['B_n'], style='.-', ax=ax)\n",
    "\n",
    "phi_a = amplitudes['phi_a']\n",
    "y=B_1+(8/(3*np.pi)*omega0)*B_2*phi_a\n",
    "ax.plot(phi_a,y,'.--', label='B_e')\n",
    "\n",
    "ylim=ax.get_ylim()\n",
    "ax.set_ylim([0,ylim[1]])\n",
    "ax.legend()"
   ]
  },
  {
   "cell_type": "code",
   "execution_count": null,
   "metadata": {},
   "outputs": [],
   "source": [
    "zero_crossings = measure.get_zerocrossings(result)\n",
    "\n",
    "mask = zero_crossings['phi'] < 0\n",
    "negative_peaks = zero_crossings.loc[mask].copy()\n",
    "positive_peaks = zero_crossings.loc[~mask].copy()\n"
   ]
  },
  {
   "cell_type": "code",
   "execution_count": null,
   "metadata": {},
   "outputs": [],
   "source": [
    "fig,ax=plt.subplots()\n",
    "result.plot(y='phi', ax=ax)\n",
    "negative_peaks.plot(y='phi', style='r.', ax=ax)\n",
    "positive_peaks.plot(y='phi', style='g.', ax=ax)\n",
    "ax.grid(True)\n"
   ]
  },
  {
   "cell_type": "code",
   "execution_count": null,
   "metadata": {},
   "outputs": [],
   "source": [
    "positive_peaks"
   ]
  },
  {
   "cell_type": "code",
   "execution_count": null,
   "metadata": {},
   "outputs": [],
   "source": [
    "df_decrements_positive = positive_peaks.shift()/positive_peaks\n",
    "df_decrements_negative = negative_peaks.shift()/negative_peaks\n",
    "df_decrements = pd.concat([df_decrements_positive,df_decrements_negative])\n",
    "df_decrements.sort_index(inplace=True)"
   ]
  },
  {
   "cell_type": "code",
   "execution_count": null,
   "metadata": {},
   "outputs": [],
   "source": [
    "zero_crossings['B_n'] = 2*(1 / (2 * np.pi) * np.log(df_decrements['phi']))"
   ]
  },
  {
   "cell_type": "code",
   "execution_count": null,
   "metadata": {},
   "outputs": [],
   "source": [
    "zero_crossings['phi_a']=zero_crossings['phi'].abs()*(1+df_decrements['phi'])/2"
   ]
  },
  {
   "cell_type": "code",
   "execution_count": null,
   "metadata": {},
   "outputs": [],
   "source": [
    "zero_crossings"
   ]
  },
  {
   "cell_type": "code",
   "execution_count": null,
   "metadata": {},
   "outputs": [],
   "source": [
    "fig,ax=plt.subplots()\n",
    "zero_crossings.plot(x='phi_a', y=['B_n'], style='.-', ax=ax)\n",
    "\n",
    "phi_a = zero_crossings['phi_a']\n",
    "y=B_1+(8/(3*np.pi)*omega0)*B_2*phi_a\n",
    "ax.plot(phi_a,y,'.--', label='B_e')\n",
    "\n",
    "ylim=ax.get_ylim()\n",
    "ax.set_ylim([0,ylim[1]])\n",
    "ax.legend()"
   ]
  },
  {
   "cell_type": "code",
   "execution_count": null,
   "metadata": {},
   "outputs": [],
   "source": []
  },
  {
   "cell_type": "code",
   "execution_count": null,
   "metadata": {},
   "outputs": [],
   "source": []
  }
 ],
 "metadata": {
  "kernelspec": {
   "display_name": "Python 3",
   "language": "python",
   "name": "python3"
  },
  "language_info": {
   "codemirror_mode": {
    "name": "ipython",
    "version": 3
   },
   "file_extension": ".py",
   "mimetype": "text/x-python",
   "name": "python",
   "nbconvert_exporter": "python",
   "pygments_lexer": "ipython3",
   "version": "3.5.4"
  }
 },
 "nbformat": 4,
 "nbformat_minor": 4
}
