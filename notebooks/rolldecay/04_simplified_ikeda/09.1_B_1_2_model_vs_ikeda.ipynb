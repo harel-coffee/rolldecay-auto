{
 "cells": [
  {
   "cell_type": "markdown",
   "metadata": {},
   "source": [
    "# $B_1$ and $B_2$ in model test and SI"
   ]
  },
  {
   "cell_type": "code",
   "execution_count": null,
   "metadata": {},
   "outputs": [],
   "source": [
    "# %load ../../imports.py\n",
    "\"\"\"\n",
    "These is the standard setup for the notebooks.\n",
    "\"\"\"\n",
    "\n",
    "%matplotlib inline\n",
    "%load_ext autoreload\n",
    "%autoreload 2\n",
    "\n",
    "from jupyterthemes import jtplot\n",
    "jtplot.style(theme='onedork', context='notebook', ticks=True, grid=False)\n",
    "\n",
    "import pandas as pd\n",
    "pd.options.display.max_rows = 999\n",
    "pd.options.display.max_columns = 999\n",
    "pd.set_option(\"display.max_columns\", None)\n",
    "import numpy as np\n",
    "import os\n",
    "import matplotlib.pyplot as plt\n",
    "#plt.style.use('paper')\n",
    "\n",
    "#import data\n",
    "import copy\n",
    "from rolldecay.bis_system import BisSystem\n",
    "from rolldecay import database\n",
    "from mdldb.tables import Run\n",
    "\n",
    "from sklearn.pipeline import Pipeline\n",
    "from rolldecayestimators.transformers import CutTransformer, LowpassFilterDerivatorTransformer, ScaleFactorTransformer, OffsetTransformer\n",
    "from rolldecayestimators.direct_estimator_cubic import EstimatorQuadraticB, EstimatorCubic\n",
    "from rolldecayestimators.ikeda_estimator import IkedaQuadraticEstimator\n",
    "import rolldecayestimators.equations as equations\n",
    "import rolldecayestimators.lambdas as lambdas\n",
    "from rolldecayestimators.substitute_dynamic_symbols import lambdify\n",
    "import rolldecayestimators.symbols as symbols\n",
    "import sympy as sp\n",
    "\n",
    "from sklearn.metrics import r2_score\n",
    "import rolldecay.paper_writing as paper_writing\n",
    "\n"
   ]
  },
  {
   "cell_type": "code",
   "execution_count": null,
   "metadata": {},
   "outputs": [],
   "source": [
    "df_ikeda = database.load(rolldecay_table_name='rolldecay_simplified_ikeda', limit_score=0.1, \n",
    "                             exclude_table_name='rolldecay_exclude')\n",
    "\n",
    "df_rolldecay = database.load(rolldecay_table_name='rolldecay_quadratic_b', limit_score=0.99, \n",
    "                             exclude_table_name='rolldecay_exclude')"
   ]
  },
  {
   "cell_type": "code",
   "execution_count": null,
   "metadata": {},
   "outputs": [],
   "source": [
    "df_compare = pd.merge(left=df_rolldecay, right=df_ikeda, how='inner', left_index=True, right_index=True, suffixes=('','_SI'))"
   ]
  },
  {
   "cell_type": "code",
   "execution_count": null,
   "metadata": {},
   "outputs": [],
   "source": [
    "fig,ax=plt.subplots()\n",
    "df_compare.plot(x='B_1',y='B_1_SI', ax=ax, style='.')"
   ]
  },
  {
   "cell_type": "code",
   "execution_count": null,
   "metadata": {},
   "outputs": [],
   "source": [
    "fig,ax=plt.subplots()\n",
    "df_compare.plot(x='B_2',y='B_2_SI', ax=ax, style='.')\n",
    "ax.grid(True)"
   ]
  },
  {
   "cell_type": "code",
   "execution_count": null,
   "metadata": {},
   "outputs": [],
   "source": [
    "run = df_rolldecay.sort_values(by='B_2').iloc[0]"
   ]
  },
  {
   "cell_type": "code",
   "execution_count": null,
   "metadata": {},
   "outputs": [],
   "source": [
    "db = database.get_db()\n",
    "db_run = db.session.query(Run).get(int(run.name))\n",
    "df = database.load_run(db_run, save_as_example=False)"
   ]
  },
  {
   "cell_type": "code",
   "execution_count": null,
   "metadata": {},
   "outputs": [],
   "source": [
    "df.plot(y='phi')"
   ]
  },
  {
   "cell_type": "code",
   "execution_count": null,
   "metadata": {},
   "outputs": [],
   "source": [
    "lowpass_filter = LowpassFilterDerivatorTransformer(cutoff=2, minimum_score=0.99)\n",
    "#scaler = ScaleFactorTransformer(scale_factor=db_run.model.scale_factor)  # dummy value None for now\n",
    "cutter = CutTransformer(phi_max=np.deg2rad(9), phi_min=np.deg2rad(0.25))\n",
    "offset_transformer = OffsetTransformer()\n",
    "\n",
    "steps = [\n",
    "    ('filter',lowpass_filter),\n",
    "#    ('scaler',scaler),  # Is froude scaling a good idea??\n",
    "    ('cutter', cutter), \n",
    "    #('offset_transformer',offset_transformer)\n",
    "]\n",
    "        \n",
    "preprocessor = Pipeline(steps) # define the pipeline object.\n",
    "preprocessor.fit(df)\n",
    "X = preprocessor.transform(df)"
   ]
  },
  {
   "cell_type": "code",
   "execution_count": null,
   "metadata": {},
   "outputs": [],
   "source": [
    "X.plot(y='phi')\n",
    "X.plot(y='phi1d')"
   ]
  },
  {
   "cell_type": "code",
   "execution_count": null,
   "metadata": {},
   "outputs": [],
   "source": [
    "estimator = EstimatorQuadraticB.load(**run, X=X)"
   ]
  },
  {
   "cell_type": "code",
   "execution_count": null,
   "metadata": {},
   "outputs": [],
   "source": [
    "fig,ax=plt.subplots()\n",
    "estimator.plot_fit(ax=ax)\n",
    "estimator.plot_amplitude(ax=ax)"
   ]
  },
  {
   "cell_type": "code",
   "execution_count": null,
   "metadata": {},
   "outputs": [],
   "source": [
    "fig,ax=plt.subplots()\n",
    "estimator.plot_damping(ax=ax)"
   ]
  },
  {
   "cell_type": "code",
   "execution_count": null,
   "metadata": {},
   "outputs": [],
   "source": [
    "lowpass_filter = LowpassFilterDerivatorTransformer(cutoff=2, minimum_score=0.99)\n",
    "#scaler = ScaleFactorTransformer(scale_factor=db_run.model.scale_factor)  # dummy value None for now\n",
    "cutter = CutTransformer(phi_max=np.deg2rad(6), phi_min=np.deg2rad(0.5))\n",
    "offset_transformer = OffsetTransformer()\n",
    "\n",
    "steps = [\n",
    "    ('filter',lowpass_filter),\n",
    "#    ('scaler',scaler),  # Is froude scaling a good idea??\n",
    "    ('cutter', cutter), \n",
    "    #('offset_transformer',offset_transformer)\n",
    "]\n",
    "        \n",
    "preprocessor = Pipeline(steps) # define the pipeline object.\n",
    "preprocessor.fit(df)\n",
    "X2 = preprocessor.transform(df)"
   ]
  },
  {
   "cell_type": "code",
   "execution_count": null,
   "metadata": {},
   "outputs": [],
   "source": [
    "estimator2 = EstimatorQuadraticB(ftol=1e-09, maxfev=100000)\n",
    "estimator2.fit(X2)"
   ]
  },
  {
   "cell_type": "code",
   "execution_count": null,
   "metadata": {},
   "outputs": [],
   "source": [
    "fig,ax=plt.subplots()\n",
    "estimator2.plot_fit(ax=ax)\n",
    "estimator2.plot_amplitude(ax=ax)"
   ]
  },
  {
   "cell_type": "code",
   "execution_count": null,
   "metadata": {},
   "outputs": [],
   "source": [
    "fig,ax=plt.subplots()\n",
    "estimator2.plot_damping(ax=ax)"
   ]
  },
  {
   "cell_type": "code",
   "execution_count": null,
   "metadata": {},
   "outputs": [],
   "source": [
    "run.project_path"
   ]
  },
  {
   "cell_type": "code",
   "execution_count": null,
   "metadata": {},
   "outputs": [],
   "source": []
  }
 ],
 "metadata": {
  "kernelspec": {
   "display_name": "Python 3",
   "language": "python",
   "name": "python3"
  },
  "language_info": {
   "codemirror_mode": {
    "name": "ipython",
    "version": 3
   },
   "file_extension": ".py",
   "mimetype": "text/x-python",
   "name": "python",
   "nbconvert_exporter": "python",
   "pygments_lexer": "ipython3",
   "version": "3.5.4"
  }
 },
 "nbformat": 4,
 "nbformat_minor": 4
}
