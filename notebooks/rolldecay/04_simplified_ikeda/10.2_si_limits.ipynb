{
 "cells": [
  {
   "cell_type": "markdown",
   "metadata": {},
   "source": [
    "# SI within and outside its limits (unlimited method)"
   ]
  },
  {
   "cell_type": "code",
   "execution_count": null,
   "metadata": {},
   "outputs": [],
   "source": [
    "# %load ../../imports.py\n",
    "\"\"\"\n",
    "These is the standard setup for the notebooks.\n",
    "\"\"\"\n",
    "\n",
    "%matplotlib inline\n",
    "%load_ext autoreload\n",
    "%autoreload 2\n",
    "\n",
    "#from jupyterthemes import jtplot\n",
    "#jtplot.style(theme='onedork', context='notebook', ticks=True, grid=False)\n",
    "\n",
    "import pandas as pd\n",
    "pd.options.display.max_rows = 999\n",
    "pd.options.display.max_columns = 999\n",
    "pd.set_option(\"display.max_columns\", None)\n",
    "import numpy as np\n",
    "import os\n",
    "import matplotlib.pyplot as plt\n",
    "#plt.style.use('paper')\n",
    "\n",
    "#import data\n",
    "import copy\n",
    "from rolldecay.bis_system import BisSystem\n",
    "from rolldecay import database\n",
    "from mdldb.tables import Run\n",
    "\n",
    "from sklearn.pipeline import Pipeline\n",
    "from rolldecayestimators.transformers import CutTransformer, LowpassFilterDerivatorTransformer, ScaleFactorTransformer, OffsetTransformer\n",
    "from rolldecayestimators.direct_estimator_cubic import EstimatorQuadraticB, EstimatorCubic\n",
    "from rolldecayestimators.ikeda_estimator import IkedaQuadraticEstimator\n",
    "import rolldecayestimators.equations as equations\n",
    "import rolldecayestimators.lambdas as lambdas\n",
    "from rolldecayestimators.substitute_dynamic_symbols import lambdify\n",
    "import rolldecayestimators.symbols as symbols\n",
    "import sympy as sp\n",
    "\n",
    "from sklearn.metrics import r2_score\n",
    "import rolldecay.paper_writing as paper_writing\n",
    "\n"
   ]
  },
  {
   "cell_type": "code",
   "execution_count": null,
   "metadata": {},
   "outputs": [],
   "source": [
    "import rolldecayestimators.measure as measure\n",
    "from rolldecay.froude_scaling import froude_scale\n",
    "import seaborn as sns\n",
    "import rolldecay"
   ]
  },
  {
   "cell_type": "code",
   "execution_count": null,
   "metadata": {},
   "outputs": [],
   "source": [
    "df_rolldecay = database.load(rolldecay_table_name='rolldecay_quadratic_b', limit_score=0.95, \n",
    "                             exclude_table_name='rolldecay_exclude')\n",
    "\n",
    "df_ikeda = database.load(rolldecay_table_name='rolldecay_simplified_ikeda_unlimited', limit_score=-np.inf, \n",
    "                             exclude_table_name='rolldecay_exclude')\n",
    "\n"
   ]
  },
  {
   "cell_type": "code",
   "execution_count": null,
   "metadata": {},
   "outputs": [],
   "source": [
    "df_ikeda.describe()"
   ]
  },
  {
   "cell_type": "code",
   "execution_count": null,
   "metadata": {},
   "outputs": [],
   "source": [
    "df_rolldecay.describe()"
   ]
  },
  {
   "cell_type": "code",
   "execution_count": null,
   "metadata": {},
   "outputs": [],
   "source": [
    "df_ = pd.merge(left=df_rolldecay, right=df_ikeda, how='inner', left_index=True, right_index=True, suffixes=('','_ikeda'))\n",
    "df_.describe()"
   ]
  },
  {
   "cell_type": "code",
   "execution_count": null,
   "metadata": {},
   "outputs": [],
   "source": [
    "db = database.get_db()"
   ]
  },
  {
   "cell_type": "code",
   "execution_count": null,
   "metadata": {},
   "outputs": [],
   "source": [
    "df_rolldecay['ship_speed']*=1.852/3.6\n",
    "df_ikeda['ship_speed']*=1.852/3.6\n",
    "\n",
    "description = pd.read_sql_table('description', con=db.engine, index_col='id')\n",
    "description.loc['ship_speed','unit']='m/s'\n",
    "description.loc['VDES','unit']='m/s'\n",
    "description.loc['Disp'] = {'description':'Ship discplacement','unit':'m3'}\n",
    "\n",
    "df_ikeda['Disp']=df_ikeda['Volume']\n",
    "df_rolldecay['Disp']=df_rolldecay['Volume']\n",
    "\n",
    "skip=['omega0']  # This one is already model scale...\n",
    "df_ikeda = froude_scale(data=df_ikeda, description=description, skip=skip)\n",
    "df_rolldecay = froude_scale(data=df_rolldecay, description=description, skip=skip)"
   ]
  },
  {
   "cell_type": "code",
   "execution_count": null,
   "metadata": {},
   "outputs": [],
   "source": [
    "df_compare = measure.linearized_matrix(df_rolldecay=df_rolldecay, df_ikeda=df_ikeda)\n",
    "g=9.81\n",
    "df_compare['Fn']=df_compare['ship_speed']/np.sqrt(df_compare['lpp']*g)\n",
    "mask = df_compare['A0'] > 0.95\n",
    "df_compare=df_compare.loc[mask].copy()"
   ]
  },
  {
   "cell_type": "code",
   "execution_count": null,
   "metadata": {},
   "outputs": [],
   "source": [
    "df_compare.describe()"
   ]
  },
  {
   "cell_type": "code",
   "execution_count": null,
   "metadata": {},
   "outputs": [],
   "source": [
    "len(df_compare['id'].unique())"
   ]
  },
  {
   "cell_type": "code",
   "execution_count": null,
   "metadata": {},
   "outputs": [],
   "source": [
    "df_compare.head()"
   ]
  },
  {
   "cell_type": "code",
   "execution_count": null,
   "metadata": {},
   "outputs": [],
   "source": [
    "fig,ax=plt.subplots()\n",
    "df_compare.plot(x='B_e_hat', y='B_e_hat_ikeda', ax=ax, style='.')\n",
    "\n",
    "xlim = ax.get_xlim()\n",
    "ylim = ax.get_ylim()\n",
    "lim = np.max([xlim[1],ylim[1]])\n",
    "ax.set_xlim(0,lim)\n",
    "ax.set_ylim(0,lim)\n",
    "ax.plot([0,lim],[0,lim],'r-')\n",
    "ax.set_aspect('equal', 'box')\n",
    "ax.legend()\n",
    "ax.grid(True)"
   ]
  },
  {
   "cell_type": "code",
   "execution_count": null,
   "metadata": {},
   "outputs": [],
   "source": [
    "r2_score(y_true=df_compare['B_e_hat'], y_pred=df_compare['B_e_hat_ikeda'])"
   ]
  },
  {
   "cell_type": "code",
   "execution_count": null,
   "metadata": {},
   "outputs": [],
   "source": [
    "df_compare['error'] = (df_compare['B_e_hat_ikeda'] - df_compare['B_e_hat']).abs()"
   ]
  },
  {
   "cell_type": "markdown",
   "metadata": {},
   "source": [
    "## Now remove point outside the limits"
   ]
  },
  {
   "cell_type": "code",
   "execution_count": null,
   "metadata": {},
   "outputs": [],
   "source": [
    "from rolldecayestimators.simplified_ikeda import limits_kawahara"
   ]
  },
  {
   "cell_type": "code",
   "execution_count": null,
   "metadata": {},
   "outputs": [],
   "source": [
    "limits_kawahara=pd.Series(limits_kawahara)"
   ]
  },
  {
   "cell_type": "code",
   "execution_count": null,
   "metadata": {},
   "outputs": [],
   "source": [
    "df_compare['g']=9.81\n",
    "df_compare['draught']=(df_compare['TA'] + df_compare['TF'])/2\n",
    "df_compare['CB'] = df_compare['Volume']/(df_compare['lpp']*df_compare['beam']*df_compare['draught'])\n",
    "df_compare[r'B/d']=df_compare['beam']/df_compare['draught']\n",
    "df_compare['OG']=df_compare['draught']-df_compare['kg']\n",
    "df_compare[r'OG/d']=df_compare['OG']/df_compare['draught']\n",
    "df_compare['CMID']=df_compare['A0']\n",
    "df_compare[r'bBk/B']=df_compare['BKB']/df_compare['beam']\n",
    "df_compare[r'lBk/LPP']=df_compare['BKL']/df_compare['lpp']\n",
    "df_compare['OMEGA_hat']=lambdas.omega_hat(beam=df_compare['beam'], g=df_compare['g'], omega0=df_compare['omega0'])"
   ]
  },
  {
   "cell_type": "code",
   "execution_count": null,
   "metadata": {},
   "outputs": [],
   "source": [
    "limit_keys = list(limits_kawahara.keys())\n",
    "corr = df_compare[limit_keys].corr().abs()\n",
    "\n",
    "mask = np.zeros_like(corr, dtype=np.bool)\n",
    "mask[np.triu_indices_from(mask)] = True\n",
    "\n",
    "ax = sns.heatmap(corr, vmin=0, vmax=1, cmap='gist_yarg', annot=True, mask = mask)"
   ]
  },
  {
   "cell_type": "code",
   "execution_count": null,
   "metadata": {},
   "outputs": [],
   "source": [
    "y_vars = list(limit_keys)+['Fn']\n",
    "sns.pairplot(data=df_compare, x_vars=y_vars, y_vars=y_vars, markers='.', height=1.5)"
   ]
  },
  {
   "cell_type": "code",
   "execution_count": null,
   "metadata": {},
   "outputs": [],
   "source": [
    "def compare_versus(x,y):\n",
    "    fig,ax=plt.subplots()\n",
    "\n",
    "    df_compare.plot(x=x,y=y, style='.', ax=ax)\n",
    "    ax.set_ylabel(y)\n",
    "    xlim=ax.get_xlim()\n",
    "    ylim=ax.get_ylim()\n",
    "    alpha=0.7\n",
    "    \n",
    "    y_=[np.max([ylim[0],limits_kawahara[y][0]]),\n",
    "      np.min([ylim[1],limits_kawahara[y][1]]),\n",
    "      ]\n",
    "    ax.fill_between(x=xlim, y1=y_[0], y2=y_[1], color='g', alpha=alpha)\n",
    "    \n",
    "    x_=[np.max([xlim[0],limits_kawahara[x][0]]),\n",
    "      np.min([xlim[1],limits_kawahara[x][1]]),\n",
    "      ]\n",
    "    ax.fill_between(x=x_, y1=ylim[0], y2=ylim[1], color='g', alpha=alpha);\n",
    "\n",
    "    return ax"
   ]
  },
  {
   "cell_type": "code",
   "execution_count": null,
   "metadata": {},
   "outputs": [],
   "source": [
    "compare_versus(x='CMID', y='B/d');"
   ]
  },
  {
   "cell_type": "code",
   "execution_count": null,
   "metadata": {},
   "outputs": [],
   "source": [
    "compare_versus(x='B/d', y='bBk/B');"
   ]
  },
  {
   "cell_type": "code",
   "execution_count": null,
   "metadata": {},
   "outputs": [],
   "source": [
    "compare_versus(x='CMID', y='bBk/B');"
   ]
  },
  {
   "cell_type": "code",
   "execution_count": null,
   "metadata": {},
   "outputs": [],
   "source": [
    "\n",
    "g = sns.jointplot(x=r'B/d', y='error', data=df_compare,\n",
    "                  kind=\"reg\", truncate=False,\n",
    "                  color=\"m\", height=7)\n",
    "\n",
    "\n",
    "g = sns.jointplot(x=r'B/d', y='error', data=df_compare,\n",
    "                  kind=\"reg\", truncate=False,\n",
    "                  color=\"m\", height=7)\n",
    "\n",
    "g = sns.jointplot(x=r'CMID', y='error', data=df_compare,\n",
    "                  kind=\"reg\", truncate=False,\n",
    "                  color=\"m\", height=7)\n",
    "\n",
    "g = sns.jointplot(x=r'OMEGA_hat', y='error', data=df_compare,\n",
    "                  kind=\"reg\", truncate=False,\n",
    "                  color=\"m\", height=7)\n",
    "\n",
    "g = sns.jointplot(x=r'OG/d', y='error', data=df_compare,\n",
    "                  kind=\"reg\", truncate=False,\n",
    "                  color=\"m\", height=7)\n",
    "\n",
    "g = sns.jointplot(x=r'phi_a', y='error', data=df_compare,\n",
    "                  kind=\"reg\", truncate=False,\n",
    "                  color=\"m\", height=7)\n",
    "\n",
    "\n",
    "g = sns.jointplot(x=r'Fn', y='error', data=df_compare,\n",
    "                  kind=\"reg\", truncate=False,\n",
    "                  color=\"m\", height=7)\n"
   ]
  },
  {
   "cell_type": "code",
   "execution_count": null,
   "metadata": {},
   "outputs": [],
   "source": [
    "fig,ax=plt.subplots()\n",
    "for phi_a, group in df_compare.groupby(by='phi_a'):\n",
    "    group.sort_values(by='B/d', inplace=True)\n",
    "    group.plot(x='B/d', y='error', style='-', ax=ax)\n"
   ]
  },
  {
   "cell_type": "code",
   "execution_count": null,
   "metadata": {},
   "outputs": [],
   "source": [
    "fig,ax=plt.subplots()\n",
    "df_compare.plot(x='B/d', y=['B_e_hat_ikeda','B_e_hat'],ax=ax, style='o', alpha=0.5)"
   ]
  },
  {
   "cell_type": "code",
   "execution_count": null,
   "metadata": {},
   "outputs": [],
   "source": [
    "bad_ship = df_compare.sort_values(by='B_e_hat_ikeda', ascending=False).iloc[0]\n",
    "bad_ship['B_e_hat_ikeda']"
   ]
  },
  {
   "cell_type": "code",
   "execution_count": null,
   "metadata": {},
   "outputs": [],
   "source": [
    "from mpl_toolkits.mplot3d import Axes3D\n",
    "\n",
    "fig = plt.figure()\n",
    "ax = fig.add_subplot(111, projection='3d')\n",
    "ax.plot(df_compare['B/d'], df_compare['OG/d'], df_compare['B_e_hat_ikeda'], '.')\n",
    "ax.plot(df_compare['B/d'], df_compare['OG/d'], df_compare['B_e_hat'], '.')\n",
    "ax.plot(bad_ship['B/d'], bad_ship['OG/d'], bad_ship['B_e_hat_ikeda'],'ro')\n",
    "#ax.set_zlim(0,0.15)\n"
   ]
  },
  {
   "cell_type": "code",
   "execution_count": null,
   "metadata": {},
   "outputs": [],
   "source": [
    "bad_ship['OG/d']"
   ]
  },
  {
   "cell_type": "code",
   "execution_count": null,
   "metadata": {},
   "outputs": [],
   "source": [
    "np.rad2deg(bad_ship['phi_a'])"
   ]
  },
  {
   "cell_type": "code",
   "execution_count": null,
   "metadata": {},
   "outputs": [],
   "source": [
    "from rolldecayestimators.simplified_ikeda_class import SimplifiedIkeda, SimplifiedIkedaBK2\n",
    "bad_ship['V']=bad_ship['ship_speed']\n",
    "bad_ship['w']=bad_ship['omega0']\n",
    "bad_ship['fi_a']=bad_ship['phi_a']\n",
    "bad_ship['volume']=bad_ship['Volume']\n",
    "bad_ship['lBK']=bad_ship['BKL']\n",
    "bad_ship['bBK']=bad_ship['BKB']\n",
    "\n",
    "si = SimplifiedIkeda(**bad_ship)\n",
    "si.calculate_B44()\n"
   ]
  },
  {
   "cell_type": "code",
   "execution_count": null,
   "metadata": {},
   "outputs": [],
   "source": [
    "si2 = SimplifiedIkedaBK2(**bad_ship)\n",
    "si2._R=0.02*bad_ship['beam']\n",
    "si2.calculate_B44()"
   ]
  },
  {
   "cell_type": "code",
   "execution_count": null,
   "metadata": {},
   "outputs": [],
   "source": [
    "bad_ship2 = bad_ship.copy()\n",
    "N=100\n",
    "\n",
    "b_ds=np.linspace(4.5,6,N)\n",
    "bad_ship2['B/d']=np.tile(b_ds,[N,1])\n",
    "bad_ship2['draught'] = bad_ship2['beam']/bad_ship2['B/d']\n",
    "\n",
    "OG_ds =  np.linspace(-0.85,-0.5,N)\n",
    "bad_ship2['OG/d'] = np.tile(OG_ds,[N,1]).T\n",
    "bad_ship2['OG'] = bad_ship2['OG/d']*bad_ship2['draught']\n",
    "bad_ship2['kg'] = bad_ship2['draught'] - bad_ship2['OG']\n",
    "\n",
    "si2 = SimplifiedIkeda(**bad_ship2)\n",
    "\n",
    "B_44_hat = si2.calculate_B44()\n",
    "\n",
    "fig = plt.figure()\n",
    "ax = fig.add_subplot(111, projection='3d')\n",
    "ax.plot_surface(bad_ship2['B/d'], bad_ship2['OG/d'], B_44_hat)\n",
    "\n",
    "ax.plot(bad_ship['B/d'], bad_ship['OG/d'], si.calculate_B44()[0],'ro')"
   ]
  },
  {
   "cell_type": "code",
   "execution_count": null,
   "metadata": {},
   "outputs": [],
   "source": [
    "fig,ax=plt.subplots()\n",
    "cs = ax.contour(bad_ship2['B/d'], bad_ship2['OG/d'], B_44_hat, levels=6)\n",
    "ax.clabel(cs, inline=1, fontsize=10)\n",
    "ax.set_xlabel('B/d')\n",
    "ax.set_ylabel('OG/d')\n",
    "\n",
    "df_compare.plot(x='B/d', y='OG/d', style='b.', ax=ax)\n",
    "ax.plot(bad_ship['B/d'], bad_ship['OG/d'],'ro')"
   ]
  },
  {
   "cell_type": "markdown",
   "metadata": {},
   "source": [
    "<a href id='mountain'></a>"
   ]
  },
  {
   "cell_type": "code",
   "execution_count": null,
   "metadata": {},
   "outputs": [],
   "source": [
    "good_ship = df_compare.sort_values(by='error', ascending=True).iloc[0]\n",
    "good_ship['V']=good_ship['ship_speed']\n",
    "good_ship['w']=good_ship['omega0']\n",
    "good_ship['fi_a']=good_ship['phi_a']\n",
    "good_ship['volume']=good_ship['Volume']\n",
    "good_ship['lBK']=good_ship['BKL']\n",
    "good_ship['bBK']=good_ship['BKB']\n",
    "\n",
    "\n",
    "good_ship2 = good_ship.copy()\n",
    "N=30\n",
    "\n",
    "b_ds=np.linspace(df_compare['B/d'].min(),df_compare['B/d'].max(),N)\n",
    "good_ship2['B/d']=np.tile(b_ds,[N,1])\n",
    "good_ship2['draught'] = good_ship2['beam']/good_ship2['B/d']\n",
    "\n",
    "OG_ds =  np.linspace(df_compare['OG/d'].min(),df_compare['OG/d'].max(),N)\n",
    "good_ship2['OG/d'] = np.tile(OG_ds,[N,1]).T\n",
    "good_ship2['OG'] = good_ship2['OG/d']*good_ship2['draught']\n",
    "good_ship2['kg'] = good_ship2['draught'] - good_ship2['OG']\n",
    "\n",
    "si = SimplifiedIkeda(**good_ship)\n",
    "si2 = SimplifiedIkeda(**good_ship2)\n",
    "\n",
    "B_44_hat = si2.calculate_B44()\n",
    "\n",
    "fig = plt.figure()\n",
    "ax = fig.add_subplot(111, projection='3d')\n",
    "ax.plot_surface(good_ship2['B/d'], good_ship2['OG/d'], B_44_hat)\n",
    "\n",
    "ax.plot(good_ship['B/d'], good_ship['OG/d'], si.calculate_B44()[0],'ro')"
   ]
  },
  {
   "cell_type": "code",
   "execution_count": null,
   "metadata": {},
   "outputs": [],
   "source": [
    "fig,ax=plt.subplots()\n",
    "cs = ax.contour(good_ship2['B/d'], good_ship2['OG/d'], B_44_hat, levels=3)\n",
    "ax.clabel(cs, inline=1, fontsize=10)\n",
    "ax.set_xlabel('B/d')\n",
    "ax.set_ylabel('OG/d')\n",
    "\n",
    "df_compare.plot(x='B/d', y='OG/d', style='b.', ax=ax)\n",
    "ax.plot(good_ship['B/d'], good_ship['OG/d'],'ro')"
   ]
  },
  {
   "cell_type": "code",
   "execution_count": null,
   "metadata": {},
   "outputs": [],
   "source": [
    "from matplotlib import cm\n",
    "\n",
    "fig,ax=plt.subplots()\n",
    "cs = ax.contourf(good_ship2['B/d'], good_ship2['OG/d'], B_44_hat, cmap='gray_r')\n",
    "ax.set_xlabel('B/d')\n",
    "ax.set_ylabel('OG/d')\n",
    "\n",
    "df_compare.plot(x='B/d', y='OG/d', style='b.', ax=ax)\n",
    "ax.plot(good_ship['B/d'], good_ship['OG/d'],'ro')\n",
    "cbar = fig.colorbar(cs)"
   ]
  },
  {
   "cell_type": "code",
   "execution_count": null,
   "metadata": {},
   "outputs": [],
   "source": [
    "good_ship['B/d']"
   ]
  },
  {
   "cell_type": "code",
   "execution_count": null,
   "metadata": {},
   "outputs": [],
   "source": [
    "good_ship['OG/d']"
   ]
  },
  {
   "cell_type": "code",
   "execution_count": null,
   "metadata": {},
   "outputs": [],
   "source": [
    "corr = df_compare[limit_keys+['error']].corr().abs()\n",
    "\n",
    "fig,ax=plt.subplots()\n",
    "corr.plot(y='error', kind='bar', ax=ax);\n",
    "ax.set_title('Absolut correlation coefficient for the error');"
   ]
  },
  {
   "cell_type": "code",
   "execution_count": null,
   "metadata": {},
   "outputs": [],
   "source": [
    "fig,axes=plt.subplots(nrows=len(limits_kawahara))\n",
    "fig.set_size_inches(15,12)\n",
    "\n",
    "for (item, limits),ax in zip(limits_kawahara.items(),axes):\n",
    "        \n",
    "    df_compare.hist(item, ax=ax)\n",
    "    ax.set_xlabel(item)\n",
    "    ax.set_title('')\n",
    "    \n",
    "    ylims = ax.get_ylim()\n",
    "    ax.fill_between(limits, [ylims[1],ylims[1]], y2=0, color='green', alpha=0.5, label='valid')\n",
    "    \n",
    "plt.tight_layout()\n",
    "    "
   ]
  },
  {
   "cell_type": "code",
   "execution_count": null,
   "metadata": {},
   "outputs": [],
   "source": [
    "def cut(df, limits, item):\n",
    "    df=df.copy()\n",
    "    mask = ((df[item] >= limits[0]) & (df[item] <= limits[1])) | (df[item]==0)\n",
    "    df=df.loc[mask].copy()\n",
    "    return df\n",
    "\n",
    "def plot_select(df_compare, limits_used):\n",
    "    \n",
    "    df_compare_within = df_compare.copy()\n",
    "\n",
    "    fig,axes=plt.subplots(nrows=len(limits_used))\n",
    "    fig.set_size_inches(15,12)\n",
    "    \n",
    "    for (item, limits),ax in zip(limits_used.items(),axes):\n",
    "        \n",
    "        n_bins = 20\n",
    "        bins=np.linspace(df_compare[item].min(), df_compare[item].max(),n_bins)\n",
    "        df_compare.hist(item, ax=ax, bins=bins, color='gray')\n",
    "        \n",
    "        df_compare_within = cut(df=df_compare_within, limits=limits, item=item)\n",
    "        df_compare_within.hist(item, ax=ax, bins=bins, color='blue')\n",
    "        ax.set_xlabel(item)\n",
    "        ax.set_title('')\n",
    "        \n",
    "        ylims = ax.get_ylim()\n",
    "        ax.fill_between(limits, [ylims[1],ylims[1]], y2=0, color='green', alpha=0.5, label='valid')\n",
    "        \n",
    "    plt.tight_layout()\n",
    "    \n",
    "    fig,ax=plt.subplots()\n",
    "    df_compare_within.plot(x='B_e_hat', y='B_e_hat_ikeda', ax=ax, style='.')\n",
    "    \n",
    "    xlim = ax.get_xlim()\n",
    "    ylim = ax.get_ylim()\n",
    "    lim = np.max([xlim[1],ylim[1]])\n",
    "    ax.set_xlim(0,lim)\n",
    "    ax.set_ylim(0,lim)\n",
    "    ax.plot([0,lim],[0,lim],'r-')\n",
    "    ax.set_aspect('equal', 'box')\n",
    "    ax.legend()\n",
    "    ax.grid(True)\n",
    "    \n",
    "    r2 = r2_score(y_true=df_compare_within['B_e_hat'], y_pred=df_compare_within['B_e_hat_ikeda'])\n",
    "    print('r2:%f' % r2)\n",
    "    \n",
    "    return df_compare_within\n",
    "        "
   ]
  },
  {
   "cell_type": "code",
   "execution_count": null,
   "metadata": {},
   "outputs": [],
   "source": [
    "limits_kawahara"
   ]
  },
  {
   "cell_type": "markdown",
   "metadata": {},
   "source": [
    "If we put **bBk/B** and **CMID** first, the other limits becomes redundant:"
   ]
  },
  {
   "cell_type": "code",
   "execution_count": null,
   "metadata": {},
   "outputs": [],
   "source": [
    "keys_ordered=[\n",
    "'bBk/B',     \n",
    "'CMID',    \n",
    "'CB',        \n",
    "'B/d',       \n",
    "'OG/d',      \n",
    "'lBk/LPP',   \n",
    "'OMEGA_hat',\n",
    "]\n",
    "\n",
    "limits_used = limits_kawahara[keys_ordered]\n",
    "df_compare_within = plot_select(df_compare=df_compare, limits_used=limits_used)"
   ]
  },
  {
   "cell_type": "code",
   "execution_count": null,
   "metadata": {},
   "outputs": [],
   "source": [
    "limits_used = limits_kawahara.copy()\n",
    "limits_used.pop('CMID')\n",
    "df_compare_within = plot_select(df_compare=df_compare, limits_used=limits_used)\n"
   ]
  },
  {
   "cell_type": "code",
   "execution_count": null,
   "metadata": {},
   "outputs": [],
   "source": [
    "def select(df_compare, limits_used):\n",
    "    \n",
    "    df_compare_within = df_compare.copy()\n",
    "    \n",
    "    for item, limits in limits_used.items():\n",
    "        \n",
    "        df_compare_within = cut(df=df_compare_within, limits=limits, item=item)\n",
    "        \n",
    "    return df_compare_within"
   ]
  },
  {
   "cell_type": "code",
   "execution_count": null,
   "metadata": {},
   "outputs": [],
   "source": [
    "limits_used = limits_kawahara.copy()\n",
    "df_ = select(df_compare=df_compare, limits_used=limits_used)\n",
    "r2_score(y_true=df_['B_e_hat'], y_pred=df_['B_e_hat_ikeda'])"
   ]
  },
  {
   "cell_type": "code",
   "execution_count": null,
   "metadata": {},
   "outputs": [],
   "source": [
    "len(df_['id'].unique())"
   ]
  },
  {
   "cell_type": "code",
   "execution_count": null,
   "metadata": {},
   "outputs": [],
   "source": [
    "limits_used = limits_kawahara.copy()\n",
    "limits_used.pop(r'CMID')\n",
    "\n",
    "df_ = select(df_compare=df_compare, limits_used=limits_used)\n",
    "r2_score(y_true=df_['B_e_hat'], y_pred=df_['B_e_hat_ikeda'])"
   ]
  },
  {
   "cell_type": "code",
   "execution_count": null,
   "metadata": {},
   "outputs": [],
   "source": [
    "limits_used = {}\n",
    "df_ = select(df_compare=df_compare, limits_used=limits_used)\n",
    "r2_score(y_true=df_['B_e_hat'], y_pred=df_['B_e_hat_ikeda'])"
   ]
  },
  {
   "cell_type": "code",
   "execution_count": null,
   "metadata": {},
   "outputs": [],
   "source": [
    "limits_used = limits_kawahara[['B/d']]\n",
    "df_ = select(df_compare=df_compare, limits_used=limits_used)\n",
    "r2_score(y_true=df_['B_e_hat'], y_pred=df_['B_e_hat_ikeda'])"
   ]
  },
  {
   "cell_type": "code",
   "execution_count": null,
   "metadata": {},
   "outputs": [],
   "source": [
    "limits_used = limits_kawahara[['B/d','bBk/B']]\n",
    "df_ = select(df_compare=df_compare, limits_used=limits_used)\n",
    "r2_score(y_true=df_['B_e_hat'], y_pred=df_['B_e_hat_ikeda'])"
   ]
  },
  {
   "cell_type": "code",
   "execution_count": null,
   "metadata": {},
   "outputs": [],
   "source": [
    "limits_used = limits_kawahara[['B/d','bBk/B','CMID']]\n",
    "df_ = select(df_compare=df_compare, limits_used=limits_used)\n",
    "r2_score(y_true=df_['B_e_hat'], y_pred=df_['B_e_hat_ikeda'])"
   ]
  },
  {
   "cell_type": "code",
   "execution_count": null,
   "metadata": {},
   "outputs": [],
   "source": [
    "limits_used = limits_kawahara[['CMID']]\n",
    "df_ = select(df_compare=df_compare, limits_used=limits_used)\n",
    "r2_score(y_true=df_['B_e_hat'], y_pred=df_['B_e_hat_ikeda'])"
   ]
  },
  {
   "cell_type": "code",
   "execution_count": null,
   "metadata": {},
   "outputs": [],
   "source": [
    "limits_used = limits_kawahara[['CMID','bBk/B']]\n",
    "df_ = select(df_compare=df_compare, limits_used=limits_used)\n",
    "r2_score(y_true=df_['B_e_hat'], y_pred=df_['B_e_hat_ikeda'])"
   ]
  },
  {
   "cell_type": "code",
   "execution_count": null,
   "metadata": {},
   "outputs": [],
   "source": [
    "len(df_['id'].unique())"
   ]
  },
  {
   "cell_type": "code",
   "execution_count": null,
   "metadata": {},
   "outputs": [],
   "source": [
    "limits_used = limits_kawahara[['CMID','B/d']]\n",
    "df_ = select(df_compare=df_compare, limits_used=limits_used)\n",
    "r2_score(y_true=df_['B_e_hat'], y_pred=df_['B_e_hat_ikeda'])"
   ]
  },
  {
   "cell_type": "code",
   "execution_count": null,
   "metadata": {},
   "outputs": [],
   "source": [
    "limits_used = limits_kawahara[['CMID','bBk/B']]\n",
    "df_ = select(df_compare=df_compare, limits_used=limits_used)\n",
    "r2_score(y_true=df_['B_e_hat'], y_pred=df_['B_e_hat_ikeda'])\n",
    "\n",
    "df_compare_within = plot_select(df_compare=df_compare, limits_used=limits_used)"
   ]
  },
  {
   "cell_type": "code",
   "execution_count": null,
   "metadata": {},
   "outputs": [],
   "source": [
    "size=3.0\n",
    "with plt.style.context('paper'):\n",
    "    \n",
    "    fig,ax=plt.subplots()\n",
    "    fig.set_size_inches(size,size)\n",
    "    \n",
    "\n",
    "    df_unlimited = select(df_compare=df_compare, limits_used={})  # Unlimited\n",
    "    df_unlimited.plot(x='B_e_hat', y='B_e_hat_ikeda', ax=ax, style=r'X', label='no limits')\n",
    "    \n",
    "    limits_used = limits_kawahara[['CMID','bBk/B']]\n",
    "    df_limited = select(df_compare=df_compare, limits_used=limits_used)\n",
    "    df_limited.plot(x='B_e_hat', y='B_e_hat_ikeda', ax=ax, style='.', label='within limits')\n",
    "    \n",
    "    ax.set_xlabel(r'$\\hat{B}_{e}^{Model}$')\n",
    "    ax.set_ylabel(r'$\\hat{B}_{e}^{SI}$')\n",
    "    \n",
    "    \n",
    "    xlim = ax.get_xlim()\n",
    "    ylim = ax.get_ylim()\n",
    "    lim = np.max([xlim[1],ylim[1]])\n",
    "    ax.set_xlim(0,lim)\n",
    "    ax.set_ylim(0,lim)\n",
    "    ax.plot([0,lim],[0,lim],'r-')\n",
    "    ax.set_aspect('equal', 'box')\n",
    "    ax.legend()\n",
    "    ax.grid(True)\n",
    "    \n",
    "    paper_writing.save_fig(fig=fig, name='si_model_within')\n",
    "    "
   ]
  },
  {
   "cell_type": "code",
   "execution_count": null,
   "metadata": {},
   "outputs": [],
   "source": [
    "r2_score(y_true=df_unlimited['B_e_hat'], y_pred=df_unlimited['B_e_hat_ikeda'])"
   ]
  },
  {
   "cell_type": "code",
   "execution_count": null,
   "metadata": {},
   "outputs": [],
   "source": [
    "r2_score(y_true=df_limited['B_e_hat'], y_pred=df_limited['B_e_hat_ikeda'])"
   ]
  },
  {
   "cell_type": "markdown",
   "metadata": {},
   "source": [
    "## Save to table"
   ]
  },
  {
   "cell_type": "code",
   "execution_count": null,
   "metadata": {},
   "outputs": [],
   "source": [
    "mean_='$R^2$'\n",
    "number_of_points = 'Number of points'\n",
    "\n",
    "validation = pd.DataFrame(columns=[mean_, number_of_points])\n",
    "\n",
    "s = pd.Series(name='SI no limits')\n",
    "s[mean_] = r2_score(y_true=df_unlimited['B_e_hat'], y_pred=df_unlimited['B_e_hat_ikeda'])\n",
    "s[number_of_points] = int(len(df_unlimited))\n",
    "validation=validation.append(s)\n",
    "\n",
    "s = pd.Series(name='SI within limits')\n",
    "s[mean_] = r2_score(y_true=df_limited['B_e_hat'], y_pred=df_limited['B_e_hat_ikeda'])\n",
    "s[number_of_points] = int(len(df_limited))\n",
    "validation=validation.append(s)\n",
    "\n",
    "validation[number_of_points]=validation[number_of_points].astype(int)"
   ]
  },
  {
   "cell_type": "code",
   "execution_count": null,
   "metadata": {},
   "outputs": [],
   "source": [
    "validation"
   ]
  },
  {
   "cell_type": "code",
   "execution_count": null,
   "metadata": {},
   "outputs": [],
   "source": [
    "latex = validation.to_latex(float_format='%0.2f', na_rep='')\n",
    "name='si_validation'\n",
    "file_path = os.path.join(rolldecay.equations_path,name)\n",
    "\n",
    "# (Uncomment this one if you want to regenerate this table)\n",
    "paper_writing.save_table(file_path=file_path, tabular_tex=latex, label='tab:si_validation', \n",
    "           caption='Validation of SI within and outside limits')"
   ]
  },
  {
   "cell_type": "code",
   "execution_count": null,
   "metadata": {},
   "outputs": [],
   "source": [
    "prefixes = [\n",
    "    'B_W_e_hat',\n",
    "    'B_F_e_hat',\n",
    "    'B_E_e_hat',\n",
    "    'B_BK_e_hat',\n",
    "    'B_L_e_hat',]\n",
    "\n",
    "labels=[\n",
    "    r'$\\hat{B}_{W}$',\n",
    "    r'$\\hat{B}_{F}$',\n",
    "    r'$\\hat{B}_{E}$',\n",
    "    r'$\\hat{B}_{BK}$',\n",
    "    r'$\\hat{B}_{L}$',\n",
    "    ]\n",
    "\n",
    "\n",
    "with plt.style.context('paper'):\n",
    "    \n",
    "    fig,ax=plt.subplots()\n",
    "    fig.set_size_inches(size,size)\n",
    "\n",
    "        \n",
    "        \n",
    "    df_unlimited['B_e_hat_residual_si_model_abs'] = (df_unlimited['B_e_hat_ikeda'] - df_unlimited['B_e_hat']).abs()\n",
    "    df_unlimited.plot(x='B_e_hat_residual_si_model_abs', y=prefixes, style='.', label=labels, ax=ax)\n",
    "    ax.set_xlabel(r'$|\\hat{B}_{e}^{SI}-\\hat{B}_{e}^{Model}|$')\n",
    "        \n",
    "    ax.legend()\n",
    "    ax.grid(True)\n",
    "    ax.set_ylabel(r'$\\hat{B}$ [-]')\n",
    "    ax.set_aspect('equal', 'box')\n",
    "    \n",
    "    paper_writing.save_fig(fig, name='component_residual')"
   ]
  },
  {
   "cell_type": "code",
   "execution_count": null,
   "metadata": {},
   "outputs": [],
   "source": [
    "df_unlimited.head()"
   ]
  },
  {
   "cell_type": "code",
   "execution_count": null,
   "metadata": {},
   "outputs": [],
   "source": []
  }
 ],
 "metadata": {
  "kernelspec": {
   "display_name": "Python 3",
   "language": "python",
   "name": "python3"
  },
  "language_info": {
   "codemirror_mode": {
    "name": "ipython",
    "version": 3
   },
   "file_extension": ".py",
   "mimetype": "text/x-python",
   "name": "python",
   "nbconvert_exporter": "python",
   "pygments_lexer": "ipython3",
   "version": "3.6.8"
  }
 },
 "nbformat": 4,
 "nbformat_minor": 4
}
