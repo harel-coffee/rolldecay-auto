{
 "cells": [
  {
   "cell_type": "markdown",
   "metadata": {},
   "source": [
    "# Ship selection\n",
    "Some ships may have strange shapes or stabilizing fins so that they have roll decay results that are very much different."
   ]
  },
  {
   "cell_type": "code",
   "execution_count": null,
   "metadata": {},
   "outputs": [],
   "source": [
    "%matplotlib inline\n",
    "%load_ext autoreload\n",
    "%autoreload 2"
   ]
  },
  {
   "cell_type": "code",
   "execution_count": null,
   "metadata": {},
   "outputs": [],
   "source": [
    "from jupyterthemes import jtplot\n",
    "jtplot.style(theme='onedork', context='notebook', ticks=True, grid=False)\n",
    "\n",
    "import pandas as pd\n",
    "pd.options.display.max_rows = 999\n",
    "pd.options.display.max_columns = 999\n",
    "pd.set_option(\"display.max_columns\", None)\n",
    "import numpy as np\n",
    "import os\n",
    "import matplotlib.pyplot as plt\n",
    "from pylab import rcParams\n",
    "rcParams['figure.figsize'] = 15, 5\n",
    "\n",
    "from rolldecay import database\n",
    "import rolldecayestimators.lambdas as lambdas\n",
    "from rolldecayestimators.substitute_dynamic_symbols import run\n",
    "from rolldecay.froude_scaling import froude_scale\n",
    "from mdldb.tables import Run, RollDecayExclude"
   ]
  },
  {
   "cell_type": "code",
   "execution_count": null,
   "metadata": {},
   "outputs": [],
   "source": [
    "df_rolldecay = database.load(rolldecay_table_name='rolldecay_quadratic_b', limit_score=0.90)\n",
    "db = database.get_db()"
   ]
  },
  {
   "cell_type": "code",
   "execution_count": null,
   "metadata": {},
   "outputs": [],
   "source": [
    "df_rolldecay.describe()"
   ]
  },
  {
   "cell_type": "code",
   "execution_count": null,
   "metadata": {},
   "outputs": [],
   "source": [
    "ids = ''\n",
    "unique_ids = df_rolldecay['loading_condition_id'].unique()\n",
    "for id in unique_ids[0:-1]:\n",
    "    ids+='%i,'%id\n",
    "ids+='%i' % unique_ids[-1]\n",
    "\n",
    "sql = \"\"\"\n",
    "select * \n",
    "from loading_conditions\n",
    "INNER JOIN models\n",
    "ON loading_conditions.model_number == models.model_number\n",
    "    INNER JOIN ships\n",
    "    ON models.ship_name == ships.name\n",
    "        INNER JOIN association\n",
    "        ON ships.name==association.ship_name \n",
    "            INNER JOIN projects\n",
    "            ON association.project_number = projects.project_number\n",
    "        \n",
    "where loading_conditions.id in (%s)\n",
    "\"\"\" % ids\n",
    "loading_conditions = pd.read_sql(sql, con=db.engine, index_col='id', )\n",
    "loading_conditions = loading_conditions.loc[:, ~loading_conditions.columns.duplicated()]"
   ]
  },
  {
   "cell_type": "code",
   "execution_count": null,
   "metadata": {},
   "outputs": [],
   "source": [
    "loading_conditions.head()"
   ]
  },
  {
   "cell_type": "code",
   "execution_count": null,
   "metadata": {},
   "outputs": [],
   "source": [
    "description = pd.read_sql_table('description', con=db.engine, index_col='id')\n",
    "description.loc['ship_speed','unit']='m/s'\n",
    "description.loc['VDES','unit']='m/s'"
   ]
  },
  {
   "cell_type": "code",
   "execution_count": null,
   "metadata": {},
   "outputs": [],
   "source": [
    "skip = [\n",
    "    'model_number',\n",
    "    'loading_condition_id',\n",
    "    'B_1A',\n",
    "    'B_2A',\n",
    "    'B_3A',\n",
    "    'C_1A',\n",
    "    'C_3A',\n",
    "    'C_5A',\n",
    "    'B_1A',\n",
    "    'B_1',\n",
    "    'B_2',\n",
    "    'B_3',\n",
    "    'C_1',\n",
    "    'C_3',\n",
    "    'C_5',\n",
    "    'A_44',\n",
    "    'omega0_fft',\n",
    "    'omega0',\n",
    "    'score',\n",
    "    'id',\n",
    "    'project_number',\n",
    "    'series_number',\n",
    "    'run_number',\n",
    "    'test_number',\n",
    "    'scale_factor',\n",
    "    'g',\n",
    "    'rho',\n",
    "    'B_1_hat',\n",
    "    'B_2_hat',\n",
    "]"
   ]
  },
  {
   "cell_type": "code",
   "execution_count": null,
   "metadata": {},
   "outputs": [],
   "source": [
    "loading_conditions"
   ]
  },
  {
   "cell_type": "code",
   "execution_count": null,
   "metadata": {},
   "outputs": [],
   "source": [
    "df_model = froude_scale(data=loading_conditions, description=description, skip=skip)\n",
    "df_model['scale_factor']=df_model['lpp']\n",
    "mask = df_model['scale_factor']!=0\n",
    "df_model=df_model.loc[mask]\n",
    "loading_conditions_1 = froude_scale(data=df_model, description=description, skip=skip)"
   ]
  },
  {
   "cell_type": "code",
   "execution_count": null,
   "metadata": {},
   "outputs": [],
   "source": [
    "len(loading_conditions)"
   ]
  },
  {
   "cell_type": "code",
   "execution_count": null,
   "metadata": {},
   "outputs": [],
   "source": [
    "len(loading_conditions_1)"
   ]
  },
  {
   "cell_type": "code",
   "execution_count": null,
   "metadata": {},
   "outputs": [],
   "source": [
    "loading_conditions_1['gm'].hist(bins=50)"
   ]
  },
  {
   "cell_type": "code",
   "execution_count": null,
   "metadata": {},
   "outputs": [],
   "source": [
    "mask = loading_conditions_1['gm'] > loading_conditions_1['gm'].quantile(0.999)"
   ]
  },
  {
   "cell_type": "code",
   "execution_count": null,
   "metadata": {},
   "outputs": [],
   "source": [
    "loading_conditions_1.loc[mask].iloc[0]"
   ]
  },
  {
   "cell_type": "code",
   "execution_count": null,
   "metadata": {},
   "outputs": [],
   "source": [
    "good = loading_conditions_1['gm'] < loading_conditions_1['gm'].quantile(0.999)\n",
    "loading_conditions_1=loading_conditions_1.loc[good].copy()\n",
    "loading_conditions_1.describe()"
   ]
  },
  {
   "cell_type": "code",
   "execution_count": null,
   "metadata": {},
   "outputs": [],
   "source": [
    "loading_conditions_1['KXX'].hist(bins=50)"
   ]
  },
  {
   "cell_type": "code",
   "execution_count": null,
   "metadata": {},
   "outputs": [],
   "source": [
    "loading_conditions_1['beam'].hist(bins=50)"
   ]
  },
  {
   "cell_type": "code",
   "execution_count": null,
   "metadata": {},
   "outputs": [],
   "source": [
    "loading_conditions_1['A0'].hist(bins=50)"
   ]
  },
  {
   "cell_type": "code",
   "execution_count": null,
   "metadata": {},
   "outputs": [],
   "source": [
    "loading_conditions_1['A0'].quantile(0.001)"
   ]
  },
  {
   "cell_type": "code",
   "execution_count": null,
   "metadata": {},
   "outputs": [],
   "source": [
    "mask = loading_conditions_1['A0'] < loading_conditions_1['A0'].quantile(0.001)"
   ]
  },
  {
   "cell_type": "code",
   "execution_count": null,
   "metadata": {},
   "outputs": [],
   "source": [
    "loading_conditions_1.loc[mask].iloc[0]"
   ]
  },
  {
   "cell_type": "code",
   "execution_count": null,
   "metadata": {},
   "outputs": [],
   "source": [
    "good = loading_conditions_1.index != loading_conditions_1.loc[mask].iloc[0].name\n",
    "loading_conditions_1=loading_conditions_1.loc[good].copy()\n",
    "loading_conditions_1.describe()"
   ]
  },
  {
   "cell_type": "code",
   "execution_count": null,
   "metadata": {},
   "outputs": [],
   "source": [
    "removes = set(loading_conditions.index) - set(loading_conditions_1.index)\n",
    "removes"
   ]
  },
  {
   "cell_type": "code",
   "execution_count": null,
   "metadata": {},
   "outputs": [],
   "source": [
    "#df_ikeda['g']=9.81\n",
    "#df_ikeda['rho']=1000\n",
    "#df_ikeda['Disp']=df_ikeda['Volume']/(df_ikeda['scale_factor']**3)\n",
    "#df_ikeda['B_1_hat'] = run(function=lambdas.B_1_hat_lambda, inputs=df_ikeda)\n",
    "#df_ikeda['B_2_hat'] = run(function=lambdas.B_2_hat_lambda, inputs=df_ikeda)"
   ]
  },
  {
   "cell_type": "code",
   "execution_count": null,
   "metadata": {},
   "outputs": [],
   "source": [
    "df_rolldecay_exclude = pd.DataFrame()\n",
    "for remove in removes:\n",
    "    mask = df_rolldecay['loading_condition_id']==remove\n",
    "    df_rolldecay_exclude=df_rolldecay_exclude.append(df_rolldecay.loc[mask])"
   ]
  },
  {
   "cell_type": "code",
   "execution_count": null,
   "metadata": {},
   "outputs": [],
   "source": [
    "df_rolldecay.describe()"
   ]
  },
  {
   "cell_type": "code",
   "execution_count": null,
   "metadata": {},
   "outputs": [],
   "source": [
    "df_rolldecay_exclude.describe()"
   ]
  },
  {
   "cell_type": "markdown",
   "metadata": {},
   "source": [
    "## Save outliers:"
   ]
  },
  {
   "cell_type": "code",
   "execution_count": null,
   "metadata": {},
   "outputs": [],
   "source": [
    "#roll_decay_exclude=RollDecayExclude(run_id=1)\n",
    "#db.session.merge(roll_decay_exclude)\n",
    "#db.session.commit()\n",
    "#RollDecayExclude.__table__.drop(db.engine)\n",
    "#RollDecayExclude.metadata.create_all(db.engine)\n",
    "\n",
    "for run_id, _ in df_rolldecay_exclude.iterrows():\n",
    "    roll_decay_exclude = RollDecayExclude(run_id=run_id)\n",
    "    db.session.merge(roll_decay_exclude)\n",
    "    \n",
    "db.session.commit()"
   ]
  }
 ],
 "metadata": {
  "kernelspec": {
   "display_name": "Python 3",
   "language": "python",
   "name": "python3"
  },
  "language_info": {
   "codemirror_mode": {
    "name": "ipython",
    "version": 3
   },
   "file_extension": ".py",
   "mimetype": "text/x-python",
   "name": "python",
   "nbconvert_exporter": "python",
   "pygments_lexer": "ipython3",
   "version": "3.5.4"
  }
 },
 "nbformat": 4,
 "nbformat_minor": 4
}
