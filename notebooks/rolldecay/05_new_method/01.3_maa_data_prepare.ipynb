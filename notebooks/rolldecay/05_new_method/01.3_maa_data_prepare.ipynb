{
 "cells": [
  {
   "cell_type": "markdown",
   "metadata": {},
   "source": [
    "# Data prepare for regression"
   ]
  },
  {
   "cell_type": "code",
   "execution_count": null,
   "metadata": {},
   "outputs": [],
   "source": [
    "%matplotlib inline\n",
    "%load_ext autoreload\n",
    "%autoreload 2"
   ]
  },
  {
   "cell_type": "code",
   "execution_count": null,
   "metadata": {},
   "outputs": [],
   "source": [
    "from jupyterthemes import jtplot\n",
    "jtplot.style(theme='onedork', context='notebook', ticks=True, grid=False)"
   ]
  },
  {
   "cell_type": "code",
   "execution_count": null,
   "metadata": {
    "pycharm": {
     "is_executing": false
    }
   },
   "outputs": [],
   "source": [
    "import pandas as pd\n",
    "pd.options.display.max_rows = 999\n",
    "pd.options.display.max_columns = 999\n",
    "pd.set_option(\"display.max_columns\", None)\n",
    "import numpy as np\n",
    "import os\n",
    "import matplotlib.pyplot as plt\n",
    "from pylab import rcParams\n",
    "rcParams['figure.figsize'] = 15, 5\n",
    "\n",
    "import data\n",
    "import copy\n",
    "from rolldecay.bis_system import BisSystem\n",
    "from rolldecay import database\n",
    "from rolldecayestimators import equations, symbols\n",
    "\n",
    "from sklearn.pipeline import Pipeline\n",
    "from sklearn.model_selection import cross_val_score\n",
    "from sklearn.model_selection import train_test_split\n",
    "from sklearn.preprocessing import StandardScaler\n",
    "from sklearn.feature_selection import VarianceThreshold\n",
    "from sklearn.ensemble import ExtraTreesClassifier\n",
    "from sklearn.feature_selection import SelectKBest\n",
    "from sklearn.feature_selection import chi2\n",
    "from sklearn.feature_selection import f_regression\n",
    "\n",
    "from sklearn.linear_model import LinearRegression\n",
    "from sklearn.model_selection import cross_validate\n",
    "from sklearn.preprocessing import PolynomialFeatures\n",
    "from sklearn.pipeline import Pipeline\n",
    "from sklearn.pipeline import make_pipeline\n",
    "\n",
    "import signal_lab\n",
    "from sqlalchemy.inspection import inspect\n",
    "import seaborn as sns\n",
    "import docs\n",
    "from sympy.physics.vector.printing import vpprint, vlatex\n",
    "from IPython.display import display, Math, Latex\n",
    "import sympy as sp\n",
    "from rolldecayestimators.substitute_dynamic_symbols import lambdify,run"
   ]
  },
  {
   "cell_type": "code",
   "execution_count": null,
   "metadata": {},
   "outputs": [],
   "source": [
    "df_rolldecay = database.load(rolldecay_table_name='rolldecay_quadratic_b', limit_score=0.90, \n",
    "                             exclude_table_name='rolldecay_exclude')\n",
    "db = database.get_db()"
   ]
  },
  {
   "cell_type": "code",
   "execution_count": null,
   "metadata": {},
   "outputs": [],
   "source": [
    "df_rolldecay.columns"
   ]
  },
  {
   "cell_type": "code",
   "execution_count": null,
   "metadata": {},
   "outputs": [],
   "source": [
    "df_rolldecay.describe()"
   ]
  },
  {
   "cell_type": "code",
   "execution_count": null,
   "metadata": {},
   "outputs": [],
   "source": [
    "df_rolldecay.isnull().sum().sort_values(ascending=False)"
   ]
  },
  {
   "cell_type": "code",
   "execution_count": null,
   "metadata": {},
   "outputs": [],
   "source": [
    "description = pd.read_sql_table('description', con=db.engine, index_col='id')"
   ]
  },
  {
   "cell_type": "code",
   "execution_count": null,
   "metadata": {},
   "outputs": [],
   "source": [
    "description"
   ]
  },
  {
   "cell_type": "code",
   "execution_count": null,
   "metadata": {},
   "outputs": [],
   "source": [
    "interesting=[\n",
    "'A0',\n",
    "'AR',\n",
    "'beam',\n",
    "'BKB',\n",
    "'BKL',\n",
    "'BKX',\n",
    "'BR',\n",
    "'BRA',\n",
    "'BTT1',\n",
    "'CP',\n",
    "'CW',\n",
    "'Volume',\n",
    "'gm',\n",
    "'HSKEG',\n",
    "'ASKEG',\n",
    "'IRUD',\n",
    "'kg',\n",
    "'KXX',\n",
    "'lcg',\n",
    "'lpp',\n",
    "'LSKEG',\n",
    "'RH',\n",
    "'RHBL',\n",
    "'RTYPE',\n",
    "'TA',\n",
    "'TF',\n",
    "'TWIN',\n",
    "'ship_type_id',\n",
    "'ship_speed',\n",
    "]"
   ]
  },
  {
   "cell_type": "code",
   "execution_count": null,
   "metadata": {},
   "outputs": [],
   "source": [
    "description.loc[interesting]"
   ]
  },
  {
   "cell_type": "code",
   "execution_count": null,
   "metadata": {},
   "outputs": [],
   "source": [
    "description.loc['phi_start'] = {'description':'roll at start of test','unit':'rad'}\n",
    "description.loc['phi_stop'] = {'description':'roll at end of test','unit':'rad'}\n",
    "description.loc['Disp'] = {'description':'Ship discplacement','unit':'m3'}\n",
    "\n",
    "\n",
    "skip = [\n",
    "    'model_number',\n",
    "    'loading_condition_id',\n",
    "    'B_1A',\n",
    "    'B_2A',\n",
    "    'B_3A',\n",
    "    'C_1A',\n",
    "    'C_3A',\n",
    "    'C_5A',\n",
    "    'B_1A',\n",
    "    'B_1',\n",
    "    'B_2',\n",
    "    'B_3',\n",
    "    'C_1',\n",
    "    'C_3',\n",
    "    'C_5',\n",
    "    'A_44',\n",
    "    'omega0_fft',\n",
    "    'omega0',\n",
    "    'score',\n",
    "    'id',\n",
    "    'project_number',\n",
    "    'series_number',\n",
    "    'run_number',\n",
    "    'test_number',\n",
    "    'scale_factor',\n",
    "    'g',\n",
    "    'rho',\n",
    "    'B_1_hat',\n",
    "    'B_2_hat',\n",
    "]"
   ]
  },
  {
   "cell_type": "code",
   "execution_count": null,
   "metadata": {},
   "outputs": [],
   "source": [
    "def froude_scale(data,description, skip=[]):\n",
    "    scale_factor = data['scale_factor']\n",
    "    \n",
    "    denominators = {\n",
    "        '-':None,\n",
    "        'm':scale_factor,\n",
    "        'm2':scale_factor**2,\n",
    "        'm3':scale_factor**3,\n",
    "        'knots':np.sqrt(scale_factor),\n",
    "        'knot':np.sqrt(scale_factor),\n",
    "        'degrees':1,\n",
    "        'rad':1,\n",
    "        'rad/s':1/np.sqrt(scale_factor),\n",
    "        'degrees/s':1/np.sqrt(scale_factor),\n",
    "        'kW':scale_factor**2/np.sqrt(scale_factor),\n",
    "        'rpm':1/np.sqrt(scale_factor),\n",
    "    }\n",
    "    \n",
    "    model_data = pd.DataFrame(index=data.index)\n",
    "    for key,value in data.items():\n",
    "        if key in skip or data[key].dtype=='object':\n",
    "            model_data[key] = value\n",
    "            continue\n",
    "            \n",
    "        unit = description.loc[key]['unit']\n",
    "        denominator = denominators[unit]\n",
    "        if denominator is None:\n",
    "            nondimensional_value = value\n",
    "        else:\n",
    "            nondimensional_value = value/denominator\n",
    "        \n",
    "        model_data[key] = nondimensional_value\n",
    "    \n",
    "    return model_data\n",
    "    \n",
    "    \n",
    "    "
   ]
  },
  {
   "cell_type": "code",
   "execution_count": null,
   "metadata": {},
   "outputs": [],
   "source": [
    "df_model = froude_scale(data=df_rolldecay, description=description, skip=skip)"
   ]
  },
  {
   "cell_type": "code",
   "execution_count": null,
   "metadata": {},
   "outputs": [],
   "source": [
    "mask = df_model[interesting].notnull().all(axis=1)\n",
    "mask.sum()"
   ]
  },
  {
   "cell_type": "code",
   "execution_count": null,
   "metadata": {},
   "outputs": [],
   "source": [
    "df_model[interesting].isnull().sum()"
   ]
  },
  {
   "cell_type": "code",
   "execution_count": null,
   "metadata": {},
   "outputs": [],
   "source": [
    "remove = ['BTT1','BR','BRA','HSKEG','ASKEG','LSKEG','RHBL','RTYPE','lcg','BKX',]\n",
    "add = ['ship_speed',]\n",
    "important = list(set(interesting) - set(remove)) + add\n"
   ]
  },
  {
   "cell_type": "code",
   "execution_count": null,
   "metadata": {},
   "outputs": [],
   "source": [
    "mask = df_model[important].notnull().all(axis=1)\n",
    "mask.sum()"
   ]
  },
  {
   "cell_type": "code",
   "execution_count": null,
   "metadata": {},
   "outputs": [],
   "source": [
    "df_model[important].isnull().sum()"
   ]
  },
  {
   "cell_type": "code",
   "execution_count": null,
   "metadata": {},
   "outputs": [],
   "source": [
    "df = df_model.loc[mask].copy()"
   ]
  },
  {
   "cell_type": "code",
   "execution_count": null,
   "metadata": {},
   "outputs": [],
   "source": [
    "df = df.dropna(subset=['omega0'])"
   ]
  },
  {
   "cell_type": "code",
   "execution_count": null,
   "metadata": {},
   "outputs": [],
   "source": [
    "len(df)"
   ]
  },
  {
   "cell_type": "code",
   "execution_count": null,
   "metadata": {},
   "outputs": [],
   "source": [
    "mask = df['score'] > 0.95\n",
    "df = df.loc[mask]"
   ]
  },
  {
   "cell_type": "code",
   "execution_count": null,
   "metadata": {},
   "outputs": [],
   "source": [
    "important"
   ]
  },
  {
   "cell_type": "markdown",
   "metadata": {},
   "source": [
    "## Bis system"
   ]
  },
  {
   "cell_type": "code",
   "execution_count": null,
   "metadata": {},
   "outputs": [],
   "source": [
    "#data = df[list(set(important) | set(['omega0','B_1','B_2',]))].copy()\n",
    "#units = description.loc[data.columns]['unit']\n",
    "#data['ship_speed']*=1.852/3.6\n",
    "#units['ship_speed']=r'm/s'\n",
    "#\n",
    "#data['g']=9.81\n",
    "#data['rho']=1000\n",
    "#units['g']=r'm/s**2'\n",
    "#units['rho']=r'kg/m**3'\n",
    "#\n",
    "#data['omega0_hat'] = data['omega0']*np.sqrt(data['beam']/(2*data['g']))\n",
    "#units['omega0_hat'] = '-'\n",
    "#\n",
    "#bis_system = BisSystem(lpp=data['lpp'], volume=data['Volume'], units=units)\n",
    "#data = bis_system.df_to_bis(data)\n",
    "#"
   ]
  },
  {
   "cell_type": "code",
   "execution_count": null,
   "metadata": {},
   "outputs": [],
   "source": [
    "data = df[list(set(important))].copy()"
   ]
  },
  {
   "cell_type": "code",
   "execution_count": null,
   "metadata": {},
   "outputs": [],
   "source": [
    "df.hist('score', bins = 50)"
   ]
  },
  {
   "cell_type": "code",
   "execution_count": null,
   "metadata": {},
   "outputs": [],
   "source": [
    "df.hist('omega0', bins = 50)"
   ]
  },
  {
   "cell_type": "code",
   "execution_count": null,
   "metadata": {},
   "outputs": [],
   "source": [
    "Math(vlatex(equations.B44_hat_equation))"
   ]
  },
  {
   "cell_type": "code",
   "execution_count": null,
   "metadata": {},
   "outputs": [],
   "source": [
    "B44_hat_equation_quadratic = equations.B44_hat_equation.subs(symbols.B_44,sp.solve(equations.b44_quadratic_equation,symbols.B_44)[0])\n",
    "Math(vlatex(B44_hat_equation_quadratic))"
   ]
  },
  {
   "cell_type": "code",
   "execution_count": null,
   "metadata": {},
   "outputs": [],
   "source": [
    "B44_lambda = lambdify(sp.solve(B44_hat_equation_quadratic,symbols.B_44_hat)[0])"
   ]
  },
  {
   "cell_type": "code",
   "execution_count": null,
   "metadata": {},
   "outputs": [],
   "source": [
    "B44_lambda"
   ]
  },
  {
   "cell_type": "code",
   "execution_count": null,
   "metadata": {},
   "outputs": [],
   "source": [
    "equations.B_1_hat_equation"
   ]
  },
  {
   "cell_type": "code",
   "execution_count": null,
   "metadata": {},
   "outputs": [],
   "source": [
    "equations.B_2_hat_equation"
   ]
  },
  {
   "cell_type": "code",
   "execution_count": null,
   "metadata": {},
   "outputs": [],
   "source": [
    "B_1_hat_lambda = lambdify(sp.solve(equations.B_1_hat_equation, symbols.B_1_hat)[0])\n",
    "B_2_hat_lambda = lambdify(sp.solve(equations.B_2_hat_equation, symbols.B_2_hat)[0])\n",
    "\n",
    "df['g']=9.81\n",
    "df['rho']=1000\n",
    "df['Disp']=df['Volume']\n",
    "df['B_1_hat'] = run(function=B_1_hat_lambda, inputs=df)\n",
    "df['B_2_hat'] = run(function=B_2_hat_lambda, inputs=df)"
   ]
  },
  {
   "cell_type": "code",
   "execution_count": null,
   "metadata": {},
   "outputs": [],
   "source": [
    "omega_hat_equation = equations.omega_hat_equation.subs(symbols.omega,symbols.omega0)"
   ]
  },
  {
   "cell_type": "code",
   "execution_count": null,
   "metadata": {},
   "outputs": [],
   "source": [
    "omega_hat_equation"
   ]
  },
  {
   "cell_type": "code",
   "execution_count": null,
   "metadata": {},
   "outputs": [],
   "source": [
    "omega0_lambda = lambdify(sp.solve(omega_hat_equation,symbols.omega_hat)[0])"
   ]
  },
  {
   "cell_type": "code",
   "execution_count": null,
   "metadata": {},
   "outputs": [],
   "source": [
    "df['omega0_hat']=run(function=omega0_lambda,inputs=df)"
   ]
  },
  {
   "cell_type": "code",
   "execution_count": null,
   "metadata": {},
   "outputs": [],
   "source": [
    "df.hist('omega0_hat', bins = 50)"
   ]
  },
  {
   "cell_type": "code",
   "execution_count": null,
   "metadata": {},
   "outputs": [],
   "source": [
    "df.hist('B_1_hat', bins = 50)"
   ]
  },
  {
   "cell_type": "code",
   "execution_count": null,
   "metadata": {},
   "outputs": [],
   "source": [
    "df.hist('B_2_hat', bins = 50)"
   ]
  },
  {
   "cell_type": "code",
   "execution_count": null,
   "metadata": {},
   "outputs": [],
   "source": [
    "X=data"
   ]
  },
  {
   "cell_type": "code",
   "execution_count": null,
   "metadata": {},
   "outputs": [],
   "source": [
    "variance_treshold = VarianceThreshold(0.001)\n",
    "X_ = variance_treshold.fit_transform(X)"
   ]
  },
  {
   "cell_type": "code",
   "execution_count": null,
   "metadata": {},
   "outputs": [],
   "source": [
    "X.shape"
   ]
  },
  {
   "cell_type": "code",
   "execution_count": null,
   "metadata": {},
   "outputs": [],
   "source": [
    "X_.shape"
   ]
  },
  {
   "cell_type": "code",
   "execution_count": null,
   "metadata": {},
   "outputs": [],
   "source": [
    "X_ = variance_treshold.fit_transform(X)\n",
    "X_.shape"
   ]
  },
  {
   "cell_type": "code",
   "execution_count": null,
   "metadata": {},
   "outputs": [],
   "source": [
    "X.columns[variance_treshold.get_support()]"
   ]
  },
  {
   "cell_type": "code",
   "execution_count": null,
   "metadata": {},
   "outputs": [],
   "source": [
    "#GM = data['gm']\n",
    "#rxx = data['KXX']\n",
    "#kxx = rxx/data['beam']\n",
    "#rho = data['rho']\n",
    "#m = rho*data['Volume']\n",
    "#Ixx = m*rxx**2\n",
    "#data['Ixx']=Ixx\n",
    "#if not 'Ixx' in important:\n",
    "#    important.append('Ixx')\n",
    "#g = data['g']\n",
    "#omega0 = data['omega0']\n",
    "#data['Ixx_tot'] = Ixx_tot = GM*g*m/(omega0**2)\n",
    "#data['Ixx_added'] = Ixx_added = Ixx_tot - Ixx"
   ]
  },
  {
   "cell_type": "code",
   "execution_count": null,
   "metadata": {},
   "outputs": [],
   "source": [
    "#mask = data['Ixx_added']>0\n",
    "#data = data.loc[mask].copy()"
   ]
  },
  {
   "cell_type": "code",
   "execution_count": null,
   "metadata": {},
   "outputs": [],
   "source": [
    "important = list(set(important))  # Only unique values\n",
    "X=data[important]"
   ]
  },
  {
   "cell_type": "code",
   "execution_count": null,
   "metadata": {},
   "outputs": [],
   "source": [
    "renamers = {\n",
    "    'CP' : 'C_p', \n",
    "    'IRUD' : 'I_RUD', \n",
    "    'BKL' : 'BK_L', \n",
    "    'gm' : 'GM', \n",
    "    'A0' : 'A_0', \n",
    "    'ship_type_id' : 'ship_type_id', \n",
    "    'Volume' : 'Disp', \n",
    "    'Ixx' : 'I_xx', \n",
    "    'BKB' : 'BK_B',\n",
    "    'KXX' : 'K_xx', \n",
    "    'RH' : 'R_h', \n",
    "    'AR' : 'A_R', \n",
    "    'TWIN' : 'TWIN', \n",
    "    'kg': 'kg', \n",
    "    'CW' : 'C_W', \n",
    "    'beam' : 'beam', \n",
    "    'TF' : 'T_F', \n",
    "    'ship_speed' : 'V', \n",
    "    'TA' : 'T_A',\n",
    "    'lpp' : 'L_pp',\n",
    "}\n",
    "X.rename(columns=renamers, inplace=True)"
   ]
  },
  {
   "cell_type": "code",
   "execution_count": null,
   "metadata": {},
   "outputs": [],
   "source": [
    "X['T'] = (X['T_A'] + X['T_F'])/2\n",
    "X.drop(columns=['T_A','T_F'], inplace=True)"
   ]
  },
  {
   "cell_type": "code",
   "execution_count": null,
   "metadata": {},
   "outputs": [],
   "source": [
    "X.head()"
   ]
  },
  {
   "cell_type": "code",
   "execution_count": null,
   "metadata": {},
   "outputs": [],
   "source": [
    "X.drop(columns='ship_type_id', inplace=True)"
   ]
  },
  {
   "cell_type": "code",
   "execution_count": null,
   "metadata": {},
   "outputs": [],
   "source": [
    "X.to_pickle('data.sav')"
   ]
  },
  {
   "cell_type": "code",
   "execution_count": null,
   "metadata": {},
   "outputs": [],
   "source": [
    "y_s = ['omega0_hat','B_1_hat','B_2_hat']\n",
    "y = df[y_s].copy()\n",
    "y.to_pickle('y.sav')"
   ]
  },
  {
   "cell_type": "code",
   "execution_count": null,
   "metadata": {},
   "outputs": [],
   "source": []
  },
  {
   "cell_type": "code",
   "execution_count": null,
   "metadata": {},
   "outputs": [],
   "source": []
  }
 ],
 "metadata": {
  "kernelspec": {
   "display_name": "Python 3",
   "language": "python",
   "name": "python3"
  },
  "language_info": {
   "codemirror_mode": {
    "name": "ipython",
    "version": 3
   },
   "file_extension": ".py",
   "mimetype": "text/x-python",
   "name": "python",
   "nbconvert_exporter": "python",
   "pygments_lexer": "ipython3",
   "version": "3.5.4"
  },
  "pycharm": {
   "stem_cell": {
    "cell_type": "raw",
    "metadata": {
     "collapsed": false
    },
    "source": []
   }
  }
 },
 "nbformat": 4,
 "nbformat_minor": 4
}
