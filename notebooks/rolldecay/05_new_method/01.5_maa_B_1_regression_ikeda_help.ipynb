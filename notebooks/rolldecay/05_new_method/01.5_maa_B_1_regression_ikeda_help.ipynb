{
 "cells": [
  {
   "cell_type": "markdown",
   "metadata": {},
   "source": [
    "# $\\hat{B_1}$ damping regression with a little help from Ikeda"
   ]
  },
  {
   "cell_type": "code",
   "execution_count": null,
   "metadata": {},
   "outputs": [],
   "source": [
    "%matplotlib inline\n",
    "%load_ext autoreload\n",
    "%autoreload 2"
   ]
  },
  {
   "cell_type": "code",
   "execution_count": null,
   "metadata": {},
   "outputs": [],
   "source": [
    "from jupyterthemes import jtplot\n",
    "jtplot.style(theme='onedork', context='notebook', ticks=True, grid=False)"
   ]
  },
  {
   "cell_type": "code",
   "execution_count": null,
   "metadata": {
    "pycharm": {
     "is_executing": false
    }
   },
   "outputs": [],
   "source": [
    "import pandas as pd\n",
    "pd.options.display.max_rows = 999\n",
    "pd.options.display.max_columns = 999\n",
    "pd.set_option(\"display.max_columns\", None)\n",
    "import numpy as np\n",
    "import os\n",
    "import matplotlib.pyplot as plt\n",
    "from pylab import rcParams\n",
    "rcParams['figure.figsize'] = 15, 5\n",
    "\n",
    "#import data\n",
    "import copy\n",
    "from rolldecay.bis_system import BisSystem\n",
    "from rolldecay import database\n",
    "\n",
    "from sklearn.pipeline import Pipeline\n",
    "from sklearn.model_selection import cross_val_score\n",
    "from sklearn.model_selection import train_test_split\n",
    "from sklearn.preprocessing import StandardScaler\n",
    "from sklearn.feature_selection import VarianceThreshold\n",
    "from sklearn.ensemble import ExtraTreesClassifier\n",
    "from sklearn.feature_selection import SelectKBest\n",
    "from sklearn.feature_selection import chi2\n",
    "from sklearn.feature_selection import f_regression\n",
    "\n",
    "from sklearn.linear_model import LinearRegression\n",
    "from sklearn.model_selection import cross_validate\n",
    "from sklearn.preprocessing import PolynomialFeatures\n",
    "from sklearn.pipeline import Pipeline\n",
    "from sklearn.pipeline import make_pipeline\n",
    "\n",
    "import signal_lab\n",
    "from sqlalchemy.inspection import inspect\n",
    "import seaborn as sns\n",
    "import docs\n",
    "import pickle\n",
    "from rolldecayestimators.polynom_estimator import Polynom\n",
    "from rolldecayestimators import symbols\n",
    "from rolldecay import database\n",
    "import rolldecayestimators.simplified_ikeda as simplified_ikeda\n",
    "from rolldecayestimators.ikeda_estimator import IkedaQuadraticEstimator\n",
    "import rolldecayestimators.lambdas as lambdas\n",
    "from rolldecayestimators.substitute_dynamic_symbols import run, lambdify\n",
    "import rolldecayestimators.equations as equations\n",
    "import rolldecayestimators.symbols as symbols\n",
    "import sympy as sp\n",
    "from rolldecay.paper_writing import save_fig\n",
    "from rolldecay.froude_scaling import froude_scale\n",
    "from sklearn.metrics import r2_score"
   ]
  },
  {
   "cell_type": "code",
   "execution_count": null,
   "metadata": {},
   "outputs": [],
   "source": [
    "data = pd.read_pickle('data.sav')\n",
    "y_s = pd.read_pickle('y.sav')"
   ]
  },
  {
   "cell_type": "code",
   "execution_count": null,
   "metadata": {},
   "outputs": [],
   "source": [
    "db = database.get_db()"
   ]
  },
  {
   "cell_type": "code",
   "execution_count": null,
   "metadata": {},
   "outputs": [],
   "source": [
    "df_ikeda = database.load(rolldecay_table_name='rolldecay_simplified_ikeda', limit_score=0.5, \n",
    "                             exclude_table_name='rolldecay_exclude')\n",
    "\n",
    "df_rolldecay = database.load(rolldecay_table_name='rolldecay_cubic_b', limit_score=0.9, \n",
    "                             exclude_table_name='rolldecay_exclude')\n",
    "\n",
    "df_rolldecay['ship_speed']*=1.852/3.6\n",
    "df_ikeda['ship_speed']*=1.852/3.6\n",
    "\n",
    "description = pd.read_sql_table('description', con=db.engine, index_col='id')\n",
    "description.loc['ship_speed','unit']='m/s'\n",
    "description.loc['VDES','unit']='m/s'\n",
    "description.loc['Disp'] = {'description':'Ship discplacement','unit':'m3'}\n",
    "\n",
    "T_f=df_rolldecay['TF']\n",
    "T_a=df_rolldecay['TA']\n",
    "L_pp=df_rolldecay['lpp']\n",
    "df_rolldecay['trim']=np.arctan((T_a-T_f)/L_pp)\n",
    "mask = df_rolldecay['trim'].abs() < np.deg2rad(0.3)\n",
    "df_rolldecay=df_rolldecay.loc[mask].copy()\n",
    "\n",
    "df_ikeda['Disp']=df_ikeda['Volume']\n",
    "df_rolldecay['Disp']=df_rolldecay['Volume']\n",
    "\n",
    "skip=[]\n",
    "df_ikeda = froude_scale(data=df_ikeda, description=description, skip=skip)\n",
    "df_rolldecay = froude_scale(data=df_rolldecay, description=description, skip=skip)\n",
    "\n",
    "phi_a = np.deg2rad(3)\n",
    "g = 9.81\n",
    "rho=1000\n",
    "df_ikeda['B_e'] = run(function=lambdas.B_e_lambda, inputs=df_ikeda, phi_a=phi_a)\n",
    "df_ikeda['B_e_hat'] = run(function=lambdas.B_e_hat_lambda, inputs=df_ikeda, g=g, rho=rho)\n",
    "df_rolldecay['B_e'] = run(function=lambdas.B_e_lambda, inputs=df_rolldecay, phi_a=phi_a)\n",
    "df_rolldecay['B_e_hat'] = run(function=lambdas.B_e_hat_lambda, inputs=df_rolldecay, g=g, rho=rho)\n",
    "\n",
    "df_rolldecay['omega0_hat'] = run(function=lambdas.omega0_lambda, inputs=df_rolldecay, g=g)\n",
    "df_ikeda['omega0_hat'] = run(function=lambdas.omega0_lambda, inputs=df_ikeda, g=g)\n",
    "\n",
    "df_ikeda['scale_factor']=df_ikeda['lpp']\n",
    "df_ikeda = froude_scale(data=df_ikeda, description=description, skip=skip)\n",
    "df_rolldecay['scale_factor']=df_rolldecay['lpp']\n",
    "df_rolldecay = froude_scale(data=df_rolldecay, description=description, skip=skip)"
   ]
  },
  {
   "cell_type": "code",
   "execution_count": null,
   "metadata": {},
   "outputs": [],
   "source": [
    "df_ikeda.head()"
   ]
  },
  {
   "cell_type": "code",
   "execution_count": null,
   "metadata": {},
   "outputs": [],
   "source": [
    "df_rolldecay.head()"
   ]
  },
  {
   "cell_type": "code",
   "execution_count": null,
   "metadata": {},
   "outputs": [],
   "source": [
    "df_compare = pd.merge(left=df_rolldecay, right=df_ikeda, how = 'inner',left_index=True, right_index=True,\n",
    "                      suffixes=('','_ikeda'))"
   ]
  },
  {
   "cell_type": "code",
   "execution_count": null,
   "metadata": {},
   "outputs": [],
   "source": [
    "df_compare.plot(x='omega0_hat', y='omega0_hat_ikeda', style='o', alpha=0.5)"
   ]
  },
  {
   "cell_type": "code",
   "execution_count": null,
   "metadata": {},
   "outputs": [],
   "source": [
    "fig,ax=plt.subplots()\n",
    "df_compare.plot(x='B_e_hat', y='B_e_hat_ikeda', ax=ax, style='o', alpha=0.5)\n",
    "\n",
    "xlim = ax.get_xlim()\n",
    "ylim = ax.get_ylim()\n",
    "lim = np.max([xlim[1],ylim[1]])\n",
    "ax.set_xlim(0,lim)\n",
    "ax.set_ylim(0,lim)\n",
    "ax.plot([0,lim],[0,lim],'r-')\n",
    "ax.set_aspect('equal', 'box')"
   ]
  },
  {
   "cell_type": "code",
   "execution_count": null,
   "metadata": {},
   "outputs": [],
   "source": [
    "df_compare['error'] = (df_compare['B_e_hat']-df_compare['B_e_hat_ikeda']).abs()"
   ]
  },
  {
   "cell_type": "code",
   "execution_count": null,
   "metadata": {},
   "outputs": [],
   "source": [
    "fig,ax=plt.subplots()\n",
    "df_compare.plot(x='TA', y='error', style='o', alpha=0.5,ax=ax)\n",
    "df_compare.plot(x='omega0_hat', y='error', style='o', alpha=0.5)"
   ]
  },
  {
   "cell_type": "code",
   "execution_count": null,
   "metadata": {},
   "outputs": [],
   "source": [
    "fig,ax=plt.subplots()\n",
    "mask=((df_compare['TA']>0.035) & (df_compare['omega0_hat']<0.63))\n",
    "df_compare_good = df_compare.loc[mask].copy()\n",
    "df_compare_good.plot(x='B_e_hat', y='B_e_hat_ikeda', ax=ax, style='o', alpha=0.5)\n",
    "\n",
    "xlim = ax.get_xlim()\n",
    "ylim = ax.get_ylim()\n",
    "lim = np.max([xlim[1],ylim[1]])\n",
    "ax.set_xlim(0,lim)\n",
    "ax.set_ylim(0,lim)\n",
    "ax.plot([0,lim],[0,lim],'r-')\n",
    "ax.set_aspect('equal', 'box')\n",
    "              \n",
    "\n"
   ]
  },
  {
   "cell_type": "code",
   "execution_count": null,
   "metadata": {},
   "outputs": [],
   "source": [
    "r2_score(y_true=df_compare_good['B_e_hat'], y_pred=df_compare_good.loc[mask]['B_e_hat_ikeda'])"
   ]
  },
  {
   "cell_type": "code",
   "execution_count": null,
   "metadata": {},
   "outputs": [],
   "source": [
    "df_ikeda.head()"
   ]
  },
  {
   "cell_type": "code",
   "execution_count": null,
   "metadata": {},
   "outputs": [],
   "source": [
    "data = df_compare.copy()\n",
    "data['T'] = (data['TA']+data['TF'] )/2\n",
    "data['CB'] = data['Disp']/(data['lpp']*data['T']*data['beam'])\n",
    "data['OG'] = (-data.kg + data['T'])\n",
    "renamers = {\n",
    "    'CP' : 'C_p',\n",
    "    'CB' : 'C_b',\n",
    "    'IRUD' : 'I_RUD', \n",
    "    'BKL' : 'BK_L', \n",
    "    'gm' : 'GM', \n",
    "    'A0' : 'A_0', \n",
    "    'ship_type_id' : 'ship_type_id', \n",
    "    'Volume' : 'Disp', \n",
    "    'Ixx' : 'I_xx', \n",
    "    'BKB' : 'BK_B',\n",
    "    'KXX' : 'K_xx', \n",
    "    'RH' : 'R_h', \n",
    "    'AR' : 'A_R', \n",
    "    'TWIN' : 'TWIN', \n",
    "    'kg': 'kg', \n",
    "    'CW' : 'C_W', \n",
    "    'beam' : 'beam', \n",
    "    'TF' : 'T_F', \n",
    "    'ship_speed' : 'V', \n",
    "    'TA' : 'T_A',\n",
    "    'lpp' : 'L_pp',\n",
    "}\n",
    "data.rename(columns=renamers, inplace=True)"
   ]
  },
  {
   "cell_type": "code",
   "execution_count": null,
   "metadata": {},
   "outputs": [],
   "source": [
    "ikeda_parameters = [\n",
    "        'beam',\n",
    "        'T',\n",
    "        'BK_L',\n",
    "        'BK_B',\n",
    "        'OG',\n",
    "        'omega0_hat',        \n",
    "        'C_b',\n",
    "        'A_0',\n",
    "        'V']"
   ]
  },
  {
   "cell_type": "code",
   "execution_count": null,
   "metadata": {},
   "outputs": [],
   "source": [
    "data[ikeda_parameters].head()"
   ]
  },
  {
   "cell_type": "markdown",
   "metadata": {},
   "source": [
    "## Pure polynom ikeda parameters"
   ]
  },
  {
   "cell_type": "code",
   "execution_count": null,
   "metadata": {},
   "outputs": [],
   "source": [
    "variance_treshold = VarianceThreshold(0.000)\n",
    "#standard_scaler = StandardScaler()\n",
    "\n",
    "\n",
    "y = data['B_e_hat']\n",
    "X = data[ikeda_parameters]\n",
    "       \n",
    "polynomial_features = PolynomialFeatures(degree=2)\n",
    "linear_regression = LinearRegression()\n",
    "\n",
    "ks = np.arange(1,11,1)\n",
    "scores = []\n",
    "stds = []\n",
    "for k in ks:\n",
    "    select_k_best = SelectKBest(k=k, score_func=f_regression)\n",
    "    steps=[\n",
    "            ('polynomial_feature', polynomial_features),\n",
    "            #('standard_scaler', standard_scaler),\n",
    "            ('variance_treshold',variance_treshold),\n",
    "            ('select_k_best',select_k_best),\n",
    "            ('linear_regression', linear_regression)\n",
    "    ]\n",
    "    \n",
    "    model = Pipeline(steps=steps)\n",
    "    model.fit(X=X, y=y)\n",
    "    cv=5\n",
    "    score = cross_val_score(estimator=model,X=X,y=y,cv=cv).mean()\n",
    "    std = cross_val_score(estimator=model,X=X,y=y,cv=cv).std()\n",
    "    \n",
    "    scores.append(score)\n",
    "    stds.append(std)\n",
    "    \n",
    "scores = np.array(scores)\n",
    "stds = np.array(stds)"
   ]
  },
  {
   "cell_type": "code",
   "execution_count": null,
   "metadata": {},
   "outputs": [],
   "source": [
    "fig,ax = plt.subplots()\n",
    "ax.plot(ks,scores-stds,'.-')\n",
    "ax.plot(ks,scores,'.-')\n",
    "ax.plot(ks,scores+stds,'.-')\n"
   ]
  },
  {
   "cell_type": "code",
   "execution_count": null,
   "metadata": {},
   "outputs": [],
   "source": [
    "select_k_best = SelectKBest(k=10, score_func=f_regression)\n",
    "steps=[\n",
    "        ('polynomial_feature', polynomial_features),\n",
    "        #('standard_scaler', standard_scaler),\n",
    "        ('variance_treshold',variance_treshold),\n",
    "        ('select_k_best',select_k_best),\n",
    "        ('linear_regression', linear_regression)\n",
    "]\n",
    "\n",
    "model = Pipeline(steps=steps)\n",
    "model.fit(X=X, y=y)\n",
    "cv=5\n",
    "score = cross_val_score(estimator=model,X=X,y=y,cv=cv).mean()\n",
    "std = cross_val_score(estimator=model,X=X,y=y,cv=cv).std()"
   ]
  },
  {
   "cell_type": "code",
   "execution_count": null,
   "metadata": {},
   "outputs": [],
   "source": [
    "score"
   ]
  },
  {
   "cell_type": "code",
   "execution_count": null,
   "metadata": {},
   "outputs": [],
   "source": [
    "std"
   ]
  },
  {
   "cell_type": "code",
   "execution_count": null,
   "metadata": {},
   "outputs": [],
   "source": [
    "polynom = Polynom(model=model, columns=X.columns, y_symbol=symbols.B_e_hat)\n",
    "polynom.fit(X=X, y=y)\n",
    "polynom.equation"
   ]
  },
  {
   "cell_type": "code",
   "execution_count": null,
   "metadata": {},
   "outputs": [],
   "source": [
    "data['B_e_regression_polynom'] = model.predict(X=X)\n"
   ]
  },
  {
   "cell_type": "code",
   "execution_count": null,
   "metadata": {},
   "outputs": [],
   "source": [
    "fig,ax=plt.subplots()\n",
    "data.plot(x='B_e_hat', y=['B_e_hat_ikeda','B_e_regression_polynom'], ax=ax, style='o', alpha=0.4)\n",
    "\n",
    "xlim = ax.get_xlim()\n",
    "ylim = ax.get_ylim()\n",
    "lim = np.max([xlim[1],ylim[1]])\n",
    "ax.set_xlim(0,lim)\n",
    "ax.set_ylim(0,lim)\n",
    "ax.plot([0,lim],[0,lim],'r-')\n",
    "ax.set_aspect('equal', 'box')"
   ]
  },
  {
   "cell_type": "code",
   "execution_count": null,
   "metadata": {},
   "outputs": [],
   "source": [
    "fig,ax=plt.subplots()\n",
    "mask = ((data['B_e_regression_polynom'] < 0.0029) & \n",
    "        (data['B_e_regression_polynom'] > 0.0026))\n",
    "df_strange=data.loc[mask].copy()\n",
    "df_strange.loc[mask].plot(x='B_e_hat', y=['B_e_regression_polynom'], ax=ax, style='o', alpha=0.4)\n",
    "\n",
    "xlim = ax.get_xlim()\n",
    "ylim = ax.get_ylim()\n",
    "lim = np.max([xlim[1],ylim[1]])\n",
    "ax.set_xlim(0,lim)\n",
    "ax.set_ylim(0,lim)\n",
    "ax.plot([0,lim],[0,lim],'r-')\n",
    "ax.set_aspect('equal', 'box')\n",
    "ax.grid()"
   ]
  },
  {
   "cell_type": "code",
   "execution_count": null,
   "metadata": {},
   "outputs": [],
   "source": [
    "df_strange.head()"
   ]
  },
  {
   "cell_type": "code",
   "execution_count": null,
   "metadata": {},
   "outputs": [],
   "source": [
    "df_strange['T'].max()"
   ]
  },
  {
   "cell_type": "code",
   "execution_count": null,
   "metadata": {},
   "outputs": [],
   "source": [
    "df_strange['omega0_hat'].min()"
   ]
  },
  {
   "cell_type": "code",
   "execution_count": null,
   "metadata": {},
   "outputs": [],
   "source": [
    "df_strange['V'].hist()"
   ]
  },
  {
   "cell_type": "code",
   "execution_count": null,
   "metadata": {},
   "outputs": [],
   "source": []
  },
  {
   "cell_type": "code",
   "execution_count": null,
   "metadata": {},
   "outputs": [],
   "source": [
    "mask = ((data['V'].round(decimals=2)==0) )\n",
    "data_zero = data.loc[mask].copy()\n",
    "data_zero['error'] = data_zero['B_e_hat']-data_zero['B_e_hat_ikeda']"
   ]
  },
  {
   "cell_type": "code",
   "execution_count": null,
   "metadata": {},
   "outputs": [],
   "source": [
    "\n",
    "\n",
    "fig,ax=plt.subplots()\n",
    "data_zero.plot(x='B_e_hat', y=['B_e_hat_ikeda'], ax=ax, style='o', alpha=0.4)\n",
    "\n",
    "xlim = ax.get_xlim()\n",
    "ylim = ax.get_ylim()\n",
    "lim = np.max([xlim[1],ylim[1]])\n",
    "ax.set_xlim(0,lim)\n",
    "ax.set_ylim(0,lim)\n",
    "ax.plot([0,lim],[0,lim],'r-')\n",
    "ax.set_aspect('equal', 'box')\n",
    "ax.grid()"
   ]
  },
  {
   "cell_type": "code",
   "execution_count": null,
   "metadata": {},
   "outputs": [],
   "source": [
    "data_zero.head()"
   ]
  },
  {
   "cell_type": "code",
   "execution_count": null,
   "metadata": {},
   "outputs": [],
   "source": [
    "data_zero.plot(x='T', y='error', style='o', alpha=0.4)\n",
    "data_zero.plot(x='error', y=['B_W_HAT','B_E_HAT','B_F_HAT','B_BK_HAT'], style='o', alpha=0.4)"
   ]
  },
  {
   "cell_type": "code",
   "execution_count": null,
   "metadata": {},
   "outputs": [],
   "source": [
    "r2_score(y_true=data_zero['B_e_hat'], y_pred=data_zero['B_e_hat_ikeda'])"
   ]
  },
  {
   "cell_type": "code",
   "execution_count": null,
   "metadata": {},
   "outputs": [],
   "source": [
    "data_zero['B_e_hat_ikeda2'] = data_zero['B_e_hat_ikeda']-data_zero['B_W_HAT']"
   ]
  },
  {
   "cell_type": "code",
   "execution_count": null,
   "metadata": {},
   "outputs": [],
   "source": [
    "r2_score(y_true=data_zero['B_e_hat'], y_pred=data_zero['B_e_hat_ikeda2'])"
   ]
  },
  {
   "cell_type": "code",
   "execution_count": null,
   "metadata": {},
   "outputs": [],
   "source": [
    "fig,ax=plt.subplots()\n",
    "data_zero.plot(x='B_e_hat', y=['B_e_hat_ikeda2'], ax=ax, style='o', alpha=0.4)\n",
    "\n",
    "xlim = ax.get_xlim()\n",
    "ylim = ax.get_ylim()\n",
    "lim = np.max([xlim[1],ylim[1]])\n",
    "ax.set_xlim(0,lim)\n",
    "ax.set_ylim(0,lim)\n",
    "ax.plot([0,lim],[0,lim],'r-')\n",
    "ax.set_aspect('equal', 'box')\n",
    "ax.grid()"
   ]
  },
  {
   "cell_type": "code",
   "execution_count": null,
   "metadata": {},
   "outputs": [],
   "source": [
    "additional_parameters = [\n",
    "'C_p',\n",
    "'C_b',\n",
    "'I_RUD', \n",
    "'BK_L', \n",
    "'GM', \n",
    "'A_0',  \n",
    "'K_xx', \n",
    "'A_R', \n",
    "'TWIN', \n",
    "'kg', \n",
    "'C_W', \n",
    "'beam', \n",
    "]\n",
    "\n",
    "#parameters = list(set(ikeda_parameters) | set(additional_parameters) | set(['B_F_HAT']))\n",
    "parameters = list(set(ikeda_parameters) | set(additional_parameters) )"
   ]
  },
  {
   "cell_type": "code",
   "execution_count": null,
   "metadata": {},
   "outputs": [],
   "source": [
    "variance_treshold = VarianceThreshold(0.000)\n",
    "\n",
    "y_key='B_e_hat'\n",
    "data_=data_zero[parameters+[y_key]].copy()\n",
    "data_.dropna(inplace=True)\n",
    "y = data_[y_key]\n",
    "X = data_[parameters].copy()\n",
    "       \n",
    "polynomial_features = PolynomialFeatures(degree=1)\n",
    "linear_regression = LinearRegression()\n",
    "\n",
    "ks = np.arange(1,17,1)\n",
    "scores = []\n",
    "stds = []\n",
    "for k in ks:\n",
    "    select_k_best = SelectKBest(k=k, score_func=f_regression)\n",
    "    steps=[\n",
    "            ('polynomial_feature', polynomial_features),\n",
    "            ('variance_treshold',variance_treshold),\n",
    "            ('select_k_best',select_k_best),\n",
    "            ('linear_regression', linear_regression)\n",
    "    ]\n",
    "    \n",
    "    model = Pipeline(steps=steps)\n",
    "    model.fit(X=X, y=y)\n",
    "    cv=5\n",
    "    score = cross_val_score(estimator=model,X=X,y=y,cv=cv).mean()\n",
    "    std = cross_val_score(estimator=model,X=X,y=y,cv=cv).std()\n",
    "    \n",
    "    scores.append(score)\n",
    "    stds.append(std)\n",
    "    \n",
    "scores = np.array(scores)\n",
    "stds = np.array(stds)"
   ]
  },
  {
   "cell_type": "code",
   "execution_count": null,
   "metadata": {},
   "outputs": [],
   "source": [
    "np.max(scores)"
   ]
  },
  {
   "cell_type": "code",
   "execution_count": null,
   "metadata": {},
   "outputs": [],
   "source": [
    "fig,ax = plt.subplots()\n",
    "ax.plot(ks,scores-stds,'.-')\n",
    "ax.plot(ks,scores,'.-')\n",
    "ax.plot(ks,scores+stds,'.-')\n",
    "ax.grid()"
   ]
  },
  {
   "cell_type": "code",
   "execution_count": null,
   "metadata": {},
   "outputs": [],
   "source": [
    "index = np.argmax(scores)\n",
    "k=ks[index]\n",
    "k"
   ]
  },
  {
   "cell_type": "code",
   "execution_count": null,
   "metadata": {},
   "outputs": [],
   "source": [
    "select_k_best = SelectKBest(k=5, score_func=f_regression)\n",
    "steps=[\n",
    "        ('polynomial_feature', polynomial_features),\n",
    "        #('standard_scaler', standard_scaler),\n",
    "        ('variance_treshold',variance_treshold),\n",
    "        ('select_k_best',select_k_best),\n",
    "        ('linear_regression', linear_regression)\n",
    "]\n",
    "\n",
    "model_zero = Pipeline(steps=steps)\n",
    "model_zero.fit(X=X, y=y)\n",
    "cv=5\n",
    "score = cross_val_score(estimator=model_zero,X=X,y=y,cv=cv).mean()\n",
    "std = cross_val_score(estimator=model_zero,X=X,y=y,cv=cv).std()"
   ]
  },
  {
   "cell_type": "code",
   "execution_count": null,
   "metadata": {},
   "outputs": [],
   "source": [
    "score"
   ]
  },
  {
   "cell_type": "code",
   "execution_count": null,
   "metadata": {},
   "outputs": [],
   "source": [
    "polynom_zero = Polynom(model=model_zero, columns=X.columns, y_symbol=symbols.B_e_hat)\n",
    "polynom_zero.fit(X=X, y=y)\n",
    "polynom_zero.equation"
   ]
  },
  {
   "cell_type": "code",
   "execution_count": null,
   "metadata": {},
   "outputs": [],
   "source": [
    "polynom_zero.score(X=X, y=y)"
   ]
  },
  {
   "cell_type": "code",
   "execution_count": null,
   "metadata": {},
   "outputs": [],
   "source": [
    "data_['B_e_hat_regression'] = polynom_zero.predict(data_[parameters])"
   ]
  },
  {
   "cell_type": "code",
   "execution_count": null,
   "metadata": {},
   "outputs": [],
   "source": [
    "fig,ax=plt.subplots()\n",
    "data_.plot(x='B_e_hat', y=['B_e_hat_regression'], ax=ax, style='o', alpha=0.4)\n",
    "\n",
    "xlim = ax.get_xlim()\n",
    "ylim = ax.get_ylim()\n",
    "lim = np.max([xlim[1],ylim[1]])\n",
    "ax.set_xlim(0,lim)\n",
    "ax.set_ylim(0,lim)\n",
    "ax.plot([0,lim],[0,lim],'r-')\n",
    "ax.set_aspect('equal', 'box')\n",
    "ax.grid()"
   ]
  },
  {
   "cell_type": "code",
   "execution_count": null,
   "metadata": {},
   "outputs": [],
   "source": [
    "data['B_e_hat0']=polynom_zero.predict(data)"
   ]
  },
  {
   "cell_type": "code",
   "execution_count": null,
   "metadata": {},
   "outputs": [],
   "source": [
    "mask=data['V'].round(decimals=2)>0\n",
    "data_speed=data.loc[mask].copy()"
   ]
  },
  {
   "cell_type": "code",
   "execution_count": null,
   "metadata": {},
   "outputs": [],
   "source": [
    "data_speed['B_e_hat0'].hist(bins=30)"
   ]
  },
  {
   "cell_type": "code",
   "execution_count": null,
   "metadata": {},
   "outputs": [],
   "source": [
    "#data_speed['speed_factor']=data_speed['B_e_hat']/(data_speed['B_e_hat0']*data_speed['V'])\n",
    "data_speed['speed_factor']=data_speed['B_e_hat']/data_speed['B_e_hat0']"
   ]
  },
  {
   "cell_type": "code",
   "execution_count": null,
   "metadata": {},
   "outputs": [],
   "source": [
    "data_speed['speed_factor'].hist(bins=30)"
   ]
  },
  {
   "cell_type": "code",
   "execution_count": null,
   "metadata": {},
   "outputs": [],
   "source": [
    "mask = data_speed['speed_factor'] < data_speed['speed_factor'].quantile(0.96)\n",
    "data_speed=data_speed.loc[mask].copy()"
   ]
  },
  {
   "cell_type": "code",
   "execution_count": null,
   "metadata": {},
   "outputs": [],
   "source": [
    "data_speed['speed_factor'].hist(bins=30)"
   ]
  },
  {
   "cell_type": "code",
   "execution_count": null,
   "metadata": {},
   "outputs": [],
   "source": [
    "parameters = list(set(ikeda_parameters) | set(additional_parameters) | set(['B_L_HAT']))"
   ]
  },
  {
   "cell_type": "code",
   "execution_count": null,
   "metadata": {},
   "outputs": [],
   "source": [
    "variance_treshold = VarianceThreshold(0.000)\n",
    "\n",
    "y_key='speed_factor'\n",
    "data_=data_speed[parameters+[y_key]].copy()\n",
    "data_.dropna(inplace=True)\n",
    "y = data_[y_key]\n",
    "X = data_[parameters].copy()\n",
    "       \n",
    "polynomial_features = PolynomialFeatures(degree=1)\n",
    "linear_regression = LinearRegression()\n",
    "\n",
    "ks = np.arange(1,10,1)\n",
    "scores = []\n",
    "stds = []\n",
    "for k in ks:\n",
    "    select_k_best = SelectKBest(k=k, score_func=f_regression)\n",
    "    steps=[\n",
    "            ('polynomial_feature', polynomial_features),\n",
    "            ('variance_treshold',variance_treshold),\n",
    "            ('select_k_best',select_k_best),\n",
    "            ('linear_regression', linear_regression)\n",
    "    ]\n",
    "    \n",
    "    model = Pipeline(steps=steps)\n",
    "    model.fit(X=X, y=y)\n",
    "    cv=5\n",
    "    score = cross_val_score(estimator=model,X=X,y=y,cv=cv).mean()\n",
    "    std = cross_val_score(estimator=model,X=X,y=y,cv=cv).std()\n",
    "    \n",
    "    scores.append(score)\n",
    "    stds.append(std)\n",
    "    \n",
    "scores = np.array(scores)\n",
    "stds = np.array(stds)"
   ]
  },
  {
   "cell_type": "code",
   "execution_count": null,
   "metadata": {},
   "outputs": [],
   "source": [
    "np.max(scores)"
   ]
  },
  {
   "cell_type": "code",
   "execution_count": null,
   "metadata": {},
   "outputs": [],
   "source": [
    "fig,ax = plt.subplots()\n",
    "ax.plot(ks,scores-stds,'.-')\n",
    "ax.plot(ks,scores,'.-')\n",
    "ax.plot(ks,scores+stds,'.-')\n",
    "ax.grid()"
   ]
  },
  {
   "cell_type": "code",
   "execution_count": null,
   "metadata": {},
   "outputs": [],
   "source": [
    "select_k_best = SelectKBest(k=3, score_func=f_regression)\n",
    "steps=[\n",
    "        ('polynomial_feature', polynomial_features),\n",
    "        #('standard_scaler', standard_scaler),\n",
    "        ('variance_treshold',variance_treshold),\n",
    "        ('select_k_best',select_k_best),\n",
    "        ('linear_regression', linear_regression)\n",
    "]\n",
    "\n",
    "model_speed = Pipeline(steps=steps)\n",
    "model_speed.fit(X=X, y=y)\n",
    "cv=5\n",
    "score = cross_val_score(estimator=model_speed,X=X,y=y,cv=cv).mean()\n",
    "std = cross_val_score(estimator=model_speed,X=X,y=y,cv=cv).std()"
   ]
  },
  {
   "cell_type": "code",
   "execution_count": null,
   "metadata": {},
   "outputs": [],
   "source": [
    "score"
   ]
  },
  {
   "cell_type": "code",
   "execution_count": null,
   "metadata": {},
   "outputs": [],
   "source": [
    "polynom_speed = Polynom(model=model_speed, columns=X.columns, y_symbol=symbols.B_e_hat)\n",
    "polynom_speed.fit(X=X, y=y)\n",
    "polynom_speed.equation"
   ]
  },
  {
   "cell_type": "code",
   "execution_count": null,
   "metadata": {},
   "outputs": [],
   "source": [
    "data_speed['speed_factor_regression'] = polynom_speed.predict(data_speed)"
   ]
  },
  {
   "cell_type": "code",
   "execution_count": null,
   "metadata": {},
   "outputs": [],
   "source": [
    "fig,ax=plt.subplots()\n",
    "data_speed.plot(x='speed_factor', y=['speed_factor_regression'], ax=ax, style='o', alpha=0.4)\n",
    "\n",
    "xlim = ax.get_xlim()\n",
    "ylim = ax.get_ylim()\n",
    "lim = np.max([xlim[1],ylim[1]])\n",
    "ax.set_xlim(0,lim)\n",
    "ax.set_ylim(0,lim)\n",
    "ax.plot([0,lim],[0,lim],'r-')\n",
    "ax.set_aspect('equal', 'box')\n",
    "ax.grid()"
   ]
  },
  {
   "cell_type": "code",
   "execution_count": null,
   "metadata": {},
   "outputs": [],
   "source": [
    "data['speed_factor_regression'] = polynom_speed.predict(data)"
   ]
  },
  {
   "cell_type": "code",
   "execution_count": null,
   "metadata": {},
   "outputs": [],
   "source": [
    "data['B_e_hat_speed_regression']=data['B_e_hat0']*data['speed_factor_regression'] "
   ]
  },
  {
   "cell_type": "code",
   "execution_count": null,
   "metadata": {},
   "outputs": [],
   "source": [
    "data[['B_e_hat_speed_regression','B_e_hat0','speed_factor_regression','V','B_L_HAT']]"
   ]
  },
  {
   "cell_type": "code",
   "execution_count": null,
   "metadata": {},
   "outputs": [],
   "source": [
    "fig,ax=plt.subplots()\n",
    "data.plot(x='B_e_hat', y=['B_e_hat_speed_regression'], ax=ax, style='o', alpha=0.4)\n",
    "\n",
    "xlim = ax.get_xlim()\n",
    "ylim = ax.get_ylim()\n",
    "lim = np.max([xlim[1],ylim[1]])\n",
    "ax.set_xlim(0,lim)\n",
    "ax.set_ylim(0,lim)\n",
    "ax.plot([0,lim],[0,lim],'r-')\n",
    "ax.set_aspect('equal', 'box')\n",
    "ax.grid()"
   ]
  },
  {
   "cell_type": "code",
   "execution_count": null,
   "metadata": {},
   "outputs": [],
   "source": [
    "mask = data['B_e_hat_speed_regression'].notnull()\n",
    "data_ = data.loc[mask].copy()\n",
    "\n",
    "r2_score(y_true=data_['B_e_hat'], y_pred=data_['B_e_hat_speed_regression'])"
   ]
  },
  {
   "cell_type": "code",
   "execution_count": null,
   "metadata": {},
   "outputs": [],
   "source": []
  },
  {
   "cell_type": "code",
   "execution_count": null,
   "metadata": {},
   "outputs": [],
   "source": [
    "data_['error'] = data_['B_e_hat'] - data_['B_e_hat_regression'] "
   ]
  },
  {
   "cell_type": "code",
   "execution_count": null,
   "metadata": {},
   "outputs": [],
   "source": [
    "data_.sort_values(by='B_e_hat_regression', ascending=False).iloc[0]"
   ]
  },
  {
   "cell_type": "code",
   "execution_count": null,
   "metadata": {},
   "outputs": [],
   "source": []
  },
  {
   "cell_type": "markdown",
   "metadata": {},
   "source": [
    "## Combine methods"
   ]
  },
  {
   "cell_type": "code",
   "execution_count": null,
   "metadata": {},
   "outputs": [],
   "source": [
    "bad_mask=((data['T']<0.035) | (data['omega0_hat']>0.63))\n",
    "data_bad = data.loc[bad_mask].copy()"
   ]
  },
  {
   "cell_type": "code",
   "execution_count": null,
   "metadata": {},
   "outputs": [],
   "source": [
    "r2_score(y_true=data_bad['B_e_hat'], y_pred=data_bad['B_e_hat_ikeda'])"
   ]
  },
  {
   "cell_type": "code",
   "execution_count": null,
   "metadata": {},
   "outputs": [],
   "source": [
    "parameters = list(set(ikeda_parameters) )"
   ]
  },
  {
   "cell_type": "code",
   "execution_count": null,
   "metadata": {},
   "outputs": [],
   "source": [
    "variance_treshold = VarianceThreshold(0.00)\n",
    "#standard_scaler = StandardScaler()\n",
    "\n",
    "y_key = 'B_e_hat'\n",
    "data_=data_bad[parameters+[y_key]].copy()\n",
    "data_.dropna(inplace=True)\n",
    "y = data_['B_e_hat']\n",
    "X = data_[parameters]\n",
    "#X = data_[ikeda_parameters]\n",
    "\n",
    "\n",
    "       \n",
    "polynomial_features = PolynomialFeatures(degree=2)\n",
    "linear_regression = LinearRegression()\n",
    "\n",
    "ks = np.arange(1,13,1)\n",
    "scores = []\n",
    "stds = []\n",
    "for k in ks:\n",
    "    select_k_best = SelectKBest(k=k, score_func=f_regression)\n",
    "    steps=[\n",
    "            ('polynomial_feature', polynomial_features),\n",
    "            #('standard_scaler', standard_scaler),\n",
    "            ('variance_treshold',variance_treshold),\n",
    "            ('select_k_best',select_k_best),\n",
    "            ('linear_regression', linear_regression)\n",
    "    ]\n",
    "    \n",
    "    model = Pipeline(steps=steps)\n",
    "    model.fit(X=X, y=y)\n",
    "    cv=5\n",
    "    score = cross_val_score(estimator=model,X=X,y=y,cv=cv).mean()\n",
    "    std = cross_val_score(estimator=model,X=X,y=y,cv=cv).std()\n",
    "    \n",
    "    scores.append(score)\n",
    "    stds.append(std)\n",
    "    \n",
    "scores = np.array(scores)\n",
    "stds = np.array(stds)"
   ]
  },
  {
   "cell_type": "code",
   "execution_count": null,
   "metadata": {},
   "outputs": [],
   "source": [
    "fig,ax = plt.subplots()\n",
    "ax.plot(ks,scores-stds,'.-')\n",
    "ax.plot(ks,scores,'.-')\n",
    "ax.plot(ks,scores+stds,'.-')"
   ]
  },
  {
   "cell_type": "code",
   "execution_count": null,
   "metadata": {},
   "outputs": [],
   "source": [
    "select_k_best = SelectKBest(k=7, score_func=f_regression)\n",
    "steps=[\n",
    "        ('polynomial_feature', polynomial_features),\n",
    "        #('standard_scaler', standard_scaler),\n",
    "        ('variance_treshold',variance_treshold),\n",
    "        ('select_k_best',select_k_best),\n",
    "        ('linear_regression', linear_regression)\n",
    "]\n",
    "\n",
    "model = Pipeline(steps=steps)\n",
    "model.fit(X=X, y=y)\n",
    "cv=5\n",
    "score = cross_val_score(estimator=model,X=X,y=y,cv=cv).mean()\n",
    "std = cross_val_score(estimator=model,X=X,y=y,cv=cv).std()"
   ]
  },
  {
   "cell_type": "code",
   "execution_count": null,
   "metadata": {},
   "outputs": [],
   "source": [
    "score"
   ]
  },
  {
   "cell_type": "code",
   "execution_count": null,
   "metadata": {},
   "outputs": [],
   "source": [
    "polynom = Polynom(model=model, columns=X.columns, y_symbol=symbols.B_e_hat)\n",
    "polynom.fit(X=X, y=y)\n",
    "polynom.equation"
   ]
  },
  {
   "cell_type": "code",
   "execution_count": null,
   "metadata": {},
   "outputs": [],
   "source": [
    "data['B_e_hat_combine'] = model.predict(data[parameters])\n",
    "data.loc[~bad_mask,'B_e_hat_combine'] = data.loc[~bad_mask,'B_e_hat_ikeda']\n"
   ]
  },
  {
   "cell_type": "code",
   "execution_count": null,
   "metadata": {},
   "outputs": [],
   "source": []
  },
  {
   "cell_type": "code",
   "execution_count": null,
   "metadata": {},
   "outputs": [],
   "source": [
    "r2_score(y_true=data['B_e_hat'], y_pred=data['B_e_hat_combine'])"
   ]
  },
  {
   "cell_type": "code",
   "execution_count": null,
   "metadata": {},
   "outputs": [],
   "source": [
    "fig,ax=plt.subplots()\n",
    "data.plot(x='B_e_hat', y=['B_e_hat_ikeda','B_e_hat_combine'], ax=ax, style='o', alpha=0.4)\n",
    "\n",
    "xlim = ax.get_xlim()\n",
    "ylim = ax.get_ylim()\n",
    "lim = np.max([xlim[1],ylim[1]])\n",
    "ax.set_xlim(0,lim)\n",
    "ax.set_ylim(0,lim)\n",
    "ax.plot([0,lim],[0,lim],'r-')\n",
    "ax.set_aspect('equal', 'box')"
   ]
  },
  {
   "cell_type": "code",
   "execution_count": null,
   "metadata": {},
   "outputs": [],
   "source": []
  },
  {
   "cell_type": "markdown",
   "metadata": {},
   "source": [
    "## Pure polynom additional parameters"
   ]
  },
  {
   "cell_type": "code",
   "execution_count": null,
   "metadata": {},
   "outputs": [],
   "source": [
    "additional_parameters = [\n",
    " 'C_W',\n",
    " 'K_xx',\n",
    " 'I_RUD',\n",
    " 'C_p',\n",
    " 'A_0',\n",
    " 'TWIN',\n",
    " 'A_R',\n",
    "]"
   ]
  },
  {
   "cell_type": "code",
   "execution_count": null,
   "metadata": {},
   "outputs": [],
   "source": [
    "parameters = list(set(ikeda_parameters) | set(additional_parameters))"
   ]
  },
  {
   "cell_type": "code",
   "execution_count": null,
   "metadata": {},
   "outputs": [],
   "source": [
    "variance_treshold = VarianceThreshold(0.00)\n",
    "#standard_scaler = StandardScaler()\n",
    "\n",
    "y_key = 'B_e_hat'\n",
    "data_=data[parameters+[y_key]].copy()\n",
    "data_.dropna(inplace=True)\n",
    "y = data_['B_e_hat']\n",
    "X = data_[parameters]\n",
    "#X = data_[ikeda_parameters]\n",
    "\n",
    "\n",
    "       \n",
    "polynomial_features = PolynomialFeatures(degree=2)\n",
    "linear_regression = LinearRegression()\n",
    "\n",
    "ks = np.arange(1,11,1)\n",
    "scores = []\n",
    "stds = []\n",
    "for k in ks:\n",
    "    select_k_best = SelectKBest(k=k, score_func=f_regression)\n",
    "    steps=[\n",
    "            ('polynomial_feature', polynomial_features),\n",
    "            #('standard_scaler', standard_scaler),\n",
    "            ('variance_treshold',variance_treshold),\n",
    "            ('select_k_best',select_k_best),\n",
    "            ('linear_regression', linear_regression)\n",
    "    ]\n",
    "    \n",
    "    model = Pipeline(steps=steps)\n",
    "    model.fit(X=X, y=y)\n",
    "    cv=5\n",
    "    score = cross_val_score(estimator=model,X=X,y=y,cv=cv).mean()\n",
    "    std = cross_val_score(estimator=model,X=X,y=y,cv=cv).std()\n",
    "    \n",
    "    scores.append(score)\n",
    "    stds.append(std)\n",
    "    \n",
    "scores = np.array(scores)\n",
    "stds = np.array(stds)"
   ]
  },
  {
   "cell_type": "code",
   "execution_count": null,
   "metadata": {},
   "outputs": [],
   "source": [
    "fig,ax = plt.subplots()\n",
    "ax.plot(ks,scores-stds,'.-')\n",
    "ax.plot(ks,scores,'.-')\n",
    "ax.plot(ks,scores+stds,'.-')"
   ]
  },
  {
   "cell_type": "code",
   "execution_count": null,
   "metadata": {},
   "outputs": [],
   "source": [
    "select_k_best = SelectKBest(k=9, score_func=f_regression)\n",
    "steps=[\n",
    "        ('polynomial_feature', polynomial_features),\n",
    "        #('standard_scaler', standard_scaler),\n",
    "        ('variance_treshold',variance_treshold),\n",
    "        ('select_k_best',select_k_best),\n",
    "        ('linear_regression', linear_regression)\n",
    "]\n",
    "\n",
    "model = Pipeline(steps=steps)\n",
    "model.fit(X=X, y=y)\n",
    "cv=5\n",
    "score = cross_val_score(estimator=model,X=X,y=y,cv=cv).mean()\n",
    "std = cross_val_score(estimator=model,X=X,y=y,cv=cv).std()"
   ]
  },
  {
   "cell_type": "code",
   "execution_count": null,
   "metadata": {},
   "outputs": [],
   "source": [
    "score"
   ]
  },
  {
   "cell_type": "code",
   "execution_count": null,
   "metadata": {},
   "outputs": [],
   "source": [
    "polynom = Polynom(model=model, columns=X.columns, y_symbol=symbols.B_e_hat)\n",
    "polynom.fit(X=X, y=y)\n",
    "polynom.equation"
   ]
  },
  {
   "cell_type": "markdown",
   "metadata": {},
   "source": [
    "## Include Ikeda results"
   ]
  },
  {
   "cell_type": "code",
   "execution_count": null,
   "metadata": {},
   "outputs": [],
   "source": [
    "parameters = list(set(ikeda_parameters)\n",
    "                  | set(['B_BK_HAT','B_W_HAT','B_E_HAT','B_L_HAT']))"
   ]
  },
  {
   "cell_type": "code",
   "execution_count": null,
   "metadata": {},
   "outputs": [],
   "source": [
    "variance_treshold = VarianceThreshold(0.00)\n",
    "#standard_scaler = StandardScaler()\n",
    "\n",
    "y_key = 'B_e_hat'\n",
    "data_=data[parameters+[y_key]].copy()\n",
    "data_.dropna(inplace=True)\n",
    "y = data_['B_e_hat']\n",
    "X = data_[parameters]\n",
    "\n",
    "\n",
    "       \n",
    "polynomial_features = PolynomialFeatures(degree=2)\n",
    "linear_regression = LinearRegression()\n",
    "\n",
    "ks = np.arange(1,16,1)\n",
    "scores = []\n",
    "stds = []\n",
    "for k in ks:\n",
    "    select_k_best = SelectKBest(k=k, score_func=f_regression)\n",
    "    steps=[\n",
    "            ('polynomial_feature', polynomial_features),\n",
    "            #('standard_scaler', standard_scaler),\n",
    "            ('variance_treshold',variance_treshold),\n",
    "            ('select_k_best',select_k_best),\n",
    "            ('linear_regression', linear_regression)\n",
    "    ]\n",
    "    \n",
    "    model = Pipeline(steps=steps)\n",
    "    model.fit(X=X, y=y)\n",
    "    cv=5\n",
    "    score = cross_val_score(estimator=model,X=X,y=y,cv=cv).mean()\n",
    "    std = cross_val_score(estimator=model,X=X,y=y,cv=cv).std()\n",
    "    \n",
    "    scores.append(score)\n",
    "    stds.append(std)\n",
    "    \n",
    "scores = np.array(scores)\n",
    "stds = np.array(stds)"
   ]
  },
  {
   "cell_type": "code",
   "execution_count": null,
   "metadata": {},
   "outputs": [],
   "source": [
    "fig,ax = plt.subplots()\n",
    "ax.plot(ks,scores-stds,'.-')\n",
    "ax.plot(ks,scores,'.-')\n",
    "ax.plot(ks,scores+stds,'.-')"
   ]
  },
  {
   "cell_type": "code",
   "execution_count": null,
   "metadata": {},
   "outputs": [],
   "source": [
    "select_k_best = SelectKBest(k=14, score_func=f_regression)\n",
    "steps=[\n",
    "        ('polynomial_feature', polynomial_features),\n",
    "        ('variance_treshold',variance_treshold),\n",
    "        ('select_k_best',select_k_best),\n",
    "        ('linear_regression', linear_regression)\n",
    "]\n",
    "\n",
    "model = Pipeline(steps=steps)\n",
    "model.fit(X=X, y=y)\n",
    "cv=5\n",
    "score = cross_val_score(estimator=model,X=X,y=y,cv=cv).mean()\n",
    "std = cross_val_score(estimator=model,X=X,y=y,cv=cv).std()"
   ]
  },
  {
   "cell_type": "code",
   "execution_count": null,
   "metadata": {},
   "outputs": [],
   "source": [
    "score"
   ]
  },
  {
   "cell_type": "code",
   "execution_count": null,
   "metadata": {},
   "outputs": [],
   "source": [
    "polynom = Polynom(model=model, columns=X.columns, y_symbol=symbols.B_e_hat)\n",
    "polynom.fit(X=X, y=y)\n",
    "polynom.equation"
   ]
  },
  {
   "cell_type": "code",
   "execution_count": null,
   "metadata": {},
   "outputs": [],
   "source": []
  },
  {
   "cell_type": "code",
   "execution_count": null,
   "metadata": {},
   "outputs": [],
   "source": []
  },
  {
   "cell_type": "code",
   "execution_count": null,
   "metadata": {},
   "outputs": [],
   "source": []
  },
  {
   "cell_type": "code",
   "execution_count": null,
   "metadata": {},
   "outputs": [],
   "source": []
  },
  {
   "cell_type": "code",
   "execution_count": null,
   "metadata": {},
   "outputs": [],
   "source": []
  },
  {
   "cell_type": "code",
   "execution_count": null,
   "metadata": {},
   "outputs": [],
   "source": []
  },
  {
   "cell_type": "code",
   "execution_count": null,
   "metadata": {},
   "outputs": [],
   "source": []
  },
  {
   "cell_type": "code",
   "execution_count": null,
   "metadata": {},
   "outputs": [],
   "source": [
    "variance_treshold = VarianceThreshold(0.001)\n",
    "standard_scaler = StandardScaler()\n",
    "\n",
    "\n",
    "y = y_s['B_e_hat']\n",
    "#X = data[important]\n",
    "#X=data[ikeda_parameters]\n",
    "       \n",
    "polynomial_features = PolynomialFeatures(degree=2)\n",
    "linear_regression = LinearRegression()\n",
    "\n",
    "ks = np.arange(1,30)\n",
    "scores = []\n",
    "for k in ks:\n",
    "    select_k_best = SelectKBest(k=k, score_func=f_regression)\n",
    "\n",
    "    steps=[\n",
    "        ('polynomial_feature', polynomial_features),\n",
    "        #('standard_scaler', standard_scaler),\n",
    "        ('variance_treshold',variance_treshold),\n",
    "        ('select_k_best',select_k_best),\n",
    "        ('linear_regression', linear_regression)\n",
    "    ]\n",
    "    \n",
    "    model = Pipeline(steps=steps)\n",
    "    model.fit(X=X, y=y)\n",
    "    scores.append(cross_val_score(estimator=model,X=X,y=y,cv=5).mean())"
   ]
  },
  {
   "cell_type": "code",
   "execution_count": null,
   "metadata": {},
   "outputs": [],
   "source": [
    "fig,ax=plt.subplots()\n",
    "ax.plot(ks,scores)"
   ]
  },
  {
   "cell_type": "code",
   "execution_count": null,
   "metadata": {},
   "outputs": [],
   "source": [
    "polynomial_features = PolynomialFeatures(degree=2)\n",
    "linear_regression = LinearRegression()\n",
    "\n",
    "\n",
    "scores = []\n",
    "select_k_best = SelectKBest(k=10, score_func=f_regression)\n",
    "\n",
    "steps=[\n",
    "    ('polynomial_feature', polynomial_features),\n",
    "    #('standard_scaler', standard_scaler),\n",
    "    ('variance_treshold',variance_treshold),\n",
    "    ('select_k_best',select_k_best),\n",
    "    ('linear_regression', linear_regression)\n",
    "]\n",
    "\n",
    "model = Pipeline(steps=steps)\n",
    "model.fit(X=X, y=y)\n",
    "cross_val_score(estimator=model,X=X,y=y,cv=5).mean()"
   ]
  },
  {
   "cell_type": "code",
   "execution_count": null,
   "metadata": {},
   "outputs": [],
   "source": [
    "df_ikeda.head()"
   ]
  },
  {
   "cell_type": "code",
   "execution_count": null,
   "metadata": {},
   "outputs": [],
   "source": [
    "X2 = X.copy()\n",
    "X2['B_1_hat'] = df_ikeda['B_1_hat']\n",
    "X2['B_2_hat'] = df_ikeda['B_2_hat']\n",
    "\n",
    "polynomial_features = PolynomialFeatures(degree=2)\n",
    "linear_regression = LinearRegression()\n",
    "\n",
    "\n",
    "scores = []\n",
    "select_k_best = SelectKBest(k=10, score_func=f_regression)\n",
    "\n",
    "steps=[\n",
    "    ('polynomial_feature', polynomial_features),\n",
    "    #('standard_scaler', standard_scaler),\n",
    "    ('variance_treshold',variance_treshold),\n",
    "    ('select_k_best',select_k_best),\n",
    "    ('linear_regression', linear_regression)\n",
    "]\n",
    "\n",
    "model = Pipeline(steps=steps)\n",
    "model.fit(X=X2, y=y)\n",
    "cross_val_score(estimator=model,X=X2,y=y,cv=5).mean()"
   ]
  },
  {
   "cell_type": "code",
   "execution_count": null,
   "metadata": {},
   "outputs": [],
   "source": []
  },
  {
   "cell_type": "code",
   "execution_count": null,
   "metadata": {},
   "outputs": [],
   "source": [
    "r2_score(y_true=df_compare['B_e_hat'], y_pred=df_compare['B_e_hat_ikeda'])"
   ]
  },
  {
   "cell_type": "code",
   "execution_count": null,
   "metadata": {},
   "outputs": [],
   "source": [
    "y_key = 'B_1_hat'\n",
    "\n",
    "fig,ax=plt.subplots()\n",
    "y_s[y_key].hist(bins=50, ax=ax)\n",
    "ax.set_title('Historgram: %s' % y_key)"
   ]
  },
  {
   "cell_type": "code",
   "execution_count": null,
   "metadata": {},
   "outputs": [],
   "source": [
    "df_ikeda = database.load(rolldecay_table_name='rolldecay_simplified_ikeda', limit_score=0.90, \n",
    "                             exclude_table_name='rolldecay_exclude')"
   ]
  },
  {
   "cell_type": "code",
   "execution_count": null,
   "metadata": {},
   "outputs": [],
   "source": [
    "data.head()"
   ]
  },
  {
   "cell_type": "code",
   "execution_count": null,
   "metadata": {},
   "outputs": [],
   "source": [
    "variance_treshold = VarianceThreshold(0.000)\n",
    "standard_scaler = StandardScaler()\n",
    "\n",
    "\n",
    "y = y_s[y_key]\n",
    "#X = data[important]\n",
    "X=data.drop(columns=['I_RUD','TWIN']).copy()  # Handle categorical data later\n",
    "       \n",
    "polynomial_features = PolynomialFeatures(degree=2)\n",
    "linear_regression = LinearRegression()\n",
    "\n",
    "ks = np.arange(1,30)\n",
    "scores = []\n",
    "for k in ks:\n",
    "    select_k_best = SelectKBest(k=k, score_func=f_regression)\n",
    "\n",
    "    steps=[\n",
    "        ('polynomial_feature', polynomial_features),\n",
    "        ('standard_scaler', standard_scaler),\n",
    "        ('variance_treshold',variance_treshold),\n",
    "        ('select_k_best',select_k_best),\n",
    "        ('linear_regression', linear_regression)\n",
    "    ]\n",
    "    \n",
    "    model = Pipeline(steps=steps)\n",
    "    model.fit(X=X, y=y)\n",
    "    scores.append(model.score(X=X, y=y))\n",
    "    #scores.append(cross_val_score(estimator=model,X=X,y=y,cv=4).mean())\n",
    "    \n",
    "    "
   ]
  },
  {
   "cell_type": "code",
   "execution_count": null,
   "metadata": {},
   "outputs": [],
   "source": [
    "fig,ax=plt.subplots()\n",
    "ax.plot(ks,scores)"
   ]
  },
  {
   "cell_type": "code",
   "execution_count": null,
   "metadata": {},
   "outputs": [],
   "source": [
    "variance_treshold = VarianceThreshold(0.000)\n",
    "standard_scaler = StandardScaler()\n",
    "select_k_best = SelectKBest(k=20, score_func=f_regression)\n",
    "\n",
    "y = y_s[y_key]\n",
    "#X = data[important]\n",
    "X=data.drop(columns=['I_RUD','TWIN']).copy()  # Handle categorical data later\n",
    "       \n",
    "polynomial_features = PolynomialFeatures(degree=2)\n",
    "linear_regression = LinearRegression()\n",
    "\n",
    "steps=[\n",
    "    ('polynomial_feature', polynomial_features),\n",
    "    ('standard_scaler', standard_scaler),\n",
    "    ('variance_treshold',variance_treshold),\n",
    "    ('select_k_best',select_k_best),\n",
    "    ('linear_regression', linear_regression)\n",
    "]\n",
    "\n",
    "model = Pipeline(steps=steps)\n",
    "#cross_val_score(estimator=model,X=X,y=y,cv=5).mean()\n",
    "model.fit(X=X, y=y)\n",
    "model.score(X=X, y=y)"
   ]
  },
  {
   "cell_type": "code",
   "execution_count": null,
   "metadata": {},
   "outputs": [],
   "source": [
    "fig,ax = plt.subplots()\n",
    "ax.plot(y,model.predict(X),'o', alpha=0.5)\n",
    "ax.set_title('Prediction of %s' % y_key)\n",
    "ax.set_xlabel('test: %s' % y_key)\n",
    "ax.set_ylabel('predicted: %s' % y_key)"
   ]
  },
  {
   "cell_type": "code",
   "execution_count": null,
   "metadata": {},
   "outputs": [],
   "source": [
    "polynom = Polynom(model=model, columns=X.columns, y_symbol=symbols.B_1_hat)\n",
    "polynom.fit(X=X, y=y)\n",
    "polynom.equation"
   ]
  },
  {
   "cell_type": "code",
   "execution_count": null,
   "metadata": {},
   "outputs": [],
   "source": []
  },
  {
   "cell_type": "code",
   "execution_count": null,
   "metadata": {},
   "outputs": [],
   "source": [
    "ks = np.arange(1,10)\n",
    "degrees = np.arange(1,3)\n",
    "results = pd.DataFrame()\n",
    "\n",
    "variance_treshold = VarianceThreshold(0.0001)\n",
    "standard_scaler = StandardScaler()\n",
    "\n",
    "y = y_s[y_key]\n",
    "#X = data[important]\n",
    "X=data.drop(columns=['I_RUD','TWIN']).copy()  # Handle categorical data later\n",
    "\n",
    "\n",
    "for k in ks:\n",
    "    for degree in degrees:\n",
    "        select_k_best = SelectKBest(k=k, score_func=f_regression)\n",
    "        \n",
    "       \n",
    "        polynomial_features = PolynomialFeatures(degree=degree)\n",
    "        linear_regression = LinearRegression()\n",
    "        \n",
    "        steps=[\n",
    "            ('polynomial_feature', polynomial_features),\n",
    "            ('standard_scaler', standard_scaler),\n",
    "            ('variance_treshold',variance_treshold),\n",
    "            ('select_k_best',select_k_best),\n",
    "            ('linear_regression', linear_regression)\n",
    "        ]\n",
    "        \n",
    "        model = Pipeline(steps=steps)\n",
    "        score = cross_val_score(estimator=model,X=X,y=y,cv=5).mean()\n",
    "        s = pd.Series()\n",
    "        s['k'] = k\n",
    "        s['degree'] = degree\n",
    "        s['score'] = score\n",
    "        results = results.append(s, ignore_index=True)\n",
    "        \n",
    "        "
   ]
  },
  {
   "cell_type": "code",
   "execution_count": null,
   "metadata": {},
   "outputs": [],
   "source": [
    "results.sort_values(by='score', ascending=False, inplace=True)"
   ]
  },
  {
   "cell_type": "code",
   "execution_count": null,
   "metadata": {},
   "outputs": [],
   "source": [
    "results.head()"
   ]
  },
  {
   "cell_type": "code",
   "execution_count": null,
   "metadata": {},
   "outputs": [],
   "source": [
    "k = int(results.iloc[0]['k'])\n",
    "degree = int(results.iloc[0]['degree'])"
   ]
  },
  {
   "cell_type": "code",
   "execution_count": null,
   "metadata": {},
   "outputs": [],
   "source": [
    "select_k_best = SelectKBest(k=k, score_func=f_regression)\n",
    "\n",
    "standard_scaler = StandardScaler()\n",
    "polynomial_features = PolynomialFeatures(degree=degree)\n",
    "linear_regression = LinearRegression()\n",
    "\n",
    "steps=[\n",
    "    ('polynomial_feature', polynomial_features),\n",
    "    ('standard_scaler', standard_scaler),\n",
    "    ('variance_treshold',variance_treshold),\n",
    "    ('select_k_best',select_k_best),\n",
    "    ('linear_regression', linear_regression)\n",
    "]\n",
    "\n",
    "model = Pipeline(steps=steps)"
   ]
  },
  {
   "cell_type": "code",
   "execution_count": null,
   "metadata": {},
   "outputs": [],
   "source": [
    "X_train, X_test, y_train, y_test = train_test_split(X, y, test_size=0.20)\n",
    "model.fit(X=X_train, y=y_train)\n",
    "score = model.score(X=X_test, y=y_test)\n",
    "score"
   ]
  },
  {
   "cell_type": "code",
   "execution_count": null,
   "metadata": {},
   "outputs": [],
   "source": [
    "fig,ax = plt.subplots()\n",
    "ax.plot(y_test,model.predict(X_test),'.', alpha=0.5)\n",
    "ax.set_title('Prediction of %s' % y_key)\n",
    "ax.set_xlabel('test: %s' % y_key)\n",
    "ax.set_ylabel('predicted: %s' % y_key)\n"
   ]
  },
  {
   "cell_type": "code",
   "execution_count": null,
   "metadata": {},
   "outputs": [],
   "source": [
    "fig,ax = plt.subplots()\n",
    "ax.plot(y,model.predict(X),'o', alpha=0.6)\n",
    "ax.set_title('Prediction of %s' % y_key)\n",
    "ax.set_xlabel('test: %s' % y_key)\n",
    "ax.set_ylabel('predicted: %s' % y_key)"
   ]
  },
  {
   "cell_type": "code",
   "execution_count": null,
   "metadata": {},
   "outputs": [],
   "source": [
    "import pickle\n",
    "filename = 'B_1_hat_model.sav'\n",
    "model.fit(X=X, y=y)\n",
    "model.keys=list(X.columns)\n",
    "pickle.dump(model, open(filename, 'wb'))"
   ]
  },
  {
   "cell_type": "code",
   "execution_count": null,
   "metadata": {},
   "outputs": [],
   "source": [
    "model.score(X=X,y=y)"
   ]
  },
  {
   "cell_type": "code",
   "execution_count": null,
   "metadata": {},
   "outputs": [],
   "source": [
    "polynom = Polynom(model=model, columns=X.columns, y_symbol=symbols.B_1_hat)\n",
    "polynom.fit(X=X, y=y)\n",
    "\n",
    "score = polynom.score(X=X, y=y)\n",
    "score"
   ]
  },
  {
   "cell_type": "code",
   "execution_count": null,
   "metadata": {},
   "outputs": [],
   "source": [
    "polynom.equation"
   ]
  },
  {
   "cell_type": "code",
   "execution_count": null,
   "metadata": {},
   "outputs": [],
   "source": [
    "polynom.save('B_1_hat_polynom.sym')"
   ]
  },
  {
   "cell_type": "code",
   "execution_count": null,
   "metadata": {},
   "outputs": [],
   "source": [
    "X.describe()"
   ]
  },
  {
   "cell_type": "code",
   "execution_count": null,
   "metadata": {},
   "outputs": [],
   "source": []
  },
  {
   "cell_type": "code",
   "execution_count": null,
   "metadata": {},
   "outputs": [],
   "source": []
  },
  {
   "cell_type": "code",
   "execution_count": null,
   "metadata": {},
   "outputs": [],
   "source": []
  },
  {
   "cell_type": "code",
   "execution_count": null,
   "metadata": {},
   "outputs": [],
   "source": []
  },
  {
   "cell_type": "code",
   "execution_count": null,
   "metadata": {},
   "outputs": [],
   "source": [
    "select_k_best = SelectKBest(k=9, score_func=f_regression)\n",
    "polynomial_features = PolynomialFeatures(degree=2)\n",
    "linear_regression = LinearRegression()\n",
    "variance_treshold = VarianceThreshold(0.000001)\n",
    "\n",
    "steps=[\n",
    "    ('polynomial_feature', polynomial_features),\n",
    "    ('standard_scaler', standard_scaler),\n",
    "    ('variance_treshold',variance_treshold),\n",
    "    ('select_k_best',select_k_best),\n",
    "    ('linear_regression', linear_regression)\n",
    "]\n",
    "\n",
    "model = Pipeline(steps=steps)\n",
    "score = cross_val_score(estimator=model,X=X,y=y,cv=5).mean()\n",
    "score"
   ]
  },
  {
   "cell_type": "code",
   "execution_count": null,
   "metadata": {},
   "outputs": [],
   "source": [
    "model.fit(X=X,y=y)"
   ]
  },
  {
   "cell_type": "code",
   "execution_count": null,
   "metadata": {},
   "outputs": [],
   "source": [
    "model.score(X=X,y=y)"
   ]
  },
  {
   "cell_type": "code",
   "execution_count": null,
   "metadata": {},
   "outputs": [],
   "source": [
    "polynom = Polynom(model=model, columns=X.columns, y_symbol=symbols.B_1_hat)\n",
    "polynom.fit(X=X, y=y)"
   ]
  },
  {
   "cell_type": "code",
   "execution_count": null,
   "metadata": {},
   "outputs": [],
   "source": [
    "polynom.equation"
   ]
  },
  {
   "cell_type": "code",
   "execution_count": null,
   "metadata": {},
   "outputs": [],
   "source": [
    "X.head()"
   ]
  },
  {
   "cell_type": "code",
   "execution_count": null,
   "metadata": {},
   "outputs": [],
   "source": [
    "mask = X['V']==0\n",
    "X_0=X.loc[mask]\n",
    "y_0=y.loc[mask]"
   ]
  },
  {
   "cell_type": "code",
   "execution_count": null,
   "metadata": {},
   "outputs": [],
   "source": [
    "y_0.hist()"
   ]
  },
  {
   "cell_type": "code",
   "execution_count": null,
   "metadata": {},
   "outputs": [],
   "source": [
    "model.fit(X=X_0,y=y_0)"
   ]
  },
  {
   "cell_type": "code",
   "execution_count": null,
   "metadata": {},
   "outputs": [],
   "source": [
    "polynom = Polynom(model=model, columns=X.columns, y_symbol=symbols.B_1_hat)\n",
    "polynom.fit(X=X_0, y=y_0)"
   ]
  },
  {
   "cell_type": "code",
   "execution_count": null,
   "metadata": {},
   "outputs": [],
   "source": [
    "polynom.equation"
   ]
  },
  {
   "cell_type": "code",
   "execution_count": null,
   "metadata": {},
   "outputs": [],
   "source": [
    "fig,ax = plt.subplots()\n",
    "ax.plot(y_0,model.predict(X_0),'o', alpha=0.6)\n",
    "ax.set_title('Prediction of %s' % y_key)\n",
    "ax.set_xlabel('test: %s' % y_key)\n",
    "ax.set_ylabel('predicted: %s' % y_key)"
   ]
  },
  {
   "cell_type": "code",
   "execution_count": null,
   "metadata": {},
   "outputs": [],
   "source": [
    "X['B_1_hat0']=model.predict(X=X)"
   ]
  },
  {
   "cell_type": "code",
   "execution_count": null,
   "metadata": {},
   "outputs": [],
   "source": [
    "select_k_best = SelectKBest(k=9, score_func=f_regression)\n",
    "polynomial_features = PolynomialFeatures(degree=2)\n",
    "linear_regression = LinearRegression()\n",
    "\n",
    "steps=[\n",
    "    ('polynomial_feature', polynomial_features),\n",
    "    ('standard_scaler', standard_scaler),\n",
    "    ('variance_treshold',variance_treshold),\n",
    "    ('select_k_best',select_k_best),\n",
    "    ('linear_regression', linear_regression)\n",
    "]\n",
    "\n",
    "model = Pipeline(steps=steps)\n",
    "score = cross_val_score(estimator=model,X=X,y=y,cv=5).mean()\n",
    "score"
   ]
  },
  {
   "cell_type": "code",
   "execution_count": null,
   "metadata": {},
   "outputs": [],
   "source": [
    "model.fit(X=X,y=y)"
   ]
  },
  {
   "cell_type": "code",
   "execution_count": null,
   "metadata": {},
   "outputs": [],
   "source": [
    "polynom = Polynom(model=model, columns=X.columns, y_symbol=symbols.B_1_hat)\n",
    "polynom.fit(X=X, y=y)"
   ]
  },
  {
   "cell_type": "code",
   "execution_count": null,
   "metadata": {},
   "outputs": [],
   "source": [
    "polynom.equation"
   ]
  },
  {
   "cell_type": "code",
   "execution_count": null,
   "metadata": {},
   "outputs": [],
   "source": [
    "model.score(X=X,y=y)"
   ]
  },
  {
   "cell_type": "code",
   "execution_count": null,
   "metadata": {},
   "outputs": [],
   "source": []
  },
  {
   "cell_type": "code",
   "execution_count": null,
   "metadata": {},
   "outputs": [],
   "source": []
  },
  {
   "cell_type": "code",
   "execution_count": null,
   "metadata": {},
   "outputs": [],
   "source": []
  },
  {
   "cell_type": "code",
   "execution_count": null,
   "metadata": {},
   "outputs": [],
   "source": []
  },
  {
   "cell_type": "code",
   "execution_count": null,
   "metadata": {},
   "outputs": [],
   "source": []
  }
 ],
 "metadata": {
  "kernelspec": {
   "display_name": "Python 3",
   "language": "python",
   "name": "python3"
  },
  "language_info": {
   "codemirror_mode": {
    "name": "ipython",
    "version": 3
   },
   "file_extension": ".py",
   "mimetype": "text/x-python",
   "name": "python",
   "nbconvert_exporter": "python",
   "pygments_lexer": "ipython3",
   "version": "3.5.4"
  },
  "pycharm": {
   "stem_cell": {
    "cell_type": "raw",
    "metadata": {
     "collapsed": false
    },
    "source": []
   }
  }
 },
 "nbformat": 4,
 "nbformat_minor": 4
}
