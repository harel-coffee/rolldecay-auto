{
 "cells": [
  {
   "cell_type": "markdown",
   "metadata": {},
   "source": [
    "# Regression simulation"
   ]
  },
  {
   "cell_type": "code",
   "execution_count": null,
   "metadata": {},
   "outputs": [],
   "source": [
    "import warnings\n",
    "warnings.filterwarnings(\"ignore\")"
   ]
  },
  {
   "cell_type": "code",
   "execution_count": null,
   "metadata": {},
   "outputs": [],
   "source": [
    "%matplotlib inline\n",
    "%load_ext autoreload\n",
    "%autoreload 2"
   ]
  },
  {
   "cell_type": "code",
   "execution_count": null,
   "metadata": {},
   "outputs": [],
   "source": [
    "from jupyterthemes import jtplot\n",
    "jtplot.style(theme='onedork', context='notebook', ticks=True, grid=False)"
   ]
  },
  {
   "cell_type": "code",
   "execution_count": null,
   "metadata": {
    "pycharm": {
     "is_executing": false
    }
   },
   "outputs": [],
   "source": [
    "import pandas as pd\n",
    "pd.options.display.max_rows = 999\n",
    "pd.options.display.max_columns = 999\n",
    "pd.set_option(\"display.max_columns\", None)\n",
    "import numpy as np\n",
    "import os\n",
    "import matplotlib.pyplot as plt\n",
    "from pylab import rcParams\n",
    "rcParams['figure.figsize'] = 15, 5\n",
    "\n",
    "import data\n",
    "import copy\n",
    "from rolldecay.bis_system import BisSystem\n",
    "\n",
    "from rolldecay import database\n",
    "from mdldb.tables import Run, RolldecayQuadraticBRegression\n",
    "from rolldecayestimators.direct_estimator_cubic import EstimatorQuadraticB\n",
    "from rolldecayestimators.ikeda_estimator import IkedaQuadraticEstimator\n",
    "from rolldecayestimators import symbols, equations\n",
    "from rolldecayestimators.substitute_dynamic_symbols import lambdify\n",
    "from rolldecayestimators.transformers import CutTransformer, LowpassFilterDerivatorTransformer, ScaleFactorTransformer, OffsetTransformer\n",
    "\n",
    "\n",
    "import sympy as sp\n",
    "\n",
    "from sklearn.pipeline import Pipeline\n",
    "from sklearn.model_selection import cross_val_score\n",
    "from sklearn.model_selection import train_test_split\n",
    "from sklearn.preprocessing import StandardScaler\n",
    "from sklearn.feature_selection import VarianceThreshold\n",
    "from sklearn.ensemble import ExtraTreesClassifier\n",
    "from sklearn.feature_selection import SelectKBest\n",
    "from sklearn.feature_selection import chi2\n",
    "from sklearn.feature_selection import f_regression\n",
    "\n",
    "from sklearn.linear_model import LinearRegression\n",
    "from sklearn.model_selection import cross_validate\n",
    "from sklearn.preprocessing import PolynomialFeatures\n",
    "from sklearn.pipeline import Pipeline\n",
    "from sklearn.pipeline import make_pipeline\n",
    "\n",
    "import signal_lab\n",
    "from sqlalchemy.inspection import inspect\n",
    "import seaborn as sns\n",
    "import docs\n",
    "import pickle\n",
    "import gc\n",
    "import dill\n",
    "from rolldecayestimators.substitute_dynamic_symbols import lambdify,run\n",
    "from rolldecayestimators.polynom_estimator import Polynom"
   ]
  },
  {
   "cell_type": "markdown",
   "metadata": {},
   "source": [
    "## omega0"
   ]
  },
  {
   "cell_type": "code",
   "execution_count": null,
   "metadata": {},
   "outputs": [],
   "source": [
    "omega_hat_polynom = Polynom.load('omega0_hat_polynom.sym')\n",
    "\n",
    "data = pd.read_pickle('data.sav')\n",
    "data['omega_hat'] = omega_hat_polynom.predict(data)\n",
    "y_s = pd.read_pickle('y.sav')"
   ]
  },
  {
   "cell_type": "markdown",
   "metadata": {},
   "source": [
    "## $\\hat{B_1}$"
   ]
  },
  {
   "cell_type": "code",
   "execution_count": null,
   "metadata": {},
   "outputs": [],
   "source": [
    "filename = 'B_1_hat_model.sav'\n",
    "B_1_hat_model = pickle.load(open(filename, 'rb'))"
   ]
  },
  {
   "cell_type": "code",
   "execution_count": null,
   "metadata": {},
   "outputs": [],
   "source": [
    "y = y_s['B_1_hat']\n",
    "#X=data[zeta_model.keys].copy()  # Handle categorical data later\n",
    "#zeta_model.score(X=X,y=y)"
   ]
  },
  {
   "cell_type": "code",
   "execution_count": null,
   "metadata": {},
   "outputs": [],
   "source": [
    "B_1_hat_polynom = Polynom.load('B_1_hat_polynom.sym')\n",
    "B_1_hat_polynom.score(X=data,y=y)"
   ]
  },
  {
   "cell_type": "markdown",
   "metadata": {},
   "source": [
    "## $\\hat{B_2}$"
   ]
  },
  {
   "cell_type": "code",
   "execution_count": null,
   "metadata": {},
   "outputs": [],
   "source": [
    "filename = 'B_2_hat_model.sav'\n",
    "B_2_hat_model = pickle.load(open(filename, 'rb'))"
   ]
  },
  {
   "cell_type": "code",
   "execution_count": null,
   "metadata": {},
   "outputs": [],
   "source": [
    "B_2_hat_polynom = Polynom.load('B_2_hat_polynom.sym')\n",
    "B_2_hat_polynom.score(X=data,y=y)"
   ]
  },
  {
   "cell_type": "markdown",
   "metadata": {},
   "source": [
    "## Predict parameters"
   ]
  },
  {
   "cell_type": "code",
   "execution_count": null,
   "metadata": {},
   "outputs": [],
   "source": [
    "predict = data.copy()\n",
    "#predict['omega_hat'] = omega0_hat_model.predict(data[omega0_hat_model.keys])\n",
    "predict['omega_hat'] = omega_hat_polynom.predict(data)\n",
    "\n",
    "#predict['zeta'] = zeta_model.predict(data[zeta_model.keys])\n",
    "predict['B_1_hat'] = B_1_hat_polynom.predict(data)\n",
    "\n",
    "#predict['d'] = d_model.predict(data[d_model.keys])\n",
    "predict['B_2_hat'] = B_2_hat_polynom.predict(data)\n"
   ]
  },
  {
   "cell_type": "markdown",
   "metadata": {},
   "source": [
    "## Simulate"
   ]
  },
  {
   "cell_type": "code",
   "execution_count": null,
   "metadata": {},
   "outputs": [],
   "source": [
    "df_rolldecay = database.load(rolldecay_table_name='rolldecay_quadratic_b', limit_score=0.90)\n",
    "db = database.get_db()"
   ]
  },
  {
   "cell_type": "code",
   "execution_count": null,
   "metadata": {},
   "outputs": [],
   "source": [
    "df_rolldecay_ikeda = database.load(rolldecay_table_name='rolldecay_simplified_ikeda', limit_score=0.0)"
   ]
  },
  {
   "cell_type": "code",
   "execution_count": null,
   "metadata": {},
   "outputs": [],
   "source": [
    "predict.head()"
   ]
  },
  {
   "cell_type": "code",
   "execution_count": null,
   "metadata": {},
   "outputs": [],
   "source": [
    "meta_data = predict.iloc[0]"
   ]
  },
  {
   "cell_type": "code",
   "execution_count": null,
   "metadata": {},
   "outputs": [],
   "source": [
    "meta_data_full_scale = df_rolldecay.loc[meta_data.name]"
   ]
  },
  {
   "cell_type": "code",
   "execution_count": null,
   "metadata": {},
   "outputs": [],
   "source": [
    "db_run = db.session.query(Run).get(int(meta_data.name))\n",
    "df = database.load_run(db_run)"
   ]
  },
  {
   "cell_type": "code",
   "execution_count": null,
   "metadata": {},
   "outputs": [],
   "source": [
    "df.plot(y='phi')"
   ]
  },
  {
   "cell_type": "code",
   "execution_count": null,
   "metadata": {},
   "outputs": [],
   "source": [
    "lowpass_filter = LowpassFilterDerivatorTransformer(cutoff=2, minimum_score=0.99)\n",
    "#scaler = ScaleFactorTransformer(scale_factor=db_run.model.scale_factor)  # dummy value None for now\n",
    "cutter = CutTransformer(phi_max=np.deg2rad(9), phi_min=np.deg2rad(0.25), phi1d_start_tolerance=0.015)\n",
    "offset_transformer = OffsetTransformer()\n",
    "\n",
    "steps = [\n",
    "    ('filter',lowpass_filter),\n",
    "#    ('scaler',scaler),  # Is froude scaling a good idea??\n",
    "    ('cutter', cutter), \n",
    "    ('offset_transformer',offset_transformer)\n",
    "]\n",
    "        \n",
    "preprocessor = Pipeline(steps) # define the pipeline object.\n",
    "preprocessor.fit(df)\n",
    "X = preprocessor.transform(df)"
   ]
  },
  {
   "cell_type": "code",
   "execution_count": null,
   "metadata": {},
   "outputs": [],
   "source": [
    "X.plot(y='phi')"
   ]
  },
  {
   "cell_type": "code",
   "execution_count": null,
   "metadata": {},
   "outputs": [],
   "source": [
    "omega_hat_equation = equations.omega_hat_equation.subs(symbols.omega,symbols.omega0)\n",
    "omega_hat_equation"
   ]
  },
  {
   "cell_type": "code",
   "execution_count": null,
   "metadata": {},
   "outputs": [],
   "source": [
    "omega0_equation = sp.Eq(symbols.omega0,sp.solve(omega_hat_equation,symbols.omega0)[0])\n",
    "omega0_equation"
   ]
  },
  {
   "cell_type": "code",
   "execution_count": null,
   "metadata": {},
   "outputs": [],
   "source": [
    "meta_data['omega_hat']"
   ]
  },
  {
   "cell_type": "code",
   "execution_count": null,
   "metadata": {},
   "outputs": [],
   "source": [
    "omega0_lambda = lambdify(sp.solve(omega0_equation,symbols.omega0)[0])"
   ]
  },
  {
   "cell_type": "code",
   "execution_count": null,
   "metadata": {},
   "outputs": [],
   "source": [
    "C_1A = equations.new_symbols[symbols.C_1]\n",
    "C_1A_equation = sp.Eq(C_1A,sp.solve(EstimatorQuadraticB.omgea0_equation,C_1A)[0])\n",
    "C_1A_equation"
   ]
  },
  {
   "cell_type": "code",
   "execution_count": null,
   "metadata": {},
   "outputs": [],
   "source": [
    "C_1A_lambda = lambdify(sp.solve(C_1A_equation,C_1A)[0])"
   ]
  },
  {
   "cell_type": "code",
   "execution_count": null,
   "metadata": {},
   "outputs": [],
   "source": [
    "B_1_equation= sp.Eq(symbols.B_1,sp.solve(equations.B_1_hat_equation,symbols.B_1)[0])\n",
    "B_1_equation"
   ]
  },
  {
   "cell_type": "code",
   "execution_count": null,
   "metadata": {},
   "outputs": [],
   "source": [
    "B_2_equation= sp.Eq(symbols.B_2,sp.solve(equations.B_2_hat_equation,symbols.B_2)[0])\n",
    "B_2_equation"
   ]
  },
  {
   "cell_type": "code",
   "execution_count": null,
   "metadata": {},
   "outputs": [],
   "source": [
    "B_1_lambda=lambdify(sp.solve(B_1_equation,symbols.B_1)[0])\n",
    "B_2_lambda=lambdify(sp.solve(B_2_equation,symbols.B_2)[0])"
   ]
  },
  {
   "cell_type": "code",
   "execution_count": null,
   "metadata": {},
   "outputs": [],
   "source": [
    "equations.normalize_equations[symbols.B_1]"
   ]
  },
  {
   "cell_type": "code",
   "execution_count": null,
   "metadata": {},
   "outputs": [],
   "source": [
    "B_1A = equations.new_symbols[symbols.B_1]\n",
    "B_1A_lambda = lambdify(sp.solve(equations.normalize_equations[symbols.B_1],B_1A)[0])\n",
    "\n",
    "B_2A = equations.new_symbols[symbols.B_2]\n",
    "B_2A_lambda = lambdify(sp.solve(equations.normalize_equations[symbols.B_2],B_2A)[0])"
   ]
  },
  {
   "cell_type": "code",
   "execution_count": null,
   "metadata": {},
   "outputs": [],
   "source": [
    "run_data = meta_data.copy()\n",
    "run_data['g']=9.81\n",
    "run_data['rho']=1000\n",
    "run_data['m']=run_data['Disp']*run_data['rho']\n",
    "run_data['omega0']=run(function=omega0_lambda, inputs=run_data)\n",
    "run_data['C_1A']=run(function=C_1A_lambda, inputs=run_data)\n",
    "run_data['A_44']=run(function=EstimatorQuadraticB.functions['A44'], inputs=run_data)\n",
    "run_data['B_1']=run(function=B_1_lambda, inputs=run_data)\n",
    "run_data['B_2']=run(function=B_2_lambda, inputs=run_data)\n",
    "run_data['B_1A']=run(function=B_1A_lambda, inputs=run_data)\n",
    "run_data['B_2A']=run(function=B_2A_lambda, inputs=run_data)\n"
   ]
  },
  {
   "cell_type": "code",
   "execution_count": null,
   "metadata": {},
   "outputs": [],
   "source": [
    "run_data['Disp']"
   ]
  },
  {
   "cell_type": "code",
   "execution_count": null,
   "metadata": {},
   "outputs": [],
   "source": [
    "direct_estimator = EstimatorQuadraticB.load(data=run_data, X=X)"
   ]
  },
  {
   "cell_type": "code",
   "execution_count": null,
   "metadata": {},
   "outputs": [],
   "source": [
    "direct_estimator.plot_fit()"
   ]
  },
  {
   "cell_type": "code",
   "execution_count": null,
   "metadata": {},
   "outputs": [],
   "source": [
    "run_data['omega0']"
   ]
  },
  {
   "cell_type": "code",
   "execution_count": null,
   "metadata": {},
   "outputs": [],
   "source": [
    "direct_estimator.omega0"
   ]
  },
  {
   "cell_type": "code",
   "execution_count": null,
   "metadata": {},
   "outputs": [],
   "source": [
    "direct_estimator.plot_error()"
   ]
  },
  {
   "cell_type": "code",
   "execution_count": null,
   "metadata": {},
   "outputs": [],
   "source": [
    "direct_estimator.score()"
   ]
  },
  {
   "cell_type": "markdown",
   "metadata": {},
   "source": [
    "### Cutting"
   ]
  },
  {
   "cell_type": "code",
   "execution_count": null,
   "metadata": {},
   "outputs": [],
   "source": [
    "direct_estimator = EstimatorQuadraticB.load(data=run_data, X=X.loc[0:400])"
   ]
  },
  {
   "cell_type": "code",
   "execution_count": null,
   "metadata": {},
   "outputs": [],
   "source": [
    "direct_estimator.plot_fit()"
   ]
  },
  {
   "cell_type": "code",
   "execution_count": null,
   "metadata": {},
   "outputs": [],
   "source": [
    "direct_estimator.plot_error()"
   ]
  },
  {
   "cell_type": "code",
   "execution_count": null,
   "metadata": {},
   "outputs": [],
   "source": [
    "direct_estimator.score()"
   ]
  },
  {
   "cell_type": "markdown",
   "metadata": {},
   "source": [
    "### Using \"real\" omega0"
   ]
  },
  {
   "cell_type": "code",
   "execution_count": null,
   "metadata": {},
   "outputs": [],
   "source": [
    "run_data['omega0']=meta_data_full_scale.omega0\n",
    "run_data['C_1A']=run(function=C_1A_lambda, inputs=run_data)\n",
    "run_data['A_44']=run(function=EstimatorQuadraticB.functions['A44'], inputs=run_data)\n",
    "run_data['B_1']=run(function=B_1_lambda, inputs=run_data)\n",
    "run_data['B_2']=run(function=B_2_lambda, inputs=run_data)\n",
    "run_data['B_1A']=run(function=B_1A_lambda, inputs=run_data)\n",
    "run_data['B_2A']=run(function=B_2A_lambda, inputs=run_data)"
   ]
  },
  {
   "cell_type": "code",
   "execution_count": null,
   "metadata": {},
   "outputs": [],
   "source": [
    "direct_estimator = EstimatorQuadraticB.load(data=run_data, X=X)"
   ]
  },
  {
   "cell_type": "code",
   "execution_count": null,
   "metadata": {},
   "outputs": [],
   "source": [
    "fig,ax=plt.subplots()\n",
    "direct_estimator.plot_fit(ax=ax)\n",
    "\n",
    "meta_data_ikeda = df_rolldecay_ikeda.loc[meta_data.name]\n",
    "meta_data_ikeda['omega0']=meta_data_full_scale.omega0\n",
    "ikeda_estimator = IkedaQuadraticEstimator.load(data=meta_data_ikeda, X=X)\n",
    "ikeda_estimator.plot_fit(ax=ax, model_test=False)"
   ]
  },
  {
   "cell_type": "code",
   "execution_count": null,
   "metadata": {},
   "outputs": [],
   "source": [
    "direct_estimator.score()"
   ]
  },
  {
   "cell_type": "code",
   "execution_count": null,
   "metadata": {},
   "outputs": [],
   "source": [
    "ikeda_estimator.score()"
   ]
  },
  {
   "cell_type": "markdown",
   "metadata": {},
   "source": [
    "## Do it for many..."
   ]
  },
  {
   "cell_type": "code",
   "execution_count": null,
   "metadata": {},
   "outputs": [],
   "source": [
    "def evaluate(meta_data):\n",
    "    \n",
    "    if not meta_data.name in df_rolldecay.index:\n",
    "        return\n",
    "    \n",
    "    meta_data_full_scale = df_rolldecay.loc[meta_data.name]\n",
    "    db_run = db.session.query(Run).get(int(meta_data.name))\n",
    "    df = database.load_run(db_run)\n",
    "    preprocessor.fit(df)\n",
    "    X = preprocessor.transform(df)\n",
    "    \n",
    "    direct_estimator = EstimatorQuadraticB.load(data=meta_data, X=X)\n",
    "    meta_data['Volume']=meta_data['Disp']\n",
    "    s=direct_estimator.result_for_database(meta_data=meta_data)\n",
    "    rolldecay_db=RolldecayQuadraticBRegression(run_id=db_run.id,**s)\n",
    "    db.session.merge(rolldecay_db)\n",
    "    db.session.commit()\n",
    "    \n",
    "    return direct_estimator.score(X=X)\n",
    "    "
   ]
  },
  {
   "cell_type": "code",
   "execution_count": null,
   "metadata": {},
   "outputs": [],
   "source": [
    "predict['omega0']=df_rolldecay.omega0\n",
    "predict['g']=9.81\n",
    "predict['rho']=1000\n",
    "predict['m']=predict['Disp']*predict['rho']\n",
    "predict['C_1A']=run(function=C_1A_lambda, inputs=predict)\n",
    "predict['A_44']=run(function=EstimatorQuadraticB.functions['A44'], inputs=predict)\n",
    "predict['B_1']=run(function=B_1_lambda, inputs=predict)\n",
    "predict['B_2']=run(function=B_2_lambda, inputs=predict)\n",
    "predict['B_1A']=run(function=B_1A_lambda, inputs=predict)\n",
    "predict['B_2A']=run(function=B_2A_lambda, inputs=predict)"
   ]
  },
  {
   "cell_type": "code",
   "execution_count": null,
   "metadata": {},
   "outputs": [],
   "source": [
    "predict['score'] = predict.apply(func=evaluate, axis=1)"
   ]
  },
  {
   "cell_type": "code",
   "execution_count": null,
   "metadata": {},
   "outputs": [],
   "source": [
    "predict['score'].hist(bins=40)"
   ]
  },
  {
   "cell_type": "code",
   "execution_count": null,
   "metadata": {},
   "outputs": [],
   "source": [
    "df_rolldecay['score'].hist(bins=40)"
   ]
  },
  {
   "cell_type": "markdown",
   "metadata": {},
   "source": [
    "## Faster way to calculate score"
   ]
  },
  {
   "cell_type": "code",
   "execution_count": null,
   "metadata": {},
   "outputs": [],
   "source": [
    "predict.head()"
   ]
  },
  {
   "cell_type": "code",
   "execution_count": null,
   "metadata": {},
   "outputs": [],
   "source": [
    "B_e_equation =sp.Eq(symbols.B_e,sp.solve(equations.B_e_equation, symbols.B_e)[0])\n",
    "B_e_equation"
   ]
  },
  {
   "cell_type": "code",
   "execution_count": null,
   "metadata": {},
   "outputs": [],
   "source": [
    "B_ep, B_1p, B_2p = sp.symbols('B_ep B_1p B_2p')\n",
    "\n",
    "B_ep_equation = B_e_equation.subs([\n",
    "    (symbols.B_e,B_ep),\n",
    "    (symbols.B_1, B_1p),\n",
    "    (symbols.B_2, B_2p),\n",
    "])\n",
    "B_ep_equation"
   ]
  },
  {
   "cell_type": "code",
   "execution_count": null,
   "metadata": {},
   "outputs": [],
   "source": [
    "Be_lambda = lambdify(sp.solve(B_e_equation,symbols.B_e)[0])"
   ]
  },
  {
   "cell_type": "code",
   "execution_count": null,
   "metadata": {},
   "outputs": [],
   "source": [
    "Be_lambda"
   ]
  },
  {
   "cell_type": "code",
   "execution_count": null,
   "metadata": {},
   "outputs": [],
   "source": [
    "predict['phi_a'] = np.rad2deg(df_rolldecay['phi_start'].abs())\n",
    "df_rolldecay['phi_a'] = np.rad2deg(df_rolldecay['phi_start'].abs())"
   ]
  },
  {
   "cell_type": "code",
   "execution_count": null,
   "metadata": {},
   "outputs": [],
   "source": [
    "predict['B_e']=run(function=Be_lambda, inputs=predict)"
   ]
  },
  {
   "cell_type": "code",
   "execution_count": null,
   "metadata": {},
   "outputs": [],
   "source": [
    "df_rolldecay['B_e']=run(function=Be_lambda, inputs=df_rolldecay)"
   ]
  },
  {
   "cell_type": "code",
   "execution_count": null,
   "metadata": {},
   "outputs": [],
   "source": [
    "epsilon,SSR,SST,R = sp.symbols('epsilon SSR SST R')\n",
    "phi_min, phi_max, = sp.symbols('phi_min phi_max')\n",
    "residual_equation = sp.Eq(epsilon, symbols.B_e-B_ep)\n",
    "residual_equation"
   ]
  },
  {
   "cell_type": "code",
   "execution_count": null,
   "metadata": {},
   "outputs": [],
   "source": [
    "SSR_equation = sp.Eq(SSR,sp.Integral(epsilon**2,(symbols.phi_a,phi_min,phi_max)))\n",
    "SSR_equation"
   ]
  },
  {
   "cell_type": "code",
   "execution_count": null,
   "metadata": {},
   "outputs": [],
   "source": [
    "SSR_equation = SSR_equation.subs(epsilon, sp.solve(residual_equation, epsilon)[0]).subs(\n",
    "    symbols.B_e,sp.solve(B_e_equation, symbols.B_e)[0]).subs(\n",
    "    B_ep,sp.solve(B_ep_equation, B_ep)[0])\n",
    "SSR_equation"
   ]
  },
  {
   "cell_type": "code",
   "execution_count": null,
   "metadata": {},
   "outputs": [],
   "source": [
    "SSR_equation2 = SSR_equation.doit()\n",
    "SSR_equation2"
   ]
  },
  {
   "cell_type": "code",
   "execution_count": null,
   "metadata": {},
   "outputs": [],
   "source": [
    "B_mean = sp.symbols('B_mean')\n",
    "\n",
    "B_mean_equation=sp.Eq(B_mean,\n",
    "      sp.Integral(sp.solve(B_e_equation, symbols.B_e)[0]**2,\n",
    "                  (symbols.phi_a,phi_min,phi_max)\n",
    "                 )/(phi_max-phi_min)\n",
    "     )\n",
    "B_mean_equation"
   ]
  },
  {
   "cell_type": "code",
   "execution_count": null,
   "metadata": {},
   "outputs": [],
   "source": [
    "B_mean_equation2 = B_mean_equation.doit()\n",
    "B_mean_equation2"
   ]
  },
  {
   "cell_type": "code",
   "execution_count": null,
   "metadata": {},
   "outputs": [],
   "source": [
    "SST_equation = sp.Eq(SST,sp.Integral((symbols.B_e-B_mean)**2,(symbols.phi_a,phi_min,phi_max)))\n",
    "SST_equation"
   ]
  },
  {
   "cell_type": "code",
   "execution_count": null,
   "metadata": {},
   "outputs": [],
   "source": [
    "SST_equation2 = SST_equation.subs([\n",
    "                                (B_mean, sp.solve(B_mean_equation2,B_mean)[0]),\n",
    "                                (symbols.B_e, sp.solve(B_e_equation,symbols.B_e)[0])\n",
    "                                  ]\n",
    "                                  ).doit()\n",
    "SST_equation2"
   ]
  },
  {
   "cell_type": "code",
   "execution_count": null,
   "metadata": {},
   "outputs": [],
   "source": [
    "r2_equation = sp.Eq(R**2, 1-SSR/SST)\n",
    "r2_equation"
   ]
  },
  {
   "cell_type": "code",
   "execution_count": null,
   "metadata": {},
   "outputs": [],
   "source": [
    "r2_equation2 = r2_equation.subs(\n",
    "    SSR,sp.solve(SSR_equation2,SSR)[0]).subs(\n",
    "    SST, sp.solve(SST_equation2,SST)[0])\n",
    "\n",
    "r2_equation2"
   ]
  },
  {
   "cell_type": "code",
   "execution_count": null,
   "metadata": {},
   "outputs": [],
   "source": [
    "r2_lambda = lambdify(r2_equation2.rhs)"
   ]
  },
  {
   "cell_type": "code",
   "execution_count": null,
   "metadata": {},
   "outputs": [],
   "source": [
    "r2_lambda"
   ]
  },
  {
   "cell_type": "code",
   "execution_count": null,
   "metadata": {},
   "outputs": [],
   "source": [
    "phi_min, phi_max, Be_tot = sp.symbols('phi_min phi_max B_e_tot')\n",
    "Be_integral = sp.Eq(Be_tot,sp.Integral(B_e_equation.rhs,(symbols.phi_a,phi_min,phi_max)))\n",
    "Be_integral"
   ]
  },
  {
   "cell_type": "code",
   "execution_count": null,
   "metadata": {},
   "outputs": [],
   "source": [
    "Be_tot_equation = sp.Eq(Be_tot,Be_integral.rhs.simplify())\n",
    "Be_tot_equation"
   ]
  },
  {
   "cell_type": "code",
   "execution_count": null,
   "metadata": {},
   "outputs": [],
   "source": [
    "Be_tot_lambda = lambdify(sp.solve(Be_tot_equation, Be_tot)[0])"
   ]
  },
  {
   "cell_type": "code",
   "execution_count": null,
   "metadata": {},
   "outputs": [],
   "source": [
    "predict['phi_min'] = 0\n",
    "predict['phi_max'] = predict['phi_a']\n",
    "predict['Be_tot'] = run(function=Be_tot_lambda, inputs=predict)\n",
    "\n",
    "df_rolldecay['phi_min'] = 0\n",
    "df_rolldecay['phi_max'] = df_rolldecay['phi_a']\n",
    "df_rolldecay['Be_tot'] = run(function=Be_tot_lambda, inputs=df_rolldecay)"
   ]
  },
  {
   "cell_type": "code",
   "execution_count": null,
   "metadata": {},
   "outputs": [],
   "source": [
    "mask = predict['score'] > 0.5\n",
    "predict_good = predict.loc[mask].copy()\n",
    "df_compare = pd.merge(left=predict_good, right=df_rolldecay, how='left', left_index=True, right_index=True,\n",
    "                      suffixes=('_regression','_model_test'))\n",
    "\n",
    "Be_tot_true = df_compare['Be_tot_model_test']\n",
    "Be_tot_predicted = df_compare['Be_tot_regression']\n",
    "\n",
    "df_compare['B_1'] = df_compare['B_1_model_test']\n",
    "df_compare['B_2'] = df_compare['B_2_model_test']\n",
    "df_compare['B_1p'] = df_compare['B_1_regression']\n",
    "df_compare['B_2p'] = df_compare['B_2_regression']\n",
    "df_compare['omega0'] = df_compare['omega0_model_test']\n",
    "df_compare['phi_max'] = df_compare['phi_max_model_test']\n",
    "df_compare['phi_min'] = df_compare['phi_min_model_test']\n",
    "\n",
    "df_compare['score_simple'] = run(function=r2_lambda, inputs=df_compare)\n",
    "mask=df_compare['score_simple']>0.7\n",
    "df_compare=df_compare.loc[mask].copy()\n",
    "\n",
    "fig,ax=plt.subplots()\n",
    "df_compare.plot(x='B_e_model_test', y='B_e_regression', ax=ax, style='.')\n",
    "\n",
    "fig,ax=plt.subplots()\n",
    "df_compare.plot(x='score_regression', y='score_simple', ax=ax, style='.')"
   ]
  },
  {
   "cell_type": "code",
   "execution_count": null,
   "metadata": {},
   "outputs": [],
   "source": [
    "fig,ax=plt.subplots()\n",
    "df_compare.plot(x='Be_tot_model_test', y='Be_tot_regression', ax=ax, style='.')\n",
    "\n",
    "fig,ax=plt.subplots()\n",
    "df_compare.plot(x='Be_tot_regression', y='score_regression', ax=ax, style='.')"
   ]
  },
  {
   "cell_type": "code",
   "execution_count": null,
   "metadata": {},
   "outputs": [],
   "source": [
    "def evaluate_plot(meta_data):\n",
    "    \n",
    "    if not meta_data.name in df_rolldecay.index:\n",
    "        return\n",
    "    \n",
    "    meta_data_full_scale = df_rolldecay.loc[meta_data.name]\n",
    "    db_run = db.session.query(Run).get(int(meta_data.name))\n",
    "    df = database.load_run(db_run)\n",
    "   \n",
    "    preprocessor.fit(df)\n",
    "    X = preprocessor.transform(df)\n",
    "    \n",
    "    direct_estimator = EstimatorQuadraticB.load(data=meta_data, X=X)\n",
    "    fig,ax=plt.subplots()\n",
    "    direct_estimator.plot_fit(ax=ax)\n",
    "    ax.set_title('Score:%0.2f' % direct_estimator.score(X=X))\n",
    "    \n",
    "    if meta_data.name in df_rolldecay_ikeda.index:\n",
    "        meta_data_ikeda = df_rolldecay_ikeda.loc[meta_data.name]\n",
    "        meta_data_ikeda['omega0']=meta_data_full_scale.omega0\n",
    "        ikeda_estimator = IkedaQuadraticEstimator.load(data=meta_data_ikeda, X=X)\n",
    "        ikeda_estimator.plot_fit(ax=ax, model_test=False)\n",
    "    "
   ]
  },
  {
   "cell_type": "code",
   "execution_count": null,
   "metadata": {},
   "outputs": [],
   "source": [
    "for run_id,meta_data in predict.iloc[0:50].iterrows():\n",
    "    evaluate_plot(meta_data)\n",
    "    gc.collect()\n",
    "    "
   ]
  },
  {
   "cell_type": "code",
   "execution_count": null,
   "metadata": {},
   "outputs": [],
   "source": []
  },
  {
   "cell_type": "code",
   "execution_count": null,
   "metadata": {},
   "outputs": [],
   "source": []
  },
  {
   "cell_type": "code",
   "execution_count": null,
   "metadata": {},
   "outputs": [],
   "source": []
  }
 ],
 "metadata": {
  "kernelspec": {
   "display_name": "Python 3",
   "language": "python",
   "name": "python3"
  },
  "language_info": {
   "codemirror_mode": {
    "name": "ipython",
    "version": 3
   },
   "file_extension": ".py",
   "mimetype": "text/x-python",
   "name": "python",
   "nbconvert_exporter": "python",
   "pygments_lexer": "ipython3",
   "version": "3.5.4"
  },
  "pycharm": {
   "stem_cell": {
    "cell_type": "raw",
    "metadata": {
     "collapsed": false
    },
    "source": []
   }
  }
 },
 "nbformat": 4,
 "nbformat_minor": 4
}
