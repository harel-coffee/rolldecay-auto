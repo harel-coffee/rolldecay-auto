{
 "cells": [
  {
   "cell_type": "markdown",
   "metadata": {},
   "source": [
    "# Regression simulation"
   ]
  },
  {
   "cell_type": "code",
   "execution_count": null,
   "metadata": {},
   "outputs": [],
   "source": [
    "import warnings\n",
    "warnings.filterwarnings(\"ignore\")"
   ]
  },
  {
   "cell_type": "code",
   "execution_count": null,
   "metadata": {},
   "outputs": [],
   "source": [
    "%matplotlib inline\n",
    "%load_ext autoreload\n",
    "%autoreload 2"
   ]
  },
  {
   "cell_type": "code",
   "execution_count": null,
   "metadata": {},
   "outputs": [],
   "source": [
    "from jupyterthemes import jtplot\n",
    "jtplot.style(theme='onedork', context='notebook', ticks=True, grid=False)"
   ]
  },
  {
   "cell_type": "code",
   "execution_count": null,
   "metadata": {
    "pycharm": {
     "is_executing": false
    }
   },
   "outputs": [],
   "source": [
    "import pandas as pd\n",
    "pd.options.display.max_rows = 999\n",
    "pd.options.display.max_columns = 999\n",
    "pd.set_option(\"display.max_columns\", None)\n",
    "import numpy as np\n",
    "import os\n",
    "import matplotlib.pyplot as plt\n",
    "from pylab import rcParams\n",
    "rcParams['figure.figsize'] = 15, 5\n",
    "\n",
    "import data\n",
    "import copy\n",
    "from rolldecay.bis_system import BisSystem\n",
    "\n",
    "from rolldecay import database\n",
    "from mdldb.tables import Run\n",
    "from rolldecayestimators.direct_estimator_cubic import EstimatorQuadraticB\n",
    "from rolldecayestimators.ikeda_estimator import IkedaQuadraticEstimator\n",
    "from rolldecayestimators import symbols, equations\n",
    "from rolldecayestimators.substitute_dynamic_symbols import lambdify\n",
    "from rolldecayestimators.transformers import CutTransformer, LowpassFilterDerivatorTransformer, ScaleFactorTransformer, OffsetTransformer\n",
    "\n",
    "\n",
    "import sympy as sp\n",
    "\n",
    "from sklearn.pipeline import Pipeline\n",
    "from sklearn.model_selection import cross_val_score\n",
    "from sklearn.model_selection import train_test_split\n",
    "from sklearn.preprocessing import StandardScaler\n",
    "from sklearn.feature_selection import VarianceThreshold\n",
    "from sklearn.ensemble import ExtraTreesClassifier\n",
    "from sklearn.feature_selection import SelectKBest\n",
    "from sklearn.feature_selection import chi2\n",
    "from sklearn.feature_selection import f_regression\n",
    "\n",
    "from sklearn.linear_model import LinearRegression\n",
    "from sklearn.model_selection import cross_validate\n",
    "from sklearn.preprocessing import PolynomialFeatures\n",
    "from sklearn.pipeline import Pipeline\n",
    "from sklearn.pipeline import make_pipeline\n",
    "\n",
    "import signal_lab\n",
    "from sqlalchemy.inspection import inspect\n",
    "import seaborn as sns\n",
    "import docs\n",
    "import pickle\n",
    "import gc\n",
    "import dill\n",
    "from rolldecayestimators.substitute_dynamic_symbols import lambdify,run\n",
    "from rolldecayestimators.polynom_estimator import Polynom"
   ]
  },
  {
   "cell_type": "markdown",
   "metadata": {},
   "source": [
    "## omega0"
   ]
  },
  {
   "cell_type": "code",
   "execution_count": null,
   "metadata": {},
   "outputs": [],
   "source": [
    "omega_hat_polynom = Polynom.load('omega0_hat_polynom.sym')\n",
    "\n",
    "data = pd.read_pickle('data.sav')\n",
    "data['omega_hat'] = omega_hat_polynom.predict(data)\n",
    "y_s = pd.read_pickle('y.sav')"
   ]
  },
  {
   "cell_type": "markdown",
   "metadata": {},
   "source": [
    "## $\\hat{B_1}$"
   ]
  },
  {
   "cell_type": "code",
   "execution_count": null,
   "metadata": {},
   "outputs": [],
   "source": [
    "filename = 'B_1_hat_model.sav'\n",
    "B_1_hat_model = pickle.load(open(filename, 'rb'))"
   ]
  },
  {
   "cell_type": "code",
   "execution_count": null,
   "metadata": {},
   "outputs": [],
   "source": [
    "y = y_s['B_1_hat']\n",
    "#X=data[zeta_model.keys].copy()  # Handle categorical data later\n",
    "#zeta_model.score(X=X,y=y)"
   ]
  },
  {
   "cell_type": "code",
   "execution_count": null,
   "metadata": {},
   "outputs": [],
   "source": [
    "B_1_hat_polynom = Polynom.load('B_1_hat_polynom.sym')\n",
    "B_1_hat_polynom.score(X=data,y=y)"
   ]
  },
  {
   "cell_type": "markdown",
   "metadata": {},
   "source": [
    "## $\\hat{B_2}$"
   ]
  },
  {
   "cell_type": "code",
   "execution_count": null,
   "metadata": {},
   "outputs": [],
   "source": [
    "filename = 'B_2_hat_model.sav'\n",
    "B_2_hat_model = pickle.load(open(filename, 'rb'))"
   ]
  },
  {
   "cell_type": "code",
   "execution_count": null,
   "metadata": {},
   "outputs": [],
   "source": [
    "B_2_hat_polynom = Polynom.load('B_2_hat_polynom.sym')\n",
    "B_2_hat_polynom.score(X=data,y=y)"
   ]
  },
  {
   "cell_type": "markdown",
   "metadata": {},
   "source": [
    "## Predict parameters"
   ]
  },
  {
   "cell_type": "code",
   "execution_count": null,
   "metadata": {},
   "outputs": [],
   "source": [
    "predict = data.copy()\n",
    "#predict['omega_hat'] = omega0_hat_model.predict(data[omega0_hat_model.keys])\n",
    "predict['omega_hat'] = omega_hat_polynom.predict(data)\n",
    "\n",
    "#predict['zeta'] = zeta_model.predict(data[zeta_model.keys])\n",
    "predict['B_1_hat'] = B_1_hat_polynom.predict(data)\n",
    "\n",
    "#predict['d'] = d_model.predict(data[d_model.keys])\n",
    "predict['B_2_hat'] = B_2_hat_polynom.predict(data)\n"
   ]
  },
  {
   "cell_type": "markdown",
   "metadata": {},
   "source": [
    "## Simulate"
   ]
  },
  {
   "cell_type": "code",
   "execution_count": null,
   "metadata": {},
   "outputs": [],
   "source": [
    "df_rolldecay = database.load(rolldecay_table_name='rolldecay_quadratic_b', limit_score=0.90)\n",
    "db = database.get_db()"
   ]
  },
  {
   "cell_type": "code",
   "execution_count": null,
   "metadata": {},
   "outputs": [],
   "source": [
    "df_rolldecay_ikeda = database.load(rolldecay_table_name='rolldecay_simplified_ikeda', limit_score=0.0)"
   ]
  },
  {
   "cell_type": "code",
   "execution_count": null,
   "metadata": {},
   "outputs": [],
   "source": [
    "predict.head()"
   ]
  },
  {
   "cell_type": "code",
   "execution_count": null,
   "metadata": {},
   "outputs": [],
   "source": [
    "meta_data = predict.iloc[0]"
   ]
  },
  {
   "cell_type": "code",
   "execution_count": null,
   "metadata": {},
   "outputs": [],
   "source": [
    "meta_data_full_scale = df_rolldecay.loc[meta_data.name]"
   ]
  },
  {
   "cell_type": "code",
   "execution_count": null,
   "metadata": {},
   "outputs": [],
   "source": [
    "db_run = db.session.query(Run).get(int(meta_data.name))\n",
    "df = database.load_run(db_run)"
   ]
  },
  {
   "cell_type": "code",
   "execution_count": null,
   "metadata": {},
   "outputs": [],
   "source": [
    "df.plot(y='phi')"
   ]
  },
  {
   "cell_type": "code",
   "execution_count": null,
   "metadata": {},
   "outputs": [],
   "source": [
    "lowpass_filter = LowpassFilterDerivatorTransformer(cutoff=2, minimum_score=0.99)\n",
    "#scaler = ScaleFactorTransformer(scale_factor=db_run.model.scale_factor)  # dummy value None for now\n",
    "cutter = CutTransformer(phi_max=np.deg2rad(9), phi_min=np.deg2rad(0.25), phi1d_start_tolerance=0.015)\n",
    "offset_transformer = OffsetTransformer()\n",
    "\n",
    "steps = [\n",
    "    ('filter',lowpass_filter),\n",
    "#    ('scaler',scaler),  # Is froude scaling a good idea??\n",
    "    ('cutter', cutter), \n",
    "    ('offset_transformer',offset_transformer)\n",
    "]\n",
    "        \n",
    "preprocessor = Pipeline(steps) # define the pipeline object.\n",
    "preprocessor.fit(df)\n",
    "X = preprocessor.transform(df)"
   ]
  },
  {
   "cell_type": "code",
   "execution_count": null,
   "metadata": {},
   "outputs": [],
   "source": [
    "X.plot(y='phi')"
   ]
  },
  {
   "cell_type": "code",
   "execution_count": null,
   "metadata": {},
   "outputs": [],
   "source": [
    "omega_hat_equation = equations.omega_hat_equation.subs(symbols.omega,symbols.omega0)\n",
    "omega_hat_equation"
   ]
  },
  {
   "cell_type": "code",
   "execution_count": null,
   "metadata": {},
   "outputs": [],
   "source": [
    "omega0_equation = sp.Eq(symbols.omega0,sp.solve(omega_hat_equation,symbols.omega0)[0])\n",
    "omega0_equation"
   ]
  },
  {
   "cell_type": "code",
   "execution_count": null,
   "metadata": {},
   "outputs": [],
   "source": [
    "meta_data['omega_hat']"
   ]
  },
  {
   "cell_type": "code",
   "execution_count": null,
   "metadata": {},
   "outputs": [],
   "source": [
    "omega0_lambda = lambdify(sp.solve(omega0_equation,symbols.omega0)[0])"
   ]
  },
  {
   "cell_type": "code",
   "execution_count": null,
   "metadata": {},
   "outputs": [],
   "source": [
    "C_1A = equations.new_symbols[symbols.C_1]\n",
    "C_1A_equation = sp.Eq(C_1A,sp.solve(EstimatorQuadraticB.omgea0_equation,C_1A)[0])\n",
    "C_1A_equation"
   ]
  },
  {
   "cell_type": "code",
   "execution_count": null,
   "metadata": {},
   "outputs": [],
   "source": [
    "C_1A_lambda = lambdify(sp.solve(C_1A_equation,C_1A)[0])"
   ]
  },
  {
   "cell_type": "code",
   "execution_count": null,
   "metadata": {},
   "outputs": [],
   "source": [
    "B_1_equation= sp.Eq(symbols.B_1,sp.solve(equations.B_1_hat_equation,symbols.B_1)[0])\n",
    "B_1_equation"
   ]
  },
  {
   "cell_type": "code",
   "execution_count": null,
   "metadata": {},
   "outputs": [],
   "source": [
    "B_2_equation= sp.Eq(symbols.B_2,sp.solve(equations.B_2_hat_equation,symbols.B_2)[0])\n",
    "B_2_equation"
   ]
  },
  {
   "cell_type": "code",
   "execution_count": null,
   "metadata": {},
   "outputs": [],
   "source": [
    "B_1_lambda=lambdify(sp.solve(B_1_equation,symbols.B_1)[0])\n",
    "B_2_lambda=lambdify(sp.solve(B_2_equation,symbols.B_2)[0])"
   ]
  },
  {
   "cell_type": "code",
   "execution_count": null,
   "metadata": {},
   "outputs": [],
   "source": [
    "equations.normalize_equations[symbols.B_1]"
   ]
  },
  {
   "cell_type": "code",
   "execution_count": null,
   "metadata": {},
   "outputs": [],
   "source": [
    "B_1A = equations.new_symbols[symbols.B_1]\n",
    "B_1A_lambda = lambdify(sp.solve(equations.normalize_equations[symbols.B_1],B_1A)[0])\n",
    "\n",
    "B_2A = equations.new_symbols[symbols.B_2]\n",
    "B_2A_lambda = lambdify(sp.solve(equations.normalize_equations[symbols.B_2],B_2A)[0])"
   ]
  },
  {
   "cell_type": "code",
   "execution_count": null,
   "metadata": {},
   "outputs": [],
   "source": [
    "run_data = meta_data.copy()\n",
    "run_data['g']=9.81\n",
    "run_data['rho']=1000\n",
    "run_data['m']=run_data['Disp']*run_data['rho']\n",
    "run_data['omega0']=run(function=omega0_lambda, inputs=run_data)\n",
    "run_data['C_1A']=run(function=C_1A_lambda, inputs=run_data)\n",
    "run_data['A_44']=run(function=EstimatorQuadraticB.functions['A44'], inputs=run_data)\n",
    "run_data['B_1']=run(function=B_1_lambda, inputs=run_data)\n",
    "run_data['B_2']=run(function=B_2_lambda, inputs=run_data)\n",
    "run_data['B_1A']=run(function=B_1A_lambda, inputs=run_data)\n",
    "run_data['B_2A']=run(function=B_2A_lambda, inputs=run_data)\n"
   ]
  },
  {
   "cell_type": "code",
   "execution_count": null,
   "metadata": {},
   "outputs": [],
   "source": [
    "run_data['Disp']"
   ]
  },
  {
   "cell_type": "code",
   "execution_count": null,
   "metadata": {},
   "outputs": [],
   "source": [
    "direct_estimator = EstimatorQuadraticB.load(data=run_data, X=X)"
   ]
  },
  {
   "cell_type": "code",
   "execution_count": null,
   "metadata": {},
   "outputs": [],
   "source": [
    "direct_estimator.plot_fit()"
   ]
  },
  {
   "cell_type": "code",
   "execution_count": null,
   "metadata": {},
   "outputs": [],
   "source": [
    "run_data['omega0']"
   ]
  },
  {
   "cell_type": "code",
   "execution_count": null,
   "metadata": {},
   "outputs": [],
   "source": [
    "direct_estimator.omega0"
   ]
  },
  {
   "cell_type": "code",
   "execution_count": null,
   "metadata": {},
   "outputs": [],
   "source": [
    "direct_estimator.plot_error()"
   ]
  },
  {
   "cell_type": "code",
   "execution_count": null,
   "metadata": {},
   "outputs": [],
   "source": [
    "direct_estimator.score()"
   ]
  },
  {
   "cell_type": "markdown",
   "metadata": {},
   "source": [
    "### Cutting"
   ]
  },
  {
   "cell_type": "code",
   "execution_count": null,
   "metadata": {},
   "outputs": [],
   "source": [
    "direct_estimator = EstimatorQuadraticB.load(data=run_data, X=X.loc[0:400])"
   ]
  },
  {
   "cell_type": "code",
   "execution_count": null,
   "metadata": {},
   "outputs": [],
   "source": [
    "direct_estimator.plot_fit()"
   ]
  },
  {
   "cell_type": "code",
   "execution_count": null,
   "metadata": {},
   "outputs": [],
   "source": [
    "direct_estimator.plot_error()"
   ]
  },
  {
   "cell_type": "code",
   "execution_count": null,
   "metadata": {},
   "outputs": [],
   "source": [
    "direct_estimator.score()"
   ]
  },
  {
   "cell_type": "markdown",
   "metadata": {},
   "source": [
    "### Using \"real\" omega0"
   ]
  },
  {
   "cell_type": "code",
   "execution_count": null,
   "metadata": {},
   "outputs": [],
   "source": [
    "run_data['omega0']=meta_data_full_scale.omega0\n",
    "run_data['C_1A']=run(function=C_1A_lambda, inputs=run_data)\n",
    "run_data['A_44']=run(function=EstimatorQuadraticB.functions['A44'], inputs=run_data)\n",
    "run_data['B_1']=run(function=B_1_lambda, inputs=run_data)\n",
    "run_data['B_2']=run(function=B_2_lambda, inputs=run_data)\n",
    "run_data['B_1A']=run(function=B_1A_lambda, inputs=run_data)\n",
    "run_data['B_2A']=run(function=B_2A_lambda, inputs=run_data)"
   ]
  },
  {
   "cell_type": "code",
   "execution_count": null,
   "metadata": {},
   "outputs": [],
   "source": [
    "direct_estimator = EstimatorQuadraticB.load(data=run_data, X=X)"
   ]
  },
  {
   "cell_type": "code",
   "execution_count": null,
   "metadata": {},
   "outputs": [],
   "source": [
    "fig,ax=plt.subplots()\n",
    "direct_estimator.plot_fit(ax=ax)\n",
    "\n",
    "meta_data_ikeda = df_rolldecay_ikeda.loc[meta_data.name]\n",
    "meta_data_ikeda['omega0']=meta_data_full_scale.omega0\n",
    "ikeda_estimator = IkedaQuadraticEstimator.load(data=meta_data_ikeda, X=X)\n",
    "ikeda_estimator.plot_fit(ax=ax, model_test=False)"
   ]
  },
  {
   "cell_type": "code",
   "execution_count": null,
   "metadata": {},
   "outputs": [],
   "source": [
    "direct_estimator.score()"
   ]
  },
  {
   "cell_type": "code",
   "execution_count": null,
   "metadata": {},
   "outputs": [],
   "source": [
    "ikeda_estimator.score()"
   ]
  },
  {
   "cell_type": "markdown",
   "metadata": {},
   "source": [
    "## Do it for many..."
   ]
  },
  {
   "cell_type": "code",
   "execution_count": null,
   "metadata": {},
   "outputs": [],
   "source": [
    "def evaluate(meta_data):\n",
    "    \n",
    "    if not meta_data.name in df_rolldecay.index:\n",
    "        return\n",
    "    \n",
    "    meta_data_full_scale = df_rolldecay.loc[meta_data.name]\n",
    "    db_run = db.session.query(Run).get(int(meta_data.name))\n",
    "    df = database.load_run(db_run)\n",
    "    \n",
    "    run_data = meta_data.copy()\n",
    "    run_data['omega0']=meta_data_full_scale.omega0\n",
    "    run_data['g']=9.81\n",
    "    run_data['rho']=1000\n",
    "    run_data['m']=run_data['Disp']*run_data['rho']\n",
    "    run_data['C_1A']=run(function=C_1A_lambda, inputs=run_data)\n",
    "    run_data['A_44']=run(function=EstimatorQuadraticB.functions['A44'], inputs=run_data)\n",
    "    run_data['B_1']=run(function=B_1_lambda, inputs=run_data)\n",
    "    run_data['B_2']=run(function=B_2_lambda, inputs=run_data)\n",
    "    run_data['B_1A']=run(function=B_1A_lambda, inputs=run_data)\n",
    "    run_data['B_2A']=run(function=B_2A_lambda, inputs=run_data)\n",
    "    \n",
    "    #preprocessor['scaler'].scale_factor=db_run.model.scale_factor\n",
    "    preprocessor.fit(df)\n",
    "    X = preprocessor.transform(df)\n",
    "    \n",
    "    direct_estimator = EstimatorQuadraticB.load(data=run_data, X=X)\n",
    "    fig,ax=plt.subplots()\n",
    "    direct_estimator.plot_fit(ax=ax)\n",
    "    \n",
    "    if meta_data.name in df_rolldecay_ikeda.index:\n",
    "        meta_data_ikeda = df_rolldecay_ikeda.loc[meta_data.name]\n",
    "        meta_data_ikeda['omega0']=meta_data_full_scale.omega0\n",
    "        ikeda_estimator = IkedaQuadraticEstimator.load(data=meta_data_ikeda, X=X)\n",
    "        ikeda_estimator.plot_fit(ax=ax, model_test=False)\n",
    "    "
   ]
  },
  {
   "cell_type": "code",
   "execution_count": null,
   "metadata": {},
   "outputs": [],
   "source": [
    "for run_id,meta_data in predict.iloc[0:50].iterrows():\n",
    "    evaluate(meta_data)\n",
    "    gc.collect()\n",
    "    "
   ]
  },
  {
   "cell_type": "code",
   "execution_count": null,
   "metadata": {},
   "outputs": [],
   "source": []
  }
 ],
 "metadata": {
  "kernelspec": {
   "display_name": "Python 3",
   "language": "python",
   "name": "python3"
  },
  "language_info": {
   "codemirror_mode": {
    "name": "ipython",
    "version": 3
   },
   "file_extension": ".py",
   "mimetype": "text/x-python",
   "name": "python",
   "nbconvert_exporter": "python",
   "pygments_lexer": "ipython3",
   "version": "3.5.4"
  },
  "pycharm": {
   "stem_cell": {
    "cell_type": "raw",
    "metadata": {
     "collapsed": false
    },
    "source": []
   }
  }
 },
 "nbformat": 4,
 "nbformat_minor": 4
}
