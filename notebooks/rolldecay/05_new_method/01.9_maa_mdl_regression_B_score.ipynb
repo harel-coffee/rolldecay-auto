{
 "cells": [
  {
   "cell_type": "markdown",
   "metadata": {},
   "source": [
    "# Regression B score..."
   ]
  },
  {
   "cell_type": "code",
   "execution_count": null,
   "metadata": {},
   "outputs": [],
   "source": [
    "import warnings\n",
    "warnings.filterwarnings(\"ignore\")"
   ]
  },
  {
   "cell_type": "code",
   "execution_count": null,
   "metadata": {},
   "outputs": [],
   "source": [
    "%matplotlib inline\n",
    "%load_ext autoreload\n",
    "%autoreload 2"
   ]
  },
  {
   "cell_type": "code",
   "execution_count": null,
   "metadata": {},
   "outputs": [],
   "source": [
    "from jupyterthemes import jtplot\n",
    "jtplot.style(theme='onedork', context='notebook', ticks=True, grid=False)"
   ]
  },
  {
   "cell_type": "code",
   "execution_count": null,
   "metadata": {
    "pycharm": {
     "is_executing": false
    }
   },
   "outputs": [],
   "source": [
    "import pandas as pd\n",
    "pd.options.display.max_rows = 999\n",
    "pd.options.display.max_columns = 999\n",
    "pd.set_option(\"display.max_columns\", None)\n",
    "import numpy as np\n",
    "import os\n",
    "import matplotlib.pyplot as plt\n",
    "from pylab import rcParams\n",
    "rcParams['figure.figsize'] = 15, 5\n",
    "\n",
    "import data\n",
    "import copy\n",
    "from rolldecay.bis_system import BisSystem\n",
    "\n",
    "from rolldecay import database\n",
    "from mdldb.tables import Run\n",
    "from rolldecayestimators.direct_estimator import DirectEstimator\n",
    "from rolldecayestimators.ikeda_estimator import IkedaQuadraticEstimator\n",
    "from rolldecayestimators import symbols, equations\n",
    "from rolldecayestimators.substitute_dynamic_symbols import lambdify\n",
    "from rolldecayestimators.transformers import CutTransformer, LowpassFilterDerivatorTransformer, ScaleFactorTransformer, OffsetTransformer\n",
    "\n",
    "\n",
    "import sympy as sp\n",
    "\n",
    "from sklearn.pipeline import Pipeline\n",
    "from sklearn.model_selection import cross_val_score\n",
    "from sklearn.model_selection import train_test_split\n",
    "from sklearn.preprocessing import StandardScaler\n",
    "from sklearn.feature_selection import VarianceThreshold\n",
    "from sklearn.ensemble import ExtraTreesClassifier\n",
    "from sklearn.feature_selection import SelectKBest\n",
    "from sklearn.feature_selection import chi2\n",
    "from sklearn.feature_selection import f_regression\n",
    "\n",
    "from sklearn.linear_model import LinearRegression\n",
    "from sklearn.model_selection import cross_validate\n",
    "from sklearn.preprocessing import PolynomialFeatures\n",
    "from sklearn.pipeline import Pipeline\n",
    "from sklearn.pipeline import make_pipeline\n",
    "from sklearn.metrics import r2_score\n",
    "\n",
    "import signal_lab\n",
    "from sqlalchemy.inspection import inspect\n",
    "import seaborn as sns\n",
    "import docs\n",
    "import pickle\n",
    "import gc\n",
    "import dill\n",
    "from rolldecayestimators.substitute_dynamic_symbols import lambdify\n",
    "from rolldecayestimators.polynom_estimator import Polynom\n",
    "from scipy.integrate import trapz"
   ]
  },
  {
   "cell_type": "markdown",
   "metadata": {},
   "source": [
    "## omega0"
   ]
  },
  {
   "cell_type": "code",
   "execution_count": null,
   "metadata": {},
   "outputs": [],
   "source": [
    "filename = 'omega0_hat_model.sav'\n",
    "omega0_hat_model = pickle.load(open(filename, 'rb'))\n",
    "data = pd.read_pickle('data.sav')\n",
    "y_s = pd.read_pickle('y.sav')"
   ]
  },
  {
   "cell_type": "code",
   "execution_count": null,
   "metadata": {},
   "outputs": [],
   "source": [
    "y = y_s['omega0_hat']\n",
    "X=data[omega0_hat_model.keys]\n",
    "omega0_hat_model.score(X=X,y=y)"
   ]
  },
  {
   "cell_type": "code",
   "execution_count": null,
   "metadata": {},
   "outputs": [],
   "source": [
    "omega_hat_regression_polynom = Polynom.load('omega0_hat_polynom.sym')\n",
    "omega_hat_regression_polynom.score(X=X,y=y)"
   ]
  },
  {
   "cell_type": "markdown",
   "metadata": {},
   "source": [
    "## zeta"
   ]
  },
  {
   "cell_type": "code",
   "execution_count": null,
   "metadata": {},
   "outputs": [],
   "source": [
    "filename = 'zeta_model.sav'\n",
    "zeta_model = pickle.load(open(filename, 'rb'))"
   ]
  },
  {
   "cell_type": "code",
   "execution_count": null,
   "metadata": {},
   "outputs": [],
   "source": [
    "y = y_s['zeta']\n",
    "#X=data[zeta_model.keys].copy()  # Handle categorical data later\n",
    "#zeta_model.score(X=X,y=y)"
   ]
  },
  {
   "cell_type": "code",
   "execution_count": null,
   "metadata": {},
   "outputs": [],
   "source": [
    "zeta_regression_polynom = Polynom.load('zeta_polynom.sym')\n",
    "zeta_regression_polynom.score(X=data,y=y)"
   ]
  },
  {
   "cell_type": "markdown",
   "metadata": {},
   "source": [
    "## d"
   ]
  },
  {
   "cell_type": "code",
   "execution_count": null,
   "metadata": {},
   "outputs": [],
   "source": [
    "filename = 'd_model.sav'\n",
    "d_model = pickle.load(open(filename, 'rb'))"
   ]
  },
  {
   "cell_type": "code",
   "execution_count": null,
   "metadata": {},
   "outputs": [],
   "source": [
    "X=data[d_model.keys].copy()  # Handle categorical data later"
   ]
  },
  {
   "cell_type": "code",
   "execution_count": null,
   "metadata": {},
   "outputs": [],
   "source": [
    "y = y_s['d']\n",
    "d_model.score(X=X,y=y)"
   ]
  },
  {
   "cell_type": "code",
   "execution_count": null,
   "metadata": {},
   "outputs": [],
   "source": [
    "d_regression_polynom = Polynom.load('d_polynom.sym')\n",
    "d_regression_polynom.score(X=data,y=y)"
   ]
  },
  {
   "cell_type": "code",
   "execution_count": null,
   "metadata": {},
   "outputs": [],
   "source": [
    "X.shape"
   ]
  },
  {
   "cell_type": "markdown",
   "metadata": {},
   "source": [
    "## Predict parameters"
   ]
  },
  {
   "cell_type": "code",
   "execution_count": null,
   "metadata": {},
   "outputs": [],
   "source": [
    "predict = data.copy()\n",
    "#predict['omega_hat'] = omega0_hat_model.predict(data[omega0_hat_model.keys])\n",
    "predict['omega_hat'] = omega_hat_regression_polynom.predict(data)\n",
    "\n",
    "#predict['zeta'] = zeta_model.predict(data[zeta_model.keys])\n",
    "predict['zeta'] = zeta_regression_polynom.predict(data)\n",
    "\n",
    "#predict['d'] = d_model.predict(data[d_model.keys])\n",
    "predict['d'] = d_regression_polynom.predict(data)\n"
   ]
  },
  {
   "cell_type": "markdown",
   "metadata": {},
   "source": [
    "## Simulate"
   ]
  },
  {
   "cell_type": "code",
   "execution_count": null,
   "metadata": {},
   "outputs": [],
   "source": [
    "df_rolldecay = database.load(rolldecay_table_name='rolldecay_direct', limit_score=0.90)\n",
    "db = database.get_db()"
   ]
  },
  {
   "cell_type": "code",
   "execution_count": null,
   "metadata": {},
   "outputs": [],
   "source": [
    "df_rolldecay_ikeda = database.load(rolldecay_table_name='rolldecay_simplified_ikeda', limit_score=0.0)"
   ]
  },
  {
   "cell_type": "code",
   "execution_count": null,
   "metadata": {},
   "outputs": [],
   "source": [
    "predict.head()"
   ]
  },
  {
   "cell_type": "code",
   "execution_count": null,
   "metadata": {},
   "outputs": [],
   "source": [
    "run = predict.iloc[0]"
   ]
  },
  {
   "cell_type": "code",
   "execution_count": null,
   "metadata": {},
   "outputs": [],
   "source": [
    "meta_data_full_scale = df_rolldecay.loc[run.name]"
   ]
  },
  {
   "cell_type": "code",
   "execution_count": null,
   "metadata": {},
   "outputs": [],
   "source": [
    "db_run = db.session.query(Run).get(int(run.name))\n",
    "df = database.load_run(db_run)"
   ]
  },
  {
   "cell_type": "code",
   "execution_count": null,
   "metadata": {},
   "outputs": [],
   "source": [
    "df.plot(y='phi')"
   ]
  },
  {
   "cell_type": "code",
   "execution_count": null,
   "metadata": {},
   "outputs": [],
   "source": [
    "lowpass_filter = LowpassFilterDerivatorTransformer(cutoff=2, minimum_score=0.99)\n",
    "scaler = ScaleFactorTransformer(scale_factor=db_run.model.scale_factor)  # dummy value None for now\n",
    "cutter = CutTransformer(phi_max=np.deg2rad(9), phi_min=np.deg2rad(0.25))\n",
    "offset_transformer = OffsetTransformer()\n",
    "\n",
    "steps = [\n",
    "    ('filter',lowpass_filter),\n",
    "    ('scaler',scaler),  # Is froude scaling a good idea??\n",
    "    ('cutter', cutter), \n",
    "    ('offset_transformer',offset_transformer)\n",
    "]\n",
    "        \n",
    "preprocessor = Pipeline(steps) # define the pipeline object.\n",
    "preprocessor.fit(df)\n",
    "X = preprocessor.transform(df)"
   ]
  },
  {
   "cell_type": "code",
   "execution_count": null,
   "metadata": {},
   "outputs": [],
   "source": [
    "X.plot(y='phi')"
   ]
  },
  {
   "cell_type": "code",
   "execution_count": null,
   "metadata": {},
   "outputs": [],
   "source": [
    "omega_hat_lambda=lambdify(sp.solve(equations.omega_hat_equation,symbols.omega)[0])"
   ]
  },
  {
   "cell_type": "code",
   "execution_count": null,
   "metadata": {},
   "outputs": [],
   "source": [
    "g=9.81\n",
    "omega0=omega_hat_lambda(beam=meta_data_full_scale.beam, g=g, omega_hat=run.omega_hat)"
   ]
  },
  {
   "cell_type": "code",
   "execution_count": null,
   "metadata": {},
   "outputs": [],
   "source": [
    "run_data = run.copy()\n",
    "run_data['omega0']=omega0"
   ]
  },
  {
   "cell_type": "code",
   "execution_count": null,
   "metadata": {},
   "outputs": [],
   "source": [
    "direct_estimator = DirectEstimator.load(data=run_data, X=X)"
   ]
  },
  {
   "cell_type": "code",
   "execution_count": null,
   "metadata": {},
   "outputs": [],
   "source": [
    "direct_estimator.plot_fit()"
   ]
  },
  {
   "cell_type": "code",
   "execution_count": null,
   "metadata": {},
   "outputs": [],
   "source": [
    "direct_estimator.plot_error()"
   ]
  },
  {
   "cell_type": "markdown",
   "metadata": {},
   "source": [
    "### Using \"real\" omega0"
   ]
  },
  {
   "cell_type": "code",
   "execution_count": null,
   "metadata": {},
   "outputs": [],
   "source": [
    "run_data = run.copy()\n",
    "run_data['omega0']=meta_data_full_scale.omega0"
   ]
  },
  {
   "cell_type": "code",
   "execution_count": null,
   "metadata": {},
   "outputs": [],
   "source": [
    "direct_estimator = DirectEstimator.load(data=run_data, X=X)"
   ]
  },
  {
   "cell_type": "code",
   "execution_count": null,
   "metadata": {},
   "outputs": [],
   "source": [
    "fig,ax=plt.subplots()\n",
    "direct_estimator.plot_fit(ax=ax)\n",
    "\n",
    "meta_data_ikeda = df_rolldecay_ikeda.loc[run.name]\n",
    "meta_data_ikeda['omega0']=meta_data_full_scale.omega0\n",
    "ikeda_estimator = IkedaQuadraticEstimator.load(data=meta_data_ikeda, X=X)\n",
    "ikeda_estimator.plot_fit(ax=ax, model_test=False)"
   ]
  },
  {
   "cell_type": "code",
   "execution_count": null,
   "metadata": {},
   "outputs": [],
   "source": [
    "direct_estimator.score()"
   ]
  },
  {
   "cell_type": "code",
   "execution_count": null,
   "metadata": {},
   "outputs": [],
   "source": [
    "ikeda_estimator.score()"
   ]
  },
  {
   "cell_type": "code",
   "execution_count": null,
   "metadata": {},
   "outputs": [],
   "source": [
    "B1_lambda = lambdify(sp.solve(equations.zeta_B1_equation,symbols.B_1)[0])\n",
    "g=9.81\n",
    "rho=1000\n",
    "m=meta_data_full_scale['Volume']*rho"
   ]
  },
  {
   "cell_type": "code",
   "execution_count": null,
   "metadata": {},
   "outputs": [],
   "source": [
    "B2_lambda = lambdify(sp.solve(equations.d_B2_equation,symbols.B_2)[0])"
   ]
  },
  {
   "cell_type": "code",
   "execution_count": null,
   "metadata": {},
   "outputs": [],
   "source": [
    "B_e = lambdify(sp.solve(equations.B_e_equation, symbols.B_e)[0])\n",
    "B_e"
   ]
  },
  {
   "cell_type": "code",
   "execution_count": null,
   "metadata": {},
   "outputs": [],
   "source": [
    "def calculate_B_e(GM,g, m, omega0, zeta, d, phi_a):\n",
    "    df = pd.DataFrame()\n",
    "    df['phi_a']=phi_a\n",
    "    df.set_index('phi_a', inplace=True)\n",
    "    \n",
    "    df['B_1'] = B1_lambda(GM=GM,g=g, m=m, omega0=omega0, \n",
    "          zeta=zeta)\n",
    "\n",
    "    df['B_2'] = B2_lambda(GM=GM,g=g, m=m, omega0=omega0, \n",
    "          d=d)\n",
    "\n",
    "    df['B_e'] = B_e(B_1=df['B_1'], B_2=df['B_2'], omega0=omega0, phi_a=phi_a)\n",
    "    \n",
    "    return df"
   ]
  },
  {
   "cell_type": "code",
   "execution_count": null,
   "metadata": {},
   "outputs": [],
   "source": [
    "phi_a = np.linspace(X['phi'].abs().min(),X['phi'].abs().max(),10)\n",
    "\n",
    "omega0=meta_data_full_scale.omega0\n",
    "\n",
    "\n",
    "df = calculate_B_e(GM=meta_data_full_scale['gm'],g=g, m=m, omega0=omega0, \n",
    "          zeta=meta_data_full_scale['zeta'], d=meta_data_full_scale['d'], phi_a=phi_a)\n",
    "\n",
    "df_regression = calculate_B_e(GM=meta_data_full_scale['gm'],g=g, m=m, omega0=omega0, \n",
    "          zeta=direct_estimator.parameters['zeta'], d=direct_estimator.parameters['d'], phi_a=phi_a) \n",
    "\n",
    "df_ikeda = calculate_B_e(GM=meta_data_full_scale['gm'],g=g, m=m, omega0=omega0, \n",
    "          zeta=ikeda_estimator.parameters['zeta'], d=ikeda_estimator.parameters['d'], phi_a=phi_a) "
   ]
  },
  {
   "cell_type": "code",
   "execution_count": null,
   "metadata": {},
   "outputs": [],
   "source": [
    "fig,ax=plt.subplots()\n",
    "df.plot(y='B_e',label='DB', ax=ax, style='k-')\n",
    "df_regression.plot(y='B_e',label='regression', ax=ax)\n",
    "df_ikeda.plot(y='B_e',label='ikeda', ax=ax)\n",
    "\n",
    "ax.fill_between(df.index, df['B_e'], df_regression['B_e'], label='error regression',alpha=1)\n",
    "ax.fill_between(df.index, df['B_e'], df_ikeda['B_e'], label='error ikeda', alpha=0.25)\n",
    "ax.legend()\n",
    "\n",
    "ax.set_title('Comparison of Equivalent damping vs. roll amplitude')\n",
    "ax.set_ylabel('$B_e$ [Nm*s/rad] (Equivalent damping)')\n",
    "ax.set_xlabel('$\\phi_a$ [rad] (Roll amplitude)')\n",
    "\n"
   ]
  },
  {
   "cell_type": "code",
   "execution_count": null,
   "metadata": {},
   "outputs": [],
   "source": [
    "r2_score(y_true=df['B_e'], y_pred=df_regression['B_e'])"
   ]
  },
  {
   "cell_type": "code",
   "execution_count": null,
   "metadata": {},
   "outputs": [],
   "source": [
    "r2_score(y_true=df['B_e'], y_pred=df_ikeda['B_e'])"
   ]
  },
  {
   "cell_type": "code",
   "execution_count": null,
   "metadata": {},
   "outputs": [],
   "source": [
    "(df['B_e']\n",
    " \n",
    " \n",
    " -df_regression['B_e']).abs()/df['B_e']"
   ]
  },
  {
   "cell_type": "code",
   "execution_count": null,
   "metadata": {},
   "outputs": [],
   "source": [
    "X['phi'].abs().hist(bins=100)"
   ]
  },
  {
   "cell_type": "code",
   "execution_count": null,
   "metadata": {},
   "outputs": [],
   "source": []
  },
  {
   "cell_type": "code",
   "execution_count": null,
   "metadata": {},
   "outputs": [],
   "source": [
    "B_e_equation =sp.solve(equations.B_e_equation, symbols.B_e)[0]\n",
    "B_e_equation"
   ]
  },
  {
   "cell_type": "code",
   "execution_count": null,
   "metadata": {},
   "outputs": [],
   "source": [
    "phi_min, phi_max, Be_tot = sp.symbols('phi_min phi_max B_e_tot')\n",
    "\n",
    "Be_integral = sp.Eq(Be_tot,sp.Integral(B_e_equation,(symbols.phi_a,phi_min,phi_max)))\n",
    "Be_integral"
   ]
  },
  {
   "cell_type": "code",
   "execution_count": null,
   "metadata": {},
   "outputs": [],
   "source": [
    "Be_tot_equation = sp.Eq(Be_tot,Be_integral.rhs.simplify())\n",
    "Be_tot_equation"
   ]
  },
  {
   "cell_type": "code",
   "execution_count": null,
   "metadata": {},
   "outputs": [],
   "source": [
    "Be_tot_lambda = lambdify(sp.solve(Be_tot_equation, Be_tot)[0])"
   ]
  },
  {
   "cell_type": "code",
   "execution_count": null,
   "metadata": {},
   "outputs": [],
   "source": [
    "Be_tot = Be_tot_lambda(B_1=df.iloc[0]['B_1'], B_2=df.iloc[0]['B_2'], omega0=omega0, phi_max=np.max(phi_a), \n",
    "              phi_min=np.min(phi_a))\n",
    "\n",
    "Be_tot_regression = Be_tot_lambda(B_1=df_regression.iloc[0]['B_1'], B_2=df_regression.iloc[0]['B_2'], \n",
    "                                  omega0=omega0, phi_max=np.max(phi_a),phi_min=np.min(phi_a))\n",
    "\n",
    "Be_tot_ikeda = Be_tot_lambda(B_1=df_ikeda.iloc[0]['B_1'], B_2=df_ikeda.iloc[0]['B_2'], \n",
    "                                  omega0=omega0, phi_max=np.max(phi_a),phi_min=np.min(phi_a))\n",
    "\n"
   ]
  },
  {
   "cell_type": "code",
   "execution_count": null,
   "metadata": {},
   "outputs": [],
   "source": [
    "def score(Be_tot_true, Be_tot_predicted):\n",
    "    return 1-np.abs(Be_tot_true-Be_tot_predicted)/((Be_tot_true+Be_tot_predicted)/2)"
   ]
  },
  {
   "cell_type": "code",
   "execution_count": null,
   "metadata": {},
   "outputs": [],
   "source": [
    "score(Be_tot_true=Be_tot, Be_tot_predicted=Be_tot_regression)"
   ]
  },
  {
   "cell_type": "code",
   "execution_count": null,
   "metadata": {},
   "outputs": [],
   "source": [
    "score(Be_tot_true=Be_tot, Be_tot_predicted=Be_tot_ikeda)"
   ]
  },
  {
   "cell_type": "code",
   "execution_count": null,
   "metadata": {},
   "outputs": [],
   "source": []
  }
 ],
 "metadata": {
  "kernelspec": {
   "display_name": "Python 3",
   "language": "python",
   "name": "python3"
  },
  "language_info": {
   "codemirror_mode": {
    "name": "ipython",
    "version": 3
   },
   "file_extension": ".py",
   "mimetype": "text/x-python",
   "name": "python",
   "nbconvert_exporter": "python",
   "pygments_lexer": "ipython3",
   "version": "3.5.4"
  },
  "pycharm": {
   "stem_cell": {
    "cell_type": "raw",
    "metadata": {
     "collapsed": false
    },
    "source": []
   }
  }
 },
 "nbformat": 4,
 "nbformat_minor": 4
}
