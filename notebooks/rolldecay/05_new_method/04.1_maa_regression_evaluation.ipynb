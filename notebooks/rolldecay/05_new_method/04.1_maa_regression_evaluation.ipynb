{
 "cells": [
  {
   "cell_type": "markdown",
   "metadata": {},
   "source": [
    "# Evaluate regression model"
   ]
  },
  {
   "cell_type": "code",
   "execution_count": null,
   "metadata": {},
   "outputs": [],
   "source": [
    "%matplotlib inline\n",
    "%load_ext autoreload\n",
    "%autoreload 2"
   ]
  },
  {
   "cell_type": "code",
   "execution_count": null,
   "metadata": {},
   "outputs": [],
   "source": [
    "from jupyterthemes import jtplot\n",
    "jtplot.style(theme='onedork', context='notebook', ticks=True, grid=False)\n",
    "\n",
    "import pandas as pd\n",
    "pd.options.display.max_rows = 999\n",
    "pd.options.display.max_columns = 999\n",
    "pd.set_option(\"display.max_columns\", None)\n",
    "import numpy as np\n",
    "import os\n",
    "import matplotlib.pyplot as plt\n",
    "from pylab import rcParams\n",
    "rcParams['figure.figsize'] = 15, 5\n",
    "\n",
    "from rolldecay import database\n",
    "import rolldecayestimators.lambdas as lambdas\n",
    "from rolldecayestimators.substitute_dynamic_symbols import run\n",
    "from sklearn.metrics import r2_score\n",
    "from sklearn.metrics import mean_squared_error"
   ]
  },
  {
   "cell_type": "code",
   "execution_count": null,
   "metadata": {},
   "outputs": [],
   "source": [
    "df_rolldecay = database.load(rolldecay_table_name='rolldecay_quadratic_b', \n",
    "                              limit_score=0.9, exclude_table_name='rolldecay_exclude')\n",
    "\n",
    "df_rolldecay_linear = database.load(rolldecay_table_name='rolldecay_linear_b', \n",
    "                              limit_score=0.9, exclude_table_name='rolldecay_exclude')\n",
    "\n",
    "df_regression = database.load(rolldecay_table_name='rolldecay_quadratic_b_regression', \n",
    "                              limit_score=-np.inf, exclude_table_name='rolldecay_exclude')\n",
    "\n",
    "df_ikeda = database.load(rolldecay_table_name='rolldecay_simplified_ikeda', \n",
    "                              limit_score=-np.inf, exclude_table_name='rolldecay_exclude')\n",
    "\n",
    "df_rolldecay['g']=9.81\n",
    "df_rolldecay['rho']=1000\n",
    "df_rolldecay['Disp']=df_rolldecay['Volume']/(df_rolldecay['scale_factor']**3)\n",
    "df_rolldecay['beam']=df_rolldecay['beam']/(df_rolldecay['scale_factor'])\n",
    "df_rolldecay['B_1_hat'] = run(function=lambdas.B_1_hat_lambda, inputs=df_rolldecay)\n",
    "df_rolldecay['B_2_hat'] = run(function=lambdas.B_2_hat_lambda, inputs=df_rolldecay)\n",
    "\n",
    "df_rolldecay_linear['g']=9.81\n",
    "df_rolldecay_linear['rho']=1000\n",
    "df_rolldecay_linear['Disp']=df_rolldecay_linear['Volume']/(df_rolldecay_linear['scale_factor']**3)\n",
    "df_rolldecay_linear['beam']=df_rolldecay_linear['beam']/(df_rolldecay_linear['scale_factor'])\n",
    "df_rolldecay_linear['B_1_hat'] = run(function=lambdas.B_1_hat_lambda, inputs=df_rolldecay_linear)\n",
    "df_rolldecay_linear['B_2_hat'] = 0\n",
    "\n",
    "df_regression['g']=9.81\n",
    "df_regression['rho']=1000\n",
    "df_regression['Disp']=df_regression['Volume']/(df_regression['scale_factor']**3)\n",
    "df_regression['beam']=df_regression['beam']/(df_regression['scale_factor'])\n",
    "df_regression['B_1_hat'] = run(function=lambdas.B_1_hat_lambda, inputs=df_regression)\n",
    "df_regression['B_2_hat'] = run(function=lambdas.B_2_hat_lambda, inputs=df_regression)\n",
    "\n",
    "df_ikeda['g']=9.81\n",
    "df_ikeda['rho']=1000\n",
    "df_ikeda['Disp']=df_ikeda['Volume']/(df_ikeda['scale_factor']**3)\n",
    "df_ikeda['beam']=df_ikeda['beam']/(df_ikeda['scale_factor'])\n",
    "df_ikeda['B_1_hat'] = run(function=lambdas.B_1_hat_lambda, inputs=df_ikeda)\n",
    "df_ikeda['B_2_hat'] = run(function=lambdas.B_2_hat_lambda, inputs=df_ikeda)\n",
    "\n"
   ]
  },
  {
   "cell_type": "code",
   "execution_count": null,
   "metadata": {},
   "outputs": [],
   "source": [
    "#df_rolldecay['phi_a']=df_rolldecay['phi_start'].abs()\n",
    "phi_a=3.4\n",
    "df_rolldecay['phi_a']=np.deg2rad(phi_a)\n",
    "df_rolldecay['B_e'] = run(function=lambdas.B_e_lambda, inputs=df_rolldecay)\n",
    "\n",
    "df_rolldecay_linear['phi_a']=df_rolldecay_linear['phi_start'].abs()\n",
    "df_rolldecay_linear['B_2'] = 0\n",
    "df_rolldecay_linear['B_e'] = run(function=lambdas.B_e_lambda, inputs=df_rolldecay_linear)\n",
    "\n",
    "#df_regression['phi_a']=df_regression['phi_start'].abs()\n",
    "df_regression['phi_a']=np.deg2rad(phi_a)\n",
    "df_regression['B_e'] = run(function=lambdas.B_e_lambda, inputs=df_regression)"
   ]
  },
  {
   "cell_type": "code",
   "execution_count": null,
   "metadata": {},
   "outputs": [],
   "source": [
    "df_rolldecay[['B_e','B_1','B_2','beam','Disp','phi_a']].head()"
   ]
  },
  {
   "cell_type": "code",
   "execution_count": null,
   "metadata": {},
   "outputs": [],
   "source": [
    "df_rolldecay_linear[['B_e','B_1','B_2']].head()"
   ]
  },
  {
   "cell_type": "code",
   "execution_count": null,
   "metadata": {},
   "outputs": [],
   "source": [
    "df = pd.merge(left=df_rolldecay, right=df_rolldecay_linear,how='inner',\n",
    "              left_index=True, right_index=True, suffixes=('','_linear'))"
   ]
  },
  {
   "cell_type": "code",
   "execution_count": null,
   "metadata": {},
   "outputs": [],
   "source": [
    "fig,ax=plt.subplots()\n",
    "df.plot(x='B_1_linear', y=['B_e','B_1'], style='.', ax=ax)\n",
    "ax.grid()"
   ]
  },
  {
   "cell_type": "code",
   "execution_count": null,
   "metadata": {},
   "outputs": [],
   "source": [
    "mask=df['B_1']<0\n",
    "df.loc[mask]"
   ]
  },
  {
   "cell_type": "code",
   "execution_count": null,
   "metadata": {},
   "outputs": [],
   "source": [
    "df_regression[['score']].head()"
   ]
  },
  {
   "cell_type": "code",
   "execution_count": null,
   "metadata": {},
   "outputs": [],
   "source": [
    "df_regression[['B_e','B_1','B_2']].head()"
   ]
  },
  {
   "cell_type": "code",
   "execution_count": null,
   "metadata": {},
   "outputs": [],
   "source": [
    "df_regression.describe()"
   ]
  },
  {
   "cell_type": "code",
   "execution_count": null,
   "metadata": {},
   "outputs": [],
   "source": [
    "df_compare = pd.merge(left=df_rolldecay, right=df_regression, how='inner', left_index=True, right_index=True,\n",
    "                     suffixes=('','_regression'))\n",
    "\n",
    "df_compare = pd.merge(left=df_compare, right=df_ikeda, how='inner', left_index=True, right_index=True,\n",
    "                     suffixes=('','_ikeda'))\n",
    "\n"
   ]
  },
  {
   "cell_type": "code",
   "execution_count": null,
   "metadata": {},
   "outputs": [],
   "source": [
    "mean_squared_error(y_true=df_compare['B_e'], y_pred=df_compare['B_e_regression'])"
   ]
  },
  {
   "cell_type": "code",
   "execution_count": null,
   "metadata": {},
   "outputs": [],
   "source": [
    "r2_score(y_true=df_compare['B_e'], y_pred=df_compare['B_e_regression'])"
   ]
  },
  {
   "cell_type": "code",
   "execution_count": null,
   "metadata": {},
   "outputs": [],
   "source": [
    "df_compare['score_regression'].mean() - 2*df_compare['score_regression'].std()"
   ]
  },
  {
   "cell_type": "code",
   "execution_count": null,
   "metadata": {},
   "outputs": [],
   "source": [
    "phi_as = np.deg2rad(np.linspace(1,8,30))\n",
    "scores = []\n",
    "\n",
    "for phi_a in phi_as:\n",
    "\n",
    "    df_rolldecay_ = df_rolldecay.copy()\n",
    "    df_regression_ = df_regression.copy()\n",
    "    \n",
    "    df_rolldecay_['phi_a']=phi_a\n",
    "    df_rolldecay_['B_e'] = run(function=lambdas.B_e_lambda, inputs=df_rolldecay_)\n",
    "    \n",
    "    df_regression_['phi_a']=phi_a\n",
    "    df_regression_['B_e'] = run(function=lambdas.B_e_lambda, inputs=df_regression_)\n",
    "    \n",
    "    df_compare_ = pd.merge(left=df_rolldecay_, right=df_regression_, how='inner', left_index=True, right_index=True,\n",
    "                     suffixes=('','_regression'))\n",
    "    \n",
    "    score = r2_score(y_true=df_compare_['B_e'], y_pred=df_compare_['B_e_regression'])\n",
    "    scores.append(score)"
   ]
  },
  {
   "cell_type": "code",
   "execution_count": null,
   "metadata": {},
   "outputs": [],
   "source": [
    "fig,ax=plt.subplots()\n",
    "ax.plot(np.rad2deg(phi_as),scores)    "
   ]
  },
  {
   "cell_type": "code",
   "execution_count": null,
   "metadata": {},
   "outputs": [],
   "source": [
    "8/(3*np.pi)"
   ]
  },
  {
   "cell_type": "code",
   "execution_count": null,
   "metadata": {},
   "outputs": [],
   "source": [
    "np.rad2deg(df_compare['phi_start'].abs()).mean()"
   ]
  },
  {
   "cell_type": "code",
   "execution_count": null,
   "metadata": {},
   "outputs": [],
   "source": [
    "interesting = ['score','score_regression','score_ikeda']\n",
    "df_compare[interesting].describe()"
   ]
  },
  {
   "cell_type": "code",
   "execution_count": null,
   "metadata": {},
   "outputs": [],
   "source": [
    "interesting = ['B_1_hat','B_1_hat_regression','B_1_hat_ikeda']\n",
    "df_compare[interesting].describe()"
   ]
  },
  {
   "cell_type": "code",
   "execution_count": null,
   "metadata": {},
   "outputs": [],
   "source": [
    "fig,ax=plt.subplots()\n",
    "df_compare.plot(x='B_e',y=['B_e_regression','B_e_ikeda'], ax=ax, style='o', alpha=0.3)"
   ]
  },
  {
   "cell_type": "code",
   "execution_count": null,
   "metadata": {},
   "outputs": [],
   "source": [
    "fig,ax=plt.subplots()\n",
    "df_compare.plot(x='B_1_hat',y=['B_1_hat_regression','B_1_hat_ikeda'], ax=ax, style='o', alpha=0.3)"
   ]
  },
  {
   "cell_type": "code",
   "execution_count": null,
   "metadata": {},
   "outputs": [],
   "source": [
    "interesting = ['score','score_regression','score_ikeda']\n",
    "mask = df_compare['TA']/df_compare['lpp'] > 0.034\n",
    "df_compare.loc[mask][interesting].describe()"
   ]
  },
  {
   "cell_type": "code",
   "execution_count": null,
   "metadata": {},
   "outputs": [],
   "source": [
    "fig,ax=plt.subplots()\n",
    "df_compare[mask].plot(x='B_e',y=['B_e_regression','B_e_ikeda'], ax=ax, style='o', alpha=0.3)"
   ]
  },
  {
   "cell_type": "code",
   "execution_count": null,
   "metadata": {},
   "outputs": [],
   "source": [
    "fig,ax=plt.subplots()\n",
    "df_compare[mask].plot(x='B_1_hat',y=['B_1_hat_regression','B_1_hat_ikeda'], ax=ax, style='o', alpha=0.3)"
   ]
  },
  {
   "cell_type": "code",
   "execution_count": null,
   "metadata": {},
   "outputs": [],
   "source": [
    "fig,ax=plt.subplots()\n",
    "df_compare.plot(x='B_2_hat',y=['B_2_hat_regression','B_2_hat_ikeda'], ax=ax, style='o', alpha=0.3)"
   ]
  },
  {
   "cell_type": "code",
   "execution_count": null,
   "metadata": {},
   "outputs": [],
   "source": [
    "df_regression.describe()"
   ]
  },
  {
   "cell_type": "code",
   "execution_count": null,
   "metadata": {},
   "outputs": [],
   "source": [
    "df_ikeda.describe()"
   ]
  },
  {
   "cell_type": "code",
   "execution_count": null,
   "metadata": {},
   "outputs": [],
   "source": [
    "df_compare.describe()"
   ]
  },
  {
   "cell_type": "code",
   "execution_count": null,
   "metadata": {},
   "outputs": [],
   "source": []
  },
  {
   "cell_type": "code",
   "execution_count": null,
   "metadata": {},
   "outputs": [],
   "source": []
  }
 ],
 "metadata": {
  "kernelspec": {
   "display_name": "Python 3",
   "language": "python",
   "name": "python3"
  },
  "language_info": {
   "codemirror_mode": {
    "name": "ipython",
    "version": 3
   },
   "file_extension": ".py",
   "mimetype": "text/x-python",
   "name": "python",
   "nbconvert_exporter": "python",
   "pygments_lexer": "ipython3",
   "version": "3.5.4"
  }
 },
 "nbformat": 4,
 "nbformat_minor": 4
}
