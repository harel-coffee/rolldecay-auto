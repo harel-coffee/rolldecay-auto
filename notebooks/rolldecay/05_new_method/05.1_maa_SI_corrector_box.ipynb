{
 "cells": [
  {
   "cell_type": "markdown",
   "metadata": {},
   "source": [
    "## SI corrector box"
   ]
  },
  {
   "cell_type": "code",
   "execution_count": null,
   "metadata": {},
   "outputs": [],
   "source": [
    "%matplotlib notebook\n",
    "%load_ext autoreload\n",
    "%autoreload 2"
   ]
  },
  {
   "cell_type": "code",
   "execution_count": null,
   "metadata": {},
   "outputs": [],
   "source": [
    "import pandas as pd\n",
    "pd.options.display.max_rows = 999\n",
    "pd.options.display.max_columns = 999\n",
    "pd.set_option(\"display.max_columns\", None)\n",
    "import numpy as np\n",
    "import os\n",
    "import matplotlib.pyplot as plt\n",
    "plt.style.use('paper')\n",
    "\n",
    "#import data\n",
    "import copy\n",
    "from rolldecay.bis_system import BisSystem\n",
    "from rolldecay import database\n",
    "\n",
    "import rolldecayestimators.lambdas as lambdas\n",
    "from rolldecayestimators.substitute_dynamic_symbols import run, lambdify, significant_numbers\n",
    "from rolldecayestimators.ikeda_estimator import IkedaQuadraticEstimator\n",
    "\n",
    "from rolldecay.paper_writing import save_fig, save_table\n",
    "from rolldecay.froude_scaling import froude_scale\n",
    "from sklearn.metrics import r2_score\n",
    "from sklearn.model_selection import train_test_split\n",
    "from latex_helpers import pylatex_extenders\n",
    "import rolldecay\n",
    "from rolldecay.paper_writing import save_fig\n",
    "import rolldecayestimators.simplified_ikeda as si\n",
    "import rolldecayestimators.sensitivity as sensitivity\n",
    "\n",
    "from sklearn.linear_model import LinearRegression\n",
    "from sklearn.preprocessing import PolynomialFeatures\n",
    "from sklearn.pipeline import Pipeline\n",
    "from rolldecayestimators.polynom_estimator import Polynom\n",
    "from rolldecayestimators import symbols\n",
    "\n",
    "from sklearn.model_selection import cross_val_score\n",
    "from sklearn.model_selection import train_test_split\n",
    "from sklearn.preprocessing import StandardScaler\n",
    "from sklearn.feature_selection import VarianceThreshold\n",
    "from sklearn.ensemble import ExtraTreesClassifier\n",
    "from sklearn.feature_selection import SelectKBest\n",
    "from sklearn.feature_selection import chi2\n",
    "from sklearn.feature_selection import f_regression\n",
    "from sklearn.metrics import mean_squared_error\n",
    "\n",
    "from sklearn.linear_model import LinearRegression\n",
    "from sklearn.linear_model import Ridge\n",
    "from sklearn.linear_model import Lasso\n",
    "\n",
    "#from sklearn.model_selection import cross_validate\n",
    "from rolldecayestimators import cross_validation"
   ]
  },
  {
   "cell_type": "code",
   "execution_count": null,
   "metadata": {},
   "outputs": [],
   "source": [
    "db = database.get_db()"
   ]
  },
  {
   "cell_type": "code",
   "execution_count": null,
   "metadata": {},
   "outputs": [],
   "source": [
    "def run_ikeda(df_rolldecay, verify_input=True, limit_inputs=False):\n",
    "    df=pd.DataFrame()\n",
    "    for run_id, data in df_rolldecay.iterrows():\n",
    "        ikeda_estimator = IkedaQuadraticEstimator(**data, verify_input=verify_input, \n",
    "                                                  limit_inputs=limit_inputs, phi_max=2)\n",
    "        try:\n",
    "            ikeda_estimator.fit()\n",
    "        except si.SimplifiedIkedaInputError:\n",
    "            continue\n",
    "        \n",
    "        result = ikeda_estimator.result_for_database(score=False)\n",
    "        result = pd.Series(result, name=run_id)\n",
    "        df=df.append(result)\n",
    "    \n",
    "    return df"
   ]
  },
  {
   "cell_type": "code",
   "execution_count": null,
   "metadata": {},
   "outputs": [],
   "source": [
    "df_ikeda = database.load(rolldecay_table_name='rolldecay_simplified_ikeda', limit_score=0.1, \n",
    "                             exclude_table_name='rolldecay_exclude')\n",
    "\n",
    "df_rolldecay = database.load(rolldecay_table_name='rolldecay_quadratic_b', limit_score=0.99, \n",
    "                             exclude_table_name='rolldecay_exclude')\n",
    "\n",
    "#df_rolldecay = database.load(rolldecay_table_name='rolldecay_linear_b', limit_score=0.99, \n",
    "#                             exclude_table_name='rolldecay_exclude')\n",
    "#df_rolldecay['B_2']=0\n",
    "\n",
    "df_rolldecay['ship_speed']*=1.852/3.6\n",
    "df_ikeda['ship_speed']*=1.852/3.6\n",
    "\n",
    "description = pd.read_sql_table('description', con=db.engine, index_col='id')\n",
    "description.loc['ship_speed','unit']='m/s'\n",
    "description.loc['VDES','unit']='m/s'\n",
    "description.loc['Disp'] = {'description':'Ship discplacement','unit':'m3'}\n",
    "\n",
    "T_f=df_rolldecay['TF']\n",
    "T_a=df_rolldecay['TA']\n",
    "L_pp=df_rolldecay['lpp']\n",
    "df_rolldecay['trim']=np.arctan((T_a-T_f)/L_pp)\n",
    "mask = df_rolldecay['trim'].abs() < np.deg2rad(0.3)\n",
    "df_rolldecay=df_rolldecay.loc[mask].copy()\n",
    "\n",
    "df_ikeda['Disp']=df_ikeda['Volume']\n",
    "df_rolldecay['Disp']=df_rolldecay['Volume']\n",
    "\n",
    "skip=['omega0']  # This one is already model scale...\n",
    "df_ikeda = froude_scale(data=df_ikeda, description=description, skip=skip)\n",
    "df_rolldecay = froude_scale(data=df_rolldecay, description=description, skip=skip)\n",
    "\n",
    "# Reruning ikeda to get better values for B_W_HAT etc.\n",
    "df = df_ikeda.copy()\n",
    "df['V']=df['ship_speed']\n",
    "#result_ikeda_rerun = run_ikeda(df, verify_input=True, limit_inputs=True)\n",
    "#reruns = ['B_W_HAT','B_F_HAT','B_BK_HAT','B_E_HAT','B_L_HAT']\n",
    "#for rerun in reruns:\n",
    "#    df_ikeda[rerun]=result_ikeda_rerun[rerun]\n",
    "\n",
    "#phi_a = np.deg2rad(2.5)\n",
    "phi_a = np.deg2rad(4.3)\n",
    "\n",
    "#phi_a = df_rolldecay['phi_start'].abs()\n",
    "#phi_a=np.deg2rad(3.5)\n",
    "\n",
    "g = 9.81\n",
    "rho=1000\n",
    "df_ikeda['B_e'] = run(function=lambdas.B_e_lambda, inputs=df_ikeda, phi_a=phi_a)\n",
    "df_ikeda['B_e_hat'] = run(function=lambdas.B_e_hat_lambda, inputs=df_ikeda, g=g, rho=rho)\n",
    "df_ikeda['B_1_hat'] = run(function=lambdas.B_1_hat_lambda, inputs=df_ikeda, g=g, rho=rho)\n",
    "df_ikeda['B_2_hat'] = run(function=lambdas.B_2_hat_lambda, inputs=df_ikeda, g=g, rho=rho)\n",
    "\n",
    "df_rolldecay['B_e'] = run(function=lambdas.B_e_lambda, inputs=df_rolldecay, phi_a=phi_a)\n",
    "df_rolldecay['B_e_hat'] = run(function=lambdas.B_e_hat_lambda, inputs=df_rolldecay, g=g, rho=rho)\n",
    "df_rolldecay['B_1_hat'] = run(function=lambdas.B_1_hat_lambda, inputs=df_rolldecay, g=g, rho=rho)\n",
    "df_rolldecay['B_2_hat'] = run(function=lambdas.B_2_hat_lambda, inputs=df_rolldecay, g=g, rho=rho)\n",
    "\n",
    "df_rolldecay['omega0_hat'] = run(function=lambdas.omega0_lambda, inputs=df_rolldecay, g=g)\n",
    "df_ikeda['omega0_hat'] = run(function=lambdas.omega0_lambda, inputs=df_ikeda, g=g)\n",
    "\n",
    "df1 = df_rolldecay.copy()\n",
    "df2 = df_ikeda.copy()\n",
    "\n",
    "#skip=['omega0']  # This one is already model scale...\n",
    "#df_ikeda['scale_factor']=df_ikeda['lpp']\n",
    "#df_ikeda = froude_scale(data=df_ikeda, description=description, skip=skip)\n",
    "#df_rolldecay['scale_factor']=df_rolldecay['lpp']\n",
    "#df_rolldecay = froude_scale(data=df_rolldecay, description=description, skip=skip)"
   ]
  },
  {
   "cell_type": "code",
   "execution_count": null,
   "metadata": {},
   "outputs": [],
   "source": [
    "lambdas.B_e_hat_lambda"
   ]
  },
  {
   "cell_type": "code",
   "execution_count": null,
   "metadata": {},
   "outputs": [],
   "source": [
    "df_compare = pd.merge(left=df_rolldecay, right=df_ikeda, how = 'inner',left_index=True, right_index=True,\n",
    "                      suffixes=('','_ikeda'))\n",
    "\n",
    "df_compare['error'] = df_compare['B_e_hat']-df_compare['B_e_hat_ikeda']"
   ]
  },
  {
   "cell_type": "code",
   "execution_count": null,
   "metadata": {},
   "outputs": [],
   "source": [
    "fig,ax=plt.subplots()\n",
    "x=df_compare['B_1_hat']\n",
    "y=df_compare['B_1_hat_ikeda']\n",
    "ax.plot(x, y, '.', alpha=0.5, label='limited')"
   ]
  },
  {
   "cell_type": "code",
   "execution_count": null,
   "metadata": {},
   "outputs": [],
   "source": [
    "fig,ax=plt.subplots()\n",
    "x=df_compare['B_2_hat']\n",
    "y=df_compare['B_2_hat_ikeda']\n",
    "ax.plot(x, y, '.', alpha=0.5, label='limited')"
   ]
  },
  {
   "cell_type": "code",
   "execution_count": null,
   "metadata": {},
   "outputs": [],
   "source": [
    "fig,ax=plt.subplots()\n",
    "x=df_compare['B_e_hat']\n",
    "y=df_compare['B_e_hat_ikeda']\n",
    "ax.plot(x, y, '.', alpha=0.5, label='limited')\n",
    "\n",
    "ax.set_xlabel('$\\hat{B_e}$ (model test)')\n",
    "ax.set_ylabel('$\\hat{B_e}$ (Simplified Ikeda)')\n",
    "\n",
    "xlim = ax.get_xlim()\n",
    "ylim = ax.get_ylim()\n",
    "lim = np.max([xlim[1],ylim[1]])\n",
    "ax.set_xlim(0,lim)\n",
    "ax.set_ylim(0,lim)\n",
    "ax.plot([0,lim],[0,lim],'r-')\n",
    "ax.set_aspect('equal', 'box')\n",
    "ax.legend()\n",
    "ax.grid(True)"
   ]
  },
  {
   "cell_type": "code",
   "execution_count": null,
   "metadata": {},
   "outputs": [],
   "source": [
    "r2_score(y_true=df_compare['B_e_hat'], y_pred=df_compare['B_e_hat_ikeda'])"
   ]
  },
  {
   "cell_type": "code",
   "execution_count": null,
   "metadata": {},
   "outputs": [],
   "source": [
    "r2_score(y_true=df_compare['B_1_hat'], y_pred=df_compare['B_1_hat_ikeda'])"
   ]
  },
  {
   "cell_type": "code",
   "execution_count": null,
   "metadata": {},
   "outputs": [],
   "source": [
    "r2_score(y_true=df_compare['B_2_hat'], y_pred=df_compare['B_2_hat_ikeda'])"
   ]
  },
  {
   "cell_type": "code",
   "execution_count": null,
   "metadata": {},
   "outputs": [],
   "source": [
    "def linearize(phi_a, df_rolldecay, df_ikeda):\n",
    "    df_rolldecay=df_rolldecay.copy()\n",
    "    df_ikeda=df_ikeda.copy()\n",
    "    \n",
    "    df_rolldecay['B_e'] = run(function=lambdas.B_e_lambda, inputs=df_rolldecay, phi_a=phi_a)\n",
    "    df_ikeda['B_e'] = run(function=lambdas.B_e_lambda, inputs=df_ikeda, phi_a=phi_a)\n",
    "    \n",
    "    df_rolldecay['B_e_hat'] = run(function=lambdas.B_e_hat_lambda, inputs=df_rolldecay, g=g, rho=rho)\n",
    "    df_ikeda['B_e_hat'] = run(function=lambdas.B_e_hat_lambda, inputs=df_ikeda, g=g, rho=rho)\n",
    "    \n",
    "    df3 = df_compare = pd.merge(left=df_rolldecay, right=df_ikeda, how='inner', \n",
    "                      left_index=True, right_index=True, suffixes=('','_ikeda'))\n",
    "    \n",
    "    return df3"
   ]
  },
  {
   "cell_type": "code",
   "execution_count": null,
   "metadata": {},
   "outputs": [],
   "source": [
    "\n",
    "fig = plt.figure()\n",
    "gs = fig.add_gridspec(2,3)\n",
    "axes=[\n",
    "fig.add_subplot(gs[0, :]),\n",
    "fig.add_subplot(gs[1,0]),\n",
    "fig.add_subplot(gs[1,1]),\n",
    "fig.add_subplot(gs[1,2])    \n",
    "]\n",
    "\n",
    "r2s = []\n",
    "rms_SI = []\n",
    "\n",
    "phi_as = np.deg2rad(np.linspace(0,10,20))\n",
    "for phi_a in phi_as:\n",
    "    \n",
    "    df3 = linearize(phi_a=phi_a, df_rolldecay=df_rolldecay, df_ikeda=df_ikeda)\n",
    "    r2s.append(r2_score(y_true=df3['B_e_hat'], y_pred=df3['B_e_hat_ikeda']))\n",
    "    rms_SI.append(mean_squared_error(y_true=df3['B_e_hat'], y_pred=df3['B_e_hat_ikeda'], squared=False))\n",
    "    \n",
    "ax=axes[0]\n",
    "#ax.plot(np.rad2deg(phi_as), r2s)\n",
    "ax.plot(np.rad2deg(phi_as), rms_SI)\n",
    "\n",
    "ax.set_xlabel('$\\phi_a$ [deg]')\n",
    "#ax.set_ylabel('$R^2(\\hat{B_e})$')\n",
    "ax.set_ylabel('$RMSE(\\hat{B_e})$')\n",
    "ax.grid()\n",
    "\n",
    "phi_as = np.deg2rad([0,5,10])\n",
    "for phi_a,ax in zip(phi_as,axes[1:]):\n",
    "    \n",
    "    df3 = linearize(phi_a=phi_a, df_rolldecay=df_rolldecay, df_ikeda=df_ikeda)\n",
    "    df3['phi_a']=phi_a\n",
    "\n",
    "    x=df3['B_e_hat']\n",
    "    y=df3['B_e_hat_ikeda']\n",
    "    ax.plot(x, y, '.', alpha=0.5)\n",
    "    ax.set_title(label='$\\phi_a$:%0.0f deg' % np.rad2deg(phi_a))\n",
    "\n",
    "    ax.set_xlabel('$\\hat{B_e}$ (model test)')\n",
    "    \n",
    "    xlim = ax.get_xlim()\n",
    "    ylim = ax.get_ylim()\n",
    "    lim = np.max([xlim[1],ylim[1]])\n",
    "    ax.set_xlim(0,lim)\n",
    "    ax.set_ylim(0,lim)\n",
    "    ax.plot([0,lim],[0,lim],'r-')\n",
    "    ax.set_aspect('equal', 'box')\n",
    "    ax.grid(True)\n",
    "    ax.set_xlim(0,0.02)\n",
    "    ax.set_ylim(0,0.02)\n",
    "    \n",
    "axes[1].set_ylabel('$\\hat{B_e}$ (Simplified Ikeda)')\n",
    "plt.tight_layout()\n",
    "save_fig(fig, name='ikeda_phi_a')"
   ]
  },
  {
   "cell_type": "code",
   "execution_count": null,
   "metadata": {},
   "outputs": [],
   "source": [
    "r2s"
   ]
  },
  {
   "cell_type": "code",
   "execution_count": null,
   "metadata": {},
   "outputs": [],
   "source": [
    "r2s = []\n",
    "\n",
    "phi_as = np.deg2rad(np.linspace(0,6,20))\n",
    "for phi_a in phi_as:\n",
    "    df1['B_e'] = run(function=lambdas.B_e_lambda, inputs=df1, phi_a=np.deg2rad(2.5))\n",
    "    df1['B_e_hat'] = run(function=lambdas.B_e_hat_lambda, inputs=df1, g=g, rho=rho)\n",
    "    \n",
    "    df2_=df2.copy()\n",
    "    df2_['B_1']*=0.8\n",
    "    df2_['B_e'] = run(function=lambdas.B_e_lambda, inputs=df2_, phi_a=phi_a)\n",
    "    df2_['B_e_hat'] = run(function=lambdas.B_e_hat_lambda, inputs=df2_, g=g, rho=rho)\n",
    "    \n",
    "    df3 = pd.merge(left=df1, right=df2_, how = 'inner',left_index=True, right_index=True,\n",
    "                      suffixes=('','_ikeda'))\n",
    "        \n",
    "    r2s.append(r2_score(y_true=df3['B_e_hat'], y_pred=df3['B_e_hat_ikeda']))\n",
    "    #rms.append(mean_squared_error(y_true=df3['B_e_hat'], y_pred=df3['B_e_hat_ikeda']))\n",
    "    \n",
    "fig,ax=plt.subplots()\n",
    "ax.plot(np.rad2deg(phi_as), r2s)\n",
    "ax.set_xlabel('$\\phi_a$ [deg]')\n",
    "ax.set_ylabel('$R^2$')\n",
    "ax.grid()\n"
   ]
  },
  {
   "cell_type": "code",
   "execution_count": null,
   "metadata": {},
   "outputs": [],
   "source": [
    "phi_a=np.deg2rad(1.6)\n",
    "df1['B_e'] = run(function=lambdas.B_e_lambda, inputs=df1, phi_a=np.deg2rad(2.5))\n",
    "df1['B_e_hat'] = run(function=lambdas.B_e_hat_lambda, inputs=df1, g=g, rho=rho)\n",
    "\n",
    "df2_=df2.copy()\n",
    "df2_['B_1']*=0.8\n",
    "df2_['B_e'] = run(function=lambdas.B_e_lambda, inputs=df2_, phi_a=phi_a)\n",
    "df2_['B_e_hat'] = run(function=lambdas.B_e_hat_lambda, inputs=df2_, g=g, rho=rho)\n",
    "\n",
    "df3 = pd.merge(left=df1, right=df2_, how = 'inner',left_index=True, right_index=True,\n",
    "                  suffixes=('','_ikeda'))\n",
    "\n",
    "r2_score(y_true=df3['B_e_hat'], y_pred=df3['B_e_hat_ikeda'])"
   ]
  },
  {
   "cell_type": "code",
   "execution_count": null,
   "metadata": {},
   "outputs": [],
   "source": [
    "fig,ax=plt.subplots()\n",
    "x=df3['B_e_hat']\n",
    "y=df3['B_e_hat_ikeda']\n",
    "ax.plot(x, y, '.', alpha=0.5, label='limited')\n",
    "\n",
    "ax.set_xlabel('$\\hat{B_e}$ (model test)')\n",
    "ax.set_ylabel('$\\hat{B_e}$ (Simplified Ikeda)')\n",
    "\n",
    "xlim = ax.get_xlim()\n",
    "ylim = ax.get_ylim()\n",
    "lim = np.max([xlim[1],ylim[1]])\n",
    "ax.set_xlim(0,lim)\n",
    "ax.set_ylim(0,lim)\n",
    "ax.plot([0,lim],[0,lim],'r-')\n",
    "ax.set_aspect('equal', 'box')\n",
    "ax.legend()\n",
    "ax.grid(True)"
   ]
  },
  {
   "cell_type": "code",
   "execution_count": null,
   "metadata": {},
   "outputs": [],
   "source": [
    "r2_score(y_true=1000*df3['B_e_hat'], y_pred=1000*df3['B_e_hat_ikeda'])"
   ]
  },
  {
   "cell_type": "markdown",
   "metadata": {},
   "source": [
    "## SI corrector box"
   ]
  },
  {
   "cell_type": "code",
   "execution_count": null,
   "metadata": {},
   "outputs": [],
   "source": [
    "#skip=['omega0']  # This one is already model scale...\n",
    "#df_ikeda['scale_factor']=df_ikeda['lpp']\n",
    "#df_ikeda = froude_scale(data=df_ikeda, description=description, skip=skip)\n",
    "#df_rolldecay['scale_factor']=df_rolldecay['lpp']\n",
    "#df_rolldecay = froude_scale(data=df_rolldecay, description=description, skip=skip)"
   ]
  },
  {
   "cell_type": "markdown",
   "metadata": {},
   "source": [
    "## $\\phi_a$ approach"
   ]
  },
  {
   "cell_type": "code",
   "execution_count": null,
   "metadata": {},
   "outputs": [],
   "source": [
    "phi_as = np.deg2rad(np.linspace(0,10,5))\n",
    "X2=pd.DataFrame()\n",
    "for phi_a in phi_as:\n",
    "    \n",
    "    df3 = linearize(phi_a=phi_a, df_rolldecay=df_rolldecay, df_ikeda=df_ikeda)\n",
    "    df3['phi_a']=phi_a\n",
    "    X2=X2.append(df3, ignore_index=True)\n",
    "  \n",
    "features = ['B_W_HAT','B_F_HAT','B_BK_HAT','B_E_HAT','B_L_HAT','phi_a']\n",
    "labels = ['B_e_hat']\n",
    "mask=X2[features+labels].notnull().all(axis=1)\n",
    "data = X2.loc[mask].copy()\n",
    "\n",
    "data['T'] = (data['TA']+data['TF'] )/2\n",
    "data['CB'] = data['Disp']/(data['lpp']*data['T']*data['beam'])\n",
    "data['OG'] = (-data.kg + data['T'])\n",
    "\n",
    "renamers = {\n",
    "    'CP' : 'C_p',\n",
    "    'CB' : 'C_b',\n",
    "    'IRUD' : 'I_RUD', \n",
    "    'BKL' : 'BK_L', \n",
    "    'gm' : 'GM', \n",
    "    'A0' : 'A_0', \n",
    "    'ship_type_id' : 'ship_type_id', \n",
    "    'Volume' : 'Disp', \n",
    "    'Ixx' : 'I_xx', \n",
    "    'BKB' : 'BK_B',\n",
    "    'KXX' : 'K_xx', \n",
    "    'RH' : 'R_h', \n",
    "    'AR' : 'A_R', \n",
    "    'TWIN' : 'TWIN', \n",
    "    'kg': 'kg', \n",
    "    'CW' : 'C_W', \n",
    "    'beam' : 'beam', \n",
    "    'TF' : 'T_F', \n",
    "    'ship_speed' : 'V', \n",
    "    'TA' : 'T_A',\n",
    "    'lpp' : 'L_pp',\n",
    "}\n",
    "data.rename(columns=renamers, inplace=True)\n",
    "\n",
    "# Froude scale:\n",
    "scale_factor=data['L_pp']\n",
    "data['beam']/=scale_factor\n",
    "data['T']/=scale_factor\n",
    "data['BK_L']/=scale_factor\n",
    "data['BK_B']/=scale_factor\n",
    "data['OG']/=scale_factor\n",
    "data['V']/=np.sqrt(scale_factor)"
   ]
  },
  {
   "cell_type": "code",
   "execution_count": null,
   "metadata": {},
   "outputs": [],
   "source": [
    "X = data[features+labels].copy()\n",
    "y = X.pop(labels[0])"
   ]
  },
  {
   "cell_type": "code",
   "execution_count": null,
   "metadata": {},
   "outputs": [],
   "source": [
    "X2['phi_a'].unique()"
   ]
  },
  {
   "cell_type": "code",
   "execution_count": null,
   "metadata": {},
   "outputs": [],
   "source": [
    "polynomial_features = PolynomialFeatures(degree=1)\n",
    "variance_treshold = VarianceThreshold()\n",
    "linear_regression = LinearRegression()\n",
    "\n",
    "select_k_best = SelectKBest(k=len(features), score_func=f_regression)\n",
    "#polynomial_features = PolynomialFeatures(degree=2)\n",
    "steps=[\n",
    "        ('polynomial_feature', polynomial_features),\n",
    "        #('standard_scaler', standard_scaler),\n",
    "        ('variance_treshold',variance_treshold),\n",
    "        ('select_k_best',select_k_best),\n",
    "        ('linear_regression', linear_regression)\n",
    "]\n",
    "model_correction = Pipeline(steps=steps)\n",
    "model_correction.fit(X=X, y=y)   \n",
    "cv=5\n",
    "#cross_val_score(estimator=model,X=X,y=y,cv=cv).mean()\n",
    "scores = cross_validation.cross_validates(model=model_correction, data=data, features=features, \n",
    "                                          itterations=20)"
   ]
  },
  {
   "cell_type": "code",
   "execution_count": null,
   "metadata": {},
   "outputs": [],
   "source": [
    "scores"
   ]
  },
  {
   "cell_type": "code",
   "execution_count": null,
   "metadata": {},
   "outputs": [],
   "source": [
    "np.mean(scores)"
   ]
  },
  {
   "cell_type": "code",
   "execution_count": null,
   "metadata": {},
   "outputs": [],
   "source": [
    "np.std(scores)"
   ]
  },
  {
   "cell_type": "code",
   "execution_count": null,
   "metadata": {},
   "outputs": [],
   "source": [
    "fig=cross_validation.plot_validate(model=model_correction, data=data, features=features)"
   ]
  },
  {
   "cell_type": "code",
   "execution_count": null,
   "metadata": {},
   "outputs": [],
   "source": [
    "polynom_correction = Polynom(model=model_correction, columns=X.columns, y_symbol=symbols.B_e_hat)\n",
    "polynom_correction.fit(X=X, y=y)\n",
    "polynom_correction.equation"
   ]
  },
  {
   "cell_type": "code",
   "execution_count": null,
   "metadata": {},
   "outputs": [],
   "source": [
    "fig = plt.figure()\n",
    "gs = fig.add_gridspec(2,3)\n",
    "axes=[\n",
    "fig.add_subplot(gs[0, :]),\n",
    "fig.add_subplot(gs[1,0]),\n",
    "fig.add_subplot(gs[1,1]),\n",
    "fig.add_subplot(gs[1,2])    \n",
    "]\n",
    "\n",
    "r2s = []\n",
    "rms_corrected = []\n",
    "phi_as = np.deg2rad(np.linspace(0,10,20))\n",
    "for phi_a in phi_as:\n",
    "    \n",
    "    df=df_compare.copy()\n",
    "    df['B_e'] = run(function=lambdas.B_e_lambda, inputs=df, phi_a=phi_a)\n",
    "    df['B_e_hat'] = run(function=lambdas.B_e_hat_lambda, inputs=df, g=g, rho=rho)  \n",
    "    df['phi_a']=phi_a\n",
    "    df['B_e_hat_ikeda']=polynom_correction.predict(df[features])\n",
    "    r2s.append(r2_score(y_true=df['B_e_hat'], y_pred=df['B_e_hat_ikeda']))\n",
    "    rms_corrected.append(mean_squared_error(y_true=df['B_e_hat'], y_pred=df['B_e_hat_ikeda'], squared=False))\n",
    "    \n",
    "ax=axes[0]\n",
    "#ax.plot(np.rad2deg(phi_as), r2s)\n",
    "#ax.plot(np.rad2deg(phi_as), rms, label='SI')\n",
    "ax.plot(np.rad2deg(phi_as), rms_corrected, '--', label='SI-corrected')\n",
    "ax.legend()\n",
    "\n",
    "ax.set_xlabel('$\\phi_a$ [deg]')\n",
    "#ax.set_ylabel('$R^2(\\hat{B_e})$')\n",
    "ax.set_ylabel('$RMSE(\\hat{B_e})$')\n",
    "\n",
    "ax.grid()\n",
    "\n",
    "phi_as = np.deg2rad([0,5,10])\n",
    "\n",
    "for phi_a,ax in zip(phi_as,axes[1:]):\n",
    "    \n",
    "    df=df_compare.copy()\n",
    "    df['B_e'] = run(function=lambdas.B_e_lambda, inputs=df, phi_a=phi_a)\n",
    "    df['B_e_hat'] = run(function=lambdas.B_e_hat_lambda, inputs=df, g=g, rho=rho)  \n",
    "    df['phi_a']=phi_a\n",
    "    df['B_e_hat_ikeda']=polynom_correction.predict(df[features])\n",
    "    \n",
    "    x_=df['B_e_hat']\n",
    "    y_=df['B_e_hat_ikeda']\n",
    "    ax.plot(x_, y_, '.', alpha=0.5)\n",
    "    ax.set_title(label='$\\phi_a$:%0.0f deg' % np.rad2deg(phi_a))\n",
    "\n",
    "    ax.set_xlabel('$\\hat{B_e}$ (model test)')\n",
    "    \n",
    "    xlim = ax.get_xlim()\n",
    "    ylim = ax.get_ylim()\n",
    "    lim = np.max([xlim[1],ylim[1]])\n",
    "    ax.set_xlim(0,lim)\n",
    "    ax.set_ylim(0,lim)\n",
    "    ax.plot([0,lim],[0,lim],'r-')\n",
    "    ax.set_aspect('equal', 'box')\n",
    "    ax.grid(True)\n",
    "    ax.set_xlim(0,0.02)\n",
    "    ax.set_ylim(0,0.02)\n"
   ]
  },
  {
   "cell_type": "code",
   "execution_count": null,
   "metadata": {},
   "outputs": [],
   "source": [
    "equation_simple = significant_numbers(polynom_correction.equation, precision=4)\n",
    "equation_simple"
   ]
  },
  {
   "cell_type": "code",
   "execution_count": null,
   "metadata": {},
   "outputs": [],
   "source": [
    "polynom_simple = Polynom(model=model_correction, columns=X.columns, y_symbol=symbols.B_e_hat)\n",
    "polynom_simple.fit(X=X, y=y)\n",
    "polynom_simple.equation = equation_simple"
   ]
  },
  {
   "cell_type": "code",
   "execution_count": null,
   "metadata": {},
   "outputs": [],
   "source": [
    "polynom_simple.score(X=X, y=y)"
   ]
  },
  {
   "cell_type": "code",
   "execution_count": null,
   "metadata": {},
   "outputs": [],
   "source": [
    "name='polynom_correction'\n",
    "equation = pylatex_extenders.hatify(polynom_simple.equation)\n",
    "eq=pylatex_extenders.Equation(equation,label='eq:%s'%name)\n",
    "file_path = os.path.join(rolldecay.equations_path,name)\n",
    "eq.generate_tex(file_path)"
   ]
  },
  {
   "cell_type": "code",
   "execution_count": null,
   "metadata": {},
   "outputs": [],
   "source": [
    "equation"
   ]
  },
  {
   "cell_type": "code",
   "execution_count": null,
   "metadata": {},
   "outputs": [],
   "source": [
    "for symbol in equation.free_symbols:\n",
    "    pass"
   ]
  },
  {
   "cell_type": "code",
   "execution_count": null,
   "metadata": {},
   "outputs": [],
   "source": [
    "symbol.name"
   ]
  },
  {
   "cell_type": "code",
   "execution_count": null,
   "metadata": {},
   "outputs": [],
   "source": [
    "fig = plt.figure()\n",
    "gs = fig.add_gridspec(2,3)\n",
    "axes=[\n",
    "fig.add_subplot(gs[0, :]),\n",
    "fig.add_subplot(gs[1,0]),\n",
    "fig.add_subplot(gs[1,1]),\n",
    "fig.add_subplot(gs[1,2])    \n",
    "]\n",
    "\n",
    "r2s = []\n",
    "rms_corrected = []\n",
    "phi_as = np.deg2rad(np.linspace(0,10,20))\n",
    "for phi_a in phi_as:\n",
    "    \n",
    "    df=df_compare.copy()\n",
    "    df['B_e'] = run(function=lambdas.B_e_lambda, inputs=df, phi_a=phi_a)\n",
    "    df['B_e_hat'] = run(function=lambdas.B_e_hat_lambda, inputs=df, g=g, rho=rho)  \n",
    "    df['phi_a']=phi_a\n",
    "    df['B_e_hat_ikeda']=polynom_simple.predict(df[features])\n",
    "    r2s.append(r2_score(y_true=df['B_e_hat'], y_pred=df['B_e_hat_ikeda']))\n",
    "    rms_corrected.append(mean_squared_error(y_true=df['B_e_hat'], y_pred=df['B_e_hat_ikeda'], squared=False))\n",
    "\n",
    "    \n",
    "ax=axes[0]\n",
    "#ax.plot(np.rad2deg(phi_as), r2s)\n",
    "ax.plot(np.rad2deg(phi_as), rms_SI, label='SI')\n",
    "ax.plot(np.rad2deg(phi_as), rms_corrected, '--', label='SI-corrected')\n",
    "ax.legend()\n",
    "\n",
    "ax.set_xlabel('$\\phi_a$ [deg]')\n",
    "ax.set_ylabel('$RMSE(\\hat{B_e})$')\n",
    "ax.grid()\n",
    "\n",
    "phi_as = np.deg2rad([0,5,10])\n",
    "\n",
    "for phi_a,ax in zip(phi_as,axes[1:]):\n",
    "    \n",
    "    df=df_compare.copy()\n",
    "    df['B_e'] = run(function=lambdas.B_e_lambda, inputs=df, phi_a=phi_a)\n",
    "    df['B_e_hat'] = run(function=lambdas.B_e_hat_lambda, inputs=df, g=g, rho=rho)  \n",
    "    df['phi_a']=phi_a\n",
    "    df['B_e_hat_ikeda']=polynom_simple.predict(df[features])\n",
    "    \n",
    "    x_=df['B_e_hat']\n",
    "    y_=df['B_e_hat_ikeda']\n",
    "    ax.plot(x_, y_, '.', alpha=0.5)\n",
    "    ax.set_title(label='$\\phi_a$:%0.0f deg' % np.rad2deg(phi_a))\n",
    "\n",
    "    ax.set_xlabel('$\\hat{B_e}$ (model test)')\n",
    "    \n",
    "    xlim = ax.get_xlim()\n",
    "    ylim = ax.get_ylim()\n",
    "    lim = np.max([xlim[1],ylim[1]])\n",
    "    ax.set_xlim(0,lim)\n",
    "    ax.set_ylim(0,lim)\n",
    "    ax.plot([0,lim],[0,lim],'r-')\n",
    "    ax.set_aspect('equal', 'box')\n",
    "    ax.grid(True)\n",
    "    ax.set_xlim(0,0.02)\n",
    "    ax.set_ylim(0,0.02)\n",
    "\n",
    "axes[1].set_ylabel('$\\hat{B_e}$ (Simplified Ikeda)')\n",
    "plt.tight_layout()\n",
    "save_fig(fig, name='ikeda_corrected_phi_a')"
   ]
  },
  {
   "cell_type": "markdown",
   "metadata": {},
   "source": [
    "## Pure polynom ikeda parameters"
   ]
  },
  {
   "cell_type": "code",
   "execution_count": null,
   "metadata": {},
   "outputs": [],
   "source": [
    "ikeda_parameters = [\n",
    "        'beam',\n",
    "        'T',\n",
    "        'BK_L',\n",
    "        'BK_B',\n",
    "        'OG',\n",
    "        'omega0_hat',        \n",
    "        'C_b',\n",
    "        'A_0',\n",
    "        'V',\n",
    "        'phi_a',\n",
    "#        'B_L_HAT'\n",
    "]"
   ]
  },
  {
   "cell_type": "code",
   "execution_count": null,
   "metadata": {},
   "outputs": [],
   "source": [
    "variance_treshold = VarianceThreshold(0.000)\n",
    "#standard_scaler = StandardScaler()\n",
    "\n",
    "y = data['B_e_hat']\n",
    "X = data[ikeda_parameters]\n",
    "       \n",
    "polynomial_features = PolynomialFeatures(degree=2)\n",
    "linear_regression = LinearRegression()\n",
    "\n",
    "ks = np.arange(1,30,1)\n",
    "scores = []\n",
    "stds = []\n",
    "for k in ks:\n",
    "    select_k_best = SelectKBest(k=k, score_func=f_regression)\n",
    "    steps=[\n",
    "            ('polynomial_feature', polynomial_features),\n",
    "            #('standard_scaler', standard_scaler),\n",
    "            ('variance_treshold',variance_treshold),\n",
    "            ('select_k_best',select_k_best),\n",
    "            ('linear_regression', linear_regression)\n",
    "    ]\n",
    "    \n",
    "    model = Pipeline(steps=steps)\n",
    "    model.fit(X=X, y=y)\n",
    "    cv=5\n",
    "    score = cross_val_score(estimator=model,X=X,y=y,cv=cv).mean()\n",
    "    std = cross_val_score(estimator=model,X=X,y=y,cv=cv).std()\n",
    "    \n",
    "    scores.append(score)\n",
    "    stds.append(std)\n",
    "    \n",
    "scores = np.array(scores)\n",
    "stds = np.array(stds)"
   ]
  },
  {
   "cell_type": "code",
   "execution_count": null,
   "metadata": {},
   "outputs": [],
   "source": [
    "fig,ax = plt.subplots()\n",
    "ax.plot(ks,scores-stds,'.-')\n",
    "ax.plot(ks,scores,'.-')\n",
    "ax.plot(ks,scores+stds,'.-')"
   ]
  },
  {
   "cell_type": "code",
   "execution_count": null,
   "metadata": {},
   "outputs": [],
   "source": [
    "models_=data['model_number'].unique()\n",
    "models_\n",
    "np.random.shuffle(models_)"
   ]
  },
  {
   "cell_type": "code",
   "execution_count": null,
   "metadata": {},
   "outputs": [],
   "source": [
    "np.random.shuffle([[1,2]])"
   ]
  },
  {
   "cell_type": "code",
   "execution_count": null,
   "metadata": {},
   "outputs": [],
   "source": []
  },
  {
   "cell_type": "code",
   "execution_count": null,
   "metadata": {},
   "outputs": [],
   "source": [
    "np.random.seed(seed=0)\n",
    "scores = cross_validation.cross_validate(model=model, data=data, features=ikeda_parameters)"
   ]
  },
  {
   "cell_type": "code",
   "execution_count": null,
   "metadata": {},
   "outputs": [],
   "source": [
    "scores"
   ]
  },
  {
   "cell_type": "code",
   "execution_count": null,
   "metadata": {},
   "outputs": [],
   "source": [
    "np.random.seed(seed=0)\n",
    "scores = cross_validation.cross_validates(model=model, data=data, features=ikeda_parameters, itterations=10)\n",
    "scores"
   ]
  },
  {
   "cell_type": "code",
   "execution_count": null,
   "metadata": {},
   "outputs": [],
   "source": [
    "variance_treshold = VarianceThreshold(0.000)\n",
    "np.random.seed(seed=0)\n",
    "#standard_scaler = StandardScaler()\n",
    "\n",
    "y = data['B_e_hat']\n",
    "X = data[ikeda_parameters]\n",
    "       \n",
    "polynomial_features = PolynomialFeatures(degree=2)\n",
    "linear_regression = LinearRegression()\n",
    "\n",
    "ks = np.arange(1,20,1)\n",
    "scores = []\n",
    "stds = []\n",
    "for k in ks:\n",
    "    select_k_best = SelectKBest(k=k, score_func=f_regression)\n",
    "    steps=[\n",
    "            ('polynomial_feature', polynomial_features),\n",
    "            #('standard_scaler', standard_scaler),\n",
    "            ('variance_treshold',variance_treshold),\n",
    "            ('select_k_best',select_k_best),\n",
    "            ('linear_regression', linear_regression)\n",
    "    ]\n",
    "    \n",
    "    model = Pipeline(steps=steps)\n",
    "    model.fit(X=X, y=y)\n",
    "    cv=5\n",
    "    scores_ = cross_validation.cross_validates(model=model, data=data, features=ikeda_parameters, \n",
    "                                               itterations=20) \n",
    "    score = np.mean(scores_.flatten())\n",
    "    std = np.std(scores_.flatten())\n",
    "    scores.append(score)\n",
    "    stds.append(std)\n",
    "    \n",
    "scores = np.array(scores)\n",
    "stds = np.array(stds)"
   ]
  },
  {
   "cell_type": "code",
   "execution_count": null,
   "metadata": {},
   "outputs": [],
   "source": [
    "fig,ax = plt.subplots()\n",
    "#ax.set_xlim(0,22)\n",
    "ax.plot(ks,scores-stds,'.-')\n",
    "ax.plot(ks,scores,'.-')\n",
    "ax.plot(ks,scores+stds,'.-')\n",
    "ax.grid()"
   ]
  },
  {
   "cell_type": "code",
   "execution_count": null,
   "metadata": {},
   "outputs": [],
   "source": [
    "select_k_best = SelectKBest(k=12, score_func=f_regression)\n",
    "steps=[\n",
    "        ('polynomial_feature', polynomial_features),\n",
    "        #('standard_scaler', standard_scaler),\n",
    "        ('variance_treshold',variance_treshold),\n",
    "        ('select_k_best',select_k_best),\n",
    "        ('linear_regression', linear_regression)\n",
    "]\n",
    "\n",
    "model_complex = Pipeline(steps=steps)\n",
    "X=data[ikeda_parameters]\n",
    "y=data['B_e_hat']\n",
    "model_complex.fit(X=X, y=y)"
   ]
  },
  {
   "cell_type": "code",
   "execution_count": null,
   "metadata": {},
   "outputs": [],
   "source": [
    "scores = cross_validation.cross_validates(model=model_complex, data=data, features=ikeda_parameters, \n",
    "                                          itterations=20)\n",
    "scores"
   ]
  },
  {
   "cell_type": "code",
   "execution_count": null,
   "metadata": {},
   "outputs": [],
   "source": [
    "np.mean(scores)"
   ]
  },
  {
   "cell_type": "code",
   "execution_count": null,
   "metadata": {},
   "outputs": [],
   "source": [
    "np.std(scores)"
   ]
  },
  {
   "cell_type": "code",
   "execution_count": null,
   "metadata": {},
   "outputs": [],
   "source": [
    "fig=cross_validation.plot_validate(model=model_complex, data=data, features=ikeda_parameters)"
   ]
  },
  {
   "cell_type": "code",
   "execution_count": null,
   "metadata": {},
   "outputs": [],
   "source": [
    "polynom_pure_complex = Polynom(model=model_complex, columns=X.columns, y_symbol=symbols.B_e_hat)\n",
    "polynom_pure_complex.fit(X=X, y=y)\n",
    "polynom_pure_complex.equation"
   ]
  },
  {
   "cell_type": "code",
   "execution_count": null,
   "metadata": {},
   "outputs": [],
   "source": [
    "equation_pure_complex_simple = significant_numbers(polynom_pure_complex.equation, precision=4)\n",
    "equation_pure_complex_simple"
   ]
  },
  {
   "cell_type": "code",
   "execution_count": null,
   "metadata": {},
   "outputs": [],
   "source": [
    "polynom_pure_complex_simple = Polynom(model=model_complex, columns=X.columns, y_symbol=symbols.B_e_hat)\n",
    "polynom_pure_complex_simple.fit(X=X, y=y)\n",
    "polynom_pure_complex_simple.equation = equation_pure_complex_simple"
   ]
  },
  {
   "cell_type": "code",
   "execution_count": null,
   "metadata": {},
   "outputs": [],
   "source": [
    "polynom_pure_complex.score(X=X, y=y)"
   ]
  },
  {
   "cell_type": "code",
   "execution_count": null,
   "metadata": {},
   "outputs": [],
   "source": [
    "polynom_pure_complex_simple.score(X=X, y=y)"
   ]
  },
  {
   "cell_type": "code",
   "execution_count": null,
   "metadata": {},
   "outputs": [],
   "source": [
    "name='polynom_complex'\n",
    "equation = pylatex_extenders.hatify(polynom_pure_complex_simple.equation)\n",
    "eq=pylatex_extenders.Multiline(equation,label='eq:%s'%name)\n",
    "file_path = os.path.join(rolldecay.equations_path,name)\n",
    "eq.generate_tex(file_path)"
   ]
  },
  {
   "cell_type": "code",
   "execution_count": null,
   "metadata": {},
   "outputs": [],
   "source": [
    "select_k_best = SelectKBest(k=8, score_func=f_regression)\n",
    "steps=[\n",
    "        ('polynomial_feature', polynomial_features),\n",
    "        #('standard_scaler', standard_scaler),\n",
    "        ('variance_treshold',variance_treshold),\n",
    "        ('select_k_best',select_k_best),\n",
    "        ('linear_regression', linear_regression)\n",
    "]\n",
    "\n",
    "model_simple = Pipeline(steps=steps)\n",
    "X=data[ikeda_parameters]\n",
    "y=data['B_e_hat']\n",
    "model_simple.fit(X=X, y=y)"
   ]
  },
  {
   "cell_type": "code",
   "execution_count": null,
   "metadata": {},
   "outputs": [],
   "source": [
    "scores = cross_validation.cross_validates(model=model_simple, data=data, features=ikeda_parameters,\n",
    "                                          itterations=40)\n",
    "scores"
   ]
  },
  {
   "cell_type": "code",
   "execution_count": null,
   "metadata": {},
   "outputs": [],
   "source": [
    "np.mean(scores)"
   ]
  },
  {
   "cell_type": "code",
   "execution_count": null,
   "metadata": {},
   "outputs": [],
   "source": [
    "fig=cross_validation.plot_validate(model=model_simple, data=data, features=ikeda_parameters)"
   ]
  },
  {
   "cell_type": "code",
   "execution_count": null,
   "metadata": {},
   "outputs": [],
   "source": [
    "polynom_pure_simple = Polynom(model=model_simple, columns=X.columns, y_symbol=symbols.B_e_hat)\n",
    "polynom_pure_simple.fit(X=X, y=y)\n",
    "polynom_pure_simple.equation"
   ]
  },
  {
   "cell_type": "markdown",
   "metadata": {},
   "source": [
    "## Cross validation"
   ]
  },
  {
   "cell_type": "markdown",
   "metadata": {},
   "source": [
    "### Uncorrected"
   ]
  },
  {
   "cell_type": "code",
   "execution_count": null,
   "metadata": {},
   "outputs": [],
   "source": [
    "from sklearn.model_selection import KFold\n",
    "kf = KFold(n_splits=5)"
   ]
  },
  {
   "cell_type": "code",
   "execution_count": null,
   "metadata": {},
   "outputs": [],
   "source": [
    "scores_w=[]\n",
    "for train_index, test_index in kf.split(data):\n",
    "\n",
    "    #X_train, X_test = X.iloc[train_index], X.iloc[test_index]\n",
    "    X2_test = data.iloc[test_index]\n",
    "    y_true=X2_test['B_e_hat']\n",
    "    y_pred=X2_test['B_e_hat_ikeda']\n",
    "    score = r2_score(y_true=y_true, y_pred=y_pred)\n",
    "    scores_w.append(score)\n",
    "    \n",
    "np.mean(scores_w)  "
   ]
  },
  {
   "cell_type": "code",
   "execution_count": null,
   "metadata": {},
   "outputs": [],
   "source": [
    "r2_uncorrected = r2_score(y_true=data['B_e_hat'], y_pred=data['B_e_hat_ikeda'])\n",
    "r2_uncorrected"
   ]
  },
  {
   "cell_type": "markdown",
   "metadata": {},
   "source": [
    "## Correction"
   ]
  },
  {
   "cell_type": "code",
   "execution_count": null,
   "metadata": {},
   "outputs": [],
   "source": [
    "np.random.seed(seed=0)\n",
    "scores_correction = cross_validation.cross_validates(model=model_correction, data=data, features=features, \n",
    "                                          itterations=20)"
   ]
  },
  {
   "cell_type": "code",
   "execution_count": null,
   "metadata": {},
   "outputs": [],
   "source": [
    "r2_correction = np.mean(scores_correction)\n",
    "r2_correction"
   ]
  },
  {
   "cell_type": "code",
   "execution_count": null,
   "metadata": {},
   "outputs": [],
   "source": [
    "np.std(scores_correction)"
   ]
  },
  {
   "cell_type": "markdown",
   "metadata": {},
   "source": [
    "## Polynom complex"
   ]
  },
  {
   "cell_type": "code",
   "execution_count": null,
   "metadata": {},
   "outputs": [],
   "source": [
    "np.random.seed(seed=0)\n",
    "scores_polynom = cross_validation.cross_validates(model=model_complex, data=data, features=ikeda_parameters, \n",
    "                                          itterations=20)"
   ]
  },
  {
   "cell_type": "code",
   "execution_count": null,
   "metadata": {},
   "outputs": [],
   "source": [
    "r2_polynom = np.mean(scores_polynom)\n",
    "r2_polynom"
   ]
  },
  {
   "cell_type": "code",
   "execution_count": null,
   "metadata": {},
   "outputs": [],
   "source": [
    "fig,ax=plt.subplots()\n",
    "ax.plot(data[labels],data['B_e_hat_ikeda'], '.', label='Simplified Ikeda', alpha=0.8)\n",
    "ax.plot(y,polynom_simple.predict(data), 'x', label='SI-corrected', alpha=0.7)\n",
    "ax.plot(y,polynom_pure_complex.predict(data), '+', label='Polynomial', alpha=0.5)\n",
    "\n",
    "\n",
    "#ax.plot(y,polynom_pure_simple.predict(X), '+', label='simple',alpha=0.5)\n",
    "\n",
    "\n",
    "ax.set_xlabel('$\\hat{B_e}$ (model test)')\n",
    "ax.set_ylabel('$\\hat{B_e}$ (Simplified Ikeda)')\n",
    "\n",
    "xlim = ax.get_xlim()\n",
    "ylim = ax.get_ylim()\n",
    "lim = np.max([xlim[1],ylim[1]])\n",
    "ax.set_xlim(0,lim)\n",
    "ax.set_ylim(0,lim)\n",
    "ax.plot([0,lim],[0,lim],'r-')\n",
    "ax.set_aspect('equal', 'box')\n",
    "ax.legend()\n",
    "ax.grid(True)"
   ]
  },
  {
   "cell_type": "code",
   "execution_count": null,
   "metadata": {},
   "outputs": [],
   "source": [
    "mean_='$mean(R^2)$'\n",
    "std_='$std(R^2)$'\n",
    "\n",
    "df_cross_validation = pd.DataFrame(columns=[mean_, std_])\n",
    "df_cross_validation.index.name='model'\n",
    "\n",
    "s = pd.Series(name='Simplified Ikeda')\n",
    "s[mean_] = r2_uncorrected\n",
    "df_cross_validation=df_cross_validation.append(s)\n",
    "\n",
    "s = pd.Series(name='Simplified Ikeda corrected')\n",
    "s[mean_] = np.mean(scores_correction)\n",
    "s[std_] = np.std(scores_correction)\n",
    "df_cross_validation=df_cross_validation.append(s)\n",
    "\n",
    "s = pd.Series(name='New regression')\n",
    "s[mean_] = np.mean(scores_polynom)\n",
    "s[std_] = np.std(scores_polynom)\n",
    "df_cross_validation=df_cross_validation.append(s)\n",
    "\n"
   ]
  },
  {
   "cell_type": "code",
   "execution_count": null,
   "metadata": {},
   "outputs": [],
   "source": [
    "df_cross_validation"
   ]
  },
  {
   "cell_type": "code",
   "execution_count": null,
   "metadata": {},
   "outputs": [],
   "source": [
    "latex = df_cross_validation.to_latex(float_format='%0.2f', na_rep='')\n",
    "name='cross_validation'\n",
    "file_path = os.path.join(rolldecay.equations_path,name)\n",
    "\n",
    "# (Uncomment this one if you want to regenerate this table)\n",
    "#save_table(file_path=file_path, tabular_tex=latex, label='tab:crossvalidation', \n",
    "#           caption='Statistics from cross validations with all models')\n"
   ]
  },
  {
   "cell_type": "code",
   "execution_count": null,
   "metadata": {},
   "outputs": [],
   "source": []
  },
  {
   "cell_type": "code",
   "execution_count": null,
   "metadata": {},
   "outputs": [],
   "source": [
    "df_rolldecay['date'].min()"
   ]
  },
  {
   "cell_type": "code",
   "execution_count": null,
   "metadata": {},
   "outputs": [],
   "source": [
    "df_rolldecay['date'].max()"
   ]
  },
  {
   "cell_type": "code",
   "execution_count": null,
   "metadata": {},
   "outputs": [],
   "source": [
    "polynom_pure_complex.save('polynom_complex')"
   ]
  },
  {
   "cell_type": "code",
   "execution_count": null,
   "metadata": {},
   "outputs": [],
   "source": []
  }
 ],
 "metadata": {
  "kernelspec": {
   "display_name": "Python 3",
   "language": "python",
   "name": "python3"
  },
  "language_info": {
   "codemirror_mode": {
    "name": "ipython",
    "version": 3
   },
   "file_extension": ".py",
   "mimetype": "text/x-python",
   "name": "python",
   "nbconvert_exporter": "python",
   "pygments_lexer": "ipython3",
   "version": "3.5.4"
  }
 },
 "nbformat": 4,
 "nbformat_minor": 4
}
