{
 "cells": [
  {
   "cell_type": "markdown",
   "metadata": {},
   "source": [
    "## SI corrector box"
   ]
  },
  {
   "cell_type": "code",
   "execution_count": null,
   "metadata": {},
   "outputs": [],
   "source": [
    "%matplotlib notebook\n",
    "%load_ext autoreload\n",
    "%autoreload 2"
   ]
  },
  {
   "cell_type": "code",
   "execution_count": null,
   "metadata": {},
   "outputs": [],
   "source": [
    "import pandas as pd\n",
    "pd.options.display.max_rows = 999\n",
    "pd.options.display.max_columns = 999\n",
    "pd.set_option(\"display.max_columns\", None)\n",
    "import numpy as np\n",
    "import os\n",
    "import matplotlib.pyplot as plt\n",
    "#plt.style.use('paper')\n",
    "\n",
    "#import data\n",
    "import copy\n",
    "from rolldecay.bis_system import BisSystem\n",
    "from rolldecay import database\n",
    "\n",
    "import rolldecayestimators.lambdas as lambdas\n",
    "from rolldecayestimators.substitute_dynamic_symbols import run, lambdify, significant_numbers\n",
    "from rolldecayestimators.ikeda_estimator import IkedaQuadraticEstimator\n",
    "\n",
    "from rolldecay.paper_writing import save_fig\n",
    "from rolldecay.froude_scaling import froude_scale\n",
    "from sklearn.metrics import r2_score\n",
    "from sklearn.model_selection import train_test_split\n",
    "from latex_helpers import pylatex_extenders\n",
    "import rolldecay\n",
    "from rolldecay.paper_writing import save_fig\n",
    "import rolldecayestimators.simplified_ikeda as si\n",
    "import rolldecayestimators.sensitivity as sensitivity\n",
    "\n",
    "from sklearn.linear_model import LinearRegression\n",
    "from sklearn.preprocessing import PolynomialFeatures\n",
    "from sklearn.pipeline import Pipeline\n",
    "from rolldecayestimators.polynom_estimator import Polynom\n",
    "from rolldecayestimators import symbols\n",
    "\n",
    "from sklearn.model_selection import cross_val_score\n",
    "from sklearn.model_selection import train_test_split\n",
    "from sklearn.preprocessing import StandardScaler\n",
    "from sklearn.feature_selection import VarianceThreshold\n",
    "from sklearn.ensemble import ExtraTreesClassifier\n",
    "from sklearn.feature_selection import SelectKBest\n",
    "from sklearn.feature_selection import chi2\n",
    "from sklearn.feature_selection import f_regression\n",
    "\n",
    "from sklearn.linear_model import LinearRegression\n",
    "from sklearn.linear_model import Ridge\n",
    "from sklearn.linear_model import Lasso\n",
    "\n",
    "from sklearn.model_selection import cross_validate"
   ]
  },
  {
   "cell_type": "code",
   "execution_count": null,
   "metadata": {},
   "outputs": [],
   "source": [
    "db = database.get_db()"
   ]
  },
  {
   "cell_type": "code",
   "execution_count": null,
   "metadata": {},
   "outputs": [],
   "source": [
    "df_ikeda = database.load(rolldecay_table_name='rolldecay_simplified_ikeda', limit_score=0.5, \n",
    "                             exclude_table_name='rolldecay_exclude')\n",
    "\n",
    "df_rolldecay = database.load(rolldecay_table_name='rolldecay_quadratic_b', limit_score=0.9, \n",
    "                             exclude_table_name='rolldecay_exclude')\n",
    "\n",
    "df_rolldecay['ship_speed']*=1.852/3.6\n",
    "df_ikeda['ship_speed']*=1.852/3.6\n",
    "\n",
    "description = pd.read_sql_table('description', con=db.engine, index_col='id')\n",
    "description.loc['ship_speed','unit']='m/s'\n",
    "description.loc['VDES','unit']='m/s'\n",
    "description.loc['Disp'] = {'description':'Ship discplacement','unit':'m3'}\n",
    "\n",
    "T_f=df_rolldecay['TF']\n",
    "T_a=df_rolldecay['TA']\n",
    "L_pp=df_rolldecay['lpp']\n",
    "df_rolldecay['trim']=np.arctan((T_a-T_f)/L_pp)\n",
    "mask = df_rolldecay['trim'].abs() < np.deg2rad(0.3)\n",
    "df_rolldecay=df_rolldecay.loc[mask].copy()\n",
    "\n",
    "df_ikeda['Disp']=df_ikeda['Volume']\n",
    "df_rolldecay['Disp']=df_rolldecay['Volume']\n",
    "\n",
    "skip=[]\n",
    "df_ikeda = froude_scale(data=df_ikeda, description=description, skip=skip)\n",
    "df_rolldecay = froude_scale(data=df_rolldecay, description=description, skip=skip)\n",
    "\n",
    "phi_a = np.deg2rad(3)\n",
    "#phi_a = df_rolldecay['phi_start'].abs()\n",
    "#phi_a=np.deg2rad(3.5)\n",
    "\n",
    "g = 9.81\n",
    "rho=1000\n",
    "df_ikeda['B_e'] = run(function=lambdas.B_e_lambda, inputs=df_ikeda, phi_a=phi_a)\n",
    "df_ikeda['B_e_hat'] = run(function=lambdas.B_e_hat_lambda, inputs=df_ikeda, g=g, rho=rho)\n",
    "df_rolldecay['B_e'] = run(function=lambdas.B_e_lambda, inputs=df_rolldecay, phi_a=phi_a)\n",
    "df_rolldecay['B_e_hat'] = run(function=lambdas.B_e_hat_lambda, inputs=df_rolldecay, g=g, rho=rho)\n",
    "\n",
    "df_rolldecay['omega0_hat'] = run(function=lambdas.omega0_lambda, inputs=df_rolldecay, g=g)\n",
    "df_ikeda['omega0_hat'] = run(function=lambdas.omega0_lambda, inputs=df_ikeda, g=g)\n",
    "\n",
    "df_ikeda['scale_factor']=df_ikeda['lpp']\n",
    "df_ikeda = froude_scale(data=df_ikeda, description=description, skip=skip)\n",
    "df_rolldecay['scale_factor']=df_rolldecay['lpp']\n",
    "df_rolldecay = froude_scale(data=df_rolldecay, description=description, skip=skip)"
   ]
  },
  {
   "cell_type": "code",
   "execution_count": null,
   "metadata": {},
   "outputs": [],
   "source": [
    "df_compare = pd.merge(left=df_rolldecay, right=df_ikeda, how = 'inner',left_index=True, right_index=True,\n",
    "                      suffixes=('','_ikeda'))\n",
    "\n",
    "df_compare['error'] = df_compare['B_e_hat']-df_compare['B_e_hat_ikeda']"
   ]
  },
  {
   "cell_type": "code",
   "execution_count": null,
   "metadata": {},
   "outputs": [],
   "source": [
    "fig,ax=plt.subplots()\n",
    "x=df_compare['B_e_hat']\n",
    "y=df_compare['B_e_hat_ikeda']\n",
    "ax.plot(x, y, '.', alpha=0.5, label='limited')\n",
    "\n",
    "ax.set_xlabel('$\\hat{B_e}$ (model test)')\n",
    "ax.set_ylabel('$\\hat{B_e}$ (Simplified Ikeda)')\n",
    "\n",
    "xlim = ax.get_xlim()\n",
    "ylim = ax.get_ylim()\n",
    "lim = np.max([xlim[1],ylim[1]])\n",
    "ax.set_xlim(0,lim)\n",
    "ax.set_ylim(0,lim)\n",
    "ax.plot([0,lim],[0,lim],'r-')\n",
    "ax.set_aspect('equal', 'box')\n",
    "ax.legend()\n",
    "ax.grid(True)"
   ]
  },
  {
   "cell_type": "code",
   "execution_count": null,
   "metadata": {},
   "outputs": [],
   "source": [
    "r2_score(y_true=df_compare['B_e_hat'], y_pred=df_compare['B_e_hat_ikeda'])"
   ]
  },
  {
   "cell_type": "markdown",
   "metadata": {},
   "source": [
    "## SI corrector box"
   ]
  },
  {
   "cell_type": "code",
   "execution_count": null,
   "metadata": {},
   "outputs": [],
   "source": [
    "features = ['B_W_HAT','B_F_HAT','B_BK_HAT','B_E_HAT','B_L_HAT']\n",
    "labels = ['B_e_hat']\n",
    "X = df_compare[features+labels].copy()\n",
    "X.dropna(inplace=True)"
   ]
  },
  {
   "cell_type": "code",
   "execution_count": null,
   "metadata": {},
   "outputs": [],
   "source": [
    "train_dataset = X.sample(frac=0.8,random_state=0)\n",
    "test_dataset = X.drop(train_dataset.index)"
   ]
  },
  {
   "cell_type": "markdown",
   "metadata": {},
   "source": [
    "## Split features from labels\n",
    "Separate the target value, or \"label\", from the features. This label is the value that you will train the model to predict."
   ]
  },
  {
   "cell_type": "code",
   "execution_count": null,
   "metadata": {},
   "outputs": [],
   "source": [
    "train_labels = train_dataset.pop(labels[0])\n",
    "test_labels = test_dataset.pop(labels[0])"
   ]
  },
  {
   "cell_type": "code",
   "execution_count": null,
   "metadata": {},
   "outputs": [],
   "source": [
    "train_stats = train_dataset.describe()\n",
    "train_stats = train_stats.transpose()\n",
    "train_stats"
   ]
  },
  {
   "cell_type": "code",
   "execution_count": null,
   "metadata": {},
   "outputs": [],
   "source": [
    "def norm(x):\n",
    "  return (x - train_stats['mean']) / train_stats['std']\n",
    "\n",
    "normed_train_data = norm(train_dataset)\n",
    "normed_test_data = norm(test_dataset)\n",
    "\n",
    "X = df_compare[features+labels].copy()\n",
    "X.dropna(inplace=True)\n",
    "y = X.pop(labels[0])\n",
    "X=norm(X)"
   ]
  },
  {
   "cell_type": "code",
   "execution_count": null,
   "metadata": {},
   "outputs": [],
   "source": [
    "polynomial_features = PolynomialFeatures(degree=2)\n",
    "variance_treshold = VarianceThreshold()\n",
    "linear_regression = LinearRegression()"
   ]
  },
  {
   "cell_type": "code",
   "execution_count": null,
   "metadata": {},
   "outputs": [],
   "source": [
    "cv=5\n",
    "\n",
    "ks = np.arange(1,11,1)\n",
    "scores = []\n",
    "stds = []\n",
    "for k in ks:\n",
    "    select_k_best = SelectKBest(k=k, score_func=f_regression)\n",
    "    steps=[\n",
    "            ('polynomial_feature', polynomial_features),\n",
    "            #('standard_scaler', standard_scaler),\n",
    "            ('variance_treshold',variance_treshold),\n",
    "            ('select_k_best',select_k_best),\n",
    "            ('linear_regression', linear_regression)\n",
    "    ]\n",
    "    \n",
    "    model = Pipeline(steps=steps)\n",
    "    model.fit(X=X, y=y)\n",
    "    cv=5\n",
    "    score = cross_val_score(estimator=model,X=X,y=y,cv=cv).mean()\n",
    "    std = cross_val_score(estimator=model,X=X,y=y,cv=cv).std()\n",
    "    \n",
    "    scores.append(score)\n",
    "    stds.append(std)\n",
    "    \n",
    "scores = np.array(scores)\n",
    "stds = np.array(stds)\n"
   ]
  },
  {
   "cell_type": "code",
   "execution_count": null,
   "metadata": {},
   "outputs": [],
   "source": [
    "fig,ax = plt.subplots()\n",
    "ax.plot(ks,scores-stds,'.-')\n",
    "ax.plot(ks,scores,'.-')\n",
    "ax.plot(ks,scores+stds,'.-')"
   ]
  },
  {
   "cell_type": "code",
   "execution_count": null,
   "metadata": {},
   "outputs": [],
   "source": [
    "select_k_best = SelectKBest(k=4, score_func=f_regression)\n",
    "polynomial_features = PolynomialFeatures(degree=2)\n",
    "steps=[\n",
    "        ('polynomial_feature', polynomial_features),\n",
    "        #('standard_scaler', standard_scaler),\n",
    "        ('variance_treshold',variance_treshold),\n",
    "        ('select_k_best',select_k_best),\n",
    "        ('linear_regression', linear_regression)\n",
    "]\n",
    "model = Pipeline(steps=steps)\n",
    "model.fit(X=X, y=y)"
   ]
  },
  {
   "cell_type": "code",
   "execution_count": null,
   "metadata": {},
   "outputs": [],
   "source": [
    "cross_val_score(estimator=model,X=X,y=y,cv=cv).mean()"
   ]
  },
  {
   "cell_type": "code",
   "execution_count": null,
   "metadata": {},
   "outputs": [],
   "source": [
    "polynomial_features = PolynomialFeatures(degree=1)\n",
    "select_k_best = SelectKBest(k=len(features), score_func=f_regression)\n",
    "steps=[\n",
    "        ('polynomial_feature', polynomial_features),\n",
    "        #('standard_scaler', standard_scaler),\n",
    "        ('variance_treshold',variance_treshold),\n",
    "        ('select_k_best',select_k_best),\n",
    "        ('linear_regression', linear_regression)\n",
    "]\n",
    "model = Pipeline(steps=steps)\n",
    "model.fit(X=X, y=y)"
   ]
  },
  {
   "cell_type": "code",
   "execution_count": null,
   "metadata": {},
   "outputs": [],
   "source": [
    "cross_val_score(estimator=model,X=X,y=y,cv=cv).mean()"
   ]
  },
  {
   "cell_type": "code",
   "execution_count": null,
   "metadata": {},
   "outputs": [],
   "source": [
    "ridge_regression = Ridge()\n",
    "lasso_regression = Lasso()"
   ]
  },
  {
   "cell_type": "code",
   "execution_count": null,
   "metadata": {},
   "outputs": [],
   "source": [
    "polynomial_features = PolynomialFeatures(degree=1)\n",
    "select_k_best = SelectKBest(k=len(features), score_func=f_regression)\n",
    "steps=[\n",
    "        ('polynomial_feature', polynomial_features),\n",
    "        #('standard_scaler', standard_scaler),\n",
    "        ('variance_treshold',variance_treshold),\n",
    "        ('select_k_best',select_k_best),\n",
    "        ('linear_regression', linear_regression)\n",
    "]\n",
    "model = Pipeline(steps=steps)\n",
    "model.fit(X=X, y=y)"
   ]
  },
  {
   "cell_type": "code",
   "execution_count": null,
   "metadata": {},
   "outputs": [],
   "source": [
    "cross_val_score(estimator=model,X=X,y=y,cv=cv).mean()"
   ]
  },
  {
   "cell_type": "code",
   "execution_count": null,
   "metadata": {},
   "outputs": [],
   "source": [
    "df = df_compare[features+labels].dropna()\n",
    "X_ = df[features]\n",
    "y_ = df[labels[0]]\n"
   ]
  },
  {
   "cell_type": "code",
   "execution_count": null,
   "metadata": {},
   "outputs": [],
   "source": [
    "model.fit(X=X_, y=y_)"
   ]
  },
  {
   "cell_type": "code",
   "execution_count": null,
   "metadata": {},
   "outputs": [],
   "source": [
    "model.score(X=X_, y=y_)"
   ]
  },
  {
   "cell_type": "code",
   "execution_count": null,
   "metadata": {},
   "outputs": [],
   "source": [
    "fig,ax=plt.subplots()\n",
    "ax.plot(y_,model.predict(X_), '.', label='improved')\n",
    "ax.plot(df_compare[labels],df_compare['B_e_hat_ikeda'], 'x', label='Simplified Ikeda')\n",
    "\n",
    "\n",
    "ax.set_xlabel('$\\hat{B_e}$ (model test)')\n",
    "ax.set_ylabel('$\\hat{B_e}$ (Simplified Ikeda)')\n",
    "\n",
    "xlim = ax.get_xlim()\n",
    "ylim = ax.get_ylim()\n",
    "lim = np.max([xlim[1],ylim[1]])\n",
    "ax.set_xlim(0,lim)\n",
    "ax.set_ylim(0,lim)\n",
    "ax.plot([0,lim],[0,lim],'r-')\n",
    "ax.set_aspect('equal', 'box')\n",
    "ax.legend()\n",
    "ax.grid(True)"
   ]
  },
  {
   "cell_type": "code",
   "execution_count": null,
   "metadata": {},
   "outputs": [],
   "source": [
    "polynom = Polynom(model=model, columns=X_.columns, y_symbol=symbols.B_e_hat)\n",
    "polynom.fit(X=X_, y=y_)\n",
    "polynom.equation"
   ]
  },
  {
   "cell_type": "code",
   "execution_count": null,
   "metadata": {},
   "outputs": [],
   "source": [
    "polynom.score(X=X_,y=y_)"
   ]
  }
 ],
 "metadata": {
  "kernelspec": {
   "display_name": "Python 3",
   "language": "python",
   "name": "python3"
  },
  "language_info": {
   "codemirror_mode": {
    "name": "ipython",
    "version": 3
   },
   "file_extension": ".py",
   "mimetype": "text/x-python",
   "name": "python",
   "nbconvert_exporter": "python",
   "pygments_lexer": "ipython3",
   "version": "3.5.4"
  }
 },
 "nbformat": 4,
 "nbformat_minor": 4
}
