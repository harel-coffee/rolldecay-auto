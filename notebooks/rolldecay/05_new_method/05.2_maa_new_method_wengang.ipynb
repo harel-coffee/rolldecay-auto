{
 "cells": [
  {
   "cell_type": "markdown",
   "metadata": {},
   "source": [
    "## This a preview of how the \"new regression\" was developed."
   ]
  },
  {
   "cell_type": "code",
   "execution_count": null,
   "metadata": {},
   "outputs": [],
   "source": [
    "%matplotlib notebook\n",
    "%load_ext autoreload\n",
    "%autoreload 2"
   ]
  },
  {
   "cell_type": "code",
   "execution_count": null,
   "metadata": {},
   "outputs": [],
   "source": [
    "import pandas as pd\n",
    "pd.options.display.max_rows = 999\n",
    "pd.options.display.max_columns = 999\n",
    "pd.set_option(\"display.max_columns\", None)\n",
    "import numpy as np\n",
    "import os\n",
    "import matplotlib.pyplot as plt\n",
    "\n",
    "# Own stuff:\n",
    "from rolldecayestimators.polynom_estimator import Polynom\n",
    "from rolldecayestimators import symbols\n",
    "from rolldecayestimators import cross_validation\n",
    "from rolldecayestimators.substitute_dynamic_symbols import run, lambdify, significant_numbers\n",
    "\n",
    "\n",
    "# Scikit-learn:\n",
    "from sklearn.feature_selection import VarianceThreshold\n",
    "from sklearn.linear_model import LinearRegression\n",
    "from sklearn.preprocessing import PolynomialFeatures\n",
    "from sklearn.pipeline import Pipeline\n",
    "from sklearn.feature_selection import SelectKBest\n",
    "from sklearn.feature_selection import f_regression\n",
    "from sklearn.model_selection import cross_val_score"
   ]
  },
  {
   "cell_type": "markdown",
   "metadata": {},
   "source": [
    "## Pure polynom ikeda parameters"
   ]
  },
  {
   "cell_type": "code",
   "execution_count": null,
   "metadata": {},
   "outputs": [],
   "source": [
    "ikeda_parameters = [\n",
    "        'beam',\n",
    "        'T',\n",
    "        'BK_L',\n",
    "        'BK_B',\n",
    "        'OG',\n",
    "        'omega0_hat',        \n",
    "        'C_b',\n",
    "        'A_0',\n",
    "        'V',\n",
    "        'phi_a',\n",
    "#        'B_L_HAT'\n",
    "]"
   ]
  },
  {
   "cell_type": "code",
   "execution_count": null,
   "metadata": {},
   "outputs": [],
   "source": [
    "data = pd.read_csv('data_new_method.csv', sep=';', index_col=0)\n",
    "data.head()"
   ]
  },
  {
   "cell_type": "code",
   "execution_count": null,
   "metadata": {},
   "outputs": [],
   "source": [
    "variance_treshold = VarianceThreshold(0.000)\n",
    "np.random.seed(seed=0)\n",
    "#standard_scaler = StandardScaler()\n",
    "\n",
    "y = data['B_e_hat']\n",
    "X = data[ikeda_parameters]\n",
    "       \n",
    "polynomial_features = PolynomialFeatures(degree=2)\n",
    "linear_regression = LinearRegression()\n",
    "\n",
    "ks = np.arange(1,20,1)\n",
    "scores = []\n",
    "stds = []\n",
    "for k in ks:\n",
    "    select_k_best = SelectKBest(k=k, score_func=f_regression)\n",
    "    steps=[\n",
    "            ('polynomial_feature', polynomial_features),\n",
    "            #('standard_scaler', standard_scaler),\n",
    "            ('variance_treshold',variance_treshold),\n",
    "            ('select_k_best',select_k_best),\n",
    "            ('linear_regression', linear_regression)\n",
    "    ]\n",
    "    \n",
    "    model = Pipeline(steps=steps)\n",
    "    model.fit(X=X, y=y)\n",
    "    cv=5\n",
    "    scores_ = cross_validation.cross_validates(model=model, data=data, features=ikeda_parameters, \n",
    "                                               itterations=20) \n",
    "    score = np.mean(scores_.flatten())\n",
    "    std = np.std(scores_.flatten())\n",
    "    scores.append(score)\n",
    "    stds.append(std)\n",
    "    \n",
    "scores = np.array(scores)\n",
    "stds = np.array(stds)"
   ]
  },
  {
   "cell_type": "code",
   "execution_count": null,
   "metadata": {},
   "outputs": [],
   "source": [
    "fig,ax = plt.subplots()\n",
    "#ax.set_xlim(0,22)\n",
    "ax.plot(ks,scores-stds,'.-')\n",
    "ax.plot(ks,scores,'.-')\n",
    "ax.plot(ks,scores+stds,'.-')\n",
    "ax.grid()"
   ]
  },
  {
   "cell_type": "code",
   "execution_count": null,
   "metadata": {},
   "outputs": [],
   "source": [
    "select_k_best = SelectKBest(k=12, score_func=f_regression)\n",
    "steps=[\n",
    "        ('polynomial_feature', polynomial_features),\n",
    "        #('standard_scaler', standard_scaler),\n",
    "        ('variance_treshold',variance_treshold),\n",
    "        ('select_k_best',select_k_best),\n",
    "        ('linear_regression', linear_regression)\n",
    "]\n",
    "\n",
    "model_complex = Pipeline(steps=steps)\n",
    "X=data[ikeda_parameters]\n",
    "y=data['B_e_hat']\n",
    "model_complex.fit(X=X, y=y)"
   ]
  },
  {
   "cell_type": "code",
   "execution_count": null,
   "metadata": {},
   "outputs": [],
   "source": [
    "np.random.seed(seed=0)\n",
    "fig=cross_validation.plot_validate(model=model_complex, data=data, features=ikeda_parameters)"
   ]
  },
  {
   "cell_type": "markdown",
   "metadata": {},
   "source": [
    "## Showing the model as polynomial expression:"
   ]
  },
  {
   "cell_type": "code",
   "execution_count": null,
   "metadata": {},
   "outputs": [],
   "source": [
    "polynom_pure_complex = Polynom(model=model_complex, columns=X.columns, y_symbol=symbols.B_e_hat)\n",
    "polynom_pure_complex.fit(X=X, y=y)\n",
    "polynom_pure_complex.equation"
   ]
  },
  {
   "cell_type": "markdown",
   "metadata": {},
   "source": [
    "#### Simplify the expression for paper:"
   ]
  },
  {
   "cell_type": "code",
   "execution_count": null,
   "metadata": {},
   "outputs": [],
   "source": [
    "equation_pure_complex_simple = significant_numbers(polynom_pure_complex.equation, precision=4)\n",
    "equation_pure_complex_simple"
   ]
  },
  {
   "cell_type": "markdown",
   "metadata": {},
   "source": [
    "## Cross validation\n",
    "The cross validation is conducted with 5-fold cross validation that is repeated 20 times, with random selections of folds. The folds are constructed in such a way that all of the data related to a ship model is all in the same fold."
   ]
  },
  {
   "cell_type": "markdown",
   "metadata": {},
   "source": [
    "### Polynom complex"
   ]
  },
  {
   "cell_type": "code",
   "execution_count": null,
   "metadata": {},
   "outputs": [],
   "source": [
    "np.random.seed(seed=0)\n",
    "scores_polynom = cross_validation.cross_validates(model=model_complex, data=data, features=ikeda_parameters, \n",
    "                                          itterations=20)"
   ]
  },
  {
   "cell_type": "code",
   "execution_count": null,
   "metadata": {},
   "outputs": [],
   "source": [
    "r2_polynom = np.mean(scores_polynom)\n",
    "r2_polynom"
   ]
  },
  {
   "cell_type": "code",
   "execution_count": null,
   "metadata": {},
   "outputs": [],
   "source": [
    "mean_='$mean(R^2)$'\n",
    "std_='$std(R^2)$'\n",
    "\n",
    "df_cross_validation = pd.DataFrame(columns=[mean_, std_])\n",
    "df_cross_validation.index.name='model'\n",
    "\n",
    "s = pd.Series(name='New regression')\n",
    "s[mean_] = np.mean(scores_polynom)\n",
    "s[std_] = np.std(scores_polynom)\n",
    "df_cross_validation=df_cross_validation.append(s)"
   ]
  },
  {
   "cell_type": "code",
   "execution_count": null,
   "metadata": {},
   "outputs": [],
   "source": [
    "df_cross_validation"
   ]
  }
 ],
 "metadata": {
  "kernelspec": {
   "display_name": "Python 3",
   "language": "python",
   "name": "python3"
  },
  "language_info": {
   "codemirror_mode": {
    "name": "ipython",
    "version": 3
   },
   "file_extension": ".py",
   "mimetype": "text/x-python",
   "name": "python",
   "nbconvert_exporter": "python",
   "pygments_lexer": "ipython3",
   "version": "3.5.4"
  }
 },
 "nbformat": 4,
 "nbformat_minor": 4
}
