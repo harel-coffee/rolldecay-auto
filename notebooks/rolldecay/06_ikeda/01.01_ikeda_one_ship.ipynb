{
 "cells": [
  {
   "cell_type": "markdown",
   "metadata": {},
   "source": [
    "# Calculate original Ikeda for one ship"
   ]
  },
  {
   "cell_type": "code",
   "execution_count": null,
   "metadata": {},
   "outputs": [],
   "source": [
    "#%matplotlib notebook\n",
    "%matplotlib inline\n",
    "%load_ext autoreload\n",
    "%autoreload 2"
   ]
  },
  {
   "cell_type": "code",
   "execution_count": null,
   "metadata": {},
   "outputs": [],
   "source": [
    "from jupyterthemes import jtplot\n",
    "jtplot.style(theme='onedork', context='notebook', ticks=True, grid=False)"
   ]
  },
  {
   "cell_type": "code",
   "execution_count": null,
   "metadata": {},
   "outputs": [],
   "source": [
    "import pandas as pd\n",
    "pd.options.display.max_rows = 999\n",
    "pd.options.display.max_columns = 999\n",
    "pd.set_option(\"display.max_columns\", None)\n",
    "import numpy as np\n",
    "import os\n",
    "import matplotlib.pyplot as plt\n",
    "#plt.style.use('paper')\n",
    "\n",
    "#import data\n",
    "import copy\n",
    "from rolldecay.bis_system import BisSystem\n",
    "from rolldecay import database\n",
    "from mdldb.tables import Run\n",
    "\n",
    "from sklearn.pipeline import Pipeline\n",
    "from rolldecayestimators.transformers import CutTransformer, LowpassFilterDerivatorTransformer, ScaleFactorTransformer, OffsetTransformer\n",
    "from rolldecayestimators.direct_estimator_cubic import EstimatorQuadraticB, EstimatorCubic\n",
    "from rolldecayestimators.ikeda_estimator import IkedaQuadraticEstimator\n",
    "\n"
   ]
  },
  {
   "cell_type": "code",
   "execution_count": null,
   "metadata": {},
   "outputs": [],
   "source": [
    "db = database.get_db()\n",
    "\n",
    "df_simplified_ikeda = database.load(rolldecay_table_name='rolldecay_simplified_ikeda', limit_score=0.5, \n",
    "                             exclude_table_name='rolldecay_exclude')\n",
    "\n",
    "df_rolldecay = database.load(rolldecay_table_name='rolldecay_quadratic_b', limit_score=0.9, \n",
    "                             exclude_table_name='rolldecay_exclude')\n",
    "\n",
    "df_rolldecay_cubic = database.load(rolldecay_table_name='rolldecay_cubic_b', limit_score=0.9, \n",
    "                             exclude_table_name='rolldecay_exclude')"
   ]
  },
  {
   "cell_type": "code",
   "execution_count": null,
   "metadata": {},
   "outputs": [],
   "source": [
    "df_rolldecay.head()"
   ]
  },
  {
   "cell_type": "markdown",
   "metadata": {},
   "source": [
    "### Selecting one ship"
   ]
  },
  {
   "cell_type": "code",
   "execution_count": null,
   "metadata": {},
   "outputs": [],
   "source": [
    "project_number=20157375"
   ]
  },
  {
   "cell_type": "code",
   "execution_count": null,
   "metadata": {},
   "outputs": [],
   "source": [
    "mask = (df_rolldecay['project_number'] == project_number)\n",
    "df_rolldecay.loc[mask]"
   ]
  },
  {
   "cell_type": "markdown",
   "metadata": {},
   "source": [
    "### Ballast loading condition"
   ]
  },
  {
   "cell_type": "code",
   "execution_count": null,
   "metadata": {},
   "outputs": [],
   "source": [
    "TF=9.4\n",
    "#TF=11.7\n",
    "mask = ((df_rolldecay['project_number'] == project_number) &\n",
    "        (df_rolldecay['TF'] == TF)\n",
    "       )\n",
    "df_ballast = df_rolldecay.loc[mask].copy()\n",
    "df_ballast"
   ]
  },
  {
   "cell_type": "code",
   "execution_count": null,
   "metadata": {},
   "outputs": [],
   "source": [
    "mask = ((df_rolldecay_cubic['project_number'] == project_number) &\n",
    "        (df_rolldecay_cubic['TF'] == TF)\n",
    "       )\n",
    "df_ballast_cubic = df_rolldecay_cubic.loc[mask].copy()\n",
    "df_ballast_cubic"
   ]
  },
  {
   "cell_type": "code",
   "execution_count": null,
   "metadata": {},
   "outputs": [],
   "source": [
    "df_ballast_simplified_ikeda = df_simplified_ikeda.loc[df_ballast.index].copy()\n",
    "df_ballast_simplified_ikeda"
   ]
  },
  {
   "cell_type": "code",
   "execution_count": null,
   "metadata": {},
   "outputs": [],
   "source": [
    "meta_data=df_ballast.iloc[0]\n",
    "meta_data_cubic=df_ballast_cubic.loc[meta_data.name]\n",
    "meta_data_ikeda=df_ballast_simplified_ikeda.loc[meta_data.name]\n",
    "\n",
    "db_run = db.session.query(Run).get(int(meta_data.name))\n",
    "df = database.load_run(db_run)"
   ]
  },
  {
   "cell_type": "code",
   "execution_count": null,
   "metadata": {},
   "outputs": [],
   "source": [
    "lowpass_filter = LowpassFilterDerivatorTransformer(cutoff=2, minimum_score=0.99)\n",
    "cutter = CutTransformer(phi_max=np.deg2rad(9), phi_min=np.deg2rad(0.25), phi1d_start_tolerance=0.015)\n",
    "offset_transformer = OffsetTransformer()\n",
    "\n",
    "steps = [\n",
    "    ('filter',lowpass_filter),\n",
    "#    ('scaler',scaler),  # Is froude scaling a good idea??\n",
    "    ('cutter', cutter), \n",
    "    ('offset_transformer',offset_transformer)\n",
    "]\n",
    "        \n",
    "preprocessor = Pipeline(steps) # define the pipeline object.\n",
    "preprocessor.fit(df)\n",
    "X = preprocessor.transform(df)"
   ]
  },
  {
   "cell_type": "code",
   "execution_count": null,
   "metadata": {},
   "outputs": [],
   "source": [
    "direct_estimator = EstimatorQuadraticB.load(data=meta_data, X=X)\n",
    "direct_estimator_cubic = EstimatorCubic.load(data=meta_data_cubic, X=X)\n",
    "ikeda_estimator = IkedaQuadraticEstimator.load(data=meta_data_ikeda, X=X)\n",
    "\n",
    "fig,ax=plt.subplots()\n",
    "direct_estimator.plot_fit(ax=ax)\n",
    "fig,ax=plt.subplots()\n",
    "direct_estimator_cubic.plot_fit(ax=ax)\n",
    "fig,ax=plt.subplots()\n",
    "ikeda_estimator.plot_fit(ax=ax)"
   ]
  },
  {
   "cell_type": "code",
   "execution_count": null,
   "metadata": {},
   "outputs": [],
   "source": [
    "meta_data_ikeda['B_e']"
   ]
  },
  {
   "cell_type": "code",
   "execution_count": null,
   "metadata": {},
   "outputs": [],
   "source": [
    "meta_data['B_1']"
   ]
  },
  {
   "cell_type": "code",
   "execution_count": null,
   "metadata": {},
   "outputs": [],
   "source": [
    "meta_data['B_2']"
   ]
  },
  {
   "cell_type": "markdown",
   "metadata": {},
   "source": [
    "## Run Scores2"
   ]
  },
  {
   "cell_type": "code",
   "execution_count": null,
   "metadata": {},
   "outputs": [],
   "source": [
    "from pyscores2.indata import Indata\n",
    "from pyscores2.runScores2 import Calculation\n",
    "from pyscores2.output import OutputFile"
   ]
  },
  {
   "cell_type": "code",
   "execution_count": null,
   "metadata": {},
   "outputs": [],
   "source": [
    "indata_file_name = 'data207_name%s_loading_condition_id%s' % (meta_data.name, meta_data.loading_condition_id)\n",
    "indata_path = os.path.join('scores2', indata_file_name)\n",
    "indata = Indata()\n",
    "indata.open(indata_path)\n",
    "\n",
    "indata.kxx=meta_data['KXX']\n",
    "indata.displacement=meta_data['Volume']\n",
    "indata.rho=1000\n",
    "indata.zcg=meta_data['kg']-meta_data['TA'] #(important)\n",
    "indata.lcb=meta_data['lcg']\n",
    "\n",
    "indata.waveDirectionMin=0\n",
    "indata.waveDirectionMax=180\n",
    "indata.waveDirectionIncrement=90\n",
    "indata.speedMin=0\n",
    "indata.speedMax=18.6\n",
    "indata.speedIncrement=18.6\n"
   ]
  },
  {
   "cell_type": "code",
   "execution_count": null,
   "metadata": {},
   "outputs": [],
   "source": [
    "-(meta_data['lcg']-meta_data['lpp']/2)"
   ]
  },
  {
   "cell_type": "code",
   "execution_count": null,
   "metadata": {},
   "outputs": [],
   "source": [
    "outdata_directory=r'scores2/result'\n",
    "if not os.path.exists(outdata_directory):\n",
    "    os.mkdir(outdata_directory)\n",
    "\n",
    "calculation = Calculation(outDataDirectory=outdata_directory)\n",
    "calculation.run(indata=indata)"
   ]
  },
  {
   "cell_type": "code",
   "execution_count": null,
   "metadata": {},
   "outputs": [],
   "source": [
    "indata.displacement"
   ]
  },
  {
   "cell_type": "code",
   "execution_count": null,
   "metadata": {},
   "outputs": [],
   "source": [
    "output_file = OutputFile(filePath=calculation.outDataPath)\n",
    "df = output_file.get_result()\n",
    "\n",
    "fig,ax=plt.subplots()\n",
    "for index, group in df.groupby(by=['speed','wave direction'], sort=False):\n",
    "    group.plot(x='frequencies', y='rollAmplitude', style='o-', label=index, ax=ax)\n",
    "    \n",
    "ax.grid(True)\n",
    "ax.legend();\n",
    "ax.set_ylabel('Roll');"
   ]
  },
  {
   "cell_type": "code",
   "execution_count": null,
   "metadata": {},
   "outputs": [],
   "source": [
    "df_roll_damping = output_file.get_roll_damping()\n",
    "df_roll_damping"
   ]
  },
  {
   "cell_type": "code",
   "execution_count": null,
   "metadata": {},
   "outputs": [],
   "source": [
    "df_roll_damping.set_index(['speed','wave_direction'], inplace=True)"
   ]
  },
  {
   "cell_type": "code",
   "execution_count": null,
   "metadata": {},
   "outputs": [],
   "source": [
    "scores_damping = df_roll_damping.loc[0,0]\n",
    "scores_damping"
   ]
  },
  {
   "cell_type": "code",
   "execution_count": null,
   "metadata": {},
   "outputs": [],
   "source": [
    "BW_scores = scores_damping['calculated_wave_damping_in_roll']"
   ]
  },
  {
   "cell_type": "code",
   "execution_count": null,
   "metadata": {},
   "outputs": [],
   "source": [
    "meta_data['omega0']/np.sqrt(meta_data['scale_factor'])"
   ]
  },
  {
   "cell_type": "code",
   "execution_count": null,
   "metadata": {},
   "outputs": [],
   "source": [
    "import rolldecayestimators.simplified_ikeda as si"
   ]
  },
  {
   "cell_type": "code",
   "execution_count": null,
   "metadata": {},
   "outputs": [],
   "source": [
    "scale_factor = meta_data['scale_factor']\n",
    "LPP=meta_data['lpp']\n",
    "Beam=meta_data['beam']\n",
    "DRAFT=(meta_data['TA']+meta_data['TF'])/2\n",
    "Volume=meta_data['Volume']\n",
    "CB=Volume/(Beam*DRAFT*LPP)\n",
    "CMID=meta_data['A0']\n",
    "OG=-meta_data['kg'] + DRAFT\n",
    "PHI=5\n",
    "lBK=meta_data['BKL']\n",
    "bBK=meta_data['BKB']\n",
    "OMEGA=meta_data['omega0']\n",
    "V=meta_data['ship_speed']*1.852/3.6\n",
    "\n",
    "#Froude scale:\n",
    "LPP/=scale_factor\n",
    "Beam/=scale_factor\n",
    "DRAFT/=scale_factor\n",
    "Volume/=scale_factor**3\n",
    "OG/=scale_factor\n",
    "lBK/=scale_factor\n",
    "bBK/=scale_factor\n",
    "#OMEGA=meta_data['omega0']\n",
    "V/=np.sqrt(scale_factor)\n",
    "\n",
    "\n",
    "B44HAT, BFHAT, BWHAT, BEHAT, BBKHAT, BLHAT = si.calculate_roll_damping(LPP=LPP,Beam=Beam,CB=CB,\n",
    "                                        CMID=CMID,OG=OG,PHI=PHI,lBK=lBK,bBK=bBK,OMEGA=OMEGA,\n",
    "                                        DRAFT=DRAFT, V=V, verify_input=False, limit_inputs=True)"
   ]
  },
  {
   "cell_type": "code",
   "execution_count": null,
   "metadata": {},
   "outputs": [],
   "source": [
    "si_result = pd.Series(name='SI-method')\n",
    "si_result['B44HAT']=B44HAT\n",
    "si_result['BFHAT']=BFHAT\n",
    "si_result['BWHAT']=BWHAT\n",
    "si_result['BEHAT']=BEHAT\n",
    "si_result['BBKHAT']=BBKHAT\n",
    "si_result['BLHAT']=BLHAT"
   ]
  },
  {
   "cell_type": "code",
   "execution_count": null,
   "metadata": {},
   "outputs": [],
   "source": [
    "si_result.plot(kind='bar')"
   ]
  },
  {
   "cell_type": "code",
   "execution_count": null,
   "metadata": {},
   "outputs": [],
   "source": [
    "BWHAT"
   ]
  },
  {
   "cell_type": "code",
   "execution_count": null,
   "metadata": {},
   "outputs": [],
   "source": [
    "from rolldecayestimators import equations\n",
    "from rolldecayestimators import symbols, lambdas\n",
    "from rolldecayestimators.substitute_dynamic_symbols import lambdify\n",
    "import sympy as sp"
   ]
  },
  {
   "cell_type": "code",
   "execution_count": null,
   "metadata": {},
   "outputs": [],
   "source": [
    "lambdas.B44_hat_equation"
   ]
  },
  {
   "cell_type": "code",
   "execution_count": null,
   "metadata": {},
   "outputs": [],
   "source": [
    "g=9.81\n",
    "rho=1000\n",
    "BW_hat_scores=lambdas.B_hat_lambda(B=BW_scores, Disp=Volume*scale_factor**3, beam=Beam*scale_factor, \n",
    "                                   g=g, rho=rho)\n",
    "BW_hat_scores"
   ]
  },
  {
   "cell_type": "code",
   "execution_count": null,
   "metadata": {},
   "outputs": [],
   "source": [
    "BWHAT/BW_hat_scores"
   ]
  },
  {
   "cell_type": "code",
   "execution_count": null,
   "metadata": {},
   "outputs": [],
   "source": [
    "BFHAT+BW_hat_scores+BBKHAT+BLHAT"
   ]
  },
  {
   "cell_type": "code",
   "execution_count": null,
   "metadata": {},
   "outputs": [],
   "source": [
    "B_e = lambdas.B_e_lambda(B_1=meta_data['B_1'], B_2=meta_data['B_2'], phi_a=np.deg2rad(8), \n",
    "                   omega0=meta_data['omega0'])\n",
    "\n",
    "\n",
    "B_e_hat = lambdas.B_e_hat_lambda(B_e=B_e, Disp=Volume, beam=Beam, \n",
    "                                 g=g, rho=rho)\n",
    "B_e_hat"
   ]
  },
  {
   "cell_type": "code",
   "execution_count": null,
   "metadata": {},
   "outputs": [],
   "source": [
    "B44HAT"
   ]
  },
  {
   "cell_type": "markdown",
   "metadata": {},
   "source": [
    "## Ikeda"
   ]
  },
  {
   "cell_type": "code",
   "execution_count": null,
   "metadata": {},
   "outputs": [],
   "source": [
    "from rolldecayestimators import ikeda_speed"
   ]
  },
  {
   "cell_type": "code",
   "execution_count": null,
   "metadata": {},
   "outputs": [],
   "source": [
    "inputs = pd.DataFrame()\n",
    "N=20\n",
    "speeds=np.linspace(df_ballast['ship_speed'].min(),df_ballast['ship_speed'].max(),N)*1.852/3.6/np.sqrt(scale_factor)\n",
    "inputs['V'] = speeds  # Ship speed [m/s]\n",
    "inputs['w'] = w = meta_data['omega0']  # roll frequency [rad/s]\n",
    "inputs['d'] = DRAFT  # Draught of hull [m]\n",
    "BW_scores_model=BW_scores/(scale_factor**4/np.sqrt(scale_factor))\n",
    "inputs['Bw0'] = BW_scores_model  # Zero speed wave damping [Nm*s/rad]\n",
    "inputs['fi_a'] = np.deg2rad(8) # Roll amplitude [rad]\n",
    "inputs['B'] = Beam # Breadth of hull [m]\n",
    "inputs['A'] = CMID*Beam*DRAFT # Area of cross section of hull [m2]\n",
    "inputs['bBK'] = bBK  #breadth of Bilge keel [m] !!(=height???)\n",
    "inputs['R'] = 0.1 # Bilge Radis [m]\n",
    "inputs['OG'] = OG # distance from roll axis to still water level [m]\n",
    "inputs['Ho'] = Beam/(2*DRAFT)  # half breadth to draft ratio B/(2*d) [-]\n",
    "inputs['ra'] = ra = rho  # density of water (1025) [kg/m3]\n",
    "inputs['Cb'] =CB  # Block coeff [-]\n",
    "inputs['L']=LPP  # Ship length [m]\n",
    "inputs['LBK']=lBK  # Bilge keel length [m]\n",
    "inputs['Bw_div_Bw0_max'] = np.inf  # maxmum allowed difference between Bw0 and at speed.\n",
    "inputs['visc']=1.15*10**-6\n",
    "inputs['g']=g=9.81\n",
    "results = inputs.apply(ikeda_speed.calculate_B44_series,axis=1)"
   ]
  },
  {
   "cell_type": "code",
   "execution_count": null,
   "metadata": {},
   "outputs": [],
   "source": [
    "results_hat = results.apply(func=lambdas.B_hat_lambda,Disp=Volume, beam=Beam, \n",
    "                                   g=g, rho=rho)\n",
    "\n",
    "fig,ax=plt.subplots()\n",
    "results_hat.plot.area(y = ['B_BK','B_L','B_W','B_F'], ax=ax)\n"
   ]
  },
  {
   "cell_type": "code",
   "execution_count": null,
   "metadata": {},
   "outputs": [],
   "source": [
    "results_hat"
   ]
  },
  {
   "cell_type": "code",
   "execution_count": null,
   "metadata": {},
   "outputs": [],
   "source": [
    "renamings = {\n",
    "    'B44HAT':'B_44',\n",
    "    'BFHAT':'B_F',\n",
    "    'BWHAT':'B_W',\n",
    "    'BEHAT':'B_E',\n",
    "    'BBKHAT':'B_BK',\n",
    "    'BLHAT':'B_L',\n",
    "}\n",
    "\n",
    "si_result.rename(index=renamings, inplace=True)"
   ]
  },
  {
   "cell_type": "code",
   "execution_count": null,
   "metadata": {},
   "outputs": [],
   "source": [
    "df_results = pd.DataFrame()\n",
    "df_results=df_results.append(si_result)\n",
    "i_result=results_hat.iloc[0]\n",
    "i_result.name='Ikeda-method'\n",
    "df_results=df_results.append(i_result)\n",
    "\n",
    "df_results.transpose().plot(kind='bar')"
   ]
  },
  {
   "cell_type": "code",
   "execution_count": null,
   "metadata": {},
   "outputs": [],
   "source": []
  }
 ],
 "metadata": {
  "kernelspec": {
   "display_name": "Python 3",
   "language": "python",
   "name": "python3"
  },
  "language_info": {
   "codemirror_mode": {
    "name": "ipython",
    "version": 3
   },
   "file_extension": ".py",
   "mimetype": "text/x-python",
   "name": "python",
   "nbconvert_exporter": "python",
   "pygments_lexer": "ipython3",
   "version": "3.5.4"
  }
 },
 "nbformat": 4,
 "nbformat_minor": 4
}
