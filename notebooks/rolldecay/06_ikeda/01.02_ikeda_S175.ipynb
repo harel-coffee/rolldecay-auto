{
 "cells": [
  {
   "cell_type": "markdown",
   "metadata": {},
   "source": [
    "# Ikeda for S175\n",
    "Scope:\n",
    "* S175 will be calculated in ScoresII:\n",
    "   * S175 geometry in a *Seaway input file* will be parsed\n",
    "   * *Seaway input file* will be converted to ScoresII\n",
    "   * Draught need to be adjusted to 9.5 m"
   ]
  },
  {
   "cell_type": "code",
   "execution_count": null,
   "metadata": {},
   "outputs": [],
   "source": [
    "# %load ../../imports.py\n",
    "\"\"\"\n",
    "These is the standard setup for the notebooks.\n",
    "\"\"\"\n",
    "\n",
    "%matplotlib inline\n",
    "%load_ext autoreload\n",
    "%autoreload 2\n",
    "\n",
    "from jupyterthemes import jtplot\n",
    "jtplot.style(theme='onedork', context='notebook', ticks=True, grid=False)\n",
    "\n",
    "import pandas as pd\n",
    "pd.options.display.max_rows = 999\n",
    "pd.options.display.max_columns = 999\n",
    "pd.set_option(\"display.max_columns\", None)\n",
    "import numpy as np\n",
    "import os\n",
    "import matplotlib.pyplot as plt\n",
    "#plt.style.use('paper')\n",
    "\n",
    "#import data\n",
    "import copy\n",
    "from rolldecay.bis_system import BisSystem\n",
    "from rolldecay import database\n",
    "from mdldb.tables import Run\n",
    "\n",
    "from sklearn.pipeline import Pipeline\n",
    "from rolldecayestimators.transformers import CutTransformer, LowpassFilterDerivatorTransformer, ScaleFactorTransformer, OffsetTransformer\n",
    "from rolldecayestimators.direct_estimator_cubic import EstimatorQuadraticB, EstimatorCubic\n",
    "from rolldecayestimators.ikeda_estimator import IkedaQuadraticEstimator\n"
   ]
  },
  {
   "cell_type": "code",
   "execution_count": null,
   "metadata": {},
   "outputs": [],
   "source": [
    "import re"
   ]
  },
  {
   "cell_type": "markdown",
   "metadata": {},
   "source": [
    "## S175 geometry in a Seaway input file will be parsed"
   ]
  },
  {
   "cell_type": "code",
   "execution_count": null,
   "metadata": {},
   "outputs": [],
   "source": [
    "with open('S175.seaway', mode='r') as file:\n",
    "    lines = file.readlines()"
   ]
  },
  {
   "cell_type": "code",
   "execution_count": null,
   "metadata": {},
   "outputs": [],
   "source": [
    "lines[0:3]"
   ]
  },
  {
   "cell_type": "code",
   "execution_count": null,
   "metadata": {},
   "outputs": [],
   "source": [
    "regexp_line=re.compile('.*')\n",
    "def read_line(line):\n",
    "    result = regexp_line.search(line)\n",
    "    if not result:\n",
    "        raise ValueError('Cannot read line:%s'%lins)\n",
    "    return result.group(0)\n",
    "\n",
    "def read_line_values(line):\n",
    "    s = read_line(line)\n",
    "    regexp_parts = re.compile('(\\S+)')\n",
    "    return regexp_parts.findall(s)\n",
    "        \n",
    "    "
   ]
  },
  {
   "cell_type": "code",
   "execution_count": null,
   "metadata": {},
   "outputs": [],
   "source": [
    "read_line(line=lines[0])"
   ]
  },
  {
   "cell_type": "code",
   "execution_count": null,
   "metadata": {},
   "outputs": [],
   "source": [
    "seaway={}\n",
    "seaway['version'] = read_line(lines[0])\n",
    "seaway['text'] = read_line(lines[1])"
   ]
  },
  {
   "cell_type": "code",
   "execution_count": null,
   "metadata": {},
   "outputs": [],
   "source": [
    "## Definition of Longitudinal Values:\n",
    "values = read_line_values(lines[2])\n",
    "keys=['DR','TR','RLPP','RLA']\n",
    "for key,value in zip(keys,values):\n",
    "    seaway[key]=float(value)\n",
    "seaway"
   ]
  },
  {
   "cell_type": "code",
   "execution_count": null,
   "metadata": {},
   "outputs": [],
   "source": [
    "seaway['NS']=int(read_line(lines[3]))\n",
    "seaway['NS']"
   ]
  },
  {
   "cell_type": "code",
   "execution_count": null,
   "metadata": {},
   "outputs": [],
   "source": [
    "seaway['DX']=np.array(read_line_values(lines[4]) + \n",
    "                      read_line_values(lines[5]) + \n",
    "                      read_line_values(lines[6]), dtype=float)\n",
    "seaway['DX']"
   ]
  },
  {
   "cell_type": "code",
   "execution_count": null,
   "metadata": {},
   "outputs": [],
   "source": [
    "seaway['KCON']=int(read_line(lines[7]))\n",
    "seaway['KCON']  # KCON = 2: input-sequence is [Z(J,I),Y(J,I)],"
   ]
  },
  {
   "cell_type": "code",
   "execution_count": null,
   "metadata": {},
   "outputs": [],
   "source": [
    "NS=seaway['NS']+1  # one extra?\n",
    "empty=np.empty(shape=NS)*np.NaN\n",
    "keys = ['SNR','NWL','SDIST']\n",
    "for key in keys:\n",
    "    seaway[key] = empty.copy()\n",
    "\n",
    "index=8\n",
    "seaway['Y']=[]\n",
    "seaway['Z']=[]\n",
    "\n",
    "for J in range(NS):\n",
    "    values = read_line_values(lines[index])\n",
    "    seaway['SNR'][J]=float(values[0])\n",
    "    seaway['NWL'][J]=NWL=int(float(values[1]))\n",
    "    seaway['SDIST'][J]=SNR=float(values[2])\n",
    "    section_values=[]\n",
    "    while(len(section_values)<(2*(NWL+1))):\n",
    "        index+=1\n",
    "        section_values+=read_line_values(lines[index])\n",
    "    \n",
    "    Y=np.empty(shape=NWL)*np.NaN\n",
    "    Z=np.empty(shape=NWL)*np.NaN\n",
    "    \n",
    "    for I in range(NWL):\n",
    "        i=2*I\n",
    "        Z[I]=section_values[i]\n",
    "        Y[I]=section_values[i+1]\n",
    "        \n",
    "    seaway['Y'].append(Y)\n",
    "    seaway['Z'].append(Z)\n",
    "    \n",
    "    index+=1"
   ]
  },
  {
   "cell_type": "markdown",
   "metadata": {},
   "source": [
    "## Seaway input file will be converted to ScoresII"
   ]
  },
  {
   "cell_type": "markdown",
   "metadata": {},
   "source": [
    "## Draught need to be adjusted to 9.5 m"
   ]
  },
  {
   "cell_type": "code",
   "execution_count": null,
   "metadata": {},
   "outputs": [],
   "source": []
  }
 ],
 "metadata": {
  "kernelspec": {
   "display_name": "Python 3",
   "language": "python",
   "name": "python3"
  },
  "language_info": {
   "codemirror_mode": {
    "name": "ipython",
    "version": 3
   },
   "file_extension": ".py",
   "mimetype": "text/x-python",
   "name": "python",
   "nbconvert_exporter": "python",
   "pygments_lexer": "ipython3",
   "version": "3.5.4"
  }
 },
 "nbformat": 4,
 "nbformat_minor": 4
}
