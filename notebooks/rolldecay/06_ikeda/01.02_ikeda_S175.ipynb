{
 "cells": [
  {
   "cell_type": "markdown",
   "metadata": {},
   "source": [
    "# Ikeda for S175\n",
    "Scope:\n",
    "* S175 will be calculated in ScoresII:\n",
    "   * S175 geometry in a *Seaway input file* will be parsed\n",
    "   * *Seaway input file* will be converted to ScoresII\n",
    "   * Draught need to be adjusted to 9.5 m"
   ]
  },
  {
   "cell_type": "code",
   "execution_count": null,
   "metadata": {},
   "outputs": [],
   "source": [
    "# %load ../../imports.py\n",
    "\"\"\"\n",
    "These is the standard setup for the notebooks.\n",
    "\"\"\"\n",
    "\n",
    "%matplotlib inline\n",
    "%load_ext autoreload\n",
    "%autoreload 2\n",
    "\n",
    "from jupyterthemes import jtplot\n",
    "jtplot.style(theme='onedork', context='notebook', ticks=True, grid=False)\n",
    "\n",
    "import pandas as pd\n",
    "pd.options.display.max_rows = 999\n",
    "pd.options.display.max_columns = 999\n",
    "pd.set_option(\"display.max_columns\", None)\n",
    "import numpy as np\n",
    "import os\n",
    "import matplotlib.pyplot as plt\n",
    "#plt.style.use('paper')\n",
    "\n",
    "#import data\n",
    "import copy\n",
    "from rolldecay.bis_system import BisSystem\n",
    "from rolldecay import database\n",
    "from mdldb.tables import Run\n",
    "\n",
    "from sklearn.pipeline import Pipeline\n",
    "from rolldecayestimators.transformers import CutTransformer, LowpassFilterDerivatorTransformer, ScaleFactorTransformer, OffsetTransformer\n",
    "from rolldecayestimators.direct_estimator_cubic import EstimatorQuadraticB, EstimatorCubic\n",
    "from rolldecayestimators.ikeda_estimator import IkedaQuadraticEstimator\n",
    "import rolldecayestimators.equations as equations\n",
    "import rolldecayestimators.lambdas as lambdas\n",
    "from rolldecayestimators.substitute_dynamic_symbols import lambdify\n",
    "import rolldecayestimators.symbols as symbols\n",
    "import sympy as sp\n",
    "\n",
    "from sklearn.metrics import r2_score\n",
    "\n"
   ]
  },
  {
   "cell_type": "code",
   "execution_count": null,
   "metadata": {},
   "outputs": [],
   "source": [
    "import re"
   ]
  },
  {
   "cell_type": "markdown",
   "metadata": {},
   "source": [
    "## S175 geometry in a Seaway input file will be parsed"
   ]
  },
  {
   "cell_type": "code",
   "execution_count": null,
   "metadata": {},
   "outputs": [],
   "source": [
    "with open('S175.seaway', mode='r') as file:\n",
    "    lines = file.readlines()"
   ]
  },
  {
   "cell_type": "code",
   "execution_count": null,
   "metadata": {},
   "outputs": [],
   "source": [
    "lines[0:3]"
   ]
  },
  {
   "cell_type": "code",
   "execution_count": null,
   "metadata": {},
   "outputs": [],
   "source": [
    "regexp_line=re.compile('.*')\n",
    "def read_line(line):\n",
    "    result = regexp_line.search(line)\n",
    "    if not result:\n",
    "        raise ValueError('Cannot read line:%s'%lins)\n",
    "    return result.group(0)\n",
    "\n",
    "def read_line_values(line):\n",
    "    s = read_line(line)\n",
    "    regexp_parts = re.compile('(\\S+)')\n",
    "    return regexp_parts.findall(s)\n",
    "        \n",
    "    "
   ]
  },
  {
   "cell_type": "code",
   "execution_count": null,
   "metadata": {},
   "outputs": [],
   "source": [
    "read_line(line=lines[0])"
   ]
  },
  {
   "cell_type": "code",
   "execution_count": null,
   "metadata": {},
   "outputs": [],
   "source": [
    "seaway={}\n",
    "seaway['version'] = read_line(lines[0])\n",
    "seaway['text'] = read_line(lines[1])"
   ]
  },
  {
   "cell_type": "code",
   "execution_count": null,
   "metadata": {},
   "outputs": [],
   "source": [
    "## Definition of Longitudinal Values:\n",
    "values = read_line_values(lines[2])\n",
    "keys=['DR','TR','RLPP','RLA']\n",
    "for key,value in zip(keys,values):\n",
    "    seaway[key]=float(value)\n",
    "seaway"
   ]
  },
  {
   "cell_type": "code",
   "execution_count": null,
   "metadata": {},
   "outputs": [],
   "source": [
    "seaway['NS']=int(read_line(lines[3]))\n",
    "seaway['NS']"
   ]
  },
  {
   "cell_type": "code",
   "execution_count": null,
   "metadata": {},
   "outputs": [],
   "source": [
    "seaway['DX']=np.array(read_line_values(lines[4]) + \n",
    "                      read_line_values(lines[5]) + \n",
    "                      read_line_values(lines[6]), dtype=float)\n",
    "seaway['DX']"
   ]
  },
  {
   "cell_type": "code",
   "execution_count": null,
   "metadata": {},
   "outputs": [],
   "source": [
    "seaway['X']=np.concatenate([[0],np.cumsum(seaway['DX'])])\n",
    "seaway['X']"
   ]
  },
  {
   "cell_type": "code",
   "execution_count": null,
   "metadata": {},
   "outputs": [],
   "source": [
    "seaway['KCON']=int(read_line(lines[7]))\n",
    "seaway['KCON']  # KCON = 2: input-sequence is [Z(J,I),Y(J,I)],"
   ]
  },
  {
   "cell_type": "code",
   "execution_count": null,
   "metadata": {},
   "outputs": [],
   "source": [
    "NS=seaway['NS']+1  # one extra?\n",
    "empty=np.empty(shape=NS)*np.NaN\n",
    "keys = ['SNR','NWL','SDIST']\n",
    "for key in keys:\n",
    "    seaway[key] = empty.copy()\n",
    "\n",
    "index=8\n",
    "seaway['Y']=[]\n",
    "seaway['Z']=[]\n",
    "\n",
    "for J in range(NS):\n",
    "    values = read_line_values(lines[index])\n",
    "    seaway['SNR'][J]=float(values[0])\n",
    "    seaway['NWL'][J]=NWL=int(float(values[1]))\n",
    "    seaway['SDIST'][J]=SNR=float(values[2])\n",
    "    section_values=[]\n",
    "    while(len(section_values)<(2*(NWL+1))):\n",
    "        index+=1\n",
    "        section_values+=read_line_values(lines[index])\n",
    "    \n",
    "    Y=np.empty(shape=NWL)*np.NaN\n",
    "    Z=np.empty(shape=NWL)*np.NaN\n",
    "    \n",
    "    for I in range(NWL):\n",
    "        i=2*I\n",
    "        Z[I]=section_values[i]\n",
    "        Y[I]=section_values[i+1]\n",
    "        \n",
    "    seaway['Y'].append(np.array(Y, dtype=float))\n",
    "    seaway['Z'].append(np.array(Z, dtype=float))\n",
    "    \n",
    "    index+=1"
   ]
  },
  {
   "cell_type": "code",
   "execution_count": null,
   "metadata": {},
   "outputs": [],
   "source": [
    "def body_plan(Y,Z):\n",
    "    fig,ax=plt.subplots()\n",
    "    frames,points = Y.shape\n",
    "    N=int(np.floor(frames/2))\n",
    "    \n",
    "    for y,z in zip(Y[0:N,:], Z[0:N,:]):\n",
    "        ax.plot(-y,z)\n",
    "    \n",
    "    for y,z in zip(Y[N:,:], Z[N:,:]):\n",
    "        ax.plot(y,z)\n",
    "    "
   ]
  },
  {
   "cell_type": "code",
   "execution_count": null,
   "metadata": {},
   "outputs": [],
   "source": [
    "N=int(seaway['NWL'].max())*5\n",
    "X=np.empty(shape=(NS,N))*np.NaN\n",
    "Y=np.empty(shape=(NS,N))*np.NaN\n",
    "Z=np.empty(shape=(NS,N))*np.NaN\n",
    "for i,(y,z) in enumerate(zip(seaway['Y'], seaway['Z'])):\n",
    "    \n",
    "    x=np.arange(N)\n",
    "    xp=np.arange(len(y))\n",
    "    y_interp=np.interp(x=x, xp=xp, fp=y)\n",
    "    z_interp=np.interp(x=x, xp=xp, fp=z)\n",
    "    \n",
    "    Y[i,:]=y_interp \n",
    "    Z[i,:]=z_interp\n",
    "    X[i,:]=np.ones(shape=N)*seaway['X'][i]"
   ]
  },
  {
   "cell_type": "code",
   "execution_count": null,
   "metadata": {},
   "outputs": [],
   "source": [
    "body_plan(Y,Z)"
   ]
  },
  {
   "cell_type": "code",
   "execution_count": null,
   "metadata": {},
   "outputs": [],
   "source": [
    "from mpl_toolkits.mplot3d import Axes3D  # noqa: F401 unused import\n",
    "from matplotlib import cm\n",
    "\n",
    "fig = plt.figure()\n",
    "#fig.set_size_inches(10,10)\n",
    "ax = fig.gca(projection='3d',)\n",
    "ax.view_init(45, 20)\n",
    "\n",
    "# Plot the surface.\n",
    "surf = ax.plot_surface(X, Y, Z, cmap=cm.coolwarm,\n",
    "                       linewidth=0, antialiased=True)\n",
    "\n",
    "ax.set_xlim3d([X.min(), X.max()])\n",
    "ax.set_ylim3d([Y.min(), Y.max()])\n",
    "ax.set_zlim3d([Z.min(), Z.max()])\n",
    "\n",
    "#ax.set_aspect('equal')\n",
    "#fig.set_size_inches(15,20)\n"
   ]
  },
  {
   "cell_type": "markdown",
   "metadata": {},
   "source": [
    "## Draught need to be adjusted to 9.5 m"
   ]
  },
  {
   "cell_type": "code",
   "execution_count": null,
   "metadata": {},
   "outputs": [],
   "source": [
    "T=9.5\n",
    "N=40\n",
    "Xs=[]\n",
    "Ys=[]\n",
    "Zs=[]\n",
    "\n",
    "for i,(y,z) in enumerate(zip(seaway['Y'], seaway['Z'])):\n",
    "        \n",
    "    mask=y > 0\n",
    "    zp=z[mask]\n",
    "    yp=y[mask]\n",
    "    \n",
    "    if zp[0] > T:\n",
    "        continue\n",
    "    \n",
    "    z_interp=np.linspace(zp[0],T,N)\n",
    "    y_interp=np.interp(x=z_interp, xp=zp, fp=yp)\n",
    "    \n",
    "    Ys.append(y_interp) \n",
    "    Zs.append(z_interp)\n",
    "    Xs.append(np.ones(shape=N)*seaway['X'][i])\n",
    "    \n",
    "Y=np.array(Ys)\n",
    "Z=np.array(Zs)\n",
    "X=np.array(Xs)"
   ]
  },
  {
   "cell_type": "code",
   "execution_count": null,
   "metadata": {},
   "outputs": [],
   "source": [
    "body_plan(Y,Z)"
   ]
  },
  {
   "cell_type": "markdown",
   "metadata": {},
   "source": [
    "## Seaway input file will be converted to ScoresII"
   ]
  },
  {
   "cell_type": "code",
   "execution_count": null,
   "metadata": {},
   "outputs": [],
   "source": [
    "areas=[]\n",
    "SECOEs=[]\n",
    "DRAFTs=[]\n",
    "BSTARs=[]\n",
    "ZBARs=[]\n",
    "\n",
    "for y,z in zip(Y, Z):\n",
    "    area=np.trapz(y=y,x=z)\n",
    "    areas.append(area)\n",
    "    \n",
    "    BSTAR=2*y[-1]\n",
    "    BSTARs.append(BSTAR)\n",
    "    \n",
    "    DRAFT_=z[-1]-z[0]\n",
    "    DRAFTs.append(DRAFT_)\n",
    "    \n",
    "    c=area/(y.max()*DRAFT_)\n",
    "    SECOEs.append(c)\n",
    "    \n",
    "    lever=np.flipud(T-z)\n",
    "    y_=np.flipud(y)*lever\n",
    "    \n",
    "    ZBAR=np.trapz(y=y_,x=lever)/area\n",
    "    ZBARs.append(ZBAR)"
   ]
  },
  {
   "cell_type": "code",
   "execution_count": null,
   "metadata": {},
   "outputs": [],
   "source": [
    "x=X[:,0]\n",
    "#x-=x[0]\n",
    "#x"
   ]
  },
  {
   "cell_type": "code",
   "execution_count": null,
   "metadata": {},
   "outputs": [],
   "source": [
    "from scipy.integrate import simps\n",
    "2*simps(y=areas,x=x)"
   ]
  },
  {
   "cell_type": "code",
   "execution_count": null,
   "metadata": {},
   "outputs": [],
   "source": [
    "def reduce_sections(xp,fp,lpp, N=21):\n",
    "    x=np.linspace(0,lpp,N)\n",
    "    y=np.interp(x=x, xp=xp, fp=fp)\n",
    "    return x,y"
   ]
  },
  {
   "cell_type": "code",
   "execution_count": null,
   "metadata": {},
   "outputs": [],
   "source": [
    "from rolldecayestimators.tests import test_ikeda_speed_S175 as ti\n",
    "lpp=ti.L\n",
    "x_21, areas_21=reduce_sections(x, areas, lpp)\n",
    "x_21, SECOEs_21=reduce_sections(x,SECOEs, lpp)\n",
    "x_21, DRAFTs_21=reduce_sections(x,DRAFTs, lpp)\n",
    "x_21, BSTARs_21=reduce_sections(x,BSTARs, lpp)\n",
    "x_21, ZBARs_21=reduce_sections(x,ZBARs, lpp)"
   ]
  },
  {
   "cell_type": "code",
   "execution_count": null,
   "metadata": {},
   "outputs": [],
   "source": [
    "lcb=np.trapz(y=areas_21*x_21,x=x_21)/np.trapz(y=areas_21,x=x_21)\n",
    "displacement=2*np.trapz(y=areas_21,x=x_21)"
   ]
  },
  {
   "cell_type": "code",
   "execution_count": null,
   "metadata": {},
   "outputs": [],
   "source": [
    "lcb"
   ]
  },
  {
   "cell_type": "code",
   "execution_count": null,
   "metadata": {},
   "outputs": [],
   "source": [
    "x_21"
   ]
  },
  {
   "cell_type": "code",
   "execution_count": null,
   "metadata": {},
   "outputs": [],
   "source": [
    "fig,ax=plt.subplots()\n",
    "ax.plot(x,areas);\n",
    "ax.set_title('Area curve')\n",
    "ax.set_xlabel('X [m]')\n",
    "ax.set_ylabel('Section area $[m^2]$')\n",
    "\n",
    "fig,ax=plt.subplots()\n",
    "ax.plot(x,SECOEs);\n",
    "ax.plot(x_21,SECOEs_21,'--');\n",
    "ax.set_title('Area coefficients')\n",
    "ax.set_xlabel('X [m]')\n",
    "ax.set_ylabel(r'Section coefficient: $\\frac{A}{B_s \\cdot T_s}$')\n",
    "\n",
    "fig,ax=plt.subplots()\n",
    "ax.plot(x,BSTARs);\n",
    "ax.plot(x_21,BSTARs_21,'--');\n",
    "ax.set_title('Section water line beam')\n",
    "ax.set_xlabel('X [m]')\n",
    "ax.set_ylabel(r'Section water line beam [m]')\n",
    "\n",
    "fig,ax=plt.subplots()\n",
    "ax.plot(x,DRAFTs);\n",
    "ax.plot(x_21,DRAFTs_21,'--');\n",
    "ax.set_title('Section water draft')\n",
    "ax.set_xlabel('X [m]')\n",
    "ax.set_ylabel(r'Section water draft [m]')\n",
    "\n",
    "fig,ax=plt.subplots()\n",
    "ax.plot(x,ZBARs);\n",
    "ax.plot(x_21,ZBARs_21,'--');\n",
    "ax.set_title('Sectional centeroid')\n",
    "ax.set_xlabel('X [m]')\n",
    "ax.set_ylabel(r'Sectional centeroid [m]')\n",
    "ax.plot([x.min(),x.max()],[T/2,T/2],'r-');"
   ]
  },
  {
   "cell_type": "markdown",
   "metadata": {},
   "source": [
    "## Save to scoresII indata"
   ]
  },
  {
   "cell_type": "code",
   "execution_count": null,
   "metadata": {},
   "outputs": [],
   "source": [
    "from pyscores2.indata import Indata\n",
    "from pyscores2.runScores2 import Calculation\n",
    "from pyscores2.output import OutputFile"
   ]
  },
  {
   "cell_type": "code",
   "execution_count": null,
   "metadata": {},
   "outputs": [],
   "source": [
    "indata = Indata()"
   ]
  },
  {
   "cell_type": "code",
   "execution_count": null,
   "metadata": {},
   "outputs": [],
   "source": [
    "T = 20\n",
    "wE = 2 * np.pi * 1 / T  # circular frequency\n",
    "wE\n",
    "\n",
    "indata.cScores=SECOEs_21\n",
    "indata.ts=DRAFTs_21\n",
    "indata.bs=BSTARs_21\n",
    "indata.zbars=ZBARs_21\n",
    "\n",
    "kxx=seaway\n",
    "beam=2*BSTARs_21.max()\n",
    "indata.lpp=lpp\n",
    "#indata.displacement=ti.disp\n",
    "indata.displacement=ti.disp\n",
    "draught=ti.d\n",
    "indata.draught=draught\n",
    "indata.g=ti.g\n",
    "indata.kxx=0.19*beam  # Guessing to get correct omega0\n",
    "indata.kyy=0.4*lpp\n",
    "indata.lcb=lcb-lpp/2\n",
    "indata.lpp=lpp\n",
    "indata.projectName='S175'\n",
    "indata.rho=ti.ra\n",
    "indata.zcg=ti.vcg-draught\n",
    "#indata.waveFrequenciesMin=0.2\n",
    "#indata.waveFrequenciesMax=0.5\n",
    "#indata.waveFrequenciesIncrement=0.006\n",
    "\n",
    "indata.waveFrequenciesMin=wE*0.5\n",
    "indata.waveFrequenciesMax=wE*2.0\n",
    "N=50\n",
    "indata.waveFrequenciesIncrement=(indata.waveFrequenciesMax-indata.waveFrequenciesMin)/N\n",
    "\n",
    "indata.runOptions[\"IE\"].set_value(1)"
   ]
  },
  {
   "cell_type": "code",
   "execution_count": null,
   "metadata": {},
   "outputs": [],
   "source": [
    "indata.lcb"
   ]
  },
  {
   "cell_type": "code",
   "execution_count": null,
   "metadata": {},
   "outputs": [],
   "source": [
    "indata.zcg"
   ]
  },
  {
   "cell_type": "code",
   "execution_count": null,
   "metadata": {},
   "outputs": [],
   "source": [
    "indata.kyy"
   ]
  },
  {
   "cell_type": "code",
   "execution_count": null,
   "metadata": {},
   "outputs": [],
   "source": [
    "#indata.runOptions[\"IJ\"].set_value(1)"
   ]
  },
  {
   "cell_type": "code",
   "execution_count": null,
   "metadata": {},
   "outputs": [],
   "source": [
    "indata.waveFrequenciesMax"
   ]
  },
  {
   "cell_type": "code",
   "execution_count": null,
   "metadata": {},
   "outputs": [],
   "source": [
    "calculation = Calculation(outDataDirectory='scores2/result')\n",
    "calculation.run(indata=indata)"
   ]
  },
  {
   "cell_type": "code",
   "execution_count": null,
   "metadata": {},
   "outputs": [],
   "source": [
    "output_file = OutputFile(filePath=calculation.outDataPath)\n",
    "df = output_file.get_result()\n",
    "\n",
    "fig,ax=plt.subplots()\n",
    "for index, group in df.groupby(by=['speed','wave direction'], sort=False):\n",
    "    group.plot(x='frequencies', y='rollAmplitude', style='o-', label=index, ax=ax)\n",
    "    \n",
    "ax.grid(True)\n",
    "ax.legend();\n",
    "ax.set_ylabel('Roll');"
   ]
  },
  {
   "cell_type": "code",
   "execution_count": null,
   "metadata": {},
   "outputs": [],
   "source": [
    "df_roll_damping = output_file.get_roll_damping()\n",
    "df_roll_damping"
   ]
  },
  {
   "cell_type": "markdown",
   "metadata": {},
   "source": [
    "## Damping from Carl-Johan"
   ]
  },
  {
   "cell_type": "code",
   "execution_count": null,
   "metadata": {},
   "outputs": [],
   "source": [
    "import rolldecayestimators\n",
    "csv_damping_path = os.path.join(rolldecayestimators.path,'Bw0_S175.csv')\n",
    "df_Bw0_cj = pd.read_csv(csv_damping_path, sep=';', index_col=0)\n",
    "df_Bw0_cj.head()\n",
    "\n",
    "fig,ax=plt.subplots()\n",
    "df_Bw0_cj.plot(y='b44_vec', ax=ax, label='Carl-Johan')\n",
    "ax.set_ylabel('$B44_W [Nm*s/rad]$')\n",
    "ax.set_xlabel('$\\omega [rad/s]$');"
   ]
  },
  {
   "cell_type": "code",
   "execution_count": null,
   "metadata": {},
   "outputs": [],
   "source": [
    "coefficient_path='scores2/result/S175-COEFF.out'\n",
    "with open(coefficient_path, mode='r') as file:\n",
    "    lines = file.readlines()"
   ]
  },
  {
   "cell_type": "code",
   "execution_count": null,
   "metadata": {},
   "outputs": [],
   "source": [
    "line=lines[0]\n",
    "line"
   ]
  },
  {
   "cell_type": "code",
   "execution_count": null,
   "metadata": {},
   "outputs": [],
   "source": [
    "cols=[1,11,20,30,40,50,60]\n",
    "def split_line(line):\n",
    "    parts=[]\n",
    "    for i in range(len(cols)-1):\n",
    "        start=cols[i]-1\n",
    "        stop=cols[i+1]-1\n",
    "        part=line[start:stop]\n",
    "        parts.append(part)\n",
    "    \n",
    "    return parts"
   ]
  },
  {
   "cell_type": "code",
   "execution_count": null,
   "metadata": {},
   "outputs": [],
   "source": [
    "np.array(split_line(line),dtype=float)"
   ]
  },
  {
   "cell_type": "code",
   "execution_count": null,
   "metadata": {},
   "outputs": [],
   "source": [
    "def read_coefficients(file):\n",
    "    lines = file.readlines()\n",
    "    \n",
    "    data = np.ones(shape=(len(lines),6))\n",
    "    \n",
    "    for i,line in enumerate(lines):\n",
    "        row = np.array(split_line(line),dtype=float)\n",
    "        data[i,:]=row\n",
    "        \n",
    "    return data\n",
    "    "
   ]
  },
  {
   "cell_type": "code",
   "execution_count": null,
   "metadata": {},
   "outputs": [],
   "source": [
    "with open(coefficient_path, mode='r') as file:\n",
    "    data = read_coefficients(file=file)"
   ]
  },
  {
   "cell_type": "code",
   "execution_count": null,
   "metadata": {},
   "outputs": [],
   "source": [
    "mask=data[:,0]==0\n",
    "data=data[mask,:]"
   ]
  },
  {
   "cell_type": "code",
   "execution_count": null,
   "metadata": {},
   "outputs": [],
   "source": [
    "for i in [1,2,3,4,5]:\n",
    "    fig,ax=plt.subplots()\n",
    "    ax.plot(data[:,i])"
   ]
  },
  {
   "cell_type": "code",
   "execution_count": null,
   "metadata": {},
   "outputs": [],
   "source": [
    "df_stations = output_file.get_section_coefficients()"
   ]
  },
  {
   "cell_type": "code",
   "execution_count": null,
   "metadata": {},
   "outputs": [],
   "source": [
    "df_stations.head()"
   ]
  },
  {
   "cell_type": "code",
   "execution_count": null,
   "metadata": {},
   "outputs": [],
   "source": [
    "df_station=df_stations.groupby(by='station').get_group(10)\n",
    "df_station.set_index('FREQ.', inplace=True)"
   ]
  },
  {
   "cell_type": "code",
   "execution_count": null,
   "metadata": {},
   "outputs": [],
   "source": [
    "for key in df_station:\n",
    "    fig,ax=plt.subplots()\n",
    "    df_station.plot(y=key, ax=ax)"
   ]
  },
  {
   "cell_type": "code",
   "execution_count": null,
   "metadata": {},
   "outputs": [],
   "source": [
    "df_station.plot(y='N-SUB(R)');"
   ]
  },
  {
   "cell_type": "code",
   "execution_count": null,
   "metadata": {},
   "outputs": [],
   "source": [
    "(n_rows,_)=df_stations.groupby(by='station').get_group(0).shape\n",
    "N_rs=np.zeros(shape=(n_rows, 21))\n",
    "N_s_phis=np.zeros(shape=(n_rows, 21))\n",
    "N_RSs=np.zeros(shape=(n_rows, 21))\n",
    "N_Ss=np.zeros(shape=(n_rows, 21))\n",
    "\n",
    "for station,df_station in df_stations.groupby(by='station'):\n",
    "    N_rs[:,station] = df_station['N-SUB(R)']\n",
    "    N_s_phis[:,station] = df_station['N(S.PHI)']\n",
    "    N_RSs[:,station] = df_station['N-SUB(R.S)']\n",
    "    N_Ss[:,station] = df_station['N-SUB(S)']\n",
    "    "
   ]
  },
  {
   "cell_type": "code",
   "execution_count": null,
   "metadata": {},
   "outputs": [],
   "source": [
    "N_r=np.zeros(n_rows)\n",
    "N_s_phi=np.zeros(n_rows)\n",
    "N_RS=np.zeros(n_rows)\n",
    "N_S=np.zeros(n_rows)\n",
    "\n",
    "for i in range(n_rows):\n",
    "    N_r[i]=simps(y=N_rs[i,:],x=x_21)\n",
    "    N_s_phi[i]=simps(y=N_s_phis[i,:],x=x_21)\n",
    "    N_RS[i]=simps(y=N_RSs[i,:],x=x_21)\n",
    "    N_S[i]=simps(y=N_Ss[i,:],x=x_21)"
   ]
  },
  {
   "cell_type": "code",
   "execution_count": null,
   "metadata": {},
   "outputs": [],
   "source": [
    "w,B_W0=output_file.calculate_B_W0()\n",
    "g=ti.g\n",
    "ra=ti.ra"
   ]
  },
  {
   "cell_type": "code",
   "execution_count": null,
   "metadata": {},
   "outputs": [],
   "source": [
    "w=df_station['FREQ.']\n",
    "\n",
    "fig,ax=plt.subplots()\n",
    "ax.plot(w,N_r, label='N_r');\n",
    "ax.set_xlim(0,2.5)\n",
    "\n",
    "ax.plot(w,N_s_phi, label='N_s_phi');\n",
    "ax.set_xlim(0,2.5)\n",
    "\n",
    "ax.plot(w,N_RS, label='N_RS');\n",
    "ax.set_xlim(0,2.5)\n",
    "\n",
    "ax.plot(w,N_S, label='N_S');\n",
    "ax.set_xlim(0,2.5)\n",
    "\n",
    "ax.plot(w,B_W0,'--',label='B_W0');\n",
    "ax.set_xlim(0,2.5)\n",
    "ax.set_title('B_W0')\n",
    "ax.legend()"
   ]
  },
  {
   "cell_type": "code",
   "execution_count": null,
   "metadata": {},
   "outputs": [],
   "source": [
    "fig,ax=plt.subplots()\n",
    "df_Bw0_cj.plot(y='b44_vec', ax=ax, label='Carl-Johan')\n",
    "ax.set_ylabel('$B44_W [Nm*s/rad]$')\n",
    "ax.set_xlabel('$\\omega [rad/s]$');\n",
    "ax.plot(w,B_W0,'--',label='B_W');"
   ]
  },
  {
   "cell_type": "code",
   "execution_count": null,
   "metadata": {},
   "outputs": [],
   "source": [
    "from rolldecayestimators import ikeda_speed_S175 as ikeda  # Note that this one is slightly different (I'm not 100% sure wish one is correct)\n",
    "\n",
    "V = np.arange(1,17+1)\n",
    "\n",
    "T = 20\n",
    "wE = 2 * np.pi * 1 / T  # circular frequency\n",
    "fi_a = 5 * np.pi / 180;  # roll amplitude !!rad??\n",
    "\n",
    "inputs = pd.DataFrame(index=V)\n",
    "inputs['V']=V\n",
    "inputs['w']=wE\n",
    "inputs['fi_a']=fi_a\n",
    "inputs['Bw0']=ikeda.Bw0_S175(w=wE)\n",
    "inputs['d']=draught\n",
    "inputs['B']=beam\n",
    "inputs['A']=SECOEs_21[10]*beam*draught\n",
    "inputs['bBK']=ti.bBK\n",
    "inputs['R']=ti.R\n",
    "OG=ti.vcg-draught\n",
    "inputs['OG']=OG\n",
    "inputs['Ho']=ti.Ho\n",
    "\n",
    "inputs['ra']=ra\n",
    "inputs['Cb']=displacement/(lpp*draught*beam)\n",
    "inputs['L']=lpp\n",
    "inputs['LBK']=ti.LBK\n",
    "inputs['visc']=ti.visc\n",
    "\n",
    "inputs['g']=g\n",
    "ND_factor = np.sqrt(beam/(2*g))/(ra*displacement*(beam**2))   # Nondimensiolizing factor of B44\n",
    "\n",
    "results = inputs.apply(func=ikeda.calculate_B44_series, axis=1)"
   ]
  },
  {
   "cell_type": "code",
   "execution_count": null,
   "metadata": {},
   "outputs": [],
   "source": [
    "fig,ax=plt.subplots()\n",
    "result_nondim = results*ND_factor\n",
    "result_nondim.plot.area(y = ['B_BK','B_L','B_W','B_F'], ax=ax);"
   ]
  },
  {
   "cell_type": "code",
   "execution_count": null,
   "metadata": {},
   "outputs": [],
   "source": [
    "inputs['Bw0']=np.interp(wE,w,B_W0)\n",
    "results = inputs.apply(func=ikeda.calculate_B44_series, axis=1)\n",
    "\n",
    "fig,ax=plt.subplots()\n",
    "result_nondim = results*ND_factor\n",
    "result_nondim.plot.area(y = ['B_BK','B_L','B_W','B_F'], ax=ax);"
   ]
  },
  {
   "cell_type": "code",
   "execution_count": null,
   "metadata": {},
   "outputs": [],
   "source": [
    "from rolldecayestimators.ikeda_speed import calculate_sectional_lewis, eddy"
   ]
  },
  {
   "cell_type": "code",
   "execution_count": null,
   "metadata": {},
   "outputs": [],
   "source": [
    "a, a_1, a_3, sigma_s, H = calculate_sectional_lewis(B_s=indata.bs, T_s=indata.ts, S_s=areas_21)\n",
    "\n",
    "R=2\n",
    "d=draught\n",
    "B_E = eddy(bwl=indata.bs, a_1=a_1, a_3=a_3, sigma=sigma_s, xs=x_21, H0=H, Ts=indata.ts, \n",
    "                 OG=OG, R=R, d=d, wE=wE, fi_a=fi_a)\n",
    "B_E_hat = B_E*ND_factor"
   ]
  },
  {
   "cell_type": "code",
   "execution_count": null,
   "metadata": {},
   "outputs": [],
   "source": [
    "equations.omega_hat_equation"
   ]
  },
  {
   "cell_type": "code",
   "execution_count": null,
   "metadata": {},
   "outputs": [],
   "source": [
    "sp.solve(equations.omega_hat_equation, symbols.omega)[0]"
   ]
  },
  {
   "cell_type": "code",
   "execution_count": null,
   "metadata": {},
   "outputs": [],
   "source": [
    "omega_from_hat = lambdify(sp.solve(equations.omega_hat_equation, symbols.omega)[0])"
   ]
  },
  {
   "cell_type": "code",
   "execution_count": null,
   "metadata": {},
   "outputs": [],
   "source": [
    "w_hats = np.linspace(0,1,10) \n",
    "B_E_hats = []\n",
    "for w_hat in w_hats:\n",
    "    \n",
    "    w = omega_from_hat(beam=beam, g=g, omega_hat=w_hat)\n",
    "    B_E = eddy(bwl=indata.bs, a_1=a_1, a_3=a_3, sigma=sigma_s, xs=x_21, H0=H, Ts=indata.ts, \n",
    "                 OG=OG, R=R, d=d, wE=w, fi_a=fi_a)\n",
    "    B_E_hat = B_E*ND_factor\n",
    "    B_E_hats.append(B_E_hat)\n",
    "    \n",
    "fig,ax=plt.subplots()\n",
    "ax.plot(w_hats, B_E_hats)\n",
    "ax.ticklabel_format(style='sci', axis='y', scilimits=(0,0))"
   ]
  },
  {
   "cell_type": "code",
   "execution_count": null,
   "metadata": {},
   "outputs": [],
   "source": [
    "OG"
   ]
  },
  {
   "cell_type": "code",
   "execution_count": null,
   "metadata": {},
   "outputs": [],
   "source": [
    "from pandas import util\n",
    "X=np.random.rand(2,3)\n",
    "X"
   ]
  },
  {
   "cell_type": "code",
   "execution_count": null,
   "metadata": {},
   "outputs": [],
   "source": [
    "simps(X, axis=0, x=[1,2])"
   ]
  },
  {
   "cell_type": "code",
   "execution_count": null,
   "metadata": {},
   "outputs": [],
   "source": []
  },
  {
   "cell_type": "code",
   "execution_count": null,
   "metadata": {},
   "outputs": [],
   "source": []
  }
 ],
 "metadata": {
  "kernelspec": {
   "display_name": "Python 3",
   "language": "python",
   "name": "python3"
  },
  "language_info": {
   "codemirror_mode": {
    "name": "ipython",
    "version": 3
   },
   "file_extension": ".py",
   "mimetype": "text/x-python",
   "name": "python",
   "nbconvert_exporter": "python",
   "pygments_lexer": "ipython3",
   "version": "3.5.4"
  }
 },
 "nbformat": 4,
 "nbformat_minor": 4
}
