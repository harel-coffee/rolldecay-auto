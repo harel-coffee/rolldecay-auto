{
 "cells": [
  {
   "cell_type": "markdown",
   "metadata": {},
   "source": [
    "# Ikeda for many ships\n",
    "There are some interesting section data in the manoeuvring database, here it is investigated if this can be used as input to *ScoresII*."
   ]
  },
  {
   "cell_type": "code",
   "execution_count": null,
   "metadata": {},
   "outputs": [],
   "source": [
    "# %load ../../imports.py\n",
    "\"\"\"\n",
    "These is the standard setup for the notebooks.\n",
    "\"\"\"\n",
    "\n",
    "%matplotlib inline\n",
    "%load_ext autoreload\n",
    "%autoreload 2\n",
    "\n",
    "from jupyterthemes import jtplot\n",
    "jtplot.style(theme='onedork', context='notebook', ticks=True, grid=False)\n",
    "\n",
    "import pandas as pd\n",
    "pd.options.display.max_rows = 999\n",
    "pd.options.display.max_columns = 999\n",
    "pd.set_option(\"display.max_columns\", None)\n",
    "import numpy as np\n",
    "import os\n",
    "import matplotlib.pyplot as plt\n",
    "#plt.style.use('paper')\n",
    "\n",
    "#import data\n",
    "import copy\n",
    "from rolldecay.bis_system import BisSystem\n",
    "from rolldecay import database\n",
    "from mdldb.tables import Run\n",
    "\n",
    "from sklearn.pipeline import Pipeline\n",
    "from rolldecayestimators.transformers import CutTransformer, LowpassFilterDerivatorTransformer, ScaleFactorTransformer, OffsetTransformer\n",
    "from rolldecayestimators.direct_estimator_cubic import EstimatorQuadraticB, EstimatorCubic\n",
    "from rolldecayestimators.ikeda_estimator import IkedaQuadraticEstimator\n",
    "import rolldecayestimators.equations as equations\n",
    "import rolldecayestimators.lambdas as lambdas\n",
    "from rolldecayestimators.substitute_dynamic_symbols import lambdify\n",
    "import rolldecayestimators.symbols as symbols\n",
    "import sympy as sp\n",
    "\n",
    "from sklearn.metrics import r2_score\n",
    "\n"
   ]
  },
  {
   "cell_type": "code",
   "execution_count": null,
   "metadata": {},
   "outputs": [],
   "source": [
    "df = pd.read_csv('sections.csv', sep=';', index_col=0)\n",
    "mask=df['b20'].notnull()\n",
    "df=df.loc[mask].copy()\n",
    "df.drop(index=['DAE18A','DAE18B'], inplace=True)  # Bad project number\n",
    "df['Project No']=df['Project No'].astype(int)"
   ]
  },
  {
   "cell_type": "code",
   "execution_count": null,
   "metadata": {},
   "outputs": [],
   "source": [
    "df_rolldecay = database.load(rolldecay_table_name='rolldecay_quadratic_b', limit_score=0.99, \n",
    "                             exclude_table_name='rolldecay_exclude')"
   ]
  },
  {
   "cell_type": "code",
   "execution_count": null,
   "metadata": {},
   "outputs": [],
   "source": [
    "interesting_projects = set(df_rolldecay['project_number']) & set(df['Project No'])\n",
    "interesting_projects"
   ]
  },
  {
   "cell_type": "code",
   "execution_count": null,
   "metadata": {},
   "outputs": [],
   "source": [
    "def assemble_sections(row):\n",
    "    \n",
    "    b=np.zeros(21)\n",
    "    area=np.zeros(21)\n",
    "    t=np.zeros(21)\n",
    "    for i in range(21):\n",
    "        b_key='b%i' % i\n",
    "        area_key='area%i' % i\n",
    "        t_key = 't%i' % i\n",
    "        b[i]=row[b_key]\n",
    "        area[i]=row[area_key]\n",
    "        t[i]=row[t_key]\n",
    "    \n",
    "    df_sections = pd.DataFrame()\n",
    "    df_sections['b']=b\n",
    "    df_sections['area']=area\n",
    "    df_sections['t']=t\n",
    "    df_sections['SHIP']=int(row['SHIP'])\n",
    "    df_sections['Project No']=row['Project No']\n",
    "    df_sections.dropna(inplace=True)\n",
    "    return df_sections"
   ]
  },
  {
   "cell_type": "code",
   "execution_count": null,
   "metadata": {},
   "outputs": [],
   "source": [
    "df_sections = pd.DataFrame()\n",
    "\n",
    "for index, row in df.iterrows():\n",
    "    df_ = assemble_sections(row=row)\n",
    "    df_['ID']=index\n",
    "    df_sections=df_sections.append(df_)"
   ]
  },
  {
   "cell_type": "code",
   "execution_count": null,
   "metadata": {},
   "outputs": [],
   "source": [
    "def count_variations(df_group):\n",
    "    df_group=df_group.copy()\n",
    "    df_group.drop(columns=['SHIP'], inplace=True)\n",
    "    \n",
    "    for key, values in df_group.items():\n",
    "        variations = len(values.unique())\n",
    "        if not variations==1:\n",
    "            break\n",
    "            \n",
    "    return variations\n",
    "    "
   ]
  },
  {
   "cell_type": "code",
   "execution_count": null,
   "metadata": {},
   "outputs": [],
   "source": [
    "df.groupby(by='Project No').get_group('20000157')"
   ]
  },
  {
   "cell_type": "code",
   "execution_count": null,
   "metadata": {},
   "outputs": [],
   "source": [
    "df.groupby(by='Project No').apply(func=count_variations)            \n",
    "    \n",
    "        \n",
    "    "
   ]
  },
  {
   "cell_type": "code",
   "execution_count": null,
   "metadata": {},
   "outputs": [],
   "source": [
    "df_rolldecay.iloc[0]"
   ]
  },
  {
   "cell_type": "code",
   "execution_count": null,
   "metadata": {},
   "outputs": [],
   "source": []
  }
 ],
 "metadata": {
  "kernelspec": {
   "display_name": "Python 3",
   "language": "python",
   "name": "python3"
  },
  "language_info": {
   "codemirror_mode": {
    "name": "ipython",
    "version": 3
   },
   "file_extension": ".py",
   "mimetype": "text/x-python",
   "name": "python",
   "nbconvert_exporter": "python",
   "pygments_lexer": "ipython3",
   "version": "3.6.8"
  }
 },
 "nbformat": 4,
 "nbformat_minor": 4
}
