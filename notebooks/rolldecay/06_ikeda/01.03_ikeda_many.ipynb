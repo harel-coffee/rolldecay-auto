{
 "cells": [
  {
   "cell_type": "markdown",
   "metadata": {},
   "source": [
    "# Ikeda for many ships\n",
    "There are some interesting section data in the manoeuvring database, here it is investigated if this can be used as input to *ScoresII*."
   ]
  },
  {
   "cell_type": "code",
   "execution_count": null,
   "metadata": {},
   "outputs": [],
   "source": [
    "# %load ../../imports.py\n",
    "\"\"\"\n",
    "These is the standard setup for the notebooks.\n",
    "\"\"\"\n",
    "\n",
    "%matplotlib inline\n",
    "%load_ext autoreload\n",
    "%autoreload 2\n",
    "\n",
    "from jupyterthemes import jtplot\n",
    "jtplot.style(theme='onedork', context='notebook', ticks=True, grid=False)\n",
    "\n",
    "import pandas as pd\n",
    "pd.options.display.max_rows = 999\n",
    "pd.options.display.max_columns = 999\n",
    "pd.set_option(\"display.max_columns\", None)\n",
    "import numpy as np\n",
    "import os\n",
    "import matplotlib.pyplot as plt\n",
    "#plt.style.use('paper')\n",
    "\n",
    "#import data\n",
    "import copy\n",
    "from rolldecay.bis_system import BisSystem\n",
    "from rolldecay import database\n",
    "from mdldb.tables import Run\n",
    "\n",
    "from sklearn.pipeline import Pipeline\n",
    "from rolldecayestimators.transformers import CutTransformer, LowpassFilterDerivatorTransformer, ScaleFactorTransformer, OffsetTransformer\n",
    "from rolldecayestimators.direct_estimator_cubic import EstimatorQuadraticB, EstimatorCubic\n",
    "from rolldecayestimators.ikeda_estimator import IkedaQuadraticEstimator\n",
    "import rolldecayestimators.equations as equations\n",
    "import rolldecayestimators.lambdas as lambdas\n",
    "from rolldecayestimators.substitute_dynamic_symbols import lambdify\n",
    "import rolldecayestimators.symbols as symbols\n",
    "import sympy as sp\n",
    "\n",
    "from sklearn.metrics import r2_score\n",
    "\n"
   ]
  },
  {
   "cell_type": "code",
   "execution_count": null,
   "metadata": {},
   "outputs": [],
   "source": [
    "df_sections = pd.read_csv('sections.csv', sep=';', index_col=0)\n",
    "mask=df_sections['b20'].notnull()\n",
    "df_sections=df_sections.loc[mask].copy()\n",
    "df_sections.drop(index=['DAE18A','DAE18B'], inplace=True)  # Bad project number\n",
    "df_sections['Project No']=df_sections['Project No'].astype(int)"
   ]
  },
  {
   "cell_type": "code",
   "execution_count": null,
   "metadata": {},
   "outputs": [],
   "source": [
    "df_data = pd.read_csv('ship_data.csv', sep=';', index_col=0)"
   ]
  },
  {
   "cell_type": "code",
   "execution_count": null,
   "metadata": {},
   "outputs": [],
   "source": [
    "df_data.head()"
   ]
  },
  {
   "cell_type": "code",
   "execution_count": null,
   "metadata": {},
   "outputs": [],
   "source": [
    "df_sections_data=pd.merge(left=df_sections, right=df_data, how='left', left_on='SHIP', right_on='SHIP', \n",
    "         suffixes=('','_data'))\n",
    "df_sections_data.set_index('SHIP', inplace=True)\n",
    "assert df_sections_data.index.is_unique\n"
   ]
  },
  {
   "cell_type": "code",
   "execution_count": null,
   "metadata": {},
   "outputs": [],
   "source": [
    "df_sections_data.describe()"
   ]
  },
  {
   "cell_type": "code",
   "execution_count": null,
   "metadata": {},
   "outputs": [],
   "source": [
    "df_rolldecay = database.load(rolldecay_table_name='rolldecay_quadratic_b', limit_score=0.99, \n",
    "                             exclude_table_name='rolldecay_exclude')"
   ]
  },
  {
   "cell_type": "code",
   "execution_count": null,
   "metadata": {},
   "outputs": [],
   "source": [
    "interesting_projects = set(df_rolldecay['project_number']) & set(df_sections_data['Project No'])\n",
    "interesting_projects"
   ]
  },
  {
   "cell_type": "code",
   "execution_count": null,
   "metadata": {},
   "outputs": [],
   "source": [
    "df_=df_sections_data.reset_index()\n",
    "df = pd.merge(left=df_, right=df_rolldecay, how='inner', left_on=('Project No','DISP'), \n",
    "         right_on=('project_number','Volume'), suffixes=('','_model'))"
   ]
  },
  {
   "cell_type": "code",
   "execution_count": null,
   "metadata": {},
   "outputs": [],
   "source": [
    "df.describe()"
   ]
  },
  {
   "cell_type": "code",
   "execution_count": null,
   "metadata": {},
   "outputs": [],
   "source": [
    "mask=df['id'].notnull()\n",
    "df = df.loc[mask].copy()"
   ]
  },
  {
   "cell_type": "code",
   "execution_count": null,
   "metadata": {},
   "outputs": [],
   "source": [
    "def assemble_sections(row, lpp):\n",
    "    \n",
    "    b=np.zeros(21)\n",
    "    area=np.zeros(21)\n",
    "    t=np.zeros(21)\n",
    "    for i in range(21):\n",
    "        b_key='b%i' % i\n",
    "        area_key='area%i' % i\n",
    "        t_key = 't%i' % i\n",
    "        b[i]=row[b_key]\n",
    "        area[i]=row[area_key]\n",
    "        t[i]=row[t_key]\n",
    "    \n",
    "    df_sections = pd.DataFrame()\n",
    "    df_sections['b']=b\n",
    "    df_sections['area']=area\n",
    "    df_sections['t']=t\n",
    "    df_sections['x']=np.linspace(0,lpp,21)\n",
    "    df_sections['SHIP']=int(row['SHIP'])\n",
    "    df_sections['Project No']=row['Project No']\n",
    "    \n",
    "    df_sections.dropna(inplace=True)\n",
    "    return df_sections"
   ]
  },
  {
   "cell_type": "code",
   "execution_count": null,
   "metadata": {},
   "outputs": [],
   "source": [
    "df_sections_data"
   ]
  },
  {
   "cell_type": "code",
   "execution_count": null,
   "metadata": {},
   "outputs": [],
   "source": [
    "df_all_sections = pd.DataFrame()\n",
    "\n",
    "for index, row in df_sections.iterrows():\n",
    "    data = df_sections_data.loc[row.SHIP]\n",
    "    lpp=data.LPP\n",
    "    df_ = assemble_sections(row=row, lpp=lpp)\n",
    "    df_all_sections=df_all_sections.append(df_)\n"
   ]
  },
  {
   "cell_type": "code",
   "execution_count": null,
   "metadata": {},
   "outputs": [],
   "source": [
    "df_all_sections.head()"
   ]
  },
  {
   "cell_type": "code",
   "execution_count": null,
   "metadata": {},
   "outputs": [],
   "source": [
    "def count_variations(df_group):\n",
    "    df_group=df_group.copy()\n",
    "     \n",
    "    for i in range(21):\n",
    "        b_key='b%i' % i\n",
    "        area_key='area%i' % i\n",
    "        t_key = 't%i' % i\n",
    "    \n",
    "        keys=[b_key, area_key, t_key]\n",
    "        \n",
    "        for key in keys:\n",
    "            variations = len(df_group[key].unique())\n",
    "            if not variations==1:\n",
    "                break\n",
    "        \n",
    "        if not variations==1:\n",
    "                break\n",
    "            \n",
    "    return variations\n",
    "    "
   ]
  },
  {
   "cell_type": "code",
   "execution_count": null,
   "metadata": {},
   "outputs": [],
   "source": [
    "df.groupby(by='Project No').apply(func=count_variations)            "
   ]
  },
  {
   "cell_type": "code",
   "execution_count": null,
   "metadata": {},
   "outputs": [],
   "source": [
    "mask = ~df.duplicated(['SHIP','loading_condition_id'], keep='first')\n",
    "df_ids = df.loc[mask,['SHIP','loading_condition_id']].copy()\n",
    "df_ids.set_index('SHIP', inplace=True)\n",
    "assert df_ids.index.is_unique"
   ]
  },
  {
   "cell_type": "code",
   "execution_count": null,
   "metadata": {},
   "outputs": [],
   "source": [
    "loading_condition_ids = df_ids['loading_condition_id']"
   ]
  },
  {
   "cell_type": "code",
   "execution_count": null,
   "metadata": {},
   "outputs": [],
   "source": [
    "df_all_sections=pd.merge(left=df_all_sections, right=loading_condition_ids, how='outer', left_on='SHIP', right_index=True)"
   ]
  },
  {
   "cell_type": "markdown",
   "metadata": {},
   "source": [
    "## Run ScoresII for one of the loading conditions"
   ]
  },
  {
   "cell_type": "code",
   "execution_count": null,
   "metadata": {},
   "outputs": [],
   "source": [
    "row=df.iloc[0]\n",
    "sections = df_all_sections.groupby('SHIP').get_group(row.SHIP)\n",
    "\n",
    "fig,axes=plt.subplots(nrows=3)\n",
    "ax=axes[0]\n",
    "ax.set_title('Project: %s loading_condition: %i' % (row.project_number, row.loading_condition_id))\n",
    "sections.plot(x='x', y='b', ax=ax);\n",
    "ax.plot([0,row.LPP], [row.B,row.B], 'r--')\n",
    "\n",
    "ax=axes[1]\n",
    "sections.plot(x='x', y='t', ax=ax);\n",
    "ax.plot([0,row.LPP], [row.TF,row.TF], 'r--')\n",
    "\n",
    "ax=axes[2]\n",
    "sections.plot(x='x', y='area', ax=ax);\n",
    "plt.tight_layout()"
   ]
  },
  {
   "cell_type": "code",
   "execution_count": null,
   "metadata": {},
   "outputs": [],
   "source": [
    "row"
   ]
  },
  {
   "cell_type": "code",
   "execution_count": null,
   "metadata": {},
   "outputs": [],
   "source": [
    "from pyscores2.indata import Indata\n",
    "from pyscores2.runScores2 import Calculation\n",
    "from pyscores2.output import OutputFile\n",
    "from pyscores2 import TDPError\n",
    "from rolldecayestimators.ikeda import Ikeda, IkedaR"
   ]
  },
  {
   "cell_type": "code",
   "execution_count": null,
   "metadata": {},
   "outputs": [],
   "source": [
    "sections['cScores']=sections['area']/(sections['b']*sections['t'])\n",
    "mask=sections['cScores']>1\n",
    "sections[mask]=1\n",
    "sections"
   ]
  },
  {
   "cell_type": "code",
   "execution_count": null,
   "metadata": {},
   "outputs": [],
   "source": [
    "indata = Indata()\n",
    "\n",
    "indata.cScores=sections['cScores']\n",
    "indata.ts=sections['t']\n",
    "indata.bs=sections['b']\n",
    "indata.zbars=np.zeros_like(sections['b'])  # Guessing...\n",
    "\n",
    "beam=sections['b'].max()\n",
    "indata.lpp=row.lpp\n",
    "indata.displacement=row.Volume\n",
    "draught=(row.TA+row.TF)/2\n",
    "indata.draught=draught\n",
    "g=9.81\n",
    "indata.g=g\n",
    "indata.kxx=row.KXX\n",
    "indata.kyy=row.KYY\n",
    "indata.lcb=row.LCG\n",
    "indata.lpp=row.lpp\n",
    "indata.projectName=str(row.loading_condition_id)\n",
    "rho=1000\n",
    "indata.rho=rho\n",
    "indata.zcg=row.kg-draught\n",
    "#indata.waveFrequenciesMin=0.2\n",
    "#indata.waveFrequenciesMax=0.5\n",
    "#indata.waveFrequenciesIncrement=0.006\n",
    "w=row.omega0/np.sqrt(row.scale_factor)\n",
    "indata.waveFrequenciesMin=w*0.5\n",
    "indata.waveFrequenciesMax=w*2.0\n",
    "N=40\n",
    "indata.waveFrequenciesIncrement=(indata.waveFrequenciesMax-indata.waveFrequenciesMin)/N\n",
    "indata.runOptions[\"IE\"].set_value(1)"
   ]
  },
  {
   "cell_type": "code",
   "execution_count": null,
   "metadata": {},
   "outputs": [],
   "source": [
    "indata.runOptions[\"IG\"].set_value(0)"
   ]
  },
  {
   "cell_type": "code",
   "execution_count": null,
   "metadata": {},
   "outputs": [],
   "source": [
    "indata.speedMax"
   ]
  },
  {
   "cell_type": "code",
   "execution_count": null,
   "metadata": {},
   "outputs": [],
   "source": [
    "indata.save('test.in')"
   ]
  },
  {
   "cell_type": "code",
   "execution_count": null,
   "metadata": {},
   "outputs": [],
   "source": [
    "calculation = Calculation(outDataDirectory='scores2/result')\n",
    "try:\n",
    "    calculation.run(indata=indata)\n",
    "except TDPError:\n",
    "    print('Dissregarding the TDPError')"
   ]
  },
  {
   "cell_type": "code",
   "execution_count": null,
   "metadata": {},
   "outputs": [],
   "source": [
    "output_file = OutputFile(filePath=calculation.outDataPath)\n",
    "#df = output_file.get_result()\n",
    "#\n",
    "#fig,ax=plt.subplots()\n",
    "#for index, group in df.groupby(by=['speed','wave direction'], sort=False):\n",
    "#    group.plot(x='frequencies', y='rollAmplitude', style='o-', label=index, ax=ax)\n",
    "#    \n",
    "#ax.grid(True)\n",
    "#ax.legend();\n",
    "#ax.set_ylabel('Roll');"
   ]
  },
  {
   "cell_type": "code",
   "execution_count": null,
   "metadata": {},
   "outputs": [],
   "source": [
    "w,B_W0=output_file.calculate_B_W0()"
   ]
  },
  {
   "cell_type": "code",
   "execution_count": null,
   "metadata": {},
   "outputs": [],
   "source": [
    "fi_a = np.deg2rad(10)\n",
    "w = row.omega0\n",
    "scale_factor=row.scale_factor\n",
    "V = row.ship_speed*1.852/3.6/np.sqrt(scale_factor)\n",
    "R = 0.01*row.beam/scale_factor\n",
    "lBK=row.BKL/scale_factor\n",
    "bBK=row.BKB/scale_factor\n",
    "ikeda = Ikeda.load_scoresII(V=V, w=w, fi_a=fi_a, indata=indata, output_file=output_file, \n",
    "                            scale_factor=scale_factor, lBK=lBK, bBK=bBK)\n",
    "\n",
    "ikeda.R = R\n",
    "ikeda.calculate_B44()"
   ]
  },
  {
   "cell_type": "code",
   "execution_count": null,
   "metadata": {},
   "outputs": [],
   "source": [
    "ikeda_r = IkedaR.load_scoresII(V=V, w=w, fi_a=fi_a, indata=indata, output_file=output_file, \n",
    "                            scale_factor=scale_factor, lBK=lBK, bBK=bBK)\n",
    "\n",
    "ikeda_r.calculate_B44()"
   ]
  },
  {
   "cell_type": "code",
   "execution_count": null,
   "metadata": {},
   "outputs": [],
   "source": [
    "B_e = lambdas.B_e_lambda(B_1=row['B_1'], B_2=row['B_2'], phi_a=fi_a, \n",
    "                   omega0=row['omega0'])\n",
    "\n",
    "volume=row.Volume/(scale_factor**3)\n",
    "beam=row.beam/scale_factor\n",
    "\n",
    "B_e_hat = lambdas.B_e_hat_lambda(B_e=B_e, Disp=volume, beam=beam, \n",
    "                                 g=g, rho=rho)\n",
    "B_e_hat"
   ]
  },
  {
   "cell_type": "code",
   "execution_count": null,
   "metadata": {},
   "outputs": [],
   "source": [
    "def calculate(inputs, ikeda):\n",
    "\n",
    "    output = inputs.copy()\n",
    "    output['B_44_hat'] = ikeda.calculate_B44()\n",
    "    output['B_W0'] =ikeda.calculate_B_W0()\n",
    "    output['B_W'] =ikeda.calculate_B_W()\n",
    "    output['B_F'] =ikeda.calculate_B_F()\n",
    "    output['B_E'] =ikeda.calculate_B_E()\n",
    "    output['B_BK'] =ikeda.calculate_B_BK()\n",
    "    output['B_L'] =ikeda.calculate_B_L()\n",
    "    output['Bw_div_Bw0'] =ikeda.calculate_Bw_div_Bw0()\n",
    "    \n",
    "    return output"
   ]
  },
  {
   "cell_type": "code",
   "execution_count": null,
   "metadata": {},
   "outputs": [],
   "source": [
    "scale_factor=row.scale_factor\n",
    "inputs = pd.DataFrame()\n",
    "inputs['Fn']=np.linspace(0,0.2,100)\n",
    "inputs['lpp']=indata.lpp/scale_factor\n",
    "inputs['V']=inputs['Fn']*np.sqrt(inputs['lpp']*g)\n",
    "\n",
    "fi_a = np.deg2rad(10)\n",
    "w = row.omega0\n",
    "\n",
    "R = 0.01*row.beam/scale_factor\n",
    "lBK=row.BKL/scale_factor\n",
    "bBK=row.BKB/scale_factor\n",
    "ikeda = Ikeda.load_scoresII(V=inputs['V'], w=w, fi_a=fi_a, indata=indata, output_file=output_file, \n",
    "                            scale_factor=scale_factor, lBK=lBK, bBK=bBK)\n",
    "ikeda.R=R"
   ]
  },
  {
   "cell_type": "code",
   "execution_count": null,
   "metadata": {},
   "outputs": [],
   "source": [
    "output = calculate(inputs=inputs, ikeda=ikeda)\n",
    "\n",
    "fig,ax=plt.subplots()\n",
    "output.plot.area(x='Fn', y = ['B_BK','B_F','B_E','B_L','B_W',], ax=ax)\n",
    "ax.legend()\n",
    "#ax.set_ylim(0,0.014)\n",
    "#ax.set_title('Original Ikeda compared to model tests');"
   ]
  }
 ],
 "metadata": {
  "kernelspec": {
   "display_name": "Python 3",
   "language": "python",
   "name": "python3"
  },
  "language_info": {
   "codemirror_mode": {
    "name": "ipython",
    "version": 3
   },
   "file_extension": ".py",
   "mimetype": "text/x-python",
   "name": "python",
   "nbconvert_exporter": "python",
   "pygments_lexer": "ipython3",
   "version": "3.6.8"
  }
 },
 "nbformat": 4,
 "nbformat_minor": 4
}
