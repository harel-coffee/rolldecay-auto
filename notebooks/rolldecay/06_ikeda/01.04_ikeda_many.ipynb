{
 "cells": [
  {
   "cell_type": "markdown",
   "metadata": {},
   "source": [
    "# Ikeda for many ships\n",
    "The method developed in: ([01.03_ikeda_many_dev](06_ikeda/01.03_ikeda_many_dev.ipynb)) will now be attempted for many ships."
   ]
  },
  {
   "cell_type": "code",
   "execution_count": null,
   "metadata": {},
   "outputs": [],
   "source": [
    "# %load ../../imports.py\n",
    "\"\"\"\n",
    "These is the standard setup for the notebooks.\n",
    "\"\"\"\n",
    "\n",
    "%matplotlib inline\n",
    "%load_ext autoreload\n",
    "%autoreload 2\n",
    "\n",
    "from jupyterthemes import jtplot\n",
    "jtplot.style(theme='onedork', context='notebook', ticks=True, grid=False)\n",
    "\n",
    "import pandas as pd\n",
    "pd.options.display.max_rows = 999\n",
    "pd.options.display.max_columns = 999\n",
    "pd.set_option(\"display.max_columns\", None)\n",
    "import numpy as np\n",
    "import os\n",
    "import matplotlib.pyplot as plt\n",
    "#plt.style.use('paper')\n",
    "\n",
    "#import data\n",
    "import copy\n",
    "from rolldecay.bis_system import BisSystem\n",
    "from rolldecay import database\n",
    "from mdldb.tables import Run\n",
    "\n",
    "from sklearn.pipeline import Pipeline\n",
    "from rolldecayestimators.transformers import CutTransformer, LowpassFilterDerivatorTransformer, ScaleFactorTransformer, OffsetTransformer\n",
    "from rolldecayestimators.direct_estimator_cubic import EstimatorQuadraticB, EstimatorCubic\n",
    "from rolldecayestimators.ikeda_estimator import IkedaQuadraticEstimator\n",
    "import rolldecayestimators.equations as equations\n",
    "import rolldecayestimators.lambdas as lambdas\n",
    "from rolldecayestimators.substitute_dynamic_symbols import lambdify\n",
    "import rolldecayestimators.symbols as symbols\n",
    "import sympy as sp\n",
    "\n",
    "from sklearn.metrics import r2_score\n",
    "\n"
   ]
  },
  {
   "cell_type": "code",
   "execution_count": null,
   "metadata": {},
   "outputs": [],
   "source": [
    "from pyscores2.indata import Indata\n",
    "from pyscores2.runScores2 import Calculation\n",
    "from pyscores2.output import OutputFile\n",
    "from pyscores2 import TDPError\n",
    "from rolldecayestimators.ikeda import Ikeda, IkedaR"
   ]
  },
  {
   "cell_type": "code",
   "execution_count": null,
   "metadata": {},
   "outputs": [],
   "source": [
    "df_all_sections_id = pd.read_csv('all_sections.csv', sep=';')\n",
    "df_all_sections_id.head()"
   ]
  },
  {
   "cell_type": "code",
   "execution_count": null,
   "metadata": {},
   "outputs": [],
   "source": [
    "section_groups=df_all_sections_id.groupby(by='loading_condition_id')"
   ]
  },
  {
   "cell_type": "code",
   "execution_count": null,
   "metadata": {},
   "outputs": [],
   "source": [
    "loading_condition_ids = df_all_sections_id['loading_condition_id'].unique()\n",
    "mask=pd.notnull(loading_condition_ids)\n",
    "loading_condition_ids=loading_condition_ids[mask]"
   ]
  },
  {
   "cell_type": "code",
   "execution_count": null,
   "metadata": {},
   "outputs": [],
   "source": [
    "df_rolldecay = database.load(rolldecay_table_name='rolldecay_quadratic_b', limit_score=0.99, \n",
    "                             exclude_table_name='rolldecay_exclude')"
   ]
  },
  {
   "cell_type": "code",
   "execution_count": null,
   "metadata": {},
   "outputs": [],
   "source": [
    "mask=df_rolldecay['loading_condition_id'].isin(loading_condition_ids)\n",
    "df=df_rolldecay.loc[mask].copy()"
   ]
  },
  {
   "cell_type": "code",
   "execution_count": null,
   "metadata": {},
   "outputs": [],
   "source": [
    "def add_cScores(sections):\n",
    "    sections=sections.copy()\n",
    "    sections['cScores']=sections['area']/(sections['b']*sections['t'])\n",
    "    mask=sections['cScores']>1\n",
    "    sections.loc[mask,'cScores']=1\n",
    "    return sections"
   ]
  },
  {
   "cell_type": "code",
   "execution_count": null,
   "metadata": {},
   "outputs": [],
   "source": [
    "from scipy.integrate import simps\n",
    "def calculate_lcb(x, area):\n",
    "    \"\"\"\n",
    "    Calculate lcb from AP\n",
    "    \"\"\"\n",
    "    return simps(y=area*x,x=x)/np.trapz(y=area,x=x)"
   ]
  },
  {
   "cell_type": "code",
   "execution_count": null,
   "metadata": {},
   "outputs": [],
   "source": [
    "def define_indata(row, rho=1000, g=9.81):\n",
    "    \n",
    "    indata = Indata()\n",
    "\n",
    "    indata.cScores=sections['cScores']\n",
    "    indata.ts=sections['t']\n",
    "    indata.bs=sections['b']\n",
    "    indata.zbars=np.zeros_like(sections['b'])  # Guessing...\n",
    "    \n",
    "    beam=sections['b'].max()\n",
    "    indata.lpp=row.lpp\n",
    "    indata.displacement=row.Volume\n",
    "    draught=(row.TA+row.TF)/2\n",
    "    indata.draught=draught\n",
    "    \n",
    "    indata.g=g\n",
    "    indata.kxx=row.KXX\n",
    "    indata.kyy=row.lpp*0.4\n",
    "    lcb=calculate_lcb(x=sections['x'], area=sections['area'])\n",
    "    indata.lcb=lcb-row.lpp/2\n",
    "    indata.lpp=row.lpp\n",
    "    indata.projectName=str(row.loading_condition_id)\n",
    "    \n",
    "    indata.rho=rho\n",
    "    indata.zcg=row.kg-draught\n",
    "    #indata.waveFrequenciesMin=0.2\n",
    "    #indata.waveFrequenciesMax=0.5\n",
    "    #indata.waveFrequenciesIncrement=0.006\n",
    "    w=row.omega0/np.sqrt(row.scale_factor)\n",
    "    indata.waveFrequenciesMin=w*0.5\n",
    "    indata.waveFrequenciesMax=w*2.0\n",
    "    N=40\n",
    "    indata.waveFrequenciesIncrement=(indata.waveFrequenciesMax-indata.waveFrequenciesMin)/N\n",
    "    indata.runOptions[\"IE\"].set_value(1)\n",
    "    \n",
    "    return indata"
   ]
  },
  {
   "cell_type": "code",
   "execution_count": null,
   "metadata": {},
   "outputs": [],
   "source": [
    "for run_name, row in df.iterrows():\n",
    "    loading_condition_id=row['loading_condition_id']\n",
    "    sections = section_groups.get_group(loading_condition_id)\n",
    "    sections=add_cScores(sections)\n",
    "    \n",
    "    indata = define_indata(row)"
   ]
  },
  {
   "cell_type": "code",
   "execution_count": null,
   "metadata": {},
   "outputs": [],
   "source": []
  }
 ],
 "metadata": {
  "kernelspec": {
   "display_name": "Python 3",
   "language": "python",
   "name": "python3"
  },
  "language_info": {
   "codemirror_mode": {
    "name": "ipython",
    "version": 3
   },
   "file_extension": ".py",
   "mimetype": "text/x-python",
   "name": "python",
   "nbconvert_exporter": "python",
   "pygments_lexer": "ipython3",
   "version": "3.6.8"
  }
 },
 "nbformat": 4,
 "nbformat_minor": 4
}
