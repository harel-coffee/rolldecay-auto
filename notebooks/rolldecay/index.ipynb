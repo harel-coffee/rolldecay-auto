{
 "cells": [
  {
   "cell_type": "markdown",
   "metadata": {},
   "source": [
    "# A semi-empirical method for predicting roll damping based on machine learning"
   ]
  },
  {
   "cell_type": "code",
   "execution_count": null,
   "metadata": {
    "pycharm": {
     "is_executing": false
    }
   },
   "outputs": [],
   "source": [
    "%matplotlib inline\n",
    "%load_ext autoreload\n",
    "%autoreload 2"
   ]
  },
  {
   "cell_type": "code",
   "execution_count": null,
   "metadata": {
    "pycharm": {
     "is_executing": false
    }
   },
   "outputs": [],
   "source": [
    "from jupyterthemes import jtplot\n",
    "jtplot.style(theme='onedork', context='notebook', ticks=True, grid=False)\n",
    "from IPython.display import display, Math, Latex\n",
    "\n",
    "from rolldecayestimators.polynom_estimator import Polynom"
   ]
  },
  {
   "cell_type": "markdown",
   "metadata": {},
   "source": [
    "## Equations\n",
    "The governing equations for the roll decay motion [Roll decay equations](02_roll_damping_DB/00.1_maa_equation.ipynb) was studied. These equations were used to develop simulation models for the roll decay tests.\n",
    "\n",
    "A Numerical solution to the linear roll decay ODE was compared with the analytical solution:\n",
    "[Numerical vs. Analytical solution of ODE](02_roll_damping_DB/00.5_maa_linear_damping_analytical_solution.ipynb)"
   ]
  },
  {
   "cell_type": "markdown",
   "metadata": {},
   "source": [
    "## System identification\n",
    "The parameters in the ODEs were determined using least square fit on roll decay model test results. The developed system identification methods were validated with simulated roll decay time series, with known parameters and coefficients. It was concluded that the system identification can identify all parameters and coefficients for roll decay ODEs with linear, quadratic and cubic polynomial representation of roll damping and hull stability stiffness.     \n",
    "\n",
    "\n",
    "[System identification on Roll decay DB](03_roll_damping_classification/01.1_maa_mdl_db_damping_classification.ipynb). The main conclusion was that a model with quadratic damping and stiffness coefficients can reproduce the time series from the roll decay model tests with sufficient accuracy.\n",
    "\n",
    "A [added mass sanity check](03_roll_damping_classification/01.2_maa_mdl_db_omega0_added_mass.ipynb) was conducted to check the identified inertia and stiffness. The added roll gyradius factor: $\\frac{k_{xxtot}-k_{xx}}{k_{xx}}$ was roughly normal distributed between 0.05 and 0.30, except some outliers.\n"
   ]
  },
  {
   "cell_type": "markdown",
   "metadata": {},
   "source": [
    "## Simplified Ikeda\n",
    "The simplified ikeda method was implemented and [validated](04_simplified_ikeda/06.1_maa_simplified_ikeda_fortran.ipynb) according to <cite data-cite=\"7505983/2LV67BP5\"></cite>\n",
    "\n",
    "[Simulations](04_simplified_ikeda/05.3_maa_mdl_db_simplified_ikeda_simulation.ipynb)\n",
    "with coefficients from simplified ikeda was compared with one roll decay model test and showed reasonably good agreement for this particular case.\n",
    "\n",
    "Roll damping coefficients calculated with simplified ikeda method were [compared](04_simplified_ikeda/05.4_maa_mdl_db_simplified_ikeda_regression.ipynb) with coefficients identified from corresponsing roll decay model test at zero speed. The comparison showed some correlation between the predicted and measured roll damping coefficients.\n",
    "\n",
    "A [sensitivity analysis](04_simplified_ikeda/05.5_maa_simplified_ikeda_sensitivity.ipynb) of the simplified ikeda method was conducted. It was noted that the nondimensional damping coefficient $\\hat{B}_{44}$ increases a lot for small beams or high vertical centre of gravity. \n"
   ]
  },
  {
   "cell_type": "markdown",
   "metadata": {},
   "source": [
    "## Regression\n",
    "A [data preparation](05_new_method/01.3_maa_data_prepare.ipynb) was first conducted, where data was selected and prepated for regression.\n",
    "\n",
    "Linear regression was conducted to develop one model for $\\omega_0$, one model for $\\zeta$ and one model for $d$.\n",
    "\n",
    "[$\\omega$-regression](05_new_method/01.4_maa_omega_regression.ipynb)"
   ]
  },
  {
   "cell_type": "code",
   "execution_count": null,
   "metadata": {},
   "outputs": [],
   "source": [
    "omega_hat_regression_polynom = Polynom.load('05_new_method/omega0_hat_polynom.sym')\n",
    "omega_hat_regression_polynom.equation"
   ]
  },
  {
   "cell_type": "markdown",
   "metadata": {},
   "source": [
    "[$\\zeta$-regression](05_new_method/01.5_maa_zeta_regression.ipynb)"
   ]
  },
  {
   "cell_type": "code",
   "execution_count": null,
   "metadata": {},
   "outputs": [],
   "source": [
    "zeta_regression_polynom = Polynom.load('05_new_method/zeta_polynom.sym')\n",
    "zeta_regression_polynom.equation"
   ]
  },
  {
   "cell_type": "markdown",
   "metadata": {},
   "source": [
    "[$d$-regression](05_new_method/01.6_maa_d_regression.ipynb)"
   ]
  },
  {
   "cell_type": "code",
   "execution_count": null,
   "metadata": {},
   "outputs": [],
   "source": [
    "d_regression_polynom = Polynom.load('05_new_method/d_polynom.sym')\n",
    "d_regression_polynom.equation"
   ]
  },
  {
   "cell_type": "markdown",
   "metadata": {},
   "source": [
    "[Simulations](05_new_method/01.8_maa_mdl_regression_sim_score.ipynb) with coefficients from these three regressions were conducted.\n",
    "The simulations show reasonable agreement with time series from the roll decay model tests. A good prediction of the natural frequency $\\omega_0$ seems to be very important to get a good prediction of the time series. Using measured $\\omega_0$ from model tests instead of the regression formula above gave a much better prediction.\n",
    "\n",
    "\n",
    "An [evaluation](05_new_method/04.1_maa_regression_evaluation.ipynb) of the regression model has been conducted.\n",
    "\n"
   ]
  },
  {
   "cell_type": "code",
   "execution_count": null,
   "metadata": {},
   "outputs": [],
   "source": []
  },
  {
   "cell_type": "code",
   "execution_count": null,
   "metadata": {},
   "outputs": [],
   "source": []
  },
  {
   "cell_type": "code",
   "execution_count": null,
   "metadata": {},
   "outputs": [],
   "source": []
  },
  {
   "cell_type": "markdown",
   "metadata": {},
   "source": [
    "<div class=\"cite2c-biblio\"></div>"
   ]
  }
 ],
 "metadata": {
  "cite2c": {
   "citations": {
    "7505983/2LV67BP5": {
     "ISBN": "978-94-007-1482-3",
     "URL": "https://doi.org/10.1007/978-94-007-1482-3_26",
     "abstract": "Since the roll damping of ships has significant effects of viscosity, it is difficult to calculate it theoretically. Therefore experimental results or some prediction methods are used to get the roll damping in design stage of ships. Among some prediction methods, Ikeda’s one is widely used in many ship motion computer programs. Using the method, the roll damping of various ship hulls with various bilge keels are calculated to investigate its characteristics. Ship hull forms are systematically changed by changing length, beam, draft, midship sectional coefficient and prismatic coefficient. On the basis of these predicted roll damping of various ships, a very simple prediction formula of the roll damping of ships is deduced. It is found, however, that this formula cannot be used for ships that have higher position of the center of gravity.",
     "accessed": {
      "day": 4,
      "month": 3,
      "year": 2020
     },
     "author": [
      {
       "family": "Kawahara",
       "given": "Yuki"
      },
      {
       "family": "Maekawa",
       "given": "Kazuya"
      },
      {
       "family": "Ikeda",
       "given": "Yoshiho"
      }
     ],
     "collection-title": "Fluid Mechanics and Its Applications",
     "container-title": "Contemporary Ideas on Ship Stability and Capsizing in Waves",
     "editor": [
      {
       "family": "Almeida Santos Neves",
       "given": "Marcelo"
      },
      {
       "family": "Belenky",
       "given": "Vadim L."
      },
      {
       "family": "de Kat",
       "given": "Jean Otto"
      },
      {
       "family": "Spyrou",
       "given": "Kostas"
      },
      {
       "family": "Umeda",
       "given": "Naoya"
      }
     ],
     "event-place": "Dordrecht",
     "id": "7505983/2LV67BP5",
     "issued": {
      "year": 2011
     },
     "language": "en",
     "note": "DOI: 10.1007/978-94-007-1482-3_26",
     "page": "465-486",
     "page-first": "465",
     "publisher": "Springer Netherlands",
     "publisher-place": "Dordrecht",
     "title": "A Simple Prediction Formula of Roll Damping of Conventional Cargo Ships on the Basis of Ikeda’s Method and Its Limitation",
     "type": "chapter"
    }
   }
  },
  "kernelspec": {
   "display_name": "Python 3",
   "language": "python",
   "name": "python3"
  },
  "language_info": {
   "codemirror_mode": {
    "name": "ipython",
    "version": 3
   },
   "file_extension": ".py",
   "mimetype": "text/x-python",
   "name": "python",
   "nbconvert_exporter": "python",
   "pygments_lexer": "ipython3",
   "version": "3.5.4"
  }
 },
 "nbformat": 4,
 "nbformat_minor": 4
}
