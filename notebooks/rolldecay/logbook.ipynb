{
 "cells": [
  {
   "cell_type": "markdown",
   "metadata": {},
   "source": [
    "<a id='logbook'></a>\n",
    "# Logbook"
   ]
  },
  {
   "cell_type": "code",
   "execution_count": null,
   "metadata": {},
   "outputs": [],
   "source": [
    "# %load ../imports.py\n",
    "\"\"\"\n",
    "These is the standard setup for the notebooks.\n",
    "\"\"\"\n",
    "\n",
    "%matplotlib inline\n",
    "%load_ext autoreload\n",
    "%autoreload 2\n",
    "\n",
    "from jupyterthemes import jtplot\n",
    "jtplot.style(theme='onedork', context='notebook', ticks=True, grid=False)\n",
    "\n",
    "import pandas as pd\n",
    "pd.options.display.max_rows = 999\n",
    "pd.options.display.max_columns = 999\n",
    "pd.set_option(\"display.max_columns\", None)\n",
    "import numpy as np\n",
    "import os\n",
    "import matplotlib.pyplot as plt\n",
    "#plt.style.use('paper')\n",
    "\n",
    "#import data\n",
    "import copy\n",
    "from rolldecay.bis_system import BisSystem\n",
    "from rolldecay import database\n",
    "from mdldb.tables import Run\n",
    "\n",
    "from sklearn.pipeline import Pipeline\n",
    "from rolldecayestimators.transformers import CutTransformer, LowpassFilterDerivatorTransformer, ScaleFactorTransformer, OffsetTransformer\n",
    "from rolldecayestimators.direct_estimator_cubic import EstimatorQuadraticB, EstimatorCubic\n",
    "from rolldecayestimators.ikeda_estimator import IkedaQuadraticEstimator\n",
    "import rolldecayestimators.equations as equations\n",
    "import rolldecayestimators.lambdas as lambdas\n",
    "from rolldecayestimators.substitute_dynamic_symbols import lambdify\n",
    "import rolldecayestimators.symbols as symbols\n",
    "import sympy as sp\n",
    "\n",
    "from sklearn.metrics import r2_score\n",
    "\n"
   ]
  },
  {
   "cell_type": "markdown",
   "metadata": {},
   "source": [
    "## Nomenclature\n",
    "* **Ikeda** refer to the original ikeda method (require strip calculations and Lewis sections).\n",
    "* **Simplified Ikeda** or **SI** refer to the simplified Ikeda method (explicit formula)."
   ]
  },
  {
   "cell_type": "markdown",
   "metadata": {},
   "source": [
    "[Logbook](#logbook)\n",
    "## 2020-09-22\n",
    "I've been working with adding additional material to extend the paper for the [SAOC](https://www.tandfonline.com/toc/tsos20/current).\n",
    "\n",
    "### Ikeda for one ship\n",
    "I have implemented the original ikeda method and made calculations for one of the ships in the database: [01.01_ikeda_one_ship](06_ikeda/01.01_ikeda_one_ship.ipynb). I developed a python wrapper for SSPA strip calculation tool *ScoresII* here: [pyscores2](https://github.com/martinlarsalbert/pyscores2) and calculated the wave roll damping $B_W$.\n",
    "The results were compared with the Simplified Ikeda (SI).\n",
    "* It was found that the $B_W$ was quite different. It was however hard to say which one was the better. \n",
    "\n",
    "* It was also found that the speed dependecy of the eddy component $B_E$ was not implemented as in <cite data-cite=\"7505983/ZVF3F5V5\"></cite>.\n",
    "\n",
    "* It was also found that the $B_{BK}$ contribution was quite different: [Ikeda vs. SI](06_ikeda/01.01_ikeda_one_ship.ipynb#ikeda_vs_si). \n",
    "\n",
    "* For this ship $B_{BK}$ calculated with original ikeda implementation gave better results:\n",
    "[Ikeda vs. SI2](06_ikeda/01.01_ikeda_one_ship.ipynb#ikeda_vs_si2).\n",
    "\n",
    "I made a new comparison between SI and model test results where the influence of findings above were investigated ([07.2_si_compare](04_simplified_ikeda/07.2_si_compare.ipynb)). The $B_E$ speed dependency gave an improvement. Switching the $B_{BK}$ also gave an improved accuracy with maximum accuracy with fixed bilge radius $ \\frac{R}{beam}=0.08$ according to:[scores](04_simplified_ikeda/07.2_si_compare.ipynb#scores). \n",
    "\n",
    "### Validation \n",
    "I also made a validation study to reproduce results from Carl-Johan for the *S175* ship: [Ikeda S175](06_ikeda/01.02_ikeda_S175.ipynb).\n"
   ]
  },
  {
   "cell_type": "markdown",
   "metadata": {},
   "source": [
    "## 2020-09-23\n",
    "\n",
    "### Recalculating $B_E$\n",
    "[Sectional Lewis coefficients](06_ikeda/01.01_ikeda_one_ship.ipynb#lewis_coefficients) have been calculated. These are used to calculate the eddy damping: $B_E$ [here](06_ikeda/01.01_ikeda_one_ship.ipynb#eddy). This is also a translation of Carl-Johans matlab code which seams to be an implementation according to <cite data-cite=\"7505983/RWXBIIJJ\"></cite> with some exceptions where changes according to <cite data-cite=\"7505983/RC2WJ4RI\"></cite>. It was a bit unclear if the $\\overline{OG}$ should be possitive uppward (Journe) or into the water (Ikeda). It was also unclear if Journe or Ikeda was the best, this should be investigated!\n",
    "\n",
    "<cite data-cite=\"7505983/RWXBIIJJ\"></cite> also proposes these formulas to estimate the bilge radius:\n",
    "$$\n",
    "R=\\left\\{\\begin{array}{ll}\n",
    "2 a \\sqrt{\\frac{a_{0}(\\sigma-1)}{\\pi-4}} & (R<d, R<B / 2) \\\\\n",
    "a & \\left(H_{0} \\geq 1, R / d>1\\right) \\\\\n",
    "B / 2 & \\left(H_{0} \\leq 1, R / d>H_{0}\\right)\n",
    "\\end{array}\\right.\n",
    "$$"
   ]
  },
  {
   "cell_type": "markdown",
   "metadata": {},
   "source": [
    "## 2020-09-24\n",
    "* I found that there might be a difference in the speed dependency between Ikeda and Journe:\n",
    "\n",
    "<cite data-cite=\"7505983/ZVF3F5V5\"></cite>\n",
    "$$\n",
    "\\begin{aligned}\n",
    "\\frac{B_{W}}{B_{k 0}} &=0.5\\left[\\left(\\left(A_{2}+1\\right)+\\left(A_{2}-1\\right) \\tanh (20 \\tau-b)\\right\\}\\right.\\\\\n",
    "&\\left.+\\left(2 A_{1}-A_{2}-1\\right) \\exp \\left\\{-150(\\tau-0.25)^{2}\\right\\}\\right]\n",
    "\\end{aligned}\n",
    "$$\n",
    "\n",
    "\n",
    "<cite data-cite=\"7505983/RC2WJ4RI\"></cite>\n",
    "$$\n",
    "B_{44 S}=B_{44} \\cdot\\left\\{0.5 \\cdot\\left(\\begin{array}{l}\n",
    "A_{2}+1+\\left(A_{2}-1\\right) \\cdot \\tanh [20 \\cdot(\\Omega-0.3)] \\\\\n",
    "+\\left(2 \\cdot A_{1}-A_{2}-1\\right) \\cdot e^{-150(\\omega-0.25)^{2}}\n",
    "\\end{array}\\right)-1.0\\right\\}\n",
    "$$\n",
    "\n",
    "The difference is the $b$ coefficient which Journee has set to $20*0.3$. <cite data-cite=\"7505983/RWXBIIJJ\"></cite> call this $b$ the extinction coefficient."
   ]
  },
  {
   "cell_type": "markdown",
   "metadata": {},
   "source": [
    "* I found that the speed dependency correction for $B_W$ is not $1$ when the ship speed is $0$ which is quite strange. Is there an implementation error there?\n",
    "\n",
    "Here is the current implementation (which is clearly wrong according to the plot below, since it is not 1 at V=0). Have I, Carl-Johan or Journée made a misstaker here???"
   ]
  },
  {
   "cell_type": "code",
   "execution_count": null,
   "metadata": {},
   "outputs": [],
   "source": [
    "from numpy import exp, tanh\n",
    "def B_W_speed_correction_factor(w, V, d, g=9.81):\n",
    "    \"\"\"\n",
    "        Wave damping speed correction\n",
    "        Parameters\n",
    "        ----------\n",
    "        w\n",
    "            \"omega\" frequency of motion [rad/s]\n",
    "        V\n",
    "            ship speed [m/s]\n",
    "        d\n",
    "            ship draught [m]\n",
    "        g\n",
    "            gravity\n",
    "\n",
    "        Returns\n",
    "        -------\n",
    "        Bw_div_Bw0\n",
    "            Bw_div_Bw0 = B_W/B_W0\n",
    "\n",
    "        \"\"\"\n",
    "    OMEGA = w * V / g\n",
    "    zeta_d = w ** 2 * d / g\n",
    "    A1 = 1 + zeta_d ** (-1.2) * exp(-2 * zeta_d)\n",
    "    A2 = 0.5 + zeta_d ** (-1) * exp(-2 * zeta_d)\n",
    "\n",
    "    Bw_div_Bw0 = 0.5 * (\n",
    "            ((A1 + 1) + (A2 - 1) * tanh(20 * (OMEGA - 0.3))) + (2 * A1 - A2 - 1) * exp(-150 * (OMEGA - 0.25) ** 2))\n",
    "\n",
    "    return Bw_div_Bw0"
   ]
  },
  {
   "cell_type": "code",
   "execution_count": null,
   "metadata": {},
   "outputs": [],
   "source": [
    "w = 0.2\n",
    "lpp = 175\n",
    "omega_hat = 0.719\n",
    "beam = 25.40\n",
    "d = 9.5\n",
    "g=9.81\n",
    "w = lambdas.omega(beam=beam, g=g, omega_hat=omega_hat)\n",
    "Fn = np.linspace(0, 0.3, 100)\n",
    "V = Fn*np.sqrt(lpp*g)\n",
    "\n",
    "\n",
    "factor = B_W_speed_correction_factor(w=w, V=V, d=d)\n",
    "\n",
    "fig,ax=plt.subplots()\n",
    "ax.plot(Fn,factor)\n",
    "ax.grid(True)\n",
    "ax.set_ylabel(r'$\\frac{B_W}{B_{W0}}$')\n",
    "ax.set_xlabel('Ship speed Fn [-]');\n",
    "ax.set_title('$B_W$ Speed dependency factor');"
   ]
  },
  {
   "cell_type": "markdown",
   "metadata": {},
   "source": [
    "This plot should look something as:\n",
    "<img src=\"06_ikeda/himeno_B_W_div_BW0.png\"\n",
    "     alt=\"Markdown Monster icon\"\n",
    "     style=\"float: left; margin-right: 10px;\" />\n"
   ]
  },
  {
   "cell_type": "markdown",
   "metadata": {},
   "source": [
    "I would say that the Journee equation is even worse:"
   ]
  },
  {
   "cell_type": "code",
   "execution_count": null,
   "metadata": {},
   "outputs": [],
   "source": [
    "from rolldecayestimators.ikeda_speed import B_W_speed_correction_factor_journee\n",
    "\n",
    "factor = B_W_speed_correction_factor_journee(w=w, V=V, d=d)\n",
    "\n",
    "fig,ax=plt.subplots()\n",
    "ax.plot(Fn,factor)\n",
    "ax.grid(True)\n",
    "ax.set_ylabel(r'$\\frac{B_W}{B_{W0}}$')\n",
    "ax.set_xlabel('Ship speed Fn [-]');\n",
    "ax.set_title('$B_W$ Speed dependency factor');"
   ]
  },
  {
   "cell_type": "markdown",
   "metadata": {},
   "source": [
    "I went back to the original Ikeda paper <cite data-cite=\"7505983/ZVF3F5V5\"></cite> and this implementation is in fact much more reasonable. The Himeno equation is the same (but the value of $b$) is not written out (it is $20*0.3$ in Ikeda). I found a typo in Carl-Johans implementation which was the root cause of this error. (But Journée is simply wrong still)."
   ]
  },
  {
   "cell_type": "code",
   "execution_count": null,
   "metadata": {},
   "outputs": [],
   "source": [
    "def B_W_speed_correction_factor_ikeda(w, V, d, b=20*0.3, g=9.81):\n",
    "    \"\"\"\n",
    "        Wave damping speed correction\n",
    "        Parameters\n",
    "        ----------\n",
    "        w\n",
    "            \"omega\" frequency of motion [rad/s]\n",
    "        V\n",
    "            ship speed [m/s]\n",
    "        d\n",
    "            ship draught [m]\n",
    "        g\n",
    "            gravity\n",
    "\n",
    "        Returns\n",
    "        -------\n",
    "        Bw_div_Bw0\n",
    "            Bw_div_Bw0 = B_W/B_W0\n",
    "\n",
    "        \"\"\"\n",
    "    tau=w*V/g\n",
    "    zeta_d=w**2*d/g\n",
    "    A1=1+zeta_d**(-1.2)*exp(-2*zeta_d);\n",
    "    A2=0.5+zeta_d**(-1)*exp(-2*zeta_d);\n",
    "\n",
    "    \n",
    "    Bw_div_Bw0=0.5*((A2+1)+(A2-1)*tanh(20*tau-b)\n",
    "                    +(2*A1-A2-1)*exp(-150*(tau-0.25)**2))\n",
    "\n",
    "    return Bw_div_Bw0"
   ]
  },
  {
   "cell_type": "code",
   "execution_count": null,
   "metadata": {},
   "outputs": [],
   "source": [
    "factor = B_W_speed_correction_factor_ikeda(w=w, V=V, d=d)\n",
    "\n",
    "fig,ax=plt.subplots()\n",
    "ax.plot(Fn,factor)\n",
    "ax.grid(True)\n",
    "ax.set_ylabel(r'$\\frac{B_W}{B_{W0}}$')\n",
    "ax.set_xlabel('Ship speed Fn [-]');\n",
    "ax.set_title('$B_W$ Speed dependency factor');"
   ]
  },
  {
   "cell_type": "markdown",
   "metadata": {},
   "source": [
    "Should the speed dependence factor be modified, here is an example where $b$ is varied:"
   ]
  },
  {
   "cell_type": "code",
   "execution_count": null,
   "metadata": {},
   "outputs": [],
   "source": [
    "fig,ax=plt.subplots()\n",
    "fig.set_size_inches(10,4)\n",
    "    \n",
    "for b in np.linspace(1,8,8):\n",
    "    factor = B_W_speed_correction_factor_ikeda(w=w, V=V, d=d, b=b)\n",
    "\n",
    "    ax.plot(Fn,factor, label='b=%0.1f'%b)\n",
    "\n",
    "ax.grid(True)\n",
    "ax.set_ylabel(r'$\\frac{B_W}{B_{W0}}$')\n",
    "ax.set_xlabel('Ship speed Fn [-]');\n",
    "ax.set_title('$B_W$ Speed dependency factor');\n",
    "ax.set_ylim(1,3)\n",
    "ax.legend();\n",
    "    "
   ]
  },
  {
   "cell_type": "code",
   "execution_count": null,
   "metadata": {},
   "outputs": [],
   "source": [
    "def f(b=6.0,omega_hat=0.719):\n",
    "    \n",
    "    w = lambdas.omega(beam=beam, g=g, omega_hat=omega_hat)\n",
    "    factor = B_W_speed_correction_factor_ikeda(w=w, V=V, d=d, b=b)\n",
    "\n",
    "    fig,ax=plt.subplots()\n",
    "    fig.set_size_inches(10,4)\n",
    "    ax.plot(Fn,factor)\n",
    "    ax.grid(True)\n",
    "    ax.set_ylabel(r'$\\frac{B_W}{B_{W0}}$')\n",
    "    ax.set_xlabel('Ship speed Fn [-]');\n",
    "    ax.set_title('$B_W$ Speed dependency factor');\n",
    "    ax.set_ylim(1,4)"
   ]
  },
  {
   "cell_type": "code",
   "execution_count": null,
   "metadata": {},
   "outputs": [],
   "source": [
    "from ipywidgets import interactive\n",
    "\n",
    "interactive_plot = interactive(f, b=(0.1,8,0.5),omega_hat=(0.2,1,0.1))\n",
    "output = interactive_plot.children[-1]\n",
    "output.layout.height = '350px'\n",
    "interactive_plot"
   ]
  },
  {
   "cell_type": "markdown",
   "metadata": {},
   "source": [
    "## 2020-09-25\n",
    "* Rerun the [04.2_maa_mdl_db_build.ipynb](rolldecay/02_roll_damping_DB/04.2_maa_mdl_db_build.ipynb).\n",
    "  * With fixed $B_W$ speed dependency\n",
    "  * Alternative bilge keel R/B=0.08\n",
    "* Rerun the cross validation and got ([quite much better score with SI](05_new_method/05.1_maa_new_method_and_correction.ipynb#score))\n",
    "\n",
    "* Made a new sensituvity study of the SI with some interesting plots: ([07.3_si_sensitivity2.ipynb](04_simplified_ikeda/07.3_si_sensitivity2.ipynb))."
   ]
  },
  {
   "cell_type": "markdown",
   "metadata": {},
   "source": [
    "## 2020-09-28\n",
    "* Improved the plots in the ([07.3_si_sensitivity2.ipynb](04_simplified_ikeda/07.3_si_sensitivity2.ipynb)). It seems unlikely that the $\\hat{\\omega}$ and $F_n$ dependencies are correct in the SI."
   ]
  },
  {
   "cell_type": "markdown",
   "metadata": {},
   "source": [
    "## Conclusions\n",
    "* How the parts in Ikeda's method should be implemented is not obvious\n",
    "    * The old papers are difficult to interpret (missing nomenclature etc.)\n",
    "    * Typos in old papers\n",
    "    * There exist various variations of the implementations (ex: Ikeda, Journée etc.) giving various \"flavors\" of the method.\n",
    "* Validating the \"flavors\" of Ikeda method with model tests to select the best one.\n",
    "* Found a implementation error in the $B_W$ speed dependency. Which has now been corrected as described above. This error does not seem to have a huge influence on the overall accuracy, but this will be further investigated."
   ]
  },
  {
   "cell_type": "markdown",
   "metadata": {},
   "source": [
    "## References\n",
    "<div class=\"cite2c-biblio\"></div>"
   ]
  }
 ],
 "metadata": {
  "cite2c": {
   "citations": {
    "7505983/RC2WJ4RI": {
     "id": "7505983/RC2WJ4RI",
     "title": "JourneeAdegeest2003_pp180to195inTheoreticalManualSEAWAY.pdf",
     "type": "article"
    },
    "7505983/RWXBIIJJ": {
     "URL": "https://repository.tudelft.nl/islandora/object/uuid%3A2d4991a4-96ac-4935-b2a3-e712effd744d",
     "accessed": {
      "day": 4,
      "month": 3,
      "year": 2020
     },
     "author": [
      {
       "family": "Himeno",
       "given": "Yoji"
      }
     ],
     "container-title": "The University of Michigan, College of Engineering, Department of Naval Architecture and Marine Engineering, USA, Report No. 239",
     "id": "7505983/RWXBIIJJ",
     "issued": {
      "year": 1981
     },
     "language": "en",
     "title": "Prediction of ship roll damping - state of the art",
     "type": "article-journal"
    },
    "7505983/ZVF3F5V5": {
     "id": "7505983/ZVF3F5V5",
     "title": "Ikeda et al. - 1978 - Components of roll damping of ship at forward spee.pdf",
     "type": "article"
    }
   }
  },
  "kernelspec": {
   "display_name": "Python 3",
   "language": "python",
   "name": "python3"
  },
  "language_info": {
   "codemirror_mode": {
    "name": "ipython",
    "version": 3
   },
   "file_extension": ".py",
   "mimetype": "text/x-python",
   "name": "python",
   "nbconvert_exporter": "python",
   "pygments_lexer": "ipython3",
   "version": "3.6.8"
  }
 },
 "nbformat": 4,
 "nbformat_minor": 4
}
