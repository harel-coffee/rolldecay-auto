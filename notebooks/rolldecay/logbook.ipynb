{
 "cells": [
  {
   "cell_type": "markdown",
   "metadata": {},
   "source": [
    "<a id='logbook'></a>\n",
    "# Logbook"
   ]
  },
  {
   "cell_type": "code",
   "execution_count": null,
   "metadata": {},
   "outputs": [],
   "source": [
    "# %load ../imports.py\n",
    "\"\"\"\n",
    "These is the standard setup for the notebooks.\n",
    "\"\"\"\n",
    "\n",
    "%matplotlib inline\n",
    "%load_ext autoreload\n",
    "%autoreload 2\n",
    "\n",
    "from jupyterthemes import jtplot\n",
    "jtplot.style(theme='onedork', context='notebook', ticks=True, grid=False)\n",
    "\n",
    "import pandas as pd\n",
    "pd.options.display.max_rows = 999\n",
    "pd.options.display.max_columns = 999\n",
    "pd.set_option(\"display.max_columns\", None)\n",
    "import numpy as np\n",
    "import os\n",
    "import matplotlib.pyplot as plt\n",
    "#plt.style.use('paper')\n",
    "\n",
    "#import data\n",
    "import copy\n",
    "from rolldecay.bis_system import BisSystem\n",
    "from rolldecay import database\n",
    "from mdldb.tables import Run\n",
    "\n",
    "from sklearn.pipeline import Pipeline\n",
    "from rolldecayestimators.transformers import CutTransformer, LowpassFilterDerivatorTransformer, ScaleFactorTransformer, OffsetTransformer\n",
    "from rolldecayestimators.direct_estimator_cubic import EstimatorQuadraticB, EstimatorCubic\n",
    "from rolldecayestimators.ikeda_estimator import IkedaQuadraticEstimator\n",
    "import rolldecayestimators.equations as equations\n",
    "import rolldecayestimators.lambdas as lambdas\n",
    "from sklearn.metrics import r2_score\n",
    "\n"
   ]
  },
  {
   "cell_type": "markdown",
   "metadata": {},
   "source": [
    "[Logbook](#logbook)\n",
    "## 2020-09-22\n",
    "I've been working with adding additional material to extend the paper for the [SAOC](https://www.tandfonline.com/toc/tsos20/current).\n",
    "\n",
    "### Ikeda for one ship\n",
    "I have implemented the original ikeda method and made calculations for one of the ships in the database: [01.01_ikeda_one_ship](06_ikeda/01.01_ikeda_one_ship.ipynb). I developed a python wrapper for SSPA strip calculation tool *ScoresII* here: [pyscores2](https://github.com/martinlarsalbert/pyscores2) and calculated the wave roll damping $B_W$.\n",
    "The results were compared with the Simplified Ikeda (SI).\n",
    "* It was found that the $B_W$ was quite different. It was however hard to say which one was the better. \n",
    "\n",
    "* It was also found that the speed dependecy of the eddy component $B_E$ was not implemented as in <cite data-cite=\"7505983/ZVF3F5V5\"></cite>.\n",
    "\n",
    "* It was also found that the $B_{BK}$ contribution was quite different: [Ikeda vs. SI](06_ikeda/01.01_ikeda_one_ship.ipynb#ikeda_vs_si). \n",
    "\n",
    "* For this ship $B_{BK}$ calculated with original ikeda implementation gave better results:\n",
    "[Ikeda vs. SI2](06_ikeda/01.01_ikeda_one_ship.ipynb#ikeda_vs_si2).\n",
    "\n",
    "I made a new comparison between SI and model test results where the influence of findings above were investigated ([07.2_si_compare](04_simplified_ikeda/07.2_si_compare.ipynb)). The $B_E$ speed dependency gave an improvement. Switching the $B_{BK}$ also gave an improved accuracy with maximum accuracy with fixed bilge radius $ \\frac{R}{beam}=0.08$ according to:[scores](04_simplified_ikeda/07.2_si_compare.ipynb#scores). \n",
    "\n",
    "### Recalculating $B_E$\n",
    "[Sectional Lewis coefficients](06_ikeda/01.01_ikeda_one_ship.ipynb#lewis_coefficients) have been calculated. These are used to calculate the eddy damping: $B_E$.\n",
    "\n",
    "### Validation \n",
    "I also made a validation study to reproduce results from Carl-Johan for the *S175* ship: [Ikeda S175](06_ikeda/01.02_ikeda_S175.ipynb).\n"
   ]
  },
  {
   "cell_type": "markdown",
   "metadata": {},
   "source": [
    "## References\n",
    "<div class=\"cite2c-biblio\"></div>"
   ]
  }
 ],
 "metadata": {
  "cite2c": {
   "citations": {
    "7505983/ZVF3F5V5": {
     "id": "7505983/ZVF3F5V5",
     "title": "Ikeda et al. - 1978 - Components of roll damping of ship at forward spee.pdf",
     "type": "article"
    }
   }
  },
  "kernelspec": {
   "display_name": "Python 3",
   "language": "python",
   "name": "python3"
  },
  "language_info": {
   "codemirror_mode": {
    "name": "ipython",
    "version": 3
   },
   "file_extension": ".py",
   "mimetype": "text/x-python",
   "name": "python",
   "nbconvert_exporter": "python",
   "pygments_lexer": "ipython3",
   "version": "3.6.8"
  }
 },
 "nbformat": 4,
 "nbformat_minor": 4
}
