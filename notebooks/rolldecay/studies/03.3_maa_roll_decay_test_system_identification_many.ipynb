{
 "cells": [
  {
   "cell_type": "markdown",
   "metadata": {},
   "source": [
    "# Roll decay test parameter sensitivity many\n"
   ]
  },
  {
   "cell_type": "code",
   "execution_count": null,
   "metadata": {
    "pycharm": {
     "is_executing": false
    }
   },
   "outputs": [],
   "source": [
    "%matplotlib inline\n",
    "%load_ext autoreload\n",
    "%autoreload 2"
   ]
  },
  {
   "cell_type": "code",
   "execution_count": null,
   "metadata": {
    "pycharm": {
     "is_executing": true
    }
   },
   "outputs": [],
   "source": [
    "import numpy as np\n",
    "import pandas as pd\n",
    "pd.set_option(\"display.max_rows\", 200)\n",
    "import matplotlib.pyplot as plt\n",
    "\n",
    "from pylab import rcParams\n",
    "rcParams['figure.figsize'] = 15, 7\n",
    "\n",
    "import os\n",
    "import copy\n",
    "from scipy.optimize import curve_fit\n",
    "\n",
    "from rolldecay.simulation import  simulate\n",
    "#import rolldecay.parameter_identification as parameter_identification\n",
    "import rolldecay.read_funky_ascii\n",
    "import inspect\n",
    "from rolldecayestimators.direct_estimator import DirectEstimator\n",
    "from rolldecayestimators.direct_linear_estimator import DirectLinearEstimator\n",
    "from rolldecayestimators.norwegian_estimator import NorwegianEstimator\n",
    "from rolldecayestimators.transformers import CutTransformer, LowpassFilterDerivatorTransformer, ScaleFactorTransformer, OffsetTransformer\n",
    "#from rolldecay.equations_lambdify import calculate_acceleration, calculate_velocity\n",
    "from sklearn.pipeline import Pipeline\n",
    "from sklearn.linear_model import LinearRegression"
   ]
  },
  {
   "cell_type": "code",
   "execution_count": null,
   "metadata": {
    "pycharm": {
     "name": "#%%\n"
    }
   },
   "outputs": [],
   "source": [
    "122/(19*2*3.14)"
   ]
  },
  {
   "cell_type": "code",
   "execution_count": null,
   "metadata": {},
   "outputs": [],
   "source": [
    "exclude_files = ['20084871055k.06.asc','20084871055k.03.asc'\n",
    "                ]\n",
    "acii_directory_path = os.path.join(rolldecay.data_path,'project1','Ascii files')\n",
    "file_names = []\n",
    "for file_name in os.listdir(acii_directory_path):\n",
    "    file_names.append(file_name)\n",
    "    \n",
    "file_names = list(set(file_names) - set(exclude_files))\n"
   ]
  },
  {
   "cell_type": "code",
   "execution_count": null,
   "metadata": {
    "pycharm": {
     "is_executing": false
    }
   },
   "outputs": [],
   "source": [
    "exclude_files = ['20084871055k.06.asc','20084871055k.03.asc'\n",
    "                ]\n",
    "acii_directory_path = os.path.join(rolldecay.data_path,'project1','Ascii files')\n",
    "file_names = []\n",
    "for file_name in os.listdir(acii_directory_path):\n",
    "    file_names.append(file_name)\n",
    "    \n",
    "file_names = list(set(file_names) - set(exclude_files))\n"
   ]
  },
  {
   "cell_type": "code",
   "execution_count": null,
   "metadata": {},
   "outputs": [],
   "source": [
    "def fit(pipeline):\n",
    "    \n",
    "    pipelines = {}\n",
    "    \n",
    "    for file_name in file_names:\n",
    "        \n",
    "        ascii_file_path = os.path.join(acii_directory_path,file_name)\n",
    "        df_raw = rolldecay.read_funky_ascii.read(ascii_path=ascii_file_path)[['phi']]\n",
    "        \n",
    "        # Exclude tests where roll is not big enough:\n",
    "        if ((df_raw['phi'].max() < np.deg2rad(1)) |\n",
    "            (df_raw['phi'].min() > -np.deg2rad(1))):\n",
    "            continue\n",
    "        \n",
    "        \n",
    "        pipeline = copy.deepcopy(pipeline)\n",
    "        pipeline.fit(X=df_raw)\n",
    "        pipelines[file_name] = pipeline\n",
    "        \n",
    "    return pipelines"
   ]
  },
  {
   "cell_type": "code",
   "execution_count": null,
   "metadata": {},
   "outputs": [],
   "source": [
    "def predict(pipelines):\n",
    "    \n",
    "    df = pd.DataFrame()\n",
    "    \n",
    "    for file_name, pipeline in pipelines.items():\n",
    "        \n",
    "        estimator = pipeline[-1]\n",
    "        s = pd.Series(estimator.parameters, name=file_name)\n",
    "        s['score'] = estimator.score(X=estimator.X)\n",
    "        s['mean_damping'] = estimator.calculate_average_linear_damping()\n",
    "        df = df.append(s)\n",
    "        \n",
    "    return df"
   ]
  },
  {
   "cell_type": "markdown",
   "metadata": {},
   "source": [
    "## Direct"
   ]
  },
  {
   "cell_type": "code",
   "execution_count": null,
   "metadata": {},
   "outputs": [],
   "source": [
    "lowpass_filter = LowpassFilterDerivatorTransformer(cutoff=0.4)\n",
    "scaler = ScaleFactorTransformer(scale_factor=29.565)\n",
    "cutter = CutTransformer(phi_max=np.deg2rad(15), phi_min=np.deg2rad(1))\n",
    "offset_transformer = OffsetTransformer()\n",
    "bounds = {\n",
    "    'zeta':(0,np.inf),  # Only positive damping\n",
    "    'd':(0,np.inf),  # Only positive damping\n",
    "}\n",
    "direct_estimator = DirectEstimator(bounds=bounds)\n",
    "\n",
    "steps = [\n",
    "('filter',lowpass_filter),\n",
    "('scaler',scaler),\n",
    "('cutter', cutter), \n",
    "('offset_transformer',offset_transformer),\n",
    "('direct_estimator', direct_estimator)]\n",
    "    \n",
    "pipeline_direct = Pipeline(steps) # define the pipeline object."
   ]
  },
  {
   "cell_type": "code",
   "execution_count": null,
   "metadata": {},
   "outputs": [],
   "source": [
    "pipeline_directs = fit(pipeline=pipeline_direct)"
   ]
  },
  {
   "cell_type": "code",
   "execution_count": null,
   "metadata": {},
   "outputs": [],
   "source": [
    "pipeline = pipeline_directs['20084871051k.01.asc']"
   ]
  },
  {
   "cell_type": "code",
   "execution_count": null,
   "metadata": {},
   "outputs": [],
   "source": [
    "df_direct = predict(pipelines=pipeline_directs)"
   ]
  },
  {
   "cell_type": "markdown",
   "metadata": {},
   "source": [
    "## Norwegian"
   ]
  },
  {
   "cell_type": "code",
   "execution_count": null,
   "metadata": {},
   "outputs": [],
   "source": [
    "norwegian_estimator = NorwegianEstimator(bounds=bounds)\n",
    "\n",
    "steps = [\n",
    "    ('filter',lowpass_filter),\n",
    "    ('scaler',scaler),\n",
    "    ('cutter', cutter), \n",
    "    ('offset_transformer',offset_transformer),\n",
    "    ('norwegian_estimator', norwegian_estimator)]\n",
    "        \n",
    "pipeline_norwegian = Pipeline(steps) # define the pipeline object.   "
   ]
  },
  {
   "cell_type": "code",
   "execution_count": null,
   "metadata": {},
   "outputs": [],
   "source": [
    "pipeline_norwegians = fit(pipeline=pipeline_norwegian)"
   ]
  },
  {
   "cell_type": "code",
   "execution_count": null,
   "metadata": {},
   "outputs": [],
   "source": [
    "df_norwegian = predict(pipelines=pipeline_norwegians)"
   ]
  },
  {
   "cell_type": "markdown",
   "metadata": {},
   "source": [
    "## Linear method"
   ]
  },
  {
   "cell_type": "code",
   "execution_count": null,
   "metadata": {},
   "outputs": [],
   "source": [
    "direct_linear_estimator = DirectLinearEstimator()\n",
    "\n",
    "steps = [\n",
    "    ('filter',lowpass_filter),\n",
    "    ('scaler',scaler),\n",
    "    ('cutter', cutter), \n",
    "    ('offset_transformer',offset_transformer),\n",
    "    ('norwegian_estimator', direct_linear_estimator)]\n",
    "        \n",
    "pipeline_direct_linear = Pipeline(steps) # define the pipeline object.   "
   ]
  },
  {
   "cell_type": "code",
   "execution_count": null,
   "metadata": {},
   "outputs": [],
   "source": [
    "pipeline_direct_linears = fit(pipeline=pipeline_direct_linear)"
   ]
  },
  {
   "cell_type": "code",
   "execution_count": null,
   "metadata": {},
   "outputs": [],
   "source": [
    "df_direct_linear = predict(pipelines=pipeline_direct_linears)\n",
    "df_direct_linear['d']=0"
   ]
  },
  {
   "cell_type": "code",
   "execution_count": null,
   "metadata": {},
   "outputs": [],
   "source": [
    "mask = df_direct['score'] > 0.90\n",
    "df_direct_good = df_direct.loc[mask].copy()\n",
    "df_direct_linear_good = df_direct_linear.loc[mask].copy()\n",
    "df_norwegian_good = df_norwegian.loc[mask].copy()\n",
    "\n"
   ]
  },
  {
   "cell_type": "code",
   "execution_count": null,
   "metadata": {},
   "outputs": [],
   "source": [
    "df1 = df_direct_good.sort_values(by='score', ascending=False).iloc[-10:]\n",
    "#df1 = df_direct_good.sort_values(by='score', ascending=False).iloc[0:10]\n",
    "index = df1.index.copy()\n",
    "df1.reset_index(inplace=True)\n",
    "\n",
    "df1['method'] = 'direct'\n",
    "df2 = df_direct_linear_good.loc[index].reset_index()\n",
    "df2['method'] = 'direct linear'\n",
    "df3 = df_norwegian_good.loc[index].reset_index()\n",
    "df3['method'] = 'norwegian'\n",
    "\n",
    "\n",
    "df_comparison = pd.concat([df1,df2,df3], sort=False)"
   ]
  },
  {
   "cell_type": "code",
   "execution_count": null,
   "metadata": {},
   "outputs": [],
   "source": [
    "df_comparison.isnull().any()"
   ]
  },
  {
   "cell_type": "code",
   "execution_count": null,
   "metadata": {},
   "outputs": [],
   "source": [
    "for column in ['zeta','d','omega0','mean_damping','score']:\n",
    "    fig,ax = plt.subplots()\n",
    "    \n",
    "    df = df_comparison.pivot(index='method',columns='index', values=column).transpose()\n",
    "    df.plot(kind='bar', ax=ax)\n",
    "    ylim = ax.get_ylim()\n",
    "    ax.set_ylim(df.min().min(),df.max().max())\n",
    "    ax.set_title(column)\n"
   ]
  },
  {
   "cell_type": "code",
   "execution_count": null,
   "metadata": {},
   "outputs": [],
   "source": [
    "file = df_direct_good.iloc[0].name\n",
    "file"
   ]
  },
  {
   "cell_type": "code",
   "execution_count": null,
   "metadata": {},
   "outputs": [],
   "source": [
    "#file = df_direct_good.iloc[0].name\n",
    "file = '20084871056k.08.asc'\n",
    "\n",
    "\n",
    "pipelines = [pipeline_directs, pipeline_direct_linears, pipeline_norwegians]\n",
    "\n",
    "fig,ax = plt.subplots()\n",
    "for p in pipelines:\n",
    "\n",
    "    pipeline = p[file]\n",
    "    estimator = pipeline[-1]\n",
    "    estimator.plot_fit(ax=ax, model_test=False)\n",
    "    print('%s:%s' % (estimator.__class__.__name__,estimator.score(X=estimator.X)))\n",
    "\n",
    "estimator.X.plot(y='phi', label='Model test', ax=ax, style='k--');\n",
    "ax.legend()\n"
   ]
  },
  {
   "cell_type": "code",
   "execution_count": null,
   "metadata": {},
   "outputs": [],
   "source": [
    "pipeline = pipeline_norwegians[file]\n",
    "estimator = pipeline[-1]\n",
    "estimator.plot_damping()"
   ]
  },
  {
   "cell_type": "code",
   "execution_count": null,
   "metadata": {},
   "outputs": [],
   "source": [
    "#file = df_direct_good.iloc[0].name\n",
    "#file = '20084871056k.08.asc'\n",
    "\n",
    "\n",
    "pipelines = [pipeline_directs, pipeline_direct_linears, pipeline_norwegians]\n",
    "\n",
    "fig,ax = plt.subplots()\n",
    "for p in pipelines:\n",
    "\n",
    "    pipeline = p[file]\n",
    "    estimator = pipeline[-1]\n",
    "    estimator.plot_error(ax=ax)\n",
    "    print('%s:%s' % (estimator.__class__.__name__,estimator.score(X=estimator.X)))\n"
   ]
  },
  {
   "cell_type": "code",
   "execution_count": null,
   "metadata": {},
   "outputs": [],
   "source": [
    "estimator.X.plot(y='phi')"
   ]
  },
  {
   "cell_type": "code",
   "execution_count": null,
   "metadata": {},
   "outputs": [],
   "source": [
    "df_direct_good.describe()"
   ]
  },
  {
   "cell_type": "code",
   "execution_count": null,
   "metadata": {},
   "outputs": [],
   "source": [
    "df_norwegian_good.describe()"
   ]
  },
  {
   "cell_type": "markdown",
   "metadata": {},
   "source": [
    "## The linear model is performing as good as the two quadratic for the present data\n",
    "Need to investigate more ships to see if this changes..."
   ]
  },
  {
   "cell_type": "code",
   "execution_count": null,
   "metadata": {},
   "outputs": [],
   "source": [
    "df_direct_linear_good.describe()"
   ]
  },
  {
   "cell_type": "code",
   "execution_count": null,
   "metadata": {},
   "outputs": [],
   "source": [
    "pipeline = pipeline_directs['20084871056k.14.asc']\n",
    "estimator = pipeline[-1]\n",
    "estimator.X_amplitudes.plot(x='phi',y='omega0',style='.')"
   ]
  },
  {
   "cell_type": "code",
   "execution_count": null,
   "metadata": {},
   "outputs": [],
   "source": []
  },
  {
   "cell_type": "code",
   "execution_count": null,
   "metadata": {},
   "outputs": [],
   "source": []
  },
  {
   "cell_type": "code",
   "execution_count": null,
   "metadata": {},
   "outputs": [],
   "source": []
  },
  {
   "cell_type": "code",
   "execution_count": null,
   "metadata": {},
   "outputs": [],
   "source": []
  }
 ],
 "metadata": {
  "kernelspec": {
   "display_name": "Python 3",
   "language": "python",
   "name": "python3"
  },
  "language_info": {
   "codemirror_mode": {
    "name": "ipython",
    "version": 3
   },
   "file_extension": ".py",
   "mimetype": "text/x-python",
   "name": "python",
   "nbconvert_exporter": "python",
   "pygments_lexer": "ipython3",
   "version": "3.5.4"
  },
  "pycharm": {
   "stem_cell": {
    "cell_type": "raw",
    "metadata": {
     "collapsed": false
    },
    "source": []
   }
  }
 },
 "nbformat": 4,
 "nbformat_minor": 1
}
