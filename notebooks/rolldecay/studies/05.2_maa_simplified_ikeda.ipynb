{
 "cells": [
  {
   "cell_type": "markdown",
   "metadata": {
    "collapsed": true,
    "pycharm": {
     "name": "#%% md\n"
    }
   },
   "source": [
    "# Simplified ikeda\n",
    "This notebook contain the equation as described in:\n",
    "\n",
    "Kawahara, Yuki, Kazuya Maekawa, and Yoshiho Ikeda. “A Simple Prediction Formula of Roll Damping of Conventional Cargo Ships on the Basis of Ikeda’s Method and Its Limitation.” In Contemporary Ideas on Ship Stability and Capsizing in Waves, edited by Marcelo Almeida Santos Neves, Vadim L. Belenky, Jean Otto de Kat, Kostas Spyrou, and Naoya Umeda, 465–86. Fluid Mechanics and Its Applications. Dordrecht: Springer Netherlands, 2011. https://doi.org/10.1007/978-94-007-1482-3_26.\n"
   ]
  },
  {
   "cell_type": "code",
   "execution_count": 1,
   "metadata": {
    "pycharm": {
     "is_executing": false,
     "name": "#%% \n"
    }
   },
   "outputs": [],
   "source": [
    "%matplotlib inline\n",
    "%load_ext autoreload\n",
    "%autoreload 2\n",
    "\n",
    "import warnings\n",
    "warnings.filterwarnings(\"ignore\")\n",
    "\n",
    "import numpy as np\n",
    "import matplotlib.pyplot as plt\n",
    "import pandas as pd"
   ]
  },
  {
   "cell_type": "markdown",
   "metadata": {
    "pycharm": {
     "name": "#%% md\n"
    }
   },
   "source": [
    "## Roll damping\n",
    "\n",
    "(=Roll damping moment (kgfm)/Roll angular velocity (rad/sec)) can be expressed as follows.:\n",
    "\n",
    "\\begin{equation}\n",
    "B_{44}=B_{F}+B_{W}+B_{E}+B_{L}+B_{B K}\n",
    "\\end{equation}"
   ]
  },
  {
   "cell_type": "markdown",
   "metadata": {
    "pycharm": {
     "name": "#%% md\n"
    }
   },
   "source": [
    "### Frictional Component ($B_{F}$) \n",
    "\n",
    "\\begin{equation}\n",
    "B_{F}=\\frac{4}{3 \\pi} \\rho s_{f} r_{f}^{3} \\varphi_{a} \\omega c_{f}\n",
    "\\end{equation}\n",
    "\n",
    "\\begin{equation}\n",
    "\\begin{array}{l}c_{f}=1.328\\left(\\frac{3.22 r_{f}^{2} \\varphi_{a}^{2}}{T v}\\right)^{\\frac{1}{2}} \\\\ r_{f}=\\frac{\\left(0.887+0.145 C_{b}\\right)\\left(1.7 d+C_{b} B\\right)-2 O G}{\\pi} \\\\ s_{f}=L_{P P}\\left(1.75 d+C_{b} B\\right)\\end{array}\n",
    "\\end{equation}\n"
   ]
  },
  {
   "cell_type": "markdown",
   "metadata": {
    "pycharm": {
     "name": "#%% md\n"
    }
   },
   "source": [
    "### Proposed Formula of the Wave Roll Damping\n",
    "\n",
    "\\begin{equation}\n",
    "x_{1}=B / d, x_{2}=C_{b}, x_{3}=C_{m}, x_{4}=1-O G / d, x_{5}=\\hat{\\omega}\n",
    "\\end{equation}\n",
    "\n",
    "\\begin{equation}\n",
    "\\hat{B}_{W}=A_{1} / x_{5} \\cdot \\exp \\left(-A_{2}\\left(\\log\\left(x_{5}\\right)-A_{3}\\right)^{2} / 1.44\\right)\n",
    "\\end{equation}\n",
    "\n",
    "\\begin{equation}\n",
    "\\begin{array}{l}A_{2}=-1.402 x_{4}^{3}+7.189 x_{4}^{2}-10.993 x_{4}+9.45 \\\\ A_{3}=A_{31} x_{4}^{6}+A_{32} x_{4}^{5}+A_{33} x_{4}^{4}+A_{34} x_{4}^{3}+A_{35} x_{4}^{2}+A_{36} x^{4}+A_{37}+A A_{3} \\\\ x_{6}=x_{4}-A A_{32} \\\\ A A_{1}=\\left(A A_{11} x_{3}+A A_{12}\\right) \\times\\left(1-x_{4}\\right)+1.0 \\\\ A A_{3}=A A_{31}\\left(-1.05584 x_{6}^{9}+12.688 x_{6}^{8}-63.70534 x_{6}^{7}+\\right. \\\\ 172.84571 x_{6}^{6}-274.05701 x_{6}^{5}+257.68705 x_{6}^{4}-141.40915 x_{6}^{3} \\\\ \\left.\\quad+44.13177 x_{6}^{2}-7.1654 x_{6}-0.0495 x_{1}^{2}+0.4518 x_{1}-0.61655\\right) \\\\ A A_{31}=\\left(-0.3767 x_{1}^{3}+3.39 x_{1}^{2}-10.356 x_{1}+11.588\\right) \\cdot A A_{311} \\\\ A A_{32}=-0.0727 x_{1}^{2}+0.7 x_{1}-1.2818 \\\\ A A_{311}=\\left(-17.102 x_{2}^{3}+41.495 x_{2}^{2}-33.234 x_{2}+8.8007\\right) \\cdot x_{4}+ \\\\ 36.566 x_{2}^{3}-89.203 x_{2}^{2}+71.8 x_{2}-18.108 \\\\ A_{31}=-7686.0287 x_{2}^{6}+30131.5678 x_{2}^{5}-49048.9664 x_{2}^{4}+ \\\\ 42480.7709 x_{2}^{3}-20665.147 x_{2}^{2}+5355.2035 x_{2}-577.8827 \\\\ A_{32}=61639.9103 x_{2}^{6}-241201.0598 x_{2}^{5}+392579.5937 x_{2}^{4}- \\\\ 340629.4699 x_{2}^{3}+166348.6917 x_{2}^{2}-43358.7938 x_{2}+4714.7918\\end{array}\n",
    "\\end{equation}\n",
    "\n",
    "\\begin{equation}\n",
    "\\begin{aligned} A_{33}=&-130677.4903 x_{2}^{6}+507996.2604 x_{2}^{5}-826728.7127 x_{2}^{4} \\\\+& 722677.104 x_{2}^{3}-358360.7392 x_{2}^{2} \\\\ &+95501.4948 x_{2}-10682.8619 \\\\ A_{34}=& 110034.6584 x_{2}^{6}+446051.22 x_{2}^{5}-724186.4643 x_{2}^{4} \\\\+& 599411.9264 x_{2}^{3}-264294.7189 x_{2}^{2} \\\\ &+58039.7328 x_{2}-4774.6414 \\\\ A_{35}=& 709672.0656 x_{2}^{6}-2803850.2395 x_{2}^{5}+4553780.5017 x_{2}^{4} \\\\-& 3888378.9905 x_{2}^{3}+1839829.259 x_{2}^{2} \\\\ &-457313.6939 x_{2}+46600.823 \\\\ A_{36}=&-822735.9289 x_{2}^{6}+3238899.7308 x_{2}^{5}-5256636.5472 x_{2}^{4} \\\\+& 4500543.147 x_{2}^{3}-2143487.3508 x_{2}^{2} \\\\ &+538548.1194 x_{2}-55751.1528 \\end{aligned}\n",
    "\\end{equation}\n",
    "\n",
    "\\begin{array}{l}A_{37}=299122.8727 x_{2}^{6}-1175773.1606 x_{2}^{5}+1907356.1357 x_{2}^{4} \\\\ \\begin{aligned}-1634256.8172 x_{2}^{3}+780020.9393 x_{2}^{2} \\\\ &-196679.7143 x_{2}+20467.0904 \\\\ A A_{11}=& A A_{111} x_{2}^{2}+A A_{112} x_{2}+A A_{113} \\end{aligned} \\\\ A A_{12}=A A_{121} x_{2}^{2}+A A_{122} x_{2}+A A_{123} \\\\ A A_{111}=17.945 x_{1}^{3}-166.294 x_{1}^{2}+489.799 x_{1}-493.142 \\\\ A A_{112}=-25.507 x_{1}^{3}+236.275 x_{1}^{2}-698.683 x_{1}+701.494 \\\\ A A_{113}=9.077 x_{1}^{3}-84.332 x_{1}^{2}+249.983 x_{1}-250.787 \\\\ A A_{121}=-16.872 x_{1}^{3}+156.399 x_{1}^{2}-460.689 x_{1}+463.848 \\\\ A A_{122}=24.015 x_{1}^{3}-222.507 x_{1}^{2}+658.027 x_{1}-660.665 \\\\ A A_{123}=-8.56 x_{1}^{3}+79.549 x_{1}^{2}-235.827 x_{1}+236.579\\end{array}\n",
    "\n",
    "\\begin{array}{l}A_{11}=A_{111} x_{2}^{2}+A_{112} x_{2}+A_{113} \\\\ A_{12}=A_{121} x_{2}^{3}+A_{122} x_{2}^{2}+A_{123} x_{2}+A_{124} \\\\ A_{13}=A_{131} x_{2}^{3}+A_{132} x_{2}^{2}+A_{133} x_{2}+A_{134} \\\\ A_{111}=-0.002222 x_{1}^{3}+0.040871 x_{1}^{2}-0.286866 x_{1}+0.599424 \\\\ A_{112}=0.010185 x_{1}^{3}-0.161176 x_{1}^{2}+0.904989 x_{1}-1.641389 \\\\ A_{113}=-0.015422 x_{1}^{3}+0.220371 x_{1}^{2}-1.084987 x_{1}+1.834167 \\\\ A_{121}=-0.0628667 x_{1}^{4}+0.4989259 x_{1}^{3}+0.52735 x_{1}^{2} \\\\ -10.7918672 x_{1}+16.616327 \\\\ A_{122}=0.1140667 x_{1}^{4}-0.8108963 x_{1}^{3}-2.2186833 x_{1}^{2} \\\\ \\quad+25.1269741 x_{1}-37.7729778 \\\\ A_{123}=-0.0589333 x_{1}^{4}+0.2639704 x_{1}^{3}+3.1949667 x_{1}^{2} \\\\ \\quad-21.8126569 x_{1}+31.4113508\\end{array}\n",
    "\n",
    "\\begin{array}{l}A_{131}=0.192207 x_{1}^{3}-2.787462 x_{1}^{2}+12.507855 x_{1}-14.764856 \\\\ A_{132}=-0.350563 x_{1}^{3}+5.222348 x_{1}^{2}-23.974852 x_{1}+29.007851 \\\\ A_{133}=0.237096 x_{1}^{3}-3.535062 x_{1}^{2}+16.368376 x_{1}-20.539908 \\\\ A_{134}=-0.067119 x_{1}^{3}+0.966362 x_{1}^{2}-4.407535 x_{1}+5.894703\\end{array}"
   ]
  },
  {
   "cell_type": "markdown",
   "metadata": {
    "pycharm": {
     "name": "#%% md\n"
    }
   },
   "source": [
    "### Eddy Component ($BE$)\n",
    "\\begin{equation}\n",
    "B_{E}^{\\prime}=\\frac{4}{3 \\pi} \\rho L_{P P} d^{2} r_{\\max }^{2} \\varphi_{a} \\omega\\left\\{\\begin{array}{l}\\left(1-f_{1} \\frac{R}{d}\\right)\\left(1-\\frac{O G}{d}-f_{1} \\frac{R}{d}\\right) \\\\ +f_{2}\\left(H_{0}-f_{1} \\frac{R}{d}\\right)^{2}\\end{array}\\right\\} C_{P 0}\n",
    "\\end{equation}\n",
    "\n",
    "\\begin{array}{l}f_{1}=\\frac{1}{2}[1+\\tanh \\{20(\\sigma-0.7)\\}] \\\\ f_{2}=\\frac{1}{2}(1-\\cos \\pi \\sigma)-1.5\\left(1-e^{-5(1-\\sigma)}\\right) \\sin ^{2} \\pi \\sigma \\\\ C_{P 0}=\\frac{1}{2}\\left(0.87 e^{-\\gamma}-4 e^{-0.1877}+3\\right) \\\\ H_{0}=\\frac{B}{2 d} \\\\ \\sigma=\\frac{S}{B d}\\end{array}\n",
    "\n",
    "\\begin{array}{l}x_{1}=B / d, x_{2}=C_{b}, x_{3}=C_{m}, x_{4}=O G / d \\\\ \\hat{B}_{E}=\\frac{4 L_{p p} d^{4} \\hat{\\omega} \\varphi_{a}}{3 \\pi \\nabla B^{2}} C_{R}=\\frac{4 \\hat{\\omega} \\varphi_{a}}{3 \\pi x_{2} \\cdot x_{1}^{3}} C_{R} \\\\ C_{R}=A_{E} \\cdot \\exp \\left(B_{E 1}+B_{E 2} \\cdot x_{3}^{B_{E 3}}\\right) \\\\ A_{E}=\\left(-0.0182 x_{2}+0.0155\\right) \\cdot\\left(x_{1}-1.8\\right)^{3}-79.414 x_{2}^{4} \\\\ \\quad+215.695 x_{2}^{3}-215.883 x_{2}^{2}+93.894 x_{2}-14.848\\end{array}\n",
    "\n",
    "\\begin{aligned} B_{E 1}=&\\left(-0.2 x_{1}+1.6\\right) \\cdot\\left(3.98 x_{2}-5.1525\\right) \\cdot x_{4} \\\\\\left\\{\\left(0.9717 x_{2}^{2}-1.55 x_{2}+0.723\\right) \\cdot x_{4}+\\left(0.04567 x_{2}+0.9408\\right)\\right\\} \\\\ B_{E 2}=&\\left(0.25 x_{4}+0.95\\right) \\cdot x_{4} \\\\ &-219.2 x_{2}^{3}+443.7 x_{2}^{2}-283.3 x_{2}+59.6 \\\\ B_{E 3}=&\\left(46.5-15 x_{1}\\right) \\cdot x_{2}+11.2 x_{1}-28.6 \\end{aligned}"
   ]
  },
  {
   "cell_type": "markdown",
   "metadata": {},
   "source": [
    "### Bilge Keel Component ($B_{BK}$)\n",
    "\n",
    "\\begin{array}{l}B_{N}=\\frac{8}{3 \\pi} \\rho r^{3} l_{B K} b_{B K} \\varphi_{a} \\omega f^{2}\\left(22.5 \\frac{b_{B K}}{r \\pi f \\varphi_{a}}+2.4\\right) \\\\ f=1+0.3 \\exp \\{-160(1-\\sigma)\\}\\end{array}\n",
    "\n",
    "\\begin{equation}\n",
    "B_{s}=\\frac{4}{3 \\pi} \\rho r^{2} d^{2} \\omega \\varphi_{a} f^{2} I\n",
    "\\end{equation}\n",
    "\n",
    "\\begin{equation}\n",
    "I=\\frac{1}{d^{2}} \\int C_{P 1} l_{B K} d s\n",
    "\\end{equation}\n",
    "\n",
    "\\begin{aligned} C_{P 1}^{+} &=1.2 \\\\ C_{P 1}^{-} &=-\\frac{22.5 b_{B K}}{\\pi r f \\varphi_{a}}-1.2 \\end{aligned}\n",
    "\n",
    "\\begin{array}{l}x_{1}=B / d, x_{2}=C_{b}, x_{3}=C_{m}, x_{4}=O G / d, x_{5}=\\hat{\\omega} \\\\ x_{6}=\\varphi_{a}(\\mathrm{deg}), x_{7}=b_{B K} / B, x_{8}=l_{B K} / L_{P P} \\\\ \\hat{B}_{B K}=A_{B K} \\cdot \\exp \\left(B_{B K 1}+B_{B K 2} \\cdot x_{3}^{B_{B K 3}}\\right) \\cdot x_{5} \\\\ A_{B K}=f_{1}\\left(x_{1}, x_{2}\\right) \\cdot f_{2}\\left(x_{6}\\right) \\cdot f_{3}\\left(x_{7}, x_{8}\\right) \\\\ f_{1}=\\left(-0.3651 x_{2}+0.3907\\right) \\cdot\\left(x_{1}-2.83\\right)^{2}-2.21 x_{2}+2.632 \\\\ f_{2}=0.00255 x_{6}^{2}+0.122 x_{6}+0.4794 \\\\ f_{3}=\\left(-0.8913 x_{7}^{2}-0.0733 x_{7}\\right) \\cdot x_{8}^{2} \\\\ \\quad+\\left(5.2857 x_{7}^{2}-0.01185 x_{7}+0.00189\\right) \\cdot x_{8} \\\\ B_{B K 1}=\\left\\{5 x_{7}+0.3 x_{1}-0.2 x_{8}\\right. \\\\ \\left.\\quad+0.00125 x_{6}^{2}-0.0425 x_{6}-1.86\\right\\} \\cdot x_{4} \\\\ B_{B K 2}=-15 x_{7}+1.2 x_{2}-0.1 x_{1} \\\\ \\quad-0.0657 x_{4}^{2}+0.0586 x_{4}+1.6164 \\\\ B_{B K 3}=2.5 x_{4}+15.75\\end{array}\n",
    "\n"
   ]
  },
  {
   "cell_type": "code",
   "execution_count": 2,
   "metadata": {
    "pycharm": {
     "is_executing": false
    }
   },
   "outputs": [
    {
     "name": "stdout",
     "output_type": "stream",
     "text": [
      "ANTLR runtime and generated code versions disagree: 4.8!=4.7.1\n",
      "ANTLR runtime and generated code versions disagree: 4.8!=4.7.1\n"
     ]
    }
   ],
   "source": [
    "from sympy.parsing.latex import parse_latex\n",
    "import re\n",
    "from IPython.display import display, Math, Latex, Markdown\n",
    "from sympy.physics.vector.printing import vpprint, vlatex\n",
    "equation = parse_latex('B_{44}=B_{F}+B_{W}+B_{E}+B_{L}+B_{BK}')"
   ]
  },
  {
   "cell_type": "code",
   "execution_count": 3,
   "metadata": {},
   "outputs": [],
   "source": [
    "with open('equations.tex', mode='r') as file:\n",
    "    s = file.read()"
   ]
  },
  {
   "cell_type": "code",
   "execution_count": 4,
   "metadata": {},
   "outputs": [],
   "source": [
    "removes = [\n",
    "    r'\\%.*',  # Remove comment\n",
    "    r'\\\\begin{array}{l}',\n",
    "    r'\\\\end{array}',\n",
    "    r'\\\\right.',\n",
    "    r'\\\\left.',\n",
    "    r'\\\\left',\n",
    "    r'\\\\right',\n",
    "    r'\\\\var',\n",
    "    r'\\\\begin{aligned}',\n",
    "    r'\\\\end{aligned}',\n",
    "    r'&',\n",
    "    \n",
    "]\n",
    "\n",
    "s_clean = str(s)\n",
    "for remove in removes:    \n",
    "    s_clean = re.sub(remove,'',s_clean)"
   ]
  },
  {
   "cell_type": "code",
   "execution_count": 5,
   "metadata": {},
   "outputs": [
    {
     "data": {
      "text/plain": [
       "'B_{44}=B_{F}+B_{W}+B_{E}+B_{L}+B_{B K}\\nB_{F}=\\\\frac{4}{3 \\\\pi} \\\\rho s_{f} r_{f}^{3} phi_{a} \\\\omega c_{f}\\nc_{f}=1.328\\\\frac{3.22 r_{f}^{2} phi_{a}^{2}}{T v}^{\\\\frac{1}{2}} \\\\\\\\ r_{f}=\\\\frac{0.887+0.145 C_{b}1.7 d+C_{b} B-2 O G}{\\\\pi} \\\\\\\\ s_{f}=L_{P P}1.75 d+C_{b} B\\n\\nx_{1}=B / d, x_{2}=C_{b}, x_{3}=C_{m}, x_{4}=1-O G / d, x_{5}=\\\\hat{\\\\omega}\\n\\n\\n\\\\hat{B}_{W}=A_{1} / x_{5} \\\\cdot \\\\exp -A_{2}\\\\logx_{5}-A_{3}^{2} / 1.44\\n\\nA_{1}=A_{11} x_{4}^{2}+A_{12} x_{4}+A_{13} A A_{1}\\nA_{2}=-1.402 x_{4}^{3}+7.189 x_{4}^{2}-10.993 x_{4}+9.45\\nA_{3}=A_{31} x_{4}^{6}+A_{32} x_{4}^{5}+A_{33} x_{4}^{4}+A_{34} x_{4}^{3}+A_{35} x_{4}^{2}+A_{36} x^{4}+A_{37}+AA_{3}\\nx_{6}=x_{4}-AA_{32}\\n\\n\\nAA_{1}=AA_{11} x_{3}+AA_{12} \\\\times1-x_{4}+1.0\\nAA_{3}=AA_{31}-1.05584 x_{6}^{9}+12.688 x_{6}^{8}-63.70534 x_{6}^{7}+ 172.84571 x_{6}^{6}-274.05701 x_{6}^{5}+257.68705 x_{6}^{4}-141.40915 x_{6}^{3} \\\\quad+44.13177 x_{6}^{2}-7.1654 x_{6}-0.0495 x_{1}^{2}+0.4518 x_{1}-0.61655\\nAA_{31}=-0.3767 x_{1}^{3}+3.39 x_{1}^{2}-10.356 x_{1}+11.588 \\\\cdot AA_{311}\\nAA_{32}=-0.0727 x_{1}^{2}+0.7 x_{1}-1.2818\\nAA_{311}=-17.102 x_{2}^{3}+41.495 x_{2}^{2}-33.234 x_{2}+8.8007 \\\\cdot x_{4}+ 36.566 x_{2}^{3}-89.203 x_{2}^{2}+71.8 x_{2}-18.108\\nA_{31}=-7686.0287 x_{2}^{6}+30131.5678 x_{2}^{5}-49048.9664 x_{2}^{4}+ 42480.7709 x_{2}^{3}-20665.147 x_{2}^{2}+5355.2035 x_{2}-577.8827\\nA_{32}=61639.9103 x_{2}^{6}-241201.0598 x_{2}^{5}+392579.5937 x_{2}^{4}- 340629.4699 x_{2}^{3}+166348.6917 x_{2}^{2}-43358.7938 x_{2}+4714.7918\\n\\nA_{33}=-130677.4903 x_{2}^{6}+507996.2604 x_{2}^{5}-826728.7127 x_{2}^{4}+722677.104 x_{2}^{3}-358360.7392 x_{2}^{2} +95501.4948 x_{2}-10682.8619\\nA_{34}= 110034.6584 x_{2}^{6}+446051.22 x_{2}^{5}-724186.4643 x_{2}^{4}+ 599411.9264 x_{2}^{3}-264294.7189 x_{2}^{2} +58039.7328 x_{2}-4774.6414\\nA_{35}= 709672.0656 x_{2}^{6}-2803850.2395 x_{2}^{5}+4553780.5017 x_{2}^{4}-3888378.9905 x_{2}^{3}+1839829.259 x_{2}^{2}  -457313.6939 x_{2}+46600.823\\nA_{36}=-822735.9289 x_{2}^{6}+3238899.7308 x_{2}^{5}-5256636.5472 x_{2}^{4}+ 4500543.147 x_{2}^{3}-2143487.3508 x_{2}^{2}+538548.1194 x_{2}-55751.1528\\n\\nA_{37}=299122.8727 x_{2}^{6}-1175773.1606 x_{2}^{5}+1907356.1357 x_{2}^{4}-1634256.8172 x_{2}^{3}+780020.9393 x_{2}^{2}-196679.7143 x_{2}+20467.0904\\nAA_{11}= AA_{111} x_{2}^{2}+AA_{112} x_{2}+AA_{113}\\nAA_{12}=AA_{121} x_{2}^{2}+AA_{122} x_{2}+AA_{123}\\nAA_{111}=17.945 x_{1}^{3}-166.294 x_{1}^{2}+489.799 x_{1}-493.142\\nAA_{112}=-25.507 x_{1}^{3}+236.275 x_{1}^{2}-698.683 x_{1}+701.494\\nAA_{113}=9.077 x_{1}^{3}-84.332 x_{1}^{2}+249.983 x_{1}-250.787\\nAA_{121}=-16.872 x_{1}^{3}+156.399 x_{1}^{2}-460.689 x_{1}+463.848\\nAA_{122}=24.015 x_{1}^{3}-222.507 x_{1}^{2}+658.027 x_{1}-660.665\\nAA_{123}=-8.56 x_{1}^{3}+79.549 x_{1}^{2}-235.827 x_{1}+236.579\\n\\nA_{11}=A_{111} x_{2}^{2}+A_{112} x_{2}+A_{113}\\nA_{12}=A_{121} x_{2}^{3}+A_{122} x_{2}^{2}+A_{123} x_{2}+A_{124}\\nA_{13}=A_{131} x_{2}^{3}+A_{132} x_{2}^{2}+A_{133} x_{2}+A_{134}\\nA_{111}=-0.002222 x_{1}^{3}+0.040871 x_{1}^{2}-0.286866 x_{1}+0.599424\\nA_{112}=0.010185 x_{1}^{3}-0.161176 x_{1}^{2}+0.904989 x_{1}-1.641389\\nA_{113}=-0.015422 x_{1}^{3}+0.220371 x_{1}^{2}-1.084987 x_{1}+1.834167\\nA_{121}=-0.0628667 x_{1}^{4}+0.4989259 x_{1}^{3}+0.52735 x_{1}^{2}-10.7918672 x_{1}+16.616327\\nA_{122}=0.1140667 x_{1}^{4}-0.8108963 x_{1}^{3}-2.2186833 x_{1}^{2}\\\\quad+25.1269741 x_{1}-37.7729778\\nA_{123}=-0.0589333 x_{1}^{4}+0.2639704 x_{1}^{3}+3.1949667 x_{1}^{2}\\\\quad-21.8126569 x_{1}+31.4113508\\nA_{124}=0.0107667 x_{1}^{4}+0.0018704 x_{1}^{3}-1.2494083 x_{1}^{2} \\\\quad+6.9427931 x_{1}-10.2018992\\nA_{131}=0.192207 x_{1}^{3}-2.787462 x_{1}^{2}+12.507855 x_{1}-14.764856\\nA_{132}=-0.350563 x_{1}^{3}+5.222348 x_{1}^{2}-23.974852 x_{1}+29.007851\\nA_{133}=0.237096 x_{1}^{3}-3.535062 x_{1}^{2}+16.368376 x_{1}-20.539908\\nA_{134}=-0.067119 x_{1}^{3}+0.966362 x_{1}^{2}-4.407535 x_{1}+5.894703\\n\\n\\nB_{E}^{\\\\prime}=\\\\frac{4}{3 \\\\pi} \\\\rho L_{P P} d^{2} r_{\\\\max }^{2} phi_{a} \\\\omega{1-f_{1} \\\\frac{R}{d}1-\\\\frac{O G}{d}-f_{1} \\\\frac{R}{d} +f_{2}H_{0}-f_{1} \\\\frac{R}{d}^{2}} C_{P 0}\\n\\n\\nf_{1}=\\\\frac{1}{2}[1+\\\\tanh{20(\\\\sigma-0.7)}] \\\\\\\\ f_{2}=\\\\frac{1}{2}(1-\\\\cos \\\\pi \\\\sigma)-1.51-e^{-5(1-\\\\sigma)} \\\\sin ^{2} \\\\pi \\\\sigma \\\\\\\\ C_{P 0}=\\\\frac{1}{2}0.87 e^{-\\\\gamma}-4 e^{-0.1877}+3 \\\\\\\\ H_{0}=\\\\frac{B}{2 d} \\\\\\\\ \\\\sigma=\\\\frac{S}{B d}\\n\\nx_{1}=B / d\\nx_{2}=C_{b}\\nx_{3}=C_{m}\\nx_{4}=O G / d\\n\\n\\\\hat{B}_{E}=\\\\frac{4 \\\\hat{\\\\omega} phi_{a}}{3 \\\\pi x_{2} \\\\cdot x_{1}^{3}} C_{R}\\n\\nC_{R}=A_{E} \\\\cdot \\\\exp B_{E 1}+B_{E 2} \\\\cdot x_{3}^{B_{E 3}}\\nA_{E}=-0.0182 x_{2}+0.0155 \\\\cdotx_{1}-1.8^{3}-79.414 x_{2}^{4}\\\\quad+215.695 x_{2}^{3}-215.883 x_{2}^{2}+93.894 x_{2}-14.848\\n\\nB_{E 1}=-0.2 x_{1}+1.6 \\\\cdot3.98 x_{2}-5.1525 \\\\cdot x_{4} {0.9717 x_{2}^{2}-1.55 x_{2}+0.723 \\\\cdot x_{4}+0.04567 x_{2}+0.9408}\\nB_{E 2}=0.25 x_{4}+0.95 \\\\cdot x_{4} -219.2 x_{2}^{3}+443.7 x_{2}^{2}-283.3 x_{2}+59.6\\nB_{E 3}=46.5-15 x_{1} \\\\cdot x_{2}+11.2 x_{1}-28.6\\n\\n{l}B_{N}=\\\\frac{8}{3 \\\\pi} \\\\rho r^{3} l_{B K} b_{B K} phi_{a} \\\\omega f^{2}22.5 \\\\frac{b_{B K}}{r \\\\pi f phi_{a}}+2.4\\nf=1+0.3 \\\\exp{-160(1-\\\\sigma)}\\n\\nB_{s}=\\\\frac{4}{3 \\\\pi} \\\\rho r^{2} d^{2} \\\\omega phi_{a} f^{2} I\\nI=\\\\frac{1}{d^{2}} \\\\int C_{P 1} l_{B K} d s\\n\\n\\nC_{P1face} =1.2\\nC_{P1back} =-\\\\frac{22.5 b_{B K}}{\\\\pi r f phi_{a}}-1.2\\n\\nx_{1}=B / d\\nx_{2}=C_{b}\\nx_{3}=C_{m}\\nx_{4}=O G / d\\nx_{5}=\\\\hat{\\\\omega}\\nx_{6}=phi_{a}(\\\\mathrm{deg})\\nx_{7}=b_{B K} / B\\nx_{8}=l_{B K} / L_{P P}\\n\\n\\\\hat{B}_{B K}=A_{B K} \\\\cdot \\\\exp B_{B K 1}+B_{B K 2} \\\\cdot x_{3}^{B_{B K 3}} \\\\cdot x_{5}\\nA_{B K}=f_{1} \\\\cdot f_{2} \\\\cdot f_{3}\\n\\nf_{1}=-0.3651 x_{2}+0.3907 \\\\cdotx_{1}-2.83^{2}-2.21 x_{2}+2.632\\nf_{2}=0.00255 x_{6}^{2}+0.122 x_{6}+0.4794\\nf_{3}=-0.8913 x_{7}^{2}-0.0733 x_{7} \\\\cdot x_{8}^{2}\\\\quad+5.2857 x_{7}^{2}-0.01185 x_{7}+0.00189 \\\\cdot x_{8}\\nB_{B K 1}={5 x_{7}+0.3 x_{1}-0.2 x_{8}}\\\\quad+0.00125 x_{6}^{2}-0.0425 x_{6}-1.86} \\\\cdot x_{4}\\nB_{B K 2}=-15 x_{7}+1.2 x_{2}-0.1 x_{1}\\\\quad-0.0657 x_{4}^{2}+0.0586 x_{4}+1.6164\\nB_{B K 3}=2.5 x_{4}+15.75\\n\\n\\n'"
      ]
     },
     "execution_count": 5,
     "metadata": {},
     "output_type": "execute_result"
    }
   ],
   "source": [
    "s_clean"
   ]
  },
  {
   "cell_type": "code",
   "execution_count": 6,
   "metadata": {},
   "outputs": [],
   "source": [
    "latex_equations = re.split(r'[,\\n]|\\\\\\\\',s_clean)"
   ]
  },
  {
   "cell_type": "code",
   "execution_count": 7,
   "metadata": {},
   "outputs": [],
   "source": [
    "def remove_hat(latex_equation):\n",
    "    \"\"\"\n",
    "    Ikeda uses the \\hat{} to define that a coefficient is nondimensional that does not play with SymPy...\n",
    "    \n",
    "    Example of what this function does:\n",
    "    \\\\hat{B}_{W}=A_{1} --> 'B_n_{W}=A_{1}\n",
    "    \n",
    "    \"\"\"\n",
    "    \n",
    "    result = re.search(r'\\\\hat{([^}]+)',latex_equation)\n",
    "    if result:\n",
    "        label = '%s_n' % result.group(1)\n",
    "        latex_equation_nondim = re.sub(r'\\\\hat{[^}]+}',label, latex_equation)\n",
    "    else:\n",
    "        latex_equation_nondim = latex_equation\n",
    "        \n",
    "    return latex_equation_nondim"
   ]
  },
  {
   "cell_type": "code",
   "execution_count": 8,
   "metadata": {},
   "outputs": [],
   "source": [
    "latex_equations_no_hat = []\n",
    "\n",
    "for latex_equation in latex_equations:\n",
    "    latex_equation = remove_hat(latex_equation)\n",
    "    latex_equations_no_hat.append(latex_equation)"
   ]
  },
  {
   "cell_type": "code",
   "execution_count": 9,
   "metadata": {},
   "outputs": [
    {
     "data": {
      "text/latex": [
       "$\\displaystyle B_{44}=B_{F}+B_{W}+B_{E}+B_{L}+B_{B K}$"
      ],
      "text/plain": [
       "<IPython.core.display.Math object>"
      ]
     },
     "metadata": {},
     "output_type": "display_data"
    },
    {
     "data": {
      "text/latex": [
       "$\\displaystyle B_{F}=\\frac{4}{3 \\pi} \\rho s_{f} r_{f}^{3} phi_{a} \\omega c_{f}$"
      ],
      "text/plain": [
       "<IPython.core.display.Math object>"
      ]
     },
     "metadata": {},
     "output_type": "display_data"
    },
    {
     "data": {
      "text/latex": [
       "$\\displaystyle c_{f}=1.328\\frac{3.22 r_{f}^{2} phi_{a}^{2}}{T v}^{\\frac{1}{2}} $"
      ],
      "text/plain": [
       "<IPython.core.display.Math object>"
      ]
     },
     "metadata": {},
     "output_type": "display_data"
    },
    {
     "data": {
      "text/latex": [
       "$\\displaystyle  r_{f}=\\frac{0.887+0.145 C_{b}1.7 d+C_{b} B-2 O G}{\\pi} $"
      ],
      "text/plain": [
       "<IPython.core.display.Math object>"
      ]
     },
     "metadata": {},
     "output_type": "display_data"
    },
    {
     "data": {
      "text/latex": [
       "$\\displaystyle  s_{f}=L_{P P}1.75 d+C_{b} B$"
      ],
      "text/plain": [
       "<IPython.core.display.Math object>"
      ]
     },
     "metadata": {},
     "output_type": "display_data"
    },
    {
     "data": {
      "text/latex": [
       "$\\displaystyle $"
      ],
      "text/plain": [
       "<IPython.core.display.Math object>"
      ]
     },
     "metadata": {},
     "output_type": "display_data"
    },
    {
     "data": {
      "text/latex": [
       "$\\displaystyle x_{1}=B / d$"
      ],
      "text/plain": [
       "<IPython.core.display.Math object>"
      ]
     },
     "metadata": {},
     "output_type": "display_data"
    },
    {
     "data": {
      "text/latex": [
       "$\\displaystyle  x_{2}=C_{b}$"
      ],
      "text/plain": [
       "<IPython.core.display.Math object>"
      ]
     },
     "metadata": {},
     "output_type": "display_data"
    },
    {
     "data": {
      "text/latex": [
       "$\\displaystyle  x_{3}=C_{m}$"
      ],
      "text/plain": [
       "<IPython.core.display.Math object>"
      ]
     },
     "metadata": {},
     "output_type": "display_data"
    },
    {
     "data": {
      "text/latex": [
       "$\\displaystyle  x_{4}=1-O G / d$"
      ],
      "text/plain": [
       "<IPython.core.display.Math object>"
      ]
     },
     "metadata": {},
     "output_type": "display_data"
    },
    {
     "data": {
      "text/latex": [
       "$\\displaystyle  x_{5}=\\omega_n$"
      ],
      "text/plain": [
       "<IPython.core.display.Math object>"
      ]
     },
     "metadata": {},
     "output_type": "display_data"
    },
    {
     "data": {
      "text/latex": [
       "$\\displaystyle $"
      ],
      "text/plain": [
       "<IPython.core.display.Math object>"
      ]
     },
     "metadata": {},
     "output_type": "display_data"
    },
    {
     "data": {
      "text/latex": [
       "$\\displaystyle $"
      ],
      "text/plain": [
       "<IPython.core.display.Math object>"
      ]
     },
     "metadata": {},
     "output_type": "display_data"
    },
    {
     "data": {
      "text/latex": [
       "$\\displaystyle B_n_{W}=A_{1} / x_{5} \\cdot \\exp -A_{2}\\logx_{5}-A_{3}^{2} / 1.44$"
      ],
      "text/plain": [
       "<IPython.core.display.Math object>"
      ]
     },
     "metadata": {},
     "output_type": "display_data"
    },
    {
     "data": {
      "text/latex": [
       "$\\displaystyle $"
      ],
      "text/plain": [
       "<IPython.core.display.Math object>"
      ]
     },
     "metadata": {},
     "output_type": "display_data"
    },
    {
     "data": {
      "text/latex": [
       "$\\displaystyle A_{1}=A_{11} x_{4}^{2}+A_{12} x_{4}+A_{13} A A_{1}$"
      ],
      "text/plain": [
       "<IPython.core.display.Math object>"
      ]
     },
     "metadata": {},
     "output_type": "display_data"
    },
    {
     "data": {
      "text/latex": [
       "$\\displaystyle A_{2}=-1.402 x_{4}^{3}+7.189 x_{4}^{2}-10.993 x_{4}+9.45$"
      ],
      "text/plain": [
       "<IPython.core.display.Math object>"
      ]
     },
     "metadata": {},
     "output_type": "display_data"
    },
    {
     "data": {
      "text/latex": [
       "$\\displaystyle A_{3}=A_{31} x_{4}^{6}+A_{32} x_{4}^{5}+A_{33} x_{4}^{4}+A_{34} x_{4}^{3}+A_{35} x_{4}^{2}+A_{36} x^{4}+A_{37}+AA_{3}$"
      ],
      "text/plain": [
       "<IPython.core.display.Math object>"
      ]
     },
     "metadata": {},
     "output_type": "display_data"
    },
    {
     "data": {
      "text/latex": [
       "$\\displaystyle x_{6}=x_{4}-AA_{32}$"
      ],
      "text/plain": [
       "<IPython.core.display.Math object>"
      ]
     },
     "metadata": {},
     "output_type": "display_data"
    },
    {
     "data": {
      "text/latex": [
       "$\\displaystyle $"
      ],
      "text/plain": [
       "<IPython.core.display.Math object>"
      ]
     },
     "metadata": {},
     "output_type": "display_data"
    },
    {
     "data": {
      "text/latex": [
       "$\\displaystyle $"
      ],
      "text/plain": [
       "<IPython.core.display.Math object>"
      ]
     },
     "metadata": {},
     "output_type": "display_data"
    },
    {
     "data": {
      "text/latex": [
       "$\\displaystyle AA_{1}=AA_{11} x_{3}+AA_{12} \\times1-x_{4}+1.0$"
      ],
      "text/plain": [
       "<IPython.core.display.Math object>"
      ]
     },
     "metadata": {},
     "output_type": "display_data"
    },
    {
     "data": {
      "text/latex": [
       "$\\displaystyle AA_{3}=AA_{31}-1.05584 x_{6}^{9}+12.688 x_{6}^{8}-63.70534 x_{6}^{7}+ 172.84571 x_{6}^{6}-274.05701 x_{6}^{5}+257.68705 x_{6}^{4}-141.40915 x_{6}^{3} \\quad+44.13177 x_{6}^{2}-7.1654 x_{6}-0.0495 x_{1}^{2}+0.4518 x_{1}-0.61655$"
      ],
      "text/plain": [
       "<IPython.core.display.Math object>"
      ]
     },
     "metadata": {},
     "output_type": "display_data"
    },
    {
     "data": {
      "text/latex": [
       "$\\displaystyle AA_{31}=-0.3767 x_{1}^{3}+3.39 x_{1}^{2}-10.356 x_{1}+11.588 \\cdot AA_{311}$"
      ],
      "text/plain": [
       "<IPython.core.display.Math object>"
      ]
     },
     "metadata": {},
     "output_type": "display_data"
    },
    {
     "data": {
      "text/latex": [
       "$\\displaystyle AA_{32}=-0.0727 x_{1}^{2}+0.7 x_{1}-1.2818$"
      ],
      "text/plain": [
       "<IPython.core.display.Math object>"
      ]
     },
     "metadata": {},
     "output_type": "display_data"
    },
    {
     "data": {
      "text/latex": [
       "$\\displaystyle AA_{311}=-17.102 x_{2}^{3}+41.495 x_{2}^{2}-33.234 x_{2}+8.8007 \\cdot x_{4}+ 36.566 x_{2}^{3}-89.203 x_{2}^{2}+71.8 x_{2}-18.108$"
      ],
      "text/plain": [
       "<IPython.core.display.Math object>"
      ]
     },
     "metadata": {},
     "output_type": "display_data"
    },
    {
     "data": {
      "text/latex": [
       "$\\displaystyle A_{31}=-7686.0287 x_{2}^{6}+30131.5678 x_{2}^{5}-49048.9664 x_{2}^{4}+ 42480.7709 x_{2}^{3}-20665.147 x_{2}^{2}+5355.2035 x_{2}-577.8827$"
      ],
      "text/plain": [
       "<IPython.core.display.Math object>"
      ]
     },
     "metadata": {},
     "output_type": "display_data"
    },
    {
     "data": {
      "text/latex": [
       "$\\displaystyle A_{32}=61639.9103 x_{2}^{6}-241201.0598 x_{2}^{5}+392579.5937 x_{2}^{4}- 340629.4699 x_{2}^{3}+166348.6917 x_{2}^{2}-43358.7938 x_{2}+4714.7918$"
      ],
      "text/plain": [
       "<IPython.core.display.Math object>"
      ]
     },
     "metadata": {},
     "output_type": "display_data"
    },
    {
     "data": {
      "text/latex": [
       "$\\displaystyle $"
      ],
      "text/plain": [
       "<IPython.core.display.Math object>"
      ]
     },
     "metadata": {},
     "output_type": "display_data"
    },
    {
     "data": {
      "text/latex": [
       "$\\displaystyle A_{33}=-130677.4903 x_{2}^{6}+507996.2604 x_{2}^{5}-826728.7127 x_{2}^{4}+722677.104 x_{2}^{3}-358360.7392 x_{2}^{2} +95501.4948 x_{2}-10682.8619$"
      ],
      "text/plain": [
       "<IPython.core.display.Math object>"
      ]
     },
     "metadata": {},
     "output_type": "display_data"
    },
    {
     "data": {
      "text/latex": [
       "$\\displaystyle A_{34}= 110034.6584 x_{2}^{6}+446051.22 x_{2}^{5}-724186.4643 x_{2}^{4}+ 599411.9264 x_{2}^{3}-264294.7189 x_{2}^{2} +58039.7328 x_{2}-4774.6414$"
      ],
      "text/plain": [
       "<IPython.core.display.Math object>"
      ]
     },
     "metadata": {},
     "output_type": "display_data"
    },
    {
     "data": {
      "text/latex": [
       "$\\displaystyle A_{35}= 709672.0656 x_{2}^{6}-2803850.2395 x_{2}^{5}+4553780.5017 x_{2}^{4}-3888378.9905 x_{2}^{3}+1839829.259 x_{2}^{2}  -457313.6939 x_{2}+46600.823$"
      ],
      "text/plain": [
       "<IPython.core.display.Math object>"
      ]
     },
     "metadata": {},
     "output_type": "display_data"
    },
    {
     "data": {
      "text/latex": [
       "$\\displaystyle A_{36}=-822735.9289 x_{2}^{6}+3238899.7308 x_{2}^{5}-5256636.5472 x_{2}^{4}+ 4500543.147 x_{2}^{3}-2143487.3508 x_{2}^{2}+538548.1194 x_{2}-55751.1528$"
      ],
      "text/plain": [
       "<IPython.core.display.Math object>"
      ]
     },
     "metadata": {},
     "output_type": "display_data"
    },
    {
     "data": {
      "text/latex": [
       "$\\displaystyle $"
      ],
      "text/plain": [
       "<IPython.core.display.Math object>"
      ]
     },
     "metadata": {},
     "output_type": "display_data"
    },
    {
     "data": {
      "text/latex": [
       "$\\displaystyle A_{37}=299122.8727 x_{2}^{6}-1175773.1606 x_{2}^{5}+1907356.1357 x_{2}^{4}-1634256.8172 x_{2}^{3}+780020.9393 x_{2}^{2}-196679.7143 x_{2}+20467.0904$"
      ],
      "text/plain": [
       "<IPython.core.display.Math object>"
      ]
     },
     "metadata": {},
     "output_type": "display_data"
    },
    {
     "data": {
      "text/latex": [
       "$\\displaystyle AA_{11}= AA_{111} x_{2}^{2}+AA_{112} x_{2}+AA_{113}$"
      ],
      "text/plain": [
       "<IPython.core.display.Math object>"
      ]
     },
     "metadata": {},
     "output_type": "display_data"
    },
    {
     "data": {
      "text/latex": [
       "$\\displaystyle AA_{12}=AA_{121} x_{2}^{2}+AA_{122} x_{2}+AA_{123}$"
      ],
      "text/plain": [
       "<IPython.core.display.Math object>"
      ]
     },
     "metadata": {},
     "output_type": "display_data"
    },
    {
     "data": {
      "text/latex": [
       "$\\displaystyle AA_{111}=17.945 x_{1}^{3}-166.294 x_{1}^{2}+489.799 x_{1}-493.142$"
      ],
      "text/plain": [
       "<IPython.core.display.Math object>"
      ]
     },
     "metadata": {},
     "output_type": "display_data"
    },
    {
     "data": {
      "text/latex": [
       "$\\displaystyle AA_{112}=-25.507 x_{1}^{3}+236.275 x_{1}^{2}-698.683 x_{1}+701.494$"
      ],
      "text/plain": [
       "<IPython.core.display.Math object>"
      ]
     },
     "metadata": {},
     "output_type": "display_data"
    },
    {
     "data": {
      "text/latex": [
       "$\\displaystyle AA_{113}=9.077 x_{1}^{3}-84.332 x_{1}^{2}+249.983 x_{1}-250.787$"
      ],
      "text/plain": [
       "<IPython.core.display.Math object>"
      ]
     },
     "metadata": {},
     "output_type": "display_data"
    },
    {
     "data": {
      "text/latex": [
       "$\\displaystyle AA_{121}=-16.872 x_{1}^{3}+156.399 x_{1}^{2}-460.689 x_{1}+463.848$"
      ],
      "text/plain": [
       "<IPython.core.display.Math object>"
      ]
     },
     "metadata": {},
     "output_type": "display_data"
    },
    {
     "data": {
      "text/latex": [
       "$\\displaystyle AA_{122}=24.015 x_{1}^{3}-222.507 x_{1}^{2}+658.027 x_{1}-660.665$"
      ],
      "text/plain": [
       "<IPython.core.display.Math object>"
      ]
     },
     "metadata": {},
     "output_type": "display_data"
    },
    {
     "data": {
      "text/latex": [
       "$\\displaystyle AA_{123}=-8.56 x_{1}^{3}+79.549 x_{1}^{2}-235.827 x_{1}+236.579$"
      ],
      "text/plain": [
       "<IPython.core.display.Math object>"
      ]
     },
     "metadata": {},
     "output_type": "display_data"
    },
    {
     "data": {
      "text/latex": [
       "$\\displaystyle $"
      ],
      "text/plain": [
       "<IPython.core.display.Math object>"
      ]
     },
     "metadata": {},
     "output_type": "display_data"
    },
    {
     "data": {
      "text/latex": [
       "$\\displaystyle A_{11}=A_{111} x_{2}^{2}+A_{112} x_{2}+A_{113}$"
      ],
      "text/plain": [
       "<IPython.core.display.Math object>"
      ]
     },
     "metadata": {},
     "output_type": "display_data"
    },
    {
     "data": {
      "text/latex": [
       "$\\displaystyle A_{12}=A_{121} x_{2}^{3}+A_{122} x_{2}^{2}+A_{123} x_{2}+A_{124}$"
      ],
      "text/plain": [
       "<IPython.core.display.Math object>"
      ]
     },
     "metadata": {},
     "output_type": "display_data"
    },
    {
     "data": {
      "text/latex": [
       "$\\displaystyle A_{13}=A_{131} x_{2}^{3}+A_{132} x_{2}^{2}+A_{133} x_{2}+A_{134}$"
      ],
      "text/plain": [
       "<IPython.core.display.Math object>"
      ]
     },
     "metadata": {},
     "output_type": "display_data"
    },
    {
     "data": {
      "text/latex": [
       "$\\displaystyle A_{111}=-0.002222 x_{1}^{3}+0.040871 x_{1}^{2}-0.286866 x_{1}+0.599424$"
      ],
      "text/plain": [
       "<IPython.core.display.Math object>"
      ]
     },
     "metadata": {},
     "output_type": "display_data"
    },
    {
     "data": {
      "text/latex": [
       "$\\displaystyle A_{112}=0.010185 x_{1}^{3}-0.161176 x_{1}^{2}+0.904989 x_{1}-1.641389$"
      ],
      "text/plain": [
       "<IPython.core.display.Math object>"
      ]
     },
     "metadata": {},
     "output_type": "display_data"
    },
    {
     "data": {
      "text/latex": [
       "$\\displaystyle A_{113}=-0.015422 x_{1}^{3}+0.220371 x_{1}^{2}-1.084987 x_{1}+1.834167$"
      ],
      "text/plain": [
       "<IPython.core.display.Math object>"
      ]
     },
     "metadata": {},
     "output_type": "display_data"
    },
    {
     "data": {
      "text/latex": [
       "$\\displaystyle A_{121}=-0.0628667 x_{1}^{4}+0.4989259 x_{1}^{3}+0.52735 x_{1}^{2}-10.7918672 x_{1}+16.616327$"
      ],
      "text/plain": [
       "<IPython.core.display.Math object>"
      ]
     },
     "metadata": {},
     "output_type": "display_data"
    },
    {
     "data": {
      "text/latex": [
       "$\\displaystyle A_{122}=0.1140667 x_{1}^{4}-0.8108963 x_{1}^{3}-2.2186833 x_{1}^{2}\\quad+25.1269741 x_{1}-37.7729778$"
      ],
      "text/plain": [
       "<IPython.core.display.Math object>"
      ]
     },
     "metadata": {},
     "output_type": "display_data"
    },
    {
     "data": {
      "text/latex": [
       "$\\displaystyle A_{123}=-0.0589333 x_{1}^{4}+0.2639704 x_{1}^{3}+3.1949667 x_{1}^{2}\\quad-21.8126569 x_{1}+31.4113508$"
      ],
      "text/plain": [
       "<IPython.core.display.Math object>"
      ]
     },
     "metadata": {},
     "output_type": "display_data"
    },
    {
     "data": {
      "text/latex": [
       "$\\displaystyle A_{124}=0.0107667 x_{1}^{4}+0.0018704 x_{1}^{3}-1.2494083 x_{1}^{2} \\quad+6.9427931 x_{1}-10.2018992$"
      ],
      "text/plain": [
       "<IPython.core.display.Math object>"
      ]
     },
     "metadata": {},
     "output_type": "display_data"
    },
    {
     "data": {
      "text/latex": [
       "$\\displaystyle A_{131}=0.192207 x_{1}^{3}-2.787462 x_{1}^{2}+12.507855 x_{1}-14.764856$"
      ],
      "text/plain": [
       "<IPython.core.display.Math object>"
      ]
     },
     "metadata": {},
     "output_type": "display_data"
    },
    {
     "data": {
      "text/latex": [
       "$\\displaystyle A_{132}=-0.350563 x_{1}^{3}+5.222348 x_{1}^{2}-23.974852 x_{1}+29.007851$"
      ],
      "text/plain": [
       "<IPython.core.display.Math object>"
      ]
     },
     "metadata": {},
     "output_type": "display_data"
    },
    {
     "data": {
      "text/latex": [
       "$\\displaystyle A_{133}=0.237096 x_{1}^{3}-3.535062 x_{1}^{2}+16.368376 x_{1}-20.539908$"
      ],
      "text/plain": [
       "<IPython.core.display.Math object>"
      ]
     },
     "metadata": {},
     "output_type": "display_data"
    },
    {
     "data": {
      "text/latex": [
       "$\\displaystyle A_{134}=-0.067119 x_{1}^{3}+0.966362 x_{1}^{2}-4.407535 x_{1}+5.894703$"
      ],
      "text/plain": [
       "<IPython.core.display.Math object>"
      ]
     },
     "metadata": {},
     "output_type": "display_data"
    },
    {
     "data": {
      "text/latex": [
       "$\\displaystyle $"
      ],
      "text/plain": [
       "<IPython.core.display.Math object>"
      ]
     },
     "metadata": {},
     "output_type": "display_data"
    },
    {
     "data": {
      "text/latex": [
       "$\\displaystyle $"
      ],
      "text/plain": [
       "<IPython.core.display.Math object>"
      ]
     },
     "metadata": {},
     "output_type": "display_data"
    },
    {
     "data": {
      "text/latex": [
       "$\\displaystyle B_{E}^{\\prime}=\\frac{4}{3 \\pi} \\rho L_{P P} d^{2} r_{\\max }^{2} phi_{a} \\omega{1-f_{1} \\frac{R}{d}1-\\frac{O G}{d}-f_{1} \\frac{R}{d} +f_{2}H_{0}-f_{1} \\frac{R}{d}^{2}} C_{P 0}$"
      ],
      "text/plain": [
       "<IPython.core.display.Math object>"
      ]
     },
     "metadata": {},
     "output_type": "display_data"
    },
    {
     "data": {
      "text/latex": [
       "$\\displaystyle $"
      ],
      "text/plain": [
       "<IPython.core.display.Math object>"
      ]
     },
     "metadata": {},
     "output_type": "display_data"
    },
    {
     "data": {
      "text/latex": [
       "$\\displaystyle $"
      ],
      "text/plain": [
       "<IPython.core.display.Math object>"
      ]
     },
     "metadata": {},
     "output_type": "display_data"
    },
    {
     "data": {
      "text/latex": [
       "$\\displaystyle f_{1}=\\frac{1}{2}[1+\\tanh{20(\\sigma-0.7)}] $"
      ],
      "text/plain": [
       "<IPython.core.display.Math object>"
      ]
     },
     "metadata": {},
     "output_type": "display_data"
    },
    {
     "data": {
      "text/latex": [
       "$\\displaystyle  f_{2}=\\frac{1}{2}(1-\\cos \\pi \\sigma)-1.51-e^{-5(1-\\sigma)} \\sin ^{2} \\pi \\sigma $"
      ],
      "text/plain": [
       "<IPython.core.display.Math object>"
      ]
     },
     "metadata": {},
     "output_type": "display_data"
    },
    {
     "data": {
      "text/latex": [
       "$\\displaystyle  C_{P 0}=\\frac{1}{2}0.87 e^{-\\gamma}-4 e^{-0.1877}+3 $"
      ],
      "text/plain": [
       "<IPython.core.display.Math object>"
      ]
     },
     "metadata": {},
     "output_type": "display_data"
    },
    {
     "data": {
      "text/latex": [
       "$\\displaystyle  H_{0}=\\frac{B}{2 d} $"
      ],
      "text/plain": [
       "<IPython.core.display.Math object>"
      ]
     },
     "metadata": {},
     "output_type": "display_data"
    },
    {
     "data": {
      "text/latex": [
       "$\\displaystyle  \\sigma=\\frac{S}{B d}$"
      ],
      "text/plain": [
       "<IPython.core.display.Math object>"
      ]
     },
     "metadata": {},
     "output_type": "display_data"
    },
    {
     "data": {
      "text/latex": [
       "$\\displaystyle $"
      ],
      "text/plain": [
       "<IPython.core.display.Math object>"
      ]
     },
     "metadata": {},
     "output_type": "display_data"
    },
    {
     "data": {
      "text/latex": [
       "$\\displaystyle x_{1}=B / d$"
      ],
      "text/plain": [
       "<IPython.core.display.Math object>"
      ]
     },
     "metadata": {},
     "output_type": "display_data"
    },
    {
     "data": {
      "text/latex": [
       "$\\displaystyle x_{2}=C_{b}$"
      ],
      "text/plain": [
       "<IPython.core.display.Math object>"
      ]
     },
     "metadata": {},
     "output_type": "display_data"
    },
    {
     "data": {
      "text/latex": [
       "$\\displaystyle x_{3}=C_{m}$"
      ],
      "text/plain": [
       "<IPython.core.display.Math object>"
      ]
     },
     "metadata": {},
     "output_type": "display_data"
    },
    {
     "data": {
      "text/latex": [
       "$\\displaystyle x_{4}=O G / d$"
      ],
      "text/plain": [
       "<IPython.core.display.Math object>"
      ]
     },
     "metadata": {},
     "output_type": "display_data"
    },
    {
     "data": {
      "text/latex": [
       "$\\displaystyle $"
      ],
      "text/plain": [
       "<IPython.core.display.Math object>"
      ]
     },
     "metadata": {},
     "output_type": "display_data"
    },
    {
     "data": {
      "text/latex": [
       "$\\displaystyle B_n_{E}=\\frac{4 B_n phi_{a}}{3 \\pi x_{2} \\cdot x_{1}^{3}} C_{R}$"
      ],
      "text/plain": [
       "<IPython.core.display.Math object>"
      ]
     },
     "metadata": {},
     "output_type": "display_data"
    },
    {
     "data": {
      "text/latex": [
       "$\\displaystyle $"
      ],
      "text/plain": [
       "<IPython.core.display.Math object>"
      ]
     },
     "metadata": {},
     "output_type": "display_data"
    },
    {
     "data": {
      "text/latex": [
       "$\\displaystyle C_{R}=A_{E} \\cdot \\exp B_{E 1}+B_{E 2} \\cdot x_{3}^{B_{E 3}}$"
      ],
      "text/plain": [
       "<IPython.core.display.Math object>"
      ]
     },
     "metadata": {},
     "output_type": "display_data"
    },
    {
     "data": {
      "text/latex": [
       "$\\displaystyle A_{E}=-0.0182 x_{2}+0.0155 \\cdotx_{1}-1.8^{3}-79.414 x_{2}^{4}\\quad+215.695 x_{2}^{3}-215.883 x_{2}^{2}+93.894 x_{2}-14.848$"
      ],
      "text/plain": [
       "<IPython.core.display.Math object>"
      ]
     },
     "metadata": {},
     "output_type": "display_data"
    },
    {
     "data": {
      "text/latex": [
       "$\\displaystyle $"
      ],
      "text/plain": [
       "<IPython.core.display.Math object>"
      ]
     },
     "metadata": {},
     "output_type": "display_data"
    },
    {
     "data": {
      "text/latex": [
       "$\\displaystyle B_{E 1}=-0.2 x_{1}+1.6 \\cdot3.98 x_{2}-5.1525 \\cdot x_{4} {0.9717 x_{2}^{2}-1.55 x_{2}+0.723 \\cdot x_{4}+0.04567 x_{2}+0.9408}$"
      ],
      "text/plain": [
       "<IPython.core.display.Math object>"
      ]
     },
     "metadata": {},
     "output_type": "display_data"
    },
    {
     "data": {
      "text/latex": [
       "$\\displaystyle B_{E 2}=0.25 x_{4}+0.95 \\cdot x_{4} -219.2 x_{2}^{3}+443.7 x_{2}^{2}-283.3 x_{2}+59.6$"
      ],
      "text/plain": [
       "<IPython.core.display.Math object>"
      ]
     },
     "metadata": {},
     "output_type": "display_data"
    },
    {
     "data": {
      "text/latex": [
       "$\\displaystyle B_{E 3}=46.5-15 x_{1} \\cdot x_{2}+11.2 x_{1}-28.6$"
      ],
      "text/plain": [
       "<IPython.core.display.Math object>"
      ]
     },
     "metadata": {},
     "output_type": "display_data"
    },
    {
     "data": {
      "text/latex": [
       "$\\displaystyle $"
      ],
      "text/plain": [
       "<IPython.core.display.Math object>"
      ]
     },
     "metadata": {},
     "output_type": "display_data"
    },
    {
     "data": {
      "text/latex": [
       "$\\displaystyle {l}B_{N}=\\frac{8}{3 \\pi} \\rho r^{3} l_{B K} b_{B K} phi_{a} \\omega f^{2}22.5 \\frac{b_{B K}}{r \\pi f phi_{a}}+2.4$"
      ],
      "text/plain": [
       "<IPython.core.display.Math object>"
      ]
     },
     "metadata": {},
     "output_type": "display_data"
    },
    {
     "data": {
      "text/latex": [
       "$\\displaystyle f=1+0.3 \\exp{-160(1-\\sigma)}$"
      ],
      "text/plain": [
       "<IPython.core.display.Math object>"
      ]
     },
     "metadata": {},
     "output_type": "display_data"
    },
    {
     "data": {
      "text/latex": [
       "$\\displaystyle $"
      ],
      "text/plain": [
       "<IPython.core.display.Math object>"
      ]
     },
     "metadata": {},
     "output_type": "display_data"
    },
    {
     "data": {
      "text/latex": [
       "$\\displaystyle B_{s}=\\frac{4}{3 \\pi} \\rho r^{2} d^{2} \\omega phi_{a} f^{2} I$"
      ],
      "text/plain": [
       "<IPython.core.display.Math object>"
      ]
     },
     "metadata": {},
     "output_type": "display_data"
    },
    {
     "data": {
      "text/latex": [
       "$\\displaystyle I=\\frac{1}{d^{2}} \\int C_{P 1} l_{B K} d s$"
      ],
      "text/plain": [
       "<IPython.core.display.Math object>"
      ]
     },
     "metadata": {},
     "output_type": "display_data"
    },
    {
     "data": {
      "text/latex": [
       "$\\displaystyle $"
      ],
      "text/plain": [
       "<IPython.core.display.Math object>"
      ]
     },
     "metadata": {},
     "output_type": "display_data"
    },
    {
     "data": {
      "text/latex": [
       "$\\displaystyle $"
      ],
      "text/plain": [
       "<IPython.core.display.Math object>"
      ]
     },
     "metadata": {},
     "output_type": "display_data"
    },
    {
     "data": {
      "text/latex": [
       "$\\displaystyle C_{P1face} =1.2$"
      ],
      "text/plain": [
       "<IPython.core.display.Math object>"
      ]
     },
     "metadata": {},
     "output_type": "display_data"
    },
    {
     "data": {
      "text/latex": [
       "$\\displaystyle C_{P1back} =-\\frac{22.5 b_{B K}}{\\pi r f phi_{a}}-1.2$"
      ],
      "text/plain": [
       "<IPython.core.display.Math object>"
      ]
     },
     "metadata": {},
     "output_type": "display_data"
    },
    {
     "data": {
      "text/latex": [
       "$\\displaystyle $"
      ],
      "text/plain": [
       "<IPython.core.display.Math object>"
      ]
     },
     "metadata": {},
     "output_type": "display_data"
    },
    {
     "data": {
      "text/latex": [
       "$\\displaystyle x_{1}=B / d$"
      ],
      "text/plain": [
       "<IPython.core.display.Math object>"
      ]
     },
     "metadata": {},
     "output_type": "display_data"
    },
    {
     "data": {
      "text/latex": [
       "$\\displaystyle x_{2}=C_{b}$"
      ],
      "text/plain": [
       "<IPython.core.display.Math object>"
      ]
     },
     "metadata": {},
     "output_type": "display_data"
    },
    {
     "data": {
      "text/latex": [
       "$\\displaystyle x_{3}=C_{m}$"
      ],
      "text/plain": [
       "<IPython.core.display.Math object>"
      ]
     },
     "metadata": {},
     "output_type": "display_data"
    },
    {
     "data": {
      "text/latex": [
       "$\\displaystyle x_{4}=O G / d$"
      ],
      "text/plain": [
       "<IPython.core.display.Math object>"
      ]
     },
     "metadata": {},
     "output_type": "display_data"
    },
    {
     "data": {
      "text/latex": [
       "$\\displaystyle x_{5}=\\omega_n$"
      ],
      "text/plain": [
       "<IPython.core.display.Math object>"
      ]
     },
     "metadata": {},
     "output_type": "display_data"
    },
    {
     "data": {
      "text/latex": [
       "$\\displaystyle x_{6}=phi_{a}(\\mathrm{deg})$"
      ],
      "text/plain": [
       "<IPython.core.display.Math object>"
      ]
     },
     "metadata": {},
     "output_type": "display_data"
    },
    {
     "data": {
      "text/latex": [
       "$\\displaystyle x_{7}=b_{B K} / B$"
      ],
      "text/plain": [
       "<IPython.core.display.Math object>"
      ]
     },
     "metadata": {},
     "output_type": "display_data"
    },
    {
     "data": {
      "text/latex": [
       "$\\displaystyle x_{8}=l_{B K} / L_{P P}$"
      ],
      "text/plain": [
       "<IPython.core.display.Math object>"
      ]
     },
     "metadata": {},
     "output_type": "display_data"
    },
    {
     "data": {
      "text/latex": [
       "$\\displaystyle $"
      ],
      "text/plain": [
       "<IPython.core.display.Math object>"
      ]
     },
     "metadata": {},
     "output_type": "display_data"
    },
    {
     "data": {
      "text/latex": [
       "$\\displaystyle B_n_{B K}=A_{B K} \\cdot \\exp B_{B K 1}+B_{B K 2} \\cdot x_{3}^{B_{B K 3}} \\cdot x_{5}$"
      ],
      "text/plain": [
       "<IPython.core.display.Math object>"
      ]
     },
     "metadata": {},
     "output_type": "display_data"
    },
    {
     "data": {
      "text/latex": [
       "$\\displaystyle A_{B K}=f_{1} \\cdot f_{2} \\cdot f_{3}$"
      ],
      "text/plain": [
       "<IPython.core.display.Math object>"
      ]
     },
     "metadata": {},
     "output_type": "display_data"
    },
    {
     "data": {
      "text/latex": [
       "$\\displaystyle $"
      ],
      "text/plain": [
       "<IPython.core.display.Math object>"
      ]
     },
     "metadata": {},
     "output_type": "display_data"
    },
    {
     "data": {
      "text/latex": [
       "$\\displaystyle f_{1}=-0.3651 x_{2}+0.3907 \\cdotx_{1}-2.83^{2}-2.21 x_{2}+2.632$"
      ],
      "text/plain": [
       "<IPython.core.display.Math object>"
      ]
     },
     "metadata": {},
     "output_type": "display_data"
    },
    {
     "data": {
      "text/latex": [
       "$\\displaystyle f_{2}=0.00255 x_{6}^{2}+0.122 x_{6}+0.4794$"
      ],
      "text/plain": [
       "<IPython.core.display.Math object>"
      ]
     },
     "metadata": {},
     "output_type": "display_data"
    },
    {
     "data": {
      "text/latex": [
       "$\\displaystyle f_{3}=-0.8913 x_{7}^{2}-0.0733 x_{7} \\cdot x_{8}^{2}\\quad+5.2857 x_{7}^{2}-0.01185 x_{7}+0.00189 \\cdot x_{8}$"
      ],
      "text/plain": [
       "<IPython.core.display.Math object>"
      ]
     },
     "metadata": {},
     "output_type": "display_data"
    },
    {
     "data": {
      "text/latex": [
       "$\\displaystyle B_{B K 1}={5 x_{7}+0.3 x_{1}-0.2 x_{8}}\\quad+0.00125 x_{6}^{2}-0.0425 x_{6}-1.86} \\cdot x_{4}$"
      ],
      "text/plain": [
       "<IPython.core.display.Math object>"
      ]
     },
     "metadata": {},
     "output_type": "display_data"
    },
    {
     "data": {
      "text/latex": [
       "$\\displaystyle B_{B K 2}=-15 x_{7}+1.2 x_{2}-0.1 x_{1}\\quad-0.0657 x_{4}^{2}+0.0586 x_{4}+1.6164$"
      ],
      "text/plain": [
       "<IPython.core.display.Math object>"
      ]
     },
     "metadata": {},
     "output_type": "display_data"
    },
    {
     "data": {
      "text/latex": [
       "$\\displaystyle B_{B K 3}=2.5 x_{4}+15.75$"
      ],
      "text/plain": [
       "<IPython.core.display.Math object>"
      ]
     },
     "metadata": {},
     "output_type": "display_data"
    },
    {
     "data": {
      "text/latex": [
       "$\\displaystyle $"
      ],
      "text/plain": [
       "<IPython.core.display.Math object>"
      ]
     },
     "metadata": {},
     "output_type": "display_data"
    },
    {
     "data": {
      "text/latex": [
       "$\\displaystyle $"
      ],
      "text/plain": [
       "<IPython.core.display.Math object>"
      ]
     },
     "metadata": {},
     "output_type": "display_data"
    },
    {
     "data": {
      "text/latex": [
       "$\\displaystyle $"
      ],
      "text/plain": [
       "<IPython.core.display.Math object>"
      ]
     },
     "metadata": {},
     "output_type": "display_data"
    }
   ],
   "source": [
    "for latex_equation in latex_equations_no_hat:\n",
    "    display(Math(latex_equation))"
   ]
  },
  {
   "cell_type": "code",
   "execution_count": 10,
   "metadata": {},
   "outputs": [
    {
     "data": {
      "text/plain": [
       "'c_{f}=1.328\\\\frac{3.22 r_{f}^{2} phi_{a}^{2}}{T v}^{\\\\frac{1}{2}} '"
      ]
     },
     "execution_count": 10,
     "metadata": {},
     "output_type": "execute_result"
    }
   ],
   "source": [
    "equation = latex_equations[2]\n",
    "equation"
   ]
  },
  {
   "cell_type": "code",
   "execution_count": 11,
   "metadata": {},
   "outputs": [
    {
     "name": "stdout",
     "output_type": "stream",
     "text": [
      "ANTLR runtime and generated code versions disagree: 4.8!=4.7.1\n",
      "ANTLR runtime and generated code versions disagree: 4.8!=4.7.1\n",
      "Eq(B_{44}, B_{B*K} + B_{L} + B_{E} + B_{F} + B_{W})\n",
      "ANTLR runtime and generated code versions disagree: 4.8!=4.7.1\n",
      "ANTLR runtime and generated code versions disagree: 4.8!=4.7.1\n",
      "Eq(B_{F}, (4/((3*pi)))*(rho*(s_{f}*(r_{f}**3*(p*(h*(i_{a}*(c_{f}*omega))))))))\n",
      "ANTLR runtime and generated code versions disagree: 4.8!=4.7.1\n",
      "ANTLR runtime and generated code versions disagree: 4.8!=4.7.1\n",
      "Eq(c_{f}, 1.328*((3.22*(r_{f}**2*(p*(h*i_{a}**2))))/((T*v)))**(1/2))\n",
      "ANTLR runtime and generated code versions disagree: 4.8!=4.7.1\n",
      "ANTLR runtime and generated code versions disagree: 4.8!=4.7.1\n",
      "Eq(r_{f}, (-2*G*O + B*C_{b} + 0.145*(C_{b}*(1.7*d)) + 0.887)/pi)\n",
      "ANTLR runtime and generated code versions disagree: 4.8!=4.7.1\n",
      "ANTLR runtime and generated code versions disagree: 4.8!=4.7.1\n",
      "Eq(s_{f}, B*C_{b} + L_{P*P}*(1.75*d))\n",
      "ANTLR runtime and generated code versions disagree: 4.8!=4.7.1\n",
      "ANTLR runtime and generated code versions disagree: 4.8!=4.7.1\n",
      "Eq(x_{1}, B/d)\n",
      "ANTLR runtime and generated code versions disagree: 4.8!=4.7.1\n",
      "ANTLR runtime and generated code versions disagree: 4.8!=4.7.1\n",
      "Eq(x_{2}, C_{b})\n",
      "ANTLR runtime and generated code versions disagree: 4.8!=4.7.1\n",
      "ANTLR runtime and generated code versions disagree: 4.8!=4.7.1\n",
      "Eq(x_{3}, C_{m})\n",
      "ANTLR runtime and generated code versions disagree: 4.8!=4.7.1\n",
      "ANTLR runtime and generated code versions disagree: 4.8!=4.7.1\n",
      "Eq(x_{4}, -G*O/d + 1)\n",
      "ANTLR runtime and generated code versions disagree: 4.8!=4.7.1\n",
      "ANTLR runtime and generated code versions disagree: 4.8!=4.7.1\n",
      "Eq(x_{5}, omega_{n})\n",
      "ANTLR runtime and generated code versions disagree: 4.8!=4.7.1\n",
      "ANTLR runtime and generated code versions disagree: 4.8!=4.7.1\n",
      "Eq(B_{n_{W}}, -0.694444444444444*A_{3}**2 - A_{2}*logx_{5} + exp*(A_{1}/x_{5}))\n",
      "ANTLR runtime and generated code versions disagree: 4.8!=4.7.1\n",
      "ANTLR runtime and generated code versions disagree: 4.8!=4.7.1\n",
      "Eq(A_{1}, A_{13}*(A*A_{1}) + A_{11}*x_{4}**2 + A_{12}*x_{4})\n",
      "ANTLR runtime and generated code versions disagree: 4.8!=4.7.1\n",
      "ANTLR runtime and generated code versions disagree: 4.8!=4.7.1\n",
      "Eq(A_{2}, -10.993*x_{4} - 1.402*x_{4}**3 + 7.189*x_{4}**2 + 9.45)\n",
      "ANTLR runtime and generated code versions disagree: 4.8!=4.7.1\n",
      "ANTLR runtime and generated code versions disagree: 4.8!=4.7.1\n",
      "Eq(A_{3}, A*A_{3} + A_{37} + A_{36}*x**4 + A_{35}*x_{4}**2 + A_{34}*x_{4}**3 + A_{33}*x_{4}**4 + A_{31}*x_{4}**6 + A_{32}*x_{4}**5)\n",
      "ANTLR runtime and generated code versions disagree: 4.8!=4.7.1\n",
      "ANTLR runtime and generated code versions disagree: 4.8!=4.7.1\n",
      "Eq(x_{6}, -A*A_{32} + x_{4})\n",
      "ANTLR runtime and generated code versions disagree: 4.8!=4.7.1\n",
      "ANTLR runtime and generated code versions disagree: 4.8!=4.7.1\n",
      "Eq(A*A_{1}, -x_{4} + A*A_{12} + A*(A_{11}*x_{3}) + 1.0)\n",
      "ANTLR runtime and generated code versions disagree: 4.8!=4.7.1\n",
      "ANTLR runtime and generated code versions disagree: 4.8!=4.7.1\n",
      "Eq(A*A_{3}, 0.4518*x_{1} - 0.0495*x_{1}**2 - 7.1654*x_{6} + 44.13177*x_{6}**2 - 141.40915*quad*x_{6}**3 + 257.68705*x_{6}**4 - 274.05701*x_{6}**5 + 172.84571*x_{6}**6 - 63.70534*x_{6}**7 + 12.688*x_{6}**8 + A*A_{31} - 1.05584*x_{6}**9 - 0.61655)\n",
      "ANTLR runtime and generated code versions disagree: 4.8!=4.7.1\n",
      "ANTLR runtime and generated code versions disagree: 4.8!=4.7.1\n",
      "Eq(A*A_{31}, 11.588*(A*A_{311}) - 10.356*x_{1} - 0.3767*x_{1}**3 + 3.39*x_{1}**2)\n",
      "ANTLR runtime and generated code versions disagree: 4.8!=4.7.1\n",
      "ANTLR runtime and generated code versions disagree: 4.8!=4.7.1\n",
      "Eq(A*A_{32}, -0.0727*x_{1}**2 + 0.7*x_{1} - 1.2818)\n",
      "ANTLR runtime and generated code versions disagree: 4.8!=4.7.1\n",
      "ANTLR runtime and generated code versions disagree: 4.8!=4.7.1\n",
      "Eq(A*A_{311}, 71.8*x_{2} - 89.203*x_{2}**2 + 36.566*x_{2}**3 + 8.8007*x_{4} - 33.234*x_{2} - 17.102*x_{2}**3 + 41.495*x_{2}**2 - 18.108)\n",
      "ANTLR runtime and generated code versions disagree: 4.8!=4.7.1\n",
      "ANTLR runtime and generated code versions disagree: 4.8!=4.7.1\n",
      "Eq(A_{31}, 5355.2035*x_{2} - 20665.147*x_{2}**2 + 42480.7709*x_{2}**3 - 49048.9664*x_{2}**4 - 7686.0287*x_{2}**6 + 30131.5678*x_{2}**5 - 577.8827)\n",
      "ANTLR runtime and generated code versions disagree: 4.8!=4.7.1\n",
      "ANTLR runtime and generated code versions disagree: 4.8!=4.7.1\n",
      "Eq(A_{32}, -43358.7938*x_{2} + 166348.6917*x_{2}**2 - 340629.4699*x_{2}**3 + 392579.5937*x_{2}**4 + 61639.9103*x_{2}**6 - 241201.0598*x_{2}**5 + 4714.7918)\n",
      "ANTLR runtime and generated code versions disagree: 4.8!=4.7.1\n",
      "ANTLR runtime and generated code versions disagree: 4.8!=4.7.1\n",
      "Eq(A_{33}, 95501.4948*x_{2} - 358360.7392*x_{2}**2 + 722677.104*x_{2}**3 - 826728.7127*x_{2}**4 - 130677.4903*x_{2}**6 + 507996.2604*x_{2}**5 - 10682.8619)\n",
      "ANTLR runtime and generated code versions disagree: 4.8!=4.7.1\n",
      "ANTLR runtime and generated code versions disagree: 4.8!=4.7.1\n",
      "Eq(A_{34}, 58039.7328*x_{2} - 264294.7189*x_{2}**2 + 599411.9264*x_{2}**3 - 724186.4643*x_{2}**4 + 110034.6584*x_{2}**6 + 446051.22*x_{2}**5 - 4774.6414)\n",
      "ANTLR runtime and generated code versions disagree: 4.8!=4.7.1\n",
      "ANTLR runtime and generated code versions disagree: 4.8!=4.7.1\n",
      "Eq(A_{35}, -457313.6939*x_{2} + 1839829.259*x_{2}**2 - 3888378.9905*x_{2}**3 + 4553780.5017*x_{2}**4 + 709672.0656*x_{2}**6 - 2803850.2395*x_{2}**5 + 46600.823)\n",
      "ANTLR runtime and generated code versions disagree: 4.8!=4.7.1\n",
      "ANTLR runtime and generated code versions disagree: 4.8!=4.7.1\n",
      "Eq(A_{36}, 538548.1194*x_{2} - 2143487.3508*x_{2}**2 + 4500543.147*x_{2}**3 - 5256636.5472*x_{2}**4 - 822735.9289*x_{2}**6 + 3238899.7308*x_{2}**5 - 55751.1528)\n",
      "ANTLR runtime and generated code versions disagree: 4.8!=4.7.1\n",
      "ANTLR runtime and generated code versions disagree: 4.8!=4.7.1\n",
      "Eq(A_{37}, -196679.7143*x_{2} + 780020.9393*x_{2}**2 - 1634256.8172*x_{2}**3 + 1907356.1357*x_{2}**4 + 299122.8727*x_{2}**6 - 1175773.1606*x_{2}**5 + 20467.0904)\n",
      "ANTLR runtime and generated code versions disagree: 4.8!=4.7.1\n",
      "ANTLR runtime and generated code versions disagree: 4.8!=4.7.1\n",
      "Eq(A*A_{11}, A*A_{113} + A*(A_{111}*x_{2}**2) + A*(A_{112}*x_{2}))\n",
      "ANTLR runtime and generated code versions disagree: 4.8!=4.7.1\n",
      "ANTLR runtime and generated code versions disagree: 4.8!=4.7.1\n",
      "Eq(A*A_{12}, A*A_{123} + A*(A_{121}*x_{2}**2) + A*(A_{122}*x_{2}))\n",
      "ANTLR runtime and generated code versions disagree: 4.8!=4.7.1\n",
      "ANTLR runtime and generated code versions disagree: 4.8!=4.7.1\n",
      "Eq(A*A_{111}, 489.799*x_{1} + 17.945*x_{1}**3 - 166.294*x_{1}**2 - 493.142)\n",
      "ANTLR runtime and generated code versions disagree: 4.8!=4.7.1\n",
      "ANTLR runtime and generated code versions disagree: 4.8!=4.7.1\n",
      "Eq(A*A_{112}, -698.683*x_{1} - 25.507*x_{1}**3 + 236.275*x_{1}**2 + 701.494)\n",
      "ANTLR runtime and generated code versions disagree: 4.8!=4.7.1\n",
      "ANTLR runtime and generated code versions disagree: 4.8!=4.7.1\n",
      "Eq(A*A_{113}, 249.983*x_{1} + 9.077*x_{1}**3 - 84.332*x_{1}**2 - 250.787)\n",
      "ANTLR runtime and generated code versions disagree: 4.8!=4.7.1\n",
      "ANTLR runtime and generated code versions disagree: 4.8!=4.7.1\n",
      "Eq(A*A_{121}, -460.689*x_{1} - 16.872*x_{1}**3 + 156.399*x_{1}**2 + 463.848)\n",
      "ANTLR runtime and generated code versions disagree: 4.8!=4.7.1\n",
      "ANTLR runtime and generated code versions disagree: 4.8!=4.7.1\n",
      "Eq(A*A_{122}, 658.027*x_{1} + 24.015*x_{1}**3 - 222.507*x_{1}**2 - 660.665)\n",
      "ANTLR runtime and generated code versions disagree: 4.8!=4.7.1\n",
      "ANTLR runtime and generated code versions disagree: 4.8!=4.7.1\n",
      "Eq(A*A_{123}, -235.827*x_{1} - 8.56*x_{1}**3 + 79.549*x_{1}**2 + 236.579)\n",
      "ANTLR runtime and generated code versions disagree: 4.8!=4.7.1\n",
      "ANTLR runtime and generated code versions disagree: 4.8!=4.7.1\n",
      "Eq(A_{11}, A_{113} + A_{111}*x_{2}**2 + A_{112}*x_{2})\n",
      "ANTLR runtime and generated code versions disagree: 4.8!=4.7.1\n",
      "ANTLR runtime and generated code versions disagree: 4.8!=4.7.1\n",
      "Eq(A_{12}, A_{124} + A_{123}*x_{2} + A_{121}*x_{2}**3 + A_{122}*x_{2}**2)\n",
      "ANTLR runtime and generated code versions disagree: 4.8!=4.7.1\n",
      "ANTLR runtime and generated code versions disagree: 4.8!=4.7.1\n",
      "Eq(A_{13}, A_{134} + A_{133}*x_{2} + A_{131}*x_{2}**3 + A_{132}*x_{2}**2)\n",
      "ANTLR runtime and generated code versions disagree: 4.8!=4.7.1\n",
      "ANTLR runtime and generated code versions disagree: 4.8!=4.7.1\n",
      "Eq(A_{111}, -0.286866*x_{1} - 0.002222*x_{1}**3 + 0.040871*x_{1}**2 + 0.599424)\n",
      "ANTLR runtime and generated code versions disagree: 4.8!=4.7.1\n",
      "ANTLR runtime and generated code versions disagree: 4.8!=4.7.1\n",
      "Eq(A_{112}, 0.904989*x_{1} + 0.010185*x_{1}**3 - 0.161176*x_{1}**2 - 1.641389)\n",
      "ANTLR runtime and generated code versions disagree: 4.8!=4.7.1\n",
      "ANTLR runtime and generated code versions disagree: 4.8!=4.7.1\n",
      "Eq(A_{113}, -1.084987*x_{1} - 0.015422*x_{1}**3 + 0.220371*x_{1}**2 + 1.834167)\n",
      "ANTLR runtime and generated code versions disagree: 4.8!=4.7.1\n",
      "ANTLR runtime and generated code versions disagree: 4.8!=4.7.1\n"
     ]
    },
    {
     "name": "stdout",
     "output_type": "stream",
     "text": [
      "Eq(A_{121}, -10.7918672*x_{1} + 0.52735*x_{1}**2 - 0.0628667*x_{1}**4 + 0.4989259*x_{1}**3 + 16.616327)\n",
      "ANTLR runtime and generated code versions disagree: 4.8!=4.7.1\n",
      "ANTLR runtime and generated code versions disagree: 4.8!=4.7.1\n",
      "Eq(A_{122}, 25.1269741*x_{1} - 2.2186833*quad*x_{1}**2 + 0.1140667*x_{1}**4 - 0.8108963*x_{1}**3 - 37.7729778)\n",
      "ANTLR runtime and generated code versions disagree: 4.8!=4.7.1\n",
      "ANTLR runtime and generated code versions disagree: 4.8!=4.7.1\n",
      "Eq(A_{123}, -21.8126569*x_{1} + 3.1949667*(quad*x_{1}**2) - 0.0589333*x_{1}**4 + 0.2639704*x_{1}**3 + 31.4113508)\n",
      "ANTLR runtime and generated code versions disagree: 4.8!=4.7.1\n",
      "ANTLR runtime and generated code versions disagree: 4.8!=4.7.1\n",
      "Eq(A_{124}, 6.9427931*x_{1} - 1.2494083*quad*x_{1}**2 + 0.0107667*x_{1}**4 + 0.0018704*x_{1}**3 - 10.2018992)\n",
      "ANTLR runtime and generated code versions disagree: 4.8!=4.7.1\n",
      "ANTLR runtime and generated code versions disagree: 4.8!=4.7.1\n",
      "Eq(A_{131}, 12.507855*x_{1} + 0.192207*x_{1}**3 - 2.787462*x_{1}**2 - 14.764856)\n",
      "ANTLR runtime and generated code versions disagree: 4.8!=4.7.1\n",
      "ANTLR runtime and generated code versions disagree: 4.8!=4.7.1\n",
      "Eq(A_{132}, -23.974852*x_{1} - 0.350563*x_{1}**3 + 5.222348*x_{1}**2 + 29.007851)\n",
      "ANTLR runtime and generated code versions disagree: 4.8!=4.7.1\n",
      "ANTLR runtime and generated code versions disagree: 4.8!=4.7.1\n",
      "Eq(A_{133}, 16.368376*x_{1} + 0.237096*x_{1}**3 - 3.535062*x_{1}**2 - 20.539908)\n",
      "ANTLR runtime and generated code versions disagree: 4.8!=4.7.1\n",
      "ANTLR runtime and generated code versions disagree: 4.8!=4.7.1\n",
      "Eq(A_{134}, -4.407535*x_{1} - 0.067119*x_{1}**3 + 0.966362*x_{1}**2 + 5.894703)\n",
      "ANTLR runtime and generated code versions disagree: 4.8!=4.7.1\n",
      "ANTLR runtime and generated code versions disagree: 4.8!=4.7.1\n",
      "Eq(B_{E}**prime, (4/((3*pi)))*(rho*(L_{P*P}*(d**2*(r_{max}**2*(p*(h*(i_{a}*(omega*(C_{0*P}*(-f_{1}*R**2/d**2 + H_{0}*f_{2} - R*f_{1}/d - G*O/d - R*f_{1}/d + 1)))))))))))\n",
      "ANTLR runtime and generated code versions disagree: 4.8!=4.7.1\n",
      "ANTLR runtime and generated code versions disagree: 4.8!=4.7.1\n",
      "Eq(f_{1}, (tanh(20*(sigma - 0.7)) + 1)/2)\n",
      "ANTLR runtime and generated code versions disagree: 4.8!=4.7.1\n",
      "ANTLR runtime and generated code versions disagree: 4.8!=4.7.1\n",
      "Eq(f_{2}, (1 - cos(pi*sigma))/2 - 1.51 - e**(-5*(1 - sigma))*sin(pi*sigma)**2)\n",
      "ANTLR runtime and generated code versions disagree: 4.8!=4.7.1\n",
      "ANTLR runtime and generated code versions disagree: 4.8!=4.7.1\n",
      "Eq(C_{0*P}, -4*e**(-0.1877) + (0.87*e**(-gamma))/2 + 3)\n",
      "ANTLR runtime and generated code versions disagree: 4.8!=4.7.1\n",
      "ANTLR runtime and generated code versions disagree: 4.8!=4.7.1\n",
      "Eq(H_{0}, B/((2*d)))\n",
      "ANTLR runtime and generated code versions disagree: 4.8!=4.7.1\n",
      "ANTLR runtime and generated code versions disagree: 4.8!=4.7.1\n",
      "Eq(sigma, S/((B*d)))\n",
      "ANTLR runtime and generated code versions disagree: 4.8!=4.7.1\n",
      "ANTLR runtime and generated code versions disagree: 4.8!=4.7.1\n",
      "Eq(x_{1}, B/d)\n",
      "ANTLR runtime and generated code versions disagree: 4.8!=4.7.1\n",
      "ANTLR runtime and generated code versions disagree: 4.8!=4.7.1\n",
      "Eq(x_{2}, C_{b})\n",
      "ANTLR runtime and generated code versions disagree: 4.8!=4.7.1\n",
      "ANTLR runtime and generated code versions disagree: 4.8!=4.7.1\n",
      "Eq(x_{3}, C_{m})\n",
      "ANTLR runtime and generated code versions disagree: 4.8!=4.7.1\n",
      "ANTLR runtime and generated code versions disagree: 4.8!=4.7.1\n",
      "Eq(x_{4}, (G*O)/d)\n",
      "ANTLR runtime and generated code versions disagree: 4.8!=4.7.1\n",
      "ANTLR runtime and generated code versions disagree: 4.8!=4.7.1\n",
      "Eq(B_{n_{E}}, C_{R}*((4*(B_{n}*(p*(h*i_{a}))))/((x_{1}**3*(3*(pi*x_{2}))))))\n",
      "ANTLR runtime and generated code versions disagree: 4.8!=4.7.1\n",
      "ANTLR runtime and generated code versions disagree: 4.8!=4.7.1\n",
      "Eq(C_{R}, A_{E}*(B_{E}*exp) + B_{2*E}*x_{3}**B_{3*E})\n",
      "ANTLR runtime and generated code versions disagree: 4.8!=4.7.1\n",
      "ANTLR runtime and generated code versions disagree: 4.8!=4.7.1\n",
      "Eq(A_{E}, 93.894*x_{2} - 215.883*x_{2}**2 + 215.695*x_{2}**3 - 79.414*quad*x_{2}**4 + 0.0155*cdotx_{1} - 0.0182*x_{2} - 5.832 - 14.848)\n",
      "ANTLR runtime and generated code versions disagree: 4.8!=4.7.1\n",
      "ANTLR runtime and generated code versions disagree: 4.8!=4.7.1\n",
      "Eq(B_{E}, -5.1525*x_{4}*(0.04567*x_{2} + 0.723*x_{4} + 0.9717*x_{2}**2 - 1.55*x_{2} + 0.9408) - 0.2*x_{1} + 1.6*(3.98*x_{2}))\n",
      "ANTLR runtime and generated code versions disagree: 4.8!=4.7.1\n",
      "ANTLR runtime and generated code versions disagree: 4.8!=4.7.1\n",
      "Eq(B_{2*E}, -283.3*x_{2} + 443.7*x_{2}**2 - 219.2*x_{2}**3 + 0.25*x_{4} + 0.95*x_{4} + 59.6)\n",
      "ANTLR runtime and generated code versions disagree: 4.8!=4.7.1\n",
      "ANTLR runtime and generated code versions disagree: 4.8!=4.7.1\n",
      "Eq(B_{3*E}, 11.2*x_{1} - 15*x_{1}*x_{2} + 46.5 - 28.6)\n",
      "ANTLR runtime and generated code versions disagree: 4.8!=4.7.1\n",
      "ANTLR runtime and generated code versions disagree: 4.8!=4.7.1\n",
      "Eq(B_{N}*l, (8/((3*pi)))*(rho*(r**3*(l_{B*K}*(b_{B*K}*(p*(h*(i_{a}*(omega*(f**2*(22.5*(b_{B*K}/((r*(pi*(f*(p*(h*i_{a}))))))))))))))))) + 2.4)\n",
      "ANTLR runtime and generated code versions disagree: 4.8!=4.7.1\n",
      "ANTLR runtime and generated code versions disagree: 4.8!=4.7.1\n",
      "Eq(f, 0.3*(exp*(-160*(1 - sigma))) + 1)\n",
      "ANTLR runtime and generated code versions disagree: 4.8!=4.7.1\n",
      "ANTLR runtime and generated code versions disagree: 4.8!=4.7.1\n",
      "Eq(B_{s}, (4/((3*pi)))*(rho*(r**2*(d**2*(omega*(p*(h*(i_{a}*(I*f**2)))))))))\n",
      "ANTLR runtime and generated code versions disagree: 4.8!=4.7.1\n",
      "ANTLR runtime and generated code versions disagree: 4.8!=4.7.1\n",
      "Eq(I, Integral(C_{P}*l_{B*K}, s)/d**2)\n",
      "ANTLR runtime and generated code versions disagree: 4.8!=4.7.1\n",
      "ANTLR runtime and generated code versions disagree: 4.8!=4.7.1\n",
      "Eq(C_{P*(f*(a*(c*e)))}, 1.2)\n",
      "ANTLR runtime and generated code versions disagree: 4.8!=4.7.1\n",
      "ANTLR runtime and generated code versions disagree: 4.8!=4.7.1\n",
      "Eq(C_{P*(b*(a*(c*k)))}, -22.5*b_{B*K}/(pi*(r*(f*(p*(h*i_{a}))))) - 1.2)\n",
      "ANTLR runtime and generated code versions disagree: 4.8!=4.7.1\n",
      "ANTLR runtime and generated code versions disagree: 4.8!=4.7.1\n",
      "Eq(x_{1}, B/d)\n",
      "ANTLR runtime and generated code versions disagree: 4.8!=4.7.1\n",
      "ANTLR runtime and generated code versions disagree: 4.8!=4.7.1\n",
      "Eq(x_{2}, C_{b})\n",
      "ANTLR runtime and generated code versions disagree: 4.8!=4.7.1\n",
      "ANTLR runtime and generated code versions disagree: 4.8!=4.7.1\n",
      "Eq(x_{3}, C_{m})\n",
      "ANTLR runtime and generated code versions disagree: 4.8!=4.7.1\n",
      "ANTLR runtime and generated code versions disagree: 4.8!=4.7.1\n",
      "Eq(x_{4}, (G*O)/d)\n",
      "ANTLR runtime and generated code versions disagree: 4.8!=4.7.1\n",
      "ANTLR runtime and generated code versions disagree: 4.8!=4.7.1\n",
      "Eq(x_{5}, omega_{n})\n",
      "ANTLR runtime and generated code versions disagree: 4.8!=4.7.1\n",
      "ANTLR runtime and generated code versions disagree: 4.8!=4.7.1\n",
      "Eq(x_{6}, p*(h*i_{a}(mathrm*(de*g))))\n",
      "ANTLR runtime and generated code versions disagree: 4.8!=4.7.1\n",
      "ANTLR runtime and generated code versions disagree: 4.8!=4.7.1\n",
      "Eq(x_{7}, b_{B*K}/B)\n",
      "ANTLR runtime and generated code versions disagree: 4.8!=4.7.1\n",
      "ANTLR runtime and generated code versions disagree: 4.8!=4.7.1\n",
      "Eq(x_{8}, l_{B*K}/L_{P*P})\n",
      "ANTLR runtime and generated code versions disagree: 4.8!=4.7.1\n",
      "ANTLR runtime and generated code versions disagree: 4.8!=4.7.1\n",
      "Eq(B_{n_{B*K}}, A_{B*K}*(B_{B*K}*exp) + x_{5}*(B_{B*(2*K)}*x_{3}**B_{B*(3*K)}))\n",
      "ANTLR runtime and generated code versions disagree: 4.8!=4.7.1\n",
      "ANTLR runtime and generated code versions disagree: 4.8!=4.7.1\n",
      "Eq(A_{B*K}, f_{3}*(f_{1}*f_{2}))\n",
      "ANTLR runtime and generated code versions disagree: 4.8!=4.7.1\n",
      "ANTLR runtime and generated code versions disagree: 4.8!=4.7.1\n",
      "Eq(f_{1}, -2.21*x_{2} + 0.3907*cdotx_{1} - 0.3651*x_{2} - 8.0089 + 2.632)\n",
      "ANTLR runtime and generated code versions disagree: 4.8!=4.7.1\n",
      "ANTLR runtime and generated code versions disagree: 4.8!=4.7.1\n",
      "Eq(f_{2}, 0.00255*x_{6}**2 + 0.122*x_{6} + 0.4794)\n",
      "ANTLR runtime and generated code versions disagree: 4.8!=4.7.1\n",
      "ANTLR runtime and generated code versions disagree: 4.8!=4.7.1\n",
      "Eq(f_{3}, 0.00189*x_{8} - 0.01185*x_{7} + 5.2857*x_{7}**2 - 0.0733*quad*x_{7}*x_{8}**2 - 0.8913*x_{7}**2)\n",
      "ANTLR runtime and generated code versions disagree: 4.8!=4.7.1\n",
      "ANTLR runtime and generated code versions disagree: 4.8!=4.7.1\n",
      "Eq(B_{B*K}, -0.0425*x_{6} + quad*(-0.2*x_{8} + 0.3*x_{1} + 5*x_{7}) + 0.00125*x_{6}**2 - 1.86)\n",
      "ANTLR runtime and generated code versions disagree: 4.8!=4.7.1\n",
      "ANTLR runtime and generated code versions disagree: 4.8!=4.7.1\n"
     ]
    },
    {
     "name": "stdout",
     "output_type": "stream",
     "text": [
      "Eq(B_{B*(2*K)}, 0.0586*x_{4} - 0.0657*x_{4}**2 - 0.1*quad*x_{1} + 1.2*x_{2} - 15*x_{7} + 1.6164)\n",
      "ANTLR runtime and generated code versions disagree: 4.8!=4.7.1\n",
      "ANTLR runtime and generated code versions disagree: 4.8!=4.7.1\n",
      "Eq(B_{B*(3*K)}, 2.5*x_{4} + 15.75)\n"
     ]
    }
   ],
   "source": [
    "from collections import OrderedDict\n",
    "equations = OrderedDict()\n",
    "for latex_equation in latex_equations_no_hat:\n",
    "    if len(latex_equation)==0:\n",
    "        continue\n",
    "    #display(Math(latex_equation))\n",
    "    #print(latex_equation)\n",
    "    equation = parse_latex(latex_equation)\n",
    "    #display(Math(vlatex(equation)))\n",
    "    print(str(equation))\n",
    "    \n",
    "    equation_name = str(equation.lhs)\n",
    "    equations[equation_name] = equation\n",
    "    \n",
    "    "
   ]
  },
  {
   "cell_type": "code",
   "execution_count": 23,
   "metadata": {},
   "outputs": [
    {
     "data": {
      "text/latex": [
       "$\\displaystyle B_{44} = B_{B*K} + \\left(B_{L} + \\left(B_{E} + \\left(B_{F} + B_{W}\\right)\\right)\\right)$"
      ],
      "text/plain": [
       "Eq(B_{44}, B_{B*K} + B_{L} + B_{E} + B_{F} + B_{W})"
      ]
     },
     "metadata": {},
     "output_type": "display_data"
    },
    {
     "data": {
      "text/latex": [
       "$\\displaystyle B_{F} = \\frac{4}{3 \\pi} \\rho s_{f} r_{f}^{3} p h i_{a} c_{f} \\omega$"
      ],
      "text/plain": [
       "Eq(B_{F}, (4/((3*pi)))*(rho*(s_{f}*(r_{f}**3*(p*(h*(i_{a}*(c_{f}*omega))))))))"
      ]
     },
     "metadata": {},
     "output_type": "display_data"
    },
    {
     "data": {
      "text/latex": [
       "$\\displaystyle c_{f} = 1.328 \\left(\\frac{3.22 r_{f}^{2} p h i_{a}^{2}}{T v}\\right)^{\\frac{1}{2}}$"
      ],
      "text/plain": [
       "Eq(c_{f}, 1.328*((3.22*(r_{f}**2*(p*(h*i_{a}**2))))/((T*v)))**(1/2))"
      ]
     },
     "metadata": {},
     "output_type": "display_data"
    },
    {
     "data": {
      "text/latex": [
       "$\\displaystyle r_{f} = \\frac{- 2 G O + \\left(B C_{b} + \\left(0.145 C_{b} 1.7 d + 0.887\\right)\\right)}{\\pi}$"
      ],
      "text/plain": [
       "Eq(r_{f}, (-2*G*O + B*C_{b} + 0.145*(C_{b}*(1.7*d)) + 0.887)/pi)"
      ]
     },
     "metadata": {},
     "output_type": "display_data"
    },
    {
     "data": {
      "text/latex": [
       "$\\displaystyle s_{f} = B C_{b} + L_{P*P} 1.75 d$"
      ],
      "text/plain": [
       "Eq(s_{f}, B*C_{b} + L_{P*P}*(1.75*d))"
      ]
     },
     "metadata": {},
     "output_type": "display_data"
    },
    {
     "data": {
      "text/latex": [
       "$\\displaystyle x_{1} = \\frac{B}{d}$"
      ],
      "text/plain": [
       "Eq(x_{1}, B/d)"
      ]
     },
     "metadata": {},
     "output_type": "display_data"
    },
    {
     "data": {
      "text/latex": [
       "$\\displaystyle x_{2} = C_{b}$"
      ],
      "text/plain": [
       "Eq(x_{2}, C_{b})"
      ]
     },
     "metadata": {},
     "output_type": "display_data"
    },
    {
     "data": {
      "text/latex": [
       "$\\displaystyle x_{3} = C_{m}$"
      ],
      "text/plain": [
       "Eq(x_{3}, C_{m})"
      ]
     },
     "metadata": {},
     "output_type": "display_data"
    },
    {
     "data": {
      "text/latex": [
       "$\\displaystyle x_{4} = \\frac{G O}{d}$"
      ],
      "text/plain": [
       "Eq(x_{4}, (G*O)/d)"
      ]
     },
     "metadata": {},
     "output_type": "display_data"
    },
    {
     "data": {
      "text/latex": [
       "$\\displaystyle x_{5} = omega_{n}$"
      ],
      "text/plain": [
       "Eq(x_{5}, omega_{n})"
      ]
     },
     "metadata": {},
     "output_type": "display_data"
    },
    {
     "data": {
      "text/latex": [
       "$\\displaystyle B_{n_{W}} = - 0.694444444444444 A_{3}^{2} + \\left(- A_{2} logx_{5} + exp \\frac{A_{1}}{x_{5}}\\right)$"
      ],
      "text/plain": [
       "Eq(B_{n_{W}}, -0.694444444444444*A_{3}**2 - A_{2}*logx_{5} + exp*(A_{1}/x_{5}))"
      ]
     },
     "metadata": {},
     "output_type": "display_data"
    },
    {
     "data": {
      "text/latex": [
       "$\\displaystyle A_{1} = A_{13} A A_{1} + \\left(A_{11} x_{4}^{2} + A_{12} x_{4}\\right)$"
      ],
      "text/plain": [
       "Eq(A_{1}, A_{13}*(A*A_{1}) + A_{11}*x_{4}**2 + A_{12}*x_{4})"
      ]
     },
     "metadata": {},
     "output_type": "display_data"
    },
    {
     "data": {
      "text/latex": [
       "$\\displaystyle A_{2} = \\left(- 10.993 x_{4} + \\left(- 1.402 x_{4}^{3} + 7.189 x_{4}^{2}\\right)\\right) + 9.45$"
      ],
      "text/plain": [
       "Eq(A_{2}, -10.993*x_{4} - 1.402*x_{4}**3 + 7.189*x_{4}**2 + 9.45)"
      ]
     },
     "metadata": {},
     "output_type": "display_data"
    },
    {
     "data": {
      "text/latex": [
       "$\\displaystyle A_{3} = A A_{3} + \\left(A_{37} + \\left(A_{36} x^{4} + \\left(A_{35} x_{4}^{2} + \\left(A_{34} x_{4}^{3} + \\left(A_{33} x_{4}^{4} + \\left(A_{31} x_{4}^{6} + A_{32} x_{4}^{5}\\right)\\right)\\right)\\right)\\right)\\right)$"
      ],
      "text/plain": [
       "Eq(A_{3}, A*A_{3} + A_{37} + A_{36}*x**4 + A_{35}*x_{4}**2 + A_{34}*x_{4}**3 + A_{33}*x_{4}**4 + A_{31}*x_{4}**6 + A_{32}*x_{4}**5)"
      ]
     },
     "metadata": {},
     "output_type": "display_data"
    },
    {
     "data": {
      "text/latex": [
       "$\\displaystyle x_{6} = p h \\operatorname{i_{a}}{\\left(mathrm de g \\right)}$"
      ],
      "text/plain": [
       "Eq(x_{6}, p*(h*i_{a}(mathrm*(de*g))))"
      ]
     },
     "metadata": {},
     "output_type": "display_data"
    },
    {
     "data": {
      "text/latex": [
       "$\\displaystyle A A_{1} = \\left(- x_{4} + \\left(A A_{12} + A A_{11} x_{3}\\right)\\right) + 1.0$"
      ],
      "text/plain": [
       "Eq(A*A_{1}, -x_{4} + A*A_{12} + A*(A_{11}*x_{3}) + 1.0)"
      ]
     },
     "metadata": {},
     "output_type": "display_data"
    },
    {
     "data": {
      "text/latex": [
       "$\\displaystyle A A_{3} = \\left(0.4518 x_{1} + \\left(- 0.0495 x_{1}^{2} + \\left(- 7.1654 x_{6} + \\left(44.13177 x_{6}^{2} + \\left(- 141.40915 quad x_{6}^{3} + \\left(257.68705 x_{6}^{4} + \\left(- 274.05701 x_{6}^{5} + \\left(172.84571 x_{6}^{6} + \\left(- 63.70534 x_{6}^{7} + \\left(12.688 x_{6}^{8} + \\left(A A_{31} - 1.05584 x_{6}^{9}\\right)\\right)\\right)\\right)\\right)\\right)\\right)\\right)\\right)\\right)\\right) - 0.61655$"
      ],
      "text/plain": [
       "Eq(A*A_{3}, 0.4518*x_{1} - 0.0495*x_{1}**2 - 7.1654*x_{6} + 44.13177*x_{6}**2 - 141.40915*quad*x_{6}**3 + 257.68705*x_{6}**4 - 274.05701*x_{6}**5 + 172.84571*x_{6}**6 - 63.70534*x_{6}**7 + 12.688*x_{6}**8 + A*A_{31} - 1.05584*x_{6}**9 - 0.61655)"
      ]
     },
     "metadata": {},
     "output_type": "display_data"
    },
    {
     "data": {
      "text/latex": [
       "$\\displaystyle A A_{31} = 11.588 A A_{311} + \\left(- 10.356 x_{1} + \\left(- 0.3767 x_{1}^{3} + 3.39 x_{1}^{2}\\right)\\right)$"
      ],
      "text/plain": [
       "Eq(A*A_{31}, 11.588*(A*A_{311}) - 10.356*x_{1} - 0.3767*x_{1}**3 + 3.39*x_{1}**2)"
      ]
     },
     "metadata": {},
     "output_type": "display_data"
    },
    {
     "data": {
      "text/latex": [
       "$\\displaystyle A A_{32} = \\left(- 0.0727 x_{1}^{2} + 0.7 x_{1}\\right) - 1.2818$"
      ],
      "text/plain": [
       "Eq(A*A_{32}, -0.0727*x_{1}**2 + 0.7*x_{1} - 1.2818)"
      ]
     },
     "metadata": {},
     "output_type": "display_data"
    },
    {
     "data": {
      "text/latex": [
       "$\\displaystyle A A_{311} = \\left(71.8 x_{2} + \\left(- 89.203 x_{2}^{2} + \\left(36.566 x_{2}^{3} + \\left(8.8007 x_{4} + \\left(- 33.234 x_{2} + \\left(- 17.102 x_{2}^{3} + 41.495 x_{2}^{2}\\right)\\right)\\right)\\right)\\right)\\right) - 18.108$"
      ],
      "text/plain": [
       "Eq(A*A_{311}, 71.8*x_{2} - 89.203*x_{2}**2 + 36.566*x_{2}**3 + 8.8007*x_{4} - 33.234*x_{2} - 17.102*x_{2}**3 + 41.495*x_{2}**2 - 18.108)"
      ]
     },
     "metadata": {},
     "output_type": "display_data"
    },
    {
     "data": {
      "text/latex": [
       "$\\displaystyle A_{31} = \\left(5355.2035 x_{2} + \\left(- 20665.147 x_{2}^{2} + \\left(42480.7709 x_{2}^{3} + \\left(- 49048.9664 x_{2}^{4} + \\left(- 7686.0287 x_{2}^{6} + 30131.5678 x_{2}^{5}\\right)\\right)\\right)\\right)\\right) - 577.8827$"
      ],
      "text/plain": [
       "Eq(A_{31}, 5355.2035*x_{2} - 20665.147*x_{2}**2 + 42480.7709*x_{2}**3 - 49048.9664*x_{2}**4 - 7686.0287*x_{2}**6 + 30131.5678*x_{2}**5 - 577.8827)"
      ]
     },
     "metadata": {},
     "output_type": "display_data"
    },
    {
     "data": {
      "text/latex": [
       "$\\displaystyle A_{32} = \\left(- 43358.7938 x_{2} + \\left(166348.6917 x_{2}^{2} + \\left(- 340629.4699 x_{2}^{3} + \\left(392579.5937 x_{2}^{4} + \\left(61639.9103 x_{2}^{6} - 241201.0598 x_{2}^{5}\\right)\\right)\\right)\\right)\\right) + 4714.7918$"
      ],
      "text/plain": [
       "Eq(A_{32}, -43358.7938*x_{2} + 166348.6917*x_{2}**2 - 340629.4699*x_{2}**3 + 392579.5937*x_{2}**4 + 61639.9103*x_{2}**6 - 241201.0598*x_{2}**5 + 4714.7918)"
      ]
     },
     "metadata": {},
     "output_type": "display_data"
    },
    {
     "data": {
      "text/latex": [
       "$\\displaystyle A_{33} = \\left(95501.4948 x_{2} + \\left(- 358360.7392 x_{2}^{2} + \\left(722677.104 x_{2}^{3} + \\left(- 826728.7127 x_{2}^{4} + \\left(- 130677.4903 x_{2}^{6} + 507996.2604 x_{2}^{5}\\right)\\right)\\right)\\right)\\right) - 10682.8619$"
      ],
      "text/plain": [
       "Eq(A_{33}, 95501.4948*x_{2} - 358360.7392*x_{2}**2 + 722677.104*x_{2}**3 - 826728.7127*x_{2}**4 - 130677.4903*x_{2}**6 + 507996.2604*x_{2}**5 - 10682.8619)"
      ]
     },
     "metadata": {},
     "output_type": "display_data"
    },
    {
     "data": {
      "text/latex": [
       "$\\displaystyle A_{34} = \\left(58039.7328 x_{2} + \\left(- 264294.7189 x_{2}^{2} + \\left(599411.9264 x_{2}^{3} + \\left(- 724186.4643 x_{2}^{4} + \\left(110034.6584 x_{2}^{6} + 446051.22 x_{2}^{5}\\right)\\right)\\right)\\right)\\right) - 4774.6414$"
      ],
      "text/plain": [
       "Eq(A_{34}, 58039.7328*x_{2} - 264294.7189*x_{2}**2 + 599411.9264*x_{2}**3 - 724186.4643*x_{2}**4 + 110034.6584*x_{2}**6 + 446051.22*x_{2}**5 - 4774.6414)"
      ]
     },
     "metadata": {},
     "output_type": "display_data"
    },
    {
     "data": {
      "text/latex": [
       "$\\displaystyle A_{35} = \\left(- 457313.6939 x_{2} + \\left(1839829.259 x_{2}^{2} + \\left(- 3888378.9905 x_{2}^{3} + \\left(4553780.5017 x_{2}^{4} + \\left(709672.0656 x_{2}^{6} - 2803850.2395 x_{2}^{5}\\right)\\right)\\right)\\right)\\right) + 46600.823$"
      ],
      "text/plain": [
       "Eq(A_{35}, -457313.6939*x_{2} + 1839829.259*x_{2}**2 - 3888378.9905*x_{2}**3 + 4553780.5017*x_{2}**4 + 709672.0656*x_{2}**6 - 2803850.2395*x_{2}**5 + 46600.823)"
      ]
     },
     "metadata": {},
     "output_type": "display_data"
    },
    {
     "data": {
      "text/latex": [
       "$\\displaystyle A_{36} = \\left(538548.1194 x_{2} + \\left(- 2143487.3508 x_{2}^{2} + \\left(4500543.147 x_{2}^{3} + \\left(- 5256636.5472 x_{2}^{4} + \\left(- 822735.9289 x_{2}^{6} + 3238899.7308 x_{2}^{5}\\right)\\right)\\right)\\right)\\right) - 55751.1528$"
      ],
      "text/plain": [
       "Eq(A_{36}, 538548.1194*x_{2} - 2143487.3508*x_{2}**2 + 4500543.147*x_{2}**3 - 5256636.5472*x_{2}**4 - 822735.9289*x_{2}**6 + 3238899.7308*x_{2}**5 - 55751.1528)"
      ]
     },
     "metadata": {},
     "output_type": "display_data"
    },
    {
     "data": {
      "text/latex": [
       "$\\displaystyle A_{37} = \\left(- 196679.7143 x_{2} + \\left(780020.9393 x_{2}^{2} + \\left(- 1634256.8172 x_{2}^{3} + \\left(1907356.1357 x_{2}^{4} + \\left(299122.8727 x_{2}^{6} - 1175773.1606 x_{2}^{5}\\right)\\right)\\right)\\right)\\right) + 20467.0904$"
      ],
      "text/plain": [
       "Eq(A_{37}, -196679.7143*x_{2} + 780020.9393*x_{2}**2 - 1634256.8172*x_{2}**3 + 1907356.1357*x_{2}**4 + 299122.8727*x_{2}**6 - 1175773.1606*x_{2}**5 + 20467.0904)"
      ]
     },
     "metadata": {},
     "output_type": "display_data"
    },
    {
     "data": {
      "text/latex": [
       "$\\displaystyle A A_{11} = A A_{113} + \\left(A A_{111} x_{2}^{2} + A A_{112} x_{2}\\right)$"
      ],
      "text/plain": [
       "Eq(A*A_{11}, A*A_{113} + A*(A_{111}*x_{2}**2) + A*(A_{112}*x_{2}))"
      ]
     },
     "metadata": {},
     "output_type": "display_data"
    },
    {
     "data": {
      "text/latex": [
       "$\\displaystyle A A_{12} = A A_{123} + \\left(A A_{121} x_{2}^{2} + A A_{122} x_{2}\\right)$"
      ],
      "text/plain": [
       "Eq(A*A_{12}, A*A_{123} + A*(A_{121}*x_{2}**2) + A*(A_{122}*x_{2}))"
      ]
     },
     "metadata": {},
     "output_type": "display_data"
    },
    {
     "data": {
      "text/latex": [
       "$\\displaystyle A A_{111} = \\left(489.799 x_{1} + \\left(17.945 x_{1}^{3} - 166.294 x_{1}^{2}\\right)\\right) - 493.142$"
      ],
      "text/plain": [
       "Eq(A*A_{111}, 489.799*x_{1} + 17.945*x_{1}**3 - 166.294*x_{1}**2 - 493.142)"
      ]
     },
     "metadata": {},
     "output_type": "display_data"
    },
    {
     "data": {
      "text/latex": [
       "$\\displaystyle A A_{112} = \\left(- 698.683 x_{1} + \\left(- 25.507 x_{1}^{3} + 236.275 x_{1}^{2}\\right)\\right) + 701.494$"
      ],
      "text/plain": [
       "Eq(A*A_{112}, -698.683*x_{1} - 25.507*x_{1}**3 + 236.275*x_{1}**2 + 701.494)"
      ]
     },
     "metadata": {},
     "output_type": "display_data"
    },
    {
     "data": {
      "text/latex": [
       "$\\displaystyle A A_{113} = \\left(249.983 x_{1} + \\left(9.077 x_{1}^{3} - 84.332 x_{1}^{2}\\right)\\right) - 250.787$"
      ],
      "text/plain": [
       "Eq(A*A_{113}, 249.983*x_{1} + 9.077*x_{1}**3 - 84.332*x_{1}**2 - 250.787)"
      ]
     },
     "metadata": {},
     "output_type": "display_data"
    },
    {
     "data": {
      "text/latex": [
       "$\\displaystyle A A_{121} = \\left(- 460.689 x_{1} + \\left(- 16.872 x_{1}^{3} + 156.399 x_{1}^{2}\\right)\\right) + 463.848$"
      ],
      "text/plain": [
       "Eq(A*A_{121}, -460.689*x_{1} - 16.872*x_{1}**3 + 156.399*x_{1}**2 + 463.848)"
      ]
     },
     "metadata": {},
     "output_type": "display_data"
    },
    {
     "data": {
      "text/latex": [
       "$\\displaystyle A A_{122} = \\left(658.027 x_{1} + \\left(24.015 x_{1}^{3} - 222.507 x_{1}^{2}\\right)\\right) - 660.665$"
      ],
      "text/plain": [
       "Eq(A*A_{122}, 658.027*x_{1} + 24.015*x_{1}**3 - 222.507*x_{1}**2 - 660.665)"
      ]
     },
     "metadata": {},
     "output_type": "display_data"
    },
    {
     "data": {
      "text/latex": [
       "$\\displaystyle A A_{123} = \\left(- 235.827 x_{1} + \\left(- 8.56 x_{1}^{3} + 79.549 x_{1}^{2}\\right)\\right) + 236.579$"
      ],
      "text/plain": [
       "Eq(A*A_{123}, -235.827*x_{1} - 8.56*x_{1}**3 + 79.549*x_{1}**2 + 236.579)"
      ]
     },
     "metadata": {},
     "output_type": "display_data"
    },
    {
     "data": {
      "text/latex": [
       "$\\displaystyle A_{11} = A_{113} + \\left(A_{111} x_{2}^{2} + A_{112} x_{2}\\right)$"
      ],
      "text/plain": [
       "Eq(A_{11}, A_{113} + A_{111}*x_{2}**2 + A_{112}*x_{2})"
      ]
     },
     "metadata": {},
     "output_type": "display_data"
    },
    {
     "data": {
      "text/latex": [
       "$\\displaystyle A_{12} = A_{124} + \\left(A_{123} x_{2} + \\left(A_{121} x_{2}^{3} + A_{122} x_{2}^{2}\\right)\\right)$"
      ],
      "text/plain": [
       "Eq(A_{12}, A_{124} + A_{123}*x_{2} + A_{121}*x_{2}**3 + A_{122}*x_{2}**2)"
      ]
     },
     "metadata": {},
     "output_type": "display_data"
    },
    {
     "data": {
      "text/latex": [
       "$\\displaystyle A_{13} = A_{134} + \\left(A_{133} x_{2} + \\left(A_{131} x_{2}^{3} + A_{132} x_{2}^{2}\\right)\\right)$"
      ],
      "text/plain": [
       "Eq(A_{13}, A_{134} + A_{133}*x_{2} + A_{131}*x_{2}**3 + A_{132}*x_{2}**2)"
      ]
     },
     "metadata": {},
     "output_type": "display_data"
    },
    {
     "data": {
      "text/latex": [
       "$\\displaystyle A_{111} = \\left(- 0.286866 x_{1} + \\left(- 0.002222 x_{1}^{3} + 0.040871 x_{1}^{2}\\right)\\right) + 0.599424$"
      ],
      "text/plain": [
       "Eq(A_{111}, -0.286866*x_{1} - 0.002222*x_{1}**3 + 0.040871*x_{1}**2 + 0.599424)"
      ]
     },
     "metadata": {},
     "output_type": "display_data"
    },
    {
     "data": {
      "text/latex": [
       "$\\displaystyle A_{112} = \\left(0.904989 x_{1} + \\left(0.010185 x_{1}^{3} - 0.161176 x_{1}^{2}\\right)\\right) - 1.641389$"
      ],
      "text/plain": [
       "Eq(A_{112}, 0.904989*x_{1} + 0.010185*x_{1}**3 - 0.161176*x_{1}**2 - 1.641389)"
      ]
     },
     "metadata": {},
     "output_type": "display_data"
    },
    {
     "data": {
      "text/latex": [
       "$\\displaystyle A_{113} = \\left(- 1.084987 x_{1} + \\left(- 0.015422 x_{1}^{3} + 0.220371 x_{1}^{2}\\right)\\right) + 1.834167$"
      ],
      "text/plain": [
       "Eq(A_{113}, -1.084987*x_{1} - 0.015422*x_{1}**3 + 0.220371*x_{1}**2 + 1.834167)"
      ]
     },
     "metadata": {},
     "output_type": "display_data"
    },
    {
     "data": {
      "text/latex": [
       "$\\displaystyle A_{121} = \\left(- 10.7918672 x_{1} + \\left(0.52735 x_{1}^{2} + \\left(- 0.0628667 x_{1}^{4} + 0.4989259 x_{1}^{3}\\right)\\right)\\right) + 16.616327$"
      ],
      "text/plain": [
       "Eq(A_{121}, -10.7918672*x_{1} + 0.52735*x_{1}**2 - 0.0628667*x_{1}**4 + 0.4989259*x_{1}**3 + 16.616327)"
      ]
     },
     "metadata": {},
     "output_type": "display_data"
    },
    {
     "data": {
      "text/latex": [
       "$\\displaystyle A_{122} = \\left(25.1269741 x_{1} + \\left(- 2.2186833 quad x_{1}^{2} + \\left(0.1140667 x_{1}^{4} - 0.8108963 x_{1}^{3}\\right)\\right)\\right) - 37.7729778$"
      ],
      "text/plain": [
       "Eq(A_{122}, 25.1269741*x_{1} - 2.2186833*quad*x_{1}**2 + 0.1140667*x_{1}**4 - 0.8108963*x_{1}**3 - 37.7729778)"
      ]
     },
     "metadata": {},
     "output_type": "display_data"
    },
    {
     "data": {
      "text/latex": [
       "$\\displaystyle A_{123} = \\left(- 21.8126569 x_{1} + \\left(3.1949667 quad x_{1}^{2} + \\left(- 0.0589333 x_{1}^{4} + 0.2639704 x_{1}^{3}\\right)\\right)\\right) + 31.4113508$"
      ],
      "text/plain": [
       "Eq(A_{123}, -21.8126569*x_{1} + 3.1949667*(quad*x_{1}**2) - 0.0589333*x_{1}**4 + 0.2639704*x_{1}**3 + 31.4113508)"
      ]
     },
     "metadata": {},
     "output_type": "display_data"
    },
    {
     "data": {
      "text/latex": [
       "$\\displaystyle A_{124} = \\left(6.9427931 x_{1} + \\left(- 1.2494083 quad x_{1}^{2} + \\left(0.0107667 x_{1}^{4} + 0.0018704 x_{1}^{3}\\right)\\right)\\right) - 10.2018992$"
      ],
      "text/plain": [
       "Eq(A_{124}, 6.9427931*x_{1} - 1.2494083*quad*x_{1}**2 + 0.0107667*x_{1}**4 + 0.0018704*x_{1}**3 - 10.2018992)"
      ]
     },
     "metadata": {},
     "output_type": "display_data"
    },
    {
     "data": {
      "text/latex": [
       "$\\displaystyle A_{131} = \\left(12.507855 x_{1} + \\left(0.192207 x_{1}^{3} - 2.787462 x_{1}^{2}\\right)\\right) - 14.764856$"
      ],
      "text/plain": [
       "Eq(A_{131}, 12.507855*x_{1} + 0.192207*x_{1}**3 - 2.787462*x_{1}**2 - 14.764856)"
      ]
     },
     "metadata": {},
     "output_type": "display_data"
    },
    {
     "data": {
      "text/latex": [
       "$\\displaystyle A_{132} = \\left(- 23.974852 x_{1} + \\left(- 0.350563 x_{1}^{3} + 5.222348 x_{1}^{2}\\right)\\right) + 29.007851$"
      ],
      "text/plain": [
       "Eq(A_{132}, -23.974852*x_{1} - 0.350563*x_{1}**3 + 5.222348*x_{1}**2 + 29.007851)"
      ]
     },
     "metadata": {},
     "output_type": "display_data"
    },
    {
     "data": {
      "text/latex": [
       "$\\displaystyle A_{133} = \\left(16.368376 x_{1} + \\left(0.237096 x_{1}^{3} - 3.535062 x_{1}^{2}\\right)\\right) - 20.539908$"
      ],
      "text/plain": [
       "Eq(A_{133}, 16.368376*x_{1} + 0.237096*x_{1}**3 - 3.535062*x_{1}**2 - 20.539908)"
      ]
     },
     "metadata": {},
     "output_type": "display_data"
    },
    {
     "data": {
      "text/latex": [
       "$\\displaystyle A_{134} = \\left(- 4.407535 x_{1} + \\left(- 0.067119 x_{1}^{3} + 0.966362 x_{1}^{2}\\right)\\right) + 5.894703$"
      ],
      "text/plain": [
       "Eq(A_{134}, -4.407535*x_{1} - 0.067119*x_{1}**3 + 0.966362*x_{1}**2 + 5.894703)"
      ]
     },
     "metadata": {},
     "output_type": "display_data"
    },
    {
     "data": {
      "text/latex": [
       "$\\displaystyle B_{E}^{prime} = \\frac{4}{3 \\pi} \\rho L_{P*P} d^{2} r_{max}^{2} p h i_{a} \\omega C_{0*P} \\left(- f_{1} \\frac{R^{2}}{d^{2}} + \\left(H_{0} f_{2} + \\left(- \\frac{R f_{1}}{d} + \\left(- \\frac{G O}{d} + \\left(- \\frac{R f_{1}}{d} + 1\\right)\\right)\\right)\\right)\\right)$"
      ],
      "text/plain": [
       "Eq(B_{E}**prime, (4/((3*pi)))*(rho*(L_{P*P}*(d**2*(r_{max}**2*(p*(h*(i_{a}*(omega*(C_{0*P}*(-f_{1}*R**2/d**2 + H_{0}*f_{2} - R*f_{1}/d - G*O/d - R*f_{1}/d + 1)))))))))))"
      ]
     },
     "metadata": {},
     "output_type": "display_data"
    },
    {
     "data": {
      "text/latex": [
       "$\\displaystyle f_{1} = \\left(- 2.21 x_{2} + \\left(\\left(0.3907 cdotx_{1} - 0.3651 x_{2}\\right) - 8.0089\\right)\\right) + 2.632$"
      ],
      "text/plain": [
       "Eq(f_{1}, -2.21*x_{2} + 0.3907*cdotx_{1} - 0.3651*x_{2} - 8.0089 + 2.632)"
      ]
     },
     "metadata": {},
     "output_type": "display_data"
    },
    {
     "data": {
      "text/latex": [
       "$\\displaystyle f_{2} = \\left(0.00255 x_{6}^{2} + 0.122 x_{6}\\right) + 0.4794$"
      ],
      "text/plain": [
       "Eq(f_{2}, 0.00255*x_{6}**2 + 0.122*x_{6} + 0.4794)"
      ]
     },
     "metadata": {},
     "output_type": "display_data"
    },
    {
     "data": {
      "text/latex": [
       "$\\displaystyle C_{0*P} = \\left(- \\frac{4}{e^{0.1877}} + \\frac{0.87 e^{- \\gamma}}{2}\\right) + 3$"
      ],
      "text/plain": [
       "Eq(C_{0*P}, -4*e**(-0.1877) + (0.87*e**(-gamma))/2 + 3)"
      ]
     },
     "metadata": {},
     "output_type": "display_data"
    },
    {
     "data": {
      "text/latex": [
       "$\\displaystyle H_{0} = \\frac{B}{2 d}$"
      ],
      "text/plain": [
       "Eq(H_{0}, B/((2*d)))"
      ]
     },
     "metadata": {},
     "output_type": "display_data"
    },
    {
     "data": {
      "text/latex": [
       "$\\displaystyle \\sigma = \\frac{S}{B d}$"
      ],
      "text/plain": [
       "Eq(sigma, S/((B*d)))"
      ]
     },
     "metadata": {},
     "output_type": "display_data"
    },
    {
     "data": {
      "text/latex": [
       "$\\displaystyle B_{n_{E}} = C_{R} \\frac{4 B_{n} p h i_{a}}{x_{1}^{3} \\cdot 3 \\pi x_{2}}$"
      ],
      "text/plain": [
       "Eq(B_{n_{E}}, C_{R}*((4*(B_{n}*(p*(h*i_{a}))))/((x_{1}**3*(3*(pi*x_{2}))))))"
      ]
     },
     "metadata": {},
     "output_type": "display_data"
    },
    {
     "data": {
      "text/latex": [
       "$\\displaystyle C_{R} = A_{E} B_{E} exp + B_{2*E} x_{3}^{B_{3*E}}$"
      ],
      "text/plain": [
       "Eq(C_{R}, A_{E}*(B_{E}*exp) + B_{2*E}*x_{3}**B_{3*E})"
      ]
     },
     "metadata": {},
     "output_type": "display_data"
    },
    {
     "data": {
      "text/latex": [
       "$\\displaystyle A_{E} = \\left(93.894 x_{2} + \\left(- 215.883 x_{2}^{2} + \\left(215.695 x_{2}^{3} + \\left(- 79.414 quad x_{2}^{4} + \\left(\\left(0.0155 cdotx_{1} - 0.0182 x_{2}\\right) - 5.832\\right)\\right)\\right)\\right)\\right) - 14.848$"
      ],
      "text/plain": [
       "Eq(A_{E}, 93.894*x_{2} - 215.883*x_{2}**2 + 215.695*x_{2}**3 - 79.414*quad*x_{2}**4 + 0.0155*cdotx_{1} - 0.0182*x_{2} - 5.832 - 14.848)"
      ]
     },
     "metadata": {},
     "output_type": "display_data"
    },
    {
     "data": {
      "text/latex": [
       "$\\displaystyle B_{E} = - 5.1525 x_{4} \\left(\\left(0.04567 x_{2} + \\left(0.723 x_{4} + \\left(0.9717 x_{2}^{2} - 1.55 x_{2}\\right)\\right)\\right) + 0.9408\\right) + \\left(- 0.2 x_{1} + 1.6 \\cdot 3.98 x_{2}\\right)$"
      ],
      "text/plain": [
       "Eq(B_{E}, -5.1525*x_{4}*(0.04567*x_{2} + 0.723*x_{4} + 0.9717*x_{2}**2 - 1.55*x_{2} + 0.9408) - 0.2*x_{1} + 1.6*(3.98*x_{2}))"
      ]
     },
     "metadata": {},
     "output_type": "display_data"
    },
    {
     "data": {
      "text/latex": [
       "$\\displaystyle B_{2*E} = \\left(- 283.3 x_{2} + \\left(443.7 x_{2}^{2} + \\left(- 219.2 x_{2}^{3} + \\left(0.25 x_{4} + 0.95 x_{4}\\right)\\right)\\right)\\right) + 59.6$"
      ],
      "text/plain": [
       "Eq(B_{2*E}, -283.3*x_{2} + 443.7*x_{2}**2 - 219.2*x_{2}**3 + 0.25*x_{4} + 0.95*x_{4} + 59.6)"
      ]
     },
     "metadata": {},
     "output_type": "display_data"
    },
    {
     "data": {
      "text/latex": [
       "$\\displaystyle B_{3*E} = \\left(11.2 x_{1} + \\left(- 15 x_{1} x_{2} + 46.5\\right)\\right) - 28.6$"
      ],
      "text/plain": [
       "Eq(B_{3*E}, 11.2*x_{1} - 15*x_{1}*x_{2} + 46.5 - 28.6)"
      ]
     },
     "metadata": {},
     "output_type": "display_data"
    },
    {
     "data": {
      "text/latex": [
       "$\\displaystyle B_{N} l = \\frac{8}{3 \\pi} \\rho r^{3} l_{B*K} b_{B*K} p h i_{a} \\omega f^{2} \\cdot 22.5 \\frac{b_{B*K}}{r \\pi f p h i_{a}} + 2.4$"
      ],
      "text/plain": [
       "Eq(B_{N}*l, (8/((3*pi)))*(rho*(r**3*(l_{B*K}*(b_{B*K}*(p*(h*(i_{a}*(omega*(f**2*(22.5*(b_{B*K}/((r*(pi*(f*(p*(h*i_{a}))))))))))))))))) + 2.4)"
      ]
     },
     "metadata": {},
     "output_type": "display_data"
    },
    {
     "data": {
      "text/latex": [
       "$\\displaystyle f = 0.3 exp \\left(- 160 \\left(1 - \\sigma\\right)\\right) + 1$"
      ],
      "text/plain": [
       "Eq(f, 0.3*(exp*(-160*(1 - sigma))) + 1)"
      ]
     },
     "metadata": {},
     "output_type": "display_data"
    },
    {
     "data": {
      "text/latex": [
       "$\\displaystyle B_{s} = \\frac{4}{3 \\pi} \\rho r^{2} d^{2} \\omega p h i_{a} I f^{2}$"
      ],
      "text/plain": [
       "Eq(B_{s}, (4/((3*pi)))*(rho*(r**2*(d**2*(omega*(p*(h*(i_{a}*(I*f**2)))))))))"
      ]
     },
     "metadata": {},
     "output_type": "display_data"
    },
    {
     "data": {
      "text/latex": [
       "$\\displaystyle I = \\frac{\\int C_{P} l_{B*K}\\, ds}{d^{2}}$"
      ],
      "text/plain": [
       "Eq(I, Integral(C_{P}*l_{B*K}, s)/d**2)"
      ]
     },
     "metadata": {},
     "output_type": "display_data"
    },
    {
     "data": {
      "text/latex": [
       "$\\displaystyle C_{P*(f*(a*(c*e)))} = 1.2$"
      ],
      "text/plain": [
       "Eq(C_{P*(f*(a*(c*e)))}, 1.2)"
      ]
     },
     "metadata": {},
     "output_type": "display_data"
    },
    {
     "data": {
      "text/latex": [
       "$\\displaystyle C_{P*(b*(a*(c*k)))} = - \\frac{22.5 b_{B*K}}{\\pi r f p h i_{a}} - 1.2$"
      ],
      "text/plain": [
       "Eq(C_{P*(b*(a*(c*k)))}, -22.5*b_{B*K}/(pi*(r*(f*(p*(h*i_{a}))))) - 1.2)"
      ]
     },
     "metadata": {},
     "output_type": "display_data"
    },
    {
     "data": {
      "text/latex": [
       "$\\displaystyle x_{7} = \\frac{b_{B*K}}{B}$"
      ],
      "text/plain": [
       "Eq(x_{7}, b_{B*K}/B)"
      ]
     },
     "metadata": {},
     "output_type": "display_data"
    },
    {
     "data": {
      "text/latex": [
       "$\\displaystyle x_{8} = \\frac{l_{B*K}}{L_{P*P}}$"
      ],
      "text/plain": [
       "Eq(x_{8}, l_{B*K}/L_{P*P})"
      ]
     },
     "metadata": {},
     "output_type": "display_data"
    },
    {
     "data": {
      "text/latex": [
       "$\\displaystyle B_{n_{B*K}} = A_{B*K} B_{B*K} exp + x_{5} B_{B*(2*K)} x_{3}^{B_{B*(3*K)}}$"
      ],
      "text/plain": [
       "Eq(B_{n_{B*K}}, A_{B*K}*(B_{B*K}*exp) + x_{5}*(B_{B*(2*K)}*x_{3}**B_{B*(3*K)}))"
      ]
     },
     "metadata": {},
     "output_type": "display_data"
    },
    {
     "data": {
      "text/latex": [
       "$\\displaystyle A_{B*K} = f_{3} f_{1} f_{2}$"
      ],
      "text/plain": [
       "Eq(A_{B*K}, f_{3}*(f_{1}*f_{2}))"
      ]
     },
     "metadata": {},
     "output_type": "display_data"
    },
    {
     "data": {
      "text/latex": [
       "$\\displaystyle f_{3} = 0.00189 x_{8} + \\left(- 0.01185 x_{7} + \\left(5.2857 x_{7}^{2} + \\left(- 0.0733 quad x_{7} x_{8}^{2} - 0.8913 x_{7}^{2}\\right)\\right)\\right)$"
      ],
      "text/plain": [
       "Eq(f_{3}, 0.00189*x_{8} - 0.01185*x_{7} + 5.2857*x_{7}**2 - 0.0733*quad*x_{7}*x_{8}**2 - 0.8913*x_{7}**2)"
      ]
     },
     "metadata": {},
     "output_type": "display_data"
    },
    {
     "data": {
      "text/latex": [
       "$\\displaystyle B_{B*K} = \\left(- 0.0425 x_{6} + \\left(quad \\left(- 0.2 x_{8} + \\left(0.3 x_{1} + 5 x_{7}\\right)\\right) + 0.00125 x_{6}^{2}\\right)\\right) - 1.86$"
      ],
      "text/plain": [
       "Eq(B_{B*K}, -0.0425*x_{6} + quad*(-0.2*x_{8} + 0.3*x_{1} + 5*x_{7}) + 0.00125*x_{6}**2 - 1.86)"
      ]
     },
     "metadata": {},
     "output_type": "display_data"
    },
    {
     "data": {
      "text/latex": [
       "$\\displaystyle B_{B*(2*K)} = \\left(0.0586 x_{4} + \\left(- 0.0657 x_{4}^{2} + \\left(- 0.1 quad x_{1} + \\left(1.2 x_{2} - 15 x_{7}\\right)\\right)\\right)\\right) + 1.6164$"
      ],
      "text/plain": [
       "Eq(B_{B*(2*K)}, 0.0586*x_{4} - 0.0657*x_{4}**2 - 0.1*quad*x_{1} + 1.2*x_{2} - 15*x_{7} + 1.6164)"
      ]
     },
     "metadata": {},
     "output_type": "display_data"
    },
    {
     "data": {
      "text/latex": [
       "$\\displaystyle B_{B*(3*K)} = 2.5 x_{4} + 15.75$"
      ],
      "text/plain": [
       "Eq(B_{B*(3*K)}, 2.5*x_{4} + 15.75)"
      ]
     },
     "metadata": {},
     "output_type": "display_data"
    }
   ],
   "source": [
    "for name, equation in equations.items():\n",
    "    display(equation)"
   ]
  },
  {
   "cell_type": "code",
   "execution_count": null,
   "metadata": {},
   "outputs": [],
   "source": []
  }
 ],
 "metadata": {
  "kernelspec": {
   "display_name": "Python 3",
   "language": "python",
   "name": "python3"
  },
  "language_info": {
   "codemirror_mode": {
    "name": "ipython",
    "version": 3
   },
   "file_extension": ".py",
   "mimetype": "text/x-python",
   "name": "python",
   "nbconvert_exporter": "python",
   "pygments_lexer": "ipython3",
   "version": "3.5.4"
  },
  "pycharm": {
   "stem_cell": {
    "cell_type": "raw",
    "metadata": {
     "collapsed": false
    },
    "source": []
   }
  }
 },
 "nbformat": 4,
 "nbformat_minor": 1
}
