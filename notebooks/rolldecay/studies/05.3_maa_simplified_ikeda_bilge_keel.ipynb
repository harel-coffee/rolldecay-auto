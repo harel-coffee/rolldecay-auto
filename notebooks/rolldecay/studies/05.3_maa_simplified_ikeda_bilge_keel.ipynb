{
 "cells": [
  {
   "cell_type": "markdown",
   "metadata": {
    "collapsed": true,
    "pycharm": {
     "name": "#%% md\n"
    }
   },
   "source": [
    "# Simplified ikeda Bilge keel\n",
    "Comparison between original paper and IMO\n"
   ]
  },
  {
   "cell_type": "code",
   "execution_count": 1,
   "metadata": {
    "pycharm": {
     "is_executing": false,
     "name": "#%%\n"
    }
   },
   "outputs": [],
   "source": [
    "import sympy as sp\n",
    "import dill\n",
    "import numpy as np\n",
    "import pandas as pd\n",
    "import matplotlib.pyplot as plt"
   ]
  },
  {
   "cell_type": "code",
   "execution_count": 2,
   "metadata": {
    "pycharm": {
     "name": "#%%\n"
    }
   },
   "outputs": [],
   "source": [
    "with open('equations.dill', mode='rb') as file:\n",
    "    equations = dill.load(file)"
   ]
  },
  {
   "cell_type": "code",
   "execution_count": 3,
   "metadata": {},
   "outputs": [],
   "source": [
    "with open('symbols.dill', mode='rb') as file:\n",
    "    symbols = dill.load(file)"
   ]
  },
  {
   "cell_type": "markdown",
   "metadata": {},
   "source": [
    "## Proposed Formula of the Bilge Keel Roll Damping"
   ]
  },
  {
   "cell_type": "code",
   "execution_count": 4,
   "metadata": {},
   "outputs": [
    {
     "data": {
      "text/latex": [
       "$\\displaystyle B_{n BK} = A_{BK} x_{5} e^{B_{B2K} x_{3}^{B_{B3K}} + B_{BK}}$"
      ],
      "text/plain": [
       "Eq(B_n_BK, A_BK*x_5*exp(B_B2K*x_3**B_B3K + B_BK))"
      ]
     },
     "execution_count": 4,
     "metadata": {},
     "output_type": "execute_result"
    }
   ],
   "source": [
    "equations.B_n_BK"
   ]
  },
  {
   "cell_type": "code",
   "execution_count": 5,
   "metadata": {},
   "outputs": [],
   "source": [
    "from rolldecayestimators.substitute_dynamic_symbols import lambdify"
   ]
  },
  {
   "cell_type": "code",
   "execution_count": 6,
   "metadata": {},
   "outputs": [
    {
     "data": {
      "text/plain": [
       "<function _lambdifygenerated(x_4)>"
      ]
     },
     "execution_count": 6,
     "metadata": {},
     "output_type": "execute_result"
    }
   ],
   "source": [
    "lambdify(equations.B_B3K.rhs)"
   ]
  },
  {
   "cell_type": "code",
   "execution_count": 7,
   "metadata": {},
   "outputs": [
    {
     "data": {
      "text/plain": [
       "<function _lambdifygenerated(A_BK, B_B2K, B_B3K, B_BK, x_3, x_5)>"
      ]
     },
     "execution_count": 7,
     "metadata": {},
     "output_type": "execute_result"
    }
   ],
   "source": [
    "lambdify(equations.B_n_BK.rhs)"
   ]
  },
  {
   "cell_type": "code",
   "execution_count": 8,
   "metadata": {},
   "outputs": [],
   "source": [
    "lambda_dict = {}\n",
    "for name, equation in equations._asdict().items():\n",
    "    lambda_dict[name] = lambdify(equation.rhs)"
   ]
  },
  {
   "cell_type": "code",
   "execution_count": 9,
   "metadata": {},
   "outputs": [],
   "source": [
    "from collections import namedtuple\n",
    "Lambdas = namedtuple('Lambdas', lambda_dict.keys())\n",
    "lambdas = Lambdas(**lambda_dict)"
   ]
  },
  {
   "cell_type": "code",
   "execution_count": 10,
   "metadata": {},
   "outputs": [],
   "source": [
    "from inspect import signature"
   ]
  },
  {
   "cell_type": "code",
   "execution_count": 11,
   "metadata": {},
   "outputs": [],
   "source": [
    "def run(function,inputs):\n",
    "    s = signature(function)\n",
    "    input_names = set(s.parameters.keys())   \n",
    "    return function(**inputs[input_names])"
   ]
  },
  {
   "cell_type": "code",
   "execution_count": 12,
   "metadata": {},
   "outputs": [],
   "source": [
    "B = 60  # [m]\n",
    "d = 20  # [m]\n",
    "Lpp = 300  # [m]\n",
    "b_BK = 0.03*B\n",
    "l_BK = 0.3*Lpp\n",
    "phi_a = 20  # [deg]\n",
    "w_hat = 1.1\n",
    "Cb = 0.58\n",
    "Cm = 0.94\n",
    "\n",
    "OG_div_d = np.linspace(-1.5,0,8)\n",
    "OG = OG_div_d*d\n",
    "\n",
    "inputs = pd.DataFrame()\n",
    "inputs['OG'] = OG\n",
    "inputs['OG/d'] = OG/d\n",
    "inputs['x_1'] = B/d\n",
    "inputs['x_2'] = Cb\n",
    "inputs['x_3'] = Cm\n",
    "inputs['x_4'] = OG/d\n",
    "inputs['x_5'] = w_hat\n",
    "inputs['x_6'] = phi_a\n",
    "inputs['x_7'] = b_BK/B\n",
    "inputs['x_8'] = l_BK/Lpp\n",
    "\n",
    "inputs['f_1'] = run(lambdas.f_1, inputs)\n",
    "inputs['f_2'] = run(lambdas.f_2, inputs)\n",
    "inputs['f_3'] = run(lambdas.f_3, inputs)\n",
    "\n",
    "inputs['A_BK'] = run(lambdas.A_BK, inputs)\n",
    "inputs['B_B2K'] = run(lambdas.B_B2K, inputs)\n",
    "inputs['B_B3K'] = run(lambdas.B_B3K, inputs)\n",
    "inputs['B_BK'] = run(lambdas.B_BK, inputs)\n",
    "\n",
    "inputs['B_n_BK'] = run(lambdas.B_n_BK, inputs)"
   ]
  },
  {
   "cell_type": "code",
   "execution_count": 13,
   "metadata": {},
   "outputs": [
    {
     "data": {
      "text/plain": [
       "<matplotlib.axes._subplots.AxesSubplot at 0x1180d4d0>"
      ]
     },
     "execution_count": 13,
     "metadata": {},
     "output_type": "execute_result"
    },
    {
     "data": {
      "image/png": "[encoded data removed]",
      "text/plain": [
       "<Figure size 432x288 with 1 Axes>"
      ]
     },
     "metadata": {
      "needs_background": "light"
     },
     "output_type": "display_data"
    }
   ],
   "source": [
    "inputs.plot(x='OG/d', y='B_n_BK')"
   ]
  },
  {
   "cell_type": "code",
   "execution_count": 14,
   "metadata": {},
   "outputs": [
    {
     "data": {
      "text/latex": [
       "$\\displaystyle f_{1} = - 2.21 x_{2} + 8.0089 \\left(0.3907 - 0.3651 x_{2}\\right) \\left(0.353356890459364 x_{1} - 1\\right)^{2} + 2.632$"
      ],
      "text/plain": [
       "Eq(f_1, -2.21*x_2 + 8.0089*(0.3907 - 0.3651*x_2)*(0.353356890459364*x_1 - 1)**2 + 2.632)"
      ]
     },
     "execution_count": 14,
     "metadata": {},
     "output_type": "execute_result"
    }
   ],
   "source": [
    "equations.f_1"
   ]
  },
  {
   "cell_type": "code",
   "execution_count": 15,
   "metadata": {},
   "outputs": [
    {
     "data": {
      "text/latex": [
       "$\\displaystyle f_{2} = 0.00255 x_{6}^{2} + 0.122 x_{6} + 0.4794$"
      ],
      "text/plain": [
       "Eq(f_2, 0.00255*x_6**2 + 0.122*x_6 + 0.4794)"
      ]
     },
     "execution_count": 15,
     "metadata": {},
     "output_type": "execute_result"
    }
   ],
   "source": [
    "equations.f_2"
   ]
  },
  {
   "cell_type": "code",
   "execution_count": 16,
   "metadata": {},
   "outputs": [
    {
     "data": {
      "text/latex": [
       "$\\displaystyle f_{3} = x_{8}^{2} \\left(- 0.8913 x_{7}^{2} - 0.0733 x_{7}\\right) + x_{8} \\left(5.2857 x_{7}^{2} - 0.01185 x_{7} + 0.00189\\right)$"
      ],
      "text/plain": [
       "Eq(f_3, x_8**2*(-0.8913*x_7**2 - 0.0733*x_7) + x_8*(5.2857*x_7**2 - 0.01185*x_7 + 0.00189))"
      ]
     },
     "execution_count": 16,
     "metadata": {},
     "output_type": "execute_result"
    }
   ],
   "source": [
    "equations.f_3"
   ]
  },
  {
   "cell_type": "code",
   "execution_count": 17,
   "metadata": {},
   "outputs": [
    {
     "data": {
      "text/latex": [
       "$\\displaystyle B_{BK} = x_{4} \\left(0.3 x_{1} + 0.00125 x_{6}^{2} - 0.0425 x_{6} + 5 x_{7} - 0.2 x_{8} - 1.86\\right)$"
      ],
      "text/plain": [
       "Eq(B_BK, x_4*(0.3*x_1 + 0.00125*x_6**2 - 0.0425*x_6 + 5*x_7 - 0.2*x_8 - 1.86))"
      ]
     },
     "execution_count": 17,
     "metadata": {},
     "output_type": "execute_result"
    }
   ],
   "source": [
    "equations.B_BK"
   ]
  },
  {
   "cell_type": "code",
   "execution_count": 18,
   "metadata": {},
   "outputs": [
    {
     "data": {
      "text/latex": [
       "$\\displaystyle B_{B2K} = - 0.1 x_{1} + 1.2 x_{2} - 0.0657 x_{4}^{2} + 0.0586 x_{4} - 15 x_{7} + 1.6164$"
      ],
      "text/plain": [
       "Eq(B_B2K, -0.1*x_1 + 1.2*x_2 - 0.0657*x_4**2 + 0.0586*x_4 - 15*x_7 + 1.6164)"
      ]
     },
     "execution_count": 18,
     "metadata": {},
     "output_type": "execute_result"
    }
   ],
   "source": [
    "equations.B_B2K"
   ]
  },
  {
   "cell_type": "code",
   "execution_count": 19,
   "metadata": {},
   "outputs": [
    {
     "data": {
      "text/latex": [
       "$\\displaystyle B_{B3K} = 2.5 x_{4} + 15.75$"
      ],
      "text/plain": [
       "Eq(B_B3K, 2.5*x_4 + 15.75)"
      ]
     },
     "execution_count": 19,
     "metadata": {},
     "output_type": "execute_result"
    }
   ],
   "source": [
    "equations.B_B3K"
   ]
  },
  {
   "cell_type": "markdown",
   "metadata": {},
   "source": [
    "## IMO implementation"
   ]
  },
  {
   "cell_type": "code",
   "execution_count": 20,
   "metadata": {},
   "outputs": [],
   "source": [
    "Q7_str = \"\"\"\n",
    "0 1 2 3\n",
    "1 0 -0.3651 0.3907\n",
    "2 0 -2.21 2.632\n",
    "3 0.00255 0.122 0.4794\n",
    "4 -0.8913 -0.0733 0\n",
    "5 5.2857 -0.01185 0.00189\n",
    "6 0.00125 -0.0425 -1.86\n",
    "7 -0.0657 0.0586 1.6164\n",
    "\"\"\""
   ]
  },
  {
   "cell_type": "code",
   "execution_count": 21,
   "metadata": {},
   "outputs": [
    {
     "data": {
      "text/plain": [
       "array([[ 0.0000e+00,  1.0000e+00,  2.0000e+00,  3.0000e+00],\n",
       "       [ 1.0000e+00,  0.0000e+00, -3.6510e-01,  3.9070e-01],\n",
       "       [ 2.0000e+00,  0.0000e+00, -2.2100e+00,  2.6320e+00],\n",
       "       [ 3.0000e+00,  2.5500e-03,  1.2200e-01,  4.7940e-01],\n",
       "       [ 4.0000e+00, -8.9130e-01, -7.3300e-02,  0.0000e+00],\n",
       "       [ 5.0000e+00,  5.2857e+00, -1.1850e-02,  1.8900e-03],\n",
       "       [ 6.0000e+00,  1.2500e-03, -4.2500e-02, -1.8600e+00],\n",
       "       [ 7.0000e+00, -6.5700e-02,  5.8600e-02,  1.6164e+00]])"
      ]
     },
     "execution_count": 21,
     "metadata": {},
     "output_type": "execute_result"
    }
   ],
   "source": [
    "Q7 = np.fromstring(Q7_str,sep=' ').reshape(8,4)\n",
    "Q7"
   ]
  },
  {
   "cell_type": "code",
   "execution_count": 22,
   "metadata": {},
   "outputs": [],
   "source": [
    "inputs_IMO = pd.DataFrame()\n",
    "OG = inputs_IMO['OG'] = OG\n",
    "inputs_IMO['OG/d'] = OG/d\n",
    "x_1 = inputs_IMO['x_1'] = B/d\n",
    "x_2 = inputs_IMO['x_2'] = Cb\n",
    "x_3 = inputs_IMO['x_3'] = Cm\n",
    "x_4 = inputs_IMO['x_4'] = OG/d\n",
    "x_5 = inputs_IMO['x_5'] = w_hat\n",
    "x_6 = inputs_IMO['x_6'] = phi_a\n",
    "x_7 = inputs_IMO['x_7'] = b_BK/B\n",
    "x_8 = inputs_IMO['x_8'] = l_BK/Lpp"
   ]
  },
  {
   "cell_type": "code",
   "execution_count": 23,
   "metadata": {},
   "outputs": [],
   "source": [
    "i = np.arange(1,3+1)\n",
    "sum1 = np.sum(Q7[1,i]*x_2**(3-i))\n",
    "sum2 = np.sum(Q7[2,i]*x_2**(3-i))\n",
    "\n",
    "f_1 = inputs_IMO['f_1'] = (x_1-2.83)**2*sum1 + sum2\n",
    "#f_1 = inputs_IMO['f_1'] = (-0.365*x_2+0.3907)*(x_1-2.83)**2-2.21*x_2+2.632\n",
    "\n",
    "f_2 = inputs_IMO['f_2'] = np.sum(Q7[3,i]*x_6**(3-i))\n",
    "\n",
    "rows=2\n",
    "columns=3\n",
    "sum3 = np.zeros((rows+1,columns+1))\n",
    "for i in np.arange(1,rows+1):\n",
    "    for j in np.arange(1,columns+1):\n",
    "        sum3[i,j] = Q7[3+i,j]*x_7**(3-j)*x_8**(3-i)\n",
    "             \n",
    "f_3 = inputs_IMO['f_3'] = np.sum(np.sum(sum3))"
   ]
  },
  {
   "cell_type": "code",
   "execution_count": 24,
   "metadata": {},
   "outputs": [],
   "source": [
    "i = np.arange(1,3+1)\n",
    "sum4 = np.sum(Q7[6,i]*x_6**(3-i))\n",
    "B_BK = inputs_IMO['B_BK'] = x_4*(5*x_7+0.3*x_1-0.2*x_8 + sum4)"
   ]
  },
  {
   "cell_type": "markdown",
   "metadata": {},
   "source": [
    "## The $B_{BK2}$ equation in IMO is incorrect..."
   ]
  },
  {
   "cell_type": "code",
   "execution_count": 25,
   "metadata": {},
   "outputs": [],
   "source": [
    "rows=2\n",
    "sum5 = np.zeros(len(inputs_IMO))\n",
    "for i in np.arange(1,rows+1):\n",
    "    sum5+=Q7[7,i]*(OG/d)**(3-i)\n",
    "#B_B2K = inputs_IMO['B_B2K'] = -15*x_7+1.2*x_2-0.1*x_1 + sum5\n",
    "\n",
    "B_B2K = inputs_IMO['B_B2K'] = (-15*x_7+1.2*x_2-0.1*x_1\n",
    "                               -0.0657*x_4**2+0.0586*x_4+1.6164)\n",
    "\n",
    "B_B3K = inputs_IMO['B_B3K'] = 2.5*OG/d+15.75\n",
    "A_BK = inputs_IMO['A_BK'] = f_1*f_2*f_3\n",
    "B_n_BK = inputs_IMO['B_n_BK'] = A_BK*w_hat*np.exp(B_BK+B_B2K*x_3**(B_B3K))"
   ]
  },
  {
   "cell_type": "code",
   "execution_count": 30,
   "metadata": {},
   "outputs": [
    {
     "data": {
      "text/plain": [
       "<matplotlib.axes._subplots.AxesSubplot at 0xdef9d0>"
      ]
     },
     "execution_count": 30,
     "metadata": {},
     "output_type": "execute_result"
    },
    {
     "data": {
      "image/png": "[encoded data removed]",
      "text/plain": [
       "<Figure size 432x288 with 1 Axes>"
      ]
     },
     "metadata": {
      "needs_background": "light"
     },
     "output_type": "display_data"
    }
   ],
   "source": [
    "fig,ax = plt.subplots()\n",
    "inputs.plot(x='OG/d', y='B_n_BK', label='Kawahara', ax=ax)\n",
    "inputs_IMO.plot(x='OG/d', y='B_n_BK', label='IMO', style='--',ax=ax)\n"
   ]
  },
  {
   "cell_type": "code",
   "execution_count": 31,
   "metadata": {},
   "outputs": [
    {
     "data": {
      "image/png": "[encoded data removed]",
      "text/plain": [
       "<Figure size 432x288 with 1 Axes>"
      ]
     },
     "metadata": {
      "needs_background": "light"
     },
     "output_type": "display_data"
    },
    {
     "data": {
      "image/png": "[encoded data removed]",
      "text/plain": [
       "<Figure size 432x288 with 1 Axes>"
      ]
     },
     "metadata": {
      "needs_background": "light"
     },
     "output_type": "display_data"
    },
    {
     "data": {
      "image/png": "[encoded data removed]",
      "text/plain": [
       "<Figure size 432x288 with 1 Axes>"
      ]
     },
     "metadata": {
      "needs_background": "light"
     },
     "output_type": "display_data"
    },
    {
     "data": {
      "image/png": "[encoded data removed]",
      "text/plain": [
       "<Figure size 432x288 with 1 Axes>"
      ]
     },
     "metadata": {
      "needs_background": "light"
     },
     "output_type": "display_data"
    },
    {
     "data": {
      "image/png": "[encoded data removed]",
      "text/plain": [
       "<Figure size 432x288 with 1 Axes>"
      ]
     },
     "metadata": {
      "needs_background": "light"
     },
     "output_type": "display_data"
    },
    {
     "data": {
      "image/png": "[encoded data removed]",
      "text/plain": [
       "<Figure size 432x288 with 1 Axes>"
      ]
     },
     "metadata": {
      "needs_background": "light"
     },
     "output_type": "display_data"
    }
   ],
   "source": [
    "\n",
    "ys = ['f_1','f_2','f_3','B_BK','B_B2K','B_B3K']\n",
    "\n",
    "for y in ys:\n",
    "    fig,ax = plt.subplots()\n",
    "    inputs.plot(x='OG/d', y=y, label='Kawahara', ax=ax)\n",
    "    inputs_IMO.plot(x='OG/d', y=y, label='IMO', style='--', ax=ax)\n",
    "    ax.set_title(y)"
   ]
  },
  {
   "cell_type": "code",
   "execution_count": null,
   "metadata": {},
   "outputs": [],
   "source": []
  }
 ],
 "metadata": {
  "kernelspec": {
   "display_name": "Python 3",
   "language": "python",
   "name": "python3"
  },
  "language_info": {
   "codemirror_mode": {
    "name": "ipython",
    "version": 3
   },
   "file_extension": ".py",
   "mimetype": "text/x-python",
   "name": "python",
   "nbconvert_exporter": "python",
   "pygments_lexer": "ipython3",
   "version": "3.5.4"
  },
  "pycharm": {
   "stem_cell": {
    "cell_type": "raw",
    "metadata": {
     "collapsed": false
    },
    "source": []
   }
  }
 },
 "nbformat": 4,
 "nbformat_minor": 1
}
