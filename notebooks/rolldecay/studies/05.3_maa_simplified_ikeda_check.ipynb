{
 "cells": [
  {
   "cell_type": "markdown",
   "metadata": {
    "collapsed": true,
    "pycharm": {
     "name": "#%% md\n"
    }
   },
   "source": [
    "# Simplified ikeda check the parsed equations\n"
   ]
  },
  {
   "cell_type": "code",
   "execution_count": 7,
   "metadata": {
    "pycharm": {
     "is_executing": false,
     "name": "#%%\n"
    }
   },
   "outputs": [],
   "source": [
    "import sympy as sp\n",
    "import dill\n",
    "import numpy as np\n",
    "import pandas as pd\n",
    "import matplotlib.pyplot as plt"
   ]
  },
  {
   "cell_type": "code",
   "execution_count": 8,
   "metadata": {
    "pycharm": {
     "name": "#%%\n"
    }
   },
   "outputs": [],
   "source": [
    "with open('equations.dill', mode='rb') as file:\n",
    "    equations = dill.load(file)"
   ]
  },
  {
   "cell_type": "code",
   "execution_count": 9,
   "metadata": {},
   "outputs": [],
   "source": [
    "with open('symbols.dill', mode='rb') as file:\n",
    "    symbols = dill.load(file)"
   ]
  },
  {
   "cell_type": "markdown",
   "metadata": {},
   "source": [
    "## Proposed Formula of the Bilge Keel Roll Damping"
   ]
  },
  {
   "cell_type": "code",
   "execution_count": 10,
   "metadata": {},
   "outputs": [
    {
     "data": {
      "text/latex": [
       "$\\displaystyle B_{n BK} = A_{BK} exp x_{5} \\left(B_{B2K} x_{3}^{B_{B3K}} + B_{BK}\\right)$"
      ],
      "text/plain": [
       "Eq(B_n_BK, A_BK*exp*x_5*(B_B2K*x_3**B_B3K + B_BK))"
      ]
     },
     "execution_count": 10,
     "metadata": {},
     "output_type": "execute_result"
    }
   ],
   "source": [
    "equations.B_n_BK"
   ]
  },
  {
   "cell_type": "code",
   "execution_count": 11,
   "metadata": {},
   "outputs": [
    {
     "data": {
      "text/latex": [
       "$\\displaystyle A_{BK} = f_{1} f_{2} f_{3}$"
      ],
      "text/plain": [
       "Eq(A_BK, f_1*f_2*f_3)"
      ]
     },
     "execution_count": 11,
     "metadata": {},
     "output_type": "execute_result"
    }
   ],
   "source": [
    "equations.A_BK"
   ]
  },
  {
   "cell_type": "code",
   "execution_count": 12,
   "metadata": {},
   "outputs": [
    {
     "data": {
      "text/latex": [
       "$\\displaystyle f_{1} = 0.3907 cdotx_{1} - 2.5751 x_{2} - 5.3769$"
      ],
      "text/plain": [
       "Eq(f_1, 0.3907*cdotx_1 - 2.5751*x_2 - 5.3769)"
      ]
     },
     "execution_count": 12,
     "metadata": {},
     "output_type": "execute_result"
    }
   ],
   "source": [
    "equations.f_1"
   ]
  },
  {
   "cell_type": "code",
   "execution_count": 13,
   "metadata": {},
   "outputs": [
    {
     "data": {
      "text/latex": [
       "$\\displaystyle f_{2} = 0.00255 x_{6}^{2} + 0.122 x_{6} + 0.4794$"
      ],
      "text/plain": [
       "Eq(f_2, 0.00255*x_6**2 + 0.122*x_6 + 0.4794)"
      ]
     },
     "execution_count": 13,
     "metadata": {},
     "output_type": "execute_result"
    }
   ],
   "source": [
    "equations.f_2"
   ]
  },
  {
   "cell_type": "code",
   "execution_count": 14,
   "metadata": {},
   "outputs": [
    {
     "data": {
      "text/latex": [
       "$\\displaystyle f_{3} = 4.3944 x_{7}^{2} - 0.0733 x_{7} x_{8}^{2} - 0.01185 x_{7} + 0.00189 x_{8}$"
      ],
      "text/plain": [
       "Eq(f_3, 4.3944*x_7**2 - 0.0733*x_7*x_8**2 - 0.01185*x_7 + 0.00189*x_8)"
      ]
     },
     "execution_count": 14,
     "metadata": {},
     "output_type": "execute_result"
    }
   ],
   "source": [
    "equations.f_3"
   ]
  },
  {
   "cell_type": "code",
   "execution_count": 17,
   "metadata": {},
   "outputs": [
    {
     "data": {
      "text/plain": [
       "OrderedDict([('B_44', Eq(B_44, B_BK + B_E + B_F + B_L + B_W)),\n",
       "             ('B_F', Eq(B_F, 4*c_f*omega*phi_a*r_f**3*rho*s_f/(3*pi))),\n",
       "             ('c_f', Eq(c_f, 2.38301080148622*sqrt(phi_a**2*r_f**2/(T*v)))),\n",
       "             ('r_f', Eq(r_f, (B*C_b + 0.2465*C_b*d - 2*G*O + 0.887)/pi)),\n",
       "             ('s_f', Eq(s_f, B*C_b + 1.75*L_PP*d)),\n",
       "             ('x_1', Eq(x_1, B/d)),\n",
       "             ('x_2', Eq(x_2, C_b)),\n",
       "             ('x_3', Eq(x_3, C_m)),\n",
       "             ('x_4', Eq(x_4, G*O/d)),\n",
       "             ('x_5', Eq(x_5, omega_n)),\n",
       "             ('B_n_W',\n",
       "              Eq(B_n_W, A_1*exp*(-A_2*log(x_5) - 0.694444444444444*A_3**2)/x_5)),\n",
       "             ('A_1', Eq(A_1, AA_1*A_13 + A_11*x_4**2 + A_12*x_4)),\n",
       "             ('A_2',\n",
       "              Eq(A_2, -1.402*x_4**3 + 7.189*x_4**2 - 10.993*x_4 + 9.45)),\n",
       "             ('A_3',\n",
       "              Eq(A_3, AA_3 + A_31*x_4**6 + A_32*x_4**5 + A_33*x_4**4 + A_34*x_4**3 + A_35*x_4**2 + A_36*x**4 + A_37)),\n",
       "             ('x_6', Eq(x_6, phi_a)),\n",
       "             ('AA_1', Eq(AA_1, A*A_11*x_3 + AA_12 - x_4 + 1.0)),\n",
       "             ('AA_3',\n",
       "              Eq(AA_3, AA_31 - 0.0495*x_1**2 + 0.4518*x_1 - 1.05584*x_6**9 + 12.688*x_6**8 - 63.70534*x_6**7 + 172.84571*x_6**6 - 274.05701*x_6**5 + 257.68705*x_6**4 - 141.40915*x_6**3 + 44.13177*x_6**2 - 7.1654*x_6 - 0.61655)),\n",
       "             ('AA_31',\n",
       "              Eq(AA_31, 11.588*AA_311 - 0.3767*x_1**3 + 3.39*x_1**2 - 10.356*x_1)),\n",
       "             ('AA_32', Eq(AA_32, -0.0727*x_1**2 + 0.7*x_1 - 1.2818)),\n",
       "             ('AA_311',\n",
       "              Eq(AA_311, 19.464*x_2**3 - 47.708*x_2**2 + 38.566*x_2 + 8.8007*x_4 - 18.108)),\n",
       "             ('A_31',\n",
       "              Eq(A_31, -7686.0287*x_2**6 + 30131.5678*x_2**5 - 49048.9664*x_2**4 + 42480.7709*x_2**3 - 20665.147*x_2**2 + 5355.2035*x_2 - 577.8827)),\n",
       "             ('A_32',\n",
       "              Eq(A_32, 61639.9103*x_2**6 - 241201.0598*x_2**5 + 392579.5937*x_2**4 - 340629.4699*x_2**3 + 166348.6917*x_2**2 - 43358.7938*x_2 + 4714.7918)),\n",
       "             ('A_33',\n",
       "              Eq(A_33, -130677.4903*x_2**6 + 507996.2604*x_2**5 - 826728.7127*x_2**4 + 722677.104*x_2**3 - 358360.7392*x_2**2 + 95501.4948*x_2 - 10682.8619)),\n",
       "             ('A_34',\n",
       "              Eq(A_34, 110034.6584*x_2**6 + 446051.22*x_2**5 - 724186.4643*x_2**4 + 599411.9264*x_2**3 - 264294.7189*x_2**2 + 58039.7328*x_2 - 4774.6414)),\n",
       "             ('A_35',\n",
       "              Eq(A_35, 709672.0656*x_2**6 - 2803850.2395*x_2**5 + 4553780.5017*x_2**4 - 3888378.9905*x_2**3 + 1839829.259*x_2**2 - 457313.6939*x_2 + 46600.823)),\n",
       "             ('A_36',\n",
       "              Eq(A_36, -822735.9289*x_2**6 + 3238899.7308*x_2**5 - 5256636.5472*x_2**4 + 4500543.147*x_2**3 - 2143487.3508*x_2**2 + 538548.1194*x_2 - 55751.1528)),\n",
       "             ('A_37',\n",
       "              Eq(A_37, 299122.8727*x_2**6 - 1175773.1606*x_2**5 + 1907356.1357*x_2**4 - 1634256.8172*x_2**3 + 780020.9393*x_2**2 - 196679.7143*x_2 + 20467.0904)),\n",
       "             ('AA_11', Eq(AA_11, A*A_111*x_2**2 + A*A_112*x_2 + AA_113)),\n",
       "             ('AA_12', Eq(AA_12, A*A_121*x_2**2 + A*A_122*x_2 + AA_123)),\n",
       "             ('AA_111',\n",
       "              Eq(AA_111, 17.945*x_1**3 - 166.294*x_1**2 + 489.799*x_1 - 493.142)),\n",
       "             ('AA_112',\n",
       "              Eq(AA_112, -25.507*x_1**3 + 236.275*x_1**2 - 698.683*x_1 + 701.494)),\n",
       "             ('AA_113',\n",
       "              Eq(AA_113, 9.077*x_1**3 - 84.332*x_1**2 + 249.983*x_1 - 250.787)),\n",
       "             ('AA_121',\n",
       "              Eq(AA_121, -16.872*x_1**3 + 156.399*x_1**2 - 460.689*x_1 + 463.848)),\n",
       "             ('AA_122',\n",
       "              Eq(AA_122, 24.015*x_1**3 - 222.507*x_1**2 + 658.027*x_1 - 660.665)),\n",
       "             ('AA_123',\n",
       "              Eq(AA_123, -8.56*x_1**3 + 79.549*x_1**2 - 235.827*x_1 + 236.579)),\n",
       "             ('A_11', Eq(A_11, A_111*x_2**2 + A_112*x_2 + A_113)),\n",
       "             ('A_12',\n",
       "              Eq(A_12, A_121*x_2**3 + A_122*x_2**2 + A_123*x_2 + A_124)),\n",
       "             ('A_13',\n",
       "              Eq(A_13, A_131*x_2**3 + A_132*x_2**2 + A_133*x_2 + A_134)),\n",
       "             ('A_111',\n",
       "              Eq(A_111, -0.002222*x_1**3 + 0.040871*x_1**2 - 0.286866*x_1 + 0.599424)),\n",
       "             ('A_112',\n",
       "              Eq(A_112, 0.010185*x_1**3 - 0.161176*x_1**2 + 0.904989*x_1 - 1.641389)),\n",
       "             ('A_113',\n",
       "              Eq(A_113, -0.015422*x_1**3 + 0.220371*x_1**2 - 1.084987*x_1 + 1.834167)),\n",
       "             ('A_121',\n",
       "              Eq(A_121, -0.0628667*x_1**4 + 0.4989259*x_1**3 + 0.52735*x_1**2 - 10.7918672*x_1 + 16.616327)),\n",
       "             ('A_122',\n",
       "              Eq(A_122, 0.1140667*x_1**4 - 0.8108963*x_1**3 - 2.2186833*x_1**2 + 25.1269741*x_1 - 37.7729778)),\n",
       "             ('A_123',\n",
       "              Eq(A_123, -0.0589333*x_1**4 + 0.2639704*x_1**3 + 3.1949667*x_1**2 - 21.8126569*x_1 + 31.4113508)),\n",
       "             ('A_124',\n",
       "              Eq(A_124, 0.0107667*x_1**4 + 0.0018704*x_1**3 - 1.2494083*x_1**2 + 6.9427931*x_1 - 10.2018992)),\n",
       "             ('A_131',\n",
       "              Eq(A_131, 0.192207*x_1**3 - 2.787462*x_1**2 + 12.507855*x_1 - 14.764856)),\n",
       "             ('A_132',\n",
       "              Eq(A_132, -0.350563*x_1**3 + 5.222348*x_1**2 - 23.974852*x_1 + 29.007851)),\n",
       "             ('A_133',\n",
       "              Eq(A_133, 0.237096*x_1**3 - 3.535062*x_1**2 + 16.368376*x_1 - 20.539908)),\n",
       "             ('A_134',\n",
       "              Eq(A_134, -0.067119*x_1**3 + 0.966362*x_1**2 - 4.407535*x_1 + 5.894703)),\n",
       "             ('B_Eprime',\n",
       "              Eq(B_Eprime, 4*C_0P*L_PP*d**2*omega*phi_a*r_max**2*rho*(-G*O/d + H_0*f_2 - R**2*f_1/d**2 - 2*R*f_1/d + 1)/(3*pi))),\n",
       "             ('f_1', Eq(f_1, 0.3907*cdotx_1 - 2.5751*x_2 - 5.3769)),\n",
       "             ('f_2', Eq(f_2, 0.00255*x_6**2 + 0.122*x_6 + 0.4794)),\n",
       "             ('C_0P', Eq(C_0P, -4*e**(-0.1877) + 3 + 0.435*e**(-gamma))),\n",
       "             ('H_0', Eq(H_0, B/(2*d))),\n",
       "             ('sigma', Eq(sigma, S/(B*d))),\n",
       "             ('B_n_E', Eq(B_n_E, 4*B_n*C_R*phi_a/(3*pi*x_1**3*x_2))),\n",
       "             ('C_R', Eq(C_R, A_E*exp*(B_2E*x_3**B_3E + B_E))),\n",
       "             ('A_E',\n",
       "              Eq(A_E, 0.0155*cdotx_1 - 79.414*x_2**4 + 215.695*x_2**3 - 215.883*x_2**2 + 93.8758*x_2 - 20.68)),\n",
       "             ('B_E',\n",
       "              Eq(B_E, -0.2*x_1 + 6.368*x_2 - 5.1525*x_4*(0.9717*x_2**2 - 1.50433*x_2 + 0.723*x_4 + 0.9408))),\n",
       "             ('B_2E',\n",
       "              Eq(B_2E, -219.2*x_2**3 + 443.7*x_2**2 - 283.3*x_2 + 1.2*x_4 + 59.6)),\n",
       "             ('B_3E', Eq(B_3E, -15*x_1*x_2 + 11.2*x_1 + 17.9)),\n",
       "             ('B_Nl',\n",
       "              Eq(B_Nl, 60.0*b_BK**2*f*l_BK*omega*r**2*rho/pi**2 + 2.4)),\n",
       "             ('f', Eq(f, 0.3*exp*(160*sigma - 160) + 1)),\n",
       "             ('B_s', Eq(B_s, 4*I*d**2*f**2*omega*phi_a*r**2*rho/(3*pi))),\n",
       "             ('I', Eq(I, Integral(C_P*l_BK, s)/d**2)),\n",
       "             ('C_Pface', Eq(C_Pface, 1.2)),\n",
       "             ('C_Pback', Eq(C_Pback, -22.5*b_BK/(f*phi_a*pi*r) - 1.2)),\n",
       "             ('x_7', Eq(x_7, b_BK/B)),\n",
       "             ('x_8', Eq(x_8, l_BK/L_PP)),\n",
       "             ('B_n_BK', Eq(B_n_BK, A_BK*exp*x_5*(B_B2K*x_3**B_B3K + B_BK))),\n",
       "             ('A_BK', Eq(A_BK, f_1*f_2*f_3)),\n",
       "             ('f_3',\n",
       "              Eq(f_3, 4.3944*x_7**2 - 0.0733*x_7*x_8**2 - 0.01185*x_7 + 0.00189*x_8)),\n",
       "             ('B_BK',\n",
       "              Eq(B_BK, 0.3*x_1 + 0.00125*x_6**2 - 0.0425*x_6 + 5*x_7 - 0.2*x_8 - 1.86)),\n",
       "             ('B_B2K',\n",
       "              Eq(B_B2K, -0.1*x_1 + 1.2*x_2 - 0.0657*x_4**2 + 0.0586*x_4 - 15*x_7 + 1.6164)),\n",
       "             ('B_B3K', Eq(B_B3K, 2.5*x_4 + 15.75))])"
      ]
     },
     "execution_count": 17,
     "metadata": {},
     "output_type": "execute_result"
    }
   ],
   "source": [
    "equations._asdict()"
   ]
  },
  {
   "cell_type": "code",
   "execution_count": 28,
   "metadata": {},
   "outputs": [
    {
     "data": {
      "text/plain": [
       "{A_BK: f_1*f_2*f_3, B_n_BK: exp*f_1*f_2*f_3*x_5*(B_B2K*x_3**B_B3K + B_BK)}"
      ]
     },
     "execution_count": 28,
     "metadata": {},
     "output_type": "execute_result"
    }
   ],
   "source": [
    "equations_ = [equation for equation in equations._asdict().values()]\n",
    "\n",
    "sp.solve(equations_,\n",
    "         symbols.B_n_BK,\n",
    "         symbols.A_BK,\n",
    ")"
   ]
  },
  {
   "cell_type": "code",
   "execution_count": null,
   "metadata": {},
   "outputs": [],
   "source": []
  }
 ],
 "metadata": {
  "kernelspec": {
   "display_name": "Python 3",
   "language": "python",
   "name": "python3"
  },
  "language_info": {
   "codemirror_mode": {
    "name": "ipython",
    "version": 3
   },
   "file_extension": ".py",
   "mimetype": "text/x-python",
   "name": "python",
   "nbconvert_exporter": "python",
   "pygments_lexer": "ipython3",
   "version": "3.5.4"
  },
  "pycharm": {
   "stem_cell": {
    "cell_type": "raw",
    "metadata": {
     "collapsed": false
    },
    "source": []
   }
  }
 },
 "nbformat": 4,
 "nbformat_minor": 1
}
