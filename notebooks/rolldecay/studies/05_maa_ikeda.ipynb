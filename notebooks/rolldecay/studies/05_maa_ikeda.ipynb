{
 "cells": [
  {
   "cell_type": "markdown",
   "metadata": {
    "pycharm": {
     "name": "#%% md\n"
    }
   },
   "source": [
    "## Exploring the Ikeda method\n",
    "Reimplementing the Matlab code (From Carl-Johan) to python.\n",
    "Calculation of roll damping for **S175** hull."
   ]
  },
  {
   "cell_type": "code",
   "execution_count": null,
   "metadata": {
    "pycharm": {
     "is_executing": false,
     "name": "#%%\n"
    }
   },
   "outputs": [],
   "source": [
    "%matplotlib inline\n",
    "%load_ext autoreload\n",
    "%autoreload 2"
   ]
  },
  {
   "cell_type": "code",
   "execution_count": null,
   "metadata": {
    "pycharm": {
     "is_executing": false,
     "name": "#%%\n"
    }
   },
   "outputs": [],
   "source": [
    "import numpy as np\n",
    "from numpy import sqrt,exp,tanh\n",
    "\n",
    "import pandas as pd\n",
    "import matplotlib.pyplot as plt\n",
    "\n",
    "import ikeda"
   ]
  },
  {
   "cell_type": "code",
   "execution_count": null,
   "metadata": {
    "pycharm": {
     "is_executing": false,
     "name": "#%%\n"
    }
   },
   "outputs": [],
   "source": [
    "visc =   1.15*10**-6  # [m2/s], kinematic viscosity \n",
    "g    =   9.81\n",
    "ra   = 1025          # density of water\n",
    "\n",
    "Cb   =   0.58        # Block coeff\n",
    "L    =   175         # Length   \n",
    "vcg  =   9.52        # roll axis (vertical centre of gravity) [m]\n",
    "B    =   25.40       # Breadth of hull [m]\n",
    "d    =   9.5         # Draught of hull [m] \n",
    "A    =   0.95*B*d    # Area of cross section of hull [m2] \n",
    "bBK  =   0.4         # breadth of Bilge keel [m] !!(=height???)\n",
    "R    =   3           # Bilge Radis\n",
    "\n",
    "\n",
    "OG = vcg-d           # distance from roll axis to still water level\n",
    "Ho = B/(2*d)         # half breadth to draft ratio\n",
    "\n",
    "LBK  = L/4           # Approx\n",
    "disp = L*B*d*Cb      # Displacement  \n",
    "ND_factor = sqrt(B/(2*g))/(ra*disp*(B**2))   # Nondimensiolizing factor of B44"
   ]
  },
  {
   "cell_type": "code",
   "execution_count": null,
   "metadata": {
    "pycharm": {
     "name": "#%%\n"
    }
   },
   "outputs": [],
   "source": [
    "V = 0 ## Ship speed\n",
    "T=20\n",
    "wE = 2*np.pi*1/T # circular frequency"
   ]
  },
  {
   "cell_type": "markdown",
   "metadata": {
    "pycharm": {
     "name": "#%% md\n"
    }
   },
   "source": [
    "## components\n",
    "### wave"
   ]
  },
  {
   "cell_type": "code",
   "execution_count": null,
   "metadata": {
    "pycharm": {
     "name": "#%%\n"
    }
   },
   "outputs": [],
   "source": [
    "bw44 = ikeda.Bw_S175(w=wE,V=V,d=d)\n",
    "\n"
   ]
  },
  {
   "cell_type": "code",
   "execution_count": null,
   "metadata": {},
   "outputs": [],
   "source": [
    "bw44"
   ]
  },
  {
   "cell_type": "code",
   "execution_count": null,
   "metadata": {},
   "outputs": [],
   "source": []
  }
 ],
 "metadata": {
  "kernelspec": {
   "display_name": "Python 3",
   "language": "python",
   "name": "python3"
  },
  "language_info": {
   "codemirror_mode": {
    "name": "ipython",
    "version": 3
   },
   "file_extension": ".py",
   "mimetype": "text/x-python",
   "name": "python",
   "nbconvert_exporter": "python",
   "pygments_lexer": "ipython3",
   "version": "3.5.4"
  },
  "pycharm": {
   "stem_cell": {
    "cell_type": "raw",
    "metadata": {
     "collapsed": false
    },
    "source": []
   }
  }
 },
 "nbformat": 4,
 "nbformat_minor": 1
}
