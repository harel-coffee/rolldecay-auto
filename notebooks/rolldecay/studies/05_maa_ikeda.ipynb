{
 "cells": [
  {
   "cell_type": "markdown",
   "metadata": {
    "pycharm": {
     "name": "#%% md\n"
    }
   },
   "source": [
    "## Exploring the Ikeda method\n",
    "Reimplementing the Matlab code (From Carl-Johan) to python.\n",
    "Calculation of roll damping for **S175** hull."
   ]
  },
  {
   "cell_type": "code",
   "execution_count": null,
   "metadata": {},
   "outputs": [],
   "source": [
    "import matplotlib\n",
    "import matplotlib.pyplot as plt\n",
    "#plt.style.use('paper')\n",
    "#plt.style.use('presentation')\n",
    "\n",
    "#from pylab import rcParams\n",
    "#rcParams['figure.figsize'] = 15, 5\n",
    "#matplotlib.matplotlib_fname()"
   ]
  },
  {
   "cell_type": "code",
   "execution_count": null,
   "metadata": {},
   "outputs": [],
   "source": [
    "matplotlib.get_configdir()"
   ]
  },
  {
   "cell_type": "code",
   "execution_count": null,
   "metadata": {},
   "outputs": [],
   "source": [
    "#matplotlibrc_path='../../../rolldecay/matplotlibrc'\n",
    "#rcParams.update(matplotlib.rc_params_from_file(matplotlibrc_path))"
   ]
  },
  {
   "cell_type": "code",
   "execution_count": null,
   "metadata": {
    "pycharm": {
     "is_executing": false,
     "name": "#%%\n"
    }
   },
   "outputs": [],
   "source": [
    "%matplotlib notebook\n",
    "#%matplotlib inline\n",
    "\n",
    "%load_ext autoreload\n",
    "%autoreload 2"
   ]
  },
  {
   "cell_type": "code",
   "execution_count": null,
   "metadata": {},
   "outputs": [],
   "source": [
    "#from jupyterthemes import jtplot\n",
    "#jtplot.style(theme='onedork', context='notebook', ticks=True, grid=False)"
   ]
  },
  {
   "cell_type": "code",
   "execution_count": null,
   "metadata": {
    "pycharm": {
     "is_executing": false,
     "name": "#%%\n"
    }
   },
   "outputs": [],
   "source": [
    "import numpy as np\n",
    "from numpy import sqrt,exp,tanh, pi\n",
    "\n",
    "import pandas as pd\n",
    "\n",
    "import rolldecayestimators.ikeda_speed as ikeda\n",
    "from rolldecay import paper_writing"
   ]
  },
  {
   "cell_type": "code",
   "execution_count": null,
   "metadata": {},
   "outputs": [],
   "source": [
    "#paper_writing.setup(rcParams)"
   ]
  },
  {
   "cell_type": "markdown",
   "metadata": {},
   "source": [
    "## S175"
   ]
  },
  {
   "cell_type": "code",
   "execution_count": null,
   "metadata": {
    "pycharm": {
     "is_executing": false,
     "name": "#%%\n"
    }
   },
   "outputs": [],
   "source": [
    "visc =   1.15*10**-6  # [m2/s], kinematic viscosity \n",
    "g    =   9.81\n",
    "ra   = 1025          # density of water\n",
    "\n",
    "Cb   =   0.58        # Block coeff\n",
    "L    =   175         # Length   \n",
    "vcg  =   9.52        # roll axis (vertical centre of gravity) [m]\n",
    "B    =   25.40       # Breadth of hull [m]\n",
    "d    =   9.5         # Draught of hull [m] \n",
    "A    =   0.95*B*d    # Area of cross section of hull [m2] \n",
    "bBK  =   0.4         # breadth of Bilge keel [m] !!(=height???)\n",
    "R    =   3           # Bilge Radis\n",
    "\n",
    "\n",
    "OG = vcg-d           # distance from roll axis to still water level\n",
    "Ho = B/(2*d)         # half breadth to draft ratio\n",
    "\n",
    "LBK  = L/4           # Approx\n",
    "disp = L*B*d*Cb      # Displacement  \n",
    "ND_factor = sqrt(B/(2*g))/(ra*disp*(B**2))   # Nondimensiolizing factor of B44\n",
    "\n",
    "T = 20\n",
    "wE = 2 * np.pi * 1 / T  # circular frequency\n",
    "fi_a = 5 * pi / 180;  # roll amplitude !!rad??"
   ]
  },
  {
   "cell_type": "code",
   "execution_count": null,
   "metadata": {},
   "outputs": [],
   "source": [
    "V = np.arange(0,17+1)\n",
    "\n",
    "Bw0 = ikeda.Bw0_S175(w=wE)\n",
    "Fn=V/sqrt(g*L)\n",
    "inputs = pd.DataFrame(index=Fn)\n",
    "inputs['V']=V\n",
    "inputs['w']=wE\n",
    "inputs['fi_a']=fi_a\n",
    "inputs['Bw0']=Bw0\n",
    "inputs['d']=d\n",
    "inputs['B']=B\n",
    "inputs['A']=A\n",
    "inputs['bBK']=bBK\n",
    "inputs['R']=R\n",
    "inputs['OG']=OG\n",
    "inputs['Ho']=Ho\n",
    "inputs['ra']=ra\n",
    "inputs['Cb']=Cb\n",
    "inputs['L']=L\n",
    "inputs['LBK']=LBK\n",
    "inputs['visc']=visc\n",
    "inputs['g']=g\n",
    "\n",
    "results = inputs.apply(func=ikeda.calculate_B44_series, axis=1)\n",
    "\n",
    "fig,ax=plt.subplots()\n",
    "result_nondim = results*ND_factor\n",
    "result_nondim.plot.area(y = ['B_BK','B_L','B_W','B_F'], ax=ax);\n",
    "ax.set_title('Roll damping components for S175 with original Ikeda method')\n",
    "ax.set_ylabel('Nondimensional damping')\n",
    "ax.set_xlabel('$F_n$ [-]');"
   ]
  },
  {
   "cell_type": "markdown",
   "metadata": {},
   "source": [
    "## Compare with Simplified Ikeda method"
   ]
  },
  {
   "cell_type": "code",
   "execution_count": null,
   "metadata": {},
   "outputs": [],
   "source": [
    "result_nondim.iloc[0]"
   ]
  },
  {
   "cell_type": "code",
   "execution_count": null,
   "metadata": {},
   "outputs": [],
   "source": [
    "from rolldecayestimators import simplified_ikeda"
   ]
  },
  {
   "cell_type": "code",
   "execution_count": null,
   "metadata": {},
   "outputs": [],
   "source": [
    "LPP = L\n",
    "Beam = B\n",
    "CB = Cb\n",
    "CMID = A / (B * d)\n",
    "OG = OG\n",
    "PHI = np.rad2deg(fi_a)\n",
    "lBK=LBK\n",
    "bBK = bBK\n",
    "OMEGA = wE\n",
    "DRAFT = d\n",
    "B44HAT, BFHAT, BWHAT, BEHAT, BBKHAT, BLHAT = simplified_ikeda.calculate_roll_damping(LPP,Beam,CB,CMID,OG,PHI,\n",
    "                        lBK,bBK,OMEGA,DRAFT,KVC=visc)\n",
    "\n",
    "result_simplified = pd.Series(name=0)\n",
    "result_simplified['B_44']=B44HAT\n",
    "result_simplified['B_W']=BWHAT\n",
    "result_simplified['B_F']=BFHAT\n",
    "result_simplified['B_BK']=BBKHAT\n",
    "result_simplified['B_E']=BEHAT\n",
    "result_simplified['B_L']=0\n",
    "result_simplified['method']='simplified'\n"
   ]
  },
  {
   "cell_type": "code",
   "execution_count": null,
   "metadata": {},
   "outputs": [],
   "source": [
    "df_compare = pd.DataFrame()\n",
    "s = result_nondim.iloc[0].copy()\n",
    "s['method']='ikeda'\n",
    "df_compare = df_compare.append(s, ignore_index=True)\n",
    "df_compare = df_compare.append(result_simplified, ignore_index=True)\n"
   ]
  },
  {
   "cell_type": "code",
   "execution_count": null,
   "metadata": {},
   "outputs": [],
   "source": [
    "fig,ax=plt.subplots()\n",
    "df_compare.pivot_table(index='method').transpose().plot(kind='bar', ax=ax)\n",
    "\n"
   ]
  },
  {
   "cell_type": "markdown",
   "metadata": {},
   "source": [
    "## Faust"
   ]
  },
  {
   "cell_type": "code",
   "execution_count": null,
   "metadata": {},
   "outputs": [],
   "source": [
    "ScaleF =  1 #%/29.565;                  # Scale Factor [-]\n",
    "visc =   1.15*10**-6;                  # [m2/s], kinematic viscosity\n",
    "Cb   =   0.61;                        # Block coeff\n",
    "L    =   220*ScaleF;                  # Length\n",
    "vcg  =   14.4*ScaleF;                 # roll axis (vertical centre of gravity) [m]\n",
    "vcg  =   14.9*ScaleF;                 # roll axis (vertical centre of gravity) [m]\n",
    "B    =   32.26*ScaleF;                # Breadth of hull [m]\n",
    "d    =   9.5*ScaleF;                  # Draught of hull [m]\n",
    "A    =   0.93*B*d;                    # Area of cross section of hull [m2]\n",
    "bBK  =   0.4*ScaleF;                  # breadth of Bilge keel [m] !!(=height???)\n",
    "R    =   5*ScaleF;                    # Bilge Radis\n",
    "g    =   9.81;\n",
    "C_mid=   0.93;\n",
    "\n",
    "OG = -1*(vcg-d)#*0.8;                    # distance from roll axis to still water level\n",
    "Ho = B/(2*d);                  # half breadth to draft ratio\n",
    "ra   = 1025;                   # density of water\n",
    "\n",
    "#locals\n",
    "LBK  = L/4;                    # Approx\n",
    "disp = L*B*d*Cb;               # Displacement\n",
    "\n",
    "# variables!!\n",
    "T=27.6*sqrt(ScaleF); \n",
    "wE   = 2*pi*1/T;        # circular frequency\n",
    "fi_a =   10*pi/180;            # roll amplitude !!rad??\n",
    "\n",
    "\n",
    "ND_factorB = sqrt(B/(2*g))/(ra*disp*(B**2));   # Nondimensiolizing factor of B44\n",
    "#ND_factor = wE/(2*ra*disp*g*(16*ScaleF-vcg));   # Nondimensiolizing factor of B44"
   ]
  },
  {
   "cell_type": "code",
   "execution_count": null,
   "metadata": {},
   "outputs": [],
   "source": [
    "V = np.arange(0,10+1)\n",
    "\n",
    "Bw0 = ikeda.Bw0_faust(w=wE)\n",
    "Fn=V/sqrt(g*L)\n",
    "inputs = pd.DataFrame(index=Fn)\n",
    "inputs['V']=V\n",
    "inputs['w']=wE\n",
    "inputs['fi_a']=fi_a\n",
    "inputs['Bw0']=Bw0\n",
    "inputs['d']=d\n",
    "inputs['B']=B\n",
    "inputs['A']=A\n",
    "inputs['bBK']=bBK\n",
    "inputs['R']=R\n",
    "inputs['OG']=OG\n",
    "inputs['Ho']=Ho\n",
    "inputs['ra']=ra\n",
    "inputs['Cb']=Cb\n",
    "inputs['L']=L\n",
    "inputs['LBK']=LBK\n",
    "inputs['visc']=visc\n",
    "inputs['g']=g\n",
    "\n",
    "results = inputs.apply(func=ikeda.calculate_B44_series, axis=1)\n",
    "\n",
    "#plt.rc('text', usetex=True)  \n",
    "#plt.rc('font', family='serif')\n",
    "#plt.rc('xtick', labelsize=8)\n",
    "#plt.rc('ytick', labelsize=8)\n",
    "#plt.rc('axes', labelsize=8)\n",
    "\n",
    "fig,ax=plt.subplots()\n",
    "result_nondim = results*ND_factorB\n",
    "result_nondim.plot.area(y = ['B_BK','B_L','B_W','B_F'], ax=ax);\n",
    "ax.set_title('Roll damping components for Faust with original Ikeda method')\n",
    "ax.set_ylabel('Nondimensional damping')\n",
    "ax.set_xlabel('$F_n$ [-]');\n",
    "#fig.set_size_inches(4, 3)\n",
    "paper_writing.save_fig(fig=fig, name='ikeda_faust')"
   ]
  },
  {
   "cell_type": "code",
   "execution_count": null,
   "metadata": {},
   "outputs": [],
   "source": [
    "LPP = L\n",
    "Beam = B\n",
    "CB = Cb\n",
    "CMID = A / (B * d)\n",
    "OG = OG\n",
    "PHI = np.rad2deg(fi_a)\n",
    "lBK=LBK\n",
    "bBK = bBK\n",
    "OMEGA = wE\n",
    "DRAFT = d\n",
    "B44HAT, BFHAT, BWHAT, BEHAT, BBKHAT, BLHAT = simplified_ikeda.calculate_roll_damping(LPP,Beam,CB,CMID,OG,PHI,\n",
    "                        lBK,bBK,OMEGA,DRAFT,KVC=visc)\n",
    "\n",
    "result_simplified = pd.Series(name=0)\n",
    "result_simplified['B_44']=B44HAT\n",
    "result_simplified['B_W']=BWHAT\n",
    "result_simplified['B_F']=BFHAT\n",
    "result_simplified['B_BK']=BBKHAT\n",
    "result_simplified['B_L']=0\n",
    "result_simplified['B_E']=BEHAT\n",
    "result_simplified['method']='simplified'"
   ]
  },
  {
   "cell_type": "code",
   "execution_count": null,
   "metadata": {},
   "outputs": [],
   "source": [
    "df_compare = pd.DataFrame()\n",
    "s = result_nondim.iloc[0].copy()\n",
    "s['method']='ikeda'\n",
    "df_compare = df_compare.append(s, ignore_index=True)\n",
    "df_compare = df_compare.append(result_simplified, ignore_index=True)"
   ]
  },
  {
   "cell_type": "code",
   "execution_count": null,
   "metadata": {},
   "outputs": [],
   "source": [
    "fig,ax=plt.subplots()\n",
    "df_compare.pivot_table(index='method').transpose().plot(kind='bar', ax=ax)"
   ]
  },
  {
   "cell_type": "markdown",
   "metadata": {},
   "source": [
    "## Adding Simplified method speed dependancy"
   ]
  },
  {
   "cell_type": "code",
   "execution_count": null,
   "metadata": {},
   "outputs": [],
   "source": [
    "V = np.arange(0,10+1)\n",
    "Fn=V/sqrt(g*L)\n",
    "result_simplified = pd.DataFrame(index=Fn)\n",
    "result_simplified['B_44']=B44HAT\n",
    "result_simplified['B_W']=BWHAT\n",
    "result_simplified['B_F']=BFHAT\n",
    "result_simplified['B_BK']=BBKHAT\n",
    "result_simplified['B_L']=result_nondim['B_L']\n",
    "result_simplified['B_E']=BEHAT\n",
    "result_simplified['method']='simplified'\n",
    "result_simplified['B_44']+=result_simplified['B_L']"
   ]
  },
  {
   "cell_type": "code",
   "execution_count": null,
   "metadata": {},
   "outputs": [],
   "source": [
    "fig,axes=plt.subplots(nrows=2)\n",
    "#fig.set_size_inches(7,5)\n",
    "ax=axes[0]\n",
    "result_simplified.plot.area(y = ['B_BK','B_L','B_W','B_F','B_E'], ax=ax);\n",
    "ax.set_title('Roll damping components for Faust with Simplified Ikeda method')\n",
    "ax.set_ylabel('$\\hat{B_{44}}$')\n",
    "ax.set_ylim(0,0.01)\n",
    "\n",
    "ax=axes[1]\n",
    "result_nondim.plot.area(y = ['B_BK','B_L','B_W','B_F'], ax=ax);\n",
    "ax.set_title('Roll damping components for Faust with original Ikeda method')\n",
    "ax.set_ylabel('$\\hat{B_{44}}$')\n",
    "ax.set_xlabel('$F_n$ [-]');\n",
    "plt.tight_layout()\n",
    "ax.get_legend().remove()\n",
    "ax.set_ylim(0,0.01)\n",
    "paper_writing.save_fig(fig=fig, name='ikeda_vs_simplified')\n",
    "\n"
   ]
  },
  {
   "cell_type": "code",
   "execution_count": null,
   "metadata": {},
   "outputs": [],
   "source": [
    "def simplified_speed(row):\n",
    "    \n",
    "    V=row['V']\n",
    "    B44HAT, BFHAT, BWHAT, BEHAT, BBKHAT, BLHAT = simplified_ikeda.calculate_roll_damping(LPP,Beam,CB,CMID,OG,PHI,\n",
    "                            lBK,bBK,OMEGA,DRAFT,V=V, KVC=visc)\n",
    "    \n",
    "    result_simplified = pd.Series(name=0)\n",
    "    result_simplified['B_44']=B44HAT\n",
    "    result_simplified['B_W']=BWHAT\n",
    "    result_simplified['B_F']=BFHAT\n",
    "    result_simplified['B_BK']=BBKHAT\n",
    "    result_simplified['B_L']=BLHAT\n",
    "    result_simplified['B_E']=BEHAT\n",
    "    result_simplified['method']='simplified'\n",
    "    return result_simplified"
   ]
  },
  {
   "cell_type": "code",
   "execution_count": null,
   "metadata": {},
   "outputs": [],
   "source": [
    "result_simplified2 = inputs.apply(func=simplified_speed,axis=1)\n",
    "fig,ax=plt.subplots()\n",
    "result_simplified2.plot.area(y = ['B_BK','B_L','B_W','B_F','B_E'], ax=ax);\n",
    "ax.set_title('Roll damping components for Faust with Simplified Ikeda method')\n",
    "ax.set_ylabel('Nondimensional damping')\n",
    "ax.set_xlabel('$F_n$ [-]');"
   ]
  }
 ],
 "metadata": {
  "kernelspec": {
   "display_name": "Python 3",
   "language": "python",
   "name": "python3"
  },
  "language_info": {
   "codemirror_mode": {
    "name": "ipython",
    "version": 3
   },
   "file_extension": ".py",
   "mimetype": "text/x-python",
   "name": "python",
   "nbconvert_exporter": "python",
   "pygments_lexer": "ipython3",
   "version": "3.5.4"
  },
  "pycharm": {
   "stem_cell": {
    "cell_type": "raw",
    "metadata": {
     "collapsed": false
    },
    "source": []
   }
  }
 },
 "nbformat": 4,
 "nbformat_minor": 4
}
