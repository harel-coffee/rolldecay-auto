{
 "cells": [
  {
   "cell_type": "markdown",
   "metadata": {},
   "source": [
    "# Summary\n",
    "This notebook present summary/conclusions from the work conducted as referred to the [Logbook](logbook.ipynb). "
   ]
  },
  {
   "cell_type": "code",
   "execution_count": null,
   "metadata": {},
   "outputs": [],
   "source": [
    "#%load ../imports.py"
   ]
  },
  {
   "cell_type": "markdown",
   "metadata": {},
   "source": [
    "* [B_W0 speed dependency](logbook.ipynb#BW0is1) is not fixed.\n",
    "* Original Ikeda for [one ship](06_ikeda/01.01_ikeda_one_ship.ipynb#ikeda_r_ikeda)\n",
    "* Found ship section definition for:\n",
    "    * 14 ships \n",
    "    * with a total of 20 loading conditions \n",
    "    * corresponding to 46 roll decay tests\n",
    "* Comparison: [Ikeda-SI-model test](06_ikeda/01.04_ikeda_many.ipynb#model_si_ikeda) --> **Ikeda is pretty good!**\n",
    "* Investigating the SI error using model test and Ikeda ([residuals](06_ikeda/01.04_ikeda_many.ipynb#residuals)).\n",
    "* Others:\n",
    "   * There is a [b-coefficient](logbook.ipynb#b-coefficient) which could be used for tuning the model? (Yes you could do this using the Ikeda results!)\n",
    "   * Ikeda has a empirical formula to estimate bilge keel radius: [ikeda-bilge-radius](logbook.ipynb#ikeda-bilge-radius). Can ML improve it?\n",
    "   * The bilge keel radius is important: [R-dependency](06_ikeda/01.01_ikeda_one_ship.ipynb#R_dependency).\n",
    "   * Looking at SI ([07.3_si_sensitivity2.ipynb](04_simplified_ikeda/07.3_si_sensitivity2.ipynb))."
   ]
  },
  {
   "cell_type": "markdown",
   "metadata": {},
   "source": [
    "## Conclusions"
   ]
  },
  {
   "cell_type": "markdown",
   "metadata": {},
   "source": [
    "* Ikeda gives significantly better results than SI (at least outside its limits)"
   ]
  },
  {
   "cell_type": "markdown",
   "metadata": {},
   "source": [
    "I have now completed some calculations with the original Ikeda method (using strip calculations), and it gives significantly better results than the simplified Ikeda method (SI). My overall conclusion is therefore (still) that SI does not work outside its limits, but on top of that I believe that we can now also say that this is not due to problems with the original Ikeda method (which seems to be working fine) but rather from extrapolation errors of the parametrized hull shape regression that build the SI-method. Getting the SI-method to work for modern ships would therefore be a matter of rerunning the parameterization similarly to Kawahara et al. for more “modern” ship main dimensions. \n",
    "\n",
    "But that task will of course be left for future work (I also got the idea that this could maybe be a suitable **master thesis project**, what do you think?)"
   ]
  },
  {
   "cell_type": "code",
   "execution_count": null,
   "metadata": {},
   "outputs": [],
   "source": []
  }
 ],
 "metadata": {
  "kernelspec": {
   "display_name": "Python 3",
   "language": "python",
   "name": "python3"
  },
  "language_info": {
   "codemirror_mode": {
    "name": "ipython",
    "version": 3
   },
   "file_extension": ".py",
   "mimetype": "text/x-python",
   "name": "python",
   "nbconvert_exporter": "python",
   "pygments_lexer": "ipython3",
   "version": "3.6.8"
  }
 },
 "nbformat": 4,
 "nbformat_minor": 4
}
